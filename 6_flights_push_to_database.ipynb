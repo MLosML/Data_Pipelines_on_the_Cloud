{
 "cells": [
  {
   "cell_type": "code",
   "execution_count": 6,
   "metadata": {
    "id": "uHXvbJIFanda"
   },
   "outputs": [],
   "source": [
    "import pandas as pd\n",
    "from datetime import datetime, timedelta\n",
    "import requests\n",
    "from pytz import timezone\n",
    "from keys import AeroDatabox\n",
    "from IPython.display import JSON"
   ]
  },
  {
   "cell_type": "markdown",
   "metadata": {
    "id": "6KMKg6FebvDc"
   },
   "source": [
    "# Making the API call and viewing the json"
   ]
  },
  {
   "cell_type": "code",
   "execution_count": 8,
   "metadata": {
    "id": "iLppLjYi-Zs9",
    "outputId": "0b58ad9f-b9ee-44fa-9cbd-fb6385f889ce",
    "scrolled": true,
    "tags": []
   },
   "outputs": [
    {
     "name": "stdout",
     "output_type": "stream",
     "text": [
      "{'arrivals': [{'departure': {'airport': {'icao': 'LTBJ', 'iata': 'ADB', 'name': 'İzmir', 'timeZone': 'Europe/Istanbul'}, 'scheduledTime': {'utc': '2024-10-09 01:25Z', 'local': '2024-10-09 04:25+03:00'}, 'revisedTime': {'utc': '2024-10-09 01:36Z', 'local': '2024-10-09 04:36+03:00'}, 'runwayTime': {'utc': '2024-10-09 01:38Z', 'local': '2024-10-09 04:38+03:00'}, 'terminal': 'I', 'gate': '28', 'quality': ['Basic', 'Live']}, 'arrival': {'scheduledTime': {'utc': '2024-10-09 04:30Z', 'local': '2024-10-09 06:30+02:00'}, 'revisedTime': {'utc': '2024-10-09 04:05Z', 'local': '2024-10-09 06:05+02:00'}, 'runwayTime': {'utc': '2024-10-09 04:12Z', 'local': '2024-10-09 06:12+02:00'}, 'terminal': '1', 'gate': 'X06', 'baggageBelt': 'A3', 'quality': ['Basic', 'Live']}, 'number': 'XQ 966', 'callSign': 'SXS5D', 'status': 'Arrived', 'codeshareStatus': 'IsOperator', 'isCargo': False, 'aircraft': {'reg': 'TC-SON', 'modeS': '4BCDEE', 'model': 'Boeing 737-800'}, 'airline': {'name': 'Sun Express', 'iata': 'XQ', 'icao': 'SXS'}}, {'departure': {'airport': {'icao': 'LTFH', 'iata': 'SZF', 'name': 'Samsun', 'timeZone': 'Europe/Istanbul'}, 'scheduledTime': {'utc': '2024-10-09 01:10Z', 'local': '2024-10-09 04:10+03:00'}, 'quality': ['Basic']}, 'arrival': {'scheduledTime': {'utc': '2024-10-09 04:45Z', 'local': '2024-10-09 06:45+02:00'}, 'revisedTime': {'utc': '2024-10-09 04:42Z', 'local': '2024-10-09 06:42+02:00'}, 'runwayTime': {'utc': '2024-10-09 04:46Z', 'local': '2024-10-09 06:46+02:00'}, 'terminal': '1', 'gate': 'N01', 'baggageBelt': 'B4', 'quality': ['Basic', 'Live']}, 'number': 'XQ 1768', 'callSign': 'SXS6JD', 'status': 'Arrived', 'codeshareStatus': 'IsOperator', 'isCargo': False, 'aircraft': {'reg': 'TC-SPY', 'modeS': '4BCE19', 'model': 'Boeing 737-800 (winglets)'}, 'airline': {'name': 'Sun Express', 'iata': 'XQ', 'icao': 'SXS'}}, {'departure': {'airport': {'icao': 'HEGN', 'iata': 'HRG', 'name': 'Hurghada', 'timeZone': 'Africa/Cairo'}, 'quality': []}, 'arrival': {'scheduledTime': {'utc': '2024-10-09 05:00Z', 'local': '2024-10-09 07:00+02:00'}, 'revisedTime': {'utc': '2024-10-09 04:44Z', 'local': '2024-10-09 06:44+02:00'}, 'runwayTime': {'utc': '2024-10-09 04:48Z', 'local': '2024-10-09 06:48+02:00'}, 'terminal': '1', 'gate': 'N01', 'baggageBelt': 'B2', 'quality': ['Basic', 'Live']}, 'number': 'NE 3130', 'callSign': 'NMA3130', 'status': 'Arrived', 'codeshareStatus': 'IsOperator', 'isCargo': False, 'aircraft': {'reg': 'SU-NMR', 'modeS': '01025A', 'model': 'Airbus A320'}, 'airline': {'name': 'Nesma', 'iata': 'NE', 'icao': 'NMA'}}, {'departure': {'airport': {'icao': 'KEWR', 'iata': 'EWR', 'name': 'Newark', 'timeZone': 'America/New_York'}, 'scheduledTime': {'utc': '2024-10-08 21:15Z', 'local': '2024-10-08 17:15-04:00'}, 'revisedTime': {'utc': '2024-10-08 21:28Z', 'local': '2024-10-08 17:28-04:00'}, 'runwayTime': {'utc': '2024-10-08 21:28Z', 'local': '2024-10-08 17:28-04:00'}, 'terminal': 'C', 'runway': '22R', 'quality': ['Basic', 'Live']}, 'arrival': {'scheduledTime': {'utc': '2024-10-09 05:15Z', 'local': '2024-10-09 07:15+02:00'}, 'revisedTime': {'utc': '2024-10-09 04:49Z', 'local': '2024-10-09 06:49+02:00'}, 'terminal': '1', 'gate': 'Y17', 'baggageBelt': 'B1', 'quality': ['Basic', 'Live']}, 'number': 'UA 962', 'callSign': 'UAL962', 'status': 'Arrived', 'codeshareStatus': 'IsOperator', 'isCargo': False, 'aircraft': {'reg': 'N76054', 'modeS': 'AA44AC', 'model': 'Boeing 767'}, 'airline': {'name': 'United', 'iata': 'UA', 'icao': 'UAL'}}, {'departure': {'airport': {'icao': 'LTAI', 'iata': 'AYT', 'name': 'Antalya', 'timeZone': 'Europe/Istanbul'}, 'scheduledTime': {'utc': '2024-10-09 01:55Z', 'local': '2024-10-09 04:55+03:00'}, 'revisedTime': {'utc': '2024-10-09 01:55Z', 'local': '2024-10-09 04:55+03:00'}, 'terminal': '1', 'checkInDesk': '120-122', 'quality': ['Basic', 'Live']}, 'arrival': {'scheduledTime': {'utc': '2024-10-09 05:30Z', 'local': '2024-10-09 07:30+02:00'}, 'revisedTime': {'utc': '2024-10-09 05:01Z', 'local': '2024-10-09 07:01+02:00'}, 'terminal': '1', 'gate': 'N01', 'baggageBelt': 'B4', 'quality': ['Basic', 'Live']}, 'number': 'XQ 668', 'callSign': 'SXS1MT', 'status': 'Arrived', 'codeshareStatus': 'IsOperator', 'isCargo': False, 'aircraft': {'reg': 'TC-SEJ', 'modeS': '4BCCAA', 'model': 'Boeing 737-800'}, 'airline': {'name': 'Sun Express', 'iata': 'XQ', 'icao': 'SXS'}}, {'departure': {'airport': {'icao': 'LOWW', 'iata': 'VIE', 'name': 'Vienna', 'timeZone': 'Europe/Vienna'}, 'scheduledTime': {'utc': '2024-10-09 04:20Z', 'local': '2024-10-09 06:20+02:00'}, 'revisedTime': {'utc': '2024-10-09 04:17Z', 'local': '2024-10-09 06:17+02:00'}, 'terminal': '3', 'checkInDesk': '351-372', 'gate': 'F30', 'quality': ['Basic', 'Live']}, 'arrival': {'scheduledTime': {'utc': '2024-10-09 05:30Z', 'local': '2024-10-09 07:30+02:00'}, 'revisedTime': {'utc': '2024-10-09 05:08Z', 'local': '2024-10-09 07:08+02:00'}, 'terminal': '1', 'gate': 'A01', 'baggageBelt': 'A4', 'quality': ['Basic', 'Live']}, 'number': 'OS 221', 'status': 'Arrived', 'codeshareStatus': 'IsOperator', 'isCargo': False, 'aircraft': {'reg': 'OE-LBO', 'modeS': '44001B', 'model': 'Airbus A320'}, 'airline': {'name': 'Austrian', 'iata': 'OS', 'icao': 'AUA'}}, {'departure': {'airport': {'icao': 'ZBAA', 'iata': 'PEK', 'name': 'Beijing', 'timeZone': 'Asia/Shanghai'}, 'scheduledTime': {'utc': '2024-10-08 18:40Z', 'local': '2024-10-09 02:40+08:00'}, 'revisedTime': {'utc': '2024-10-08 18:39Z', 'local': '2024-10-09 02:39+08:00'}, 'runwayTime': {'utc': '2024-10-08 18:43Z', 'local': '2024-10-09 02:43+08:00'}, 'terminal': '2', 'checkInDesk': 'C11-C15', 'gate': '14', 'quality': ['Basic', 'Live']}, 'arrival': {'scheduledTime': {'utc': '2024-10-09 04:45Z', 'local': '2024-10-09 06:45+02:00'}, 'revisedTime': {'utc': '2024-10-09 05:09Z', 'local': '2024-10-09 07:09+02:00'}, 'runwayTime': {'utc': '2024-10-09 05:17Z', 'local': '2024-10-09 07:17+02:00'}, 'terminal': '1', 'gate': 'X17', 'baggageBelt': 'A1', 'quality': ['Basic', 'Live']}, 'number': 'HU 489', 'callSign': 'CHH489', 'status': 'Arrived', 'codeshareStatus': 'IsOperator', 'isCargo': False, 'aircraft': {'reg': 'B-304K', 'modeS': '781590', 'model': 'Airbus A330'}, 'airline': {'name': 'Hainan', 'iata': 'HU', 'icao': 'CHH'}}, {'departure': {'airport': {'icao': 'KJFK', 'iata': 'JFK', 'name': 'New York', 'timeZone': 'America/New_York'}, 'scheduledTime': {'utc': '2024-10-08 21:35Z', 'local': '2024-10-08 17:35-04:00'}, 'revisedTime': {'utc': '2024-10-08 22:00Z', 'local': '2024-10-08 18:00-04:00'}, 'runwayTime': {'utc': '2024-10-08 22:00Z', 'local': '2024-10-08 18:00-04:00'}, 'terminal': '4', 'runway': '31L', 'quality': ['Basic', 'Live']}, 'arrival': {'scheduledTime': {'utc': '2024-10-09 05:50Z', 'local': '2024-10-09 07:50+02:00'}, 'revisedTime': {'utc': '2024-10-09 05:12Z', 'local': '2024-10-09 07:12+02:00'}, 'runwayTime': {'utc': '2024-10-09 05:20Z', 'local': '2024-10-09 07:20+02:00'}, 'terminal': '1', 'gate': 'Y02', 'baggageBelt': 'B3', 'quality': ['Basic', 'Live']}, 'number': 'DL 92', 'callSign': 'DAL92', 'status': 'Arrived', 'codeshareStatus': 'IsOperator', 'isCargo': False, 'aircraft': {'reg': 'N175DZ', 'modeS': 'A12C23', 'model': 'Boeing 767-300'}, 'airline': {'name': 'Delta Air Lines', 'iata': 'DL', 'icao': 'DAL'}}, {'departure': {'airport': {'icao': 'EDDS', 'iata': 'STR', 'name': 'Stuttgart', 'timeZone': 'Europe/Berlin'}, 'scheduledTime': {'utc': '2024-10-09 04:15Z', 'local': '2024-10-09 06:15+02:00'}, 'revisedTime': {'utc': '2024-10-09 04:15Z', 'local': '2024-10-09 06:15+02:00'}, 'terminal': '3', 'gate': '361', 'quality': ['Basic', 'Live']}, 'arrival': {'scheduledTime': {'utc': '2024-10-09 05:25Z', 'local': '2024-10-09 07:25+02:00'}, 'revisedTime': {'utc': '2024-10-09 05:16Z', 'local': '2024-10-09 07:16+02:00'}, 'terminal': '1', 'gate': 'A02', 'baggageBelt': 'A4', 'quality': ['Basic', 'Live']}, 'number': 'LH 5385', 'status': 'Arrived', 'codeshareStatus': 'IsCodeshared', 'isCargo': False, 'aircraft': {'reg': 'D-AGWX', 'modeS': '3C5EF8', 'model': 'Airbus A319'}, 'airline': {'name': 'Lufthansa', 'iata': 'LH', 'icao': 'DLH'}}, {'departure': {'airport': {'icao': 'EDDS', 'iata': 'STR', 'name': 'Stuttgart', 'timeZone': 'Europe/Berlin'}, 'scheduledTime': {'utc': '2024-10-09 04:15Z', 'local': '2024-10-09 06:15+02:00'}, 'revisedTime': {'utc': '2024-10-09 04:15Z', 'local': '2024-10-09 06:15+02:00'}, 'terminal': '3', 'gate': '361', 'quality': ['Basic', 'Live']}, 'arrival': {'scheduledTime': {'utc': '2024-10-09 05:25Z', 'local': '2024-10-09 07:25+02:00'}, 'revisedTime': {'utc': '2024-10-09 05:16Z', 'local': '2024-10-09 07:16+02:00'}, 'terminal': '1', 'gate': 'A02', 'baggageBelt': 'A4', 'quality': ['Basic', 'Live']}, 'number': 'EW 2002', 'status': 'Arrived', 'codeshareStatus': 'IsOperator', 'isCargo': False, 'aircraft': {'reg': 'D-AGWX', 'modeS': '3C5EF8', 'model': 'Airbus A319'}, 'airline': {'name': 'Eurowings', 'iata': 'EW', 'icao': 'EWG'}}, {'departure': {'airport': {'icao': 'EDDF', 'iata': 'FRA', 'name': 'Frankfurt-am-Main', 'timeZone': 'Europe/Berlin'}, 'scheduledTime': {'utc': '2024-10-09 04:15Z', 'local': '2024-10-09 06:15+02:00'}, 'revisedTime': {'utc': '2024-10-09 04:15Z', 'local': '2024-10-09 06:15+02:00'}, 'runwayTime': {'utc': '2024-10-09 04:30Z', 'local': '2024-10-09 06:30+02:00'}, 'terminal': '1', 'checkInDesk': '259-335', 'gate': 'A14', 'runway': '18', 'quality': ['Basic', 'Live']}, 'arrival': {'scheduledTime': {'utc': '2024-10-09 05:25Z', 'local': '2024-10-09 07:25+02:00'}, 'revisedTime': {'utc': '2024-10-09 05:19Z', 'local': '2024-10-09 07:19+02:00'}, 'runwayTime': {'utc': '2024-10-09 05:21Z', 'local': '2024-10-09 07:21+02:00'}, 'terminal': '1', 'gate': 'B07', 'baggageBelt': 'B1', 'quality': ['Basic', 'Live']}, 'number': 'LH 172', 'callSign': 'DLH172', 'status': 'Arrived', 'codeshareStatus': 'IsOperator', 'isCargo': False, 'aircraft': {'reg': 'D-AIWG', 'modeS': '3C66E7', 'model': 'Airbus A320'}, 'airline': {'name': 'Lufthansa', 'iata': 'LH', 'icao': 'DLH'}}, {'departure': {'airport': {'icao': 'LFPG', 'iata': 'CDG', 'name': 'Paris', 'timeZone': 'Europe/Paris'}, 'scheduledTime': {'utc': '2024-10-09 04:00Z', 'local': '2024-10-09 06:00+02:00'}, 'terminal': '2D', 'quality': ['Basic']}, 'arrival': {'scheduledTime': {'utc': '2024-10-09 05:50Z', 'local': '2024-10-09 07:50+02:00'}, 'revisedTime': {'utc': '2024-10-09 05:20Z', 'local': '2024-10-09 07:20+02:00'}, 'terminal': '1', 'gate': 'A36', 'baggageBelt': 'A2', 'quality': ['Basic', 'Live']}, 'number': 'U2 4631', 'callSign': 'EJU52BJ', 'status': 'Arrived', 'codeshareStatus': 'IsOperator', 'isCargo': False, 'aircraft': {'reg': 'OE-ICT', 'modeS': '4402DB', 'model': 'Airbus A320'}, 'airline': {'name': 'easyJet', 'iata': 'U2', 'icao': 'EZY'}}, {'departure': {'airport': {'icao': 'LFPG', 'iata': 'CDG', 'name': 'Paris', 'timeZone': 'Europe/Paris'}, 'scheduledTime': {'utc': '2024-10-09 04:00Z', 'local': '2024-10-09 06:00+02:00'}, 'terminal': '2D', 'quality': ['Basic']}, 'arrival': {'scheduledTime': {'utc': '2024-10-09 05:50Z', 'local': '2024-10-09 07:50+02:00'}, 'revisedTime': {'utc': '2024-10-09 05:20Z', 'local': '2024-10-09 07:20+02:00'}, 'terminal': '1', 'gate': 'A36', 'baggageBelt': 'A2', 'quality': ['Basic', 'Live']}, 'number': 'EC 4631', 'callSign': 'EJU52BJ', 'status': 'Arrived', 'codeshareStatus': 'IsCodeshared', 'isCargo': False, 'aircraft': {'reg': 'OE-ICT', 'modeS': '4402DB', 'model': 'Airbus A320'}, 'airline': {'name': 'EasyJet Europe', 'iata': 'EC', 'icao': 'EJU'}}, {'departure': {'airport': {'icao': 'EDDS', 'iata': 'STR', 'name': 'Stuttgart', 'timeZone': 'Europe/Berlin'}, 'scheduledTime': {'utc': '2024-10-09 04:12Z', 'local': '2024-10-09 06:12+02:00'}, 'revisedTime': {'utc': '2024-10-09 04:12Z', 'local': '2024-10-09 06:12+02:00'}, 'runwayTime': {'utc': '2024-10-09 04:26Z', 'local': '2024-10-09 06:26+02:00'}, 'runway': '25', 'quality': ['Basic', 'Live']}, 'arrival': {'scheduledTime': {'utc': '2024-10-09 05:21Z', 'local': '2024-10-09 07:21+02:00'}, 'revisedTime': {'utc': '2024-10-09 05:21Z', 'local': '2024-10-09 07:21+02:00'}, 'runwayTime': {'utc': '2024-10-09 05:21Z', 'local': '2024-10-09 07:21+02:00'}, 'quality': ['Basic', 'Live']}, 'number': '4U 2002', 'callSign': 'GWI2002', 'status': 'Arrived', 'codeshareStatus': 'IsOperator', 'isCargo': False, 'aircraft': {'reg': 'D-AGWX', 'modeS': '3C5EF8', 'model': 'Airbus A319'}, 'airline': {'name': 'Germanwings', 'iata': '4U', 'icao': 'GWI'}}, {'departure': {'airport': {'icao': 'OTHH', 'iata': 'DOH', 'name': 'Doha', 'timeZone': 'Asia/Qatar'}, 'scheduledTime': {'utc': '2024-10-08 23:10Z', 'local': '2024-10-09 02:10+03:00'}, 'revisedTime': {'utc': '2024-10-08 23:09Z', 'local': '2024-10-09 02:09+03:00'}, 'runwayTime': {'utc': '2024-10-08 23:32Z', 'local': '2024-10-09 02:32+03:00'}, 'gate': 'C37', 'quality': ['Basic', 'Live']}, 'arrival': {'scheduledTime': {'utc': '2024-10-09 05:20Z', 'local': '2024-10-09 07:20+02:00'}, 'revisedTime': {'utc': '2024-10-09 05:27Z', 'local': '2024-10-09 07:27+02:00'}, 'terminal': '1', 'gate': 'X07', 'baggageBelt': 'A3', 'quality': ['Basic', 'Live']}, 'number': 'QR 79', 'callSign': 'QTR32A', 'status': 'Arrived', 'codeshareStatus': 'IsOperator', 'isCargo': False, 'aircraft': {'reg': 'A7-BHH', 'modeS': '06A2EB', 'model': 'Boeing 787-9'}, 'airline': {'name': 'Qatar Airways', 'iata': 'QR', 'icao': 'QTR'}}, {'departure': {'airport': {'icao': 'EDDK', 'iata': 'CGN', 'name': 'Cologne', 'timeZone': 'Europe/Berlin'}, 'quality': []}, 'arrival': {'scheduledTime': {'utc': '2024-10-09 05:28Z', 'local': '2024-10-09 07:28+02:00'}, 'revisedTime': {'utc': '2024-10-09 05:28Z', 'local': '2024-10-09 07:28+02:00'}, 'quality': ['Basic', 'Live']}, 'number': '4U 5MK', 'callSign': 'GWI5MK', 'status': 'Approaching', 'codeshareStatus': 'IsOperator', 'isCargo': False, 'aircraft': {'reg': 'D-AGWJ', 'modeS': '3C5EEA', 'model': 'Airbus A319'}, 'airline': {'name': 'Germanwings', 'iata': '4U', 'icao': 'GWI'}}, {'departure': {'airport': {'icao': 'EDDK', 'iata': 'CGN', 'name': 'Cologne', 'timeZone': 'Europe/Berlin'}, 'scheduledTime': {'utc': '2024-10-09 04:30Z', 'local': '2024-10-09 06:30+02:00'}, 'terminal': '1', 'quality': ['Basic']}, 'arrival': {'scheduledTime': {'utc': '2024-10-09 05:40Z', 'local': '2024-10-09 07:40+02:00'}, 'revisedTime': {'utc': '2024-10-09 05:35Z', 'local': '2024-10-09 07:35+02:00'}, 'terminal': '1', 'gate': 'A06', 'baggageBelt': 'A4', 'quality': ['Basic', 'Live']}, 'number': 'EW 12', 'status': 'Arrived', 'codeshareStatus': 'IsOperator', 'isCargo': False, 'aircraft': {'reg': 'D-AGWJ', 'modeS': '3C5EEA', 'model': 'Airbus A319'}, 'airline': {'name': 'Eurowings', 'iata': 'EW', 'icao': 'EWG'}}, {'departure': {'airport': {'icao': 'EDDL', 'iata': 'DUS', 'name': 'Düsseldorf', 'timeZone': 'Europe/Berlin'}, 'scheduledTime': {'utc': '2024-10-09 04:45Z', 'local': '2024-10-09 06:45+02:00'}, 'revisedTime': {'utc': '2024-10-09 04:43Z', 'local': '2024-10-09 06:43+02:00'}, 'runwayTime': {'utc': '2024-10-09 04:55Z', 'local': '2024-10-09 06:55+02:00'}, 'terminal': 'B', 'checkInDesk': '151,170', 'gate': 'A25', 'quality': ['Basic', 'Live']}, 'arrival': {'scheduledTime': {'utc': '2024-10-09 05:55Z', 'local': '2024-10-09 07:55+02:00'}, 'revisedTime': {'utc': '2024-10-09 05:43Z', 'local': '2024-10-09 07:43+02:00'}, 'terminal': '1', 'gate': 'B03', 'baggageBelt': 'B2', 'quality': ['Basic', 'Live']}, 'number': 'EW 9048', 'callSign': 'GWI52FP', 'status': 'Arrived', 'codeshareStatus': 'IsOperator', 'isCargo': False, 'aircraft': {'reg': 'D-AENF', 'model': 'Airbus A320 NEO'}, 'airline': {'name': 'Eurowings', 'iata': 'EW', 'icao': 'EWG'}}, {'departure': {'airport': {'icao': 'LIME', 'iata': 'BGY', 'name': 'Bergamo', 'timeZone': 'Europe/Rome'}, 'scheduledTime': {'utc': '2024-10-09 04:10Z', 'local': '2024-10-09 06:10+02:00'}, 'revisedTime': {'utc': '2024-10-09 04:28Z', 'local': '2024-10-09 06:28+02:00'}, 'runwayTime': {'utc': '2024-10-09 04:28Z', 'local': '2024-10-09 06:28+02:00'}, 'quality': ['Basic', 'Live']}, 'arrival': {'scheduledTime': {'utc': '2024-10-09 05:50Z', 'local': '2024-10-09 07:50+02:00'}, 'revisedTime': {'utc': '2024-10-09 05:44Z', 'local': '2024-10-09 07:44+02:00'}, 'terminal': '2', 'gate': 'Z32', 'baggageBelt': 'C3', 'quality': ['Basic', 'Live']}, 'number': 'FR 3312', 'callSign': 'RYR7KH', 'status': 'Arrived', 'codeshareStatus': 'IsOperator', 'isCargo': False, 'aircraft': {'reg': '9H-QEY', 'modeS': '4D251C', 'model': 'Boeing 737-800'}, 'airline': {'name': 'Ryanair', 'iata': 'FR', 'icao': 'RYR'}}, {'departure': {'airport': {'icao': 'EDDR', 'iata': 'SCN', 'name': 'Saarbrücken', 'timeZone': 'Europe/Berlin'}, 'scheduledTime': {'utc': '2024-10-09 04:30Z', 'local': '2024-10-09 06:30+02:00'}, 'quality': ['Basic']}, 'arrival': {'scheduledTime': {'utc': '2024-10-09 06:05Z', 'local': '2024-10-09 08:05+02:00'}, 'revisedTime': {'utc': '2024-10-09 05:47Z', 'local': '2024-10-09 07:47+02:00'}, 'terminal': '2', 'gate': 'Z29', 'baggageBelt': 'C1', 'quality': ['Basic', 'Live']}, 'number': 'DX 121', 'status': 'Arrived', 'codeshareStatus': 'IsOperator', 'isCargo': False, 'aircraft': {'reg': 'OY-JRJ', 'modeS': '45AA4A', 'model': 'ATR 42-300'}, 'airline': {'name': 'Danish Air', 'iata': 'DX', 'icao': 'DTR'}}, {'departure': {'airport': {'icao': 'EDDF', 'iata': 'FRA', 'name': 'Frankfurt-am-Main', 'timeZone': 'Europe/Berlin'}, 'scheduledTime': {'utc': '2024-10-09 04:45Z', 'local': '2024-10-09 06:45+02:00'}, 'revisedTime': {'utc': '2024-10-09 04:45Z', 'local': '2024-10-09 06:45+02:00'}, 'runwayTime': {'utc': '2024-10-09 05:00Z', 'local': '2024-10-09 07:00+02:00'}, 'terminal': '1', 'checkInDesk': '259-335', 'gate': 'A11', 'runway': '18', 'quality': ['Basic', 'Live']}, 'arrival': {'scheduledTime': {'utc': '2024-10-09 05:55Z', 'local': '2024-10-09 07:55+02:00'}, 'revisedTime': {'utc': '2024-10-09 05:50Z', 'local': '2024-10-09 07:50+02:00'}, 'terminal': '1', 'gate': 'A03', 'baggageBelt': 'A1', 'quality': ['Basic', 'Live']}, 'number': 'LH 170', 'callSign': 'DLH1PT', 'status': 'Arrived', 'codeshareStatus': 'IsOperator', 'isCargo': False, 'aircraft': {'reg': 'D-AING', 'modeS': '3C65C7', 'model': 'Airbus A321 (Sharklets)'}, 'airline': {'name': 'Lufthansa', 'iata': 'LH', 'icao': 'DLH'}}, {'departure': {'airport': {'icao': 'ELLX', 'iata': 'LUX', 'name': 'Luxembourg', 'timeZone': 'Europe/Luxembourg'}, 'scheduledTime': {'utc': '2024-10-09 04:35Z', 'local': '2024-10-09 06:35+02:00'}, 'revisedTime': {'utc': '2024-10-09 04:35Z', 'local': '2024-10-09 06:35+02:00'}, 'runwayTime': {'utc': '2024-10-09 04:44Z', 'local': '2024-10-09 06:44+02:00'}, 'terminal': 'A', 'gate': 'A20', 'runway': '24', 'quality': ['Basic', 'Live']}, 'arrival': {'scheduledTime': {'utc': '2024-10-09 06:05Z', 'local': '2024-10-09 08:05+02:00'}, 'revisedTime': {'utc': '2024-10-09 05:53Z', 'local': '2024-10-09 07:53+02:00'}, 'terminal': '1', 'gate': 'S01', 'baggageBelt': 'B3', 'quality': ['Basic', 'Live']}, 'number': 'LG 9471', 'callSign': 'LGL91B', 'status': 'Arrived', 'codeshareStatus': 'IsOperator', 'isCargo': False, 'aircraft': {'reg': 'LX-LQI', 'modeS': '4D00D9', 'model': 'De Havilland Canada DHC-8-400 Dash 8Q'}, 'airline': {'name': 'Luxair', 'iata': 'LG', 'icao': 'LGL'}}, {'departure': {'airport': {'icao': 'EDDM', 'iata': 'MUC', 'name': 'Munich', 'timeZone': 'Europe/Berlin'}, 'scheduledTime': {'utc': '2024-10-09 05:00Z', 'local': '2024-10-09 07:00+02:00'}, 'revisedTime': {'utc': '2024-10-09 05:00Z', 'local': '2024-10-09 07:00+02:00'}, 'terminal': '2', 'quality': ['Basic', 'Live']}, 'arrival': {'scheduledTime': {'utc': '2024-10-09 06:05Z', 'local': '2024-10-09 08:05+02:00'}, 'revisedTime': {'utc': '2024-10-09 05:55Z', 'local': '2024-10-09 07:55+02:00'}, 'runwayTime': {'utc': '2024-10-09 05:55Z', 'local': '2024-10-09 07:55+02:00'}, 'terminal': '1', 'gate': 'S01', 'baggageBelt': 'B2', 'runway': '25R', 'quality': ['Basic', 'Live']}, 'number': 'LH 1928', 'callSign': 'DLH7N', 'status': 'Arrived', 'codeshareStatus': 'IsOperator', 'isCargo': False, 'aircraft': {'reg': 'D-AIUH', 'modeS': '3C66A8', 'model': 'Airbus A320 (Sharklets)'}, 'airline': {'name': 'Lufthansa', 'iata': 'LH', 'icao': 'DLH'}}, {'departure': {'airport': {'icao': 'LOWW', 'iata': 'VIE', 'name': 'Vienna', 'timeZone': 'Europe/Vienna'}, 'scheduledTime': {'utc': '2024-10-09 05:00Z', 'local': '2024-10-09 07:00+02:00'}, 'revisedTime': {'utc': '2024-10-09 05:10Z', 'local': '2024-10-09 07:10+02:00'}, 'runwayTime': {'utc': '2024-10-09 05:10Z', 'local': '2024-10-09 07:10+02:00'}, 'terminal': '3', 'checkInDesk': '351-372', 'gate': 'F09', 'runway': '34', 'quality': ['Basic', 'Live']}, 'arrival': {'scheduledTime': {'utc': '2024-10-09 06:10Z', 'local': '2024-10-09 08:10+02:00'}, 'revisedTime': {'utc': '2024-10-09 05:57Z', 'local': '2024-10-09 07:57+02:00'}, 'terminal': '1', 'gate': 'B06', 'baggageBelt': 'B4', 'quality': ['Basic', 'Live']}, 'number': 'OS 223', 'callSign': 'AUA223', 'status': 'Arrived', 'codeshareStatus': 'IsOperator', 'isCargo': False, 'aircraft': {'reg': 'OE-LBA', 'modeS': '440C8C', 'model': 'Airbus A321'}, 'airline': {'name': 'Austrian', 'iata': 'OS', 'icao': 'AUA'}}, {'departure': {'airport': {'icao': 'LIRP', 'iata': 'PSA', 'name': 'Pisa', 'timeZone': 'Europe/Rome'}, 'scheduledTime': {'utc': '2024-10-09 04:20Z', 'local': '2024-10-09 06:20+02:00'}, 'revisedTime': {'utc': '2024-10-09 04:40Z', 'local': '2024-10-09 06:40+02:00'}, 'runwayTime': {'utc': '2024-10-09 04:40Z', 'local': '2024-10-09 06:40+02:00'}, 'quality': ['Basic', 'Live']}, 'arrival': {'scheduledTime': {'utc': '2024-10-09 06:15Z', 'local': '2024-10-09 08:15+02:00'}, 'revisedTime': {'utc': '2024-10-09 06:02Z', 'local': '2024-10-09 08:02+02:00'}, 'runwayTime': {'utc': '2024-10-09 06:03Z', 'local': '2024-10-09 08:03+02:00'}, 'terminal': '2', 'gate': 'Z36', 'baggageBelt': 'C2', 'runway': '25R', 'quality': ['Basic', 'Live']}, 'number': 'FR 9955', 'callSign': 'RYR295D', 'status': 'Arrived', 'codeshareStatus': 'IsOperator', 'isCargo': False, 'aircraft': {'reg': '9H-VUA', 'modeS': '4D22FF', 'model': 'Boeing 737-800'}, 'airline': {'name': 'Ryanair', 'iata': 'FR', 'icao': 'RYR'}}, {'departure': {'airport': {'icao': 'EFHK', 'iata': 'HEL', 'name': 'Helsinki', 'timeZone': 'Europe/Helsinki'}, 'scheduledTime': {'utc': '2024-10-09 04:05Z', 'local': '2024-10-09 07:05+03:00'}, 'revisedTime': {'utc': '2024-10-09 04:00Z', 'local': '2024-10-09 07:00+03:00'}, 'runwayTime': {'utc': '2024-10-09 04:10Z', 'local': '2024-10-09 07:10+03:00'}, 'terminal': '2', 'checkInDesk': '211', 'gate': '27', 'runway': '04R', 'quality': ['Basic', 'Live']}, 'arrival': {'scheduledTime': {'utc': '2024-10-09 06:05Z', 'local': '2024-10-09 08:05+02:00'}, 'revisedTime': {'utc': '2024-10-09 06:05Z', 'local': '2024-10-09 08:05+02:00'}, 'terminal': '1', 'gate': 'A33', 'baggageBelt': 'A2', 'quality': ['Basic', 'Live']}, 'number': 'AY 1431', 'callSign': 'FIN3AW', 'status': 'Arrived', 'codeshareStatus': 'IsOperator', 'isCargo': False, 'aircraft': {'reg': 'OH-LZE', 'modeS': '461F9A', 'model': 'Airbus A321-200'}, 'airline': {'name': 'Finnair', 'iata': 'AY', 'icao': 'FIN'}}, {'departure': {'airport': {'icao': 'LTAI', 'iata': 'AYT', 'name': 'Antalya', 'timeZone': 'Europe/Istanbul'}, 'scheduledTime': {'utc': '2024-10-09 03:05Z', 'local': '2024-10-09 06:05+03:00'}, 'revisedTime': {'utc': '2024-10-09 03:05Z', 'local': '2024-10-09 06:05+03:00'}, 'terminal': '1', 'checkInDesk': '113-114', 'quality': ['Basic', 'Live']}, 'arrival': {'scheduledTime': {'utc': '2024-10-09 06:35Z', 'local': '2024-10-09 08:35+02:00'}, 'revisedTime': {'utc': '2024-10-09 06:08Z', 'local': '2024-10-09 08:08+02:00'}, 'terminal': '1', 'gate': 'X02', 'baggageBelt': 'A4', 'quality': ['Basic', 'Live']}, 'number': 'PC 5067', 'callSign': 'PGT4WR', 'status': 'Arrived', 'codeshareStatus': 'IsOperator', 'isCargo': False, 'aircraft': {'reg': 'TC-NBO', 'modeS': '4BB84F', 'model': 'Airbus A321 (Sharklets)'}, 'airline': {'name': 'Pegasus', 'iata': 'PC', 'icao': 'PGT'}}, {'departure': {'airport': {'icao': 'EHAM', 'iata': 'AMS', 'name': 'Amsterdam', 'timeZone': 'Europe/Amsterdam'}, 'scheduledTime': {'utc': '2024-10-09 05:00Z', 'local': '2024-10-09 07:00+02:00'}, 'revisedTime': {'utc': '2024-10-09 05:04Z', 'local': '2024-10-09 07:04+02:00'}, 'runwayTime': {'utc': '2024-10-09 05:17Z', 'local': '2024-10-09 07:17+02:00'}, 'terminal': '1', 'checkInDesk': '6-8', 'gate': 'C6', 'runway': '18L', 'quality': ['Basic', 'Live']}, 'arrival': {'scheduledTime': {'utc': '2024-10-09 06:20Z', 'local': '2024-10-09 08:20+02:00'}, 'revisedTime': {'utc': '2024-10-09 06:11Z', 'local': '2024-10-09 08:11+02:00'}, 'terminal': '1', 'gate': 'A32', 'baggageBelt': 'A3', 'quality': ['Basic', 'Live']}, 'number': 'KL 1771', 'callSign': 'KLM1771', 'status': 'Arrived', 'codeshareStatus': 'IsOperator', 'isCargo': False, 'aircraft': {'reg': 'PH-BCK', 'modeS': '485A34', 'model': 'Boeing 737-800'}, 'airline': {'name': 'KLM', 'iata': 'KL', 'icao': 'KLM'}}, {'departure': {'airport': {'icao': 'LDDU', 'iata': 'DBV', 'name': 'Dubrovnik', 'timeZone': 'Europe/Zagreb'}, 'scheduledTime': {'utc': '2024-10-09 04:30Z', 'local': '2024-10-09 06:30+02:00'}, 'quality': ['Basic']}, 'arrival': {'scheduledTime': {'utc': '2024-10-09 06:40Z', 'local': '2024-10-09 08:40+02:00'}, 'revisedTime': {'utc': '2024-10-09 06:15Z', 'local': '2024-10-09 08:15+02:00'}, 'terminal': '2', 'gate': 'Z34', 'baggageBelt': 'C1', 'quality': ['Basic', 'Live']}, 'number': 'FR 5979', 'callSign': 'RYR5W', 'status': 'Arrived', 'codeshareStatus': 'IsOperator', 'isCargo': False, 'aircraft': {'reg': 'SP-RZG', 'modeS': '48C2A6', 'model': 'Boeing 737 MAX 8'}, 'airline': {'name': 'Ryanair', 'iata': 'FR', 'icao': 'RYR'}}, {'departure': {'airport': {'icao': 'LIML', 'iata': 'LIN', 'name': 'Milan', 'timeZone': 'Europe/Rome'}, 'scheduledTime': {'utc': '2024-10-09 05:05Z', 'local': '2024-10-09 07:05+02:00'}, 'revisedTime': {'utc': '2024-10-09 05:05Z', 'local': '2024-10-09 07:05+02:00'}, 'runwayTime': {'utc': '2024-10-09 05:05Z', 'local': '2024-10-09 07:05+02:00'}, 'runway': '36', 'quality': ['Basic', 'Live']}, 'arrival': {'scheduledTime': {'utc': '2024-10-09 06:35Z', 'local': '2024-10-09 08:35+02:00'}, 'revisedTime': {'utc': '2024-10-09 06:17Z', 'local': '2024-10-09 08:17+02:00'}, 'terminal': '1', 'gate': 'A35', 'baggageBelt': 'A3', 'quality': ['Basic', 'Live']}, 'number': 'U2 5068', 'callSign': 'EZY5068', 'status': 'Arrived', 'codeshareStatus': 'IsOperator', 'isCargo': False, 'aircraft': {'reg': 'OE-IVA', 'modeS': '4409C0', 'model': 'Airbus A320'}, 'airline': {'name': 'easyJet', 'iata': 'U2', 'icao': 'EZY'}}, {'departure': {'airport': {'icao': 'LIML', 'iata': 'LIN', 'name': 'Milan', 'timeZone': 'Europe/Rome'}, 'scheduledTime': {'utc': '2024-10-09 05:05Z', 'local': '2024-10-09 07:05+02:00'}, 'revisedTime': {'utc': '2024-10-09 05:05Z', 'local': '2024-10-09 07:05+02:00'}, 'runwayTime': {'utc': '2024-10-09 05:05Z', 'local': '2024-10-09 07:05+02:00'}, 'runway': '36', 'quality': ['Basic', 'Live']}, 'arrival': {'scheduledTime': {'utc': '2024-10-09 06:35Z', 'local': '2024-10-09 08:35+02:00'}, 'revisedTime': {'utc': '2024-10-09 06:17Z', 'local': '2024-10-09 08:17+02:00'}, 'terminal': '1', 'gate': 'A35', 'baggageBelt': 'A3', 'quality': ['Basic', 'Live']}, 'number': 'EC 5068', 'callSign': 'EJU5068', 'status': 'Arrived', 'codeshareStatus': 'IsCodeshared', 'isCargo': False, 'aircraft': {'reg': 'OE-IVA', 'modeS': '4409C0', 'model': 'Airbus A320'}, 'airline': {'name': 'EasyJet Europe', 'iata': 'EC', 'icao': 'EJU'}}, {'departure': {'airport': {'icao': 'UGKO', 'iata': 'KUT', 'name': 'Kutaisi', 'timeZone': 'Asia/Tbilisi'}, 'scheduledTime': {'utc': '2024-10-09 02:20Z', 'local': '2024-10-09 06:20+04:00'}, 'quality': ['Basic']}, 'arrival': {'scheduledTime': {'utc': '2024-10-09 06:30Z', 'local': '2024-10-09 08:30+02:00'}, 'revisedTime': {'utc': '2024-10-09 06:20Z', 'local': '2024-10-09 08:20+02:00'}, 'terminal': '2', 'gate': 'Z42', 'baggageBelt': 'C3', 'quality': ['Basic', 'Live']}, 'number': 'W6 7909', 'status': 'Arrived', 'codeshareStatus': 'IsOperator', 'isCargo': False, 'aircraft': {'reg': '9H-WDF', 'modeS': '4D24B1', 'model': 'Airbus A321 NEO'}, 'airline': {'name': 'Wizz Air', 'iata': 'W6', 'icao': 'WZZ'}}, {'departure': {'airport': {'icao': 'OEJN', 'iata': 'JED', 'name': 'Jeddah', 'timeZone': 'Asia/Riyadh'}, 'scheduledTime': {'utc': '2024-10-09 00:55Z', 'local': '2024-10-09 03:55+03:00'}, 'terminal': '1', 'quality': ['Basic']}, 'arrival': {'scheduledTime': {'utc': '2024-10-09 06:45Z', 'local': '2024-10-09 08:45+02:00'}, 'revisedTime': {'utc': '2024-10-09 06:28Z', 'local': '2024-10-09 08:28+02:00'}, 'runwayTime': {'utc': '2024-10-09 06:37Z', 'local': '2024-10-09 08:37+02:00'}, 'terminal': '1', 'gate': 'X17', 'baggageBelt': 'A2', 'quality': ['Basic', 'Live']}, 'number': 'XY 643', 'callSign': 'KNE643', 'status': 'Arrived', 'codeshareStatus': 'IsOperator', 'isCargo': False, 'aircraft': {'reg': 'HZ-NS78', 'modeS': '711568', 'model': 'Airbus A320 NEO'}, 'airline': {'name': 'flynas', 'iata': 'XY', 'icao': 'KNE'}}, {'departure': {'airport': {'icao': 'LFPO', 'iata': 'ORY', 'name': 'Paris', 'timeZone': 'Europe/Paris'}, 'scheduledTime': {'utc': '2024-10-09 05:10Z', 'local': '2024-10-09 07:10+02:00'}, 'terminal': '1', 'quality': ['Basic']}, 'arrival': {'scheduledTime': {'utc': '2024-10-09 06:50Z', 'local': '2024-10-09 08:50+02:00'}, 'revisedTime': {'utc': '2024-10-09 06:46Z', 'local': '2024-10-09 08:46+02:00'}, 'terminal': '1', 'gate': 'A34', 'baggageBelt': 'A1', 'quality': ['Basic', 'Live']}, 'number': 'U2 4897', 'callSign': 'EJU42RU', 'status': 'Arrived', 'codeshareStatus': 'IsOperator', 'isCargo': False, 'aircraft': {'reg': 'OE-IJQ', 'modeS': '44083C', 'model': 'Airbus A320 (Sharklets)'}, 'airline': {'name': 'easyJet', 'iata': 'U2', 'icao': 'EZY'}}, {'departure': {'airport': {'icao': 'LFPO', 'iata': 'ORY', 'name': 'Paris', 'timeZone': 'Europe/Paris'}, 'scheduledTime': {'utc': '2024-10-09 05:10Z', 'local': '2024-10-09 07:10+02:00'}, 'terminal': '1', 'quality': ['Basic']}, 'arrival': {'scheduledTime': {'utc': '2024-10-09 06:50Z', 'local': '2024-10-09 08:50+02:00'}, 'revisedTime': {'utc': '2024-10-09 06:46Z', 'local': '2024-10-09 08:46+02:00'}, 'terminal': '1', 'gate': 'A34', 'baggageBelt': 'A1', 'quality': ['Basic', 'Live']}, 'number': 'EC 4897', 'callSign': 'EJU42RU', 'status': 'Arrived', 'codeshareStatus': 'IsCodeshared', 'isCargo': False, 'aircraft': {'reg': 'OE-IJQ', 'modeS': '44083C', 'model': 'Airbus A320 (Sharklets)'}, 'airline': {'name': 'EasyJet Europe', 'iata': 'EC', 'icao': 'EJU'}}, {'departure': {'airport': {'icao': 'LIPZ', 'iata': 'VCE', 'name': 'Venice', 'timeZone': 'Europe/Rome'}, 'scheduledTime': {'utc': '2024-10-09 05:10Z', 'local': '2024-10-09 07:10+02:00'}, 'revisedTime': {'utc': '2024-10-09 05:25Z', 'local': '2024-10-09 07:25+02:00'}, 'runwayTime': {'utc': '2024-10-09 05:25Z', 'local': '2024-10-09 07:25+02:00'}, 'runway': '04R', 'quality': ['Basic', 'Live']}, 'arrival': {'scheduledTime': {'utc': '2024-10-09 06:55Z', 'local': '2024-10-09 08:55+02:00'}, 'revisedTime': {'utc': '2024-10-09 06:48Z', 'local': '2024-10-09 08:48+02:00'}, 'terminal': '1', 'gate': 'A38', 'baggageBelt': 'A1', 'quality': ['Basic', 'Live']}, 'number': 'U2 4075', 'callSign': 'EJU82KJ', 'status': 'Arrived', 'codeshareStatus': 'IsOperator', 'isCargo': False, 'aircraft': {'reg': 'OE-LKD', 'modeS': '44056B', 'model': 'Airbus A319'}, 'airline': {'name': 'easyJet', 'iata': 'U2', 'icao': 'EZY'}}, {'departure': {'airport': {'icao': 'LIPZ', 'iata': 'VCE', 'name': 'Venice', 'timeZone': 'Europe/Rome'}, 'scheduledTime': {'utc': '2024-10-09 05:10Z', 'local': '2024-10-09 07:10+02:00'}, 'revisedTime': {'utc': '2024-10-09 05:25Z', 'local': '2024-10-09 07:25+02:00'}, 'runwayTime': {'utc': '2024-10-09 05:25Z', 'local': '2024-10-09 07:25+02:00'}, 'runway': '04R', 'quality': ['Basic', 'Live']}, 'arrival': {'scheduledTime': {'utc': '2024-10-09 06:55Z', 'local': '2024-10-09 08:55+02:00'}, 'revisedTime': {'utc': '2024-10-09 06:48Z', 'local': '2024-10-09 08:48+02:00'}, 'terminal': '1', 'gate': 'A38', 'baggageBelt': 'A1', 'quality': ['Basic', 'Live']}, 'number': 'EC 4075', 'callSign': 'EJU82KJ', 'status': 'Arrived', 'codeshareStatus': 'IsCodeshared', 'isCargo': False, 'aircraft': {'reg': 'OE-LKD', 'modeS': '44056B', 'model': 'Airbus A319'}, 'airline': {'name': 'EasyJet Europe', 'iata': 'EC', 'icao': 'EJU'}}, {'departure': {'airport': {'icao': 'ENGM', 'iata': 'OSL', 'name': 'Oslo', 'timeZone': 'Europe/Oslo'}, 'scheduledTime': {'utc': '2024-10-09 05:30Z', 'local': '2024-10-09 07:30+02:00'}, 'revisedTime': {'utc': '2024-10-09 05:17Z', 'local': '2024-10-09 07:17+02:00'}, 'runwayTime': {'utc': '2024-10-09 05:31Z', 'local': '2024-10-09 07:31+02:00'}, 'checkInDesk': '123', 'gate': 'D3', 'runway': '01L', 'quality': ['Basic', 'Live']}, 'arrival': {'scheduledTime': {'utc': '2024-10-09 07:05Z', 'local': '2024-10-09 09:05+02:00'}, 'revisedTime': {'utc': '2024-10-09 06:55Z', 'local': '2024-10-09 08:55+02:00'}, 'terminal': '2', 'gate': 'Z32', 'baggageBelt': 'C1', 'quality': ['Basic', 'Live']}, 'number': 'DY 1102', 'callSign': 'NOZ2XM', 'status': 'Arrived', 'codeshareStatus': 'IsOperator', 'isCargo': False, 'aircraft': {'reg': 'LN-ENM', 'modeS': '47A50D', 'model': 'Boeing 737-800'}, 'airline': {'name': 'Norwegian Air Shuttle', 'iata': 'DY', 'icao': 'NOZ'}}, {'departure': {'airport': {'icao': 'EDDF', 'iata': 'FRA', 'name': 'Frankfurt-am-Main', 'timeZone': 'Europe/Berlin'}, 'scheduledTime': {'utc': '2024-10-09 05:45Z', 'local': '2024-10-09 07:45+02:00'}, 'revisedTime': {'utc': '2024-10-09 06:00Z', 'local': '2024-10-09 08:00+02:00'}, 'terminal': '1', 'checkInDesk': '259-335', 'gate': 'A14', 'quality': ['Basic', 'Live']}, 'arrival': {'scheduledTime': {'utc': '2024-10-09 06:55Z', 'local': '2024-10-09 08:55+02:00'}, 'revisedTime': {'utc': '2024-10-09 06:58Z', 'local': '2024-10-09 08:58+02:00'}, 'terminal': '1', 'gate': 'B07', 'baggageBelt': 'B4', 'quality': ['Basic', 'Live']}, 'number': 'LH 174', 'callSign': 'DLH2CK', 'status': 'Arrived', 'codeshareStatus': 'IsOperator', 'isCargo': False, 'aircraft': {'reg': 'D-AISU', 'modeS': '3C6675', 'model': 'Airbus A321'}, 'airline': {'name': 'Lufthansa', 'iata': 'LH', 'icao': 'DLH'}}, {'departure': {'airport': {'icao': 'LFPG', 'iata': 'CDG', 'name': 'Paris', 'timeZone': 'Europe/Paris'}, 'scheduledTime': {'utc': '2024-10-09 05:15Z', 'local': '2024-10-09 07:15+02:00'}, 'revisedTime': {'utc': '2024-10-09 05:48Z', 'local': '2024-10-09 07:48+02:00'}, 'runwayTime': {'utc': '2024-10-09 05:48Z', 'local': '2024-10-09 07:48+02:00'}, 'terminal': '2F', 'runway': '27L', 'quality': ['Basic', 'Live']}, 'arrival': {'scheduledTime': {'utc': '2024-10-09 06:55Z', 'local': '2024-10-09 08:55+02:00'}, 'revisedTime': {'utc': '2024-10-09 06:59Z', 'local': '2024-10-09 08:59+02:00'}, 'terminal': '1', 'gate': 'A30', 'baggageBelt': 'A3', 'quality': ['Basic', 'Live']}, 'number': 'AF 1434', 'callSign': 'AFR95ZE', 'status': 'Arrived', 'codeshareStatus': 'IsOperator', 'isCargo': False, 'aircraft': {'reg': 'F-HDRF', 'modeS': '398E25', 'model': 'Airbus A320'}, 'airline': {'name': 'Air France', 'iata': 'AF', 'icao': 'AFR'}}, {'departure': {'airport': {'icao': 'EDDM', 'iata': 'MUC', 'name': 'Munich', 'timeZone': 'Europe/Berlin'}, 'scheduledTime': {'utc': '2024-10-09 06:00Z', 'local': '2024-10-09 08:00+02:00'}, 'revisedTime': {'utc': '2024-10-09 06:00Z', 'local': '2024-10-09 08:00+02:00'}, 'terminal': '2', 'quality': ['Basic', 'Live']}, 'arrival': {'scheduledTime': {'utc': '2024-10-09 07:05Z', 'local': '2024-10-09 09:05+02:00'}, 'revisedTime': {'utc': '2024-10-09 07:01Z', 'local': '2024-10-09 09:01+02:00'}, 'terminal': '1', 'gate': 'B03', 'baggageBelt': 'B4', 'quality': ['Basic', 'Live']}, 'number': 'LH 1930', 'status': 'Arrived', 'codeshareStatus': 'IsOperator', 'isCargo': False, 'aircraft': {'reg': 'D-AIBE', 'modeS': '3C6445', 'model': 'Airbus A319'}, 'airline': {'name': 'Lufthansa', 'iata': 'LH', 'icao': 'DLH'}}, {'departure': {'airport': {'icao': 'LIME', 'iata': 'BGY', 'name': 'Bergamo', 'timeZone': 'Europe/Rome'}, 'scheduledTime': {'utc': '2024-10-09 05:30Z', 'local': '2024-10-09 07:30+02:00'}, 'revisedTime': {'utc': '2024-10-09 05:43Z', 'local': '2024-10-09 07:43+02:00'}, 'runwayTime': {'utc': '2024-10-09 05:43Z', 'local': '2024-10-09 07:43+02:00'}, 'quality': ['Basic', 'Live']}, 'arrival': {'scheduledTime': {'utc': '2024-10-09 07:10Z', 'local': '2024-10-09 09:10+02:00'}, 'revisedTime': {'utc': '2024-10-09 07:02Z', 'local': '2024-10-09 09:02+02:00'}, 'terminal': '2', 'gate': 'Z36', 'baggageBelt': 'C2', 'quality': ['Basic', 'Live']}, 'number': 'FR 4733', 'callSign': 'RYR63SZ', 'status': 'Arrived', 'codeshareStatus': 'IsOperator', 'isCargo': False, 'aircraft': {'reg': '9H-VUW', 'modeS': '4D2384', 'model': 'Boeing 737-800'}, 'airline': {'name': 'Ryanair', 'iata': 'FR', 'icao': 'RYR'}}, {'departure': {'airport': {'icao': 'LTFM', 'iata': 'IST', 'name': 'Istanbul', 'timeZone': 'Europe/Istanbul'}, 'scheduledTime': {'utc': '2024-10-09 04:30Z', 'local': '2024-10-09 07:30+03:00'}, 'revisedTime': {'utc': '2024-10-09 04:30Z', 'local': '2024-10-09 07:30+03:00'}, 'checkInDesk': 'E-F', 'gate': 'B10', 'quality': ['Basic', 'Live']}, 'arrival': {'scheduledTime': {'utc': '2024-10-09 07:20Z', 'local': '2024-10-09 09:20+02:00'}, 'revisedTime': {'utc': '2024-10-09 07:04Z', 'local': '2024-10-09 09:04+02:00'}, 'runwayTime': {'utc': '2024-10-09 07:12Z', 'local': '2024-10-09 09:12+02:00'}, 'terminal': '1', 'gate': 'X03', 'baggageBelt': 'A3', 'quality': ['Basic', 'Live']}, 'number': 'TK 1721', 'callSign': 'THY3CS', 'status': 'Arrived', 'codeshareStatus': 'IsOperator', 'isCargo': False, 'aircraft': {'reg': 'TC-JOJ', 'modeS': '4BA9EA', 'model': 'Airbus A330'}, 'airline': {'name': 'Turkish', 'iata': 'TK', 'icao': 'THY'}}, {'departure': {'airport': {'icao': 'LIRN', 'iata': 'NAP', 'name': 'Nápoli', 'timeZone': 'Europe/Rome'}, 'scheduledTime': {'utc': '2024-10-09 05:00Z', 'local': '2024-10-09 07:00+02:00'}, 'revisedTime': {'utc': '2024-10-09 05:19Z', 'local': '2024-10-09 07:19+02:00'}, 'runwayTime': {'utc': '2024-10-09 05:19Z', 'local': '2024-10-09 07:19+02:00'}, 'quality': ['Basic', 'Live']}, 'arrival': {'scheduledTime': {'utc': '2024-10-09 07:20Z', 'local': '2024-10-09 09:20+02:00'}, 'revisedTime': {'utc': '2024-10-09 07:07Z', 'local': '2024-10-09 09:07+02:00'}, 'runwayTime': {'utc': '2024-10-09 07:14Z', 'local': '2024-10-09 09:14+02:00'}, 'terminal': '1', 'gate': 'A33', 'baggageBelt': 'A2', 'quality': ['Basic', 'Live']}, 'number': 'U2 4265', 'callSign': 'EJU4265', 'status': 'Arrived', 'codeshareStatus': 'IsOperator', 'isCargo': False, 'aircraft': {'reg': 'OE-IJE', 'modeS': '440713', 'model': 'Airbus A320'}, 'airline': {'name': 'easyJet', 'iata': 'U2', 'icao': 'EZY'}}, {'departure': {'airport': {'icao': 'LIRN', 'iata': 'NAP', 'name': 'Nápoli', 'timeZone': 'Europe/Rome'}, 'scheduledTime': {'utc': '2024-10-09 05:00Z', 'local': '2024-10-09 07:00+02:00'}, 'revisedTime': {'utc': '2024-10-09 05:19Z', 'local': '2024-10-09 07:19+02:00'}, 'runwayTime': {'utc': '2024-10-09 05:19Z', 'local': '2024-10-09 07:19+02:00'}, 'quality': ['Basic', 'Live']}, 'arrival': {'scheduledTime': {'utc': '2024-10-09 07:20Z', 'local': '2024-10-09 09:20+02:00'}, 'revisedTime': {'utc': '2024-10-09 07:07Z', 'local': '2024-10-09 09:07+02:00'}, 'runwayTime': {'utc': '2024-10-09 07:14Z', 'local': '2024-10-09 09:14+02:00'}, 'terminal': '1', 'gate': 'A33', 'baggageBelt': 'A2', 'quality': ['Basic', 'Live']}, 'number': 'EC 4265', 'callSign': 'EJU4265', 'status': 'Arrived', 'codeshareStatus': 'IsCodeshared', 'isCargo': False, 'aircraft': {'reg': 'OE-IJE', 'modeS': '440713', 'model': 'Airbus A320'}, 'airline': {'name': 'EasyJet Europe', 'iata': 'EC', 'icao': 'EJU'}}, {'departure': {'airport': {'icao': 'LLBG', 'iata': 'TLV', 'name': 'Tel Aviv Yafo', 'timeZone': 'Asia/Jerusalem'}, 'scheduledTime': {'utc': '2024-10-09 03:20Z', 'local': '2024-10-09 06:20+03:00'}, 'revisedTime': {'utc': '2024-10-09 03:30Z', 'local': '2024-10-09 06:30+03:00'}, 'runwayTime': {'utc': '2024-10-09 03:30Z', 'local': '2024-10-09 06:30+03:00'}, 'terminal': '3', 'runway': '26', 'quality': ['Basic', 'Live']}, 'arrival': {'scheduledTime': {'utc': '2024-10-09 07:40Z', 'local': '2024-10-09 09:40+02:00'}, 'revisedTime': {'utc': '2024-10-09 07:08Z', 'local': '2024-10-09 09:08+02:00'}, 'terminal': '1', 'gate': 'X19', 'baggageBelt': 'A4', 'quality': ['Basic', 'Live']}, 'number': 'LY 2371', 'callSign': 'ELY2371', 'status': 'Arrived', 'codeshareStatus': 'IsOperator', 'isCargo': False, 'aircraft': {'reg': '4X-EKU', 'modeS': '738058', 'model': 'Boeing 737-800'}, 'airline': {'name': 'El Al', 'iata': 'LY', 'icao': 'ELY'}}, {'departure': {'airport': {'icao': 'EGKK', 'iata': 'LGW', 'name': 'London', 'timeZone': 'Europe/London'}, 'scheduledTime': {'utc': '2024-10-09 05:40Z', 'local': '2024-10-09 06:40+01:00'}, 'revisedTime': {'utc': '2024-10-09 05:51Z', 'local': '2024-10-09 06:51+01:00'}, 'runwayTime': {'utc': '2024-10-09 05:52Z', 'local': '2024-10-09 06:52+01:00'}, 'terminal': 'N', 'runway': '26L', 'quality': ['Basic', 'Live']}, 'arrival': {'scheduledTime': {'utc': '2024-10-09 07:35Z', 'local': '2024-10-09 09:35+02:00'}, 'revisedTime': {'utc': '2024-10-09 07:15Z', 'local': '2024-10-09 09:15+02:00'}, 'terminal': '1', 'gate': 'N01', 'baggageBelt': 'B3', 'quality': ['Basic', 'Live']}, 'number': 'U2 8629', 'callSign': 'EZY19TC', 'status': 'Arrived', 'codeshareStatus': 'IsOperator', 'isCargo': False, 'aircraft': {'reg': 'G-EZBX', 'modeS': '4010EC', 'model': 'Airbus A319'}, 'airline': {'name': 'easyJet', 'iata': 'U2', 'icao': 'EZY'}}, {'departure': {'airport': {'icao': 'LSZH', 'iata': 'ZRH', 'name': 'Zurich', 'timeZone': 'Europe/Zurich'}, 'scheduledTime': {'utc': '2024-10-09 06:05Z', 'local': '2024-10-09 08:05+02:00'}, 'revisedTime': {'utc': '2024-10-09 06:05Z', 'local': '2024-10-09 08:05+02:00'}, 'runwayTime': {'utc': '2024-10-09 06:29Z', 'local': '2024-10-09 08:29+02:00'}, 'checkInDesk': '3', 'gate': 'A84', 'runway': '28', 'quality': ['Basic', 'Live']}, 'arrival': {'scheduledTime': {'utc': '2024-10-09 07:40Z', 'local': '2024-10-09 09:40+02:00'}, 'revisedTime': {'utc': '2024-10-09 07:32Z', 'local': '2024-10-09 09:32+02:00'}, 'terminal': '1', 'gate': 'A32', 'baggageBelt': 'A1', 'quality': ['Basic', 'Live']}, 'number': 'U2 5188', 'callSign': 'EJU73MR', 'status': 'Arrived', 'codeshareStatus': 'IsOperator', 'isCargo': False, 'aircraft': {'reg': 'OE-IBF', 'modeS': '440CF8', 'model': 'Airbus A320'}, 'airline': {'name': 'easyJet', 'iata': 'U2', 'icao': 'EZY'}}, {'departure': {'airport': {'icao': 'LSZH', 'iata': 'ZRH', 'name': 'Zurich', 'timeZone': 'Europe/Zurich'}, 'scheduledTime': {'utc': '2024-10-09 06:05Z', 'local': '2024-10-09 08:05+02:00'}, 'revisedTime': {'utc': '2024-10-09 06:05Z', 'local': '2024-10-09 08:05+02:00'}, 'runwayTime': {'utc': '2024-10-09 06:29Z', 'local': '2024-10-09 08:29+02:00'}, 'checkInDesk': '3', 'gate': 'A84', 'runway': '28', 'quality': ['Basic', 'Live']}, 'arrival': {'scheduledTime': {'utc': '2024-10-09 07:40Z', 'local': '2024-10-09 09:40+02:00'}, 'revisedTime': {'utc': '2024-10-09 07:32Z', 'local': '2024-10-09 09:32+02:00'}, 'terminal': '1', 'gate': 'A32', 'baggageBelt': 'A1', 'quality': ['Basic', 'Live']}, 'number': 'EC 5188', 'callSign': 'EJU73MR', 'status': 'Arrived', 'codeshareStatus': 'IsCodeshared', 'isCargo': False, 'aircraft': {'reg': 'OE-IBF', 'modeS': '440CF8', 'model': 'Airbus A320'}, 'airline': {'name': 'EasyJet Europe', 'iata': 'EC', 'icao': 'EJU'}}, {'departure': {'airport': {'icao': 'EDDK', 'iata': 'CGN', 'name': 'Cologne', 'timeZone': 'Europe/Berlin'}, 'scheduledTime': {'utc': '2024-10-09 06:10Z', 'local': '2024-10-09 08:10+02:00'}, 'terminal': '1', 'quality': ['Basic']}, 'arrival': {'scheduledTime': {'utc': '2024-10-09 07:20Z', 'local': '2024-10-09 09:20+02:00'}, 'revisedTime': {'utc': '2024-10-09 07:35Z', 'local': '2024-10-09 09:35+02:00'}, 'terminal': '1', 'gate': 'A37', 'baggageBelt': 'B1', 'quality': ['Basic', 'Live']}, 'number': 'EW 8059', 'status': 'Arrived', 'codeshareStatus': 'IsOperator', 'isCargo': False, 'aircraft': {'reg': 'D-ABGJ', 'modeS': '3C48EA', 'model': 'Airbus A319'}, 'airline': {'name': 'Eurowings', 'iata': 'EW', 'icao': 'EWG'}}, {'departure': {'airport': {'icao': 'LEBL', 'iata': 'BCN', 'name': 'Barcelona', 'timeZone': 'Europe/Madrid'}, 'scheduledTime': {'utc': '2024-10-09 05:15Z', 'local': '2024-10-09 07:15+02:00'}, 'revisedTime': {'utc': '2024-10-09 05:25Z', 'local': '2024-10-09 07:25+02:00'}, 'runwayTime': {'utc': '2024-10-09 05:41Z', 'local': '2024-10-09 07:41+02:00'}, 'terminal': '1', 'checkInDesk': '501-514', 'gate': 'A12', 'quality': ['Basic', 'Live']}, 'arrival': {'scheduledTime': {'utc': '2024-10-09 08:00Z', 'local': '2024-10-09 10:00+02:00'}, 'revisedTime': {'utc': '2024-10-09 07:37Z', 'local': '2024-10-09 09:37+02:00'}, 'terminal': '2', 'gate': 'Z36', 'baggageBelt': 'C3', 'quality': ['Basic', 'Live']}, 'number': 'VY 1882', 'callSign': 'VLG40LK', 'status': 'Arrived', 'codeshareStatus': 'IsOperator', 'isCargo': False, 'aircraft': {'reg': 'LY-FAS', 'modeS': '503D40', 'model': 'Airbus A320'}, 'airline': {'name': 'Vueling', 'iata': 'VY', 'icao': 'VLG'}}, {'departure': {'airport': {'icao': 'EGGW', 'iata': 'LTN', 'name': 'London', 'timeZone': 'Europe/London'}, 'scheduledTime': {'utc': '2024-10-09 05:55Z', 'local': '2024-10-09 06:55+01:00'}, 'revisedTime': {'utc': '2024-10-09 05:55Z', 'local': '2024-10-09 06:55+01:00'}, 'runwayTime': {'utc': '2024-10-09 06:19Z', 'local': '2024-10-09 07:19+01:00'}, 'checkInDesk': '44-61', 'runway': '26', 'quality': ['Basic', 'Live']}, 'arrival': {'scheduledTime': {'utc': '2024-10-09 07:40Z', 'local': '2024-10-09 09:40+02:00'}, 'revisedTime': {'utc': '2024-10-09 07:39Z', 'local': '2024-10-09 09:39+02:00'}, 'terminal': '1', 'gate': 'N01', 'baggageBelt': 'B3', 'quality': ['Basic', 'Live']}, 'number': 'U2 2603', 'callSign': 'EZY78LH', 'status': 'Arrived', 'codeshareStatus': 'IsOperator', 'isCargo': False, 'aircraft': {'reg': 'G-EZFW', 'modeS': '40631B', 'model': 'Airbus A319'}, 'airline': {'name': 'easyJet', 'iata': 'U2', 'icao': 'EZY'}}, {'departure': {'airport': {'icao': 'LEPA', 'iata': 'PMI', 'name': 'Palma De Mallorca', 'timeZone': 'Europe/Madrid'}, 'scheduledTime': {'utc': '2024-10-09 05:00Z', 'local': '2024-10-09 07:00+02:00'}, 'revisedTime': {'utc': '2024-10-09 05:10Z', 'local': '2024-10-09 07:10+02:00'}, 'runwayTime': {'utc': '2024-10-09 05:29Z', 'local': '2024-10-09 07:29+02:00'}, 'terminal': 'N', 'checkInDesk': '078-085', 'gate': 'C52', 'quality': ['Basic', 'Live']}, 'arrival': {'scheduledTime': {'utc': '2024-10-09 07:45Z', 'local': '2024-10-09 09:45+02:00'}, 'revisedTime': {'utc': '2024-10-09 07:42Z', 'local': '2024-10-09 09:42+02:00'}, 'runwayTime': {'utc': '2024-10-09 07:49Z', 'local': '2024-10-09 09:49+02:00'}, 'terminal': '1', 'gate': 'A36', 'baggageBelt': 'A2', 'quality': ['Basic', 'Live']}, 'number': 'U2 7333', 'callSign': 'EJU53MB', 'status': 'Arrived', 'codeshareStatus': 'IsOperator', 'isCargo': False, 'aircraft': {'reg': 'OE-LQS', 'modeS': '440735', 'model': 'Airbus A319'}, 'airline': {'name': 'easyJet', 'iata': 'U2', 'icao': 'EZY'}}, {'departure': {'airport': {'icao': 'LEPA', 'iata': 'PMI', 'name': 'Palma De Mallorca', 'timeZone': 'Europe/Madrid'}, 'scheduledTime': {'utc': '2024-10-09 05:00Z', 'local': '2024-10-09 07:00+02:00'}, 'revisedTime': {'utc': '2024-10-09 05:10Z', 'local': '2024-10-09 07:10+02:00'}, 'runwayTime': {'utc': '2024-10-09 05:29Z', 'local': '2024-10-09 07:29+02:00'}, 'terminal': 'N', 'checkInDesk': '078-085', 'gate': 'C52', 'quality': ['Basic', 'Live']}, 'arrival': {'scheduledTime': {'utc': '2024-10-09 07:45Z', 'local': '2024-10-09 09:45+02:00'}, 'revisedTime': {'utc': '2024-10-09 07:42Z', 'local': '2024-10-09 09:42+02:00'}, 'runwayTime': {'utc': '2024-10-09 07:49Z', 'local': '2024-10-09 09:49+02:00'}, 'terminal': '1', 'gate': 'A36', 'baggageBelt': 'A2', 'quality': ['Basic', 'Live']}, 'number': 'EC 7333', 'callSign': 'EJU53MB', 'status': 'Arrived', 'codeshareStatus': 'IsCodeshared', 'isCargo': False, 'aircraft': {'reg': 'OE-LQS', 'modeS': '440735', 'model': 'Airbus A319'}, 'airline': {'name': 'EasyJet Europe', 'iata': 'EC', 'icao': 'EJU'}}, {'departure': {'airport': {'icao': 'EDDF', 'iata': 'FRA', 'name': 'Frankfurt-am-Main', 'timeZone': 'Europe/Berlin'}, 'scheduledTime': {'utc': '2024-10-09 06:45Z', 'local': '2024-10-09 08:45+02:00'}, 'revisedTime': {'utc': '2024-10-09 06:45Z', 'local': '2024-10-09 08:45+02:00'}, 'terminal': '1', 'checkInDesk': '259-335', 'gate': 'A13', 'quality': ['Basic', 'Live']}, 'arrival': {'scheduledTime': {'utc': '2024-10-09 07:55Z', 'local': '2024-10-09 09:55+02:00'}, 'revisedTime': {'utc': '2024-10-09 07:43Z', 'local': '2024-10-09 09:43+02:00'}, 'runwayTime': {'utc': '2024-10-09 07:52Z', 'local': '2024-10-09 09:52+02:00'}, 'terminal': '1', 'gate': 'A02', 'baggageBelt': 'A4', 'quality': ['Basic', 'Live']}, 'number': 'LH 176', 'callSign': 'DLH7PK', 'status': 'Arrived', 'codeshareStatus': 'IsOperator', 'isCargo': False, 'aircraft': {'reg': 'D-AIQT', 'modeS': '3C6634', 'model': 'Airbus A320'}, 'airline': {'name': 'Lufthansa', 'iata': 'LH', 'icao': 'DLH'}}, {'departure': {'airport': {'icao': 'LGAV', 'iata': 'ATH', 'name': 'Athens', 'timeZone': 'Europe/Athens'}, 'scheduledTime': {'utc': '2024-10-09 05:05Z', 'local': '2024-10-09 08:05+03:00'}, 'revisedTime': {'utc': '2024-10-09 05:42Z', 'local': '2024-10-09 08:42+03:00'}, 'terminal': 'I', 'checkInDesk': '21---25', 'gate': 'A05', 'quality': ['Basic', 'Live']}, 'arrival': {'scheduledTime': {'utc': '2024-10-09 08:25Z', 'local': '2024-10-09 10:25+02:00'}, 'revisedTime': {'utc': '2024-10-09 07:56Z', 'local': '2024-10-09 09:56+02:00'}, 'terminal': '1', 'gate': 'X07', 'baggageBelt': 'A3', 'quality': ['Basic', 'Live']}, 'number': 'TV 720', 'status': 'Arrived', 'codeshareStatus': 'IsOperator', 'isCargo': False, 'aircraft': {'reg': '9V-OFN', 'modeS': '76BCCE', 'model': 'Boeing 787-8'}, 'airline': {'name': 'Tibet', 'iata': 'TV', 'icao': 'TBA'}}, {'departure': {'airport': {'icao': 'LICR', 'iata': 'REG', 'name': 'Reggio Calabria', 'timeZone': 'Europe/Rome'}, 'scheduledTime': {'utc': '2024-10-09 05:20Z', 'local': '2024-10-09 07:20+02:00'}, 'quality': ['Basic']}, 'arrival': {'scheduledTime': {'utc': '2024-10-09 08:00Z', 'local': '2024-10-09 10:00+02:00'}, 'revisedTime': {'utc': '2024-10-09 07:58Z', 'local': '2024-10-09 09:58+02:00'}, 'terminal': '2', 'gate': 'Z29', 'baggageBelt': 'C2', 'quality': ['Basic', 'Live']}, 'number': 'FR 8603', 'callSign': 'RYR8603', 'status': 'Arrived', 'codeshareStatus': 'IsOperator', 'isCargo': False, 'aircraft': {'reg': '9H-QEP', 'modeS': '4D225E', 'model': 'Boeing 737-800'}, 'airline': {'name': 'Ryanair', 'iata': 'FR', 'icao': 'RYR'}}, {'departure': {'airport': {'icao': 'LDZD', 'iata': 'ZAD', 'name': 'Zadar', 'timeZone': 'Europe/Zagreb'}, 'scheduledTime': {'utc': '2024-10-09 06:05Z', 'local': '2024-10-09 08:05+02:00'}, 'quality': ['Basic']}, 'arrival': {'scheduledTime': {'utc': '2024-10-09 07:45Z', 'local': '2024-10-09 09:45+02:00'}, 'revisedTime': {'utc': '2024-10-09 08:01Z', 'local': '2024-10-09 10:01+02:00'}, 'terminal': '2', 'gate': 'Z33', 'baggageBelt': 'C1', 'quality': ['Basic', 'Live']}, 'number': 'FR 2919', 'callSign': 'RYR371B', 'status': 'Arrived', 'codeshareStatus': 'IsOperator', 'isCargo': False, 'aircraft': {'reg': '9H-QDC', 'modeS': '4D2235', 'model': 'Boeing 737-800'}, 'airline': {'name': 'Ryanair', 'iata': 'FR', 'icao': 'RYR'}}, {'departure': {'airport': {'icao': 'EHAM', 'iata': 'AMS', 'name': 'Amsterdam', 'timeZone': 'Europe/Amsterdam'}, 'scheduledTime': {'utc': '2024-10-09 06:45Z', 'local': '2024-10-09 08:45+02:00'}, 'revisedTime': {'utc': '2024-10-09 06:49Z', 'local': '2024-10-09 08:49+02:00'}, 'runwayTime': {'utc': '2024-10-09 07:02Z', 'local': '2024-10-09 09:02+02:00'}, 'terminal': '1', 'checkInDesk': '6-8', 'gate': 'B26', 'runway': '24', 'quality': ['Basic', 'Live']}, 'arrival': {'scheduledTime': {'utc': '2024-10-09 08:05Z', 'local': '2024-10-09 10:05+02:00'}, 'revisedTime': {'utc': '2024-10-09 08:02Z', 'local': '2024-10-09 10:02+02:00'}, 'terminal': '1', 'gate': 'A34', 'baggageBelt': 'A3', 'quality': ['Basic', 'Live']}, 'number': 'KL 1773', 'callSign': 'KLM31X', 'status': 'Arrived', 'codeshareStatus': 'IsOperator', 'isCargo': False, 'aircraft': {'reg': 'D-AJHW', 'modeS': '3C6917', 'model': 'Embraer 190'}, 'airline': {'name': 'KLM', 'iata': 'KL', 'icao': 'KLM'}}, {'departure': {'airport': {'icao': 'LTAI', 'iata': 'AYT', 'name': 'Antalya', 'timeZone': 'Europe/Istanbul'}, 'scheduledTime': {'utc': '2024-10-09 05:00Z', 'local': '2024-10-09 08:00+03:00'}, 'revisedTime': {'utc': '2024-10-09 05:00Z', 'local': '2024-10-09 08:00+03:00'}, 'terminal': '2', 'checkInDesk': '238-239', 'quality': ['Basic', 'Live']}, 'arrival': {'scheduledTime': {'utc': '2024-10-09 08:20Z', 'local': '2024-10-09 10:20+02:00'}, 'revisedTime': {'utc': '2024-10-09 08:05Z', 'local': '2024-10-09 10:05+02:00'}, 'terminal': '1', 'gate': 'Y06', 'baggageBelt': 'B3', 'quality': ['Basic', 'Live']}, 'number': 'FH 1281', 'callSign': 'FHY1281', 'status': 'Arrived', 'codeshareStatus': 'IsOperator', 'isCargo': False, 'aircraft': {'reg': 'TC-FHP', 'modeS': '4B9910', 'model': 'Airbus A320'}, 'airline': {'name': 'Freebird', 'iata': 'FH', 'icao': 'FHY'}}, {'departure': {'airport': {'icao': 'EIDW', 'iata': 'DUB', 'name': 'Dublin', 'timeZone': 'Europe/Dublin'}, 'scheduledTime': {'utc': '2024-10-09 05:40Z', 'local': '2024-10-09 06:40+01:00'}, 'revisedTime': {'utc': '2024-10-09 05:40Z', 'local': '2024-10-09 06:40+01:00'}, 'runwayTime': {'utc': '2024-10-09 06:17Z', 'local': '2024-10-09 07:17+01:00'}, 'terminal': '2', 'checkInDesk': '29-56', 'gate': '335F', 'quality': ['Basic', 'Live']}, 'arrival': {'scheduledTime': {'utc': '2024-10-09 08:00Z', 'local': '2024-10-09 10:00+02:00'}, 'revisedTime': {'utc': '2024-10-09 08:08Z', 'local': '2024-10-09 10:08+02:00'}, 'terminal': '1', 'gate': 'X01', 'baggageBelt': 'A1', 'quality': ['Basic', 'Live']}, 'number': 'EI 332', 'callSign': 'EIN3JE', 'status': 'Arrived', 'codeshareStatus': 'IsOperator', 'isCargo': False, 'aircraft': {'reg': 'EI-DEK', 'modeS': '4CA27F', 'model': 'Airbus A320'}, 'airline': {'name': 'Aer Lingus', 'iata': 'EI', 'icao': 'EIN'}}, {'departure': {'airport': {'icao': 'EDDS', 'iata': 'STR', 'name': 'Stuttgart', 'timeZone': 'Europe/Berlin'}, 'scheduledTime': {'utc': '2024-10-09 07:00Z', 'local': '2024-10-09 09:00+02:00'}, 'revisedTime': {'utc': '2024-10-09 07:00Z', 'local': '2024-10-09 09:00+02:00'}, 'runwayTime': {'utc': '2024-10-09 07:13Z', 'local': '2024-10-09 09:13+02:00'}, 'terminal': '3', 'gate': '310', 'quality': ['Basic', 'Live']}, 'arrival': {'scheduledTime': {'utc': '2024-10-09 08:10Z', 'local': '2024-10-09 10:10+02:00'}, 'revisedTime': {'utc': '2024-10-09 08:11Z', 'local': '2024-10-09 10:11+02:00'}, 'terminal': '1', 'gate': 'A38', 'baggageBelt': 'A4', 'quality': ['Basic', 'Live']}, 'number': 'LH 5392', 'callSign': 'EWG30BM', 'status': 'Arrived', 'codeshareStatus': 'IsCodeshared', 'isCargo': False, 'aircraft': {'reg': '9H-MLW', 'modeS': '4D244F', 'model': 'Airbus A320'}, 'airline': {'name': 'Lufthansa', 'iata': 'LH', 'icao': 'DLH'}}, {'departure': {'airport': {'icao': 'EDDS', 'iata': 'STR', 'name': 'Stuttgart', 'timeZone': 'Europe/Berlin'}, 'scheduledTime': {'utc': '2024-10-09 07:00Z', 'local': '2024-10-09 09:00+02:00'}, 'revisedTime': {'utc': '2024-10-09 07:00Z', 'local': '2024-10-09 09:00+02:00'}, 'runwayTime': {'utc': '2024-10-09 07:13Z', 'local': '2024-10-09 09:13+02:00'}, 'terminal': '3', 'gate': '310', 'quality': ['Basic', 'Live']}, 'arrival': {'scheduledTime': {'utc': '2024-10-09 08:10Z', 'local': '2024-10-09 10:10+02:00'}, 'revisedTime': {'utc': '2024-10-09 08:11Z', 'local': '2024-10-09 10:11+02:00'}, 'terminal': '1', 'gate': 'A38', 'baggageBelt': 'A4', 'quality': ['Basic', 'Live']}, 'number': 'EW 8001', 'callSign': 'EWG30BM', 'status': 'Arrived', 'codeshareStatus': 'IsOperator', 'isCargo': False, 'aircraft': {'reg': '9H-MLW', 'modeS': '4D244F', 'model': 'Airbus A320'}, 'airline': {'name': 'Eurowings', 'iata': 'EW', 'icao': 'EWG'}}, {'departure': {'airport': {'icao': 'EGLL', 'iata': 'LHR', 'name': 'London', 'timeZone': 'Europe/London'}, 'scheduledTime': {'utc': '2024-10-09 06:30Z', 'local': '2024-10-09 07:30+01:00'}, 'revisedTime': {'utc': '2024-10-09 06:44Z', 'local': '2024-10-09 07:44+01:00'}, 'runwayTime': {'utc': '2024-10-09 06:45Z', 'local': '2024-10-09 07:45+01:00'}, 'terminal': '5', 'checkInDesk': 'D', 'runway': '27L', 'quality': ['Basic', 'Live']}, 'arrival': {'scheduledTime': {'utc': '2024-10-09 08:20Z', 'local': '2024-10-09 10:20+02:00'}, 'revisedTime': {'utc': '2024-10-09 08:12Z', 'local': '2024-10-09 10:12+02:00'}, 'terminal': '1', 'gate': 'Y03', 'baggageBelt': 'B2', 'quality': ['Basic', 'Live']}, 'number': 'BA 990', 'callSign': 'BAW990G', 'status': 'Arrived', 'codeshareStatus': 'IsOperator', 'isCargo': False, 'aircraft': {'reg': 'G-TTOB', 'modeS': '40095D', 'model': 'Airbus A320'}, 'airline': {'name': 'British Airways', 'iata': 'BA', 'icao': 'BAW'}}, {'departure': {'airport': {'icao': 'LSZH', 'iata': 'ZRH', 'name': 'Zurich', 'timeZone': 'Europe/Zurich'}, 'scheduledTime': {'utc': '2024-10-09 06:40Z', 'local': '2024-10-09 08:40+02:00'}, 'revisedTime': {'utc': '2024-10-09 06:50Z', 'local': '2024-10-09 08:50+02:00'}, 'checkInDesk': '1', 'gate': 'A74', 'quality': ['Basic', 'Live']}, 'arrival': {'scheduledTime': {'utc': '2024-10-09 08:05Z', 'local': '2024-10-09 10:05+02:00'}, 'revisedTime': {'utc': '2024-10-09 08:15Z', 'local': '2024-10-09 10:15+02:00'}, 'terminal': '1', 'gate': 'A17', 'baggageBelt': 'B1', 'quality': ['Basic', 'Live']}, 'number': 'LX 976', 'callSign': 'SWR2HD', 'status': 'Arrived', 'codeshareStatus': 'IsOperator', 'isCargo': False, 'aircraft': {'reg': 'HB-JPD', 'modeS': '4B194D', 'model': 'Airbus A321 NEO'}, 'airline': {'name': 'SWISS', 'iata': 'LX', 'icao': 'SWR'}}, {'departure': {'airport': {'icao': 'EDDM', 'iata': 'MUC', 'name': 'Munich', 'timeZone': 'Europe/Berlin'}, 'scheduledTime': {'utc': '2024-10-09 07:00Z', 'local': '2024-10-09 09:00+02:00'}, 'revisedTime': {'utc': '2024-10-09 07:00Z', 'local': '2024-10-09 09:00+02:00'}, 'runwayTime': {'utc': '2024-10-09 07:54Z', 'local': '2024-10-09 09:54+02:00'}, 'terminal': '2', 'quality': ['Basic', 'Live']}, 'arrival': {'scheduledTime': {'utc': '2024-10-09 08:05Z', 'local': '2024-10-09 10:05+02:00'}, 'revisedTime': {'utc': '2024-10-09 08:18Z', 'local': '2024-10-09 10:18+02:00'}, 'terminal': '1', 'gate': 'B17', 'baggageBelt': 'B4', 'quality': ['Basic', 'Live']}, 'number': 'LH 1934', 'callSign': 'DLH05N', 'status': 'Arrived', 'codeshareStatus': 'IsOperator', 'isCargo': False, 'aircraft': {'reg': 'D-AILA', 'modeS': '3C6581', 'model': 'Airbus A319'}, 'airline': {'name': 'Lufthansa', 'iata': 'LH', 'icao': 'DLH'}}, {'departure': {'airport': {'icao': 'EHAM', 'iata': 'AMS', 'name': 'Amsterdam', 'timeZone': 'Europe/Amsterdam'}, 'scheduledTime': {'utc': '2024-10-09 07:05Z', 'local': '2024-10-09 09:05+02:00'}, 'revisedTime': {'utc': '2024-10-09 07:01Z', 'local': '2024-10-09 09:01+02:00'}, 'runwayTime': {'utc': '2024-10-09 07:15Z', 'local': '2024-10-09 09:15+02:00'}, 'terminal': '3', 'checkInDesk': '26', 'gate': 'M5', 'runway': '24', 'quality': ['Basic', 'Live']}, 'arrival': {'scheduledTime': {'utc': '2024-10-09 08:30Z', 'local': '2024-10-09 10:30+02:00'}, 'revisedTime': {'utc': '2024-10-09 08:20Z', 'local': '2024-10-09 10:20+02:00'}, 'runwayTime': {'utc': '2024-10-09 08:25Z', 'local': '2024-10-09 10:25+02:00'}, 'terminal': '1', 'gate': 'A35', 'baggageBelt': 'A1', 'quality': ['Basic', 'Live']}, 'number': 'U2 5282', 'callSign': 'EJU42KM', 'status': 'Arrived', 'codeshareStatus': 'IsOperator', 'isCargo': False, 'aircraft': {'reg': 'OE-IBS', 'modeS': '440D10', 'model': 'Airbus A320'}, 'airline': {'name': 'easyJet', 'iata': 'U2', 'icao': 'EZY'}}, {'departure': {'airport': {'icao': 'EHAM', 'iata': 'AMS', 'name': 'Amsterdam', 'timeZone': 'Europe/Amsterdam'}, 'scheduledTime': {'utc': '2024-10-09 07:05Z', 'local': '2024-10-09 09:05+02:00'}, 'revisedTime': {'utc': '2024-10-09 07:01Z', 'local': '2024-10-09 09:01+02:00'}, 'runwayTime': {'utc': '2024-10-09 07:15Z', 'local': '2024-10-09 09:15+02:00'}, 'terminal': '3', 'checkInDesk': '26', 'gate': 'M5', 'runway': '24', 'quality': ['Basic', 'Live']}, 'arrival': {'scheduledTime': {'utc': '2024-10-09 08:30Z', 'local': '2024-10-09 10:30+02:00'}, 'revisedTime': {'utc': '2024-10-09 08:20Z', 'local': '2024-10-09 10:20+02:00'}, 'runwayTime': {'utc': '2024-10-09 08:25Z', 'local': '2024-10-09 10:25+02:00'}, 'terminal': '1', 'gate': 'A35', 'baggageBelt': 'A1', 'quality': ['Basic', 'Live']}, 'number': 'EC 5282', 'callSign': 'EJU42KM', 'status': 'Arrived', 'codeshareStatus': 'IsCodeshared', 'isCargo': False, 'aircraft': {'reg': 'OE-IBS', 'modeS': '440D10', 'model': 'Airbus A320'}, 'airline': {'name': 'EasyJet Europe', 'iata': 'EC', 'icao': 'EJU'}}, {'departure': {'airport': {'icao': 'LIPZ', 'iata': 'VCE', 'name': 'Venice', 'timeZone': 'Europe/Rome'}, 'scheduledTime': {'utc': '2024-10-09 06:20Z', 'local': '2024-10-09 08:20+02:00'}, 'revisedTime': {'utc': '2024-10-09 06:27Z', 'local': '2024-10-09 08:27+02:00'}, 'runwayTime': {'utc': '2024-10-09 06:27Z', 'local': '2024-10-09 08:27+02:00'}, 'runway': '04R', 'quality': ['Basic', 'Live']}, 'arrival': {'scheduledTime': {'utc': '2024-10-09 08:00Z', 'local': '2024-10-09 10:00+02:00'}, 'revisedTime': {'utc': '2024-10-09 08:21Z', 'local': '2024-10-09 10:21+02:00'}, 'runwayTime': {'utc': '2024-10-09 08:22Z', 'local': '2024-10-09 10:22+02:00'}, 'terminal': '2', 'gate': 'Z31', 'baggageBelt': 'C2', 'runway': '25R', 'quality': ['Basic', 'Live']}, 'number': 'FR 402', 'callSign': 'RYR42YN', 'status': 'Arrived', 'codeshareStatus': 'IsOperator', 'isCargo': False, 'aircraft': {'reg': '9H-VUV', 'modeS': '4D236C', 'model': 'Boeing 737-800'}, 'airline': {'name': 'Ryanair', 'iata': 'FR', 'icao': 'RYR'}}, {'departure': {'airport': {'icao': 'LOWW', 'iata': 'VIE', 'name': 'Vienna', 'timeZone': 'Europe/Vienna'}, 'scheduledTime': {'utc': '2024-10-09 07:15Z', 'local': '2024-10-09 09:15+02:00'}, 'revisedTime': {'utc': '2024-10-09 07:25Z', 'local': '2024-10-09 09:25+02:00'}, 'terminal': '3', 'checkInDesk': '351-372', 'gate': 'F15', 'quality': ['Basic', 'Live']}, 'arrival': {'scheduledTime': {'utc': '2024-10-09 08:25Z', 'local': '2024-10-09 10:25+02:00'}, 'revisedTime': {'utc': '2024-10-09 08:23Z', 'local': '2024-10-09 10:23+02:00'}, 'runwayTime': {'utc': '2024-10-09 08:28Z', 'local': '2024-10-09 10:28+02:00'}, 'terminal': '1', 'gate': 'B07', 'baggageBelt': 'B4', 'quality': ['Basic', 'Live']}, 'number': 'OS 225', 'callSign': 'AUA225S', 'status': 'Arrived', 'codeshareStatus': 'IsOperator', 'isCargo': False, 'aircraft': {'reg': 'OE-LBL', 'modeS': '440668', 'model': 'Airbus A320'}, 'airline': {'name': 'Austrian', 'iata': 'OS', 'icao': 'AUA'}}, {'departure': {'airport': {'icao': 'EETN', 'iata': 'TLL', 'name': 'Tallinn', 'timeZone': 'Europe/Tallinn'}, 'scheduledTime': {'utc': '2024-10-09 06:15Z', 'local': '2024-10-09 09:15+03:00'}, 'revisedTime': {'utc': '2024-10-09 06:36Z', 'local': '2024-10-09 09:36+03:00'}, 'runwayTime': {'utc': '2024-10-09 06:36Z', 'local': '2024-10-09 09:36+03:00'}, 'runway': '08', 'quality': ['Basic', 'Live']}, 'arrival': {'scheduledTime': {'utc': '2024-10-09 08:10Z', 'local': '2024-10-09 10:10+02:00'}, 'revisedTime': {'utc': '2024-10-09 08:24Z', 'local': '2024-10-09 10:24+02:00'}, 'runwayTime': {'utc': '2024-10-09 08:25Z', 'local': '2024-10-09 10:25+02:00'}, 'terminal': '2', 'gate': 'Z34', 'baggageBelt': 'C1', 'runway': '25R', 'quality': ['Basic', 'Live']}, 'number': 'FR 2733', 'callSign': 'RYR2733', 'status': 'Arrived', 'codeshareStatus': 'IsOperator', 'isCargo': False, 'aircraft': {'reg': '9H-VVA', 'modeS': '4D2382', 'model': 'Boeing 737 MAX 8'}, 'airline': {'name': 'Ryanair', 'iata': 'FR', 'icao': 'RYR'}}, {'departure': {'airport': {'icao': 'LGAV', 'iata': 'ATH', 'name': 'Athens', 'timeZone': 'Europe/Athens'}, 'scheduledTime': {'utc': '2024-10-09 05:45Z', 'local': '2024-10-09 08:45+03:00'}, 'revisedTime': {'utc': '2024-10-09 06:00Z', 'local': '2024-10-09 09:00+03:00'}, 'runwayTime': {'utc': '2024-10-09 06:01Z', 'local': '2024-10-09 09:01+03:00'}, 'terminal': 'D', 'checkInDesk': '148--153', 'gate': 'B26', 'quality': ['Basic', 'Live']}, 'arrival': {'scheduledTime': {'utc': '2024-10-09 08:40Z', 'local': '2024-10-09 10:40+02:00'}, 'revisedTime': {'utc': '2024-10-09 08:26Z', 'local': '2024-10-09 10:26+02:00'}, 'terminal': '1', 'gate': 'A33', 'baggageBelt': 'A4', 'quality': ['Basic', 'Live']}, 'number': 'A3 820', 'callSign': 'AEE8RB', 'status': 'Arrived', 'codeshareStatus': 'IsOperator', 'isCargo': False, 'aircraft': {'reg': 'SX-DGA', 'modeS': '4690E1', 'model': 'Airbus A321'}, 'airline': {'name': 'Aegean', 'iata': 'A3', 'icao': 'AEE'}}, {'departure': {'airport': {'name': 'Unknown'}, 'quality': []}, 'arrival': {'scheduledTime': {'utc': '2024-10-09 08:27Z', 'local': '2024-10-09 10:27+02:00'}, 'revisedTime': {'utc': '2024-10-09 08:27Z', 'local': '2024-10-09 10:27+02:00'}, 'runwayTime': {'utc': '2024-10-09 08:27Z', 'local': '2024-10-09 10:27+02:00'}, 'quality': ['Basic', 'Live']}, 'number': 'CHX 31', 'callSign': 'CHX31', 'status': 'Arrived', 'codeshareStatus': 'IsOperator', 'isCargo': False, 'aircraft': {'reg': 'D-HXCA', 'modeS': '3E0F90', 'model': 'Eurocopter EC135'}, 'airline': {'name': 'CHX'}}, {'departure': {'airport': {'icao': 'EYKA', 'iata': 'KUN', 'name': 'Kaunas', 'timeZone': 'Europe/Vilnius'}, 'scheduledTime': {'utc': '2024-10-09 06:55Z', 'local': '2024-10-09 09:55+03:00'}, 'quality': ['Basic']}, 'arrival': {'scheduledTime': {'utc': '2024-10-09 08:35Z', 'local': '2024-10-09 10:35+02:00'}, 'revisedTime': {'utc': '2024-10-09 08:29Z', 'local': '2024-10-09 10:29+02:00'}, 'runwayTime': {'utc': '2024-10-09 08:29Z', 'local': '2024-10-09 10:29+02:00'}, 'terminal': '2', 'gate': 'Z32', 'baggageBelt': 'C3', 'runway': '25R', 'quality': ['Basic', 'Live']}, 'number': 'FR 710', 'callSign': 'RYR26NU', 'status': 'Arrived', 'codeshareStatus': 'IsOperator', 'isCargo': False, 'aircraft': {'reg': 'SP-RKG', 'modeS': '48C126', 'model': 'Boeing 737-800'}, 'airline': {'name': 'Ryanair', 'iata': 'FR', 'icao': 'RYR'}}, {'departure': {'airport': {'icao': 'LTAI', 'iata': 'AYT', 'name': 'Antalya', 'timeZone': 'Europe/Istanbul'}, 'scheduledTime': {'utc': '2024-10-09 05:30Z', 'local': '2024-10-09 08:30+03:00'}, 'revisedTime': {'utc': '2024-10-09 05:30Z', 'local': '2024-10-09 08:30+03:00'}, 'terminal': '2', 'checkInDesk': '227-229', 'quality': ['Basic', 'Live']}, 'arrival': {'scheduledTime': {'utc': '2024-10-09 09:05Z', 'local': '2024-10-09 11:05+02:00'}, 'revisedTime': {'utc': '2024-10-09 08:30Z', 'local': '2024-10-09 10:30+02:00'}, 'runwayTime': {'utc': '2024-10-09 08:31Z', 'local': '2024-10-09 10:31+02:00'}, 'terminal': '1', 'gate': 'N01', 'baggageBelt': 'B4', 'runway': '25L', 'quality': ['Basic', 'Live']}, 'number': 'TI 7375', 'callSign': 'TWI7375', 'status': 'Arrived', 'codeshareStatus': 'IsOperator', 'isCargo': False, 'aircraft': {'reg': 'TC-TLE', 'modeS': '4BD185', 'model': 'Boeing 737'}, 'airline': {'name': 'Tailwind', 'iata': 'TI', 'icao': 'TWI'}}, {'departure': {'airport': {'icao': 'LIPB', 'iata': 'BZO', 'name': 'Bolzano', 'timeZone': 'Europe/Rome'}, 'quality': []}, 'arrival': {'scheduledTime': {'utc': '2024-10-09 08:32Z', 'local': '2024-10-09 10:32+02:00'}, 'revisedTime': {'utc': '2024-10-09 08:32Z', 'local': '2024-10-09 10:32+02:00'}, 'quality': ['Basic', 'Live']}, 'number': 'SWU 1950', 'callSign': 'SWU1950', 'status': 'Approaching', 'codeshareStatus': 'IsOperator', 'isCargo': False, 'aircraft': {'reg': '9H-PET', 'modeS': '4D23EF', 'model': 'De Havilland Canada DHC-8-400 Dash 8Q'}, 'airline': {'name': 'SWU'}}, {'departure': {'airport': {'icao': 'LIPB', 'iata': 'BZO', 'name': 'Bolzano', 'timeZone': 'Europe/Rome'}, 'quality': []}, 'arrival': {'scheduledTime': {'utc': '2024-10-09 08:10Z', 'local': '2024-10-09 10:10+02:00'}, 'revisedTime': {'utc': '2024-10-09 08:33Z', 'local': '2024-10-09 10:33+02:00'}, 'terminal': '1', 'gate': 'S01', 'baggageBelt': 'B3', 'quality': ['Basic', 'Live']}, 'number': 'W2 1290', 'status': 'Arrived', 'codeshareStatus': 'Unknown', 'isCargo': False, 'aircraft': {'reg': '9H-PET', 'modeS': '4D23EF', 'model': 'De Havilland Canada DHC-8-400 Dash 8Q'}, 'airline': {'name': 'FlexFlight', 'iata': 'W2', 'icao': 'FXT'}}, {'departure': {'airport': {'icao': 'LIPB', 'iata': 'BZO', 'name': 'Bolzano', 'timeZone': 'Europe/Rome'}, 'quality': []}, 'arrival': {'scheduledTime': {'utc': '2024-10-09 08:10Z', 'local': '2024-10-09 10:10+02:00'}, 'revisedTime': {'utc': '2024-10-09 08:33Z', 'local': '2024-10-09 10:33+02:00'}, 'terminal': '1', 'gate': 'S01', 'baggageBelt': 'B3', 'quality': ['Basic', 'Live']}, 'number': 'BQ 1950', 'status': 'Arrived', 'codeshareStatus': 'IsOperator', 'isCargo': False, 'aircraft': {'reg': '9H-PET', 'modeS': '4D23EF', 'model': 'De Havilland Canada DHC-8-400 Dash 8Q'}, 'airline': {'name': 'BQ'}}, {'departure': {'airport': {'icao': 'LPPT', 'iata': 'LIS', 'name': 'Lisbon', 'timeZone': 'Europe/Lisbon'}, 'scheduledTime': {'utc': '2024-10-09 04:55Z', 'local': '2024-10-09 05:55+01:00'}, 'revisedTime': {'utc': '2024-10-09 05:34Z', 'local': '2024-10-09 06:34+01:00'}, 'runwayTime': {'utc': '2024-10-09 05:34Z', 'local': '2024-10-09 06:34+01:00'}, 'terminal': '2', 'runway': '21', 'quality': ['Basic', 'Live']}, 'arrival': {'scheduledTime': {'utc': '2024-10-09 08:20Z', 'local': '2024-10-09 10:20+02:00'}, 'revisedTime': {'utc': '2024-10-09 08:34Z', 'local': '2024-10-09 10:34+02:00'}, 'terminal': '2', 'gate': 'Z30', 'baggageBelt': 'C3', 'quality': ['Basic', 'Live']}, 'number': 'FR 1143', 'callSign': 'RYR37TH', 'status': 'Arrived', 'codeshareStatus': 'IsOperator', 'isCargo': False, 'aircraft': {'reg': 'EI-EBD', 'modeS': '4CA701', 'model': 'Boeing 737'}, 'airline': {'name': 'Ryanair', 'iata': 'FR', 'icao': 'RYR'}}, {'departure': {'airport': {'icao': 'EPWA', 'iata': 'WAW', 'name': 'Warsaw', 'timeZone': 'Europe/Warsaw'}, 'scheduledTime': {'utc': '2024-10-09 07:15Z', 'local': '2024-10-09 09:15+02:00'}, 'revisedTime': {'utc': '2024-10-09 07:37Z', 'local': '2024-10-09 09:37+02:00'}, 'runwayTime': {'utc': '2024-10-09 07:37Z', 'local': '2024-10-09 09:37+02:00'}, 'runway': '15', 'quality': ['Basic', 'Live']}, 'arrival': {'scheduledTime': {'utc': '2024-10-09 08:30Z', 'local': '2024-10-09 10:30+02:00'}, 'revisedTime': {'utc': '2024-10-09 08:36Z', 'local': '2024-10-09 10:36+02:00'}, 'terminal': '1', 'gate': 'A30', 'baggageBelt': 'A2', 'quality': ['Basic', 'Live']}, 'number': 'LO 387', 'callSign': 'LOT7AE', 'status': 'Arrived', 'codeshareStatus': 'IsOperator', 'isCargo': False, 'aircraft': {'reg': 'SP-LME', 'modeS': '48AD84', 'model': 'Embraer 190'}, 'airline': {'name': 'LOT - Polish', 'iata': 'LO', 'icao': 'LOT'}}, {'departure': {'airport': {'icao': 'LEMD', 'iata': 'MAD', 'name': 'Madrid', 'timeZone': 'Europe/Madrid'}, 'scheduledTime': {'utc': '2024-10-09 05:30Z', 'local': '2024-10-09 07:30+02:00'}, 'revisedTime': {'utc': '2024-10-09 05:59Z', 'local': '2024-10-09 07:59+02:00'}, 'terminal': '4', 'checkInDesk': '850-859', 'gate': 'J44', 'quality': ['Basic', 'Live']}, 'arrival': {'scheduledTime': {'utc': '2024-10-09 08:35Z', 'local': '2024-10-09 10:35+02:00'}, 'revisedTime': {'utc': '2024-10-09 08:38Z', 'local': '2024-10-09 10:38+02:00'}, 'terminal': '1', 'gate': 'A37', 'baggageBelt': 'A1', 'quality': ['Basic', 'Live']}, 'number': 'IB 3676', 'status': 'Arrived', 'codeshareStatus': 'IsCodeshared', 'isCargo': False, 'aircraft': {'reg': 'EC-NIF', 'modeS': '34644D', 'model': 'Airbus A321 (Sharklets)'}, 'airline': {'name': 'Iberia', 'iata': 'IB', 'icao': 'IBE'}}, {'departure': {'airport': {'icao': 'LEMD', 'iata': 'MAD', 'name': 'Madrid', 'timeZone': 'Europe/Madrid'}, 'scheduledTime': {'utc': '2024-10-09 05:30Z', 'local': '2024-10-09 07:30+02:00'}, 'revisedTime': {'utc': '2024-10-09 05:59Z', 'local': '2024-10-09 07:59+02:00'}, 'runwayTime': {'utc': '2024-10-09 06:17Z', 'local': '2024-10-09 08:17+02:00'}, 'terminal': '4', 'checkInDesk': '850-859', 'gate': 'J44', 'runway': '14L', 'quality': ['Basic', 'Live']}, 'arrival': {'scheduledTime': {'utc': '2024-10-09 08:35Z', 'local': '2024-10-09 10:35+02:00'}, 'revisedTime': {'utc': '2024-10-09 08:38Z', 'local': '2024-10-09 10:38+02:00'}, 'terminal': '1', 'gate': 'A37', 'baggageBelt': 'A1', 'quality': ['Basic', 'Live']}, 'number': 'I2 3676', 'callSign': 'IBS36YR', 'status': 'Arrived', 'codeshareStatus': 'IsOperator', 'isCargo': False, 'aircraft': {'reg': 'EC-NIF', 'modeS': '34644D', 'model': 'Airbus A321 (Sharklets)'}, 'airline': {'name': 'Iberia Express', 'iata': 'I2', 'icao': 'IBS'}}, {'departure': {'airport': {'icao': 'LIRF', 'iata': 'FCO', 'name': 'Rome', 'timeZone': 'Europe/Rome'}, 'scheduledTime': {'utc': '2024-10-09 06:30Z', 'local': '2024-10-09 08:30+02:00'}, 'revisedTime': {'utc': '2024-10-09 06:58Z', 'local': '2024-10-09 08:58+02:00'}, 'runwayTime': {'utc': '2024-10-09 06:58Z', 'local': '2024-10-09 08:58+02:00'}, 'terminal': '1', 'quality': ['Basic', 'Live']}, 'arrival': {'scheduledTime': {'utc': '2024-10-09 08:40Z', 'local': '2024-10-09 10:40+02:00'}, 'revisedTime': {'utc': '2024-10-09 08:40Z', 'local': '2024-10-09 10:40+02:00'}, 'terminal': '2', 'gate': 'Z33', 'baggageBelt': 'C2', 'quality': ['Basic', 'Live']}, 'number': 'FR 41', 'callSign': 'RYR83PC', 'status': 'Arrived', 'codeshareStatus': 'IsOperator', 'isCargo': False, 'aircraft': {'reg': '9H-QDW', 'modeS': '4D228A', 'model': 'Boeing 737-800'}, 'airline': {'name': 'Ryanair', 'iata': 'FR', 'icao': 'RYR'}}, {'departure': {'airport': {'icao': 'EIDW', 'iata': 'DUB', 'name': 'Dublin', 'timeZone': 'Europe/Dublin'}, 'scheduledTime': {'utc': '2024-10-09 06:50Z', 'local': '2024-10-09 07:50+01:00'}, 'revisedTime': {'utc': '2024-10-09 06:50Z', 'local': '2024-10-09 07:50+01:00'}, 'runwayTime': {'utc': '2024-10-09 07:06Z', 'local': '2024-10-09 08:06+01:00'}, 'terminal': '1', 'checkInDesk': '1204-1319', 'gate': '103', 'quality': ['Basic', 'Live']}, 'arrival': {'scheduledTime': {'utc': '2024-10-09 09:05Z', 'local': '2024-10-09 11:05+02:00'}, 'revisedTime': {'utc': '2024-10-09 08:53Z', 'local': '2024-10-09 10:53+02:00'}, 'terminal': '2', 'gate': 'Z38', 'baggageBelt': 'C1', 'quality': ['Basic', 'Live']}, 'number': 'FR 3669', 'callSign': 'RYR3TF', 'status': 'Arrived', 'codeshareStatus': 'IsOperator', 'isCargo': False, 'aircraft': {'reg': '9H-VVK', 'modeS': '4D24CC', 'model': 'Boeing 737 MAX 8'}, 'airline': {'name': 'Ryanair', 'iata': 'FR', 'icao': 'RYR'}}, {'departure': {'airport': {'icao': 'EGLC', 'iata': 'LCY', 'name': 'London', 'timeZone': 'Europe/London'}, 'scheduledTime': {'utc': '2024-10-09 07:25Z', 'local': '2024-10-09 08:25+01:00'}, 'revisedTime': {'utc': '2024-10-09 07:29Z', 'local': '2024-10-09 08:29+01:00'}, 'runwayTime': {'utc': '2024-10-09 07:38Z', 'local': '2024-10-09 08:38+01:00'}, 'gate': '9', 'runway': '27', 'quality': ['Basic', 'Live']}, 'arrival': {'scheduledTime': {'utc': '2024-10-09 09:10Z', 'local': '2024-10-09 11:10+02:00'}, 'revisedTime': {'utc': '2024-10-09 08:57Z', 'local': '2024-10-09 10:57+02:00'}, 'runwayTime': {'utc': '2024-10-09 09:02Z', 'local': '2024-10-09 11:02+02:00'}, 'terminal': '1', 'gate': 'N01', 'baggageBelt': 'B3', 'quality': ['Basic', 'Live']}, 'number': 'BA 8491', 'callSign': 'CFE76JZ', 'status': 'Arrived', 'codeshareStatus': 'IsOperator', 'isCargo': False, 'aircraft': {'reg': 'G-LCYZ', 'modeS': '4075A2', 'model': 'Embraer 190'}, 'airline': {'name': 'British Airways', 'iata': 'BA', 'icao': 'BAW'}}, {'departure': {'airport': {'icao': 'LIRF', 'iata': 'FCO', 'name': 'Rome', 'timeZone': 'Europe/Rome'}, 'scheduledTime': {'utc': '2024-10-09 07:00Z', 'local': '2024-10-09 09:00+02:00'}, 'revisedTime': {'utc': '2024-10-09 07:14Z', 'local': '2024-10-09 09:14+02:00'}, 'runwayTime': {'utc': '2024-10-09 07:14Z', 'local': '2024-10-09 09:14+02:00'}, 'terminal': '1', 'runway': '25', 'quality': ['Basic', 'Live']}, 'arrival': {'scheduledTime': {'utc': '2024-10-09 09:15Z', 'local': '2024-10-09 11:15+02:00'}, 'revisedTime': {'utc': '2024-10-09 08:59Z', 'local': '2024-10-09 10:59+02:00'}, 'runwayTime': {'utc': '2024-10-09 09:03Z', 'local': '2024-10-09 11:03+02:00'}, 'terminal': '1', 'gate': 'A32', 'baggageBelt': 'A1', 'quality': ['Basic', 'Live']}, 'number': 'U2 5082', 'callSign': 'EJU34TY', 'status': 'Arrived', 'codeshareStatus': 'IsOperator', 'isCargo': False, 'aircraft': {'reg': 'OE-IJI', 'modeS': '440185', 'model': 'Airbus A320'}, 'airline': {'name': 'easyJet', 'iata': 'U2', 'icao': 'EZY'}}, {'departure': {'airport': {'icao': 'LIRF', 'iata': 'FCO', 'name': 'Rome', 'timeZone': 'Europe/Rome'}, 'scheduledTime': {'utc': '2024-10-09 07:00Z', 'local': '2024-10-09 09:00+02:00'}, 'revisedTime': {'utc': '2024-10-09 07:14Z', 'local': '2024-10-09 09:14+02:00'}, 'runwayTime': {'utc': '2024-10-09 07:14Z', 'local': '2024-10-09 09:14+02:00'}, 'terminal': '1', 'runway': '25', 'quality': ['Basic', 'Live']}, 'arrival': {'scheduledTime': {'utc': '2024-10-09 09:15Z', 'local': '2024-10-09 11:15+02:00'}, 'revisedTime': {'utc': '2024-10-09 08:59Z', 'local': '2024-10-09 10:59+02:00'}, 'runwayTime': {'utc': '2024-10-09 09:03Z', 'local': '2024-10-09 11:03+02:00'}, 'terminal': '1', 'gate': 'A32', 'baggageBelt': 'A1', 'quality': ['Basic', 'Live']}, 'number': 'EC 5082', 'callSign': 'EJU34TY', 'status': 'Arrived', 'codeshareStatus': 'IsCodeshared', 'isCargo': False, 'aircraft': {'reg': 'OE-IJI', 'modeS': '440185', 'model': 'Airbus A320'}, 'airline': {'name': 'EasyJet Europe', 'iata': 'EC', 'icao': 'EJU'}}, {'departure': {'airport': {'icao': 'EBBR', 'iata': 'BRU', 'name': 'Brussels', 'timeZone': 'Europe/Brussels'}, 'scheduledTime': {'utc': '2024-10-09 07:25Z', 'local': '2024-10-09 09:25+02:00'}, 'revisedTime': {'utc': '2024-10-09 08:00Z', 'local': '2024-10-09 10:00+02:00'}, 'runwayTime': {'utc': '2024-10-09 08:00Z', 'local': '2024-10-09 10:00+02:00'}, 'checkInDesk': '05', 'runway': '25R', 'quality': ['Basic', 'Live']}, 'arrival': {'scheduledTime': {'utc': '2024-10-09 08:50Z', 'local': '2024-10-09 10:50+02:00'}, 'revisedTime': {'utc': '2024-10-09 09:01Z', 'local': '2024-10-09 11:01+02:00'}, 'terminal': '1', 'gate': 'B10', 'baggageBelt': 'B1', 'quality': ['Basic', 'Live']}, 'number': 'SN 2581', 'callSign': 'BEL8CE', 'status': 'Arrived', 'codeshareStatus': 'IsOperator', 'isCargo': False, 'aircraft': {'reg': 'OO-SNH', 'modeS': '44CDC8', 'model': 'Airbus A320'}, 'airline': {'name': 'Brussels', 'iata': 'SN', 'icao': 'BEL'}}, {'departure': {'airport': {'icao': 'LSZH', 'iata': 'ZRH', 'name': 'Zurich', 'timeZone': 'Europe/Zurich'}, 'scheduledTime': {'utc': '2024-10-09 07:50Z', 'local': '2024-10-09 09:50+02:00'}, 'revisedTime': {'utc': '2024-10-09 07:50Z', 'local': '2024-10-09 09:50+02:00'}, 'runwayTime': {'utc': '2024-10-09 07:59Z', 'local': '2024-10-09 09:59+02:00'}, 'checkInDesk': '2(5)', 'gate': 'A72', 'runway': '28', 'quality': ['Basic', 'Live']}, 'arrival': {'scheduledTime': {'utc': '2024-10-09 09:30Z', 'local': '2024-10-09 11:30+02:00'}, 'revisedTime': {'utc': '2024-10-09 09:04Z', 'local': '2024-10-09 11:04+02:00'}, 'terminal': '1', 'gate': 'A36', 'baggageBelt': 'A4', 'quality': ['Basic', 'Live']}, 'number': 'LX 4406', 'callSign': 'EWG2BA', 'status': 'Arrived', 'codeshareStatus': 'IsCodeshared', 'isCargo': False, 'aircraft': {'reg': '9H-MLR', 'modeS': '4D23A1', 'model': 'Airbus A320'}, 'airline': {'name': 'SWISS', 'iata': 'LX', 'icao': 'SWR'}}, {'departure': {'airport': {'icao': 'LSZH', 'iata': 'ZRH', 'name': 'Zurich', 'timeZone': 'Europe/Zurich'}, 'scheduledTime': {'utc': '2024-10-09 07:50Z', 'local': '2024-10-09 09:50+02:00'}, 'revisedTime': {'utc': '2024-10-09 07:50Z', 'local': '2024-10-09 09:50+02:00'}, 'runwayTime': {'utc': '2024-10-09 07:59Z', 'local': '2024-10-09 09:59+02:00'}, 'checkInDesk': '2(5)', 'gate': 'A72', 'runway': '28', 'quality': ['Basic', 'Live']}, 'arrival': {'scheduledTime': {'utc': '2024-10-09 09:30Z', 'local': '2024-10-09 11:30+02:00'}, 'revisedTime': {'utc': '2024-10-09 09:04Z', 'local': '2024-10-09 11:04+02:00'}, 'terminal': '1', 'gate': 'A36', 'baggageBelt': 'A4', 'quality': ['Basic', 'Live']}, 'number': 'EW 8761', 'callSign': 'EWG2BA', 'status': 'Arrived', 'codeshareStatus': 'IsOperator', 'isCargo': False, 'aircraft': {'reg': '9H-MLR', 'modeS': '4D23A1', 'model': 'Airbus A320'}, 'airline': {'name': 'Eurowings', 'iata': 'EW', 'icao': 'EWG'}}, {'departure': {'airport': {'icao': 'LFMN', 'iata': 'NCE', 'name': 'Nice', 'timeZone': 'Europe/Paris'}, 'scheduledTime': {'utc': '2024-10-09 07:10Z', 'local': '2024-10-09 09:10+02:00'}, 'revisedTime': {'utc': '2024-10-09 07:32Z', 'local': '2024-10-09 09:32+02:00'}, 'runwayTime': {'utc': '2024-10-09 07:32Z', 'local': '2024-10-09 09:32+02:00'}, 'terminal': '2', 'runway': '04L', 'quality': ['Basic', 'Live']}, 'arrival': {'scheduledTime': {'utc': '2024-10-09 09:10Z', 'local': '2024-10-09 11:10+02:00'}, 'revisedTime': {'utc': '2024-10-09 09:06Z', 'local': '2024-10-09 11:06+02:00'}, 'runwayTime': {'utc': '2024-10-09 09:06Z', 'local': '2024-10-09 11:06+02:00'}, 'terminal': '1', 'gate': 'A22', 'baggageBelt': 'A1', 'runway': '25L', 'quality': ['Basic', 'Live']}, 'number': 'U2 5144', 'callSign': 'EJU59AR', 'status': 'Arrived', 'codeshareStatus': 'IsOperator', 'isCargo': False, 'aircraft': {'reg': 'OE-ICD', 'modeS': '44023F', 'model': 'Airbus A320'}, 'airline': {'name': 'easyJet', 'iata': 'U2', 'icao': 'EZY'}}, {'departure': {'airport': {'icao': 'LFMN', 'iata': 'NCE', 'name': 'Nice', 'timeZone': 'Europe/Paris'}, 'scheduledTime': {'utc': '2024-10-09 07:10Z', 'local': '2024-10-09 09:10+02:00'}, 'revisedTime': {'utc': '2024-10-09 07:32Z', 'local': '2024-10-09 09:32+02:00'}, 'runwayTime': {'utc': '2024-10-09 07:32Z', 'local': '2024-10-09 09:32+02:00'}, 'terminal': '2', 'runway': '04L', 'quality': ['Basic', 'Live']}, 'arrival': {'scheduledTime': {'utc': '2024-10-09 09:10Z', 'local': '2024-10-09 11:10+02:00'}, 'revisedTime': {'utc': '2024-10-09 09:06Z', 'local': '2024-10-09 11:06+02:00'}, 'runwayTime': {'utc': '2024-10-09 09:06Z', 'local': '2024-10-09 11:06+02:00'}, 'terminal': '1', 'gate': 'A22', 'baggageBelt': 'A1', 'runway': '25L', 'quality': ['Basic', 'Live']}, 'number': 'EC 5144', 'callSign': 'EJU59AR', 'status': 'Arrived', 'codeshareStatus': 'IsCodeshared', 'isCargo': False, 'aircraft': {'reg': 'OE-ICD', 'modeS': '44023F', 'model': 'Airbus A320'}, 'airline': {'name': 'EasyJet Europe', 'iata': 'EC', 'icao': 'EJU'}}, {'departure': {'airport': {'icao': 'EDDF', 'iata': 'FRA', 'name': 'Frankfurt-am-Main', 'timeZone': 'Europe/Berlin'}, 'scheduledTime': {'utc': '2024-10-09 07:45Z', 'local': '2024-10-09 09:45+02:00'}, 'revisedTime': {'utc': '2024-10-09 07:45Z', 'local': '2024-10-09 09:45+02:00'}, 'runwayTime': {'utc': '2024-10-09 08:21Z', 'local': '2024-10-09 10:21+02:00'}, 'terminal': '1', 'checkInDesk': '259-335', 'gate': 'A11', 'runway': '25C', 'quality': ['Basic', 'Live']}, 'arrival': {'scheduledTime': {'utc': '2024-10-09 08:55Z', 'local': '2024-10-09 10:55+02:00'}, 'revisedTime': {'utc': '2024-10-09 09:08Z', 'local': '2024-10-09 11:08+02:00'}, 'terminal': '1', 'gate': 'B02', 'baggageBelt': 'B1', 'runway': '25L', 'quality': ['Basic', 'Live']}, 'number': 'LH 178', 'callSign': 'DLH178', 'status': 'Arrived', 'codeshareStatus': 'IsOperator', 'isCargo': False, 'aircraft': {'reg': 'D-AIEK', 'modeS': '3C64AB', 'model': 'Airbus A321 NEO'}, 'airline': {'name': 'Lufthansa', 'iata': 'LH', 'icao': 'DLH'}}, {'departure': {'airport': {'icao': 'LFPG', 'iata': 'CDG', 'name': 'Paris', 'timeZone': 'Europe/Paris'}, 'scheduledTime': {'utc': '2024-10-09 07:30Z', 'local': '2024-10-09 09:30+02:00'}, 'revisedTime': {'utc': '2024-10-09 08:05Z', 'local': '2024-10-09 10:05+02:00'}, 'runwayTime': {'utc': '2024-10-09 08:05Z', 'local': '2024-10-09 10:05+02:00'}, 'terminal': '2F', 'quality': ['Basic', 'Live']}, 'arrival': {'scheduledTime': {'utc': '2024-10-09 09:15Z', 'local': '2024-10-09 11:15+02:00'}, 'revisedTime': {'utc': '2024-10-09 09:15Z', 'local': '2024-10-09 11:15+02:00'}, 'runwayTime': {'utc': '2024-10-09 08:23Z', 'local': '2024-10-09 10:23+02:00'}, 'terminal': '1', 'gate': 'B17', 'baggageBelt': 'B3', 'quality': ['Basic', 'Live']}, 'number': 'AF 1734', 'callSign': 'AFR57NH', 'status': 'Arrived', 'codeshareStatus': 'IsOperator', 'isCargo': False, 'aircraft': {'reg': 'F-HPNC', 'modeS': '39BDA2', 'model': 'Airbus A220-300'}, 'airline': {'name': 'Air France', 'iata': 'AF', 'icao': 'AFR'}}, {'departure': {'airport': {'icao': 'LTAI', 'iata': 'AYT', 'name': 'Antalya', 'timeZone': 'Europe/Istanbul'}, 'scheduledTime': {'utc': '2024-10-09 06:00Z', 'local': '2024-10-09 09:00+03:00'}, 'revisedTime': {'utc': '2024-10-09 06:00Z', 'local': '2024-10-09 09:00+03:00'}, 'terminal': '1', 'checkInDesk': '135-137', 'quality': ['Basic', 'Live']}, 'arrival': {'scheduledTime': {'utc': '2024-10-09 09:35Z', 'local': '2024-10-09 11:35+02:00'}, 'revisedTime': {'utc': '2024-10-09 09:17Z', 'local': '2024-10-09 11:17+02:00'}, 'terminal': '1', 'gate': 'X03', 'baggageBelt': 'A2', 'quality': ['Basic', 'Live']}, 'number': 'XQ 160', 'callSign': 'SXS2SR', 'status': 'Arrived', 'codeshareStatus': 'IsOperator', 'isCargo': False, 'aircraft': {'reg': 'TC-SPT', 'modeS': '4BCE14', 'model': 'Boeing 737-800'}, 'airline': {'name': 'Sun Express', 'iata': 'XQ', 'icao': 'SXS'}}, {'departure': {'airport': {'icao': 'BIKF', 'iata': 'KEF', 'name': 'Reykjavik', 'timeZone': 'Atlantic/Reykjavik'}, 'scheduledTime': {'utc': '2024-10-09 06:00Z', 'local': '2024-10-09 06:00+00:00'}, 'revisedTime': {'utc': '2024-10-09 05:55Z', 'local': '2024-10-09 05:55+00:00'}, 'runwayTime': {'utc': '2024-10-09 06:09Z', 'local': '2024-10-09 06:09+00:00'}, 'gate': 'C22', 'quality': ['Basic', 'Live']}, 'arrival': {'scheduledTime': {'utc': '2024-10-09 09:30Z', 'local': '2024-10-09 11:30+02:00'}, 'revisedTime': {'utc': '2024-10-09 09:19Z', 'local': '2024-10-09 11:19+02:00'}, 'terminal': '2', 'gate': 'Z29', 'baggageBelt': 'C2', 'quality': ['Basic', 'Live']}, 'number': 'OG 700', 'status': 'Arrived', 'codeshareStatus': 'IsOperator', 'isCargo': False, 'aircraft': {'reg': 'TF-PPA', 'modeS': '4CC552', 'model': 'Airbus A320 NEO'}, 'airline': {'name': 'Ghodawat Enterprises', 'iata': 'OG', 'icao': 'SDG'}}, {'departure': {'airport': {'icao': 'LFSB', 'iata': 'BSL', 'name': 'Bâle/Mulhouse', 'timeZone': 'Europe/Paris'}, 'scheduledTime': {'utc': '2024-10-09 08:00Z', 'local': '2024-10-09 10:00+02:00'}, 'revisedTime': {'utc': '2024-10-09 08:17Z', 'local': '2024-10-09 10:17+02:00'}, 'checkInDesk': '42-50', 'gate': '44', 'quality': ['Basic', 'Live']}, 'arrival': {'scheduledTime': {'utc': '2024-10-09 09:30Z', 'local': '2024-10-09 11:30+02:00'}, 'revisedTime': {'utc': '2024-10-09 09:21Z', 'local': '2024-10-09 11:21+02:00'}, 'terminal': '1', 'gate': 'A34', 'baggageBelt': 'A1', 'quality': ['Basic', 'Live']}, 'number': 'U2 5535', 'callSign': 'EJU75ZB', 'status': 'Arrived', 'codeshareStatus': 'IsOperator', 'isCargo': False, 'aircraft': {'reg': 'OE-LKL', 'modeS': '44061C', 'model': 'Airbus A319'}, 'airline': {'name': 'easyJet', 'iata': 'U2', 'icao': 'EZY'}}, {'departure': {'airport': {'icao': 'LFSB', 'iata': 'BSL', 'name': 'Bâle/Mulhouse', 'timeZone': 'Europe/Paris'}, 'scheduledTime': {'utc': '2024-10-09 08:00Z', 'local': '2024-10-09 10:00+02:00'}, 'revisedTime': {'utc': '2024-10-09 08:17Z', 'local': '2024-10-09 10:17+02:00'}, 'checkInDesk': '42-50', 'gate': '44', 'quality': ['Basic', 'Live']}, 'arrival': {'scheduledTime': {'utc': '2024-10-09 09:30Z', 'local': '2024-10-09 11:30+02:00'}, 'revisedTime': {'utc': '2024-10-09 09:21Z', 'local': '2024-10-09 11:21+02:00'}, 'terminal': '1', 'gate': 'A34', 'baggageBelt': 'A1', 'quality': ['Basic', 'Live']}, 'number': 'EC 5535', 'callSign': 'EJU75ZB', 'status': 'Arrived', 'codeshareStatus': 'IsCodeshared', 'isCargo': False, 'aircraft': {'reg': 'OE-LKL', 'modeS': '44061C', 'model': 'Airbus A319'}, 'airline': {'name': 'EasyJet Europe', 'iata': 'EC', 'icao': 'EJU'}}, {'departure': {'airport': {'icao': 'EHAM', 'iata': 'AMS', 'name': 'Amsterdam', 'timeZone': 'Europe/Amsterdam'}, 'scheduledTime': {'utc': '2024-10-09 08:15Z', 'local': '2024-10-09 10:15+02:00'}, 'revisedTime': {'utc': '2024-10-09 08:20Z', 'local': '2024-10-09 10:20+02:00'}, 'terminal': '1', 'checkInDesk': '6-8', 'gate': 'C11', 'quality': ['Basic', 'Live']}, 'arrival': {'scheduledTime': {'utc': '2024-10-09 09:30Z', 'local': '2024-10-09 11:30+02:00'}, 'revisedTime': {'utc': '2024-10-09 09:27Z', 'local': '2024-10-09 11:27+02:00'}, 'terminal': '1', 'gate': 'B03', 'baggageBelt': 'B2', 'quality': ['Basic', 'Live']}, 'number': 'KL 1775', 'callSign': 'KLM1775', 'status': 'Arrived', 'codeshareStatus': 'IsOperator', 'isCargo': False, 'aircraft': {'reg': 'PH-BGA', 'modeS': '484558', 'model': 'Boeing 737'}, 'airline': {'name': 'KLM', 'iata': 'KL', 'icao': 'KLM'}}, {'departure': {'airport': {'icao': 'LTFJ', 'iata': 'SAW', 'name': 'Istanbul', 'timeZone': 'Europe/Istanbul'}, 'scheduledTime': {'utc': '2024-10-09 06:20Z', 'local': '2024-10-09 09:20+03:00'}, 'quality': ['Basic']}, 'arrival': {'scheduledTime': {'utc': '2024-10-09 09:25Z', 'local': '2024-10-09 11:25+02:00'}, 'revisedTime': {'utc': '2024-10-09 09:34Z', 'local': '2024-10-09 11:34+02:00'}, 'terminal': '1', 'gate': 'X02', 'baggageBelt': 'A3', 'quality': ['Basic', 'Live']}, 'number': 'VF 57', 'status': 'Arrived', 'codeshareStatus': 'IsOperator', 'isCargo': False, 'aircraft': {'reg': 'YL-LDQ', 'modeS': '502D72', 'model': 'Airbus A321'}, 'airline': {'name': 'Ajet', 'iata': 'VF', 'icao': 'VLU'}}, {'departure': {'airport': {'icao': 'LGTS', 'iata': 'SKG', 'name': 'Thessaloniki', 'timeZone': 'Europe/Athens'}, 'scheduledTime': {'utc': '2024-10-09 06:55Z', 'local': '2024-10-09 09:55+03:00'}, 'quality': ['Basic']}, 'arrival': {'scheduledTime': {'utc': '2024-10-09 09:25Z', 'local': '2024-10-09 11:25+02:00'}, 'revisedTime': {'utc': '2024-10-09 09:35Z', 'local': '2024-10-09 11:35+02:00'}, 'runwayTime': {'utc': '2024-10-09 09:36Z', 'local': '2024-10-09 11:36+02:00'}, 'terminal': '2', 'gate': 'Z34', 'baggageBelt': 'C3', 'runway': '25R', 'quality': ['Basic', 'Live']}, 'number': 'FR 1147', 'callSign': 'RYR3KZ', 'status': 'Arrived', 'codeshareStatus': 'IsOperator', 'isCargo': False, 'aircraft': {'reg': '9H-VVM', 'modeS': '4D24EB', 'model': 'Boeing 737 MAX 8'}, 'airline': {'name': 'Ryanair', 'iata': 'FR', 'icao': 'RYR'}}, {'departure': {'airport': {'icao': 'ESSA', 'iata': 'ARN', 'name': 'Stockholm', 'timeZone': 'Europe/Stockholm'}, 'scheduledTime': {'utc': '2024-10-09 08:05Z', 'local': '2024-10-09 10:05+02:00'}, 'revisedTime': {'utc': '2024-10-09 08:01Z', 'local': '2024-10-09 10:01+02:00'}, 'runwayTime': {'utc': '2024-10-09 08:10Z', 'local': '2024-10-09 10:10+02:00'}, 'terminal': '5', 'checkInDesk': '71-80', 'gate': 'E9', 'runway': '19R', 'quality': ['Basic', 'Live']}, 'arrival': {'scheduledTime': {'utc': '2024-10-09 09:40Z', 'local': '2024-10-09 11:40+02:00'}, 'revisedTime': {'utc': '2024-10-09 09:38Z', 'local': '2024-10-09 11:38+02:00'}, 'terminal': '1', 'gate': 'A30', 'baggageBelt': 'A4', 'quality': ['Basic', 'Live']}, 'number': 'SK 2677', 'callSign': 'SAS2677', 'status': 'Arrived', 'codeshareStatus': 'IsOperator', 'isCargo': False, 'aircraft': {'reg': 'SE-RON', 'modeS': '4AC9EE', 'model': 'Airbus A320 (Sharklets)'}, 'airline': {'name': 'SAS', 'iata': 'SK', 'icao': 'SAS'}}, {'departure': {'airport': {'icao': 'LTFJ', 'iata': 'SAW', 'name': 'Istanbul', 'timeZone': 'Europe/Istanbul'}, 'quality': []}, 'arrival': {'scheduledTime': {'utc': '2024-10-09 09:39Z', 'local': '2024-10-09 11:39+02:00'}, 'revisedTime': {'utc': '2024-10-09 09:39Z', 'local': '2024-10-09 11:39+02:00'}, 'runwayTime': {'utc': '2024-10-09 09:39Z', 'local': '2024-10-09 11:39+02:00'}, 'quality': ['Basic', 'Live']}, 'number': 'TKJ 86N', 'callSign': 'TKJ86N', 'status': 'Arrived', 'codeshareStatus': 'IsOperator', 'isCargo': False, 'aircraft': {'reg': 'YL-LDQ', 'modeS': '502D72', 'model': 'Airbus A321'}, 'airline': {'name': 'TKJ'}}, {'departure': {'airport': {'icao': 'ESSA', 'iata': 'ARN', 'name': 'Stockholm', 'timeZone': 'Europe/Stockholm'}, 'scheduledTime': {'utc': '2024-10-09 08:00Z', 'local': '2024-10-09 10:00+02:00'}, 'revisedTime': {'utc': '2024-10-09 08:05Z', 'local': '2024-10-09 10:05+02:00'}, 'runwayTime': {'utc': '2024-10-09 08:18Z', 'local': '2024-10-09 10:18+02:00'}, 'terminal': '5', 'checkInDesk': '18-0', 'gate': 'D14', 'runway': '19R', 'quality': ['Basic', 'Live']}, 'arrival': {'scheduledTime': {'utc': '2024-10-09 09:35Z', 'local': '2024-10-09 11:35+02:00'}, 'revisedTime': {'utc': '2024-10-09 09:42Z', 'local': '2024-10-09 11:42+02:00'}, 'runwayTime': {'utc': '2024-10-09 09:43Z', 'local': '2024-10-09 11:43+02:00'}, 'terminal': '2', 'gate': 'Z32', 'baggageBelt': 'C2', 'runway': '25R', 'quality': ['Basic', 'Live']}, 'number': 'DY 886', 'callSign': 'NOZ886', 'status': 'Arrived', 'codeshareStatus': 'IsOperator', 'isCargo': False, 'aircraft': {'reg': 'SE-RYC', 'modeS': '4ACB23', 'model': 'Boeing 737'}, 'airline': {'name': 'Norwegian Air Shuttle', 'iata': 'DY', 'icao': 'NOZ'}}, {'departure': {'airport': {'icao': 'LEPA', 'iata': 'PMI', 'name': 'Palma De Mallorca', 'timeZone': 'Europe/Madrid'}, 'scheduledTime': {'utc': '2024-10-09 05:50Z', 'local': '2024-10-09 07:50+02:00'}, 'revisedTime': {'utc': '2024-10-09 07:10Z', 'local': '2024-10-09 09:10+02:00'}, 'runwayTime': {'utc': '2024-10-09 07:24Z', 'local': '2024-10-09 09:24+02:00'}, 'terminal': 'N', 'checkInDesk': '002-017', 'gate': 'C72', 'quality': ['Basic', 'Live']}, 'arrival': {'scheduledTime': {'utc': '2024-10-09 08:35Z', 'local': '2024-10-09 10:35+02:00'}, 'revisedTime': {'utc': '2024-10-09 09:44Z', 'local': '2024-10-09 11:44+02:00'}, 'runwayTime': {'utc': '2024-10-09 09:44Z', 'local': '2024-10-09 11:44+02:00'}, 'terminal': '2', 'gate': 'Z36', 'baggageBelt': 'C1', 'runway': '25R', 'quality': ['Basic', 'Live']}, 'number': 'FR 111', 'callSign': 'RYR2CG', 'status': 'Arrived', 'codeshareStatus': 'IsOperator', 'isCargo': False, 'aircraft': {'reg': 'EI-EFE', 'modeS': '4CA760', 'model': 'Boeing 737-800'}, 'airline': {'name': 'Ryanair', 'iata': 'FR', 'icao': 'RYR'}}, {'departure': {'airport': {'icao': 'LTFJ', 'iata': 'SAW', 'name': 'Istanbul', 'timeZone': 'Europe/Istanbul'}, 'scheduledTime': {'utc': '2024-10-09 07:15Z', 'local': '2024-10-09 10:15+03:00'}, 'quality': ['Basic']}, 'arrival': {'scheduledTime': {'utc': '2024-10-09 10:10Z', 'local': '2024-10-09 12:10+02:00'}, 'revisedTime': {'utc': '2024-10-09 09:46Z', 'local': '2024-10-09 11:46+02:00'}, 'terminal': '1', 'gate': 'X01', 'baggageBelt': 'A4', 'quality': ['Basic', 'Live']}, 'number': 'PC 979', 'callSign': 'PGT74ZN', 'status': 'Arrived', 'codeshareStatus': 'IsOperator', 'isCargo': False, 'aircraft': {'reg': 'TC-RDF', 'modeS': '4BC886', 'model': 'Airbus A321 NEO'}, 'airline': {'name': 'Pegasus', 'iata': 'PC', 'icao': 'PGT'}}, {'departure': {'airport': {'icao': 'LSZH', 'iata': 'ZRH', 'name': 'Zurich', 'timeZone': 'Europe/Zurich'}, 'scheduledTime': {'utc': '2024-10-09 05:20Z', 'local': '2024-10-09 07:20+02:00'}, 'revisedTime': {'utc': '2024-10-09 08:30Z', 'local': '2024-10-09 10:30+02:00'}, 'checkInDesk': '1', 'gate': 'A64', 'quality': ['Basic', 'Live']}, 'arrival': {'scheduledTime': {'utc': '2024-10-09 06:45Z', 'local': '2024-10-09 08:45+02:00'}, 'revisedTime': {'utc': '2024-10-09 09:48Z', 'local': '2024-10-09 11:48+02:00'}, 'terminal': '1', 'gate': 'S01', 'baggageBelt': 'B4', 'quality': ['Basic', 'Live']}, 'number': 'LX 974', 'callSign': 'SWR97Y', 'status': 'Arrived', 'codeshareStatus': 'IsOperator', 'isCargo': False, 'aircraft': {'reg': 'HB-IJO', 'modeS': '4B1618', 'model': 'Airbus A320'}, 'airline': {'name': 'SWISS', 'iata': 'LX', 'icao': 'SWR'}}, {'departure': {'airport': {'icao': 'LTFM', 'iata': 'IST', 'name': 'Istanbul', 'timeZone': 'Europe/Istanbul'}, 'scheduledTime': {'utc': '2024-10-09 07:00Z', 'local': '2024-10-09 10:00+03:00'}, 'revisedTime': {'utc': '2024-10-09 07:00Z', 'local': '2024-10-09 10:00+03:00'}, 'runwayTime': {'utc': '2024-10-09 07:42Z', 'local': '2024-10-09 10:42+03:00'}, 'checkInDesk': 'E-F', 'gate': 'B14', 'quality': ['Basic', 'Live']}, 'arrival': {'scheduledTime': {'utc': '2024-10-09 09:45Z', 'local': '2024-10-09 11:45+02:00'}, 'revisedTime': {'utc': '2024-10-09 09:49Z', 'local': '2024-10-09 11:49+02:00'}, 'terminal': '1', 'gate': 'Y07', 'baggageBelt': 'B3', 'quality': ['Basic', 'Live']}, 'number': 'TK 1729', 'callSign': 'THY5HW', 'status': 'Arrived', 'codeshareStatus': 'IsOperator', 'isCargo': False, 'aircraft': {'reg': 'TC-JNP', 'modeS': '4BA9D0', 'model': 'Airbus A330-300'}, 'airline': {'name': 'Turkish', 'iata': 'TK', 'icao': 'THY'}}, {'departure': {'airport': {'icao': 'EGPH', 'iata': 'EDI', 'name': 'Edinburgh', 'timeZone': 'Europe/London'}, 'scheduledTime': {'utc': '2024-10-09 08:05Z', 'local': '2024-10-09 09:05+01:00'}, 'revisedTime': {'utc': '2024-10-09 08:10Z', 'local': '2024-10-09 09:10+01:00'}, 'runwayTime': {'utc': '2024-10-09 08:12Z', 'local': '2024-10-09 09:12+01:00'}, 'quality': ['Basic', 'Live']}, 'arrival': {'scheduledTime': {'utc': '2024-10-09 10:05Z', 'local': '2024-10-09 12:05+02:00'}, 'revisedTime': {'utc': '2024-10-09 09:55Z', 'local': '2024-10-09 11:55+02:00'}, 'terminal': '2', 'gate': 'Z42', 'baggageBelt': 'C3', 'quality': ['Basic', 'Live']}, 'number': 'FR 2376', 'callSign': 'RYR2376', 'status': 'Arrived', 'codeshareStatus': 'IsOperator', 'isCargo': False, 'aircraft': {'reg': 'EI-IGK', 'modeS': '4CADBD', 'model': 'Boeing 737 MAX 8'}, 'airline': {'name': 'Ryanair', 'iata': 'FR', 'icao': 'RYR'}}]}\n"
     ]
    }
   ],
   "source": [
    "import requests\n",
    "\n",
    "url = \"https://aerodatabox.p.rapidapi.com/flights/airports/icao/EDDB/2024-10-09T00:00/2024-10-09T11:59\"\n",
    "\n",
    "querystring = {\"withLeg\":\"true\",\"direction\":\"Arrival\",\"withCancelled\":\"false\",\"withCodeshared\":\"true\",\"withCargo\":\"false\",\"withPrivate\":\"false\",\"withLocation\":\"false\"}\n",
    "\n",
    "headers = {\n",
    "\t\"x-rapidapi-key\": AeroDatabox,\n",
    "\t\"x-rapidapi-host\": \"aerodatabox.p.rapidapi.com\"\n",
    "}\n",
    "\n",
    "response = requests.get(url, headers=headers, params=querystring)\n",
    "\n",
    "print(response.json())"
   ]
  },
  {
   "cell_type": "code",
   "execution_count": 10,
   "metadata": {
    "id": "lSC-iH8u-Zs-",
    "outputId": "e1a74815-a423-4bc1-8331-8fd1d1311102"
   },
   "outputs": [
    {
     "data": {
      "text/plain": [
       "datetime.date(2024, 10, 14)"
      ]
     },
     "execution_count": 10,
     "metadata": {},
     "output_type": "execute_result"
    }
   ],
   "source": [
    "date_ = datetime.now().date()\n",
    "date_"
   ]
  },
  {
   "cell_type": "code",
   "execution_count": 12,
   "metadata": {
    "id": "gQLlsn-N-Zs-",
    "outputId": "2c17316d-2e4f-4441-8915-bf884c8561fd",
    "tags": []
   },
   "outputs": [
    {
     "data": {
      "text/plain": [
       "'2024-10-14'"
      ]
     },
     "execution_count": 12,
     "metadata": {},
     "output_type": "execute_result"
    }
   ],
   "source": [
    "date_ = date_.strftime(\"%Y-%m-%d\")\n",
    "date_"
   ]
  },
  {
   "cell_type": "code",
   "execution_count": 14,
   "metadata": {
    "id": "Y5Mk3x4_-Zs-",
    "outputId": "927c676b-19de-4423-a0f3-4cbb20004eea",
    "scrolled": true,
    "tags": []
   },
   "outputs": [
    {
     "data": {
      "text/plain": [
       "{'arrivals': [{'departure': {'airport': {'icao': 'UGTB',\n",
       "     'iata': 'TBS',\n",
       "     'name': 'Tbilisi',\n",
       "     'timeZone': 'Asia/Tbilisi'},\n",
       "    'scheduledTime': {'utc': '2024-10-13 23:20Z',\n",
       "     'local': '2024-10-14 03:20+04:00'},\n",
       "    'revisedTime': {'utc': '2024-10-13 23:56Z',\n",
       "     'local': '2024-10-14 03:56+04:00'},\n",
       "    'checkInDesk': '05',\n",
       "    'gate': '103',\n",
       "    'quality': ['Basic', 'Live']},\n",
       "   'arrival': {'scheduledTime': {'utc': '2024-10-14 03:40Z',\n",
       "     'local': '2024-10-14 05:40+02:00'},\n",
       "    'revisedTime': {'utc': '2024-10-14 04:14Z',\n",
       "     'local': '2024-10-14 06:14+02:00'},\n",
       "    'runwayTime': {'utc': '2024-10-14 04:14Z',\n",
       "     'local': '2024-10-14 06:14+02:00'},\n",
       "    'terminal': '1',\n",
       "    'gate': 'X10',\n",
       "    'baggageBelt': 'A2',\n",
       "    'runway': '25L',\n",
       "    'quality': ['Basic', 'Live']},\n",
       "   'number': 'EW 8993',\n",
       "   'callSign': 'EWG8993',\n",
       "   'status': 'Arrived',\n",
       "   'codeshareStatus': 'IsOperator',\n",
       "   'isCargo': False,\n",
       "   'aircraft': {'reg': '9H-MLR', 'modeS': '4D23A1', 'model': 'Airbus A320'},\n",
       "   'airline': {'name': 'Eurowings', 'iata': 'EW', 'icao': 'EWG'}},\n",
       "  {'departure': {'airport': {'icao': 'LTBJ',\n",
       "     'iata': 'ADB',\n",
       "     'name': 'İzmir',\n",
       "     'timeZone': 'Europe/Istanbul'},\n",
       "    'scheduledTime': {'utc': '2024-10-14 01:25Z',\n",
       "     'local': '2024-10-14 04:25+03:00'},\n",
       "    'revisedTime': {'utc': '2024-10-14 01:29Z',\n",
       "     'local': '2024-10-14 04:29+03:00'},\n",
       "    'runwayTime': {'utc': '2024-10-14 01:31Z',\n",
       "     'local': '2024-10-14 04:31+03:00'},\n",
       "    'terminal': 'I',\n",
       "    'checkInDesk': '13',\n",
       "    'gate': '33',\n",
       "    'quality': ['Basic', 'Live']},\n",
       "   'arrival': {'scheduledTime': {'utc': '2024-10-14 04:30Z',\n",
       "     'local': '2024-10-14 06:30+02:00'},\n",
       "    'revisedTime': {'utc': '2024-10-14 04:17Z',\n",
       "     'local': '2024-10-14 06:17+02:00'},\n",
       "    'runwayTime': {'utc': '2024-10-14 04:18Z',\n",
       "     'local': '2024-10-14 06:18+02:00'},\n",
       "    'terminal': '1',\n",
       "    'gate': 'N01',\n",
       "    'baggageBelt': 'B3',\n",
       "    'runway': '25R',\n",
       "    'quality': ['Basic', 'Live']},\n",
       "   'number': 'XQ 966',\n",
       "   'callSign': 'SXS5D',\n",
       "   'status': 'Arrived',\n",
       "   'codeshareStatus': 'IsOperator',\n",
       "   'isCargo': False,\n",
       "   'aircraft': {'reg': 'TC-SEM', 'modeS': '4BCCAD', 'model': 'Boeing 737-800'},\n",
       "   'airline': {'name': 'Sun Express', 'iata': 'XQ', 'icao': 'SXS'}},\n",
       "  {'departure': {'airport': {'icao': 'ZBAA',\n",
       "     'iata': 'PEK',\n",
       "     'name': 'Beijing',\n",
       "     'timeZone': 'Asia/Shanghai'},\n",
       "    'scheduledTime': {'utc': '2024-10-13 18:40Z',\n",
       "     'local': '2024-10-14 02:40+08:00'},\n",
       "    'revisedTime': {'utc': '2024-10-13 18:49Z',\n",
       "     'local': '2024-10-14 02:49+08:00'},\n",
       "    'terminal': '2',\n",
       "    'checkInDesk': 'C11-C15',\n",
       "    'gate': '12',\n",
       "    'quality': ['Basic', 'Live']},\n",
       "   'arrival': {'scheduledTime': {'utc': '2024-10-14 04:45Z',\n",
       "     'local': '2024-10-14 06:45+02:00'},\n",
       "    'revisedTime': {'utc': '2024-10-14 04:26Z',\n",
       "     'local': '2024-10-14 06:26+02:00'},\n",
       "    'terminal': '1',\n",
       "    'gate': 'X17',\n",
       "    'baggageBelt': 'A3',\n",
       "    'quality': ['Basic', 'Live']},\n",
       "   'number': 'HU 489',\n",
       "   'callSign': 'CHH489',\n",
       "   'status': 'Arrived',\n",
       "   'codeshareStatus': 'IsOperator',\n",
       "   'isCargo': False,\n",
       "   'aircraft': {'reg': 'B-304L', 'modeS': '781591', 'model': 'Airbus A330'},\n",
       "   'airline': {'name': 'Hainan', 'iata': 'HU', 'icao': 'CHH'}},\n",
       "  {'departure': {'airport': {'icao': 'LTAJ',\n",
       "     'iata': 'GZT',\n",
       "     'name': 'Gaziantep',\n",
       "     'timeZone': 'Europe/Istanbul'},\n",
       "    'scheduledTime': {'utc': '2024-10-14 00:55Z',\n",
       "     'local': '2024-10-14 03:55+03:00'},\n",
       "    'quality': ['Basic']},\n",
       "   'arrival': {'scheduledTime': {'utc': '2024-10-14 04:45Z',\n",
       "     'local': '2024-10-14 06:45+02:00'},\n",
       "    'revisedTime': {'utc': '2024-10-14 04:53Z',\n",
       "     'local': '2024-10-14 06:53+02:00'},\n",
       "    'terminal': '1',\n",
       "    'gate': 'N01',\n",
       "    'baggageBelt': 'B1',\n",
       "    'quality': ['Basic', 'Live']},\n",
       "   'number': 'XQ 1766',\n",
       "   'status': 'Arrived',\n",
       "   'codeshareStatus': 'IsOperator',\n",
       "   'isCargo': False,\n",
       "   'aircraft': {'reg': 'TC-SOO', 'modeS': '4BCDEF', 'model': 'Boeing 737'},\n",
       "   'airline': {'name': 'Sun Express', 'iata': 'XQ', 'icao': 'SXS'}},\n",
       "  {'departure': {'airport': {'icao': 'KJFK',\n",
       "     'iata': 'JFK',\n",
       "     'name': 'New York',\n",
       "     'timeZone': 'America/New_York'},\n",
       "    'scheduledTime': {'utc': '2024-10-13 21:35Z',\n",
       "     'local': '2024-10-13 17:35-04:00'},\n",
       "    'revisedTime': {'utc': '2024-10-13 21:59Z',\n",
       "     'local': '2024-10-13 17:59-04:00'},\n",
       "    'runwayTime': {'utc': '2024-10-13 21:59Z',\n",
       "     'local': '2024-10-13 17:59-04:00'},\n",
       "    'terminal': '4',\n",
       "    'runway': '13R',\n",
       "    'quality': ['Basic', 'Live']},\n",
       "   'arrival': {'scheduledTime': {'utc': '2024-10-14 05:50Z',\n",
       "     'local': '2024-10-14 07:50+02:00'},\n",
       "    'revisedTime': {'utc': '2024-10-14 04:58Z',\n",
       "     'local': '2024-10-14 06:58+02:00'},\n",
       "    'runwayTime': {'utc': '2024-10-14 04:59Z',\n",
       "     'local': '2024-10-14 06:59+02:00'},\n",
       "    'terminal': '1',\n",
       "    'gate': 'Y02',\n",
       "    'baggageBelt': 'B3',\n",
       "    'runway': '25L',\n",
       "    'quality': ['Basic', 'Live']},\n",
       "   'number': 'DL 92',\n",
       "   'callSign': 'DAL92',\n",
       "   'status': 'Arrived',\n",
       "   'codeshareStatus': 'IsOperator',\n",
       "   'isCargo': False,\n",
       "   'aircraft': {'reg': 'N1603', 'modeS': 'A0F46F', 'model': 'Boeing 767-300'},\n",
       "   'airline': {'name': 'Delta Air Lines', 'iata': 'DL', 'icao': 'DAL'}},\n",
       "  {'departure': {'airport': {'icao': 'EDDS',\n",
       "     'iata': 'STR',\n",
       "     'name': 'Stuttgart',\n",
       "     'timeZone': 'Europe/Berlin'},\n",
       "    'scheduledTime': {'utc': '2024-10-14 04:15Z',\n",
       "     'local': '2024-10-14 06:15+02:00'},\n",
       "    'revisedTime': {'utc': '2024-10-14 04:15Z',\n",
       "     'local': '2024-10-14 06:15+02:00'},\n",
       "    'terminal': '3',\n",
       "    'gate': '361',\n",
       "    'quality': ['Basic', 'Live']},\n",
       "   'arrival': {'scheduledTime': {'utc': '2024-10-14 05:25Z',\n",
       "     'local': '2024-10-14 07:25+02:00'},\n",
       "    'revisedTime': {'utc': '2024-10-14 05:11Z',\n",
       "     'local': '2024-10-14 07:11+02:00'},\n",
       "    'terminal': '1',\n",
       "    'gate': 'A33',\n",
       "    'baggageBelt': 'A4',\n",
       "    'quality': ['Basic', 'Live']},\n",
       "   'number': 'LH 5385',\n",
       "   'status': 'Arrived',\n",
       "   'codeshareStatus': 'IsCodeshared',\n",
       "   'isCargo': False,\n",
       "   'aircraft': {'reg': 'D-AGWD', 'modeS': '3C5EE4', 'model': 'Airbus A319'},\n",
       "   'airline': {'name': 'Lufthansa', 'iata': 'LH', 'icao': 'DLH'}},\n",
       "  {'departure': {'airport': {'icao': 'EDDS',\n",
       "     'iata': 'STR',\n",
       "     'name': 'Stuttgart',\n",
       "     'timeZone': 'Europe/Berlin'},\n",
       "    'scheduledTime': {'utc': '2024-10-14 04:15Z',\n",
       "     'local': '2024-10-14 06:15+02:00'},\n",
       "    'revisedTime': {'utc': '2024-10-14 04:15Z',\n",
       "     'local': '2024-10-14 06:15+02:00'},\n",
       "    'terminal': '3',\n",
       "    'gate': '361',\n",
       "    'quality': ['Basic', 'Live']},\n",
       "   'arrival': {'scheduledTime': {'utc': '2024-10-14 05:25Z',\n",
       "     'local': '2024-10-14 07:25+02:00'},\n",
       "    'revisedTime': {'utc': '2024-10-14 05:11Z',\n",
       "     'local': '2024-10-14 07:11+02:00'},\n",
       "    'terminal': '1',\n",
       "    'gate': 'A33',\n",
       "    'baggageBelt': 'A4',\n",
       "    'quality': ['Basic', 'Live']},\n",
       "   'number': 'EW 2002',\n",
       "   'status': 'Arrived',\n",
       "   'codeshareStatus': 'IsOperator',\n",
       "   'isCargo': False,\n",
       "   'aircraft': {'reg': 'D-AGWD', 'modeS': '3C5EE4', 'model': 'Airbus A319'},\n",
       "   'airline': {'name': 'Eurowings', 'iata': 'EW', 'icao': 'EWG'}},\n",
       "  {'departure': {'airport': {'icao': 'EDDL',\n",
       "     'iata': 'DUS',\n",
       "     'name': 'Düsseldorf',\n",
       "     'timeZone': 'Europe/Berlin'},\n",
       "    'scheduledTime': {'utc': '2024-10-14 04:20Z',\n",
       "     'local': '2024-10-14 06:20+02:00'},\n",
       "    'revisedTime': {'utc': '2024-10-14 04:21Z',\n",
       "     'local': '2024-10-14 06:21+02:00'},\n",
       "    'runwayTime': {'utc': '2024-10-14 04:32Z',\n",
       "     'local': '2024-10-14 06:32+02:00'},\n",
       "    'terminal': 'B',\n",
       "    'checkInDesk': '151,170',\n",
       "    'gate': 'A25',\n",
       "    'quality': ['Basic', 'Live']},\n",
       "   'arrival': {'scheduledTime': {'utc': '2024-10-14 05:30Z',\n",
       "     'local': '2024-10-14 07:30+02:00'},\n",
       "    'revisedTime': {'utc': '2024-10-14 05:19Z',\n",
       "     'local': '2024-10-14 07:19+02:00'},\n",
       "    'terminal': '1',\n",
       "    'gate': 'A32',\n",
       "    'baggageBelt': 'A4',\n",
       "    'quality': ['Basic', 'Live']},\n",
       "   'number': 'EW 9048',\n",
       "   'callSign': 'GWI52FP',\n",
       "   'status': 'Arrived',\n",
       "   'codeshareStatus': 'IsOperator',\n",
       "   'isCargo': False,\n",
       "   'aircraft': {'reg': 'D-AEWV', 'modeS': '3C56F6', 'model': 'Airbus A320'},\n",
       "   'airline': {'name': 'Eurowings', 'iata': 'EW', 'icao': 'EWG'}},\n",
       "  {'departure': {'airport': {'icao': 'EDDF',\n",
       "     'iata': 'FRA',\n",
       "     'name': 'Frankfurt-am-Main',\n",
       "     'timeZone': 'Europe/Berlin'},\n",
       "    'scheduledTime': {'utc': '2024-10-14 04:15Z',\n",
       "     'local': '2024-10-14 06:15+02:00'},\n",
       "    'revisedTime': {'utc': '2024-10-14 04:15Z',\n",
       "     'local': '2024-10-14 06:15+02:00'},\n",
       "    'terminal': '1',\n",
       "    'checkInDesk': '259-335',\n",
       "    'gate': 'A25',\n",
       "    'quality': ['Basic', 'Live']},\n",
       "   'arrival': {'scheduledTime': {'utc': '2024-10-14 05:25Z',\n",
       "     'local': '2024-10-14 07:25+02:00'},\n",
       "    'revisedTime': {'utc': '2024-10-14 05:21Z',\n",
       "     'local': '2024-10-14 07:21+02:00'},\n",
       "    'terminal': '1',\n",
       "    'gate': 'A01',\n",
       "    'baggageBelt': 'A1',\n",
       "    'quality': ['Basic', 'Live']},\n",
       "   'number': 'LH 172',\n",
       "   'callSign': 'DLH172',\n",
       "   'status': 'Arrived',\n",
       "   'codeshareStatus': 'IsOperator',\n",
       "   'isCargo': False,\n",
       "   'aircraft': {'reg': 'D-AIQU',\n",
       "    'modeS': '3C6635',\n",
       "    'model': 'Airbus A320-200'},\n",
       "   'airline': {'name': 'Lufthansa', 'iata': 'LH', 'icao': 'DLH'}},\n",
       "  {'departure': {'airport': {'icao': 'LOWW',\n",
       "     'iata': 'VIE',\n",
       "     'name': 'Vienna',\n",
       "     'timeZone': 'Europe/Vienna'},\n",
       "    'scheduledTime': {'utc': '2024-10-14 04:20Z',\n",
       "     'local': '2024-10-14 06:20+02:00'},\n",
       "    'revisedTime': {'utc': '2024-10-14 04:26Z',\n",
       "     'local': '2024-10-14 06:26+02:00'},\n",
       "    'runwayTime': {'utc': '2024-10-14 04:27Z',\n",
       "     'local': '2024-10-14 06:27+02:00'},\n",
       "    'terminal': '3',\n",
       "    'checkInDesk': '351-372',\n",
       "    'gate': 'F10',\n",
       "    'runway': '29',\n",
       "    'quality': ['Basic', 'Live']},\n",
       "   'arrival': {'scheduledTime': {'utc': '2024-10-14 05:30Z',\n",
       "     'local': '2024-10-14 07:30+02:00'},\n",
       "    'revisedTime': {'utc': '2024-10-14 05:25Z',\n",
       "     'local': '2024-10-14 07:25+02:00'},\n",
       "    'runwayTime': {'utc': '2024-10-14 05:25Z',\n",
       "     'local': '2024-10-14 07:25+02:00'},\n",
       "    'terminal': '1',\n",
       "    'gate': 'B06',\n",
       "    'baggageBelt': 'B3',\n",
       "    'runway': '25L',\n",
       "    'quality': ['Basic', 'Live']},\n",
       "   'number': 'OS 221',\n",
       "   'callSign': 'AUA221W',\n",
       "   'status': 'Arrived',\n",
       "   'codeshareStatus': 'IsOperator',\n",
       "   'isCargo': False,\n",
       "   'aircraft': {'reg': 'OE-LBK', 'modeS': '440667', 'model': 'Airbus A320'},\n",
       "   'airline': {'name': 'Austrian', 'iata': 'OS', 'icao': 'AUA'}},\n",
       "  {'departure': {'airport': {'icao': 'EDDK',\n",
       "     'iata': 'CGN',\n",
       "     'name': 'Cologne',\n",
       "     'timeZone': 'Europe/Berlin'},\n",
       "    'scheduledTime': {'utc': '2024-10-14 04:30Z',\n",
       "     'local': '2024-10-14 06:30+02:00'},\n",
       "    'revisedTime': {'utc': '2024-10-14 04:28Z',\n",
       "     'local': '2024-10-14 06:28+02:00'},\n",
       "    'runwayTime': {'utc': '2024-10-14 04:42Z',\n",
       "     'local': '2024-10-14 06:42+02:00'},\n",
       "    'terminal': '1',\n",
       "    'quality': ['Basic', 'Live']},\n",
       "   'arrival': {'scheduledTime': {'utc': '2024-10-14 05:40Z',\n",
       "     'local': '2024-10-14 07:40+02:00'},\n",
       "    'revisedTime': {'utc': '2024-10-14 05:28Z',\n",
       "     'local': '2024-10-14 07:28+02:00'},\n",
       "    'runwayTime': {'utc': '2024-10-14 05:28Z',\n",
       "     'local': '2024-10-14 07:28+02:00'},\n",
       "    'terminal': '1',\n",
       "    'gate': 'A37',\n",
       "    'baggageBelt': 'A1',\n",
       "    'runway': '25L',\n",
       "    'quality': ['Basic', 'Live']},\n",
       "   'number': 'EW 12',\n",
       "   'callSign': 'EWG5MK',\n",
       "   'status': 'Arrived',\n",
       "   'codeshareStatus': 'IsOperator',\n",
       "   'isCargo': False,\n",
       "   'aircraft': {'reg': 'OK-TSO', 'modeS': '49D307', 'model': 'Boeing 737-800'},\n",
       "   'airline': {'name': 'Eurowings', 'iata': 'EW', 'icao': 'EWG'}},\n",
       "  {'departure': {'airport': {'icao': 'LTAI',\n",
       "     'iata': 'AYT',\n",
       "     'name': 'Antalya',\n",
       "     'timeZone': 'Europe/Istanbul'},\n",
       "    'scheduledTime': {'utc': '2024-10-14 01:55Z',\n",
       "     'local': '2024-10-14 04:55+03:00'},\n",
       "    'revisedTime': {'utc': '2024-10-14 01:55Z',\n",
       "     'local': '2024-10-14 04:55+03:00'},\n",
       "    'terminal': '1',\n",
       "    'checkInDesk': '126-128',\n",
       "    'quality': ['Basic', 'Live']},\n",
       "   'arrival': {'scheduledTime': {'utc': '2024-10-14 05:30Z',\n",
       "     'local': '2024-10-14 07:30+02:00'},\n",
       "    'revisedTime': {'utc': '2024-10-14 05:31Z',\n",
       "     'local': '2024-10-14 07:31+02:00'},\n",
       "    'runwayTime': {'utc': '2024-10-14 05:32Z',\n",
       "     'local': '2024-10-14 07:32+02:00'},\n",
       "    'terminal': '1',\n",
       "    'gate': 'Y03',\n",
       "    'baggageBelt': 'B4',\n",
       "    'runway': '25L',\n",
       "    'quality': ['Basic', 'Live']},\n",
       "   'number': 'XQ 668',\n",
       "   'callSign': 'SXS1MT',\n",
       "   'status': 'Arrived',\n",
       "   'codeshareStatus': 'IsOperator',\n",
       "   'isCargo': False,\n",
       "   'aircraft': {'reg': 'TC-SMI',\n",
       "    'modeS': '4BCDA9',\n",
       "    'model': 'Boeing 737 MAX 8'},\n",
       "   'airline': {'name': 'Sun Express', 'iata': 'XQ', 'icao': 'SXS'}},\n",
       "  {'departure': {'airport': {'icao': 'KEWR',\n",
       "     'iata': 'EWR',\n",
       "     'name': 'Newark',\n",
       "     'timeZone': 'America/New_York'},\n",
       "    'scheduledTime': {'utc': '2024-10-13 21:15Z',\n",
       "     'local': '2024-10-13 17:15-04:00'},\n",
       "    'revisedTime': {'utc': '2024-10-13 22:31Z',\n",
       "     'local': '2024-10-13 18:31-04:00'},\n",
       "    'runwayTime': {'utc': '2024-10-13 22:31Z',\n",
       "     'local': '2024-10-13 18:31-04:00'},\n",
       "    'terminal': 'C',\n",
       "    'runway': '22R',\n",
       "    'quality': ['Basic', 'Live']},\n",
       "   'arrival': {'scheduledTime': {'utc': '2024-10-14 05:15Z',\n",
       "     'local': '2024-10-14 07:15+02:00'},\n",
       "    'revisedTime': {'utc': '2024-10-14 05:34Z',\n",
       "     'local': '2024-10-14 07:34+02:00'},\n",
       "    'runwayTime': {'utc': '2024-10-14 05:34Z',\n",
       "     'local': '2024-10-14 07:34+02:00'},\n",
       "    'terminal': '1',\n",
       "    'gate': 'Y17',\n",
       "    'baggageBelt': 'B2',\n",
       "    'runway': '25R',\n",
       "    'quality': ['Basic', 'Live']},\n",
       "   'number': 'UA 962',\n",
       "   'callSign': 'UAL962',\n",
       "   'status': 'Arrived',\n",
       "   'codeshareStatus': 'IsOperator',\n",
       "   'isCargo': False,\n",
       "   'aircraft': {'reg': 'N76062', 'modeS': 'AA44CD', 'model': 'Boeing 767-400'},\n",
       "   'airline': {'name': 'United', 'iata': 'UA', 'icao': 'UAL'}},\n",
       "  {'departure': {'airport': {'icao': 'EVRA',\n",
       "     'iata': 'RIX',\n",
       "     'name': 'Riga',\n",
       "     'timeZone': 'Europe/Riga'},\n",
       "    'scheduledTime': {'utc': '2024-10-14 04:00Z',\n",
       "     'local': '2024-10-14 07:00+03:00'},\n",
       "    'revisedTime': {'utc': '2024-10-14 04:00Z',\n",
       "     'local': '2024-10-14 07:00+03:00'},\n",
       "    'terminal': 'B',\n",
       "    'gate': 'B1',\n",
       "    'quality': ['Basic', 'Live']},\n",
       "   'arrival': {'scheduledTime': {'utc': '2024-10-14 05:40Z',\n",
       "     'local': '2024-10-14 07:40+02:00'},\n",
       "    'revisedTime': {'utc': '2024-10-14 05:35Z',\n",
       "     'local': '2024-10-14 07:35+02:00'},\n",
       "    'terminal': '1',\n",
       "    'gate': 'A35',\n",
       "    'baggageBelt': 'A4',\n",
       "    'quality': ['Basic', 'Live']},\n",
       "   'number': 'DL 7313',\n",
       "   'status': 'Arrived',\n",
       "   'codeshareStatus': 'IsCodeshared',\n",
       "   'isCargo': False,\n",
       "   'aircraft': {'reg': 'LY-NVL', 'modeS': '503CFD', 'model': 'Airbus A320'},\n",
       "   'airline': {'name': 'Delta Air Lines', 'iata': 'DL', 'icao': 'DAL'}},\n",
       "  {'departure': {'airport': {'icao': 'EVRA',\n",
       "     'iata': 'RIX',\n",
       "     'name': 'Riga',\n",
       "     'timeZone': 'Europe/Riga'},\n",
       "    'scheduledTime': {'utc': '2024-10-14 04:00Z',\n",
       "     'local': '2024-10-14 07:00+03:00'},\n",
       "    'revisedTime': {'utc': '2024-10-14 04:00Z',\n",
       "     'local': '2024-10-14 07:00+03:00'},\n",
       "    'terminal': 'B',\n",
       "    'gate': 'B1',\n",
       "    'quality': ['Basic', 'Live']},\n",
       "   'arrival': {'scheduledTime': {'utc': '2024-10-14 05:40Z',\n",
       "     'local': '2024-10-14 07:40+02:00'},\n",
       "    'revisedTime': {'utc': '2024-10-14 05:35Z',\n",
       "     'local': '2024-10-14 07:35+02:00'},\n",
       "    'terminal': '1',\n",
       "    'gate': 'A35',\n",
       "    'baggageBelt': 'A4',\n",
       "    'quality': ['Basic', 'Live']},\n",
       "   'number': 'A3 3219',\n",
       "   'status': 'Arrived',\n",
       "   'codeshareStatus': 'IsCodeshared',\n",
       "   'isCargo': False,\n",
       "   'aircraft': {'reg': 'LY-NVL', 'modeS': '503CFD', 'model': 'Airbus A320'},\n",
       "   'airline': {'name': 'Aegean', 'iata': 'A3', 'icao': 'AEE'}},\n",
       "  {'departure': {'airport': {'icao': 'EVRA',\n",
       "     'iata': 'RIX',\n",
       "     'name': 'Riga',\n",
       "     'timeZone': 'Europe/Riga'},\n",
       "    'scheduledTime': {'utc': '2024-10-14 04:00Z',\n",
       "     'local': '2024-10-14 07:00+03:00'},\n",
       "    'revisedTime': {'utc': '2024-10-14 04:00Z',\n",
       "     'local': '2024-10-14 07:00+03:00'},\n",
       "    'terminal': 'B',\n",
       "    'gate': 'B1',\n",
       "    'quality': ['Basic', 'Live']},\n",
       "   'arrival': {'scheduledTime': {'utc': '2024-10-14 05:40Z',\n",
       "     'local': '2024-10-14 07:40+02:00'},\n",
       "    'revisedTime': {'utc': '2024-10-14 05:35Z',\n",
       "     'local': '2024-10-14 07:35+02:00'},\n",
       "    'terminal': '1',\n",
       "    'gate': 'A35',\n",
       "    'baggageBelt': 'A4',\n",
       "    'quality': ['Basic', 'Live']},\n",
       "   'number': 'JU 7659',\n",
       "   'status': 'Arrived',\n",
       "   'codeshareStatus': 'IsCodeshared',\n",
       "   'isCargo': False,\n",
       "   'aircraft': {'reg': 'LY-NVL', 'modeS': '503CFD', 'model': 'Airbus A320'},\n",
       "   'airline': {'name': 'JU'}},\n",
       "  {'departure': {'airport': {'icao': 'EVRA',\n",
       "     'iata': 'RIX',\n",
       "     'name': 'Riga',\n",
       "     'timeZone': 'Europe/Riga'},\n",
       "    'scheduledTime': {'utc': '2024-10-14 04:00Z',\n",
       "     'local': '2024-10-14 07:00+03:00'},\n",
       "    'revisedTime': {'utc': '2024-10-14 04:00Z',\n",
       "     'local': '2024-10-14 07:00+03:00'},\n",
       "    'terminal': 'B',\n",
       "    'gate': 'B1',\n",
       "    'quality': ['Basic', 'Live']},\n",
       "   'arrival': {'scheduledTime': {'utc': '2024-10-14 05:40Z',\n",
       "     'local': '2024-10-14 07:40+02:00'},\n",
       "    'revisedTime': {'utc': '2024-10-14 05:35Z',\n",
       "     'local': '2024-10-14 07:35+02:00'},\n",
       "    'runwayTime': {'utc': '2024-10-14 05:35Z',\n",
       "     'local': '2024-10-14 07:35+02:00'},\n",
       "    'terminal': '1',\n",
       "    'gate': 'A35',\n",
       "    'baggageBelt': 'A4',\n",
       "    'runway': '25L',\n",
       "    'quality': ['Basic', 'Live']},\n",
       "   'number': 'BT 211',\n",
       "   'callSign': 'BTI74A',\n",
       "   'status': 'Arrived',\n",
       "   'codeshareStatus': 'IsOperator',\n",
       "   'isCargo': False,\n",
       "   'aircraft': {'reg': 'LY-NVL', 'modeS': '503CFD', 'model': 'Airbus A320'},\n",
       "   'airline': {'name': 'airBaltic', 'iata': 'BT', 'icao': 'BTI'}},\n",
       "  {'departure': {'airport': {'icao': 'OTHH',\n",
       "     'iata': 'DOH',\n",
       "     'name': 'Doha',\n",
       "     'timeZone': 'Asia/Qatar'},\n",
       "    'scheduledTime': {'utc': '2024-10-13 23:10Z',\n",
       "     'local': '2024-10-14 02:10+03:00'},\n",
       "    'revisedTime': {'utc': '2024-10-13 23:09Z',\n",
       "     'local': '2024-10-14 02:09+03:00'},\n",
       "    'runwayTime': {'utc': '2024-10-13 23:24Z',\n",
       "     'local': '2024-10-14 02:24+03:00'},\n",
       "    'gate': 'C62',\n",
       "    'quality': ['Basic', 'Live']},\n",
       "   'arrival': {'scheduledTime': {'utc': '2024-10-14 05:20Z',\n",
       "     'local': '2024-10-14 07:20+02:00'},\n",
       "    'revisedTime': {'utc': '2024-10-14 05:37Z',\n",
       "     'local': '2024-10-14 07:37+02:00'},\n",
       "    'runwayTime': {'utc': '2024-10-14 05:37Z',\n",
       "     'local': '2024-10-14 07:37+02:00'},\n",
       "    'terminal': '1',\n",
       "    'gate': 'X03',\n",
       "    'baggageBelt': 'A2',\n",
       "    'runway': '25L',\n",
       "    'quality': ['Basic', 'Live']},\n",
       "   'number': 'QR 79',\n",
       "   'callSign': 'QTR32A',\n",
       "   'status': 'Arrived',\n",
       "   'codeshareStatus': 'IsOperator',\n",
       "   'isCargo': False,\n",
       "   'aircraft': {'reg': 'A7-BHH', 'modeS': '06A2EB', 'model': 'Boeing 787-9'},\n",
       "   'airline': {'name': 'Qatar', 'iata': 'QR', 'icao': 'QTR'}},\n",
       "  {'departure': {'airport': {'icao': 'EYVI',\n",
       "     'iata': 'VNO',\n",
       "     'name': 'Vilnius',\n",
       "     'timeZone': 'Europe/Vilnius'},\n",
       "    'scheduledTime': {'utc': '2024-10-14 04:10Z',\n",
       "     'local': '2024-10-14 07:10+03:00'},\n",
       "    'quality': ['Basic']},\n",
       "   'arrival': {'scheduledTime': {'utc': '2024-10-14 05:50Z',\n",
       "     'local': '2024-10-14 07:50+02:00'},\n",
       "    'revisedTime': {'utc': '2024-10-14 05:39Z',\n",
       "     'local': '2024-10-14 07:39+02:00'},\n",
       "    'terminal': '2',\n",
       "    'gate': 'Z32',\n",
       "    'baggageBelt': 'C3',\n",
       "    'runway': '25R',\n",
       "    'quality': ['Basic', 'Live']},\n",
       "   'number': 'FR 1571',\n",
       "   'callSign': 'RYR16HT',\n",
       "   'status': 'Arrived',\n",
       "   'codeshareStatus': 'IsOperator',\n",
       "   'isCargo': False,\n",
       "   'aircraft': {'reg': 'SP-RSI', 'modeS': '48C228', 'model': 'Boeing 737-800'},\n",
       "   'airline': {'name': 'Ryanair', 'iata': 'FR', 'icao': 'RYR'}},\n",
       "  {'departure': {'airport': {'icao': 'HEMA',\n",
       "     'iata': 'RMF',\n",
       "     'name': 'Marsa Alam',\n",
       "     'timeZone': 'Africa/Cairo'},\n",
       "    'scheduledTime': {'utc': '2024-10-14 01:10Z',\n",
       "     'local': '2024-10-14 04:10+03:00'},\n",
       "    'quality': ['Basic']},\n",
       "   'arrival': {'scheduledTime': {'utc': '2024-10-14 06:10Z',\n",
       "     'local': '2024-10-14 08:10+02:00'},\n",
       "    'revisedTime': {'utc': '2024-10-14 05:41Z',\n",
       "     'local': '2024-10-14 07:41+02:00'},\n",
       "    'terminal': '1',\n",
       "    'gate': 'N01',\n",
       "    'baggageBelt': 'B1',\n",
       "    'quality': ['Basic', 'Live']},\n",
       "   'number': 'SM 2962',\n",
       "   'callSign': 'MSC2962',\n",
       "   'status': 'Arrived',\n",
       "   'codeshareStatus': 'IsOperator',\n",
       "   'isCargo': False,\n",
       "   'aircraft': {'reg': 'SU-BUX',\n",
       "    'modeS': '01024B',\n",
       "    'model': 'Airbus A320 NEO'},\n",
       "   'airline': {'name': 'Air Cairo', 'iata': 'SM', 'icao': 'MSC'}},\n",
       "  {'departure': {'airport': {'icao': 'LFST',\n",
       "     'iata': 'SXB',\n",
       "     'name': 'Strasbourg',\n",
       "     'timeZone': 'Europe/Paris'},\n",
       "    'scheduledTime': {'utc': '2024-10-14 04:30Z',\n",
       "     'local': '2024-10-14 06:30+02:00'},\n",
       "    'revisedTime': {'utc': '2024-10-14 04:46Z',\n",
       "     'local': '2024-10-14 06:46+02:00'},\n",
       "    'runwayTime': {'utc': '2024-10-14 04:46Z',\n",
       "     'local': '2024-10-14 06:46+02:00'},\n",
       "    'runway': '23',\n",
       "    'quality': ['Basic', 'Live']},\n",
       "   'arrival': {'scheduledTime': {'utc': '2024-10-14 06:00Z',\n",
       "     'local': '2024-10-14 08:00+02:00'},\n",
       "    'revisedTime': {'utc': '2024-10-14 05:43Z',\n",
       "     'local': '2024-10-14 07:43+02:00'},\n",
       "    'terminal': '1',\n",
       "    'gate': 'A34',\n",
       "    'baggageBelt': 'A3',\n",
       "    'quality': ['Basic', 'Live']},\n",
       "   'number': 'V7 2596',\n",
       "   'callSign': 'VOE2UD',\n",
       "   'status': 'Arrived',\n",
       "   'codeshareStatus': 'IsOperator',\n",
       "   'isCargo': False,\n",
       "   'aircraft': {'reg': 'EC-NOS', 'modeS': '346614', 'model': 'Airbus A320'},\n",
       "   'airline': {'name': 'Volotea', 'iata': 'V7', 'icao': 'VOE'}},\n",
       "  {'departure': {'airport': {'icao': 'EDDF',\n",
       "     'iata': 'FRA',\n",
       "     'name': 'Frankfurt-am-Main',\n",
       "     'timeZone': 'Europe/Berlin'},\n",
       "    'scheduledTime': {'utc': '2024-10-14 04:45Z',\n",
       "     'local': '2024-10-14 06:45+02:00'},\n",
       "    'revisedTime': {'utc': '2024-10-14 04:45Z',\n",
       "     'local': '2024-10-14 06:45+02:00'},\n",
       "    'runwayTime': {'utc': '2024-10-14 04:58Z',\n",
       "     'local': '2024-10-14 06:58+02:00'},\n",
       "    'terminal': '1',\n",
       "    'checkInDesk': '259-335',\n",
       "    'gate': 'A1',\n",
       "    'runway': '07C',\n",
       "    'quality': ['Basic', 'Live']},\n",
       "   'arrival': {'scheduledTime': {'utc': '2024-10-14 05:55Z',\n",
       "     'local': '2024-10-14 07:55+02:00'},\n",
       "    'revisedTime': {'utc': '2024-10-14 05:45Z',\n",
       "     'local': '2024-10-14 07:45+02:00'},\n",
       "    'terminal': '1',\n",
       "    'gate': 'B07',\n",
       "    'baggageBelt': 'B3',\n",
       "    'quality': ['Basic', 'Live']},\n",
       "   'number': 'LH 170',\n",
       "   'callSign': 'DLH1PT',\n",
       "   'status': 'Expected',\n",
       "   'codeshareStatus': 'IsOperator',\n",
       "   'isCargo': False,\n",
       "   'aircraft': {'reg': 'D-AIRO', 'modeS': '3C664F', 'model': 'Airbus A321'},\n",
       "   'airline': {'name': 'Lufthansa', 'iata': 'LH', 'icao': 'DLH'}},\n",
       "  {'departure': {'airport': {'icao': 'ESSA',\n",
       "     'iata': 'ARN',\n",
       "     'name': 'Stockholm',\n",
       "     'timeZone': 'Europe/Stockholm'},\n",
       "    'scheduledTime': {'utc': '2024-10-14 04:30Z',\n",
       "     'local': '2024-10-14 06:30+02:00'},\n",
       "    'revisedTime': {'utc': '2024-10-14 04:21Z',\n",
       "     'local': '2024-10-14 06:21+02:00'},\n",
       "    'runwayTime': {'utc': '2024-10-14 04:31Z',\n",
       "     'local': '2024-10-14 06:31+02:00'},\n",
       "    'terminal': '5',\n",
       "    'checkInDesk': '29-31',\n",
       "    'gate': 'C41',\n",
       "    'runway': '08',\n",
       "    'quality': ['Basic', 'Live']},\n",
       "   'arrival': {'scheduledTime': {'utc': '2024-10-14 06:05Z',\n",
       "     'local': '2024-10-14 08:05+02:00'},\n",
       "    'revisedTime': {'utc': '2024-10-14 05:47Z',\n",
       "     'local': '2024-10-14 07:47+02:00'},\n",
       "    'terminal': '1',\n",
       "    'gate': 'A36',\n",
       "    'baggageBelt': 'A1',\n",
       "    'quality': ['Basic', 'Live']},\n",
       "   'number': 'LH 5344',\n",
       "   'callSign': 'EWG4600',\n",
       "   'status': 'Arrived',\n",
       "   'codeshareStatus': 'IsCodeshared',\n",
       "   'isCargo': False,\n",
       "   'aircraft': {'reg': '9H-EWE', 'modeS': '4D2417', 'model': 'Airbus A320'},\n",
       "   'airline': {'name': 'Lufthansa', 'iata': 'LH', 'icao': 'DLH'}},\n",
       "  {'departure': {'airport': {'icao': 'ESSA',\n",
       "     'iata': 'ARN',\n",
       "     'name': 'Stockholm',\n",
       "     'timeZone': 'Europe/Stockholm'},\n",
       "    'scheduledTime': {'utc': '2024-10-14 04:30Z',\n",
       "     'local': '2024-10-14 06:30+02:00'},\n",
       "    'revisedTime': {'utc': '2024-10-14 04:21Z',\n",
       "     'local': '2024-10-14 06:21+02:00'},\n",
       "    'runwayTime': {'utc': '2024-10-14 04:31Z',\n",
       "     'local': '2024-10-14 06:31+02:00'},\n",
       "    'terminal': '5',\n",
       "    'checkInDesk': '29-31',\n",
       "    'gate': 'C41',\n",
       "    'runway': '08',\n",
       "    'quality': ['Basic', 'Live']},\n",
       "   'arrival': {'scheduledTime': {'utc': '2024-10-14 06:05Z',\n",
       "     'local': '2024-10-14 08:05+02:00'},\n",
       "    'revisedTime': {'utc': '2024-10-14 05:47Z',\n",
       "     'local': '2024-10-14 07:47+02:00'},\n",
       "    'terminal': '1',\n",
       "    'gate': 'A36',\n",
       "    'baggageBelt': 'A1',\n",
       "    'quality': ['Basic', 'Live']},\n",
       "   'number': 'EW 4600',\n",
       "   'callSign': 'EWG4600',\n",
       "   'status': 'Arrived',\n",
       "   'codeshareStatus': 'IsOperator',\n",
       "   'isCargo': False,\n",
       "   'aircraft': {'reg': '9H-EWE', 'modeS': '4D2417', 'model': 'Airbus A320'},\n",
       "   'airline': {'name': 'Eurowings', 'iata': 'EW', 'icao': 'EWG'}},\n",
       "  {'departure': {'airport': {'icao': 'ELLX',\n",
       "     'iata': 'LUX',\n",
       "     'name': 'Luxembourg',\n",
       "     'timeZone': 'Europe/Luxembourg'},\n",
       "    'scheduledTime': {'utc': '2024-10-14 04:35Z',\n",
       "     'local': '2024-10-14 06:35+02:00'},\n",
       "    'revisedTime': {'utc': '2024-10-14 04:35Z',\n",
       "     'local': '2024-10-14 06:35+02:00'},\n",
       "    'runwayTime': {'utc': '2024-10-14 04:45Z',\n",
       "     'local': '2024-10-14 06:45+02:00'},\n",
       "    'terminal': 'A',\n",
       "    'gate': 'B02',\n",
       "    'quality': ['Basic', 'Live']},\n",
       "   'arrival': {'scheduledTime': {'utc': '2024-10-14 06:05Z',\n",
       "     'local': '2024-10-14 08:05+02:00'},\n",
       "    'revisedTime': {'utc': '2024-10-14 05:51Z',\n",
       "     'local': '2024-10-14 07:51+02:00'},\n",
       "    'terminal': '1',\n",
       "    'gate': 'S01',\n",
       "    'baggageBelt': 'B3',\n",
       "    'quality': ['Basic', 'Live']},\n",
       "   'number': 'LG 9471',\n",
       "   'callSign': 'LGL91B',\n",
       "   'status': 'Arrived',\n",
       "   'codeshareStatus': 'IsOperator',\n",
       "   'isCargo': False,\n",
       "   'aircraft': {'reg': 'LX-LGF',\n",
       "    'modeS': '4D00C9',\n",
       "    'model': 'De Havilland Canada DHC-8-400 Dash 8Q'},\n",
       "   'airline': {'name': 'Luxair', 'iata': 'LG', 'icao': 'LGL'}},\n",
       "  {'departure': {'airport': {'icao': 'EFHK',\n",
       "     'iata': 'HEL',\n",
       "     'name': 'Helsinki',\n",
       "     'timeZone': 'Europe/Helsinki'},\n",
       "    'scheduledTime': {'utc': '2024-10-14 04:05Z',\n",
       "     'local': '2024-10-14 07:05+03:00'},\n",
       "    'revisedTime': {'utc': '2024-10-14 04:04Z',\n",
       "     'local': '2024-10-14 07:04+03:00'},\n",
       "    'runwayTime': {'utc': '2024-10-14 04:13Z',\n",
       "     'local': '2024-10-14 07:13+03:00'},\n",
       "    'terminal': '2',\n",
       "    'checkInDesk': '211',\n",
       "    'gate': '34A',\n",
       "    'runway': '04R',\n",
       "    'quality': ['Basic', 'Live']},\n",
       "   'arrival': {'scheduledTime': {'utc': '2024-10-14 06:05Z',\n",
       "     'local': '2024-10-14 08:05+02:00'},\n",
       "    'revisedTime': {'utc': '2024-10-14 05:53Z',\n",
       "     'local': '2024-10-14 07:53+02:00'},\n",
       "    'terminal': '1',\n",
       "    'gate': 'A31',\n",
       "    'baggageBelt': 'B4',\n",
       "    'quality': ['Basic', 'Live']},\n",
       "   'number': 'AY 1431',\n",
       "   'callSign': 'FIN3AW',\n",
       "   'status': 'Arrived',\n",
       "   'codeshareStatus': 'IsOperator',\n",
       "   'isCargo': False,\n",
       "   'aircraft': {'reg': 'OH-LXC', 'modeS': '461F64', 'model': 'Airbus A320'},\n",
       "   'airline': {'name': 'Finnair', 'iata': 'AY', 'icao': 'FIN'}},\n",
       "  {'departure': {'airport': {'icao': 'EDDM',\n",
       "     'iata': 'MUC',\n",
       "     'name': 'Munich',\n",
       "     'timeZone': 'Europe/Berlin'},\n",
       "    'scheduledTime': {'utc': '2024-10-14 05:00Z',\n",
       "     'local': '2024-10-14 07:00+02:00'},\n",
       "    'revisedTime': {'utc': '2024-10-14 05:00Z',\n",
       "     'local': '2024-10-14 07:00+02:00'},\n",
       "    'runwayTime': {'utc': '2024-10-14 05:16Z',\n",
       "     'local': '2024-10-14 07:16+02:00'},\n",
       "    'terminal': '2',\n",
       "    'runway': '26R',\n",
       "    'quality': ['Basic', 'Live']},\n",
       "   'arrival': {'scheduledTime': {'utc': '2024-10-14 06:05Z',\n",
       "     'local': '2024-10-14 08:05+02:00'},\n",
       "    'revisedTime': {'utc': '2024-10-14 06:00Z',\n",
       "     'local': '2024-10-14 08:00+02:00'},\n",
       "    'terminal': '1',\n",
       "    'gate': 'B20',\n",
       "    'baggageBelt': 'B2',\n",
       "    'quality': ['Basic', 'Live']},\n",
       "   'number': 'LH 1928',\n",
       "   'callSign': 'DLH7N',\n",
       "   'status': 'Arrived',\n",
       "   'codeshareStatus': 'IsOperator',\n",
       "   'isCargo': False,\n",
       "   'aircraft': {'reg': 'D-AIUI',\n",
       "    'modeS': '3C66A9',\n",
       "    'model': 'Airbus A320 (Sharklets)'},\n",
       "   'airline': {'name': 'Lufthansa', 'iata': 'LH', 'icao': 'DLH'}},\n",
       "  {'departure': {'airport': {'icao': 'EDDR',\n",
       "     'iata': 'SCN',\n",
       "     'name': 'Saarbrücken',\n",
       "     'timeZone': 'Europe/Berlin'},\n",
       "    'scheduledTime': {'utc': '2024-10-14 04:30Z',\n",
       "     'local': '2024-10-14 06:30+02:00'},\n",
       "    'quality': ['Basic']},\n",
       "   'arrival': {'scheduledTime': {'utc': '2024-10-14 06:05Z',\n",
       "     'local': '2024-10-14 08:05+02:00'},\n",
       "    'revisedTime': {'utc': '2024-10-14 06:04Z',\n",
       "     'local': '2024-10-14 08:04+02:00'},\n",
       "    'terminal': '2',\n",
       "    'gate': 'Z36',\n",
       "    'baggageBelt': 'C2',\n",
       "    'quality': ['Basic', 'Live']},\n",
       "   'number': 'DX 121',\n",
       "   'status': 'Arrived',\n",
       "   'codeshareStatus': 'IsOperator',\n",
       "   'isCargo': False,\n",
       "   'aircraft': {'reg': 'OY-JRJ', 'modeS': '45AA4A', 'model': 'ATR 42-300'},\n",
       "   'airline': {'name': 'Danish Air', 'iata': 'DX', 'icao': 'DTR'}},\n",
       "  {'departure': {'airport': {'icao': 'LOWW',\n",
       "     'iata': 'VIE',\n",
       "     'name': 'Vienna',\n",
       "     'timeZone': 'Europe/Vienna'},\n",
       "    'scheduledTime': {'utc': '2024-10-14 05:00Z',\n",
       "     'local': '2024-10-14 07:00+02:00'},\n",
       "    'revisedTime': {'utc': '2024-10-14 05:17Z',\n",
       "     'local': '2024-10-14 07:17+02:00'},\n",
       "    'runwayTime': {'utc': '2024-10-14 05:18Z',\n",
       "     'local': '2024-10-14 07:18+02:00'},\n",
       "    'terminal': '3',\n",
       "    'checkInDesk': '351-372',\n",
       "    'gate': 'F09',\n",
       "    'runway': '34',\n",
       "    'quality': ['Basic', 'Live']},\n",
       "   'arrival': {'scheduledTime': {'utc': '2024-10-14 06:10Z',\n",
       "     'local': '2024-10-14 08:10+02:00'},\n",
       "    'revisedTime': {'utc': '2024-10-14 06:11Z',\n",
       "     'local': '2024-10-14 08:11+02:00'},\n",
       "    'runwayTime': {'utc': '2024-10-14 06:11Z',\n",
       "     'local': '2024-10-14 08:11+02:00'},\n",
       "    'terminal': '1',\n",
       "    'gate': 'A02',\n",
       "    'baggageBelt': 'A3',\n",
       "    'runway': '25L',\n",
       "    'quality': ['Basic', 'Live']},\n",
       "   'number': 'OS 223',\n",
       "   'callSign': 'AUA223',\n",
       "   'status': 'Arrived',\n",
       "   'codeshareStatus': 'IsOperator',\n",
       "   'isCargo': False,\n",
       "   'aircraft': {'reg': 'OE-LBB', 'modeS': '440C8D', 'model': 'Airbus A321'},\n",
       "   'airline': {'name': 'Austrian', 'iata': 'OS', 'icao': 'AUA'}},\n",
       "  {'departure': {'airport': {'icao': 'EHAM',\n",
       "     'iata': 'AMS',\n",
       "     'name': 'Amsterdam',\n",
       "     'timeZone': 'Europe/Amsterdam'},\n",
       "    'scheduledTime': {'utc': '2024-10-14 05:00Z',\n",
       "     'local': '2024-10-14 07:00+02:00'},\n",
       "    'revisedTime': {'utc': '2024-10-14 05:06Z',\n",
       "     'local': '2024-10-14 07:06+02:00'},\n",
       "    'runwayTime': {'utc': '2024-10-14 05:23Z',\n",
       "     'local': '2024-10-14 07:23+02:00'},\n",
       "    'terminal': '1',\n",
       "    'checkInDesk': '6-8',\n",
       "    'gate': 'B30',\n",
       "    'runway': '18L',\n",
       "    'quality': ['Basic', 'Live']},\n",
       "   'arrival': {'scheduledTime': {'utc': '2024-10-14 06:20Z',\n",
       "     'local': '2024-10-14 08:20+02:00'},\n",
       "    'revisedTime': {'utc': '2024-10-14 06:20Z',\n",
       "     'local': '2024-10-14 08:20+02:00'},\n",
       "    'terminal': '1',\n",
       "    'gate': 'A30',\n",
       "    'baggageBelt': 'A4',\n",
       "    'quality': ['Basic', 'Live']},\n",
       "   'number': 'KL 1771',\n",
       "   'callSign': 'KLM1771',\n",
       "   'status': 'Arrived',\n",
       "   'codeshareStatus': 'IsOperator',\n",
       "   'isCargo': False,\n",
       "   'aircraft': {'reg': 'PH-NXK', 'modeS': '486494', 'model': 'Embraer 195'},\n",
       "   'airline': {'name': 'KLM', 'iata': 'KL', 'icao': 'KLM'}},\n",
       "  {'departure': {'airport': {'icao': 'LIML',\n",
       "     'iata': 'LIN',\n",
       "     'name': 'Milan',\n",
       "     'timeZone': 'Europe/Rome'},\n",
       "    'scheduledTime': {'utc': '2024-10-14 04:55Z',\n",
       "     'local': '2024-10-14 06:55+02:00'},\n",
       "    'revisedTime': {'utc': '2024-10-14 05:09Z',\n",
       "     'local': '2024-10-14 07:09+02:00'},\n",
       "    'runwayTime': {'utc': '2024-10-14 05:09Z',\n",
       "     'local': '2024-10-14 07:09+02:00'},\n",
       "    'quality': ['Basic', 'Live']},\n",
       "   'arrival': {'scheduledTime': {'utc': '2024-10-14 06:35Z',\n",
       "     'local': '2024-10-14 08:35+02:00'},\n",
       "    'revisedTime': {'utc': '2024-10-14 06:21Z',\n",
       "     'local': '2024-10-14 08:21+02:00'},\n",
       "    'terminal': '1',\n",
       "    'gate': 'A38',\n",
       "    'baggageBelt': 'B1',\n",
       "    'quality': ['Basic', 'Live']},\n",
       "   'number': 'U2 5068',\n",
       "   'callSign': 'EZY5068',\n",
       "   'status': 'Arrived',\n",
       "   'codeshareStatus': 'IsOperator',\n",
       "   'isCargo': False,\n",
       "   'aircraft': {'reg': 'OE-IJY', 'modeS': '4402AC', 'model': 'Airbus A320'},\n",
       "   'airline': {'name': 'easyJet', 'iata': 'U2', 'icao': 'EZY'}},\n",
       "  {'departure': {'airport': {'icao': 'LIML',\n",
       "     'iata': 'LIN',\n",
       "     'name': 'Milan',\n",
       "     'timeZone': 'Europe/Rome'},\n",
       "    'scheduledTime': {'utc': '2024-10-14 04:55Z',\n",
       "     'local': '2024-10-14 06:55+02:00'},\n",
       "    'revisedTime': {'utc': '2024-10-14 05:09Z',\n",
       "     'local': '2024-10-14 07:09+02:00'},\n",
       "    'runwayTime': {'utc': '2024-10-14 05:09Z',\n",
       "     'local': '2024-10-14 07:09+02:00'},\n",
       "    'quality': ['Basic', 'Live']},\n",
       "   'arrival': {'scheduledTime': {'utc': '2024-10-14 06:35Z',\n",
       "     'local': '2024-10-14 08:35+02:00'},\n",
       "    'revisedTime': {'utc': '2024-10-14 06:21Z',\n",
       "     'local': '2024-10-14 08:21+02:00'},\n",
       "    'terminal': '1',\n",
       "    'gate': 'A38',\n",
       "    'baggageBelt': 'B1',\n",
       "    'quality': ['Basic', 'Live']},\n",
       "   'number': 'EC 5068',\n",
       "   'callSign': 'EJU5068',\n",
       "   'status': 'Arrived',\n",
       "   'codeshareStatus': 'IsCodeshared',\n",
       "   'isCargo': False,\n",
       "   'aircraft': {'reg': 'OE-IJY', 'modeS': '4402AC', 'model': 'Airbus A320'},\n",
       "   'airline': {'name': 'EasyJet Europe', 'iata': 'EC', 'icao': 'EJU'}},\n",
       "  {'departure': {'airport': {'icao': 'EKCH',\n",
       "     'iata': 'CPH',\n",
       "     'name': 'Copenhagen',\n",
       "     'timeZone': 'Europe/Copenhagen'},\n",
       "    'scheduledTime': {'utc': '2024-10-14 05:50Z',\n",
       "     'local': '2024-10-14 07:50+02:00'},\n",
       "    'revisedTime': {'utc': '2024-10-14 05:50Z',\n",
       "     'local': '2024-10-14 07:50+02:00'},\n",
       "    'terminal': 'erminal2',\n",
       "    'gate': 'F8',\n",
       "    'quality': ['Basic', 'Live']},\n",
       "   'arrival': {'scheduledTime': {'utc': '2024-10-14 06:55Z',\n",
       "     'local': '2024-10-14 08:55+02:00'},\n",
       "    'revisedTime': {'utc': '2024-10-14 06:31Z',\n",
       "     'local': '2024-10-14 08:31+02:00'},\n",
       "    'terminal': '1',\n",
       "    'gate': 'A33',\n",
       "    'baggageBelt': 'B1',\n",
       "    'quality': ['Basic', 'Live']},\n",
       "   'number': 'U2 5262',\n",
       "   'status': 'Expected',\n",
       "   'codeshareStatus': 'IsOperator',\n",
       "   'isCargo': False,\n",
       "   'aircraft': {'reg': 'OE-IWW', 'modeS': '440B1E', 'model': 'Airbus A320'},\n",
       "   'airline': {'name': 'easyJet', 'iata': 'U2', 'icao': 'EZY'}},\n",
       "  {'departure': {'airport': {'icao': 'EKCH',\n",
       "     'iata': 'CPH',\n",
       "     'name': 'Copenhagen',\n",
       "     'timeZone': 'Europe/Copenhagen'},\n",
       "    'scheduledTime': {'utc': '2024-10-14 05:50Z',\n",
       "     'local': '2024-10-14 07:50+02:00'},\n",
       "    'revisedTime': {'utc': '2024-10-14 05:50Z',\n",
       "     'local': '2024-10-14 07:50+02:00'},\n",
       "    'terminal': 'erminal2',\n",
       "    'gate': 'F8',\n",
       "    'quality': ['Basic', 'Live']},\n",
       "   'arrival': {'scheduledTime': {'utc': '2024-10-14 06:55Z',\n",
       "     'local': '2024-10-14 08:55+02:00'},\n",
       "    'revisedTime': {'utc': '2024-10-14 06:31Z',\n",
       "     'local': '2024-10-14 08:31+02:00'},\n",
       "    'terminal': '1',\n",
       "    'gate': 'A33',\n",
       "    'baggageBelt': 'B1',\n",
       "    'quality': ['Basic', 'Live']},\n",
       "   'number': 'EC 5262',\n",
       "   'status': 'Expected',\n",
       "   'codeshareStatus': 'IsCodeshared',\n",
       "   'isCargo': False,\n",
       "   'aircraft': {'reg': 'OE-IWW', 'modeS': '440B1E', 'model': 'Airbus A320'},\n",
       "   'airline': {'name': 'EasyJet Europe', 'iata': 'EC', 'icao': 'EJU'}},\n",
       "  {'departure': {'airport': {'icao': 'LTAI',\n",
       "     'iata': 'AYT',\n",
       "     'name': 'Antalya',\n",
       "     'timeZone': 'Europe/Istanbul'},\n",
       "    'scheduledTime': {'utc': '2024-10-14 03:05Z',\n",
       "     'local': '2024-10-14 06:05+03:00'},\n",
       "    'revisedTime': {'utc': '2024-10-14 03:05Z',\n",
       "     'local': '2024-10-14 06:05+03:00'},\n",
       "    'terminal': '1',\n",
       "    'checkInDesk': '102-104',\n",
       "    'quality': ['Basic', 'Live']},\n",
       "   'arrival': {'scheduledTime': {'utc': '2024-10-14 06:35Z',\n",
       "     'local': '2024-10-14 08:35+02:00'},\n",
       "    'revisedTime': {'utc': '2024-10-14 06:37Z',\n",
       "     'local': '2024-10-14 08:37+02:00'},\n",
       "    'runwayTime': {'utc': '2024-10-14 06:38Z',\n",
       "     'local': '2024-10-14 08:38+02:00'},\n",
       "    'terminal': '1',\n",
       "    'gate': 'X17',\n",
       "    'baggageBelt': 'A3',\n",
       "    'runway': '25L',\n",
       "    'quality': ['Basic', 'Live']},\n",
       "   'number': 'PC 5067',\n",
       "   'callSign': 'PGT4WR',\n",
       "   'status': 'Arrived',\n",
       "   'codeshareStatus': 'IsOperator',\n",
       "   'isCargo': False,\n",
       "   'aircraft': {'reg': 'TC-NBV',\n",
       "    'modeS': '4BB856',\n",
       "    'model': 'Airbus A320 (Sharklets)'},\n",
       "   'airline': {'name': 'Pegasus', 'iata': 'PC', 'icao': 'PGT'}},\n",
       "  {'departure': {'airport': {'icao': 'UGKO',\n",
       "     'iata': 'KUT',\n",
       "     'name': 'Kutaisi',\n",
       "     'timeZone': 'Asia/Tbilisi'},\n",
       "    'scheduledTime': {'utc': '2024-10-14 02:20Z',\n",
       "     'local': '2024-10-14 06:20+04:00'},\n",
       "    'quality': ['Basic']},\n",
       "   'arrival': {'scheduledTime': {'utc': '2024-10-14 06:30Z',\n",
       "     'local': '2024-10-14 08:30+02:00'},\n",
       "    'revisedTime': {'utc': '2024-10-14 06:39Z',\n",
       "     'local': '2024-10-14 08:39+02:00'},\n",
       "    'runwayTime': {'utc': '2024-10-14 06:42Z',\n",
       "     'local': '2024-10-14 08:42+02:00'},\n",
       "    'terminal': '1',\n",
       "    'gate': 'N01',\n",
       "    'baggageBelt': 'B4',\n",
       "    'runway': '25R',\n",
       "    'quality': ['Basic', 'Live']},\n",
       "   'number': 'W6 7909',\n",
       "   'callSign': 'WZZ529',\n",
       "   'status': 'Arrived',\n",
       "   'codeshareStatus': 'IsOperator',\n",
       "   'isCargo': False,\n",
       "   'aircraft': {'reg': 'HA-LZM',\n",
       "    'modeS': '471FA2',\n",
       "    'model': 'Airbus A321 NEO'},\n",
       "   'airline': {'name': 'Wizz Air', 'iata': 'W6', 'icao': 'WZZ'}},\n",
       "  {'departure': {'airport': {'icao': 'LYBE',\n",
       "     'iata': 'BEG',\n",
       "     'name': 'Belgrade',\n",
       "     'timeZone': 'Europe/Belgrade'},\n",
       "    'scheduledTime': {'utc': '2024-10-14 04:50Z',\n",
       "     'local': '2024-10-14 06:50+02:00'},\n",
       "    'terminal': '2',\n",
       "    'quality': ['Basic']},\n",
       "   'arrival': {'scheduledTime': {'utc': '2024-10-14 06:40Z',\n",
       "     'local': '2024-10-14 08:40+02:00'},\n",
       "    'revisedTime': {'utc': '2024-10-14 06:40Z',\n",
       "     'local': '2024-10-14 08:40+02:00'},\n",
       "    'terminal': '1',\n",
       "    'gate': 'X03',\n",
       "    'baggageBelt': 'A3',\n",
       "    'runway': '25L',\n",
       "    'quality': ['Basic', 'Live']},\n",
       "   'number': 'JU 354',\n",
       "   'callSign': 'ASL37H',\n",
       "   'status': 'Expected',\n",
       "   'codeshareStatus': 'IsOperator',\n",
       "   'isCargo': False,\n",
       "   'aircraft': {'reg': 'YU-APK', 'modeS': '4C01EA', 'model': 'Airbus A319'},\n",
       "   'airline': {'name': 'Air Serbia', 'iata': 'JU', 'icao': 'ASL'}},\n",
       "  {'departure': {'airport': {'icao': 'EGPH',\n",
       "     'iata': 'EDI',\n",
       "     'name': 'Edinburgh',\n",
       "     'timeZone': 'Europe/London'},\n",
       "    'scheduledTime': {'utc': '2024-10-14 05:00Z',\n",
       "     'local': '2024-10-14 06:00+01:00'},\n",
       "    'revisedTime': {'utc': '2024-10-14 05:06Z',\n",
       "     'local': '2024-10-14 06:06+01:00'},\n",
       "    'runwayTime': {'utc': '2024-10-14 05:07Z',\n",
       "     'local': '2024-10-14 06:07+01:00'},\n",
       "    'quality': ['Basic', 'Live']},\n",
       "   'arrival': {'scheduledTime': {'utc': '2024-10-14 07:00Z',\n",
       "     'local': '2024-10-14 09:00+02:00'},\n",
       "    'revisedTime': {'utc': '2024-10-14 06:40Z',\n",
       "     'local': '2024-10-14 08:40+02:00'},\n",
       "    'terminal': '2',\n",
       "    'gate': 'Z44',\n",
       "    'baggageBelt': 'C1',\n",
       "    'quality': ['Basic', 'Live']},\n",
       "   'number': 'FR 2376',\n",
       "   'callSign': 'RYR2376',\n",
       "   'status': 'Arrived',\n",
       "   'codeshareStatus': 'IsOperator',\n",
       "   'isCargo': False,\n",
       "   'aircraft': {'reg': 'EI-IJO',\n",
       "    'modeS': '4CAE64',\n",
       "    'model': 'Boeing 737 MAX 8'},\n",
       "   'airline': {'name': 'Ryanair', 'iata': 'FR', 'icao': 'RYR'}},\n",
       "  {'departure': {'airport': {'icao': 'LCPH',\n",
       "     'iata': 'PFO',\n",
       "     'name': 'Paphos',\n",
       "     'timeZone': 'Asia/Nicosia'},\n",
       "    'scheduledTime': {'utc': '2024-10-14 03:00Z',\n",
       "     'local': '2024-10-14 06:00+03:00'},\n",
       "    'quality': ['Basic']},\n",
       "   'arrival': {'scheduledTime': {'utc': '2024-10-14 06:45Z',\n",
       "     'local': '2024-10-14 08:45+02:00'},\n",
       "    'revisedTime': {'utc': '2024-10-14 06:43Z',\n",
       "     'local': '2024-10-14 08:43+02:00'},\n",
       "    'runwayTime': {'utc': '2024-10-14 06:43Z',\n",
       "     'local': '2024-10-14 08:43+02:00'},\n",
       "    'terminal': '2',\n",
       "    'gate': 'Z38',\n",
       "    'baggageBelt': 'C3',\n",
       "    'runway': '25R',\n",
       "    'quality': ['Basic', 'Live']},\n",
       "   'number': 'FR 354',\n",
       "   'callSign': 'RYR354',\n",
       "   'status': 'Arrived',\n",
       "   'codeshareStatus': 'IsOperator',\n",
       "   'isCargo': False,\n",
       "   'aircraft': {'reg': 'EI-IJX',\n",
       "    'modeS': '4CAE6B',\n",
       "    'model': 'Boeing 737 MAX 8'},\n",
       "   'airline': {'name': 'Ryanair', 'iata': 'FR', 'icao': 'RYR'}},\n",
       "  {'departure': {'airport': {'icao': 'EDDF',\n",
       "     'iata': 'FRA',\n",
       "     'name': 'Frankfurt-am-Main',\n",
       "     'timeZone': 'Europe/Berlin'},\n",
       "    'scheduledTime': {'utc': '2024-10-14 05:45Z',\n",
       "     'local': '2024-10-14 07:45+02:00'},\n",
       "    'revisedTime': {'utc': '2024-10-14 05:45Z',\n",
       "     'local': '2024-10-14 07:45+02:00'},\n",
       "    'terminal': '1',\n",
       "    'checkInDesk': '259-335',\n",
       "    'gate': 'A17',\n",
       "    'quality': ['Basic', 'Live']},\n",
       "   'arrival': {'scheduledTime': {'utc': '2024-10-14 06:55Z',\n",
       "     'local': '2024-10-14 08:55+02:00'},\n",
       "    'revisedTime': {'utc': '2024-10-14 06:46Z',\n",
       "     'local': '2024-10-14 08:46+02:00'},\n",
       "    'runwayTime': {'utc': '2024-10-14 06:44Z',\n",
       "     'local': '2024-10-14 08:44+02:00'},\n",
       "    'terminal': '1',\n",
       "    'gate': 'B07',\n",
       "    'baggageBelt': 'B2',\n",
       "    'runway': '25L',\n",
       "    'quality': ['Basic', 'Live']},\n",
       "   'number': 'LH 174',\n",
       "   'callSign': 'DLH4PH',\n",
       "   'status': 'Arrived',\n",
       "   'codeshareStatus': 'IsOperator',\n",
       "   'isCargo': False,\n",
       "   'aircraft': {'reg': 'D-AISL', 'modeS': '3C666C', 'model': 'Airbus A321'},\n",
       "   'airline': {'name': 'Lufthansa', 'iata': 'LH', 'icao': 'DLH'}},\n",
       "  {'departure': {'airport': {'name': 'Unknown'}, 'quality': []},\n",
       "   'arrival': {'scheduledTime': {'utc': '2024-10-14 06:47Z',\n",
       "     'local': '2024-10-14 08:47+02:00'},\n",
       "    'revisedTime': {'utc': '2024-10-14 06:47Z',\n",
       "     'local': '2024-10-14 08:47+02:00'},\n",
       "    'runwayTime': {'utc': '2024-10-14 06:47Z',\n",
       "     'local': '2024-10-14 08:47+02:00'},\n",
       "    'quality': ['Basic', 'Live']},\n",
       "   'number': 'DINNA',\n",
       "   'callSign': 'DINNA',\n",
       "   'status': 'Arrived',\n",
       "   'codeshareStatus': 'IsOperator',\n",
       "   'isCargo': False,\n",
       "   'airline': {'name': 'DINNA'}},\n",
       "  {'departure': {'airport': {'icao': 'EGGW',\n",
       "     'iata': 'LTN',\n",
       "     'name': 'London',\n",
       "     'timeZone': 'Europe/London'},\n",
       "    'scheduledTime': {'utc': '2024-10-14 05:20Z',\n",
       "     'local': '2024-10-14 06:20+01:00'},\n",
       "    'revisedTime': {'utc': '2024-10-14 05:20Z',\n",
       "     'local': '2024-10-14 06:20+01:00'},\n",
       "    'runwayTime': {'utc': '2024-10-14 05:31Z',\n",
       "     'local': '2024-10-14 06:31+01:00'},\n",
       "    'checkInDesk': '44-61',\n",
       "    'runway': '08',\n",
       "    'quality': ['Basic', 'Live']},\n",
       "   'arrival': {'scheduledTime': {'utc': '2024-10-14 07:05Z',\n",
       "     'local': '2024-10-14 09:05+02:00'},\n",
       "    'revisedTime': {'utc': '2024-10-14 06:49Z',\n",
       "     'local': '2024-10-14 08:49+02:00'},\n",
       "    'runwayTime': {'utc': '2024-10-14 06:49Z',\n",
       "     'local': '2024-10-14 08:49+02:00'},\n",
       "    'terminal': '1',\n",
       "    'gate': 'N01',\n",
       "    'baggageBelt': 'B4',\n",
       "    'runway': '25L',\n",
       "    'quality': ['Basic', 'Live']},\n",
       "   'number': 'U2 2601',\n",
       "   'callSign': 'EZY21KF',\n",
       "   'status': 'Arrived',\n",
       "   'codeshareStatus': 'IsOperator',\n",
       "   'isCargo': False,\n",
       "   'aircraft': {'reg': 'G-EZWA', 'modeS': '406752', 'model': 'Airbus A320'},\n",
       "   'airline': {'name': 'easyJet', 'iata': 'U2', 'icao': 'EZY'}},\n",
       "  {'departure': {'airport': {'icao': 'LYBE',\n",
       "     'iata': 'BEG',\n",
       "     'name': 'Belgrade',\n",
       "     'timeZone': 'Europe/Belgrade'},\n",
       "    'quality': []},\n",
       "   'arrival': {'scheduledTime': {'utc': '2024-10-14 06:40Z',\n",
       "     'local': '2024-10-14 08:40+02:00'},\n",
       "    'revisedTime': {'utc': '2024-10-14 06:50Z',\n",
       "     'local': '2024-10-14 08:50+02:00'},\n",
       "    'terminal': '1',\n",
       "    'gate': 'X07',\n",
       "    'baggageBelt': 'A3',\n",
       "    'quality': ['Basic', 'Live']},\n",
       "   'number': 'JA 354',\n",
       "   'status': 'Arrived',\n",
       "   'codeshareStatus': 'IsOperator',\n",
       "   'isCargo': False,\n",
       "   'aircraft': {'reg': 'YU-APK', 'modeS': '4C01EA', 'model': 'Airbus A319'},\n",
       "   'airline': {'name': 'JetSMART', 'iata': 'JA', 'icao': 'JAT'}},\n",
       "  {'departure': {'airport': {'icao': 'LBSF',\n",
       "     'iata': 'SOF',\n",
       "     'name': 'Sofia',\n",
       "     'timeZone': 'Europe/Sofia'},\n",
       "    'scheduledTime': {'utc': '2024-10-14 04:48Z',\n",
       "     'local': '2024-10-14 07:48+03:00'},\n",
       "    'revisedTime': {'utc': '2024-10-14 04:48Z',\n",
       "     'local': '2024-10-14 07:48+03:00'},\n",
       "    'runwayTime': {'utc': '2024-10-14 04:48Z',\n",
       "     'local': '2024-10-14 07:48+03:00'},\n",
       "    'quality': ['Basic', 'Live']},\n",
       "   'arrival': {'scheduledTime': {'utc': '2024-10-14 06:51Z',\n",
       "     'local': '2024-10-14 08:51+02:00'},\n",
       "    'revisedTime': {'utc': '2024-10-14 06:51Z',\n",
       "     'local': '2024-10-14 08:51+02:00'},\n",
       "    'runway': '25R',\n",
       "    'quality': ['Basic', 'Live']},\n",
       "   'number': 'BGF 4',\n",
       "   'callSign': 'BGF004',\n",
       "   'status': 'Approaching',\n",
       "   'codeshareStatus': 'IsOperator',\n",
       "   'isCargo': False,\n",
       "   'aircraft': {'reg': 'LZ-OOI',\n",
       "    'modeS': '451C42',\n",
       "    'model': 'Dassault Falcon'},\n",
       "   'airline': {'name': 'BGF'}},\n",
       "  {'departure': {'airport': {'icao': 'OEJN',\n",
       "     'iata': 'JED',\n",
       "     'name': 'Jeddah',\n",
       "     'timeZone': 'Asia/Riyadh'},\n",
       "    'scheduledTime': {'utc': '2024-10-14 00:55Z',\n",
       "     'local': '2024-10-14 03:55+03:00'},\n",
       "    'terminal': '1',\n",
       "    'quality': ['Basic']},\n",
       "   'arrival': {'scheduledTime': {'utc': '2024-10-14 06:45Z',\n",
       "     'local': '2024-10-14 08:45+02:00'},\n",
       "    'revisedTime': {'utc': '2024-10-14 06:51Z',\n",
       "     'local': '2024-10-14 08:51+02:00'},\n",
       "    'terminal': '1',\n",
       "    'gate': 'X10',\n",
       "    'baggageBelt': 'A1',\n",
       "    'quality': ['Basic', 'Live']},\n",
       "   'number': 'XY 643',\n",
       "   'callSign': 'KNE643',\n",
       "   'status': 'Approaching',\n",
       "   'codeshareStatus': 'IsOperator',\n",
       "   'isCargo': False,\n",
       "   'aircraft': {'reg': 'HZ-NS49',\n",
       "    'modeS': '717CCE',\n",
       "    'model': 'Airbus A320 NEO'},\n",
       "   'airline': {'name': 'flynas', 'iata': 'XY', 'icao': 'KNE'}},\n",
       "  {'departure': {'airport': {'icao': 'LSZH',\n",
       "     'iata': 'ZRH',\n",
       "     'name': 'Zurich',\n",
       "     'timeZone': 'Europe/Zurich'},\n",
       "    'scheduledTime': {'utc': '2024-10-14 05:20Z',\n",
       "     'local': '2024-10-14 07:20+02:00'},\n",
       "    'revisedTime': {'utc': '2024-10-14 05:30Z',\n",
       "     'local': '2024-10-14 07:30+02:00'},\n",
       "    'runwayTime': {'utc': '2024-10-14 05:54Z',\n",
       "     'local': '2024-10-14 07:54+02:00'},\n",
       "    'checkInDesk': '1',\n",
       "    'gate': 'A84',\n",
       "    'quality': ['Basic', 'Live']},\n",
       "   'arrival': {'scheduledTime': {'utc': '2024-10-14 06:45Z',\n",
       "     'local': '2024-10-14 08:45+02:00'},\n",
       "    'revisedTime': {'utc': '2024-10-14 06:58Z',\n",
       "     'local': '2024-10-14 08:58+02:00'},\n",
       "    'terminal': '1',\n",
       "    'gate': 'B06',\n",
       "    'baggageBelt': 'B2',\n",
       "    'quality': ['Basic', 'Live']},\n",
       "   'number': 'LX 974',\n",
       "   'callSign': 'SWR97Y',\n",
       "   'status': 'Approaching',\n",
       "   'codeshareStatus': 'IsOperator',\n",
       "   'isCargo': False,\n",
       "   'aircraft': {'reg': 'HB-JLR', 'modeS': '4B18F3', 'model': 'Airbus A320'},\n",
       "   'airline': {'name': 'SWISS', 'iata': 'LX', 'icao': 'SWR'}},\n",
       "  {'departure': {'airport': {'icao': 'LGIR',\n",
       "     'iata': 'HER',\n",
       "     'name': 'Heraklion',\n",
       "     'timeZone': 'Europe/Athens'},\n",
       "    'scheduledTime': {'utc': '2024-10-14 04:00Z',\n",
       "     'local': '2024-10-14 07:00+03:00'},\n",
       "    'revisedTime': {'utc': '2024-10-14 04:09Z',\n",
       "     'local': '2024-10-14 07:09+03:00'},\n",
       "    'runwayTime': {'utc': '2024-10-14 04:09Z',\n",
       "     'local': '2024-10-14 07:09+03:00'},\n",
       "    'quality': ['Basic', 'Live']},\n",
       "   'arrival': {'scheduledTime': {'utc': '2024-10-14 07:15Z',\n",
       "     'local': '2024-10-14 09:15+02:00'},\n",
       "    'revisedTime': {'utc': '2024-10-14 06:59Z',\n",
       "     'local': '2024-10-14 08:59+02:00'},\n",
       "    'terminal': '1',\n",
       "    'gate': 'A36',\n",
       "    'baggageBelt': 'A1',\n",
       "    'quality': ['Basic', 'Live']},\n",
       "   'number': 'XR 173',\n",
       "   'callSign': 'CXI53BG',\n",
       "   'status': 'Approaching',\n",
       "   'codeshareStatus': 'IsOperator',\n",
       "   'isCargo': False,\n",
       "   'aircraft': {'reg': '9H-CXD',\n",
       "    'modeS': '4D239A',\n",
       "    'model': 'Boeing 737-800 (winglets)'},\n",
       "   'airline': {'name': 'Corendon  Europe', 'iata': 'XR', 'icao': 'CXI'}},\n",
       "  {'departure': {'airport': {'icao': 'LFPG',\n",
       "     'iata': 'CDG',\n",
       "     'name': 'Paris',\n",
       "     'timeZone': 'Europe/Paris'},\n",
       "    'scheduledTime': {'utc': '2024-10-14 05:15Z',\n",
       "     'local': '2024-10-14 07:15+02:00'},\n",
       "    'revisedTime': {'utc': '2024-10-14 05:49Z',\n",
       "     'local': '2024-10-14 07:49+02:00'},\n",
       "    'runwayTime': {'utc': '2024-10-14 05:49Z',\n",
       "     'local': '2024-10-14 07:49+02:00'},\n",
       "    'terminal': '2F',\n",
       "    'quality': ['Basic', 'Live']},\n",
       "   'arrival': {'scheduledTime': {'utc': '2024-10-14 06:55Z',\n",
       "     'local': '2024-10-14 08:55+02:00'},\n",
       "    'revisedTime': {'utc': '2024-10-14 07:00Z',\n",
       "     'local': '2024-10-14 09:00+02:00'},\n",
       "    'terminal': '1',\n",
       "    'gate': 'A35',\n",
       "    'baggageBelt': 'A4',\n",
       "    'quality': ['Basic', 'Live']},\n",
       "   'number': 'AF 1434',\n",
       "   'callSign': 'AFR95ZE',\n",
       "   'status': 'Approaching',\n",
       "   'codeshareStatus': 'IsOperator',\n",
       "   'isCargo': False,\n",
       "   'aircraft': {'reg': 'F-HDRF', 'modeS': '398E25', 'model': 'Airbus A320'},\n",
       "   'airline': {'name': 'Air France', 'iata': 'AF', 'icao': 'AFR'}},\n",
       "  {'departure': {'airport': {'icao': 'EGSS',\n",
       "     'iata': 'STN',\n",
       "     'name': 'London',\n",
       "     'timeZone': 'Europe/London'},\n",
       "    'scheduledTime': {'utc': '2024-10-14 05:30Z',\n",
       "     'local': '2024-10-14 06:30+01:00'},\n",
       "    'revisedTime': {'utc': '2024-10-14 05:30Z',\n",
       "     'local': '2024-10-14 06:30+01:00'},\n",
       "    'runwayTime': {'utc': '2024-10-14 05:45Z',\n",
       "     'local': '2024-10-14 06:45+01:00'},\n",
       "    'terminal': '1',\n",
       "    'gate': '43',\n",
       "    'runway': '04',\n",
       "    'quality': ['Basic', 'Live']},\n",
       "   'arrival': {'scheduledTime': {'utc': '2024-10-14 07:15Z',\n",
       "     'local': '2024-10-14 09:15+02:00'},\n",
       "    'revisedTime': {'utc': '2024-10-14 07:00Z',\n",
       "     'local': '2024-10-14 09:00+02:00'},\n",
       "    'terminal': '2',\n",
       "    'gate': 'Z40',\n",
       "    'baggageBelt': 'C3',\n",
       "    'quality': ['Basic', 'Live']},\n",
       "   'number': 'FR 145',\n",
       "   'callSign': 'RYR927E',\n",
       "   'status': 'Approaching',\n",
       "   'codeshareStatus': 'IsOperator',\n",
       "   'isCargo': False,\n",
       "   'aircraft': {'reg': 'EI-EVT', 'modeS': '4CAA59', 'model': 'Boeing 737-800'},\n",
       "   'airline': {'name': 'Ryanair', 'iata': 'FR', 'icao': 'RYR'}},\n",
       "  {'departure': {'airport': {'icao': 'EGKK',\n",
       "     'iata': 'LGW',\n",
       "     'name': 'London',\n",
       "     'timeZone': 'Europe/London'},\n",
       "    'scheduledTime': {'utc': '2024-10-14 05:25Z',\n",
       "     'local': '2024-10-14 06:25+01:00'},\n",
       "    'revisedTime': {'utc': '2024-10-14 05:46Z',\n",
       "     'local': '2024-10-14 06:46+01:00'},\n",
       "    'runwayTime': {'utc': '2024-10-14 05:47Z',\n",
       "     'local': '2024-10-14 06:47+01:00'},\n",
       "    'terminal': 'N',\n",
       "    'runway': '08R',\n",
       "    'quality': ['Basic', 'Live']},\n",
       "   'arrival': {'scheduledTime': {'utc': '2024-10-14 07:30Z',\n",
       "     'local': '2024-10-14 09:30+02:00'},\n",
       "    'revisedTime': {'utc': '2024-10-14 07:00Z',\n",
       "     'local': '2024-10-14 09:00+02:00'},\n",
       "    'terminal': '1',\n",
       "    'gate': 'N01',\n",
       "    'baggageBelt': 'B3',\n",
       "    'quality': ['Basic', 'Live']},\n",
       "   'number': 'U2 8629',\n",
       "   'callSign': 'EZY19TC',\n",
       "   'status': 'Expected',\n",
       "   'codeshareStatus': 'IsOperator',\n",
       "   'isCargo': False,\n",
       "   'aircraft': {'reg': 'G-EZUR', 'modeS': '40666B', 'model': 'Airbus A320'},\n",
       "   'airline': {'name': 'easyJet', 'iata': 'U2', 'icao': 'EZY'}},\n",
       "  {'departure': {'airport': {'icao': 'EDDM',\n",
       "     'iata': 'MUC',\n",
       "     'name': 'Munich',\n",
       "     'timeZone': 'Europe/Berlin'},\n",
       "    'scheduledTime': {'utc': '2024-10-14 06:00Z',\n",
       "     'local': '2024-10-14 08:00+02:00'},\n",
       "    'revisedTime': {'utc': '2024-10-14 06:00Z',\n",
       "     'local': '2024-10-14 08:00+02:00'},\n",
       "    'runwayTime': {'utc': '2024-10-14 06:17Z',\n",
       "     'local': '2024-10-14 08:17+02:00'},\n",
       "    'terminal': '2',\n",
       "    'runway': '26R',\n",
       "    'quality': ['Basic', 'Live']},\n",
       "   'arrival': {'scheduledTime': {'utc': '2024-10-14 07:05Z',\n",
       "     'local': '2024-10-14 09:05+02:00'},\n",
       "    'revisedTime': {'utc': '2024-10-14 07:00Z',\n",
       "     'local': '2024-10-14 09:00+02:00'},\n",
       "    'terminal': '1',\n",
       "    'gate': 'B20',\n",
       "    'baggageBelt': 'B2',\n",
       "    'quality': ['Basic', 'Live']},\n",
       "   'number': 'LH 1930',\n",
       "   'callSign': 'DLH2X',\n",
       "   'status': 'Expected',\n",
       "   'codeshareStatus': 'IsOperator',\n",
       "   'isCargo': False,\n",
       "   'aircraft': {'reg': 'D-AIUL', 'modeS': '3C66AC', 'model': 'Airbus A320'},\n",
       "   'airline': {'name': 'Lufthansa', 'iata': 'LH', 'icao': 'DLH'}},\n",
       "  {'departure': {'airport': {'icao': 'LTFM',\n",
       "     'iata': 'IST',\n",
       "     'name': 'Istanbul',\n",
       "     'timeZone': 'Europe/Istanbul'},\n",
       "    'scheduledTime': {'utc': '2024-10-14 04:30Z',\n",
       "     'local': '2024-10-14 07:30+03:00'},\n",
       "    'revisedTime': {'utc': '2024-10-14 04:30Z',\n",
       "     'local': '2024-10-14 07:30+03:00'},\n",
       "    'checkInDesk': 'E-F',\n",
       "    'gate': 'B12',\n",
       "    'quality': ['Basic', 'Live']},\n",
       "   'arrival': {'scheduledTime': {'utc': '2024-10-14 07:20Z',\n",
       "     'local': '2024-10-14 09:20+02:00'},\n",
       "    'revisedTime': {'utc': '2024-10-14 07:02Z',\n",
       "     'local': '2024-10-14 09:02+02:00'},\n",
       "    'terminal': '1',\n",
       "    'gate': 'X01',\n",
       "    'baggageBelt': 'A4',\n",
       "    'quality': ['Basic', 'Live']},\n",
       "   'number': 'TK 1721',\n",
       "   'callSign': 'THY3CS',\n",
       "   'status': 'Expected',\n",
       "   'codeshareStatus': 'IsOperator',\n",
       "   'isCargo': False,\n",
       "   'aircraft': {'reg': 'TC-JIO', 'modeS': '4BA92F', 'model': 'Airbus A330'},\n",
       "   'airline': {'name': 'Turkish', 'iata': 'TK', 'icao': 'THY'}},\n",
       "  {'departure': {'airport': {'icao': 'ENGM',\n",
       "     'iata': 'OSL',\n",
       "     'name': 'Oslo',\n",
       "     'timeZone': 'Europe/Oslo'},\n",
       "    'scheduledTime': {'utc': '2024-10-14 05:30Z',\n",
       "     'local': '2024-10-14 07:30+02:00'},\n",
       "    'revisedTime': {'utc': '2024-10-14 05:32Z',\n",
       "     'local': '2024-10-14 07:32+02:00'},\n",
       "    'runwayTime': {'utc': '2024-10-14 05:46Z',\n",
       "     'local': '2024-10-14 07:46+02:00'},\n",
       "    'checkInDesk': '123',\n",
       "    'gate': 'E7',\n",
       "    'quality': ['Basic', 'Live']},\n",
       "   'arrival': {'scheduledTime': {'utc': '2024-10-14 07:05Z',\n",
       "     'local': '2024-10-14 09:05+02:00'},\n",
       "    'revisedTime': {'utc': '2024-10-14 07:02Z',\n",
       "     'local': '2024-10-14 09:02+02:00'},\n",
       "    'terminal': '2',\n",
       "    'gate': 'Z34',\n",
       "    'baggageBelt': 'C2',\n",
       "    'quality': ['Basic', 'Live']},\n",
       "   'number': 'DY 1102',\n",
       "   'callSign': 'NOZ2XM',\n",
       "   'status': 'Expected',\n",
       "   'codeshareStatus': 'IsOperator',\n",
       "   'isCargo': False,\n",
       "   'aircraft': {'reg': 'OY-JRS', 'modeS': '45AA53', 'model': 'Airbus A320'},\n",
       "   'airline': {'name': 'Norwegian Air Shuttle', 'iata': 'DY', 'icao': 'NOZ'}},\n",
       "  {'departure': {'airport': {'icao': 'EGBB',\n",
       "     'iata': 'BHX',\n",
       "     'name': 'Birmingham',\n",
       "     'timeZone': 'Europe/London'},\n",
       "    'quality': []},\n",
       "   'arrival': {'scheduledTime': {'utc': '2024-10-14 07:05Z',\n",
       "     'local': '2024-10-14 09:05+02:00'},\n",
       "    'revisedTime': {'utc': '2024-10-14 07:03Z',\n",
       "     'local': '2024-10-14 09:03+02:00'},\n",
       "    'terminal': '1',\n",
       "    'gate': 'N01',\n",
       "    'baggageBelt': 'B3',\n",
       "    'quality': ['Basic', 'Live']},\n",
       "   'number': 'U2 6621',\n",
       "   'callSign': 'EZY46ZP',\n",
       "   'status': 'Approaching',\n",
       "   'codeshareStatus': 'IsOperator',\n",
       "   'isCargo': False,\n",
       "   'aircraft': {'reg': 'G-EZUS', 'modeS': '40666C', 'model': 'Airbus A320'},\n",
       "   'airline': {'name': 'easyJet', 'iata': 'U2', 'icao': 'EZY'}},\n",
       "  {'departure': {'airport': {'icao': 'EDDL',\n",
       "     'iata': 'DUS',\n",
       "     'name': 'Düsseldorf',\n",
       "     'timeZone': 'Europe/Berlin'},\n",
       "    'scheduledTime': {'utc': '2024-10-14 06:15Z',\n",
       "     'local': '2024-10-14 08:15+02:00'},\n",
       "    'revisedTime': {'utc': '2024-10-14 06:14Z',\n",
       "     'local': '2024-10-14 08:14+02:00'},\n",
       "    'runwayTime': {'utc': '2024-10-14 06:24Z',\n",
       "     'local': '2024-10-14 08:24+02:00'},\n",
       "    'terminal': 'B',\n",
       "    'checkInDesk': '151,170',\n",
       "    'gate': 'A25',\n",
       "    'quality': ['Basic', 'Live']},\n",
       "   'arrival': {'scheduledTime': {'utc': '2024-10-14 07:25Z',\n",
       "     'local': '2024-10-14 09:25+02:00'},\n",
       "    'revisedTime': {'utc': '2024-10-14 07:10Z',\n",
       "     'local': '2024-10-14 09:10+02:00'},\n",
       "    'terminal': '1',\n",
       "    'gate': 'A31',\n",
       "    'baggageBelt': 'A1',\n",
       "    'quality': ['Basic', 'Live']},\n",
       "   'number': 'EW 8041',\n",
       "   'callSign': 'GWI9XL',\n",
       "   'status': 'Expected',\n",
       "   'codeshareStatus': 'IsOperator',\n",
       "   'isCargo': False,\n",
       "   'aircraft': {'reg': 'D-AGWP', 'model': 'Airbus A319'},\n",
       "   'airline': {'name': 'Eurowings', 'iata': 'EW', 'icao': 'EWG'}},\n",
       "  {'departure': {'airport': {'icao': 'LFPO',\n",
       "     'iata': 'ORY',\n",
       "     'name': 'Paris',\n",
       "     'timeZone': 'Europe/Paris'},\n",
       "    'scheduledTime': {'utc': '2024-10-14 05:25Z',\n",
       "     'local': '2024-10-14 07:25+02:00'},\n",
       "    'revisedTime': {'utc': '2024-10-14 06:00Z',\n",
       "     'local': '2024-10-14 08:00+02:00'},\n",
       "    'runwayTime': {'utc': '2024-10-14 06:00Z',\n",
       "     'local': '2024-10-14 08:00+02:00'},\n",
       "    'terminal': '1',\n",
       "    'quality': ['Basic', 'Live']},\n",
       "   'arrival': {'scheduledTime': {'utc': '2024-10-14 07:05Z',\n",
       "     'local': '2024-10-14 09:05+02:00'},\n",
       "    'revisedTime': {'utc': '2024-10-14 07:11Z',\n",
       "     'local': '2024-10-14 09:11+02:00'},\n",
       "    'terminal': '1',\n",
       "    'gate': 'A32',\n",
       "    'baggageBelt': 'B1',\n",
       "    'quality': ['Basic', 'Live']},\n",
       "   'number': 'EC 4897',\n",
       "   'callSign': 'EJU42RU',\n",
       "   'status': 'Expected',\n",
       "   'codeshareStatus': 'IsCodeshared',\n",
       "   'isCargo': False,\n",
       "   'aircraft': {'reg': 'HB-JXU',\n",
       "    'modeS': '4408C9',\n",
       "    'model': 'Airbus A320-200 (sharklets)'},\n",
       "   'airline': {'name': 'EasyJet Europe', 'iata': 'EC', 'icao': 'EJU'}},\n",
       "  {'departure': {'airport': {'icao': 'LFPO',\n",
       "     'iata': 'ORY',\n",
       "     'name': 'Paris',\n",
       "     'timeZone': 'Europe/Paris'},\n",
       "    'scheduledTime': {'utc': '2024-10-14 05:25Z',\n",
       "     'local': '2024-10-14 07:25+02:00'},\n",
       "    'revisedTime': {'utc': '2024-10-14 06:00Z',\n",
       "     'local': '2024-10-14 08:00+02:00'},\n",
       "    'runwayTime': {'utc': '2024-10-14 06:00Z',\n",
       "     'local': '2024-10-14 08:00+02:00'},\n",
       "    'terminal': '1',\n",
       "    'quality': ['Basic', 'Live']},\n",
       "   'arrival': {'scheduledTime': {'utc': '2024-10-14 07:05Z',\n",
       "     'local': '2024-10-14 09:05+02:00'},\n",
       "    'revisedTime': {'utc': '2024-10-14 07:11Z',\n",
       "     'local': '2024-10-14 09:11+02:00'},\n",
       "    'terminal': '1',\n",
       "    'gate': 'A32',\n",
       "    'baggageBelt': 'B1',\n",
       "    'quality': ['Basic', 'Live']},\n",
       "   'number': 'U2 4897',\n",
       "   'callSign': 'EJU42RU',\n",
       "   'status': 'Expected',\n",
       "   'codeshareStatus': 'IsOperator',\n",
       "   'isCargo': False,\n",
       "   'aircraft': {'reg': 'HB-JXU',\n",
       "    'modeS': '4408C9',\n",
       "    'model': 'Airbus A320-200 (sharklets)'},\n",
       "   'airline': {'name': 'easyJet', 'iata': 'U2', 'icao': 'EZY'}},\n",
       "  {'departure': {'airport': {'icao': 'EDDK',\n",
       "     'iata': 'CGN',\n",
       "     'name': 'Cologne',\n",
       "     'timeZone': 'Europe/Berlin'},\n",
       "    'scheduledTime': {'utc': '2024-10-14 06:15Z',\n",
       "     'local': '2024-10-14 08:15+02:00'},\n",
       "    'terminal': '1',\n",
       "    'quality': ['Basic']},\n",
       "   'arrival': {'scheduledTime': {'utc': '2024-10-14 07:25Z',\n",
       "     'local': '2024-10-14 09:25+02:00'},\n",
       "    'revisedTime': {'utc': '2024-10-14 07:12Z',\n",
       "     'local': '2024-10-14 09:12+02:00'},\n",
       "    'terminal': '1',\n",
       "    'gate': 'A34',\n",
       "    'baggageBelt': 'B2',\n",
       "    'quality': ['Basic', 'Live']},\n",
       "   'number': 'EW 8059',\n",
       "   'status': 'Expected',\n",
       "   'codeshareStatus': 'IsOperator',\n",
       "   'isCargo': False,\n",
       "   'aircraft': {'reg': '9H-MLW', 'modeS': '4D244F', 'model': 'Airbus A320'},\n",
       "   'airline': {'name': 'Eurowings', 'iata': 'EW', 'icao': 'EWG'}},\n",
       "  {'departure': {'airport': {'icao': 'EHAM',\n",
       "     'iata': 'AMS',\n",
       "     'name': 'Amsterdam',\n",
       "     'timeZone': 'Europe/Amsterdam'},\n",
       "    'scheduledTime': {'utc': '2024-10-14 06:10Z',\n",
       "     'local': '2024-10-14 08:10+02:00'},\n",
       "    'revisedTime': {'utc': '2024-10-14 06:07Z',\n",
       "     'local': '2024-10-14 08:07+02:00'},\n",
       "    'runwayTime': {'utc': '2024-10-14 06:20Z',\n",
       "     'local': '2024-10-14 08:20+02:00'},\n",
       "    'terminal': '3',\n",
       "    'checkInDesk': '26',\n",
       "    'gate': 'M4',\n",
       "    'runway': '24',\n",
       "    'quality': ['Basic', 'Live']},\n",
       "   'arrival': {'scheduledTime': {'utc': '2024-10-14 07:35Z',\n",
       "     'local': '2024-10-14 09:35+02:00'},\n",
       "    'revisedTime': {'utc': '2024-10-14 07:15Z',\n",
       "     'local': '2024-10-14 09:15+02:00'},\n",
       "    'terminal': '1',\n",
       "    'gate': 'A37',\n",
       "    'baggageBelt': 'A3',\n",
       "    'quality': ['Basic', 'Live']},\n",
       "   'number': 'U2 5282',\n",
       "   'callSign': 'EJU42KM',\n",
       "   'status': 'Expected',\n",
       "   'codeshareStatus': 'IsOperator',\n",
       "   'isCargo': False,\n",
       "   'aircraft': {'reg': 'OE-IBS', 'modeS': '440D10', 'model': 'Airbus A320'},\n",
       "   'airline': {'name': 'easyJet', 'iata': 'U2', 'icao': 'EZY'}},\n",
       "  {'departure': {'airport': {'icao': 'EHAM',\n",
       "     'iata': 'AMS',\n",
       "     'name': 'Amsterdam',\n",
       "     'timeZone': 'Europe/Amsterdam'},\n",
       "    'scheduledTime': {'utc': '2024-10-14 06:10Z',\n",
       "     'local': '2024-10-14 08:10+02:00'},\n",
       "    'revisedTime': {'utc': '2024-10-14 06:07Z',\n",
       "     'local': '2024-10-14 08:07+02:00'},\n",
       "    'runwayTime': {'utc': '2024-10-14 06:20Z',\n",
       "     'local': '2024-10-14 08:20+02:00'},\n",
       "    'terminal': '3',\n",
       "    'checkInDesk': '26',\n",
       "    'gate': 'M4',\n",
       "    'runway': '24',\n",
       "    'quality': ['Basic', 'Live']},\n",
       "   'arrival': {'scheduledTime': {'utc': '2024-10-14 07:35Z',\n",
       "     'local': '2024-10-14 09:35+02:00'},\n",
       "    'revisedTime': {'utc': '2024-10-14 07:15Z',\n",
       "     'local': '2024-10-14 09:15+02:00'},\n",
       "    'terminal': '1',\n",
       "    'gate': 'A37',\n",
       "    'baggageBelt': 'A3',\n",
       "    'quality': ['Basic', 'Live']},\n",
       "   'number': 'EC 5282',\n",
       "   'callSign': 'EJU42KM',\n",
       "   'status': 'Expected',\n",
       "   'codeshareStatus': 'IsCodeshared',\n",
       "   'isCargo': False,\n",
       "   'aircraft': {'reg': 'OE-IBS', 'modeS': '440D10', 'model': 'Airbus A320'},\n",
       "   'airline': {'name': 'EasyJet Europe', 'iata': 'EC', 'icao': 'EJU'}},\n",
       "  {'departure': {'airport': {'icao': 'EGCC',\n",
       "     'iata': 'MAN',\n",
       "     'name': 'Manchester',\n",
       "     'timeZone': 'Europe/London'},\n",
       "    'scheduledTime': {'utc': '2024-10-14 05:40Z',\n",
       "     'local': '2024-10-14 06:40+01:00'},\n",
       "    'revisedTime': {'utc': '2024-10-14 05:35Z',\n",
       "     'local': '2024-10-14 06:35+01:00'},\n",
       "    'runwayTime': {'utc': '2024-10-14 05:55Z',\n",
       "     'local': '2024-10-14 06:55+01:00'},\n",
       "    'terminal': '1',\n",
       "    'gate': '6',\n",
       "    'runway': '23L',\n",
       "    'quality': ['Basic', 'Live']},\n",
       "   'arrival': {'scheduledTime': {'utc': '2024-10-14 07:35Z',\n",
       "     'local': '2024-10-14 09:35+02:00'},\n",
       "    'revisedTime': {'utc': '2024-10-14 07:19Z',\n",
       "     'local': '2024-10-14 09:19+02:00'},\n",
       "    'terminal': '1',\n",
       "    'gate': 'N01',\n",
       "    'baggageBelt': 'B3',\n",
       "    'quality': ['Basic', 'Live']},\n",
       "   'number': 'U2 2199',\n",
       "   'callSign': 'EZY73CX',\n",
       "   'status': 'Expected',\n",
       "   'codeshareStatus': 'IsOperator',\n",
       "   'isCargo': False,\n",
       "   'aircraft': {'reg': 'G-EZUO', 'modeS': '406669', 'model': 'Airbus A320'},\n",
       "   'airline': {'name': 'easyJet', 'iata': 'U2', 'icao': 'EZY'}},\n",
       "  {'departure': {'airport': {'icao': 'LSZH',\n",
       "     'iata': 'ZRH',\n",
       "     'name': 'Zurich',\n",
       "     'timeZone': 'Europe/Zurich'},\n",
       "    'scheduledTime': {'utc': '2024-10-14 06:05Z',\n",
       "     'local': '2024-10-14 08:05+02:00'},\n",
       "    'revisedTime': {'utc': '2024-10-14 06:05Z',\n",
       "     'local': '2024-10-14 08:05+02:00'},\n",
       "    'runwayTime': {'utc': '2024-10-14 06:24Z',\n",
       "     'local': '2024-10-14 08:24+02:00'},\n",
       "    'checkInDesk': '3',\n",
       "    'gate': 'A82',\n",
       "    'quality': ['Basic', 'Live']},\n",
       "   'arrival': {'scheduledTime': {'utc': '2024-10-14 07:40Z',\n",
       "     'local': '2024-10-14 09:40+02:00'},\n",
       "    'revisedTime': {'utc': '2024-10-14 07:22Z',\n",
       "     'local': '2024-10-14 09:22+02:00'},\n",
       "    'terminal': '1',\n",
       "    'gate': 'A38',\n",
       "    'baggageBelt': 'A3',\n",
       "    'quality': ['Basic', 'Live']},\n",
       "   'number': 'U2 5188',\n",
       "   'callSign': 'EJU73MR',\n",
       "   'status': 'Expected',\n",
       "   'codeshareStatus': 'IsOperator',\n",
       "   'isCargo': False,\n",
       "   'aircraft': {'reg': 'OE-IBF', 'modeS': '440CF8', 'model': 'Airbus A320'},\n",
       "   'airline': {'name': 'easyJet', 'iata': 'U2', 'icao': 'EZY'}},\n",
       "  {'departure': {'airport': {'icao': 'LSZH',\n",
       "     'iata': 'ZRH',\n",
       "     'name': 'Zurich',\n",
       "     'timeZone': 'Europe/Zurich'},\n",
       "    'scheduledTime': {'utc': '2024-10-14 06:05Z',\n",
       "     'local': '2024-10-14 08:05+02:00'},\n",
       "    'revisedTime': {'utc': '2024-10-14 06:05Z',\n",
       "     'local': '2024-10-14 08:05+02:00'},\n",
       "    'runwayTime': {'utc': '2024-10-14 06:24Z',\n",
       "     'local': '2024-10-14 08:24+02:00'},\n",
       "    'checkInDesk': '3',\n",
       "    'gate': 'A82',\n",
       "    'quality': ['Basic', 'Live']},\n",
       "   'arrival': {'scheduledTime': {'utc': '2024-10-14 07:40Z',\n",
       "     'local': '2024-10-14 09:40+02:00'},\n",
       "    'revisedTime': {'utc': '2024-10-14 07:22Z',\n",
       "     'local': '2024-10-14 09:22+02:00'},\n",
       "    'terminal': '1',\n",
       "    'gate': 'A38',\n",
       "    'baggageBelt': 'A3',\n",
       "    'quality': ['Basic', 'Live']},\n",
       "   'number': 'EC 5188',\n",
       "   'callSign': 'EJU73MR',\n",
       "   'status': 'Expected',\n",
       "   'codeshareStatus': 'IsCodeshared',\n",
       "   'isCargo': False,\n",
       "   'aircraft': {'reg': 'OE-IBF', 'modeS': '440CF8', 'model': 'Airbus A320'},\n",
       "   'airline': {'name': 'EasyJet Europe', 'iata': 'EC', 'icao': 'EJU'}},\n",
       "  {'departure': {'airport': {'icao': 'LLBG',\n",
       "     'iata': 'TLV',\n",
       "     'name': 'Tel Aviv Yafo',\n",
       "     'timeZone': 'Asia/Jerusalem'},\n",
       "    'scheduledTime': {'utc': '2024-10-14 03:20Z',\n",
       "     'local': '2024-10-14 06:20+03:00'},\n",
       "    'revisedTime': {'utc': '2024-10-14 03:36Z',\n",
       "     'local': '2024-10-14 06:36+03:00'},\n",
       "    'runwayTime': {'utc': '2024-10-14 03:36Z',\n",
       "     'local': '2024-10-14 06:36+03:00'},\n",
       "    'terminal': '3',\n",
       "    'runway': '26',\n",
       "    'quality': ['Basic', 'Live']},\n",
       "   'arrival': {'scheduledTime': {'utc': '2024-10-14 07:40Z',\n",
       "     'local': '2024-10-14 09:40+02:00'},\n",
       "    'revisedTime': {'utc': '2024-10-14 07:31Z',\n",
       "     'local': '2024-10-14 09:31+02:00'},\n",
       "    'terminal': '1',\n",
       "    'gate': 'X19',\n",
       "    'baggageBelt': 'A4',\n",
       "    'quality': ['Basic', 'Live']},\n",
       "   'number': 'LY 2371',\n",
       "   'callSign': 'ELY2371',\n",
       "   'status': 'Expected',\n",
       "   'codeshareStatus': 'IsOperator',\n",
       "   'isCargo': False,\n",
       "   'aircraft': {'reg': '4X-EKI', 'modeS': '738068', 'model': 'Boeing 737-800'},\n",
       "   'airline': {'name': 'El Al', 'iata': 'LY', 'icao': 'ELY'}},\n",
       "  {'departure': {'airport': {'icao': 'DTTA',\n",
       "     'iata': 'TUN',\n",
       "     'name': 'Tunis',\n",
       "     'timeZone': 'Africa/Tunis'},\n",
       "    'scheduledTime': {'utc': '2024-10-14 05:00Z',\n",
       "     'local': '2024-10-14 06:00+01:00'},\n",
       "    'terminal': 'M',\n",
       "    'quality': ['Basic']},\n",
       "   'arrival': {'scheduledTime': {'utc': '2024-10-14 07:45Z',\n",
       "     'local': '2024-10-14 09:45+02:00'},\n",
       "    'revisedTime': {'utc': '2024-10-14 07:32Z',\n",
       "     'local': '2024-10-14 09:32+02:00'},\n",
       "    'terminal': '1',\n",
       "    'gate': 'N01',\n",
       "    'baggageBelt': 'B4',\n",
       "    'quality': ['Basic', 'Live']},\n",
       "   'number': 'BJ 232',\n",
       "   'callSign': 'LBT232',\n",
       "   'status': 'Expected',\n",
       "   'codeshareStatus': 'IsOperator',\n",
       "   'isCargo': False,\n",
       "   'aircraft': {'reg': 'TS-ING',\n",
       "    'modeS': '02A1A6',\n",
       "    'model': 'Airbus A320-200 (sharklets)'},\n",
       "   'airline': {'name': 'Nouvelair Tunisie', 'iata': 'BJ', 'icao': 'LBT'}},\n",
       "  {'departure': {'airport': {'icao': 'EIDW',\n",
       "     'iata': 'DUB',\n",
       "     'name': 'Dublin',\n",
       "     'timeZone': 'Europe/Dublin'},\n",
       "    'scheduledTime': {'utc': '2024-10-14 05:40Z',\n",
       "     'local': '2024-10-14 06:40+01:00'},\n",
       "    'revisedTime': {'utc': '2024-10-14 05:40Z',\n",
       "     'local': '2024-10-14 06:40+01:00'},\n",
       "    'terminal': '2',\n",
       "    'checkInDesk': '29-56',\n",
       "    'gate': '335B',\n",
       "    'quality': ['Basic', 'Live']},\n",
       "   'arrival': {'scheduledTime': {'utc': '2024-10-14 08:00Z',\n",
       "     'local': '2024-10-14 10:00+02:00'},\n",
       "    'revisedTime': {'utc': '2024-10-14 07:43Z',\n",
       "     'local': '2024-10-14 09:43+02:00'},\n",
       "    'terminal': '1',\n",
       "    'gate': 'Y03',\n",
       "    'baggageBelt': 'B4',\n",
       "    'quality': ['Basic', 'Live']},\n",
       "   'number': 'EI 332',\n",
       "   'status': 'Expected',\n",
       "   'codeshareStatus': 'IsOperator',\n",
       "   'isCargo': False,\n",
       "   'aircraft': {'reg': 'EI-DEL', 'modeS': '4CA292', 'model': 'Airbus A320'},\n",
       "   'airline': {'name': 'Aer Lingus', 'iata': 'EI', 'icao': 'EIN'}},\n",
       "  {'departure': {'airport': {'icao': 'LGAV',\n",
       "     'iata': 'ATH',\n",
       "     'name': 'Athens',\n",
       "     'timeZone': 'Europe/Athens'},\n",
       "    'scheduledTime': {'utc': '2024-10-14 05:05Z',\n",
       "     'local': '2024-10-14 08:05+03:00'},\n",
       "    'revisedTime': {'utc': '2024-10-14 05:23Z',\n",
       "     'local': '2024-10-14 08:23+03:00'},\n",
       "    'terminal': 'I',\n",
       "    'checkInDesk': '21---25',\n",
       "    'gate': 'A01',\n",
       "    'quality': ['Basic', 'Live']},\n",
       "   'arrival': {'scheduledTime': {'utc': '2024-10-14 08:25Z',\n",
       "     'local': '2024-10-14 10:25+02:00'},\n",
       "    'revisedTime': {'utc': '2024-10-14 07:44Z',\n",
       "     'local': '2024-10-14 09:44+02:00'},\n",
       "    'terminal': '1',\n",
       "    'gate': 'Y07',\n",
       "    'baggageBelt': 'B3',\n",
       "    'quality': ['Basic', 'Live']},\n",
       "   'number': 'TV 720',\n",
       "   'status': 'Expected',\n",
       "   'codeshareStatus': 'IsOperator',\n",
       "   'isCargo': False,\n",
       "   'aircraft': {'reg': '9V-OFI', 'modeS': '76BCC9', 'model': 'Boeing 787-8'},\n",
       "   'airline': {'name': 'Tibet', 'iata': 'TV', 'icao': 'TBA'}},\n",
       "  {'departure': {'airport': {'icao': 'EDDS',\n",
       "     'iata': 'STR',\n",
       "     'name': 'Stuttgart',\n",
       "     'timeZone': 'Europe/Berlin'},\n",
       "    'scheduledTime': {'utc': '2024-10-14 06:35Z',\n",
       "     'local': '2024-10-14 08:35+02:00'},\n",
       "    'revisedTime': {'utc': '2024-10-14 06:45Z',\n",
       "     'local': '2024-10-14 08:45+02:00'},\n",
       "    'terminal': '3',\n",
       "    'gate': '322',\n",
       "    'quality': ['Basic', 'Live']},\n",
       "   'arrival': {'scheduledTime': {'utc': '2024-10-14 07:45Z',\n",
       "     'local': '2024-10-14 09:45+02:00'},\n",
       "    'revisedTime': {'utc': '2024-10-14 07:47Z',\n",
       "     'local': '2024-10-14 09:47+02:00'},\n",
       "    'terminal': '1',\n",
       "    'gate': 'A30',\n",
       "    'baggageBelt': 'A1',\n",
       "    'quality': ['Basic', 'Live']},\n",
       "   'number': 'LH 5392',\n",
       "   'callSign': 'EWG8001',\n",
       "   'status': 'Expected',\n",
       "   'codeshareStatus': 'IsCodeshared',\n",
       "   'isCargo': False,\n",
       "   'aircraft': {'reg': '9H-MLR', 'modeS': '4D23A1', 'model': 'Airbus A320'},\n",
       "   'airline': {'name': 'Lufthansa', 'iata': 'LH', 'icao': 'DLH'}},\n",
       "  {'departure': {'airport': {'icao': 'EDDS',\n",
       "     'iata': 'STR',\n",
       "     'name': 'Stuttgart',\n",
       "     'timeZone': 'Europe/Berlin'},\n",
       "    'scheduledTime': {'utc': '2024-10-14 06:35Z',\n",
       "     'local': '2024-10-14 08:35+02:00'},\n",
       "    'revisedTime': {'utc': '2024-10-14 06:45Z',\n",
       "     'local': '2024-10-14 08:45+02:00'},\n",
       "    'terminal': '3',\n",
       "    'gate': '322',\n",
       "    'quality': ['Basic', 'Live']},\n",
       "   'arrival': {'scheduledTime': {'utc': '2024-10-14 07:45Z',\n",
       "     'local': '2024-10-14 09:45+02:00'},\n",
       "    'revisedTime': {'utc': '2024-10-14 07:47Z',\n",
       "     'local': '2024-10-14 09:47+02:00'},\n",
       "    'terminal': '1',\n",
       "    'gate': 'A30',\n",
       "    'baggageBelt': 'A1',\n",
       "    'quality': ['Basic', 'Live']},\n",
       "   'number': 'EW 8001',\n",
       "   'callSign': 'EWG8001',\n",
       "   'status': 'Expected',\n",
       "   'codeshareStatus': 'IsOperator',\n",
       "   'isCargo': False,\n",
       "   'aircraft': {'reg': '9H-MLR', 'modeS': '4D23A1', 'model': 'Airbus A320'},\n",
       "   'airline': {'name': 'Eurowings', 'iata': 'EW', 'icao': 'EWG'}},\n",
       "  {'departure': {'airport': {'icao': 'EGLL',\n",
       "     'iata': 'LHR',\n",
       "     'name': 'London',\n",
       "     'timeZone': 'Europe/London'},\n",
       "    'scheduledTime': {'utc': '2024-10-14 06:25Z',\n",
       "     'local': '2024-10-14 07:25+01:00'},\n",
       "    'revisedTime': {'utc': '2024-10-14 06:25Z',\n",
       "     'local': '2024-10-14 07:25+01:00'},\n",
       "    'terminal': '5',\n",
       "    'checkInDesk': 'D',\n",
       "    'quality': ['Basic', 'Live']},\n",
       "   'arrival': {'scheduledTime': {'utc': '2024-10-14 08:15Z',\n",
       "     'local': '2024-10-14 10:15+02:00'},\n",
       "    'revisedTime': {'utc': '2024-10-14 07:47Z',\n",
       "     'local': '2024-10-14 09:47+02:00'},\n",
       "    'terminal': '1',\n",
       "    'gate': 'X06',\n",
       "    'baggageBelt': 'A2',\n",
       "    'quality': ['Basic', 'Live']},\n",
       "   'number': 'BA 990',\n",
       "   'status': 'Expected',\n",
       "   'codeshareStatus': 'IsOperator',\n",
       "   'isCargo': False,\n",
       "   'aircraft': {'reg': 'G-EUPU', 'modeS': '4008B5', 'model': 'Airbus A319'},\n",
       "   'airline': {'name': 'British', 'iata': 'BA', 'icao': 'BAW'}},\n",
       "  {'departure': {'airport': {'icao': 'LEBL',\n",
       "     'iata': 'BCN',\n",
       "     'name': 'Barcelona',\n",
       "     'timeZone': 'Europe/Madrid'},\n",
       "    'scheduledTime': {'utc': '2024-10-14 05:15Z',\n",
       "     'local': '2024-10-14 07:15+02:00'},\n",
       "    'revisedTime': {'utc': '2024-10-14 05:32Z',\n",
       "     'local': '2024-10-14 07:32+02:00'},\n",
       "    'runwayTime': {'utc': '2024-10-14 05:49Z',\n",
       "     'local': '2024-10-14 07:49+02:00'},\n",
       "    'terminal': '1',\n",
       "    'checkInDesk': '501-514',\n",
       "    'gate': 'B59',\n",
       "    'quality': ['Basic', 'Live']},\n",
       "   'arrival': {'scheduledTime': {'utc': '2024-10-14 08:00Z',\n",
       "     'local': '2024-10-14 10:00+02:00'},\n",
       "    'revisedTime': {'utc': '2024-10-14 07:48Z',\n",
       "     'local': '2024-10-14 09:48+02:00'},\n",
       "    'terminal': '2',\n",
       "    'gate': 'Z30',\n",
       "    'baggageBelt': 'C2',\n",
       "    'quality': ['Basic', 'Live']},\n",
       "   'number': 'VY 1882',\n",
       "   'callSign': 'VLG40LK',\n",
       "   'status': 'Expected',\n",
       "   'codeshareStatus': 'IsOperator',\n",
       "   'isCargo': False,\n",
       "   'aircraft': {'reg': 'EC-KDT', 'modeS': '342582', 'model': 'Airbus A320'},\n",
       "   'airline': {'name': 'Vueling', 'iata': 'VY', 'icao': 'VLG'}},\n",
       "  {'departure': {'airport': {'icao': 'LEPA',\n",
       "     'iata': 'PMI',\n",
       "     'name': 'Palma De Mallorca',\n",
       "     'timeZone': 'Europe/Madrid'},\n",
       "    'scheduledTime': {'utc': '2024-10-14 05:15Z',\n",
       "     'local': '2024-10-14 07:15+02:00'},\n",
       "    'revisedTime': {'utc': '2024-10-14 05:24Z',\n",
       "     'local': '2024-10-14 07:24+02:00'},\n",
       "    'runwayTime': {'utc': '2024-10-14 05:39Z',\n",
       "     'local': '2024-10-14 07:39+02:00'},\n",
       "    'terminal': 'N',\n",
       "    'checkInDesk': '082-085',\n",
       "    'gate': 'C58',\n",
       "    'quality': ['Basic', 'Live']},\n",
       "   'arrival': {'scheduledTime': {'utc': '2024-10-14 08:00Z',\n",
       "     'local': '2024-10-14 10:00+02:00'},\n",
       "    'revisedTime': {'utc': '2024-10-14 07:50Z',\n",
       "     'local': '2024-10-14 09:50+02:00'},\n",
       "    'terminal': '1',\n",
       "    'gate': 'A33',\n",
       "    'baggageBelt': 'A3',\n",
       "    'quality': ['Basic', 'Live']},\n",
       "   'number': 'EC 7333',\n",
       "   'callSign': 'EJU53MB',\n",
       "   'status': 'Expected',\n",
       "   'codeshareStatus': 'IsCodeshared',\n",
       "   'isCargo': False,\n",
       "   'aircraft': {'reg': 'OE-LQS', 'modeS': '440735', 'model': 'Airbus A319'},\n",
       "   'airline': {'name': 'EasyJet Europe', 'iata': 'EC', 'icao': 'EJU'}},\n",
       "  {'departure': {'airport': {'icao': 'LEPA',\n",
       "     'iata': 'PMI',\n",
       "     'name': 'Palma De Mallorca',\n",
       "     'timeZone': 'Europe/Madrid'},\n",
       "    'scheduledTime': {'utc': '2024-10-14 05:15Z',\n",
       "     'local': '2024-10-14 07:15+02:00'},\n",
       "    'revisedTime': {'utc': '2024-10-14 05:24Z',\n",
       "     'local': '2024-10-14 07:24+02:00'},\n",
       "    'runwayTime': {'utc': '2024-10-14 05:39Z',\n",
       "     'local': '2024-10-14 07:39+02:00'},\n",
       "    'terminal': 'N',\n",
       "    'checkInDesk': '082-085',\n",
       "    'gate': 'C58',\n",
       "    'quality': ['Basic', 'Live']},\n",
       "   'arrival': {'scheduledTime': {'utc': '2024-10-14 08:00Z',\n",
       "     'local': '2024-10-14 10:00+02:00'},\n",
       "    'revisedTime': {'utc': '2024-10-14 07:50Z',\n",
       "     'local': '2024-10-14 09:50+02:00'},\n",
       "    'terminal': '1',\n",
       "    'gate': 'A33',\n",
       "    'baggageBelt': 'A3',\n",
       "    'quality': ['Basic', 'Live']},\n",
       "   'number': 'U2 7333',\n",
       "   'callSign': 'EJU53MB',\n",
       "   'status': 'Expected',\n",
       "   'codeshareStatus': 'IsOperator',\n",
       "   'isCargo': False,\n",
       "   'aircraft': {'reg': 'OE-LQS', 'modeS': '440735', 'model': 'Airbus A319'},\n",
       "   'airline': {'name': 'easyJet', 'iata': 'U2', 'icao': 'EZY'}},\n",
       "  {'departure': {'airport': {'icao': 'LPPR',\n",
       "     'iata': 'OPO',\n",
       "     'name': 'Porto',\n",
       "     'timeZone': 'Europe/Lisbon'},\n",
       "    'scheduledTime': {'utc': '2024-10-14 05:00Z',\n",
       "     'local': '2024-10-14 06:00+01:00'},\n",
       "    'revisedTime': {'utc': '2024-10-14 05:20Z',\n",
       "     'local': '2024-10-14 06:20+01:00'},\n",
       "    'runwayTime': {'utc': '2024-10-14 05:21Z',\n",
       "     'local': '2024-10-14 06:21+01:00'},\n",
       "    'terminal': '1',\n",
       "    'runway': '17',\n",
       "    'quality': ['Basic', 'Live']},\n",
       "   'arrival': {'scheduledTime': {'utc': '2024-10-14 08:05Z',\n",
       "     'local': '2024-10-14 10:05+02:00'},\n",
       "    'revisedTime': {'utc': '2024-10-14 07:59Z',\n",
       "     'local': '2024-10-14 09:59+02:00'},\n",
       "    'terminal': '2',\n",
       "    'gate': 'Z36',\n",
       "    'baggageBelt': 'C1',\n",
       "    'quality': ['Basic', 'Live']},\n",
       "   'number': 'FR 2945',\n",
       "   'callSign': 'RYR52LP',\n",
       "   'status': 'Expected',\n",
       "   'codeshareStatus': 'IsOperator',\n",
       "   'isCargo': False,\n",
       "   'aircraft': {'reg': 'EI-DLI', 'modeS': '4CA2D5', 'model': 'Boeing 737-800'},\n",
       "   'airline': {'name': 'Ryanair', 'iata': 'FR', 'icao': 'RYR'}},\n",
       "  {'departure': {'airport': {'icao': 'LSZH',\n",
       "     'iata': 'ZRH',\n",
       "     'name': 'Zurich',\n",
       "     'timeZone': 'Europe/Zurich'},\n",
       "    'scheduledTime': {'utc': '2024-10-14 06:40Z',\n",
       "     'local': '2024-10-14 08:40+02:00'},\n",
       "    'revisedTime': {'utc': '2024-10-14 06:45Z',\n",
       "     'local': '2024-10-14 08:45+02:00'},\n",
       "    'checkInDesk': '1',\n",
       "    'gate': 'A65',\n",
       "    'quality': ['Basic', 'Live']},\n",
       "   'arrival': {'scheduledTime': {'utc': '2024-10-14 08:05Z',\n",
       "     'local': '2024-10-14 10:05+02:00'},\n",
       "    'revisedTime': {'utc': '2024-10-14 08:05Z',\n",
       "     'local': '2024-10-14 10:05+02:00'},\n",
       "    'terminal': '1',\n",
       "    'gate': 'A17',\n",
       "    'baggageBelt': 'A1',\n",
       "    'quality': ['Basic', 'Live']},\n",
       "   'number': 'LX 976',\n",
       "   'status': 'Expected',\n",
       "   'codeshareStatus': 'IsOperator',\n",
       "   'isCargo': False,\n",
       "   'aircraft': {'reg': 'HB-IJR', 'modeS': '4B161B', 'model': 'Airbus A320'},\n",
       "   'airline': {'name': 'SWISS', 'iata': 'LX', 'icao': 'SWR'}},\n",
       "  {'departure': {'airport': {'icao': 'EHAM',\n",
       "     'iata': 'AMS',\n",
       "     'name': 'Amsterdam',\n",
       "     'timeZone': 'Europe/Amsterdam'},\n",
       "    'scheduledTime': {'utc': '2024-10-14 06:45Z',\n",
       "     'local': '2024-10-14 08:45+02:00'},\n",
       "    'revisedTime': {'utc': '2024-10-14 06:45Z',\n",
       "     'local': '2024-10-14 08:45+02:00'},\n",
       "    'terminal': '1',\n",
       "    'checkInDesk': '6-8',\n",
       "    'gate': 'B6',\n",
       "    'quality': ['Basic', 'Live']},\n",
       "   'arrival': {'scheduledTime': {'utc': '2024-10-14 08:05Z',\n",
       "     'local': '2024-10-14 10:05+02:00'},\n",
       "    'revisedTime': {'utc': '2024-10-14 08:05Z',\n",
       "     'local': '2024-10-14 10:05+02:00'},\n",
       "    'terminal': '1',\n",
       "    'gate': 'A07',\n",
       "    'baggageBelt': 'A4',\n",
       "    'quality': ['Basic', 'Live']},\n",
       "   'number': 'KL 1773',\n",
       "   'status': 'Expected',\n",
       "   'codeshareStatus': 'IsOperator',\n",
       "   'isCargo': False,\n",
       "   'aircraft': {'reg': 'D-AJHW', 'modeS': '3C6917', 'model': 'Embraer 190'},\n",
       "   'airline': {'name': 'KLM', 'iata': 'KL', 'icao': 'KLM'}},\n",
       "  {'departure': {'airport': {'icao': 'EDDM',\n",
       "     'iata': 'MUC',\n",
       "     'name': 'Munich',\n",
       "     'timeZone': 'Europe/Berlin'},\n",
       "    'scheduledTime': {'utc': '2024-10-14 07:00Z',\n",
       "     'local': '2024-10-14 09:00+02:00'},\n",
       "    'revisedTime': {'utc': '2024-10-14 07:00Z',\n",
       "     'local': '2024-10-14 09:00+02:00'},\n",
       "    'terminal': '2',\n",
       "    'quality': ['Basic', 'Live']},\n",
       "   'arrival': {'scheduledTime': {'utc': '2024-10-14 08:05Z',\n",
       "     'local': '2024-10-14 10:05+02:00'},\n",
       "    'revisedTime': {'utc': '2024-10-14 08:05Z',\n",
       "     'local': '2024-10-14 10:05+02:00'},\n",
       "    'terminal': '1',\n",
       "    'gate': 'B20',\n",
       "    'baggageBelt': 'B1',\n",
       "    'quality': ['Basic', 'Live']},\n",
       "   'number': 'LH 1934',\n",
       "   'status': 'Expected',\n",
       "   'codeshareStatus': 'IsOperator',\n",
       "   'isCargo': False,\n",
       "   'aircraft': {'reg': 'D-AISN', 'modeS': '3C666E', 'model': 'Airbus A321'},\n",
       "   'airline': {'name': 'Lufthansa', 'iata': 'LH', 'icao': 'DLH'}},\n",
       "  {'departure': {'airport': {'icao': 'LDZD',\n",
       "     'iata': 'ZAD',\n",
       "     'name': 'Zadar',\n",
       "     'timeZone': 'Europe/Zagreb'},\n",
       "    'scheduledTime': {'utc': '2024-10-14 06:50Z',\n",
       "     'local': '2024-10-14 08:50+02:00'},\n",
       "    'quality': ['Basic']},\n",
       "   'arrival': {'scheduledTime': {'utc': '2024-10-14 08:30Z',\n",
       "     'local': '2024-10-14 10:30+02:00'},\n",
       "    'revisedTime': {'utc': '2024-10-14 08:10Z',\n",
       "     'local': '2024-10-14 10:10+02:00'},\n",
       "    'terminal': '2',\n",
       "    'gate': 'Z32',\n",
       "    'baggageBelt': 'C3',\n",
       "    'quality': ['Basic', 'Live']},\n",
       "   'number': 'FR 2919',\n",
       "   'status': 'Expected',\n",
       "   'codeshareStatus': 'IsOperator',\n",
       "   'isCargo': False,\n",
       "   'aircraft': {'reg': '9H-VUU', 'modeS': '4D236B', 'model': 'Boeing 737-800'},\n",
       "   'airline': {'name': 'Ryanair', 'iata': 'FR', 'icao': 'RYR'}},\n",
       "  {'departure': {'airport': {'icao': 'LEMD',\n",
       "     'iata': 'MAD',\n",
       "     'name': 'Madrid',\n",
       "     'timeZone': 'Europe/Madrid'},\n",
       "    'scheduledTime': {'utc': '2024-10-14 05:30Z',\n",
       "     'local': '2024-10-14 07:30+02:00'},\n",
       "    'revisedTime': {'utc': '2024-10-14 05:44Z',\n",
       "     'local': '2024-10-14 07:44+02:00'},\n",
       "    'runwayTime': {'utc': '2024-10-14 06:00Z',\n",
       "     'local': '2024-10-14 08:00+02:00'},\n",
       "    'terminal': '4',\n",
       "    'checkInDesk': '850-859',\n",
       "    'gate': 'J42',\n",
       "    'runway': '36R',\n",
       "    'quality': ['Basic', 'Live']},\n",
       "   'arrival': {'scheduledTime': {'utc': '2024-10-14 08:35Z',\n",
       "     'local': '2024-10-14 10:35+02:00'},\n",
       "    'revisedTime': {'utc': '2024-10-14 08:16Z',\n",
       "     'local': '2024-10-14 10:16+02:00'},\n",
       "    'terminal': '1',\n",
       "    'gate': 'A31',\n",
       "    'baggageBelt': 'A3',\n",
       "    'quality': ['Basic', 'Live']},\n",
       "   'number': 'I2 3676',\n",
       "   'callSign': 'IBS36YR',\n",
       "   'status': 'Expected',\n",
       "   'codeshareStatus': 'IsOperator',\n",
       "   'isCargo': False,\n",
       "   'aircraft': {'reg': 'EC-NIA',\n",
       "    'modeS': '34644C',\n",
       "    'model': 'Airbus A321 NEO'},\n",
       "   'airline': {'name': 'Iberia Express', 'iata': 'I2', 'icao': 'IBS'}},\n",
       "  {'departure': {'airport': {'icao': 'LEMD',\n",
       "     'iata': 'MAD',\n",
       "     'name': 'Madrid',\n",
       "     'timeZone': 'Europe/Madrid'},\n",
       "    'scheduledTime': {'utc': '2024-10-14 05:30Z',\n",
       "     'local': '2024-10-14 07:30+02:00'},\n",
       "    'revisedTime': {'utc': '2024-10-14 05:44Z',\n",
       "     'local': '2024-10-14 07:44+02:00'},\n",
       "    'terminal': '4',\n",
       "    'checkInDesk': '850-859',\n",
       "    'gate': 'J42',\n",
       "    'quality': ['Basic', 'Live']},\n",
       "   'arrival': {'scheduledTime': {'utc': '2024-10-14 08:35Z',\n",
       "     'local': '2024-10-14 10:35+02:00'},\n",
       "    'revisedTime': {'utc': '2024-10-14 08:16Z',\n",
       "     'local': '2024-10-14 10:16+02:00'},\n",
       "    'terminal': '1',\n",
       "    'gate': 'A31',\n",
       "    'baggageBelt': 'A3',\n",
       "    'quality': ['Basic', 'Live']},\n",
       "   'number': 'IB 3676',\n",
       "   'status': 'Expected',\n",
       "   'codeshareStatus': 'IsCodeshared',\n",
       "   'isCargo': False,\n",
       "   'aircraft': {'reg': 'EC-NIA',\n",
       "    'modeS': '34644C',\n",
       "    'model': 'Airbus A321 NEO'},\n",
       "   'airline': {'name': 'Iberia', 'iata': 'IB', 'icao': 'IBE'}},\n",
       "  {'departure': {'airport': {'icao': 'LFML',\n",
       "     'iata': 'MRS',\n",
       "     'name': 'Marseille',\n",
       "     'timeZone': 'Europe/Paris'},\n",
       "    'scheduledTime': {'utc': '2024-10-14 06:35Z',\n",
       "     'local': '2024-10-14 08:35+02:00'},\n",
       "    'terminal': '2',\n",
       "    'quality': ['Basic']},\n",
       "   'arrival': {'scheduledTime': {'utc': '2024-10-14 08:40Z',\n",
       "     'local': '2024-10-14 10:40+02:00'},\n",
       "    'revisedTime': {'utc': '2024-10-14 08:24Z',\n",
       "     'local': '2024-10-14 10:24+02:00'},\n",
       "    'terminal': '2',\n",
       "    'gate': 'Z33',\n",
       "    'baggageBelt': 'C1',\n",
       "    'quality': ['Basic', 'Live']},\n",
       "   'number': 'FR 3389',\n",
       "   'status': 'Expected',\n",
       "   'codeshareStatus': 'IsOperator',\n",
       "   'isCargo': False,\n",
       "   'aircraft': {'reg': '9H-QCG', 'modeS': '4D223A', 'model': 'Boeing 737-800'},\n",
       "   'airline': {'name': 'Ryanair', 'iata': 'FR', 'icao': 'RYR'}},\n",
       "  {'departure': {'airport': {'icao': 'LGAV',\n",
       "     'iata': 'ATH',\n",
       "     'name': 'Athens',\n",
       "     'timeZone': 'Europe/Athens'},\n",
       "    'scheduledTime': {'utc': '2024-10-14 05:05Z',\n",
       "     'local': '2024-10-14 08:05+03:00'},\n",
       "    'revisedTime': {'utc': '2024-10-14 05:05Z',\n",
       "     'local': '2024-10-14 08:05+03:00'},\n",
       "    'runwayTime': {'utc': '2024-10-14 05:24Z',\n",
       "     'local': '2024-10-14 08:24+03:00'},\n",
       "    'terminal': 'I',\n",
       "    'checkInDesk': '21---25',\n",
       "    'gate': 'A',\n",
       "    'runway': '03R',\n",
       "    'quality': ['Basic', 'Live']},\n",
       "   'arrival': {'scheduledTime': {'utc': '2024-10-14 08:25Z',\n",
       "     'local': '2024-10-14 10:25+02:00'},\n",
       "    'revisedTime': {'utc': '2024-10-14 08:25Z',\n",
       "     'local': '2024-10-14 10:25+02:00'},\n",
       "    'terminal': '1',\n",
       "    'gate': 'Y07',\n",
       "    'baggageBelt': 'B3',\n",
       "    'quality': ['Basic', 'Live']},\n",
       "   'number': 'TR 720',\n",
       "   'callSign': 'TGW720',\n",
       "   'status': 'Expected',\n",
       "   'codeshareStatus': 'IsOperator',\n",
       "   'isCargo': False,\n",
       "   'aircraft': {'reg': '9V-OFI', 'modeS': '76BCC9', 'model': 'Boeing 787-8'},\n",
       "   'airline': {'name': 'Scoot', 'iata': 'TR', 'icao': 'TGW'}},\n",
       "  {'departure': {'airport': {'icao': 'LOWW',\n",
       "     'iata': 'VIE',\n",
       "     'name': 'Vienna',\n",
       "     'timeZone': 'Europe/Vienna'},\n",
       "    'scheduledTime': {'utc': '2024-10-14 07:15Z',\n",
       "     'local': '2024-10-14 09:15+02:00'},\n",
       "    'revisedTime': {'utc': '2024-10-14 07:15Z',\n",
       "     'local': '2024-10-14 09:15+02:00'},\n",
       "    'terminal': '3',\n",
       "    'checkInDesk': '351-372',\n",
       "    'gate': 'F25',\n",
       "    'quality': ['Basic', 'Live']},\n",
       "   'arrival': {'scheduledTime': {'utc': '2024-10-14 08:25Z',\n",
       "     'local': '2024-10-14 10:25+02:00'},\n",
       "    'revisedTime': {'utc': '2024-10-14 08:25Z',\n",
       "     'local': '2024-10-14 10:25+02:00'},\n",
       "    'terminal': '1',\n",
       "    'gate': 'A10',\n",
       "    'baggageBelt': 'A1',\n",
       "    'quality': ['Basic', 'Live']},\n",
       "   'number': 'OS 225',\n",
       "   'status': 'Expected',\n",
       "   'codeshareStatus': 'IsOperator',\n",
       "   'isCargo': False,\n",
       "   'aircraft': {'model': 'Embraer 195'},\n",
       "   'airline': {'name': 'Austrian', 'iata': 'OS', 'icao': 'AUA'}},\n",
       "  {'departure': {'airport': {'icao': 'EPWA',\n",
       "     'iata': 'WAW',\n",
       "     'name': 'Warsaw',\n",
       "     'timeZone': 'Europe/Warsaw'},\n",
       "    'scheduledTime': {'utc': '2024-10-14 07:15Z',\n",
       "     'local': '2024-10-14 09:15+02:00'},\n",
       "    'quality': ['Basic']},\n",
       "   'arrival': {'scheduledTime': {'utc': '2024-10-14 08:30Z',\n",
       "     'local': '2024-10-14 10:30+02:00'},\n",
       "    'revisedTime': {'utc': '2024-10-14 08:30Z',\n",
       "     'local': '2024-10-14 10:30+02:00'},\n",
       "    'terminal': '1',\n",
       "    'gate': 'A32',\n",
       "    'baggageBelt': 'A1',\n",
       "    'quality': ['Basic', 'Live']},\n",
       "   'number': 'LO 387',\n",
       "   'status': 'Expected',\n",
       "   'codeshareStatus': 'IsOperator',\n",
       "   'isCargo': False,\n",
       "   'aircraft': {'model': 'Embraer 175'},\n",
       "   'airline': {'name': 'LOT - Polish', 'iata': 'LO', 'icao': 'LOT'}},\n",
       "  {'departure': {'airport': {'icao': 'LGAV',\n",
       "     'iata': 'ATH',\n",
       "     'name': 'Athens',\n",
       "     'timeZone': 'Europe/Athens'},\n",
       "    'scheduledTime': {'utc': '2024-10-14 05:45Z',\n",
       "     'local': '2024-10-14 08:45+03:00'},\n",
       "    'revisedTime': {'utc': '2024-10-14 06:01Z',\n",
       "     'local': '2024-10-14 09:01+03:00'},\n",
       "    'runwayTime': {'utc': '2024-10-14 06:01Z',\n",
       "     'local': '2024-10-14 09:01+03:00'},\n",
       "    'terminal': 'D',\n",
       "    'checkInDesk': '148--153',\n",
       "    'gate': 'B20',\n",
       "    'runway': '03R',\n",
       "    'quality': ['Basic', 'Live']},\n",
       "   'arrival': {'scheduledTime': {'utc': '2024-10-14 08:40Z',\n",
       "     'local': '2024-10-14 10:40+02:00'},\n",
       "    'revisedTime': {'utc': '2024-10-14 08:32Z',\n",
       "     'local': '2024-10-14 10:32+02:00'},\n",
       "    'terminal': '1',\n",
       "    'gate': 'A36',\n",
       "    'baggageBelt': 'A2',\n",
       "    'quality': ['Basic', 'Live']},\n",
       "   'number': 'A3 820',\n",
       "   'callSign': 'AEE8RB',\n",
       "   'status': 'Expected',\n",
       "   'codeshareStatus': 'IsOperator',\n",
       "   'isCargo': False,\n",
       "   'aircraft': {'reg': 'SX-NAO',\n",
       "    'modeS': '46B82F',\n",
       "    'model': 'Airbus A321 NEO'},\n",
       "   'airline': {'name': 'Aegean', 'iata': 'A3', 'icao': 'AEE'}},\n",
       "  {'departure': {'airport': {'icao': 'GMMX',\n",
       "     'iata': 'RAK',\n",
       "     'name': 'Marrakech',\n",
       "     'timeZone': 'Africa/Casablanca'},\n",
       "    'scheduledTime': {'utc': '2024-10-14 04:45Z',\n",
       "     'local': '2024-10-14 05:45+01:00'},\n",
       "    'terminal': '1',\n",
       "    'quality': ['Basic']},\n",
       "   'arrival': {'scheduledTime': {'utc': '2024-10-14 08:55Z',\n",
       "     'local': '2024-10-14 10:55+02:00'},\n",
       "    'revisedTime': {'utc': '2024-10-14 08:33Z',\n",
       "     'local': '2024-10-14 10:33+02:00'},\n",
       "    'terminal': '2',\n",
       "    'gate': 'Z44',\n",
       "    'baggageBelt': 'C2',\n",
       "    'quality': ['Basic', 'Live']},\n",
       "   'number': 'FR 5475',\n",
       "   'status': 'Expected',\n",
       "   'codeshareStatus': 'IsOperator',\n",
       "   'isCargo': False,\n",
       "   'aircraft': {'reg': 'EI-IKI',\n",
       "    'modeS': '4CAE95',\n",
       "    'model': 'Boeing 737 MAX 8'},\n",
       "   'airline': {'name': 'Ryanair', 'iata': 'FR', 'icao': 'RYR'}},\n",
       "  {'departure': {'airport': {'icao': 'LTAI',\n",
       "     'iata': 'AYT',\n",
       "     'name': 'Antalya',\n",
       "     'timeZone': 'Europe/Istanbul'},\n",
       "    'scheduledTime': {'utc': '2024-10-14 05:20Z',\n",
       "     'local': '2024-10-14 08:20+03:00'},\n",
       "    'revisedTime': {'utc': '2024-10-14 05:20Z',\n",
       "     'local': '2024-10-14 08:20+03:00'},\n",
       "    'terminal': '2',\n",
       "    'checkInDesk': '246-248',\n",
       "    'quality': ['Basic', 'Live']},\n",
       "   'arrival': {'scheduledTime': {'utc': '2024-10-14 08:40Z',\n",
       "     'local': '2024-10-14 10:40+02:00'},\n",
       "    'revisedTime': {'utc': '2024-10-14 08:45Z',\n",
       "     'local': '2024-10-14 10:45+02:00'},\n",
       "    'terminal': '1',\n",
       "    'gate': 'N01',\n",
       "    'baggageBelt': 'B4',\n",
       "    'quality': ['Basic', 'Live']},\n",
       "   'number': 'FH 1281',\n",
       "   'callSign': 'FHY1281',\n",
       "   'status': 'Expected',\n",
       "   'codeshareStatus': 'IsOperator',\n",
       "   'isCargo': False,\n",
       "   'aircraft': {'reg': 'TC-FHL',\n",
       "    'modeS': '4B990C',\n",
       "    'model': 'Airbus A320-200'},\n",
       "   'airline': {'name': 'Freebird', 'iata': 'FH', 'icao': 'FHY'}},\n",
       "  {'departure': {'airport': {'icao': 'EBBR',\n",
       "     'iata': 'BRU',\n",
       "     'name': 'Brussels',\n",
       "     'timeZone': 'Europe/Brussels'},\n",
       "    'scheduledTime': {'utc': '2024-10-14 07:25Z',\n",
       "     'local': '2024-10-14 09:25+02:00'},\n",
       "    'revisedTime': {'utc': '2024-10-14 07:25Z',\n",
       "     'local': '2024-10-14 09:25+02:00'},\n",
       "    'checkInDesk': '05',\n",
       "    'quality': ['Basic', 'Live']},\n",
       "   'arrival': {'scheduledTime': {'utc': '2024-10-14 08:50Z',\n",
       "     'local': '2024-10-14 10:50+02:00'},\n",
       "    'revisedTime': {'utc': '2024-10-14 08:50Z',\n",
       "     'local': '2024-10-14 10:50+02:00'},\n",
       "    'terminal': '1',\n",
       "    'gate': 'B17',\n",
       "    'baggageBelt': 'B1',\n",
       "    'quality': ['Basic', 'Live']},\n",
       "   'number': 'SN 2581',\n",
       "   'status': 'Expected',\n",
       "   'codeshareStatus': 'IsOperator',\n",
       "   'isCargo': False,\n",
       "   'aircraft': {'reg': 'OO-TCV', 'modeS': '44D076', 'model': 'Airbus A320'},\n",
       "   'airline': {'name': 'Brussels', 'iata': 'SN', 'icao': 'BEL'}},\n",
       "  {'departure': {'airport': {'icao': 'EDDF',\n",
       "     'iata': 'FRA',\n",
       "     'name': 'Frankfurt-am-Main',\n",
       "     'timeZone': 'Europe/Berlin'},\n",
       "    'scheduledTime': {'utc': '2024-10-14 07:45Z',\n",
       "     'local': '2024-10-14 09:45+02:00'},\n",
       "    'revisedTime': {'utc': '2024-10-14 07:45Z',\n",
       "     'local': '2024-10-14 09:45+02:00'},\n",
       "    'terminal': '1',\n",
       "    'checkInDesk': '259-335',\n",
       "    'gate': 'A36',\n",
       "    'quality': ['Basic', 'Live']},\n",
       "   'arrival': {'scheduledTime': {'utc': '2024-10-14 08:55Z',\n",
       "     'local': '2024-10-14 10:55+02:00'},\n",
       "    'revisedTime': {'utc': '2024-10-14 08:55Z',\n",
       "     'local': '2024-10-14 10:55+02:00'},\n",
       "    'terminal': '1',\n",
       "    'gate': 'B10',\n",
       "    'baggageBelt': 'B1',\n",
       "    'quality': ['Basic', 'Live']},\n",
       "   'number': 'LH 178',\n",
       "   'status': 'Expected',\n",
       "   'codeshareStatus': 'IsOperator',\n",
       "   'isCargo': False,\n",
       "   'aircraft': {'reg': 'D-AIEQ',\n",
       "    'modeS': '3C64B1',\n",
       "    'model': 'Airbus A321 NEO'},\n",
       "   'airline': {'name': 'Lufthansa', 'iata': 'LH', 'icao': 'DLH'}},\n",
       "  {'departure': {'airport': {'icao': 'ORER',\n",
       "     'iata': 'EBL',\n",
       "     'name': 'Arbil',\n",
       "     'timeZone': 'Asia/Baghdad'},\n",
       "    'scheduledTime': {'utc': '2024-10-14 03:45Z',\n",
       "     'local': '2024-10-14 06:45+03:00'},\n",
       "    'quality': ['Basic']},\n",
       "   'arrival': {'scheduledTime': {'utc': '2024-10-14 08:30Z',\n",
       "     'local': '2024-10-14 10:30+02:00'},\n",
       "    'revisedTime': {'utc': '2024-10-14 08:55Z',\n",
       "     'local': '2024-10-14 10:55+02:00'},\n",
       "    'terminal': '1',\n",
       "    'gate': 'X03',\n",
       "    'baggageBelt': 'A4',\n",
       "    'quality': ['Basic', 'Live']},\n",
       "   'number': 'UD 445',\n",
       "   'callSign': 'UBD445',\n",
       "   'status': 'Delayed',\n",
       "   'codeshareStatus': 'IsOperator',\n",
       "   'isCargo': False,\n",
       "   'aircraft': {'reg': 'LZ-BHM', 'modeS': '452087', 'model': 'Airbus A320'},\n",
       "   'airline': {'name': 'UR', 'iata': 'UD', 'icao': 'UBD'}},\n",
       "  {'departure': {'airport': {'icao': 'LFPG',\n",
       "     'iata': 'CDG',\n",
       "     'name': 'Paris',\n",
       "     'timeZone': 'Europe/Paris'},\n",
       "    'scheduledTime': {'utc': '2024-10-14 07:10Z',\n",
       "     'local': '2024-10-14 09:10+02:00'},\n",
       "    'terminal': '2D',\n",
       "    'quality': ['Basic']},\n",
       "   'arrival': {'scheduledTime': {'utc': '2024-10-14 09:00Z',\n",
       "     'local': '2024-10-14 11:00+02:00'},\n",
       "    'revisedTime': {'utc': '2024-10-14 09:00Z',\n",
       "     'local': '2024-10-14 11:00+02:00'},\n",
       "    'terminal': '1',\n",
       "    'gate': 'S01',\n",
       "    'baggageBelt': 'B1',\n",
       "    'quality': ['Basic', 'Live']},\n",
       "   'number': 'EC 5148',\n",
       "   'status': 'Expected',\n",
       "   'codeshareStatus': 'IsCodeshared',\n",
       "   'isCargo': False,\n",
       "   'aircraft': {'reg': 'OE-IDT', 'modeS': '4400DC', 'model': 'Airbus A320'},\n",
       "   'airline': {'name': 'EasyJet Europe', 'iata': 'EC', 'icao': 'EJU'}},\n",
       "  {'departure': {'airport': {'icao': 'LFPG',\n",
       "     'iata': 'CDG',\n",
       "     'name': 'Paris',\n",
       "     'timeZone': 'Europe/Paris'},\n",
       "    'scheduledTime': {'utc': '2024-10-14 07:10Z',\n",
       "     'local': '2024-10-14 09:10+02:00'},\n",
       "    'terminal': '2D',\n",
       "    'quality': ['Basic']},\n",
       "   'arrival': {'scheduledTime': {'utc': '2024-10-14 09:00Z',\n",
       "     'local': '2024-10-14 11:00+02:00'},\n",
       "    'revisedTime': {'utc': '2024-10-14 09:00Z',\n",
       "     'local': '2024-10-14 11:00+02:00'},\n",
       "    'terminal': '1',\n",
       "    'gate': 'S01',\n",
       "    'baggageBelt': 'B1',\n",
       "    'quality': ['Basic', 'Live']},\n",
       "   'number': 'U2 5148',\n",
       "   'status': 'Expected',\n",
       "   'codeshareStatus': 'IsOperator',\n",
       "   'isCargo': False,\n",
       "   'aircraft': {'reg': 'OE-IDT', 'modeS': '4400DC', 'model': 'Airbus A320'},\n",
       "   'airline': {'name': 'easyJet', 'iata': 'U2', 'icao': 'EZY'}},\n",
       "  {'departure': {'airport': {'icao': 'LTAI',\n",
       "     'iata': 'AYT',\n",
       "     'name': 'Antalya',\n",
       "     'timeZone': 'Europe/Istanbul'},\n",
       "    'scheduledTime': {'utc': '2024-10-14 05:30Z',\n",
       "     'local': '2024-10-14 08:30+03:00'},\n",
       "    'revisedTime': {'utc': '2024-10-14 05:30Z',\n",
       "     'local': '2024-10-14 08:30+03:00'},\n",
       "    'terminal': '2',\n",
       "    'checkInDesk': '233-235',\n",
       "    'quality': ['Basic', 'Live']},\n",
       "   'arrival': {'scheduledTime': {'utc': '2024-10-14 09:05Z',\n",
       "     'local': '2024-10-14 11:05+02:00'},\n",
       "    'revisedTime': {'utc': '2024-10-14 09:05Z',\n",
       "     'local': '2024-10-14 11:05+02:00'},\n",
       "    'terminal': '1',\n",
       "    'gate': 'N01',\n",
       "    'baggageBelt': 'B1',\n",
       "    'quality': ['Basic', 'Live']},\n",
       "   'number': 'TI 7151',\n",
       "   'callSign': 'TWI7151',\n",
       "   'status': 'Expected',\n",
       "   'codeshareStatus': 'IsOperator',\n",
       "   'isCargo': False,\n",
       "   'aircraft': {'reg': 'TC-TLE', 'modeS': '4BD185', 'model': 'Boeing 737'},\n",
       "   'airline': {'name': 'Tailwind', 'iata': 'TI', 'icao': 'TWI'}},\n",
       "  {'departure': {'airport': {'icao': 'LIRF',\n",
       "     'iata': 'FCO',\n",
       "     'name': 'Rome',\n",
       "     'timeZone': 'Europe/Rome'},\n",
       "    'scheduledTime': {'utc': '2024-10-14 06:55Z',\n",
       "     'local': '2024-10-14 08:55+02:00'},\n",
       "    'terminal': '1',\n",
       "    'quality': ['Basic']},\n",
       "   'arrival': {'scheduledTime': {'utc': '2024-10-14 09:05Z',\n",
       "     'local': '2024-10-14 11:05+02:00'},\n",
       "    'revisedTime': {'utc': '2024-10-14 09:05Z',\n",
       "     'local': '2024-10-14 11:05+02:00'},\n",
       "    'terminal': '2',\n",
       "    'gate': 'Z29',\n",
       "    'baggageBelt': 'C1',\n",
       "    'quality': ['Basic', 'Live']},\n",
       "   'number': 'FR 41',\n",
       "   'status': 'Expected',\n",
       "   'codeshareStatus': 'IsOperator',\n",
       "   'isCargo': False,\n",
       "   'aircraft': {'reg': '9H-VVO', 'model': 'Boeing 737 MAX 8 '},\n",
       "   'airline': {'name': 'Ryanair', 'iata': 'FR', 'icao': 'RYR'}},\n",
       "  {'departure': {'airport': {'icao': 'EIDW',\n",
       "     'iata': 'DUB',\n",
       "     'name': 'Dublin',\n",
       "     'timeZone': 'Europe/Dublin'},\n",
       "    'scheduledTime': {'utc': '2024-10-14 06:50Z',\n",
       "     'local': '2024-10-14 07:50+01:00'},\n",
       "    'revisedTime': {'utc': '2024-10-14 06:50Z',\n",
       "     'local': '2024-10-14 07:50+01:00'},\n",
       "    'terminal': '1',\n",
       "    'checkInDesk': '1204-1319',\n",
       "    'gate': '107',\n",
       "    'quality': ['Basic', 'Live']},\n",
       "   'arrival': {'scheduledTime': {'utc': '2024-10-14 09:05Z',\n",
       "     'local': '2024-10-14 11:05+02:00'},\n",
       "    'revisedTime': {'utc': '2024-10-14 09:05Z',\n",
       "     'local': '2024-10-14 11:05+02:00'},\n",
       "    'terminal': '2',\n",
       "    'gate': 'Z38',\n",
       "    'baggageBelt': 'C2',\n",
       "    'quality': ['Basic', 'Live']},\n",
       "   'number': 'FR 3669',\n",
       "   'status': 'Expected',\n",
       "   'codeshareStatus': 'IsOperator',\n",
       "   'isCargo': False,\n",
       "   'aircraft': {'reg': '9H-VUJ', 'modeS': '4D2349', 'model': 'Boeing 737-800'},\n",
       "   'airline': {'name': 'Ryanair', 'iata': 'FR', 'icao': 'RYR'}},\n",
       "  {'departure': {'airport': {'icao': 'LSGG',\n",
       "     'iata': 'GVA',\n",
       "     'name': 'Geneva',\n",
       "     'timeZone': 'Europe/Zurich'},\n",
       "    'scheduledTime': {'utc': '2024-10-14 07:25Z',\n",
       "     'local': '2024-10-14 09:25+02:00'},\n",
       "    'revisedTime': {'utc': '2024-10-14 07:25Z',\n",
       "     'local': '2024-10-14 09:25+02:00'},\n",
       "    'checkInDesk': '1-17',\n",
       "    'gate': 'D23',\n",
       "    'quality': ['Basic', 'Live']},\n",
       "   'arrival': {'scheduledTime': {'utc': '2024-10-14 09:10Z',\n",
       "     'local': '2024-10-14 11:10+02:00'},\n",
       "    'revisedTime': {'utc': '2024-10-14 09:10Z',\n",
       "     'local': '2024-10-14 11:10+02:00'},\n",
       "    'terminal': '1',\n",
       "    'gate': 'A37',\n",
       "    'baggageBelt': 'A3',\n",
       "    'quality': ['Basic', 'Live']},\n",
       "   'number': 'EC 5182',\n",
       "   'status': 'Expected',\n",
       "   'codeshareStatus': 'IsCodeshared',\n",
       "   'isCargo': False,\n",
       "   'aircraft': {'reg': 'OE-IVL', 'modeS': '440090', 'model': 'Airbus A320'},\n",
       "   'airline': {'name': 'EasyJet Europe', 'iata': 'EC', 'icao': 'EJU'}},\n",
       "  {'departure': {'airport': {'icao': 'LSGG',\n",
       "     'iata': 'GVA',\n",
       "     'name': 'Geneva',\n",
       "     'timeZone': 'Europe/Zurich'},\n",
       "    'scheduledTime': {'utc': '2024-10-14 07:25Z',\n",
       "     'local': '2024-10-14 09:25+02:00'},\n",
       "    'revisedTime': {'utc': '2024-10-14 07:25Z',\n",
       "     'local': '2024-10-14 09:25+02:00'},\n",
       "    'terminal': '1',\n",
       "    'checkInDesk': '1-17',\n",
       "    'gate': 'D23',\n",
       "    'quality': ['Basic', 'Live']},\n",
       "   'arrival': {'scheduledTime': {'utc': '2024-10-14 09:10Z',\n",
       "     'local': '2024-10-14 11:10+02:00'},\n",
       "    'revisedTime': {'utc': '2024-10-14 09:10Z',\n",
       "     'local': '2024-10-14 11:10+02:00'},\n",
       "    'terminal': '1',\n",
       "    'gate': 'A37',\n",
       "    'baggageBelt': 'A3',\n",
       "    'quality': ['Basic', 'Live']},\n",
       "   'number': 'U2 5182',\n",
       "   'status': 'Expected',\n",
       "   'codeshareStatus': 'IsOperator',\n",
       "   'isCargo': False,\n",
       "   'aircraft': {'reg': 'OE-IVL', 'modeS': '440090', 'model': 'Airbus A320'},\n",
       "   'airline': {'name': 'easyJet', 'iata': 'U2', 'icao': 'EZY'}},\n",
       "  {'departure': {'airport': {'icao': 'EGLC',\n",
       "     'iata': 'LCY',\n",
       "     'name': 'London',\n",
       "     'timeZone': 'Europe/London'},\n",
       "    'scheduledTime': {'utc': '2024-10-14 07:25Z',\n",
       "     'local': '2024-10-14 08:25+01:00'},\n",
       "    'revisedTime': {'utc': '2024-10-14 07:25Z',\n",
       "     'local': '2024-10-14 08:25+01:00'},\n",
       "    'gate': '8',\n",
       "    'quality': ['Basic', 'Live']},\n",
       "   'arrival': {'scheduledTime': {'utc': '2024-10-14 09:10Z',\n",
       "     'local': '2024-10-14 11:10+02:00'},\n",
       "    'revisedTime': {'utc': '2024-10-14 09:10Z',\n",
       "     'local': '2024-10-14 11:10+02:00'},\n",
       "    'terminal': '1',\n",
       "    'gate': 'N01',\n",
       "    'baggageBelt': 'B3',\n",
       "    'quality': ['Basic', 'Live']},\n",
       "   'number': 'BA 8491',\n",
       "   'callSign': 'CFE76JZ',\n",
       "   'status': 'Expected',\n",
       "   'codeshareStatus': 'IsOperator',\n",
       "   'isCargo': False,\n",
       "   'aircraft': {'reg': 'G-LCYP', 'modeS': '40658A', 'model': 'Embraer 190'},\n",
       "   'airline': {'name': 'British Airways', 'iata': 'BA', 'icao': 'BAW'}},\n",
       "  {'departure': {'airport': {'icao': 'LIRN',\n",
       "     'iata': 'NAP',\n",
       "     'name': 'Nápoli',\n",
       "     'timeZone': 'Europe/Rome'},\n",
       "    'scheduledTime': {'utc': '2024-10-14 06:50Z',\n",
       "     'local': '2024-10-14 08:50+02:00'},\n",
       "    'quality': ['Basic']},\n",
       "   'arrival': {'scheduledTime': {'utc': '2024-10-14 09:10Z',\n",
       "     'local': '2024-10-14 11:10+02:00'},\n",
       "    'revisedTime': {'utc': '2024-10-14 09:10Z',\n",
       "     'local': '2024-10-14 11:10+02:00'},\n",
       "    'terminal': '1',\n",
       "    'gate': 'A35',\n",
       "    'baggageBelt': 'A4',\n",
       "    'quality': ['Basic', 'Live']},\n",
       "   'number': 'EC 5052',\n",
       "   'status': 'Expected',\n",
       "   'codeshareStatus': 'IsCodeshared',\n",
       "   'isCargo': False,\n",
       "   'aircraft': {'reg': 'OE-LKO', 'modeS': '44009E', 'model': 'Airbus A319'},\n",
       "   'airline': {'name': 'EasyJet Europe', 'iata': 'EC', 'icao': 'EJU'}},\n",
       "  {'departure': {'airport': {'icao': 'LIRN',\n",
       "     'iata': 'NAP',\n",
       "     'name': 'Nápoli',\n",
       "     'timeZone': 'Europe/Rome'},\n",
       "    'scheduledTime': {'utc': '2024-10-14 06:50Z',\n",
       "     'local': '2024-10-14 08:50+02:00'},\n",
       "    'quality': ['Basic']},\n",
       "   'arrival': {'scheduledTime': {'utc': '2024-10-14 09:10Z',\n",
       "     'local': '2024-10-14 11:10+02:00'},\n",
       "    'revisedTime': {'utc': '2024-10-14 09:10Z',\n",
       "     'local': '2024-10-14 11:10+02:00'},\n",
       "    'terminal': '1',\n",
       "    'gate': 'A35',\n",
       "    'baggageBelt': 'A4',\n",
       "    'quality': ['Basic', 'Live']},\n",
       "   'number': 'U2 5052',\n",
       "   'status': 'Expected',\n",
       "   'codeshareStatus': 'IsOperator',\n",
       "   'isCargo': False,\n",
       "   'aircraft': {'reg': 'OE-LKO', 'modeS': '44009E', 'model': 'Airbus A319'},\n",
       "   'airline': {'name': 'easyJet', 'iata': 'U2', 'icao': 'EZY'}},\n",
       "  {'departure': {'airport': {'icao': 'LHBP',\n",
       "     'iata': 'BUD',\n",
       "     'name': 'Budapest',\n",
       "     'timeZone': 'Europe/Budapest'},\n",
       "    'scheduledTime': {'utc': '2024-10-14 07:45Z',\n",
       "     'local': '2024-10-14 09:45+02:00'},\n",
       "    'revisedTime': {'utc': '2024-10-14 07:45Z',\n",
       "     'local': '2024-10-14 09:45+02:00'},\n",
       "    'terminal': '2B',\n",
       "    'quality': ['Basic', 'Live']},\n",
       "   'arrival': {'scheduledTime': {'utc': '2024-10-14 09:15Z',\n",
       "     'local': '2024-10-14 11:15+02:00'},\n",
       "    'revisedTime': {'utc': '2024-10-14 09:15Z',\n",
       "     'local': '2024-10-14 11:15+02:00'},\n",
       "    'terminal': '2',\n",
       "    'gate': 'Z30',\n",
       "    'baggageBelt': 'C3',\n",
       "    'quality': ['Basic', 'Live']},\n",
       "   'number': 'W6 2315',\n",
       "   'status': 'Expected',\n",
       "   'codeshareStatus': 'IsOperator',\n",
       "   'isCargo': False,\n",
       "   'aircraft': {'model': 'Airbus A321-100'},\n",
       "   'airline': {'name': 'Wizz Air', 'iata': 'W6', 'icao': 'WZZ'}},\n",
       "  {'departure': {'airport': {'icao': 'LFPG',\n",
       "     'iata': 'CDG',\n",
       "     'name': 'Paris',\n",
       "     'timeZone': 'Europe/Paris'},\n",
       "    'scheduledTime': {'utc': '2024-10-14 07:30Z',\n",
       "     'local': '2024-10-14 09:30+02:00'},\n",
       "    'terminal': '2F',\n",
       "    'quality': ['Basic']},\n",
       "   'arrival': {'scheduledTime': {'utc': '2024-10-14 09:15Z',\n",
       "     'local': '2024-10-14 11:15+02:00'},\n",
       "    'revisedTime': {'utc': '2024-10-14 09:15Z',\n",
       "     'local': '2024-10-14 11:15+02:00'},\n",
       "    'terminal': '1',\n",
       "    'gate': 'B20',\n",
       "    'baggageBelt': 'B2',\n",
       "    'quality': ['Basic', 'Live']},\n",
       "   'number': 'AF 1734',\n",
       "   'status': 'Expected',\n",
       "   'codeshareStatus': 'IsOperator',\n",
       "   'isCargo': False,\n",
       "   'aircraft': {'model': 'Airbus A220-300'},\n",
       "   'airline': {'name': 'Air France', 'iata': 'AF', 'icao': 'AFR'}},\n",
       "  {'departure': {'airport': {'icao': 'LTFJ',\n",
       "     'iata': 'SAW',\n",
       "     'name': 'Istanbul',\n",
       "     'timeZone': 'Europe/Istanbul'},\n",
       "    'quality': []},\n",
       "   'arrival': {'scheduledTime': {'utc': '2024-10-14 09:20Z',\n",
       "     'local': '2024-10-14 11:20+02:00'},\n",
       "    'revisedTime': {'utc': '2024-10-14 09:20Z',\n",
       "     'local': '2024-10-14 11:20+02:00'},\n",
       "    'terminal': '1',\n",
       "    'gate': 'Y03',\n",
       "    'baggageBelt': 'B2',\n",
       "    'quality': ['Basic', 'Live']},\n",
       "   'number': 'VF 57',\n",
       "   'status': 'Expected',\n",
       "   'codeshareStatus': 'IsOperator',\n",
       "   'isCargo': False,\n",
       "   'aircraft': {'model': 'Boeing 737-800'},\n",
       "   'airline': {'name': 'Ajet'}},\n",
       "  {'departure': {'airport': {'icao': 'EHAM',\n",
       "     'iata': 'AMS',\n",
       "     'name': 'Amsterdam',\n",
       "     'timeZone': 'Europe/Amsterdam'},\n",
       "    'scheduledTime': {'utc': '2024-10-14 08:15Z',\n",
       "     'local': '2024-10-14 10:15+02:00'},\n",
       "    'revisedTime': {'utc': '2024-10-14 08:15Z',\n",
       "     'local': '2024-10-14 10:15+02:00'},\n",
       "    'terminal': '1',\n",
       "    'checkInDesk': '6-8',\n",
       "    'gate': 'C11',\n",
       "    'quality': ['Basic', 'Live']},\n",
       "   'arrival': {'scheduledTime': {'utc': '2024-10-14 09:30Z',\n",
       "     'local': '2024-10-14 11:30+02:00'},\n",
       "    'revisedTime': {'utc': '2024-10-14 09:30Z',\n",
       "     'local': '2024-10-14 11:30+02:00'},\n",
       "    'terminal': '1',\n",
       "    'gate': 'A06',\n",
       "    'baggageBelt': 'A3',\n",
       "    'quality': ['Basic', 'Live']},\n",
       "   'number': 'KL 1775',\n",
       "   'status': 'Expected',\n",
       "   'codeshareStatus': 'IsOperator',\n",
       "   'isCargo': False,\n",
       "   'aircraft': {'reg': 'PH-BXM',\n",
       "    'modeS': '484165',\n",
       "    'model': 'Boeing 737-700 (winglets)'},\n",
       "   'airline': {'name': 'KLM', 'iata': 'KL', 'icao': 'KLM'}},\n",
       "  {'departure': {'airport': {'icao': 'BIKF',\n",
       "     'iata': 'KEF',\n",
       "     'name': 'Reykjavik',\n",
       "     'timeZone': 'Atlantic/Reykjavik'},\n",
       "    'scheduledTime': {'utc': '2024-10-14 06:00Z',\n",
       "     'local': '2024-10-14 06:00+00:00'},\n",
       "    'revisedTime': {'utc': '2024-10-14 06:45Z',\n",
       "     'local': '2024-10-14 06:45+00:00'},\n",
       "    'gate': 'A13',\n",
       "    'quality': ['Basic', 'Live']},\n",
       "   'arrival': {'scheduledTime': {'utc': '2024-10-14 09:30Z',\n",
       "     'local': '2024-10-14 11:30+02:00'},\n",
       "    'revisedTime': {'utc': '2024-10-14 09:30Z',\n",
       "     'local': '2024-10-14 11:30+02:00'},\n",
       "    'terminal': '2',\n",
       "    'gate': 'Z36',\n",
       "    'baggageBelt': 'C2',\n",
       "    'quality': ['Basic', 'Live']},\n",
       "   'number': 'OG 700',\n",
       "   'status': 'Expected',\n",
       "   'codeshareStatus': 'IsOperator',\n",
       "   'isCargo': False,\n",
       "   'aircraft': {'model': 'Airbus A320 NEO'},\n",
       "   'airline': {'name': 'Ghodawat Enterprises', 'iata': 'OG', 'icao': 'SDG'}},\n",
       "  {'departure': {'airport': {'icao': 'LSZH',\n",
       "     'iata': 'ZRH',\n",
       "     'name': 'Zurich',\n",
       "     'timeZone': 'Europe/Zurich'},\n",
       "    'scheduledTime': {'utc': '2024-10-14 07:50Z',\n",
       "     'local': '2024-10-14 09:50+02:00'},\n",
       "    'revisedTime': {'utc': '2024-10-14 07:50Z',\n",
       "     'local': '2024-10-14 09:50+02:00'},\n",
       "    'checkInDesk': '2(5)',\n",
       "    'gate': 'A72',\n",
       "    'quality': ['Basic', 'Live']},\n",
       "   'arrival': {'scheduledTime': {'utc': '2024-10-14 09:30Z',\n",
       "     'local': '2024-10-14 11:30+02:00'},\n",
       "    'revisedTime': {'utc': '2024-10-14 09:30Z',\n",
       "     'local': '2024-10-14 11:30+02:00'},\n",
       "    'terminal': '1',\n",
       "    'gate': 'A34',\n",
       "    'baggageBelt': 'A2',\n",
       "    'quality': ['Basic', 'Live']},\n",
       "   'number': 'LX 4406',\n",
       "   'status': 'Expected',\n",
       "   'codeshareStatus': 'IsCodeshared',\n",
       "   'isCargo': False,\n",
       "   'aircraft': {'reg': 'D-AGWO', 'modeS': '3C5EEF', 'model': 'Airbus A319'},\n",
       "   'airline': {'name': 'SWISS', 'iata': 'LX', 'icao': 'SWR'}},\n",
       "  {'departure': {'airport': {'icao': 'LSZH',\n",
       "     'iata': 'ZRH',\n",
       "     'name': 'Zurich',\n",
       "     'timeZone': 'Europe/Zurich'},\n",
       "    'scheduledTime': {'utc': '2024-10-14 07:50Z',\n",
       "     'local': '2024-10-14 09:50+02:00'},\n",
       "    'revisedTime': {'utc': '2024-10-14 07:50Z',\n",
       "     'local': '2024-10-14 09:50+02:00'},\n",
       "    'checkInDesk': '2(5)',\n",
       "    'gate': 'A72',\n",
       "    'quality': ['Basic', 'Live']},\n",
       "   'arrival': {'scheduledTime': {'utc': '2024-10-14 09:30Z',\n",
       "     'local': '2024-10-14 11:30+02:00'},\n",
       "    'revisedTime': {'utc': '2024-10-14 09:30Z',\n",
       "     'local': '2024-10-14 11:30+02:00'},\n",
       "    'terminal': '1',\n",
       "    'gate': 'A34',\n",
       "    'baggageBelt': 'A2',\n",
       "    'quality': ['Basic', 'Live']},\n",
       "   'number': 'EW 8761',\n",
       "   'status': 'Expected',\n",
       "   'codeshareStatus': 'IsOperator',\n",
       "   'isCargo': False,\n",
       "   'aircraft': {'reg': 'D-AGWO', 'modeS': '3C5EEF', 'model': 'Airbus A319'},\n",
       "   'airline': {'name': 'Eurowings', 'iata': 'EW', 'icao': 'EWG'}},\n",
       "  {'departure': {'airport': {'icao': 'ESSA',\n",
       "     'iata': 'ARN',\n",
       "     'name': 'Stockholm',\n",
       "     'timeZone': 'Europe/Stockholm'},\n",
       "    'scheduledTime': {'utc': '2024-10-14 08:00Z',\n",
       "     'local': '2024-10-14 10:00+02:00'},\n",
       "    'revisedTime': {'utc': '2024-10-14 08:00Z',\n",
       "     'local': '2024-10-14 10:00+02:00'},\n",
       "    'terminal': '5',\n",
       "    'checkInDesk': '18-0',\n",
       "    'gate': 'D12',\n",
       "    'quality': ['Basic', 'Live']},\n",
       "   'arrival': {'scheduledTime': {'utc': '2024-10-14 09:35Z',\n",
       "     'local': '2024-10-14 11:35+02:00'},\n",
       "    'revisedTime': {'utc': '2024-10-14 09:35Z',\n",
       "     'local': '2024-10-14 11:35+02:00'},\n",
       "    'terminal': '2',\n",
       "    'gate': 'Z32',\n",
       "    'baggageBelt': 'C1',\n",
       "    'quality': ['Basic', 'Live']},\n",
       "   'number': 'DY 886',\n",
       "   'callSign': 'NOZ886',\n",
       "   'status': 'Expected',\n",
       "   'codeshareStatus': 'IsOperator',\n",
       "   'isCargo': False,\n",
       "   'aircraft': {'reg': 'SE-RYC',\n",
       "    'modeS': '4ACB23',\n",
       "    'model': 'Boeing 737-800 (winglets)'},\n",
       "   'airline': {'name': 'Norwegian Air Shuttle', 'iata': 'DY', 'icao': 'NOZ'}},\n",
       "  {'departure': {'airport': {'icao': 'LTAI',\n",
       "     'iata': 'AYT',\n",
       "     'name': 'Antalya',\n",
       "     'timeZone': 'Europe/Istanbul'},\n",
       "    'scheduledTime': {'utc': '2024-10-14 06:00Z',\n",
       "     'local': '2024-10-14 09:00+03:00'},\n",
       "    'revisedTime': {'utc': '2024-10-14 06:00Z',\n",
       "     'local': '2024-10-14 09:00+03:00'},\n",
       "    'terminal': '1',\n",
       "    'checkInDesk': '132-134',\n",
       "    'quality': ['Basic', 'Live']},\n",
       "   'arrival': {'scheduledTime': {'utc': '2024-10-14 09:35Z',\n",
       "     'local': '2024-10-14 11:35+02:00'},\n",
       "    'revisedTime': {'utc': '2024-10-14 09:35Z',\n",
       "     'local': '2024-10-14 11:35+02:00'},\n",
       "    'terminal': '1',\n",
       "    'gate': 'X17',\n",
       "    'baggageBelt': 'A4',\n",
       "    'quality': ['Basic', 'Live']},\n",
       "   'number': 'XQ 160',\n",
       "   'status': 'Expected',\n",
       "   'codeshareStatus': 'IsOperator',\n",
       "   'isCargo': False,\n",
       "   'aircraft': {'model': 'Boeing 737 MAX 8 '},\n",
       "   'airline': {'name': 'Sun Express', 'iata': 'XQ', 'icao': 'SXS'}},\n",
       "  {'departure': {'airport': {'icao': 'ESSA',\n",
       "     'iata': 'ARN',\n",
       "     'name': 'Stockholm',\n",
       "     'timeZone': 'Europe/Stockholm'},\n",
       "    'scheduledTime': {'utc': '2024-10-14 08:05Z',\n",
       "     'local': '2024-10-14 10:05+02:00'},\n",
       "    'revisedTime': {'utc': '2024-10-14 08:05Z',\n",
       "     'local': '2024-10-14 10:05+02:00'},\n",
       "    'terminal': '5',\n",
       "    'checkInDesk': '71-80',\n",
       "    'gate': 'E8',\n",
       "    'quality': ['Basic', 'Live']},\n",
       "   'arrival': {'scheduledTime': {'utc': '2024-10-14 09:40Z',\n",
       "     'local': '2024-10-14 11:40+02:00'},\n",
       "    'revisedTime': {'utc': '2024-10-14 09:40Z',\n",
       "     'local': '2024-10-14 11:40+02:00'},\n",
       "    'terminal': '1',\n",
       "    'gate': 'A32',\n",
       "    'baggageBelt': 'A4',\n",
       "    'quality': ['Basic', 'Live']},\n",
       "   'number': 'SK 2677',\n",
       "   'callSign': 'SAS2677',\n",
       "   'status': 'Expected',\n",
       "   'codeshareStatus': 'IsOperator',\n",
       "   'isCargo': False,\n",
       "   'aircraft': {'reg': 'SE-ROT',\n",
       "    'modeS': '4AC9F4',\n",
       "    'model': 'Airbus A320 NEO'},\n",
       "   'airline': {'name': 'SAS', 'iata': 'SK', 'icao': 'SAS'}},\n",
       "  {'departure': {'airport': {'icao': 'LEPA',\n",
       "     'iata': 'PMI',\n",
       "     'name': 'Palma De Mallorca',\n",
       "     'timeZone': 'Europe/Madrid'},\n",
       "    'scheduledTime': {'utc': '2024-10-14 06:45Z',\n",
       "     'local': '2024-10-14 08:45+02:00'},\n",
       "    'revisedTime': {'utc': '2024-10-14 07:05Z',\n",
       "     'local': '2024-10-14 09:05+02:00'},\n",
       "    'terminal': 'N',\n",
       "    'checkInDesk': '024-026',\n",
       "    'gate': 'C61',\n",
       "    'quality': ['Basic', 'Live']},\n",
       "   'arrival': {'scheduledTime': {'utc': '2024-10-14 09:45Z',\n",
       "     'local': '2024-10-14 11:45+02:00'},\n",
       "    'revisedTime': {'utc': '2024-10-14 09:45Z',\n",
       "     'local': '2024-10-14 11:45+02:00'},\n",
       "    'terminal': '1',\n",
       "    'gate': 'S01',\n",
       "    'baggageBelt': 'B3',\n",
       "    'quality': ['Basic', 'Live']},\n",
       "   'number': 'SR 2413',\n",
       "   'status': 'Expected',\n",
       "   'codeshareStatus': 'IsOperator',\n",
       "   'isCargo': False,\n",
       "   'aircraft': {'reg': 'D-ASGK', 'modeS': '3C0893', 'model': 'Airbus A320'},\n",
       "   'airline': {'name': 'SundAir', 'iata': 'SR', 'icao': 'SDR'}},\n",
       "  {'departure': {'airport': {'icao': 'LTFM',\n",
       "     'iata': 'IST',\n",
       "     'name': 'Istanbul',\n",
       "     'timeZone': 'Europe/Istanbul'},\n",
       "    'scheduledTime': {'utc': '2024-10-14 07:00Z',\n",
       "     'local': '2024-10-14 10:00+03:00'},\n",
       "    'revisedTime': {'utc': '2024-10-14 07:00Z',\n",
       "     'local': '2024-10-14 10:00+03:00'},\n",
       "    'checkInDesk': 'E-F',\n",
       "    'gate': 'B5',\n",
       "    'quality': ['Basic', 'Live']},\n",
       "   'arrival': {'scheduledTime': {'utc': '2024-10-14 09:45Z',\n",
       "     'local': '2024-10-14 11:45+02:00'},\n",
       "    'revisedTime': {'utc': '2024-10-14 09:45Z',\n",
       "     'local': '2024-10-14 11:45+02:00'},\n",
       "    'terminal': '1',\n",
       "    'gate': 'X01',\n",
       "    'baggageBelt': 'A3',\n",
       "    'quality': ['Basic', 'Live']},\n",
       "   'number': 'TK 1729',\n",
       "   'status': 'Expected',\n",
       "   'codeshareStatus': 'IsOperator',\n",
       "   'isCargo': False,\n",
       "   'aircraft': {'reg': 'TC-JOF', 'modeS': '4BA9E6', 'model': 'Airbus A330'},\n",
       "   'airline': {'name': 'Turkish', 'iata': 'TK', 'icao': 'THY'}},\n",
       "  {'departure': {'airport': {'icao': 'EGLL',\n",
       "     'iata': 'LHR',\n",
       "     'name': 'London',\n",
       "     'timeZone': 'Europe/London'},\n",
       "    'scheduledTime': {'utc': '2024-10-14 07:55Z',\n",
       "     'local': '2024-10-14 08:55+01:00'},\n",
       "    'revisedTime': {'utc': '2024-10-14 07:55Z',\n",
       "     'local': '2024-10-14 08:55+01:00'},\n",
       "    'terminal': '5',\n",
       "    'checkInDesk': 'D',\n",
       "    'quality': ['Basic', 'Live']},\n",
       "   'arrival': {'scheduledTime': {'utc': '2024-10-14 09:45Z',\n",
       "     'local': '2024-10-14 11:45+02:00'},\n",
       "    'revisedTime': {'utc': '2024-10-14 09:45Z',\n",
       "     'local': '2024-10-14 11:45+02:00'},\n",
       "    'terminal': '1',\n",
       "    'gate': 'Y02',\n",
       "    'baggageBelt': 'B4',\n",
       "    'quality': ['Basic', 'Live']},\n",
       "   'number': 'BA 982',\n",
       "   'status': 'Expected',\n",
       "   'codeshareStatus': 'IsOperator',\n",
       "   'isCargo': False,\n",
       "   'aircraft': {'model': 'Airbus A321-100'},\n",
       "   'airline': {'name': 'British', 'iata': 'BA', 'icao': 'BAW'}},\n",
       "  {'departure': {'airport': {'icao': 'LLBG',\n",
       "     'iata': 'TLV',\n",
       "     'name': 'Tel Aviv Yafo',\n",
       "     'timeZone': 'Asia/Jerusalem'},\n",
       "    'scheduledTime': {'utc': '2024-10-14 05:30Z',\n",
       "     'local': '2024-10-14 08:30+03:00'},\n",
       "    'revisedTime': {'utc': '2024-10-14 05:57Z',\n",
       "     'local': '2024-10-14 08:57+03:00'},\n",
       "    'runwayTime': {'utc': '2024-10-14 05:57Z',\n",
       "     'local': '2024-10-14 08:57+03:00'},\n",
       "    'terminal': '3',\n",
       "    'runway': '26',\n",
       "    'quality': ['Basic', 'Live']},\n",
       "   'arrival': {'scheduledTime': {'utc': '2024-10-14 09:55Z',\n",
       "     'local': '2024-10-14 11:55+02:00'},\n",
       "    'revisedTime': {'utc': '2024-10-14 09:55Z',\n",
       "     'local': '2024-10-14 11:55+02:00'},\n",
       "    'terminal': '1',\n",
       "    'gate': 'X19',\n",
       "    'baggageBelt': 'A3',\n",
       "    'quality': ['Basic', 'Live']},\n",
       "   'number': '6H 255',\n",
       "   'callSign': 'ISR255',\n",
       "   'status': 'Expected',\n",
       "   'codeshareStatus': 'IsOperator',\n",
       "   'isCargo': False,\n",
       "   'aircraft': {'modeS': '73828B', 'model': 'Airbus A320'},\n",
       "   'airline': {'name': 'Israir', 'iata': '6H', 'icao': 'ISR'}}]}"
      ]
     },
     "execution_count": 14,
     "metadata": {},
     "output_type": "execute_result"
    }
   ],
   "source": [
    "api_key = AeroDatabox\n",
    "icao = \"EDDB\"\n",
    "date = datetime.now().date()\n",
    "time_1 = \"00:00\"\n",
    "time_2 = \"11:59\"\n",
    "\n",
    "#url = \"https://aerodatabox.p.rapidapi.com/flights/airports/icao/EDDB/2024-02-14T00:00/2024-02-14T11:59\"\n",
    "\n",
    "url = f\"https://aerodatabox.p.rapidapi.com/flights/airports/icao/{icao}/{date}T{time_1}/{date}T{time_2}\"\n",
    "\n",
    "querystring = {\"withLeg\":\"true\",\n",
    "               \"direction\":\"Arrival\",\n",
    "               \"withCancelled\":\"false\",\n",
    "               \"withCodeshared\":\"true\",\n",
    "               \"withCargo\":\"false\",\n",
    "               \"withPrivate\":\"false\",\n",
    "               \"withLocation\":\"false\"}\n",
    "\n",
    "headers = {\n",
    "\t\"X-RapidAPI-Key\": api_key,\n",
    "\t\"X-RapidAPI-Host\": \"aerodatabox.p.rapidapi.com\"\n",
    "}\n",
    "\n",
    "response = requests.get(url, headers=headers, params=querystring)\n",
    "\n",
    "flights_json = response.json()\n",
    "\n",
    "flights_json"
   ]
  },
  {
   "cell_type": "markdown",
   "metadata": {
    "id": "uXU_MzvidMrR"
   },
   "source": [
    "# Exploring the json"
   ]
  },
  {
   "cell_type": "code",
   "execution_count": 11,
   "metadata": {
    "id": "HH_PGEIo-Zs_",
    "outputId": "99e37cfb-33a5-4e0d-b7b6-ff84d416c579",
    "tags": []
   },
   "outputs": [
    {
     "data": {
      "application/json": {
       "arrivals": [
        {
         "aircraft": {
          "modeS": "4BCDEE",
          "model": "Boeing 737-800",
          "reg": "TC-SON"
         },
         "airline": {
          "iata": "XQ",
          "icao": "SXS",
          "name": "Sun Express"
         },
         "arrival": {
          "baggageBelt": "A3",
          "gate": "X06",
          "quality": [
           "Basic",
           "Live"
          ],
          "revisedTime": {
           "local": "2024-10-09 06:05+02:00",
           "utc": "2024-10-09 04:05Z"
          },
          "runwayTime": {
           "local": "2024-10-09 06:12+02:00",
           "utc": "2024-10-09 04:12Z"
          },
          "scheduledTime": {
           "local": "2024-10-09 06:30+02:00",
           "utc": "2024-10-09 04:30Z"
          },
          "terminal": "1"
         },
         "callSign": "SXS5D",
         "codeshareStatus": "IsOperator",
         "departure": {
          "airport": {
           "iata": "ADB",
           "icao": "LTBJ",
           "name": "İzmir",
           "timeZone": "Europe/Istanbul"
          },
          "gate": "28",
          "quality": [
           "Basic",
           "Live"
          ],
          "revisedTime": {
           "local": "2024-10-09 04:36+03:00",
           "utc": "2024-10-09 01:36Z"
          },
          "runwayTime": {
           "local": "2024-10-09 04:38+03:00",
           "utc": "2024-10-09 01:38Z"
          },
          "scheduledTime": {
           "local": "2024-10-09 04:25+03:00",
           "utc": "2024-10-09 01:25Z"
          },
          "terminal": "I"
         },
         "isCargo": false,
         "number": "XQ 966",
         "status": "Arrived"
        },
        {
         "aircraft": {
          "modeS": "4BCE19",
          "model": "Boeing 737-800 (winglets)",
          "reg": "TC-SPY"
         },
         "airline": {
          "iata": "XQ",
          "icao": "SXS",
          "name": "Sun Express"
         },
         "arrival": {
          "baggageBelt": "B4",
          "gate": "N01",
          "quality": [
           "Basic",
           "Live"
          ],
          "revisedTime": {
           "local": "2024-10-09 06:42+02:00",
           "utc": "2024-10-09 04:42Z"
          },
          "runwayTime": {
           "local": "2024-10-09 06:46+02:00",
           "utc": "2024-10-09 04:46Z"
          },
          "scheduledTime": {
           "local": "2024-10-09 06:45+02:00",
           "utc": "2024-10-09 04:45Z"
          },
          "terminal": "1"
         },
         "callSign": "SXS6JD",
         "codeshareStatus": "IsOperator",
         "departure": {
          "airport": {
           "iata": "SZF",
           "icao": "LTFH",
           "name": "Samsun",
           "timeZone": "Europe/Istanbul"
          },
          "quality": [
           "Basic"
          ],
          "scheduledTime": {
           "local": "2024-10-09 04:10+03:00",
           "utc": "2024-10-09 01:10Z"
          }
         },
         "isCargo": false,
         "number": "XQ 1768",
         "status": "Arrived"
        },
        {
         "aircraft": {
          "modeS": "01025A",
          "model": "Airbus A320",
          "reg": "SU-NMR"
         },
         "airline": {
          "iata": "NE",
          "icao": "NMA",
          "name": "Nesma"
         },
         "arrival": {
          "baggageBelt": "B2",
          "gate": "N01",
          "quality": [
           "Basic",
           "Live"
          ],
          "revisedTime": {
           "local": "2024-10-09 06:44+02:00",
           "utc": "2024-10-09 04:44Z"
          },
          "runwayTime": {
           "local": "2024-10-09 06:48+02:00",
           "utc": "2024-10-09 04:48Z"
          },
          "scheduledTime": {
           "local": "2024-10-09 07:00+02:00",
           "utc": "2024-10-09 05:00Z"
          },
          "terminal": "1"
         },
         "callSign": "NMA3130",
         "codeshareStatus": "IsOperator",
         "departure": {
          "airport": {
           "iata": "HRG",
           "icao": "HEGN",
           "name": "Hurghada",
           "timeZone": "Africa/Cairo"
          },
          "quality": []
         },
         "isCargo": false,
         "number": "NE 3130",
         "status": "Arrived"
        },
        {
         "aircraft": {
          "modeS": "AA44AC",
          "model": "Boeing 767",
          "reg": "N76054"
         },
         "airline": {
          "iata": "UA",
          "icao": "UAL",
          "name": "United"
         },
         "arrival": {
          "baggageBelt": "B1",
          "gate": "Y17",
          "quality": [
           "Basic",
           "Live"
          ],
          "revisedTime": {
           "local": "2024-10-09 06:49+02:00",
           "utc": "2024-10-09 04:49Z"
          },
          "scheduledTime": {
           "local": "2024-10-09 07:15+02:00",
           "utc": "2024-10-09 05:15Z"
          },
          "terminal": "1"
         },
         "callSign": "UAL962",
         "codeshareStatus": "IsOperator",
         "departure": {
          "airport": {
           "iata": "EWR",
           "icao": "KEWR",
           "name": "Newark",
           "timeZone": "America/New_York"
          },
          "quality": [
           "Basic",
           "Live"
          ],
          "revisedTime": {
           "local": "2024-10-08 17:28-04:00",
           "utc": "2024-10-08 21:28Z"
          },
          "runway": "22R",
          "runwayTime": {
           "local": "2024-10-08 17:28-04:00",
           "utc": "2024-10-08 21:28Z"
          },
          "scheduledTime": {
           "local": "2024-10-08 17:15-04:00",
           "utc": "2024-10-08 21:15Z"
          },
          "terminal": "C"
         },
         "isCargo": false,
         "number": "UA 962",
         "status": "Arrived"
        },
        {
         "aircraft": {
          "modeS": "4BCCAA",
          "model": "Boeing 737-800",
          "reg": "TC-SEJ"
         },
         "airline": {
          "iata": "XQ",
          "icao": "SXS",
          "name": "Sun Express"
         },
         "arrival": {
          "baggageBelt": "B4",
          "gate": "N01",
          "quality": [
           "Basic",
           "Live"
          ],
          "revisedTime": {
           "local": "2024-10-09 07:01+02:00",
           "utc": "2024-10-09 05:01Z"
          },
          "scheduledTime": {
           "local": "2024-10-09 07:30+02:00",
           "utc": "2024-10-09 05:30Z"
          },
          "terminal": "1"
         },
         "callSign": "SXS1MT",
         "codeshareStatus": "IsOperator",
         "departure": {
          "airport": {
           "iata": "AYT",
           "icao": "LTAI",
           "name": "Antalya",
           "timeZone": "Europe/Istanbul"
          },
          "checkInDesk": "120-122",
          "quality": [
           "Basic",
           "Live"
          ],
          "revisedTime": {
           "local": "2024-10-09 04:55+03:00",
           "utc": "2024-10-09 01:55Z"
          },
          "scheduledTime": {
           "local": "2024-10-09 04:55+03:00",
           "utc": "2024-10-09 01:55Z"
          },
          "terminal": "1"
         },
         "isCargo": false,
         "number": "XQ 668",
         "status": "Arrived"
        },
        {
         "aircraft": {
          "modeS": "44001B",
          "model": "Airbus A320",
          "reg": "OE-LBO"
         },
         "airline": {
          "iata": "OS",
          "icao": "AUA",
          "name": "Austrian"
         },
         "arrival": {
          "baggageBelt": "A4",
          "gate": "A01",
          "quality": [
           "Basic",
           "Live"
          ],
          "revisedTime": {
           "local": "2024-10-09 07:08+02:00",
           "utc": "2024-10-09 05:08Z"
          },
          "scheduledTime": {
           "local": "2024-10-09 07:30+02:00",
           "utc": "2024-10-09 05:30Z"
          },
          "terminal": "1"
         },
         "codeshareStatus": "IsOperator",
         "departure": {
          "airport": {
           "iata": "VIE",
           "icao": "LOWW",
           "name": "Vienna",
           "timeZone": "Europe/Vienna"
          },
          "checkInDesk": "351-372",
          "gate": "F30",
          "quality": [
           "Basic",
           "Live"
          ],
          "revisedTime": {
           "local": "2024-10-09 06:17+02:00",
           "utc": "2024-10-09 04:17Z"
          },
          "scheduledTime": {
           "local": "2024-10-09 06:20+02:00",
           "utc": "2024-10-09 04:20Z"
          },
          "terminal": "3"
         },
         "isCargo": false,
         "number": "OS 221",
         "status": "Arrived"
        },
        {
         "aircraft": {
          "modeS": "781590",
          "model": "Airbus A330",
          "reg": "B-304K"
         },
         "airline": {
          "iata": "HU",
          "icao": "CHH",
          "name": "Hainan"
         },
         "arrival": {
          "baggageBelt": "A1",
          "gate": "X17",
          "quality": [
           "Basic",
           "Live"
          ],
          "revisedTime": {
           "local": "2024-10-09 07:09+02:00",
           "utc": "2024-10-09 05:09Z"
          },
          "runwayTime": {
           "local": "2024-10-09 07:17+02:00",
           "utc": "2024-10-09 05:17Z"
          },
          "scheduledTime": {
           "local": "2024-10-09 06:45+02:00",
           "utc": "2024-10-09 04:45Z"
          },
          "terminal": "1"
         },
         "callSign": "CHH489",
         "codeshareStatus": "IsOperator",
         "departure": {
          "airport": {
           "iata": "PEK",
           "icao": "ZBAA",
           "name": "Beijing",
           "timeZone": "Asia/Shanghai"
          },
          "checkInDesk": "C11-C15",
          "gate": "14",
          "quality": [
           "Basic",
           "Live"
          ],
          "revisedTime": {
           "local": "2024-10-09 02:39+08:00",
           "utc": "2024-10-08 18:39Z"
          },
          "runwayTime": {
           "local": "2024-10-09 02:43+08:00",
           "utc": "2024-10-08 18:43Z"
          },
          "scheduledTime": {
           "local": "2024-10-09 02:40+08:00",
           "utc": "2024-10-08 18:40Z"
          },
          "terminal": "2"
         },
         "isCargo": false,
         "number": "HU 489",
         "status": "Arrived"
        },
        {
         "aircraft": {
          "modeS": "A12C23",
          "model": "Boeing 767-300",
          "reg": "N175DZ"
         },
         "airline": {
          "iata": "DL",
          "icao": "DAL",
          "name": "Delta Air Lines"
         },
         "arrival": {
          "baggageBelt": "B3",
          "gate": "Y02",
          "quality": [
           "Basic",
           "Live"
          ],
          "revisedTime": {
           "local": "2024-10-09 07:12+02:00",
           "utc": "2024-10-09 05:12Z"
          },
          "runwayTime": {
           "local": "2024-10-09 07:20+02:00",
           "utc": "2024-10-09 05:20Z"
          },
          "scheduledTime": {
           "local": "2024-10-09 07:50+02:00",
           "utc": "2024-10-09 05:50Z"
          },
          "terminal": "1"
         },
         "callSign": "DAL92",
         "codeshareStatus": "IsOperator",
         "departure": {
          "airport": {
           "iata": "JFK",
           "icao": "KJFK",
           "name": "New York",
           "timeZone": "America/New_York"
          },
          "quality": [
           "Basic",
           "Live"
          ],
          "revisedTime": {
           "local": "2024-10-08 18:00-04:00",
           "utc": "2024-10-08 22:00Z"
          },
          "runway": "31L",
          "runwayTime": {
           "local": "2024-10-08 18:00-04:00",
           "utc": "2024-10-08 22:00Z"
          },
          "scheduledTime": {
           "local": "2024-10-08 17:35-04:00",
           "utc": "2024-10-08 21:35Z"
          },
          "terminal": "4"
         },
         "isCargo": false,
         "number": "DL 92",
         "status": "Arrived"
        },
        {
         "aircraft": {
          "modeS": "3C5EF8",
          "model": "Airbus A319",
          "reg": "D-AGWX"
         },
         "airline": {
          "iata": "LH",
          "icao": "DLH",
          "name": "Lufthansa"
         },
         "arrival": {
          "baggageBelt": "A4",
          "gate": "A02",
          "quality": [
           "Basic",
           "Live"
          ],
          "revisedTime": {
           "local": "2024-10-09 07:16+02:00",
           "utc": "2024-10-09 05:16Z"
          },
          "scheduledTime": {
           "local": "2024-10-09 07:25+02:00",
           "utc": "2024-10-09 05:25Z"
          },
          "terminal": "1"
         },
         "codeshareStatus": "IsCodeshared",
         "departure": {
          "airport": {
           "iata": "STR",
           "icao": "EDDS",
           "name": "Stuttgart",
           "timeZone": "Europe/Berlin"
          },
          "gate": "361",
          "quality": [
           "Basic",
           "Live"
          ],
          "revisedTime": {
           "local": "2024-10-09 06:15+02:00",
           "utc": "2024-10-09 04:15Z"
          },
          "scheduledTime": {
           "local": "2024-10-09 06:15+02:00",
           "utc": "2024-10-09 04:15Z"
          },
          "terminal": "3"
         },
         "isCargo": false,
         "number": "LH 5385",
         "status": "Arrived"
        },
        {
         "aircraft": {
          "modeS": "3C5EF8",
          "model": "Airbus A319",
          "reg": "D-AGWX"
         },
         "airline": {
          "iata": "EW",
          "icao": "EWG",
          "name": "Eurowings"
         },
         "arrival": {
          "baggageBelt": "A4",
          "gate": "A02",
          "quality": [
           "Basic",
           "Live"
          ],
          "revisedTime": {
           "local": "2024-10-09 07:16+02:00",
           "utc": "2024-10-09 05:16Z"
          },
          "scheduledTime": {
           "local": "2024-10-09 07:25+02:00",
           "utc": "2024-10-09 05:25Z"
          },
          "terminal": "1"
         },
         "codeshareStatus": "IsOperator",
         "departure": {
          "airport": {
           "iata": "STR",
           "icao": "EDDS",
           "name": "Stuttgart",
           "timeZone": "Europe/Berlin"
          },
          "gate": "361",
          "quality": [
           "Basic",
           "Live"
          ],
          "revisedTime": {
           "local": "2024-10-09 06:15+02:00",
           "utc": "2024-10-09 04:15Z"
          },
          "scheduledTime": {
           "local": "2024-10-09 06:15+02:00",
           "utc": "2024-10-09 04:15Z"
          },
          "terminal": "3"
         },
         "isCargo": false,
         "number": "EW 2002",
         "status": "Arrived"
        },
        {
         "aircraft": {
          "modeS": "3C66E7",
          "model": "Airbus A320",
          "reg": "D-AIWG"
         },
         "airline": {
          "iata": "LH",
          "icao": "DLH",
          "name": "Lufthansa"
         },
         "arrival": {
          "baggageBelt": "B1",
          "gate": "B07",
          "quality": [
           "Basic",
           "Live"
          ],
          "revisedTime": {
           "local": "2024-10-09 07:19+02:00",
           "utc": "2024-10-09 05:19Z"
          },
          "runwayTime": {
           "local": "2024-10-09 07:21+02:00",
           "utc": "2024-10-09 05:21Z"
          },
          "scheduledTime": {
           "local": "2024-10-09 07:25+02:00",
           "utc": "2024-10-09 05:25Z"
          },
          "terminal": "1"
         },
         "callSign": "DLH172",
         "codeshareStatus": "IsOperator",
         "departure": {
          "airport": {
           "iata": "FRA",
           "icao": "EDDF",
           "name": "Frankfurt-am-Main",
           "timeZone": "Europe/Berlin"
          },
          "checkInDesk": "259-335",
          "gate": "A14",
          "quality": [
           "Basic",
           "Live"
          ],
          "revisedTime": {
           "local": "2024-10-09 06:15+02:00",
           "utc": "2024-10-09 04:15Z"
          },
          "runway": "18",
          "runwayTime": {
           "local": "2024-10-09 06:30+02:00",
           "utc": "2024-10-09 04:30Z"
          },
          "scheduledTime": {
           "local": "2024-10-09 06:15+02:00",
           "utc": "2024-10-09 04:15Z"
          },
          "terminal": "1"
         },
         "isCargo": false,
         "number": "LH 172",
         "status": "Arrived"
        },
        {
         "aircraft": {
          "modeS": "4402DB",
          "model": "Airbus A320",
          "reg": "OE-ICT"
         },
         "airline": {
          "iata": "U2",
          "icao": "EZY",
          "name": "easyJet"
         },
         "arrival": {
          "baggageBelt": "A2",
          "gate": "A36",
          "quality": [
           "Basic",
           "Live"
          ],
          "revisedTime": {
           "local": "2024-10-09 07:20+02:00",
           "utc": "2024-10-09 05:20Z"
          },
          "scheduledTime": {
           "local": "2024-10-09 07:50+02:00",
           "utc": "2024-10-09 05:50Z"
          },
          "terminal": "1"
         },
         "callSign": "EJU52BJ",
         "codeshareStatus": "IsOperator",
         "departure": {
          "airport": {
           "iata": "CDG",
           "icao": "LFPG",
           "name": "Paris",
           "timeZone": "Europe/Paris"
          },
          "quality": [
           "Basic"
          ],
          "scheduledTime": {
           "local": "2024-10-09 06:00+02:00",
           "utc": "2024-10-09 04:00Z"
          },
          "terminal": "2D"
         },
         "isCargo": false,
         "number": "U2 4631",
         "status": "Arrived"
        },
        {
         "aircraft": {
          "modeS": "4402DB",
          "model": "Airbus A320",
          "reg": "OE-ICT"
         },
         "airline": {
          "iata": "EC",
          "icao": "EJU",
          "name": "EasyJet Europe"
         },
         "arrival": {
          "baggageBelt": "A2",
          "gate": "A36",
          "quality": [
           "Basic",
           "Live"
          ],
          "revisedTime": {
           "local": "2024-10-09 07:20+02:00",
           "utc": "2024-10-09 05:20Z"
          },
          "scheduledTime": {
           "local": "2024-10-09 07:50+02:00",
           "utc": "2024-10-09 05:50Z"
          },
          "terminal": "1"
         },
         "callSign": "EJU52BJ",
         "codeshareStatus": "IsCodeshared",
         "departure": {
          "airport": {
           "iata": "CDG",
           "icao": "LFPG",
           "name": "Paris",
           "timeZone": "Europe/Paris"
          },
          "quality": [
           "Basic"
          ],
          "scheduledTime": {
           "local": "2024-10-09 06:00+02:00",
           "utc": "2024-10-09 04:00Z"
          },
          "terminal": "2D"
         },
         "isCargo": false,
         "number": "EC 4631",
         "status": "Arrived"
        },
        {
         "aircraft": {
          "modeS": "3C5EF8",
          "model": "Airbus A319",
          "reg": "D-AGWX"
         },
         "airline": {
          "iata": "4U",
          "icao": "GWI",
          "name": "Germanwings"
         },
         "arrival": {
          "quality": [
           "Basic",
           "Live"
          ],
          "revisedTime": {
           "local": "2024-10-09 07:21+02:00",
           "utc": "2024-10-09 05:21Z"
          },
          "runwayTime": {
           "local": "2024-10-09 07:21+02:00",
           "utc": "2024-10-09 05:21Z"
          },
          "scheduledTime": {
           "local": "2024-10-09 07:21+02:00",
           "utc": "2024-10-09 05:21Z"
          }
         },
         "callSign": "GWI2002",
         "codeshareStatus": "IsOperator",
         "departure": {
          "airport": {
           "iata": "STR",
           "icao": "EDDS",
           "name": "Stuttgart",
           "timeZone": "Europe/Berlin"
          },
          "quality": [
           "Basic",
           "Live"
          ],
          "revisedTime": {
           "local": "2024-10-09 06:12+02:00",
           "utc": "2024-10-09 04:12Z"
          },
          "runway": "25",
          "runwayTime": {
           "local": "2024-10-09 06:26+02:00",
           "utc": "2024-10-09 04:26Z"
          },
          "scheduledTime": {
           "local": "2024-10-09 06:12+02:00",
           "utc": "2024-10-09 04:12Z"
          }
         },
         "isCargo": false,
         "number": "4U 2002",
         "status": "Arrived"
        },
        {
         "aircraft": {
          "modeS": "06A2EB",
          "model": "Boeing 787-9",
          "reg": "A7-BHH"
         },
         "airline": {
          "iata": "QR",
          "icao": "QTR",
          "name": "Qatar Airways"
         },
         "arrival": {
          "baggageBelt": "A3",
          "gate": "X07",
          "quality": [
           "Basic",
           "Live"
          ],
          "revisedTime": {
           "local": "2024-10-09 07:27+02:00",
           "utc": "2024-10-09 05:27Z"
          },
          "scheduledTime": {
           "local": "2024-10-09 07:20+02:00",
           "utc": "2024-10-09 05:20Z"
          },
          "terminal": "1"
         },
         "callSign": "QTR32A",
         "codeshareStatus": "IsOperator",
         "departure": {
          "airport": {
           "iata": "DOH",
           "icao": "OTHH",
           "name": "Doha",
           "timeZone": "Asia/Qatar"
          },
          "gate": "C37",
          "quality": [
           "Basic",
           "Live"
          ],
          "revisedTime": {
           "local": "2024-10-09 02:09+03:00",
           "utc": "2024-10-08 23:09Z"
          },
          "runwayTime": {
           "local": "2024-10-09 02:32+03:00",
           "utc": "2024-10-08 23:32Z"
          },
          "scheduledTime": {
           "local": "2024-10-09 02:10+03:00",
           "utc": "2024-10-08 23:10Z"
          }
         },
         "isCargo": false,
         "number": "QR 79",
         "status": "Arrived"
        },
        {
         "aircraft": {
          "modeS": "3C5EEA",
          "model": "Airbus A319",
          "reg": "D-AGWJ"
         },
         "airline": {
          "iata": "4U",
          "icao": "GWI",
          "name": "Germanwings"
         },
         "arrival": {
          "quality": [
           "Basic",
           "Live"
          ],
          "revisedTime": {
           "local": "2024-10-09 07:28+02:00",
           "utc": "2024-10-09 05:28Z"
          },
          "scheduledTime": {
           "local": "2024-10-09 07:28+02:00",
           "utc": "2024-10-09 05:28Z"
          }
         },
         "callSign": "GWI5MK",
         "codeshareStatus": "IsOperator",
         "departure": {
          "airport": {
           "iata": "CGN",
           "icao": "EDDK",
           "name": "Cologne",
           "timeZone": "Europe/Berlin"
          },
          "quality": []
         },
         "isCargo": false,
         "number": "4U 5MK",
         "status": "Approaching"
        },
        {
         "aircraft": {
          "modeS": "3C5EEA",
          "model": "Airbus A319",
          "reg": "D-AGWJ"
         },
         "airline": {
          "iata": "EW",
          "icao": "EWG",
          "name": "Eurowings"
         },
         "arrival": {
          "baggageBelt": "A4",
          "gate": "A06",
          "quality": [
           "Basic",
           "Live"
          ],
          "revisedTime": {
           "local": "2024-10-09 07:35+02:00",
           "utc": "2024-10-09 05:35Z"
          },
          "scheduledTime": {
           "local": "2024-10-09 07:40+02:00",
           "utc": "2024-10-09 05:40Z"
          },
          "terminal": "1"
         },
         "codeshareStatus": "IsOperator",
         "departure": {
          "airport": {
           "iata": "CGN",
           "icao": "EDDK",
           "name": "Cologne",
           "timeZone": "Europe/Berlin"
          },
          "quality": [
           "Basic"
          ],
          "scheduledTime": {
           "local": "2024-10-09 06:30+02:00",
           "utc": "2024-10-09 04:30Z"
          },
          "terminal": "1"
         },
         "isCargo": false,
         "number": "EW 12",
         "status": "Arrived"
        },
        {
         "aircraft": {
          "model": "Airbus A320 NEO",
          "reg": "D-AENF"
         },
         "airline": {
          "iata": "EW",
          "icao": "EWG",
          "name": "Eurowings"
         },
         "arrival": {
          "baggageBelt": "B2",
          "gate": "B03",
          "quality": [
           "Basic",
           "Live"
          ],
          "revisedTime": {
           "local": "2024-10-09 07:43+02:00",
           "utc": "2024-10-09 05:43Z"
          },
          "scheduledTime": {
           "local": "2024-10-09 07:55+02:00",
           "utc": "2024-10-09 05:55Z"
          },
          "terminal": "1"
         },
         "callSign": "GWI52FP",
         "codeshareStatus": "IsOperator",
         "departure": {
          "airport": {
           "iata": "DUS",
           "icao": "EDDL",
           "name": "Düsseldorf",
           "timeZone": "Europe/Berlin"
          },
          "checkInDesk": "151,170",
          "gate": "A25",
          "quality": [
           "Basic",
           "Live"
          ],
          "revisedTime": {
           "local": "2024-10-09 06:43+02:00",
           "utc": "2024-10-09 04:43Z"
          },
          "runwayTime": {
           "local": "2024-10-09 06:55+02:00",
           "utc": "2024-10-09 04:55Z"
          },
          "scheduledTime": {
           "local": "2024-10-09 06:45+02:00",
           "utc": "2024-10-09 04:45Z"
          },
          "terminal": "B"
         },
         "isCargo": false,
         "number": "EW 9048",
         "status": "Arrived"
        },
        {
         "aircraft": {
          "modeS": "4D251C",
          "model": "Boeing 737-800",
          "reg": "9H-QEY"
         },
         "airline": {
          "iata": "FR",
          "icao": "RYR",
          "name": "Ryanair"
         },
         "arrival": {
          "baggageBelt": "C3",
          "gate": "Z32",
          "quality": [
           "Basic",
           "Live"
          ],
          "revisedTime": {
           "local": "2024-10-09 07:44+02:00",
           "utc": "2024-10-09 05:44Z"
          },
          "scheduledTime": {
           "local": "2024-10-09 07:50+02:00",
           "utc": "2024-10-09 05:50Z"
          },
          "terminal": "2"
         },
         "callSign": "RYR7KH",
         "codeshareStatus": "IsOperator",
         "departure": {
          "airport": {
           "iata": "BGY",
           "icao": "LIME",
           "name": "Bergamo",
           "timeZone": "Europe/Rome"
          },
          "quality": [
           "Basic",
           "Live"
          ],
          "revisedTime": {
           "local": "2024-10-09 06:28+02:00",
           "utc": "2024-10-09 04:28Z"
          },
          "runwayTime": {
           "local": "2024-10-09 06:28+02:00",
           "utc": "2024-10-09 04:28Z"
          },
          "scheduledTime": {
           "local": "2024-10-09 06:10+02:00",
           "utc": "2024-10-09 04:10Z"
          }
         },
         "isCargo": false,
         "number": "FR 3312",
         "status": "Arrived"
        },
        {
         "aircraft": {
          "modeS": "45AA4A",
          "model": "ATR 42-300",
          "reg": "OY-JRJ"
         },
         "airline": {
          "iata": "DX",
          "icao": "DTR",
          "name": "Danish Air"
         },
         "arrival": {
          "baggageBelt": "C1",
          "gate": "Z29",
          "quality": [
           "Basic",
           "Live"
          ],
          "revisedTime": {
           "local": "2024-10-09 07:47+02:00",
           "utc": "2024-10-09 05:47Z"
          },
          "scheduledTime": {
           "local": "2024-10-09 08:05+02:00",
           "utc": "2024-10-09 06:05Z"
          },
          "terminal": "2"
         },
         "codeshareStatus": "IsOperator",
         "departure": {
          "airport": {
           "iata": "SCN",
           "icao": "EDDR",
           "name": "Saarbrücken",
           "timeZone": "Europe/Berlin"
          },
          "quality": [
           "Basic"
          ],
          "scheduledTime": {
           "local": "2024-10-09 06:30+02:00",
           "utc": "2024-10-09 04:30Z"
          }
         },
         "isCargo": false,
         "number": "DX 121",
         "status": "Arrived"
        },
        {
         "aircraft": {
          "modeS": "3C65C7",
          "model": "Airbus A321 (Sharklets)",
          "reg": "D-AING"
         },
         "airline": {
          "iata": "LH",
          "icao": "DLH",
          "name": "Lufthansa"
         },
         "arrival": {
          "baggageBelt": "A1",
          "gate": "A03",
          "quality": [
           "Basic",
           "Live"
          ],
          "revisedTime": {
           "local": "2024-10-09 07:50+02:00",
           "utc": "2024-10-09 05:50Z"
          },
          "scheduledTime": {
           "local": "2024-10-09 07:55+02:00",
           "utc": "2024-10-09 05:55Z"
          },
          "terminal": "1"
         },
         "callSign": "DLH1PT",
         "codeshareStatus": "IsOperator",
         "departure": {
          "airport": {
           "iata": "FRA",
           "icao": "EDDF",
           "name": "Frankfurt-am-Main",
           "timeZone": "Europe/Berlin"
          },
          "checkInDesk": "259-335",
          "gate": "A11",
          "quality": [
           "Basic",
           "Live"
          ],
          "revisedTime": {
           "local": "2024-10-09 06:45+02:00",
           "utc": "2024-10-09 04:45Z"
          },
          "runway": "18",
          "runwayTime": {
           "local": "2024-10-09 07:00+02:00",
           "utc": "2024-10-09 05:00Z"
          },
          "scheduledTime": {
           "local": "2024-10-09 06:45+02:00",
           "utc": "2024-10-09 04:45Z"
          },
          "terminal": "1"
         },
         "isCargo": false,
         "number": "LH 170",
         "status": "Arrived"
        },
        {
         "aircraft": {
          "modeS": "4D00D9",
          "model": "De Havilland Canada DHC-8-400 Dash 8Q",
          "reg": "LX-LQI"
         },
         "airline": {
          "iata": "LG",
          "icao": "LGL",
          "name": "Luxair"
         },
         "arrival": {
          "baggageBelt": "B3",
          "gate": "S01",
          "quality": [
           "Basic",
           "Live"
          ],
          "revisedTime": {
           "local": "2024-10-09 07:53+02:00",
           "utc": "2024-10-09 05:53Z"
          },
          "scheduledTime": {
           "local": "2024-10-09 08:05+02:00",
           "utc": "2024-10-09 06:05Z"
          },
          "terminal": "1"
         },
         "callSign": "LGL91B",
         "codeshareStatus": "IsOperator",
         "departure": {
          "airport": {
           "iata": "LUX",
           "icao": "ELLX",
           "name": "Luxembourg",
           "timeZone": "Europe/Luxembourg"
          },
          "gate": "A20",
          "quality": [
           "Basic",
           "Live"
          ],
          "revisedTime": {
           "local": "2024-10-09 06:35+02:00",
           "utc": "2024-10-09 04:35Z"
          },
          "runway": "24",
          "runwayTime": {
           "local": "2024-10-09 06:44+02:00",
           "utc": "2024-10-09 04:44Z"
          },
          "scheduledTime": {
           "local": "2024-10-09 06:35+02:00",
           "utc": "2024-10-09 04:35Z"
          },
          "terminal": "A"
         },
         "isCargo": false,
         "number": "LG 9471",
         "status": "Arrived"
        },
        {
         "aircraft": {
          "modeS": "3C66A8",
          "model": "Airbus A320 (Sharklets)",
          "reg": "D-AIUH"
         },
         "airline": {
          "iata": "LH",
          "icao": "DLH",
          "name": "Lufthansa"
         },
         "arrival": {
          "baggageBelt": "B2",
          "gate": "S01",
          "quality": [
           "Basic",
           "Live"
          ],
          "revisedTime": {
           "local": "2024-10-09 07:55+02:00",
           "utc": "2024-10-09 05:55Z"
          },
          "runway": "25R",
          "runwayTime": {
           "local": "2024-10-09 07:55+02:00",
           "utc": "2024-10-09 05:55Z"
          },
          "scheduledTime": {
           "local": "2024-10-09 08:05+02:00",
           "utc": "2024-10-09 06:05Z"
          },
          "terminal": "1"
         },
         "callSign": "DLH7N",
         "codeshareStatus": "IsOperator",
         "departure": {
          "airport": {
           "iata": "MUC",
           "icao": "EDDM",
           "name": "Munich",
           "timeZone": "Europe/Berlin"
          },
          "quality": [
           "Basic",
           "Live"
          ],
          "revisedTime": {
           "local": "2024-10-09 07:00+02:00",
           "utc": "2024-10-09 05:00Z"
          },
          "scheduledTime": {
           "local": "2024-10-09 07:00+02:00",
           "utc": "2024-10-09 05:00Z"
          },
          "terminal": "2"
         },
         "isCargo": false,
         "number": "LH 1928",
         "status": "Arrived"
        },
        {
         "aircraft": {
          "modeS": "440C8C",
          "model": "Airbus A321",
          "reg": "OE-LBA"
         },
         "airline": {
          "iata": "OS",
          "icao": "AUA",
          "name": "Austrian"
         },
         "arrival": {
          "baggageBelt": "B4",
          "gate": "B06",
          "quality": [
           "Basic",
           "Live"
          ],
          "revisedTime": {
           "local": "2024-10-09 07:57+02:00",
           "utc": "2024-10-09 05:57Z"
          },
          "scheduledTime": {
           "local": "2024-10-09 08:10+02:00",
           "utc": "2024-10-09 06:10Z"
          },
          "terminal": "1"
         },
         "callSign": "AUA223",
         "codeshareStatus": "IsOperator",
         "departure": {
          "airport": {
           "iata": "VIE",
           "icao": "LOWW",
           "name": "Vienna",
           "timeZone": "Europe/Vienna"
          },
          "checkInDesk": "351-372",
          "gate": "F09",
          "quality": [
           "Basic",
           "Live"
          ],
          "revisedTime": {
           "local": "2024-10-09 07:10+02:00",
           "utc": "2024-10-09 05:10Z"
          },
          "runway": "34",
          "runwayTime": {
           "local": "2024-10-09 07:10+02:00",
           "utc": "2024-10-09 05:10Z"
          },
          "scheduledTime": {
           "local": "2024-10-09 07:00+02:00",
           "utc": "2024-10-09 05:00Z"
          },
          "terminal": "3"
         },
         "isCargo": false,
         "number": "OS 223",
         "status": "Arrived"
        },
        {
         "aircraft": {
          "modeS": "4D22FF",
          "model": "Boeing 737-800",
          "reg": "9H-VUA"
         },
         "airline": {
          "iata": "FR",
          "icao": "RYR",
          "name": "Ryanair"
         },
         "arrival": {
          "baggageBelt": "C2",
          "gate": "Z36",
          "quality": [
           "Basic",
           "Live"
          ],
          "revisedTime": {
           "local": "2024-10-09 08:02+02:00",
           "utc": "2024-10-09 06:02Z"
          },
          "runway": "25R",
          "runwayTime": {
           "local": "2024-10-09 08:03+02:00",
           "utc": "2024-10-09 06:03Z"
          },
          "scheduledTime": {
           "local": "2024-10-09 08:15+02:00",
           "utc": "2024-10-09 06:15Z"
          },
          "terminal": "2"
         },
         "callSign": "RYR295D",
         "codeshareStatus": "IsOperator",
         "departure": {
          "airport": {
           "iata": "PSA",
           "icao": "LIRP",
           "name": "Pisa",
           "timeZone": "Europe/Rome"
          },
          "quality": [
           "Basic",
           "Live"
          ],
          "revisedTime": {
           "local": "2024-10-09 06:40+02:00",
           "utc": "2024-10-09 04:40Z"
          },
          "runwayTime": {
           "local": "2024-10-09 06:40+02:00",
           "utc": "2024-10-09 04:40Z"
          },
          "scheduledTime": {
           "local": "2024-10-09 06:20+02:00",
           "utc": "2024-10-09 04:20Z"
          }
         },
         "isCargo": false,
         "number": "FR 9955",
         "status": "Arrived"
        },
        {
         "aircraft": {
          "modeS": "461F9A",
          "model": "Airbus A321-200",
          "reg": "OH-LZE"
         },
         "airline": {
          "iata": "AY",
          "icao": "FIN",
          "name": "Finnair"
         },
         "arrival": {
          "baggageBelt": "A2",
          "gate": "A33",
          "quality": [
           "Basic",
           "Live"
          ],
          "revisedTime": {
           "local": "2024-10-09 08:05+02:00",
           "utc": "2024-10-09 06:05Z"
          },
          "scheduledTime": {
           "local": "2024-10-09 08:05+02:00",
           "utc": "2024-10-09 06:05Z"
          },
          "terminal": "1"
         },
         "callSign": "FIN3AW",
         "codeshareStatus": "IsOperator",
         "departure": {
          "airport": {
           "iata": "HEL",
           "icao": "EFHK",
           "name": "Helsinki",
           "timeZone": "Europe/Helsinki"
          },
          "checkInDesk": "211",
          "gate": "27",
          "quality": [
           "Basic",
           "Live"
          ],
          "revisedTime": {
           "local": "2024-10-09 07:00+03:00",
           "utc": "2024-10-09 04:00Z"
          },
          "runway": "04R",
          "runwayTime": {
           "local": "2024-10-09 07:10+03:00",
           "utc": "2024-10-09 04:10Z"
          },
          "scheduledTime": {
           "local": "2024-10-09 07:05+03:00",
           "utc": "2024-10-09 04:05Z"
          },
          "terminal": "2"
         },
         "isCargo": false,
         "number": "AY 1431",
         "status": "Arrived"
        },
        {
         "aircraft": {
          "modeS": "4BB84F",
          "model": "Airbus A321 (Sharklets)",
          "reg": "TC-NBO"
         },
         "airline": {
          "iata": "PC",
          "icao": "PGT",
          "name": "Pegasus"
         },
         "arrival": {
          "baggageBelt": "A4",
          "gate": "X02",
          "quality": [
           "Basic",
           "Live"
          ],
          "revisedTime": {
           "local": "2024-10-09 08:08+02:00",
           "utc": "2024-10-09 06:08Z"
          },
          "scheduledTime": {
           "local": "2024-10-09 08:35+02:00",
           "utc": "2024-10-09 06:35Z"
          },
          "terminal": "1"
         },
         "callSign": "PGT4WR",
         "codeshareStatus": "IsOperator",
         "departure": {
          "airport": {
           "iata": "AYT",
           "icao": "LTAI",
           "name": "Antalya",
           "timeZone": "Europe/Istanbul"
          },
          "checkInDesk": "113-114",
          "quality": [
           "Basic",
           "Live"
          ],
          "revisedTime": {
           "local": "2024-10-09 06:05+03:00",
           "utc": "2024-10-09 03:05Z"
          },
          "scheduledTime": {
           "local": "2024-10-09 06:05+03:00",
           "utc": "2024-10-09 03:05Z"
          },
          "terminal": "1"
         },
         "isCargo": false,
         "number": "PC 5067",
         "status": "Arrived"
        },
        {
         "aircraft": {
          "modeS": "485A34",
          "model": "Boeing 737-800",
          "reg": "PH-BCK"
         },
         "airline": {
          "iata": "KL",
          "icao": "KLM",
          "name": "KLM"
         },
         "arrival": {
          "baggageBelt": "A3",
          "gate": "A32",
          "quality": [
           "Basic",
           "Live"
          ],
          "revisedTime": {
           "local": "2024-10-09 08:11+02:00",
           "utc": "2024-10-09 06:11Z"
          },
          "scheduledTime": {
           "local": "2024-10-09 08:20+02:00",
           "utc": "2024-10-09 06:20Z"
          },
          "terminal": "1"
         },
         "callSign": "KLM1771",
         "codeshareStatus": "IsOperator",
         "departure": {
          "airport": {
           "iata": "AMS",
           "icao": "EHAM",
           "name": "Amsterdam",
           "timeZone": "Europe/Amsterdam"
          },
          "checkInDesk": "6-8",
          "gate": "C6",
          "quality": [
           "Basic",
           "Live"
          ],
          "revisedTime": {
           "local": "2024-10-09 07:04+02:00",
           "utc": "2024-10-09 05:04Z"
          },
          "runway": "18L",
          "runwayTime": {
           "local": "2024-10-09 07:17+02:00",
           "utc": "2024-10-09 05:17Z"
          },
          "scheduledTime": {
           "local": "2024-10-09 07:00+02:00",
           "utc": "2024-10-09 05:00Z"
          },
          "terminal": "1"
         },
         "isCargo": false,
         "number": "KL 1771",
         "status": "Arrived"
        },
        {
         "aircraft": {
          "modeS": "48C2A6",
          "model": "Boeing 737 MAX 8",
          "reg": "SP-RZG"
         },
         "airline": {
          "iata": "FR",
          "icao": "RYR",
          "name": "Ryanair"
         },
         "arrival": {
          "baggageBelt": "C1",
          "gate": "Z34",
          "quality": [
           "Basic",
           "Live"
          ],
          "revisedTime": {
           "local": "2024-10-09 08:15+02:00",
           "utc": "2024-10-09 06:15Z"
          },
          "scheduledTime": {
           "local": "2024-10-09 08:40+02:00",
           "utc": "2024-10-09 06:40Z"
          },
          "terminal": "2"
         },
         "callSign": "RYR5W",
         "codeshareStatus": "IsOperator",
         "departure": {
          "airport": {
           "iata": "DBV",
           "icao": "LDDU",
           "name": "Dubrovnik",
           "timeZone": "Europe/Zagreb"
          },
          "quality": [
           "Basic"
          ],
          "scheduledTime": {
           "local": "2024-10-09 06:30+02:00",
           "utc": "2024-10-09 04:30Z"
          }
         },
         "isCargo": false,
         "number": "FR 5979",
         "status": "Arrived"
        },
        {
         "aircraft": {
          "modeS": "4409C0",
          "model": "Airbus A320",
          "reg": "OE-IVA"
         },
         "airline": {
          "iata": "EC",
          "icao": "EJU",
          "name": "EasyJet Europe"
         },
         "arrival": {
          "baggageBelt": "A3",
          "gate": "A35",
          "quality": [
           "Basic",
           "Live"
          ],
          "revisedTime": {
           "local": "2024-10-09 08:17+02:00",
           "utc": "2024-10-09 06:17Z"
          },
          "scheduledTime": {
           "local": "2024-10-09 08:35+02:00",
           "utc": "2024-10-09 06:35Z"
          },
          "terminal": "1"
         },
         "callSign": "EJU5068",
         "codeshareStatus": "IsCodeshared",
         "departure": {
          "airport": {
           "iata": "LIN",
           "icao": "LIML",
           "name": "Milan",
           "timeZone": "Europe/Rome"
          },
          "quality": [
           "Basic",
           "Live"
          ],
          "revisedTime": {
           "local": "2024-10-09 07:05+02:00",
           "utc": "2024-10-09 05:05Z"
          },
          "runway": "36",
          "runwayTime": {
           "local": "2024-10-09 07:05+02:00",
           "utc": "2024-10-09 05:05Z"
          },
          "scheduledTime": {
           "local": "2024-10-09 07:05+02:00",
           "utc": "2024-10-09 05:05Z"
          }
         },
         "isCargo": false,
         "number": "EC 5068",
         "status": "Arrived"
        },
        {
         "aircraft": {
          "modeS": "4409C0",
          "model": "Airbus A320",
          "reg": "OE-IVA"
         },
         "airline": {
          "iata": "U2",
          "icao": "EZY",
          "name": "easyJet"
         },
         "arrival": {
          "baggageBelt": "A3",
          "gate": "A35",
          "quality": [
           "Basic",
           "Live"
          ],
          "revisedTime": {
           "local": "2024-10-09 08:17+02:00",
           "utc": "2024-10-09 06:17Z"
          },
          "scheduledTime": {
           "local": "2024-10-09 08:35+02:00",
           "utc": "2024-10-09 06:35Z"
          },
          "terminal": "1"
         },
         "callSign": "EZY5068",
         "codeshareStatus": "IsOperator",
         "departure": {
          "airport": {
           "iata": "LIN",
           "icao": "LIML",
           "name": "Milan",
           "timeZone": "Europe/Rome"
          },
          "quality": [
           "Basic",
           "Live"
          ],
          "revisedTime": {
           "local": "2024-10-09 07:05+02:00",
           "utc": "2024-10-09 05:05Z"
          },
          "runway": "36",
          "runwayTime": {
           "local": "2024-10-09 07:05+02:00",
           "utc": "2024-10-09 05:05Z"
          },
          "scheduledTime": {
           "local": "2024-10-09 07:05+02:00",
           "utc": "2024-10-09 05:05Z"
          }
         },
         "isCargo": false,
         "number": "U2 5068",
         "status": "Arrived"
        },
        {
         "aircraft": {
          "modeS": "4D24B1",
          "model": "Airbus A321 NEO",
          "reg": "9H-WDF"
         },
         "airline": {
          "iata": "W6",
          "icao": "WZZ",
          "name": "Wizz Air"
         },
         "arrival": {
          "baggageBelt": "C3",
          "gate": "Z42",
          "quality": [
           "Basic",
           "Live"
          ],
          "revisedTime": {
           "local": "2024-10-09 08:20+02:00",
           "utc": "2024-10-09 06:20Z"
          },
          "scheduledTime": {
           "local": "2024-10-09 08:30+02:00",
           "utc": "2024-10-09 06:30Z"
          },
          "terminal": "2"
         },
         "codeshareStatus": "IsOperator",
         "departure": {
          "airport": {
           "iata": "KUT",
           "icao": "UGKO",
           "name": "Kutaisi",
           "timeZone": "Asia/Tbilisi"
          },
          "quality": [
           "Basic"
          ],
          "scheduledTime": {
           "local": "2024-10-09 06:20+04:00",
           "utc": "2024-10-09 02:20Z"
          }
         },
         "isCargo": false,
         "number": "W6 7909",
         "status": "Arrived"
        },
        {
         "aircraft": {
          "modeS": "711568",
          "model": "Airbus A320 NEO",
          "reg": "HZ-NS78"
         },
         "airline": {
          "iata": "XY",
          "icao": "KNE",
          "name": "flynas"
         },
         "arrival": {
          "baggageBelt": "A2",
          "gate": "X17",
          "quality": [
           "Basic",
           "Live"
          ],
          "revisedTime": {
           "local": "2024-10-09 08:28+02:00",
           "utc": "2024-10-09 06:28Z"
          },
          "runwayTime": {
           "local": "2024-10-09 08:37+02:00",
           "utc": "2024-10-09 06:37Z"
          },
          "scheduledTime": {
           "local": "2024-10-09 08:45+02:00",
           "utc": "2024-10-09 06:45Z"
          },
          "terminal": "1"
         },
         "callSign": "KNE643",
         "codeshareStatus": "IsOperator",
         "departure": {
          "airport": {
           "iata": "JED",
           "icao": "OEJN",
           "name": "Jeddah",
           "timeZone": "Asia/Riyadh"
          },
          "quality": [
           "Basic"
          ],
          "scheduledTime": {
           "local": "2024-10-09 03:55+03:00",
           "utc": "2024-10-09 00:55Z"
          },
          "terminal": "1"
         },
         "isCargo": false,
         "number": "XY 643",
         "status": "Arrived"
        },
        {
         "aircraft": {
          "modeS": "44083C",
          "model": "Airbus A320 (Sharklets)",
          "reg": "OE-IJQ"
         },
         "airline": {
          "iata": "U2",
          "icao": "EZY",
          "name": "easyJet"
         },
         "arrival": {
          "baggageBelt": "A1",
          "gate": "A34",
          "quality": [
           "Basic",
           "Live"
          ],
          "revisedTime": {
           "local": "2024-10-09 08:46+02:00",
           "utc": "2024-10-09 06:46Z"
          },
          "scheduledTime": {
           "local": "2024-10-09 08:50+02:00",
           "utc": "2024-10-09 06:50Z"
          },
          "terminal": "1"
         },
         "callSign": "EJU42RU",
         "codeshareStatus": "IsOperator",
         "departure": {
          "airport": {
           "iata": "ORY",
           "icao": "LFPO",
           "name": "Paris",
           "timeZone": "Europe/Paris"
          },
          "quality": [
           "Basic"
          ],
          "scheduledTime": {
           "local": "2024-10-09 07:10+02:00",
           "utc": "2024-10-09 05:10Z"
          },
          "terminal": "1"
         },
         "isCargo": false,
         "number": "U2 4897",
         "status": "Arrived"
        },
        {
         "aircraft": {
          "modeS": "44083C",
          "model": "Airbus A320 (Sharklets)",
          "reg": "OE-IJQ"
         },
         "airline": {
          "iata": "EC",
          "icao": "EJU",
          "name": "EasyJet Europe"
         },
         "arrival": {
          "baggageBelt": "A1",
          "gate": "A34",
          "quality": [
           "Basic",
           "Live"
          ],
          "revisedTime": {
           "local": "2024-10-09 08:46+02:00",
           "utc": "2024-10-09 06:46Z"
          },
          "scheduledTime": {
           "local": "2024-10-09 08:50+02:00",
           "utc": "2024-10-09 06:50Z"
          },
          "terminal": "1"
         },
         "callSign": "EJU42RU",
         "codeshareStatus": "IsCodeshared",
         "departure": {
          "airport": {
           "iata": "ORY",
           "icao": "LFPO",
           "name": "Paris",
           "timeZone": "Europe/Paris"
          },
          "quality": [
           "Basic"
          ],
          "scheduledTime": {
           "local": "2024-10-09 07:10+02:00",
           "utc": "2024-10-09 05:10Z"
          },
          "terminal": "1"
         },
         "isCargo": false,
         "number": "EC 4897",
         "status": "Arrived"
        },
        {
         "aircraft": {
          "modeS": "44056B",
          "model": "Airbus A319",
          "reg": "OE-LKD"
         },
         "airline": {
          "iata": "U2",
          "icao": "EZY",
          "name": "easyJet"
         },
         "arrival": {
          "baggageBelt": "A1",
          "gate": "A38",
          "quality": [
           "Basic",
           "Live"
          ],
          "revisedTime": {
           "local": "2024-10-09 08:48+02:00",
           "utc": "2024-10-09 06:48Z"
          },
          "scheduledTime": {
           "local": "2024-10-09 08:55+02:00",
           "utc": "2024-10-09 06:55Z"
          },
          "terminal": "1"
         },
         "callSign": "EJU82KJ",
         "codeshareStatus": "IsOperator",
         "departure": {
          "airport": {
           "iata": "VCE",
           "icao": "LIPZ",
           "name": "Venice",
           "timeZone": "Europe/Rome"
          },
          "quality": [
           "Basic",
           "Live"
          ],
          "revisedTime": {
           "local": "2024-10-09 07:25+02:00",
           "utc": "2024-10-09 05:25Z"
          },
          "runway": "04R",
          "runwayTime": {
           "local": "2024-10-09 07:25+02:00",
           "utc": "2024-10-09 05:25Z"
          },
          "scheduledTime": {
           "local": "2024-10-09 07:10+02:00",
           "utc": "2024-10-09 05:10Z"
          }
         },
         "isCargo": false,
         "number": "U2 4075",
         "status": "Arrived"
        },
        {
         "aircraft": {
          "modeS": "44056B",
          "model": "Airbus A319",
          "reg": "OE-LKD"
         },
         "airline": {
          "iata": "EC",
          "icao": "EJU",
          "name": "EasyJet Europe"
         },
         "arrival": {
          "baggageBelt": "A1",
          "gate": "A38",
          "quality": [
           "Basic",
           "Live"
          ],
          "revisedTime": {
           "local": "2024-10-09 08:48+02:00",
           "utc": "2024-10-09 06:48Z"
          },
          "scheduledTime": {
           "local": "2024-10-09 08:55+02:00",
           "utc": "2024-10-09 06:55Z"
          },
          "terminal": "1"
         },
         "callSign": "EJU82KJ",
         "codeshareStatus": "IsCodeshared",
         "departure": {
          "airport": {
           "iata": "VCE",
           "icao": "LIPZ",
           "name": "Venice",
           "timeZone": "Europe/Rome"
          },
          "quality": [
           "Basic",
           "Live"
          ],
          "revisedTime": {
           "local": "2024-10-09 07:25+02:00",
           "utc": "2024-10-09 05:25Z"
          },
          "runway": "04R",
          "runwayTime": {
           "local": "2024-10-09 07:25+02:00",
           "utc": "2024-10-09 05:25Z"
          },
          "scheduledTime": {
           "local": "2024-10-09 07:10+02:00",
           "utc": "2024-10-09 05:10Z"
          }
         },
         "isCargo": false,
         "number": "EC 4075",
         "status": "Arrived"
        },
        {
         "aircraft": {
          "modeS": "47A50D",
          "model": "Boeing 737-800",
          "reg": "LN-ENM"
         },
         "airline": {
          "iata": "DY",
          "icao": "NOZ",
          "name": "Norwegian Air Shuttle"
         },
         "arrival": {
          "baggageBelt": "C1",
          "gate": "Z32",
          "quality": [
           "Basic",
           "Live"
          ],
          "revisedTime": {
           "local": "2024-10-09 08:55+02:00",
           "utc": "2024-10-09 06:55Z"
          },
          "scheduledTime": {
           "local": "2024-10-09 09:05+02:00",
           "utc": "2024-10-09 07:05Z"
          },
          "terminal": "2"
         },
         "callSign": "NOZ2XM",
         "codeshareStatus": "IsOperator",
         "departure": {
          "airport": {
           "iata": "OSL",
           "icao": "ENGM",
           "name": "Oslo",
           "timeZone": "Europe/Oslo"
          },
          "checkInDesk": "123",
          "gate": "D3",
          "quality": [
           "Basic",
           "Live"
          ],
          "revisedTime": {
           "local": "2024-10-09 07:17+02:00",
           "utc": "2024-10-09 05:17Z"
          },
          "runway": "01L",
          "runwayTime": {
           "local": "2024-10-09 07:31+02:00",
           "utc": "2024-10-09 05:31Z"
          },
          "scheduledTime": {
           "local": "2024-10-09 07:30+02:00",
           "utc": "2024-10-09 05:30Z"
          }
         },
         "isCargo": false,
         "number": "DY 1102",
         "status": "Arrived"
        },
        {
         "aircraft": {
          "modeS": "3C6675",
          "model": "Airbus A321",
          "reg": "D-AISU"
         },
         "airline": {
          "iata": "LH",
          "icao": "DLH",
          "name": "Lufthansa"
         },
         "arrival": {
          "baggageBelt": "B4",
          "gate": "B07",
          "quality": [
           "Basic",
           "Live"
          ],
          "revisedTime": {
           "local": "2024-10-09 08:58+02:00",
           "utc": "2024-10-09 06:58Z"
          },
          "scheduledTime": {
           "local": "2024-10-09 08:55+02:00",
           "utc": "2024-10-09 06:55Z"
          },
          "terminal": "1"
         },
         "callSign": "DLH2CK",
         "codeshareStatus": "IsOperator",
         "departure": {
          "airport": {
           "iata": "FRA",
           "icao": "EDDF",
           "name": "Frankfurt-am-Main",
           "timeZone": "Europe/Berlin"
          },
          "checkInDesk": "259-335",
          "gate": "A14",
          "quality": [
           "Basic",
           "Live"
          ],
          "revisedTime": {
           "local": "2024-10-09 08:00+02:00",
           "utc": "2024-10-09 06:00Z"
          },
          "scheduledTime": {
           "local": "2024-10-09 07:45+02:00",
           "utc": "2024-10-09 05:45Z"
          },
          "terminal": "1"
         },
         "isCargo": false,
         "number": "LH 174",
         "status": "Arrived"
        },
        {
         "aircraft": {
          "modeS": "398E25",
          "model": "Airbus A320",
          "reg": "F-HDRF"
         },
         "airline": {
          "iata": "AF",
          "icao": "AFR",
          "name": "Air France"
         },
         "arrival": {
          "baggageBelt": "A3",
          "gate": "A30",
          "quality": [
           "Basic",
           "Live"
          ],
          "revisedTime": {
           "local": "2024-10-09 08:59+02:00",
           "utc": "2024-10-09 06:59Z"
          },
          "scheduledTime": {
           "local": "2024-10-09 08:55+02:00",
           "utc": "2024-10-09 06:55Z"
          },
          "terminal": "1"
         },
         "callSign": "AFR95ZE",
         "codeshareStatus": "IsOperator",
         "departure": {
          "airport": {
           "iata": "CDG",
           "icao": "LFPG",
           "name": "Paris",
           "timeZone": "Europe/Paris"
          },
          "quality": [
           "Basic",
           "Live"
          ],
          "revisedTime": {
           "local": "2024-10-09 07:48+02:00",
           "utc": "2024-10-09 05:48Z"
          },
          "runway": "27L",
          "runwayTime": {
           "local": "2024-10-09 07:48+02:00",
           "utc": "2024-10-09 05:48Z"
          },
          "scheduledTime": {
           "local": "2024-10-09 07:15+02:00",
           "utc": "2024-10-09 05:15Z"
          },
          "terminal": "2F"
         },
         "isCargo": false,
         "number": "AF 1434",
         "status": "Arrived"
        },
        {
         "aircraft": {
          "modeS": "3C6445",
          "model": "Airbus A319",
          "reg": "D-AIBE"
         },
         "airline": {
          "iata": "LH",
          "icao": "DLH",
          "name": "Lufthansa"
         },
         "arrival": {
          "baggageBelt": "B4",
          "gate": "B03",
          "quality": [
           "Basic",
           "Live"
          ],
          "revisedTime": {
           "local": "2024-10-09 09:01+02:00",
           "utc": "2024-10-09 07:01Z"
          },
          "scheduledTime": {
           "local": "2024-10-09 09:05+02:00",
           "utc": "2024-10-09 07:05Z"
          },
          "terminal": "1"
         },
         "codeshareStatus": "IsOperator",
         "departure": {
          "airport": {
           "iata": "MUC",
           "icao": "EDDM",
           "name": "Munich",
           "timeZone": "Europe/Berlin"
          },
          "quality": [
           "Basic",
           "Live"
          ],
          "revisedTime": {
           "local": "2024-10-09 08:00+02:00",
           "utc": "2024-10-09 06:00Z"
          },
          "scheduledTime": {
           "local": "2024-10-09 08:00+02:00",
           "utc": "2024-10-09 06:00Z"
          },
          "terminal": "2"
         },
         "isCargo": false,
         "number": "LH 1930",
         "status": "Arrived"
        },
        {
         "aircraft": {
          "modeS": "4D2384",
          "model": "Boeing 737-800",
          "reg": "9H-VUW"
         },
         "airline": {
          "iata": "FR",
          "icao": "RYR",
          "name": "Ryanair"
         },
         "arrival": {
          "baggageBelt": "C2",
          "gate": "Z36",
          "quality": [
           "Basic",
           "Live"
          ],
          "revisedTime": {
           "local": "2024-10-09 09:02+02:00",
           "utc": "2024-10-09 07:02Z"
          },
          "scheduledTime": {
           "local": "2024-10-09 09:10+02:00",
           "utc": "2024-10-09 07:10Z"
          },
          "terminal": "2"
         },
         "callSign": "RYR63SZ",
         "codeshareStatus": "IsOperator",
         "departure": {
          "airport": {
           "iata": "BGY",
           "icao": "LIME",
           "name": "Bergamo",
           "timeZone": "Europe/Rome"
          },
          "quality": [
           "Basic",
           "Live"
          ],
          "revisedTime": {
           "local": "2024-10-09 07:43+02:00",
           "utc": "2024-10-09 05:43Z"
          },
          "runwayTime": {
           "local": "2024-10-09 07:43+02:00",
           "utc": "2024-10-09 05:43Z"
          },
          "scheduledTime": {
           "local": "2024-10-09 07:30+02:00",
           "utc": "2024-10-09 05:30Z"
          }
         },
         "isCargo": false,
         "number": "FR 4733",
         "status": "Arrived"
        },
        {
         "aircraft": {
          "modeS": "4BA9EA",
          "model": "Airbus A330",
          "reg": "TC-JOJ"
         },
         "airline": {
          "iata": "TK",
          "icao": "THY",
          "name": "Turkish"
         },
         "arrival": {
          "baggageBelt": "A3",
          "gate": "X03",
          "quality": [
           "Basic",
           "Live"
          ],
          "revisedTime": {
           "local": "2024-10-09 09:04+02:00",
           "utc": "2024-10-09 07:04Z"
          },
          "runwayTime": {
           "local": "2024-10-09 09:12+02:00",
           "utc": "2024-10-09 07:12Z"
          },
          "scheduledTime": {
           "local": "2024-10-09 09:20+02:00",
           "utc": "2024-10-09 07:20Z"
          },
          "terminal": "1"
         },
         "callSign": "THY3CS",
         "codeshareStatus": "IsOperator",
         "departure": {
          "airport": {
           "iata": "IST",
           "icao": "LTFM",
           "name": "Istanbul",
           "timeZone": "Europe/Istanbul"
          },
          "checkInDesk": "E-F",
          "gate": "B10",
          "quality": [
           "Basic",
           "Live"
          ],
          "revisedTime": {
           "local": "2024-10-09 07:30+03:00",
           "utc": "2024-10-09 04:30Z"
          },
          "scheduledTime": {
           "local": "2024-10-09 07:30+03:00",
           "utc": "2024-10-09 04:30Z"
          }
         },
         "isCargo": false,
         "number": "TK 1721",
         "status": "Arrived"
        },
        {
         "aircraft": {
          "modeS": "440713",
          "model": "Airbus A320",
          "reg": "OE-IJE"
         },
         "airline": {
          "iata": "EC",
          "icao": "EJU",
          "name": "EasyJet Europe"
         },
         "arrival": {
          "baggageBelt": "A2",
          "gate": "A33",
          "quality": [
           "Basic",
           "Live"
          ],
          "revisedTime": {
           "local": "2024-10-09 09:07+02:00",
           "utc": "2024-10-09 07:07Z"
          },
          "runwayTime": {
           "local": "2024-10-09 09:14+02:00",
           "utc": "2024-10-09 07:14Z"
          },
          "scheduledTime": {
           "local": "2024-10-09 09:20+02:00",
           "utc": "2024-10-09 07:20Z"
          },
          "terminal": "1"
         },
         "callSign": "EJU4265",
         "codeshareStatus": "IsCodeshared",
         "departure": {
          "airport": {
           "iata": "NAP",
           "icao": "LIRN",
           "name": "Nápoli",
           "timeZone": "Europe/Rome"
          },
          "quality": [
           "Basic",
           "Live"
          ],
          "revisedTime": {
           "local": "2024-10-09 07:19+02:00",
           "utc": "2024-10-09 05:19Z"
          },
          "runwayTime": {
           "local": "2024-10-09 07:19+02:00",
           "utc": "2024-10-09 05:19Z"
          },
          "scheduledTime": {
           "local": "2024-10-09 07:00+02:00",
           "utc": "2024-10-09 05:00Z"
          }
         },
         "isCargo": false,
         "number": "EC 4265",
         "status": "Arrived"
        },
        {
         "aircraft": {
          "modeS": "440713",
          "model": "Airbus A320",
          "reg": "OE-IJE"
         },
         "airline": {
          "iata": "U2",
          "icao": "EZY",
          "name": "easyJet"
         },
         "arrival": {
          "baggageBelt": "A2",
          "gate": "A33",
          "quality": [
           "Basic",
           "Live"
          ],
          "revisedTime": {
           "local": "2024-10-09 09:07+02:00",
           "utc": "2024-10-09 07:07Z"
          },
          "runwayTime": {
           "local": "2024-10-09 09:14+02:00",
           "utc": "2024-10-09 07:14Z"
          },
          "scheduledTime": {
           "local": "2024-10-09 09:20+02:00",
           "utc": "2024-10-09 07:20Z"
          },
          "terminal": "1"
         },
         "callSign": "EJU4265",
         "codeshareStatus": "IsOperator",
         "departure": {
          "airport": {
           "iata": "NAP",
           "icao": "LIRN",
           "name": "Nápoli",
           "timeZone": "Europe/Rome"
          },
          "quality": [
           "Basic",
           "Live"
          ],
          "revisedTime": {
           "local": "2024-10-09 07:19+02:00",
           "utc": "2024-10-09 05:19Z"
          },
          "runwayTime": {
           "local": "2024-10-09 07:19+02:00",
           "utc": "2024-10-09 05:19Z"
          },
          "scheduledTime": {
           "local": "2024-10-09 07:00+02:00",
           "utc": "2024-10-09 05:00Z"
          }
         },
         "isCargo": false,
         "number": "U2 4265",
         "status": "Arrived"
        },
        {
         "aircraft": {
          "modeS": "738058",
          "model": "Boeing 737-800",
          "reg": "4X-EKU"
         },
         "airline": {
          "iata": "LY",
          "icao": "ELY",
          "name": "El Al"
         },
         "arrival": {
          "baggageBelt": "A4",
          "gate": "X19",
          "quality": [
           "Basic",
           "Live"
          ],
          "revisedTime": {
           "local": "2024-10-09 09:08+02:00",
           "utc": "2024-10-09 07:08Z"
          },
          "scheduledTime": {
           "local": "2024-10-09 09:40+02:00",
           "utc": "2024-10-09 07:40Z"
          },
          "terminal": "1"
         },
         "callSign": "ELY2371",
         "codeshareStatus": "IsOperator",
         "departure": {
          "airport": {
           "iata": "TLV",
           "icao": "LLBG",
           "name": "Tel Aviv Yafo",
           "timeZone": "Asia/Jerusalem"
          },
          "quality": [
           "Basic",
           "Live"
          ],
          "revisedTime": {
           "local": "2024-10-09 06:30+03:00",
           "utc": "2024-10-09 03:30Z"
          },
          "runway": "26",
          "runwayTime": {
           "local": "2024-10-09 06:30+03:00",
           "utc": "2024-10-09 03:30Z"
          },
          "scheduledTime": {
           "local": "2024-10-09 06:20+03:00",
           "utc": "2024-10-09 03:20Z"
          },
          "terminal": "3"
         },
         "isCargo": false,
         "number": "LY 2371",
         "status": "Arrived"
        },
        {
         "aircraft": {
          "modeS": "4010EC",
          "model": "Airbus A319",
          "reg": "G-EZBX"
         },
         "airline": {
          "iata": "U2",
          "icao": "EZY",
          "name": "easyJet"
         },
         "arrival": {
          "baggageBelt": "B3",
          "gate": "N01",
          "quality": [
           "Basic",
           "Live"
          ],
          "revisedTime": {
           "local": "2024-10-09 09:15+02:00",
           "utc": "2024-10-09 07:15Z"
          },
          "scheduledTime": {
           "local": "2024-10-09 09:35+02:00",
           "utc": "2024-10-09 07:35Z"
          },
          "terminal": "1"
         },
         "callSign": "EZY19TC",
         "codeshareStatus": "IsOperator",
         "departure": {
          "airport": {
           "iata": "LGW",
           "icao": "EGKK",
           "name": "London",
           "timeZone": "Europe/London"
          },
          "quality": [
           "Basic",
           "Live"
          ],
          "revisedTime": {
           "local": "2024-10-09 06:51+01:00",
           "utc": "2024-10-09 05:51Z"
          },
          "runway": "26L",
          "runwayTime": {
           "local": "2024-10-09 06:52+01:00",
           "utc": "2024-10-09 05:52Z"
          },
          "scheduledTime": {
           "local": "2024-10-09 06:40+01:00",
           "utc": "2024-10-09 05:40Z"
          },
          "terminal": "N"
         },
         "isCargo": false,
         "number": "U2 8629",
         "status": "Arrived"
        },
        {
         "aircraft": {
          "modeS": "440CF8",
          "model": "Airbus A320",
          "reg": "OE-IBF"
         },
         "airline": {
          "iata": "EC",
          "icao": "EJU",
          "name": "EasyJet Europe"
         },
         "arrival": {
          "baggageBelt": "A1",
          "gate": "A32",
          "quality": [
           "Basic",
           "Live"
          ],
          "revisedTime": {
           "local": "2024-10-09 09:32+02:00",
           "utc": "2024-10-09 07:32Z"
          },
          "scheduledTime": {
           "local": "2024-10-09 09:40+02:00",
           "utc": "2024-10-09 07:40Z"
          },
          "terminal": "1"
         },
         "callSign": "EJU73MR",
         "codeshareStatus": "IsCodeshared",
         "departure": {
          "airport": {
           "iata": "ZRH",
           "icao": "LSZH",
           "name": "Zurich",
           "timeZone": "Europe/Zurich"
          },
          "checkInDesk": "3",
          "gate": "A84",
          "quality": [
           "Basic",
           "Live"
          ],
          "revisedTime": {
           "local": "2024-10-09 08:05+02:00",
           "utc": "2024-10-09 06:05Z"
          },
          "runway": "28",
          "runwayTime": {
           "local": "2024-10-09 08:29+02:00",
           "utc": "2024-10-09 06:29Z"
          },
          "scheduledTime": {
           "local": "2024-10-09 08:05+02:00",
           "utc": "2024-10-09 06:05Z"
          }
         },
         "isCargo": false,
         "number": "EC 5188",
         "status": "Arrived"
        },
        {
         "aircraft": {
          "modeS": "440CF8",
          "model": "Airbus A320",
          "reg": "OE-IBF"
         },
         "airline": {
          "iata": "U2",
          "icao": "EZY",
          "name": "easyJet"
         },
         "arrival": {
          "baggageBelt": "A1",
          "gate": "A32",
          "quality": [
           "Basic",
           "Live"
          ],
          "revisedTime": {
           "local": "2024-10-09 09:32+02:00",
           "utc": "2024-10-09 07:32Z"
          },
          "scheduledTime": {
           "local": "2024-10-09 09:40+02:00",
           "utc": "2024-10-09 07:40Z"
          },
          "terminal": "1"
         },
         "callSign": "EJU73MR",
         "codeshareStatus": "IsOperator",
         "departure": {
          "airport": {
           "iata": "ZRH",
           "icao": "LSZH",
           "name": "Zurich",
           "timeZone": "Europe/Zurich"
          },
          "checkInDesk": "3",
          "gate": "A84",
          "quality": [
           "Basic",
           "Live"
          ],
          "revisedTime": {
           "local": "2024-10-09 08:05+02:00",
           "utc": "2024-10-09 06:05Z"
          },
          "runway": "28",
          "runwayTime": {
           "local": "2024-10-09 08:29+02:00",
           "utc": "2024-10-09 06:29Z"
          },
          "scheduledTime": {
           "local": "2024-10-09 08:05+02:00",
           "utc": "2024-10-09 06:05Z"
          }
         },
         "isCargo": false,
         "number": "U2 5188",
         "status": "Arrived"
        },
        {
         "aircraft": {
          "modeS": "3C48EA",
          "model": "Airbus A319",
          "reg": "D-ABGJ"
         },
         "airline": {
          "iata": "EW",
          "icao": "EWG",
          "name": "Eurowings"
         },
         "arrival": {
          "baggageBelt": "B1",
          "gate": "A37",
          "quality": [
           "Basic",
           "Live"
          ],
          "revisedTime": {
           "local": "2024-10-09 09:35+02:00",
           "utc": "2024-10-09 07:35Z"
          },
          "scheduledTime": {
           "local": "2024-10-09 09:20+02:00",
           "utc": "2024-10-09 07:20Z"
          },
          "terminal": "1"
         },
         "codeshareStatus": "IsOperator",
         "departure": {
          "airport": {
           "iata": "CGN",
           "icao": "EDDK",
           "name": "Cologne",
           "timeZone": "Europe/Berlin"
          },
          "quality": [
           "Basic"
          ],
          "scheduledTime": {
           "local": "2024-10-09 08:10+02:00",
           "utc": "2024-10-09 06:10Z"
          },
          "terminal": "1"
         },
         "isCargo": false,
         "number": "EW 8059",
         "status": "Arrived"
        },
        {
         "aircraft": {
          "modeS": "503D40",
          "model": "Airbus A320",
          "reg": "LY-FAS"
         },
         "airline": {
          "iata": "VY",
          "icao": "VLG",
          "name": "Vueling"
         },
         "arrival": {
          "baggageBelt": "C3",
          "gate": "Z36",
          "quality": [
           "Basic",
           "Live"
          ],
          "revisedTime": {
           "local": "2024-10-09 09:37+02:00",
           "utc": "2024-10-09 07:37Z"
          },
          "scheduledTime": {
           "local": "2024-10-09 10:00+02:00",
           "utc": "2024-10-09 08:00Z"
          },
          "terminal": "2"
         },
         "callSign": "VLG40LK",
         "codeshareStatus": "IsOperator",
         "departure": {
          "airport": {
           "iata": "BCN",
           "icao": "LEBL",
           "name": "Barcelona",
           "timeZone": "Europe/Madrid"
          },
          "checkInDesk": "501-514",
          "gate": "A12",
          "quality": [
           "Basic",
           "Live"
          ],
          "revisedTime": {
           "local": "2024-10-09 07:25+02:00",
           "utc": "2024-10-09 05:25Z"
          },
          "runwayTime": {
           "local": "2024-10-09 07:41+02:00",
           "utc": "2024-10-09 05:41Z"
          },
          "scheduledTime": {
           "local": "2024-10-09 07:15+02:00",
           "utc": "2024-10-09 05:15Z"
          },
          "terminal": "1"
         },
         "isCargo": false,
         "number": "VY 1882",
         "status": "Arrived"
        },
        {
         "aircraft": {
          "modeS": "40631B",
          "model": "Airbus A319",
          "reg": "G-EZFW"
         },
         "airline": {
          "iata": "U2",
          "icao": "EZY",
          "name": "easyJet"
         },
         "arrival": {
          "baggageBelt": "B3",
          "gate": "N01",
          "quality": [
           "Basic",
           "Live"
          ],
          "revisedTime": {
           "local": "2024-10-09 09:39+02:00",
           "utc": "2024-10-09 07:39Z"
          },
          "scheduledTime": {
           "local": "2024-10-09 09:40+02:00",
           "utc": "2024-10-09 07:40Z"
          },
          "terminal": "1"
         },
         "callSign": "EZY78LH",
         "codeshareStatus": "IsOperator",
         "departure": {
          "airport": {
           "iata": "LTN",
           "icao": "EGGW",
           "name": "London",
           "timeZone": "Europe/London"
          },
          "checkInDesk": "44-61",
          "quality": [
           "Basic",
           "Live"
          ],
          "revisedTime": {
           "local": "2024-10-09 06:55+01:00",
           "utc": "2024-10-09 05:55Z"
          },
          "runway": "26",
          "runwayTime": {
           "local": "2024-10-09 07:19+01:00",
           "utc": "2024-10-09 06:19Z"
          },
          "scheduledTime": {
           "local": "2024-10-09 06:55+01:00",
           "utc": "2024-10-09 05:55Z"
          }
         },
         "isCargo": false,
         "number": "U2 2603",
         "status": "Arrived"
        },
        {
         "aircraft": {
          "modeS": "440735",
          "model": "Airbus A319",
          "reg": "OE-LQS"
         },
         "airline": {
          "iata": "U2",
          "icao": "EZY",
          "name": "easyJet"
         },
         "arrival": {
          "baggageBelt": "A2",
          "gate": "A36",
          "quality": [
           "Basic",
           "Live"
          ],
          "revisedTime": {
           "local": "2024-10-09 09:42+02:00",
           "utc": "2024-10-09 07:42Z"
          },
          "runwayTime": {
           "local": "2024-10-09 09:49+02:00",
           "utc": "2024-10-09 07:49Z"
          },
          "scheduledTime": {
           "local": "2024-10-09 09:45+02:00",
           "utc": "2024-10-09 07:45Z"
          },
          "terminal": "1"
         },
         "callSign": "EJU53MB",
         "codeshareStatus": "IsOperator",
         "departure": {
          "airport": {
           "iata": "PMI",
           "icao": "LEPA",
           "name": "Palma De Mallorca",
           "timeZone": "Europe/Madrid"
          },
          "checkInDesk": "078-085",
          "gate": "C52",
          "quality": [
           "Basic",
           "Live"
          ],
          "revisedTime": {
           "local": "2024-10-09 07:10+02:00",
           "utc": "2024-10-09 05:10Z"
          },
          "runwayTime": {
           "local": "2024-10-09 07:29+02:00",
           "utc": "2024-10-09 05:29Z"
          },
          "scheduledTime": {
           "local": "2024-10-09 07:00+02:00",
           "utc": "2024-10-09 05:00Z"
          },
          "terminal": "N"
         },
         "isCargo": false,
         "number": "U2 7333",
         "status": "Arrived"
        },
        {
         "aircraft": {
          "modeS": "440735",
          "model": "Airbus A319",
          "reg": "OE-LQS"
         },
         "airline": {
          "iata": "EC",
          "icao": "EJU",
          "name": "EasyJet Europe"
         },
         "arrival": {
          "baggageBelt": "A2",
          "gate": "A36",
          "quality": [
           "Basic",
           "Live"
          ],
          "revisedTime": {
           "local": "2024-10-09 09:42+02:00",
           "utc": "2024-10-09 07:42Z"
          },
          "runwayTime": {
           "local": "2024-10-09 09:49+02:00",
           "utc": "2024-10-09 07:49Z"
          },
          "scheduledTime": {
           "local": "2024-10-09 09:45+02:00",
           "utc": "2024-10-09 07:45Z"
          },
          "terminal": "1"
         },
         "callSign": "EJU53MB",
         "codeshareStatus": "IsCodeshared",
         "departure": {
          "airport": {
           "iata": "PMI",
           "icao": "LEPA",
           "name": "Palma De Mallorca",
           "timeZone": "Europe/Madrid"
          },
          "checkInDesk": "078-085",
          "gate": "C52",
          "quality": [
           "Basic",
           "Live"
          ],
          "revisedTime": {
           "local": "2024-10-09 07:10+02:00",
           "utc": "2024-10-09 05:10Z"
          },
          "runwayTime": {
           "local": "2024-10-09 07:29+02:00",
           "utc": "2024-10-09 05:29Z"
          },
          "scheduledTime": {
           "local": "2024-10-09 07:00+02:00",
           "utc": "2024-10-09 05:00Z"
          },
          "terminal": "N"
         },
         "isCargo": false,
         "number": "EC 7333",
         "status": "Arrived"
        },
        {
         "aircraft": {
          "modeS": "3C6634",
          "model": "Airbus A320",
          "reg": "D-AIQT"
         },
         "airline": {
          "iata": "LH",
          "icao": "DLH",
          "name": "Lufthansa"
         },
         "arrival": {
          "baggageBelt": "A4",
          "gate": "A02",
          "quality": [
           "Basic",
           "Live"
          ],
          "revisedTime": {
           "local": "2024-10-09 09:43+02:00",
           "utc": "2024-10-09 07:43Z"
          },
          "runwayTime": {
           "local": "2024-10-09 09:52+02:00",
           "utc": "2024-10-09 07:52Z"
          },
          "scheduledTime": {
           "local": "2024-10-09 09:55+02:00",
           "utc": "2024-10-09 07:55Z"
          },
          "terminal": "1"
         },
         "callSign": "DLH7PK",
         "codeshareStatus": "IsOperator",
         "departure": {
          "airport": {
           "iata": "FRA",
           "icao": "EDDF",
           "name": "Frankfurt-am-Main",
           "timeZone": "Europe/Berlin"
          },
          "checkInDesk": "259-335",
          "gate": "A13",
          "quality": [
           "Basic",
           "Live"
          ],
          "revisedTime": {
           "local": "2024-10-09 08:45+02:00",
           "utc": "2024-10-09 06:45Z"
          },
          "scheduledTime": {
           "local": "2024-10-09 08:45+02:00",
           "utc": "2024-10-09 06:45Z"
          },
          "terminal": "1"
         },
         "isCargo": false,
         "number": "LH 176",
         "status": "Arrived"
        },
        {
         "aircraft": {
          "modeS": "76BCCE",
          "model": "Boeing 787-8",
          "reg": "9V-OFN"
         },
         "airline": {
          "iata": "TV",
          "icao": "TBA",
          "name": "Tibet"
         },
         "arrival": {
          "baggageBelt": "A3",
          "gate": "X07",
          "quality": [
           "Basic",
           "Live"
          ],
          "revisedTime": {
           "local": "2024-10-09 09:56+02:00",
           "utc": "2024-10-09 07:56Z"
          },
          "scheduledTime": {
           "local": "2024-10-09 10:25+02:00",
           "utc": "2024-10-09 08:25Z"
          },
          "terminal": "1"
         },
         "codeshareStatus": "IsOperator",
         "departure": {
          "airport": {
           "iata": "ATH",
           "icao": "LGAV",
           "name": "Athens",
           "timeZone": "Europe/Athens"
          },
          "checkInDesk": "21---25",
          "gate": "A05",
          "quality": [
           "Basic",
           "Live"
          ],
          "revisedTime": {
           "local": "2024-10-09 08:42+03:00",
           "utc": "2024-10-09 05:42Z"
          },
          "scheduledTime": {
           "local": "2024-10-09 08:05+03:00",
           "utc": "2024-10-09 05:05Z"
          },
          "terminal": "I"
         },
         "isCargo": false,
         "number": "TV 720",
         "status": "Arrived"
        },
        {
         "aircraft": {
          "modeS": "4D225E",
          "model": "Boeing 737-800",
          "reg": "9H-QEP"
         },
         "airline": {
          "iata": "FR",
          "icao": "RYR",
          "name": "Ryanair"
         },
         "arrival": {
          "baggageBelt": "C2",
          "gate": "Z29",
          "quality": [
           "Basic",
           "Live"
          ],
          "revisedTime": {
           "local": "2024-10-09 09:58+02:00",
           "utc": "2024-10-09 07:58Z"
          },
          "scheduledTime": {
           "local": "2024-10-09 10:00+02:00",
           "utc": "2024-10-09 08:00Z"
          },
          "terminal": "2"
         },
         "callSign": "RYR8603",
         "codeshareStatus": "IsOperator",
         "departure": {
          "airport": {
           "iata": "REG",
           "icao": "LICR",
           "name": "Reggio Calabria",
           "timeZone": "Europe/Rome"
          },
          "quality": [
           "Basic"
          ],
          "scheduledTime": {
           "local": "2024-10-09 07:20+02:00",
           "utc": "2024-10-09 05:20Z"
          }
         },
         "isCargo": false,
         "number": "FR 8603",
         "status": "Arrived"
        },
        {
         "aircraft": {
          "modeS": "4D2235",
          "model": "Boeing 737-800",
          "reg": "9H-QDC"
         },
         "airline": {
          "iata": "FR",
          "icao": "RYR",
          "name": "Ryanair"
         },
         "arrival": {
          "baggageBelt": "C1",
          "gate": "Z33",
          "quality": [
           "Basic",
           "Live"
          ],
          "revisedTime": {
           "local": "2024-10-09 10:01+02:00",
           "utc": "2024-10-09 08:01Z"
          },
          "scheduledTime": {
           "local": "2024-10-09 09:45+02:00",
           "utc": "2024-10-09 07:45Z"
          },
          "terminal": "2"
         },
         "callSign": "RYR371B",
         "codeshareStatus": "IsOperator",
         "departure": {
          "airport": {
           "iata": "ZAD",
           "icao": "LDZD",
           "name": "Zadar",
           "timeZone": "Europe/Zagreb"
          },
          "quality": [
           "Basic"
          ],
          "scheduledTime": {
           "local": "2024-10-09 08:05+02:00",
           "utc": "2024-10-09 06:05Z"
          }
         },
         "isCargo": false,
         "number": "FR 2919",
         "status": "Arrived"
        },
        {
         "aircraft": {
          "modeS": "3C6917",
          "model": "Embraer 190",
          "reg": "D-AJHW"
         },
         "airline": {
          "iata": "KL",
          "icao": "KLM",
          "name": "KLM"
         },
         "arrival": {
          "baggageBelt": "A3",
          "gate": "A34",
          "quality": [
           "Basic",
           "Live"
          ],
          "revisedTime": {
           "local": "2024-10-09 10:02+02:00",
           "utc": "2024-10-09 08:02Z"
          },
          "scheduledTime": {
           "local": "2024-10-09 10:05+02:00",
           "utc": "2024-10-09 08:05Z"
          },
          "terminal": "1"
         },
         "callSign": "KLM31X",
         "codeshareStatus": "IsOperator",
         "departure": {
          "airport": {
           "iata": "AMS",
           "icao": "EHAM",
           "name": "Amsterdam",
           "timeZone": "Europe/Amsterdam"
          },
          "checkInDesk": "6-8",
          "gate": "B26",
          "quality": [
           "Basic",
           "Live"
          ],
          "revisedTime": {
           "local": "2024-10-09 08:49+02:00",
           "utc": "2024-10-09 06:49Z"
          },
          "runway": "24",
          "runwayTime": {
           "local": "2024-10-09 09:02+02:00",
           "utc": "2024-10-09 07:02Z"
          },
          "scheduledTime": {
           "local": "2024-10-09 08:45+02:00",
           "utc": "2024-10-09 06:45Z"
          },
          "terminal": "1"
         },
         "isCargo": false,
         "number": "KL 1773",
         "status": "Arrived"
        },
        {
         "aircraft": {
          "modeS": "4B9910",
          "model": "Airbus A320",
          "reg": "TC-FHP"
         },
         "airline": {
          "iata": "FH",
          "icao": "FHY",
          "name": "Freebird"
         },
         "arrival": {
          "baggageBelt": "B3",
          "gate": "Y06",
          "quality": [
           "Basic",
           "Live"
          ],
          "revisedTime": {
           "local": "2024-10-09 10:05+02:00",
           "utc": "2024-10-09 08:05Z"
          },
          "scheduledTime": {
           "local": "2024-10-09 10:20+02:00",
           "utc": "2024-10-09 08:20Z"
          },
          "terminal": "1"
         },
         "callSign": "FHY1281",
         "codeshareStatus": "IsOperator",
         "departure": {
          "airport": {
           "iata": "AYT",
           "icao": "LTAI",
           "name": "Antalya",
           "timeZone": "Europe/Istanbul"
          },
          "checkInDesk": "238-239",
          "quality": [
           "Basic",
           "Live"
          ],
          "revisedTime": {
           "local": "2024-10-09 08:00+03:00",
           "utc": "2024-10-09 05:00Z"
          },
          "scheduledTime": {
           "local": "2024-10-09 08:00+03:00",
           "utc": "2024-10-09 05:00Z"
          },
          "terminal": "2"
         },
         "isCargo": false,
         "number": "FH 1281",
         "status": "Arrived"
        },
        {
         "aircraft": {
          "modeS": "4CA27F",
          "model": "Airbus A320",
          "reg": "EI-DEK"
         },
         "airline": {
          "iata": "EI",
          "icao": "EIN",
          "name": "Aer Lingus"
         },
         "arrival": {
          "baggageBelt": "A1",
          "gate": "X01",
          "quality": [
           "Basic",
           "Live"
          ],
          "revisedTime": {
           "local": "2024-10-09 10:08+02:00",
           "utc": "2024-10-09 08:08Z"
          },
          "scheduledTime": {
           "local": "2024-10-09 10:00+02:00",
           "utc": "2024-10-09 08:00Z"
          },
          "terminal": "1"
         },
         "callSign": "EIN3JE",
         "codeshareStatus": "IsOperator",
         "departure": {
          "airport": {
           "iata": "DUB",
           "icao": "EIDW",
           "name": "Dublin",
           "timeZone": "Europe/Dublin"
          },
          "checkInDesk": "29-56",
          "gate": "335F",
          "quality": [
           "Basic",
           "Live"
          ],
          "revisedTime": {
           "local": "2024-10-09 06:40+01:00",
           "utc": "2024-10-09 05:40Z"
          },
          "runwayTime": {
           "local": "2024-10-09 07:17+01:00",
           "utc": "2024-10-09 06:17Z"
          },
          "scheduledTime": {
           "local": "2024-10-09 06:40+01:00",
           "utc": "2024-10-09 05:40Z"
          },
          "terminal": "2"
         },
         "isCargo": false,
         "number": "EI 332",
         "status": "Arrived"
        },
        {
         "aircraft": {
          "modeS": "4D244F",
          "model": "Airbus A320",
          "reg": "9H-MLW"
         },
         "airline": {
          "iata": "LH",
          "icao": "DLH",
          "name": "Lufthansa"
         },
         "arrival": {
          "baggageBelt": "A4",
          "gate": "A38",
          "quality": [
           "Basic",
           "Live"
          ],
          "revisedTime": {
           "local": "2024-10-09 10:11+02:00",
           "utc": "2024-10-09 08:11Z"
          },
          "scheduledTime": {
           "local": "2024-10-09 10:10+02:00",
           "utc": "2024-10-09 08:10Z"
          },
          "terminal": "1"
         },
         "callSign": "EWG30BM",
         "codeshareStatus": "IsCodeshared",
         "departure": {
          "airport": {
           "iata": "STR",
           "icao": "EDDS",
           "name": "Stuttgart",
           "timeZone": "Europe/Berlin"
          },
          "gate": "310",
          "quality": [
           "Basic",
           "Live"
          ],
          "revisedTime": {
           "local": "2024-10-09 09:00+02:00",
           "utc": "2024-10-09 07:00Z"
          },
          "runwayTime": {
           "local": "2024-10-09 09:13+02:00",
           "utc": "2024-10-09 07:13Z"
          },
          "scheduledTime": {
           "local": "2024-10-09 09:00+02:00",
           "utc": "2024-10-09 07:00Z"
          },
          "terminal": "3"
         },
         "isCargo": false,
         "number": "LH 5392",
         "status": "Arrived"
        },
        {
         "aircraft": {
          "modeS": "4D244F",
          "model": "Airbus A320",
          "reg": "9H-MLW"
         },
         "airline": {
          "iata": "EW",
          "icao": "EWG",
          "name": "Eurowings"
         },
         "arrival": {
          "baggageBelt": "A4",
          "gate": "A38",
          "quality": [
           "Basic",
           "Live"
          ],
          "revisedTime": {
           "local": "2024-10-09 10:11+02:00",
           "utc": "2024-10-09 08:11Z"
          },
          "scheduledTime": {
           "local": "2024-10-09 10:10+02:00",
           "utc": "2024-10-09 08:10Z"
          },
          "terminal": "1"
         },
         "callSign": "EWG30BM",
         "codeshareStatus": "IsOperator",
         "departure": {
          "airport": {
           "iata": "STR",
           "icao": "EDDS",
           "name": "Stuttgart",
           "timeZone": "Europe/Berlin"
          },
          "gate": "310",
          "quality": [
           "Basic",
           "Live"
          ],
          "revisedTime": {
           "local": "2024-10-09 09:00+02:00",
           "utc": "2024-10-09 07:00Z"
          },
          "runwayTime": {
           "local": "2024-10-09 09:13+02:00",
           "utc": "2024-10-09 07:13Z"
          },
          "scheduledTime": {
           "local": "2024-10-09 09:00+02:00",
           "utc": "2024-10-09 07:00Z"
          },
          "terminal": "3"
         },
         "isCargo": false,
         "number": "EW 8001",
         "status": "Arrived"
        },
        {
         "aircraft": {
          "modeS": "40095D",
          "model": "Airbus A320",
          "reg": "G-TTOB"
         },
         "airline": {
          "iata": "BA",
          "icao": "BAW",
          "name": "British Airways"
         },
         "arrival": {
          "baggageBelt": "B2",
          "gate": "Y03",
          "quality": [
           "Basic",
           "Live"
          ],
          "revisedTime": {
           "local": "2024-10-09 10:12+02:00",
           "utc": "2024-10-09 08:12Z"
          },
          "scheduledTime": {
           "local": "2024-10-09 10:20+02:00",
           "utc": "2024-10-09 08:20Z"
          },
          "terminal": "1"
         },
         "callSign": "BAW990G",
         "codeshareStatus": "IsOperator",
         "departure": {
          "airport": {
           "iata": "LHR",
           "icao": "EGLL",
           "name": "London",
           "timeZone": "Europe/London"
          },
          "checkInDesk": "D",
          "quality": [
           "Basic",
           "Live"
          ],
          "revisedTime": {
           "local": "2024-10-09 07:44+01:00",
           "utc": "2024-10-09 06:44Z"
          },
          "runway": "27L",
          "runwayTime": {
           "local": "2024-10-09 07:45+01:00",
           "utc": "2024-10-09 06:45Z"
          },
          "scheduledTime": {
           "local": "2024-10-09 07:30+01:00",
           "utc": "2024-10-09 06:30Z"
          },
          "terminal": "5"
         },
         "isCargo": false,
         "number": "BA 990",
         "status": "Arrived"
        },
        {
         "aircraft": {
          "modeS": "4B194D",
          "model": "Airbus A321 NEO",
          "reg": "HB-JPD"
         },
         "airline": {
          "iata": "LX",
          "icao": "SWR",
          "name": "SWISS"
         },
         "arrival": {
          "baggageBelt": "B1",
          "gate": "A17",
          "quality": [
           "Basic",
           "Live"
          ],
          "revisedTime": {
           "local": "2024-10-09 10:15+02:00",
           "utc": "2024-10-09 08:15Z"
          },
          "scheduledTime": {
           "local": "2024-10-09 10:05+02:00",
           "utc": "2024-10-09 08:05Z"
          },
          "terminal": "1"
         },
         "callSign": "SWR2HD",
         "codeshareStatus": "IsOperator",
         "departure": {
          "airport": {
           "iata": "ZRH",
           "icao": "LSZH",
           "name": "Zurich",
           "timeZone": "Europe/Zurich"
          },
          "checkInDesk": "1",
          "gate": "A74",
          "quality": [
           "Basic",
           "Live"
          ],
          "revisedTime": {
           "local": "2024-10-09 08:50+02:00",
           "utc": "2024-10-09 06:50Z"
          },
          "scheduledTime": {
           "local": "2024-10-09 08:40+02:00",
           "utc": "2024-10-09 06:40Z"
          }
         },
         "isCargo": false,
         "number": "LX 976",
         "status": "Arrived"
        },
        {
         "aircraft": {
          "modeS": "3C6581",
          "model": "Airbus A319",
          "reg": "D-AILA"
         },
         "airline": {
          "iata": "LH",
          "icao": "DLH",
          "name": "Lufthansa"
         },
         "arrival": {
          "baggageBelt": "B4",
          "gate": "B17",
          "quality": [
           "Basic",
           "Live"
          ],
          "revisedTime": {
           "local": "2024-10-09 10:18+02:00",
           "utc": "2024-10-09 08:18Z"
          },
          "scheduledTime": {
           "local": "2024-10-09 10:05+02:00",
           "utc": "2024-10-09 08:05Z"
          },
          "terminal": "1"
         },
         "callSign": "DLH05N",
         "codeshareStatus": "IsOperator",
         "departure": {
          "airport": {
           "iata": "MUC",
           "icao": "EDDM",
           "name": "Munich",
           "timeZone": "Europe/Berlin"
          },
          "quality": [
           "Basic",
           "Live"
          ],
          "revisedTime": {
           "local": "2024-10-09 09:00+02:00",
           "utc": "2024-10-09 07:00Z"
          },
          "runwayTime": {
           "local": "2024-10-09 09:54+02:00",
           "utc": "2024-10-09 07:54Z"
          },
          "scheduledTime": {
           "local": "2024-10-09 09:00+02:00",
           "utc": "2024-10-09 07:00Z"
          },
          "terminal": "2"
         },
         "isCargo": false,
         "number": "LH 1934",
         "status": "Arrived"
        },
        {
         "aircraft": {
          "modeS": "440D10",
          "model": "Airbus A320",
          "reg": "OE-IBS"
         },
         "airline": {
          "iata": "U2",
          "icao": "EZY",
          "name": "easyJet"
         },
         "arrival": {
          "baggageBelt": "A1",
          "gate": "A35",
          "quality": [
           "Basic",
           "Live"
          ],
          "revisedTime": {
           "local": "2024-10-09 10:20+02:00",
           "utc": "2024-10-09 08:20Z"
          },
          "runwayTime": {
           "local": "2024-10-09 10:25+02:00",
           "utc": "2024-10-09 08:25Z"
          },
          "scheduledTime": {
           "local": "2024-10-09 10:30+02:00",
           "utc": "2024-10-09 08:30Z"
          },
          "terminal": "1"
         },
         "callSign": "EJU42KM",
         "codeshareStatus": "IsOperator",
         "departure": {
          "airport": {
           "iata": "AMS",
           "icao": "EHAM",
           "name": "Amsterdam",
           "timeZone": "Europe/Amsterdam"
          },
          "checkInDesk": "26",
          "gate": "M5",
          "quality": [
           "Basic",
           "Live"
          ],
          "revisedTime": {
           "local": "2024-10-09 09:01+02:00",
           "utc": "2024-10-09 07:01Z"
          },
          "runway": "24",
          "runwayTime": {
           "local": "2024-10-09 09:15+02:00",
           "utc": "2024-10-09 07:15Z"
          },
          "scheduledTime": {
           "local": "2024-10-09 09:05+02:00",
           "utc": "2024-10-09 07:05Z"
          },
          "terminal": "3"
         },
         "isCargo": false,
         "number": "U2 5282",
         "status": "Arrived"
        },
        {
         "aircraft": {
          "modeS": "440D10",
          "model": "Airbus A320",
          "reg": "OE-IBS"
         },
         "airline": {
          "iata": "EC",
          "icao": "EJU",
          "name": "EasyJet Europe"
         },
         "arrival": {
          "baggageBelt": "A1",
          "gate": "A35",
          "quality": [
           "Basic",
           "Live"
          ],
          "revisedTime": {
           "local": "2024-10-09 10:20+02:00",
           "utc": "2024-10-09 08:20Z"
          },
          "runwayTime": {
           "local": "2024-10-09 10:25+02:00",
           "utc": "2024-10-09 08:25Z"
          },
          "scheduledTime": {
           "local": "2024-10-09 10:30+02:00",
           "utc": "2024-10-09 08:30Z"
          },
          "terminal": "1"
         },
         "callSign": "EJU42KM",
         "codeshareStatus": "IsCodeshared",
         "departure": {
          "airport": {
           "iata": "AMS",
           "icao": "EHAM",
           "name": "Amsterdam",
           "timeZone": "Europe/Amsterdam"
          },
          "checkInDesk": "26",
          "gate": "M5",
          "quality": [
           "Basic",
           "Live"
          ],
          "revisedTime": {
           "local": "2024-10-09 09:01+02:00",
           "utc": "2024-10-09 07:01Z"
          },
          "runway": "24",
          "runwayTime": {
           "local": "2024-10-09 09:15+02:00",
           "utc": "2024-10-09 07:15Z"
          },
          "scheduledTime": {
           "local": "2024-10-09 09:05+02:00",
           "utc": "2024-10-09 07:05Z"
          },
          "terminal": "3"
         },
         "isCargo": false,
         "number": "EC 5282",
         "status": "Arrived"
        },
        {
         "aircraft": {
          "modeS": "4D236C",
          "model": "Boeing 737-800",
          "reg": "9H-VUV"
         },
         "airline": {
          "iata": "FR",
          "icao": "RYR",
          "name": "Ryanair"
         },
         "arrival": {
          "baggageBelt": "C2",
          "gate": "Z31",
          "quality": [
           "Basic",
           "Live"
          ],
          "revisedTime": {
           "local": "2024-10-09 10:21+02:00",
           "utc": "2024-10-09 08:21Z"
          },
          "runway": "25R",
          "runwayTime": {
           "local": "2024-10-09 10:22+02:00",
           "utc": "2024-10-09 08:22Z"
          },
          "scheduledTime": {
           "local": "2024-10-09 10:00+02:00",
           "utc": "2024-10-09 08:00Z"
          },
          "terminal": "2"
         },
         "callSign": "RYR42YN",
         "codeshareStatus": "IsOperator",
         "departure": {
          "airport": {
           "iata": "VCE",
           "icao": "LIPZ",
           "name": "Venice",
           "timeZone": "Europe/Rome"
          },
          "quality": [
           "Basic",
           "Live"
          ],
          "revisedTime": {
           "local": "2024-10-09 08:27+02:00",
           "utc": "2024-10-09 06:27Z"
          },
          "runway": "04R",
          "runwayTime": {
           "local": "2024-10-09 08:27+02:00",
           "utc": "2024-10-09 06:27Z"
          },
          "scheduledTime": {
           "local": "2024-10-09 08:20+02:00",
           "utc": "2024-10-09 06:20Z"
          }
         },
         "isCargo": false,
         "number": "FR 402",
         "status": "Arrived"
        },
        {
         "aircraft": {
          "modeS": "440668",
          "model": "Airbus A320",
          "reg": "OE-LBL"
         },
         "airline": {
          "iata": "OS",
          "icao": "AUA",
          "name": "Austrian"
         },
         "arrival": {
          "baggageBelt": "B4",
          "gate": "B07",
          "quality": [
           "Basic",
           "Live"
          ],
          "revisedTime": {
           "local": "2024-10-09 10:23+02:00",
           "utc": "2024-10-09 08:23Z"
          },
          "runwayTime": {
           "local": "2024-10-09 10:28+02:00",
           "utc": "2024-10-09 08:28Z"
          },
          "scheduledTime": {
           "local": "2024-10-09 10:25+02:00",
           "utc": "2024-10-09 08:25Z"
          },
          "terminal": "1"
         },
         "callSign": "AUA225S",
         "codeshareStatus": "IsOperator",
         "departure": {
          "airport": {
           "iata": "VIE",
           "icao": "LOWW",
           "name": "Vienna",
           "timeZone": "Europe/Vienna"
          },
          "checkInDesk": "351-372",
          "gate": "F15",
          "quality": [
           "Basic",
           "Live"
          ],
          "revisedTime": {
           "local": "2024-10-09 09:25+02:00",
           "utc": "2024-10-09 07:25Z"
          },
          "scheduledTime": {
           "local": "2024-10-09 09:15+02:00",
           "utc": "2024-10-09 07:15Z"
          },
          "terminal": "3"
         },
         "isCargo": false,
         "number": "OS 225",
         "status": "Arrived"
        },
        {
         "aircraft": {
          "modeS": "4D2382",
          "model": "Boeing 737 MAX 8",
          "reg": "9H-VVA"
         },
         "airline": {
          "iata": "FR",
          "icao": "RYR",
          "name": "Ryanair"
         },
         "arrival": {
          "baggageBelt": "C1",
          "gate": "Z34",
          "quality": [
           "Basic",
           "Live"
          ],
          "revisedTime": {
           "local": "2024-10-09 10:24+02:00",
           "utc": "2024-10-09 08:24Z"
          },
          "runway": "25R",
          "runwayTime": {
           "local": "2024-10-09 10:25+02:00",
           "utc": "2024-10-09 08:25Z"
          },
          "scheduledTime": {
           "local": "2024-10-09 10:10+02:00",
           "utc": "2024-10-09 08:10Z"
          },
          "terminal": "2"
         },
         "callSign": "RYR2733",
         "codeshareStatus": "IsOperator",
         "departure": {
          "airport": {
           "iata": "TLL",
           "icao": "EETN",
           "name": "Tallinn",
           "timeZone": "Europe/Tallinn"
          },
          "quality": [
           "Basic",
           "Live"
          ],
          "revisedTime": {
           "local": "2024-10-09 09:36+03:00",
           "utc": "2024-10-09 06:36Z"
          },
          "runway": "08",
          "runwayTime": {
           "local": "2024-10-09 09:36+03:00",
           "utc": "2024-10-09 06:36Z"
          },
          "scheduledTime": {
           "local": "2024-10-09 09:15+03:00",
           "utc": "2024-10-09 06:15Z"
          }
         },
         "isCargo": false,
         "number": "FR 2733",
         "status": "Arrived"
        },
        {
         "aircraft": {
          "modeS": "4690E1",
          "model": "Airbus A321",
          "reg": "SX-DGA"
         },
         "airline": {
          "iata": "A3",
          "icao": "AEE",
          "name": "Aegean"
         },
         "arrival": {
          "baggageBelt": "A4",
          "gate": "A33",
          "quality": [
           "Basic",
           "Live"
          ],
          "revisedTime": {
           "local": "2024-10-09 10:26+02:00",
           "utc": "2024-10-09 08:26Z"
          },
          "scheduledTime": {
           "local": "2024-10-09 10:40+02:00",
           "utc": "2024-10-09 08:40Z"
          },
          "terminal": "1"
         },
         "callSign": "AEE8RB",
         "codeshareStatus": "IsOperator",
         "departure": {
          "airport": {
           "iata": "ATH",
           "icao": "LGAV",
           "name": "Athens",
           "timeZone": "Europe/Athens"
          },
          "checkInDesk": "148--153",
          "gate": "B26",
          "quality": [
           "Basic",
           "Live"
          ],
          "revisedTime": {
           "local": "2024-10-09 09:00+03:00",
           "utc": "2024-10-09 06:00Z"
          },
          "runwayTime": {
           "local": "2024-10-09 09:01+03:00",
           "utc": "2024-10-09 06:01Z"
          },
          "scheduledTime": {
           "local": "2024-10-09 08:45+03:00",
           "utc": "2024-10-09 05:45Z"
          },
          "terminal": "D"
         },
         "isCargo": false,
         "number": "A3 820",
         "status": "Arrived"
        },
        {
         "aircraft": {
          "modeS": "3E0F90",
          "model": "Eurocopter EC135",
          "reg": "D-HXCA"
         },
         "airline": {
          "name": "CHX"
         },
         "arrival": {
          "quality": [
           "Basic",
           "Live"
          ],
          "revisedTime": {
           "local": "2024-10-09 10:27+02:00",
           "utc": "2024-10-09 08:27Z"
          },
          "runwayTime": {
           "local": "2024-10-09 10:27+02:00",
           "utc": "2024-10-09 08:27Z"
          },
          "scheduledTime": {
           "local": "2024-10-09 10:27+02:00",
           "utc": "2024-10-09 08:27Z"
          }
         },
         "callSign": "CHX31",
         "codeshareStatus": "IsOperator",
         "departure": {
          "airport": {
           "name": "Unknown"
          },
          "quality": []
         },
         "isCargo": false,
         "number": "CHX 31",
         "status": "Arrived"
        },
        {
         "aircraft": {
          "modeS": "48C126",
          "model": "Boeing 737-800",
          "reg": "SP-RKG"
         },
         "airline": {
          "iata": "FR",
          "icao": "RYR",
          "name": "Ryanair"
         },
         "arrival": {
          "baggageBelt": "C3",
          "gate": "Z32",
          "quality": [
           "Basic",
           "Live"
          ],
          "revisedTime": {
           "local": "2024-10-09 10:29+02:00",
           "utc": "2024-10-09 08:29Z"
          },
          "runway": "25R",
          "runwayTime": {
           "local": "2024-10-09 10:29+02:00",
           "utc": "2024-10-09 08:29Z"
          },
          "scheduledTime": {
           "local": "2024-10-09 10:35+02:00",
           "utc": "2024-10-09 08:35Z"
          },
          "terminal": "2"
         },
         "callSign": "RYR26NU",
         "codeshareStatus": "IsOperator",
         "departure": {
          "airport": {
           "iata": "KUN",
           "icao": "EYKA",
           "name": "Kaunas",
           "timeZone": "Europe/Vilnius"
          },
          "quality": [
           "Basic"
          ],
          "scheduledTime": {
           "local": "2024-10-09 09:55+03:00",
           "utc": "2024-10-09 06:55Z"
          }
         },
         "isCargo": false,
         "number": "FR 710",
         "status": "Arrived"
        },
        {
         "aircraft": {
          "modeS": "4BD185",
          "model": "Boeing 737",
          "reg": "TC-TLE"
         },
         "airline": {
          "iata": "TI",
          "icao": "TWI",
          "name": "Tailwind"
         },
         "arrival": {
          "baggageBelt": "B4",
          "gate": "N01",
          "quality": [
           "Basic",
           "Live"
          ],
          "revisedTime": {
           "local": "2024-10-09 10:30+02:00",
           "utc": "2024-10-09 08:30Z"
          },
          "runway": "25L",
          "runwayTime": {
           "local": "2024-10-09 10:31+02:00",
           "utc": "2024-10-09 08:31Z"
          },
          "scheduledTime": {
           "local": "2024-10-09 11:05+02:00",
           "utc": "2024-10-09 09:05Z"
          },
          "terminal": "1"
         },
         "callSign": "TWI7375",
         "codeshareStatus": "IsOperator",
         "departure": {
          "airport": {
           "iata": "AYT",
           "icao": "LTAI",
           "name": "Antalya",
           "timeZone": "Europe/Istanbul"
          },
          "checkInDesk": "227-229",
          "quality": [
           "Basic",
           "Live"
          ],
          "revisedTime": {
           "local": "2024-10-09 08:30+03:00",
           "utc": "2024-10-09 05:30Z"
          },
          "scheduledTime": {
           "local": "2024-10-09 08:30+03:00",
           "utc": "2024-10-09 05:30Z"
          },
          "terminal": "2"
         },
         "isCargo": false,
         "number": "TI 7375",
         "status": "Arrived"
        },
        {
         "aircraft": {
          "modeS": "4D23EF",
          "model": "De Havilland Canada DHC-8-400 Dash 8Q",
          "reg": "9H-PET"
         },
         "airline": {
          "name": "SWU"
         },
         "arrival": {
          "quality": [
           "Basic",
           "Live"
          ],
          "revisedTime": {
           "local": "2024-10-09 10:32+02:00",
           "utc": "2024-10-09 08:32Z"
          },
          "scheduledTime": {
           "local": "2024-10-09 10:32+02:00",
           "utc": "2024-10-09 08:32Z"
          }
         },
         "callSign": "SWU1950",
         "codeshareStatus": "IsOperator",
         "departure": {
          "airport": {
           "iata": "BZO",
           "icao": "LIPB",
           "name": "Bolzano",
           "timeZone": "Europe/Rome"
          },
          "quality": []
         },
         "isCargo": false,
         "number": "SWU 1950",
         "status": "Approaching"
        },
        {
         "aircraft": {
          "modeS": "4D23EF",
          "model": "De Havilland Canada DHC-8-400 Dash 8Q",
          "reg": "9H-PET"
         },
         "airline": {
          "name": "BQ"
         },
         "arrival": {
          "baggageBelt": "B3",
          "gate": "S01",
          "quality": [
           "Basic",
           "Live"
          ],
          "revisedTime": {
           "local": "2024-10-09 10:33+02:00",
           "utc": "2024-10-09 08:33Z"
          },
          "scheduledTime": {
           "local": "2024-10-09 10:10+02:00",
           "utc": "2024-10-09 08:10Z"
          },
          "terminal": "1"
         },
         "codeshareStatus": "IsOperator",
         "departure": {
          "airport": {
           "iata": "BZO",
           "icao": "LIPB",
           "name": "Bolzano",
           "timeZone": "Europe/Rome"
          },
          "quality": []
         },
         "isCargo": false,
         "number": "BQ 1950",
         "status": "Arrived"
        },
        {
         "aircraft": {
          "modeS": "4CA701",
          "model": "Boeing 737",
          "reg": "EI-EBD"
         },
         "airline": {
          "iata": "FR",
          "icao": "RYR",
          "name": "Ryanair"
         },
         "arrival": {
          "baggageBelt": "C3",
          "gate": "Z30",
          "quality": [
           "Basic",
           "Live"
          ],
          "revisedTime": {
           "local": "2024-10-09 10:34+02:00",
           "utc": "2024-10-09 08:34Z"
          },
          "scheduledTime": {
           "local": "2024-10-09 10:20+02:00",
           "utc": "2024-10-09 08:20Z"
          },
          "terminal": "2"
         },
         "callSign": "RYR37TH",
         "codeshareStatus": "IsOperator",
         "departure": {
          "airport": {
           "iata": "LIS",
           "icao": "LPPT",
           "name": "Lisbon",
           "timeZone": "Europe/Lisbon"
          },
          "quality": [
           "Basic",
           "Live"
          ],
          "revisedTime": {
           "local": "2024-10-09 06:34+01:00",
           "utc": "2024-10-09 05:34Z"
          },
          "runway": "21",
          "runwayTime": {
           "local": "2024-10-09 06:34+01:00",
           "utc": "2024-10-09 05:34Z"
          },
          "scheduledTime": {
           "local": "2024-10-09 05:55+01:00",
           "utc": "2024-10-09 04:55Z"
          },
          "terminal": "2"
         },
         "isCargo": false,
         "number": "FR 1143",
         "status": "Arrived"
        },
        {
         "aircraft": {
          "modeS": "48AD84",
          "model": "Embraer 190",
          "reg": "SP-LME"
         },
         "airline": {
          "iata": "LO",
          "icao": "LOT",
          "name": "LOT - Polish"
         },
         "arrival": {
          "baggageBelt": "A2",
          "gate": "A30",
          "quality": [
           "Basic",
           "Live"
          ],
          "revisedTime": {
           "local": "2024-10-09 10:36+02:00",
           "utc": "2024-10-09 08:36Z"
          },
          "scheduledTime": {
           "local": "2024-10-09 10:30+02:00",
           "utc": "2024-10-09 08:30Z"
          },
          "terminal": "1"
         },
         "callSign": "LOT7AE",
         "codeshareStatus": "IsOperator",
         "departure": {
          "airport": {
           "iata": "WAW",
           "icao": "EPWA",
           "name": "Warsaw",
           "timeZone": "Europe/Warsaw"
          },
          "quality": [
           "Basic",
           "Live"
          ],
          "revisedTime": {
           "local": "2024-10-09 09:37+02:00",
           "utc": "2024-10-09 07:37Z"
          },
          "runway": "15",
          "runwayTime": {
           "local": "2024-10-09 09:37+02:00",
           "utc": "2024-10-09 07:37Z"
          },
          "scheduledTime": {
           "local": "2024-10-09 09:15+02:00",
           "utc": "2024-10-09 07:15Z"
          }
         },
         "isCargo": false,
         "number": "LO 387",
         "status": "Arrived"
        },
        {
         "aircraft": {
          "modeS": "34644D",
          "model": "Airbus A321 (Sharklets)",
          "reg": "EC-NIF"
         },
         "airline": {
          "iata": "I2",
          "icao": "IBS",
          "name": "Iberia Express"
         },
         "arrival": {
          "baggageBelt": "A1",
          "gate": "A37",
          "quality": [
           "Basic",
           "Live"
          ],
          "revisedTime": {
           "local": "2024-10-09 10:38+02:00",
           "utc": "2024-10-09 08:38Z"
          },
          "scheduledTime": {
           "local": "2024-10-09 10:35+02:00",
           "utc": "2024-10-09 08:35Z"
          },
          "terminal": "1"
         },
         "callSign": "IBS36YR",
         "codeshareStatus": "IsOperator",
         "departure": {
          "airport": {
           "iata": "MAD",
           "icao": "LEMD",
           "name": "Madrid",
           "timeZone": "Europe/Madrid"
          },
          "checkInDesk": "850-859",
          "gate": "J44",
          "quality": [
           "Basic",
           "Live"
          ],
          "revisedTime": {
           "local": "2024-10-09 07:59+02:00",
           "utc": "2024-10-09 05:59Z"
          },
          "runway": "14L",
          "runwayTime": {
           "local": "2024-10-09 08:17+02:00",
           "utc": "2024-10-09 06:17Z"
          },
          "scheduledTime": {
           "local": "2024-10-09 07:30+02:00",
           "utc": "2024-10-09 05:30Z"
          },
          "terminal": "4"
         },
         "isCargo": false,
         "number": "I2 3676",
         "status": "Arrived"
        },
        {
         "aircraft": {
          "modeS": "4D228A",
          "model": "Boeing 737-800",
          "reg": "9H-QDW"
         },
         "airline": {
          "iata": "FR",
          "icao": "RYR",
          "name": "Ryanair"
         },
         "arrival": {
          "baggageBelt": "C2",
          "gate": "Z33",
          "quality": [
           "Basic",
           "Live"
          ],
          "revisedTime": {
           "local": "2024-10-09 10:40+02:00",
           "utc": "2024-10-09 08:40Z"
          },
          "scheduledTime": {
           "local": "2024-10-09 10:40+02:00",
           "utc": "2024-10-09 08:40Z"
          },
          "terminal": "2"
         },
         "callSign": "RYR83PC",
         "codeshareStatus": "IsOperator",
         "departure": {
          "airport": {
           "iata": "FCO",
           "icao": "LIRF",
           "name": "Rome",
           "timeZone": "Europe/Rome"
          },
          "quality": [
           "Basic",
           "Live"
          ],
          "revisedTime": {
           "local": "2024-10-09 08:58+02:00",
           "utc": "2024-10-09 06:58Z"
          },
          "runwayTime": {
           "local": "2024-10-09 08:58+02:00",
           "utc": "2024-10-09 06:58Z"
          },
          "scheduledTime": {
           "local": "2024-10-09 08:30+02:00",
           "utc": "2024-10-09 06:30Z"
          },
          "terminal": "1"
         },
         "isCargo": false,
         "number": "FR 41",
         "status": "Arrived"
        },
        {
         "aircraft": {
          "modeS": "4D24CC",
          "model": "Boeing 737 MAX 8",
          "reg": "9H-VVK"
         },
         "airline": {
          "iata": "FR",
          "icao": "RYR",
          "name": "Ryanair"
         },
         "arrival": {
          "baggageBelt": "C1",
          "gate": "Z38",
          "quality": [
           "Basic",
           "Live"
          ],
          "revisedTime": {
           "local": "2024-10-09 10:53+02:00",
           "utc": "2024-10-09 08:53Z"
          },
          "scheduledTime": {
           "local": "2024-10-09 11:05+02:00",
           "utc": "2024-10-09 09:05Z"
          },
          "terminal": "2"
         },
         "callSign": "RYR3TF",
         "codeshareStatus": "IsOperator",
         "departure": {
          "airport": {
           "iata": "DUB",
           "icao": "EIDW",
           "name": "Dublin",
           "timeZone": "Europe/Dublin"
          },
          "checkInDesk": "1204-1319",
          "gate": "103",
          "quality": [
           "Basic",
           "Live"
          ],
          "revisedTime": {
           "local": "2024-10-09 07:50+01:00",
           "utc": "2024-10-09 06:50Z"
          },
          "runwayTime": {
           "local": "2024-10-09 08:06+01:00",
           "utc": "2024-10-09 07:06Z"
          },
          "scheduledTime": {
           "local": "2024-10-09 07:50+01:00",
           "utc": "2024-10-09 06:50Z"
          },
          "terminal": "1"
         },
         "isCargo": false,
         "number": "FR 3669",
         "status": "Arrived"
        },
        {
         "aircraft": {
          "modeS": "4075A2",
          "model": "Embraer 190",
          "reg": "G-LCYZ"
         },
         "airline": {
          "iata": "BA",
          "icao": "BAW",
          "name": "British Airways"
         },
         "arrival": {
          "baggageBelt": "B3",
          "gate": "N01",
          "quality": [
           "Basic",
           "Live"
          ],
          "revisedTime": {
           "local": "2024-10-09 10:57+02:00",
           "utc": "2024-10-09 08:57Z"
          },
          "runwayTime": {
           "local": "2024-10-09 11:02+02:00",
           "utc": "2024-10-09 09:02Z"
          },
          "scheduledTime": {
           "local": "2024-10-09 11:10+02:00",
           "utc": "2024-10-09 09:10Z"
          },
          "terminal": "1"
         },
         "callSign": "CFE76JZ",
         "codeshareStatus": "IsOperator",
         "departure": {
          "airport": {
           "iata": "LCY",
           "icao": "EGLC",
           "name": "London",
           "timeZone": "Europe/London"
          },
          "gate": "9",
          "quality": [
           "Basic",
           "Live"
          ],
          "revisedTime": {
           "local": "2024-10-09 08:29+01:00",
           "utc": "2024-10-09 07:29Z"
          },
          "runway": "27",
          "runwayTime": {
           "local": "2024-10-09 08:38+01:00",
           "utc": "2024-10-09 07:38Z"
          },
          "scheduledTime": {
           "local": "2024-10-09 08:25+01:00",
           "utc": "2024-10-09 07:25Z"
          }
         },
         "isCargo": false,
         "number": "BA 8491",
         "status": "Arrived"
        },
        {
         "aircraft": {
          "modeS": "440185",
          "model": "Airbus A320",
          "reg": "OE-IJI"
         },
         "airline": {
          "iata": "U2",
          "icao": "EZY",
          "name": "easyJet"
         },
         "arrival": {
          "baggageBelt": "A1",
          "gate": "A32",
          "quality": [
           "Basic",
           "Live"
          ],
          "revisedTime": {
           "local": "2024-10-09 10:59+02:00",
           "utc": "2024-10-09 08:59Z"
          },
          "runwayTime": {
           "local": "2024-10-09 11:03+02:00",
           "utc": "2024-10-09 09:03Z"
          },
          "scheduledTime": {
           "local": "2024-10-09 11:15+02:00",
           "utc": "2024-10-09 09:15Z"
          },
          "terminal": "1"
         },
         "callSign": "EJU34TY",
         "codeshareStatus": "IsOperator",
         "departure": {
          "airport": {
           "iata": "FCO",
           "icao": "LIRF",
           "name": "Rome",
           "timeZone": "Europe/Rome"
          },
          "quality": [
           "Basic",
           "Live"
          ],
          "revisedTime": {
           "local": "2024-10-09 09:14+02:00",
           "utc": "2024-10-09 07:14Z"
          },
          "runway": "25",
          "runwayTime": {
           "local": "2024-10-09 09:14+02:00",
           "utc": "2024-10-09 07:14Z"
          },
          "scheduledTime": {
           "local": "2024-10-09 09:00+02:00",
           "utc": "2024-10-09 07:00Z"
          },
          "terminal": "1"
         },
         "isCargo": false,
         "number": "U2 5082",
         "status": "Arrived"
        },
        {
         "aircraft": {
          "modeS": "440185",
          "model": "Airbus A320",
          "reg": "OE-IJI"
         },
         "airline": {
          "iata": "EC",
          "icao": "EJU",
          "name": "EasyJet Europe"
         },
         "arrival": {
          "baggageBelt": "A1",
          "gate": "A32",
          "quality": [
           "Basic",
           "Live"
          ],
          "revisedTime": {
           "local": "2024-10-09 10:59+02:00",
           "utc": "2024-10-09 08:59Z"
          },
          "runwayTime": {
           "local": "2024-10-09 11:03+02:00",
           "utc": "2024-10-09 09:03Z"
          },
          "scheduledTime": {
           "local": "2024-10-09 11:15+02:00",
           "utc": "2024-10-09 09:15Z"
          },
          "terminal": "1"
         },
         "callSign": "EJU34TY",
         "codeshareStatus": "IsCodeshared",
         "departure": {
          "airport": {
           "iata": "FCO",
           "icao": "LIRF",
           "name": "Rome",
           "timeZone": "Europe/Rome"
          },
          "quality": [
           "Basic",
           "Live"
          ],
          "revisedTime": {
           "local": "2024-10-09 09:14+02:00",
           "utc": "2024-10-09 07:14Z"
          },
          "runway": "25",
          "runwayTime": {
           "local": "2024-10-09 09:14+02:00",
           "utc": "2024-10-09 07:14Z"
          },
          "scheduledTime": {
           "local": "2024-10-09 09:00+02:00",
           "utc": "2024-10-09 07:00Z"
          },
          "terminal": "1"
         },
         "isCargo": false,
         "number": "EC 5082",
         "status": "Arrived"
        },
        {
         "aircraft": {
          "modeS": "44CDC8",
          "model": "Airbus A320",
          "reg": "OO-SNH"
         },
         "airline": {
          "iata": "SN",
          "icao": "BEL",
          "name": "Brussels"
         },
         "arrival": {
          "baggageBelt": "B1",
          "gate": "B10",
          "quality": [
           "Basic",
           "Live"
          ],
          "revisedTime": {
           "local": "2024-10-09 11:01+02:00",
           "utc": "2024-10-09 09:01Z"
          },
          "scheduledTime": {
           "local": "2024-10-09 10:50+02:00",
           "utc": "2024-10-09 08:50Z"
          },
          "terminal": "1"
         },
         "callSign": "BEL8CE",
         "codeshareStatus": "IsOperator",
         "departure": {
          "airport": {
           "iata": "BRU",
           "icao": "EBBR",
           "name": "Brussels",
           "timeZone": "Europe/Brussels"
          },
          "checkInDesk": "05",
          "quality": [
           "Basic",
           "Live"
          ],
          "revisedTime": {
           "local": "2024-10-09 10:00+02:00",
           "utc": "2024-10-09 08:00Z"
          },
          "runway": "25R",
          "runwayTime": {
           "local": "2024-10-09 10:00+02:00",
           "utc": "2024-10-09 08:00Z"
          },
          "scheduledTime": {
           "local": "2024-10-09 09:25+02:00",
           "utc": "2024-10-09 07:25Z"
          }
         },
         "isCargo": false,
         "number": "SN 2581",
         "status": "Arrived"
        },
        {
         "aircraft": {
          "modeS": "4D23A1",
          "model": "Airbus A320",
          "reg": "9H-MLR"
         },
         "airline": {
          "iata": "LX",
          "icao": "SWR",
          "name": "SWISS"
         },
         "arrival": {
          "baggageBelt": "A4",
          "gate": "A36",
          "quality": [
           "Basic",
           "Live"
          ],
          "revisedTime": {
           "local": "2024-10-09 11:04+02:00",
           "utc": "2024-10-09 09:04Z"
          },
          "scheduledTime": {
           "local": "2024-10-09 11:30+02:00",
           "utc": "2024-10-09 09:30Z"
          },
          "terminal": "1"
         },
         "callSign": "EWG2BA",
         "codeshareStatus": "IsCodeshared",
         "departure": {
          "airport": {
           "iata": "ZRH",
           "icao": "LSZH",
           "name": "Zurich",
           "timeZone": "Europe/Zurich"
          },
          "checkInDesk": "2(5)",
          "gate": "A72",
          "quality": [
           "Basic",
           "Live"
          ],
          "revisedTime": {
           "local": "2024-10-09 09:50+02:00",
           "utc": "2024-10-09 07:50Z"
          },
          "runway": "28",
          "runwayTime": {
           "local": "2024-10-09 09:59+02:00",
           "utc": "2024-10-09 07:59Z"
          },
          "scheduledTime": {
           "local": "2024-10-09 09:50+02:00",
           "utc": "2024-10-09 07:50Z"
          }
         },
         "isCargo": false,
         "number": "LX 4406",
         "status": "Arrived"
        },
        {
         "aircraft": {
          "modeS": "4D23A1",
          "model": "Airbus A320",
          "reg": "9H-MLR"
         },
         "airline": {
          "iata": "EW",
          "icao": "EWG",
          "name": "Eurowings"
         },
         "arrival": {
          "baggageBelt": "A4",
          "gate": "A36",
          "quality": [
           "Basic",
           "Live"
          ],
          "revisedTime": {
           "local": "2024-10-09 11:04+02:00",
           "utc": "2024-10-09 09:04Z"
          },
          "scheduledTime": {
           "local": "2024-10-09 11:30+02:00",
           "utc": "2024-10-09 09:30Z"
          },
          "terminal": "1"
         },
         "callSign": "EWG2BA",
         "codeshareStatus": "IsOperator",
         "departure": {
          "airport": {
           "iata": "ZRH",
           "icao": "LSZH",
           "name": "Zurich",
           "timeZone": "Europe/Zurich"
          },
          "checkInDesk": "2(5)",
          "gate": "A72",
          "quality": [
           "Basic",
           "Live"
          ],
          "revisedTime": {
           "local": "2024-10-09 09:50+02:00",
           "utc": "2024-10-09 07:50Z"
          },
          "runway": "28",
          "runwayTime": {
           "local": "2024-10-09 09:59+02:00",
           "utc": "2024-10-09 07:59Z"
          },
          "scheduledTime": {
           "local": "2024-10-09 09:50+02:00",
           "utc": "2024-10-09 07:50Z"
          }
         },
         "isCargo": false,
         "number": "EW 8761",
         "status": "Arrived"
        },
        {
         "aircraft": {
          "modeS": "44023F",
          "model": "Airbus A320",
          "reg": "OE-ICD"
         },
         "airline": {
          "iata": "U2",
          "icao": "EZY",
          "name": "easyJet"
         },
         "arrival": {
          "baggageBelt": "A1",
          "gate": "A22",
          "quality": [
           "Basic",
           "Live"
          ],
          "revisedTime": {
           "local": "2024-10-09 11:06+02:00",
           "utc": "2024-10-09 09:06Z"
          },
          "runway": "25L",
          "runwayTime": {
           "local": "2024-10-09 11:06+02:00",
           "utc": "2024-10-09 09:06Z"
          },
          "scheduledTime": {
           "local": "2024-10-09 11:10+02:00",
           "utc": "2024-10-09 09:10Z"
          },
          "terminal": "1"
         },
         "callSign": "EJU59AR",
         "codeshareStatus": "IsOperator",
         "departure": {
          "airport": {
           "iata": "NCE",
           "icao": "LFMN",
           "name": "Nice",
           "timeZone": "Europe/Paris"
          },
          "quality": [
           "Basic",
           "Live"
          ],
          "revisedTime": {
           "local": "2024-10-09 09:32+02:00",
           "utc": "2024-10-09 07:32Z"
          },
          "runway": "04L",
          "runwayTime": {
           "local": "2024-10-09 09:32+02:00",
           "utc": "2024-10-09 07:32Z"
          },
          "scheduledTime": {
           "local": "2024-10-09 09:10+02:00",
           "utc": "2024-10-09 07:10Z"
          },
          "terminal": "2"
         },
         "isCargo": false,
         "number": "U2 5144",
         "status": "Arrived"
        },
        {
         "aircraft": {
          "modeS": "44023F",
          "model": "Airbus A320",
          "reg": "OE-ICD"
         },
         "airline": {
          "iata": "EC",
          "icao": "EJU",
          "name": "EasyJet Europe"
         },
         "arrival": {
          "baggageBelt": "A1",
          "gate": "A22",
          "quality": [
           "Basic",
           "Live"
          ],
          "revisedTime": {
           "local": "2024-10-09 11:06+02:00",
           "utc": "2024-10-09 09:06Z"
          },
          "runway": "25L",
          "runwayTime": {
           "local": "2024-10-09 11:06+02:00",
           "utc": "2024-10-09 09:06Z"
          },
          "scheduledTime": {
           "local": "2024-10-09 11:10+02:00",
           "utc": "2024-10-09 09:10Z"
          },
          "terminal": "1"
         },
         "callSign": "EJU59AR",
         "codeshareStatus": "IsCodeshared",
         "departure": {
          "airport": {
           "iata": "NCE",
           "icao": "LFMN",
           "name": "Nice",
           "timeZone": "Europe/Paris"
          },
          "quality": [
           "Basic",
           "Live"
          ],
          "revisedTime": {
           "local": "2024-10-09 09:32+02:00",
           "utc": "2024-10-09 07:32Z"
          },
          "runway": "04L",
          "runwayTime": {
           "local": "2024-10-09 09:32+02:00",
           "utc": "2024-10-09 07:32Z"
          },
          "scheduledTime": {
           "local": "2024-10-09 09:10+02:00",
           "utc": "2024-10-09 07:10Z"
          },
          "terminal": "2"
         },
         "isCargo": false,
         "number": "EC 5144",
         "status": "Arrived"
        },
        {
         "aircraft": {
          "modeS": "3C64AB",
          "model": "Airbus A321 NEO",
          "reg": "D-AIEK"
         },
         "airline": {
          "iata": "LH",
          "icao": "DLH",
          "name": "Lufthansa"
         },
         "arrival": {
          "baggageBelt": "B1",
          "gate": "B02",
          "quality": [
           "Basic",
           "Live"
          ],
          "revisedTime": {
           "local": "2024-10-09 11:08+02:00",
           "utc": "2024-10-09 09:08Z"
          },
          "runway": "25L",
          "scheduledTime": {
           "local": "2024-10-09 10:55+02:00",
           "utc": "2024-10-09 08:55Z"
          },
          "terminal": "1"
         },
         "callSign": "DLH178",
         "codeshareStatus": "IsOperator",
         "departure": {
          "airport": {
           "iata": "FRA",
           "icao": "EDDF",
           "name": "Frankfurt-am-Main",
           "timeZone": "Europe/Berlin"
          },
          "checkInDesk": "259-335",
          "gate": "A11",
          "quality": [
           "Basic",
           "Live"
          ],
          "revisedTime": {
           "local": "2024-10-09 09:45+02:00",
           "utc": "2024-10-09 07:45Z"
          },
          "runway": "25C",
          "runwayTime": {
           "local": "2024-10-09 10:21+02:00",
           "utc": "2024-10-09 08:21Z"
          },
          "scheduledTime": {
           "local": "2024-10-09 09:45+02:00",
           "utc": "2024-10-09 07:45Z"
          },
          "terminal": "1"
         },
         "isCargo": false,
         "number": "LH 178",
         "status": "Arrived"
        },
        {
         "aircraft": {
          "modeS": "39BDA2",
          "model": "Airbus A220-300",
          "reg": "F-HPNC"
         },
         "airline": {
          "iata": "AF",
          "icao": "AFR",
          "name": "Air France"
         },
         "arrival": {
          "baggageBelt": "B3",
          "gate": "B17",
          "quality": [
           "Basic",
           "Live"
          ],
          "revisedTime": {
           "local": "2024-10-09 11:15+02:00",
           "utc": "2024-10-09 09:15Z"
          },
          "runwayTime": {
           "local": "2024-10-09 10:23+02:00",
           "utc": "2024-10-09 08:23Z"
          },
          "scheduledTime": {
           "local": "2024-10-09 11:15+02:00",
           "utc": "2024-10-09 09:15Z"
          },
          "terminal": "1"
         },
         "callSign": "AFR57NH",
         "codeshareStatus": "IsOperator",
         "departure": {
          "airport": {
           "iata": "CDG",
           "icao": "LFPG",
           "name": "Paris",
           "timeZone": "Europe/Paris"
          },
          "quality": [
           "Basic",
           "Live"
          ],
          "revisedTime": {
           "local": "2024-10-09 10:05+02:00",
           "utc": "2024-10-09 08:05Z"
          },
          "runwayTime": {
           "local": "2024-10-09 10:05+02:00",
           "utc": "2024-10-09 08:05Z"
          },
          "scheduledTime": {
           "local": "2024-10-09 09:30+02:00",
           "utc": "2024-10-09 07:30Z"
          },
          "terminal": "2F"
         },
         "isCargo": false,
         "number": "AF 1734",
         "status": "Arrived"
        },
        {
         "aircraft": {
          "modeS": "4BCE14",
          "model": "Boeing 737-800",
          "reg": "TC-SPT"
         },
         "airline": {
          "iata": "XQ",
          "icao": "SXS",
          "name": "Sun Express"
         },
         "arrival": {
          "baggageBelt": "A2",
          "gate": "X03",
          "quality": [
           "Basic",
           "Live"
          ],
          "revisedTime": {
           "local": "2024-10-09 11:17+02:00",
           "utc": "2024-10-09 09:17Z"
          },
          "scheduledTime": {
           "local": "2024-10-09 11:35+02:00",
           "utc": "2024-10-09 09:35Z"
          },
          "terminal": "1"
         },
         "callSign": "SXS2SR",
         "codeshareStatus": "IsOperator",
         "departure": {
          "airport": {
           "iata": "AYT",
           "icao": "LTAI",
           "name": "Antalya",
           "timeZone": "Europe/Istanbul"
          },
          "checkInDesk": "135-137",
          "quality": [
           "Basic",
           "Live"
          ],
          "revisedTime": {
           "local": "2024-10-09 09:00+03:00",
           "utc": "2024-10-09 06:00Z"
          },
          "scheduledTime": {
           "local": "2024-10-09 09:00+03:00",
           "utc": "2024-10-09 06:00Z"
          },
          "terminal": "1"
         },
         "isCargo": false,
         "number": "XQ 160",
         "status": "Arrived"
        },
        {
         "aircraft": {
          "modeS": "4CC552",
          "model": "Airbus A320 NEO",
          "reg": "TF-PPA"
         },
         "airline": {
          "iata": "OG",
          "icao": "SDG",
          "name": "Ghodawat Enterprises"
         },
         "arrival": {
          "baggageBelt": "C2",
          "gate": "Z29",
          "quality": [
           "Basic",
           "Live"
          ],
          "revisedTime": {
           "local": "2024-10-09 11:19+02:00",
           "utc": "2024-10-09 09:19Z"
          },
          "scheduledTime": {
           "local": "2024-10-09 11:30+02:00",
           "utc": "2024-10-09 09:30Z"
          },
          "terminal": "2"
         },
         "codeshareStatus": "IsOperator",
         "departure": {
          "airport": {
           "iata": "KEF",
           "icao": "BIKF",
           "name": "Reykjavik",
           "timeZone": "Atlantic/Reykjavik"
          },
          "gate": "C22",
          "quality": [
           "Basic",
           "Live"
          ],
          "revisedTime": {
           "local": "2024-10-09 05:55+00:00",
           "utc": "2024-10-09 05:55Z"
          },
          "runwayTime": {
           "local": "2024-10-09 06:09+00:00",
           "utc": "2024-10-09 06:09Z"
          },
          "scheduledTime": {
           "local": "2024-10-09 06:00+00:00",
           "utc": "2024-10-09 06:00Z"
          }
         },
         "isCargo": false,
         "number": "OG 700",
         "status": "Arrived"
        },
        {
         "aircraft": {
          "modeS": "44061C",
          "model": "Airbus A319",
          "reg": "OE-LKL"
         },
         "airline": {
          "iata": "U2",
          "icao": "EZY",
          "name": "easyJet"
         },
         "arrival": {
          "baggageBelt": "A1",
          "gate": "A34",
          "quality": [
           "Basic",
           "Live"
          ],
          "revisedTime": {
           "local": "2024-10-09 11:21+02:00",
           "utc": "2024-10-09 09:21Z"
          },
          "scheduledTime": {
           "local": "2024-10-09 11:30+02:00",
           "utc": "2024-10-09 09:30Z"
          },
          "terminal": "1"
         },
         "callSign": "EJU75ZB",
         "codeshareStatus": "IsOperator",
         "departure": {
          "airport": {
           "iata": "BSL",
           "icao": "LFSB",
           "name": "Bâle/Mulhouse",
           "timeZone": "Europe/Paris"
          },
          "checkInDesk": "42-50",
          "gate": "44",
          "quality": [
           "Basic",
           "Live"
          ],
          "revisedTime": {
           "local": "2024-10-09 10:17+02:00",
           "utc": "2024-10-09 08:17Z"
          },
          "scheduledTime": {
           "local": "2024-10-09 10:00+02:00",
           "utc": "2024-10-09 08:00Z"
          }
         },
         "isCargo": false,
         "number": "U2 5535",
         "status": "Arrived"
        },
        {
         "aircraft": {
          "modeS": "44061C",
          "model": "Airbus A319",
          "reg": "OE-LKL"
         },
         "airline": {
          "iata": "EC",
          "icao": "EJU",
          "name": "EasyJet Europe"
         },
         "arrival": {
          "baggageBelt": "A1",
          "gate": "A34",
          "quality": [
           "Basic",
           "Live"
          ],
          "revisedTime": {
           "local": "2024-10-09 11:21+02:00",
           "utc": "2024-10-09 09:21Z"
          },
          "scheduledTime": {
           "local": "2024-10-09 11:30+02:00",
           "utc": "2024-10-09 09:30Z"
          },
          "terminal": "1"
         },
         "callSign": "EJU75ZB",
         "codeshareStatus": "IsCodeshared",
         "departure": {
          "airport": {
           "iata": "BSL",
           "icao": "LFSB",
           "name": "Bâle/Mulhouse",
           "timeZone": "Europe/Paris"
          },
          "checkInDesk": "42-50",
          "gate": "44",
          "quality": [
           "Basic",
           "Live"
          ],
          "revisedTime": {
           "local": "2024-10-09 10:17+02:00",
           "utc": "2024-10-09 08:17Z"
          },
          "scheduledTime": {
           "local": "2024-10-09 10:00+02:00",
           "utc": "2024-10-09 08:00Z"
          }
         },
         "isCargo": false,
         "number": "EC 5535",
         "status": "Arrived"
        },
        {
         "aircraft": {
          "modeS": "484558",
          "model": "Boeing 737",
          "reg": "PH-BGA"
         },
         "airline": {
          "iata": "KL",
          "icao": "KLM",
          "name": "KLM"
         },
         "arrival": {
          "baggageBelt": "B2",
          "gate": "B03",
          "quality": [
           "Basic",
           "Live"
          ],
          "revisedTime": {
           "local": "2024-10-09 11:27+02:00",
           "utc": "2024-10-09 09:27Z"
          },
          "scheduledTime": {
           "local": "2024-10-09 11:30+02:00",
           "utc": "2024-10-09 09:30Z"
          },
          "terminal": "1"
         },
         "callSign": "KLM1775",
         "codeshareStatus": "IsOperator",
         "departure": {
          "airport": {
           "iata": "AMS",
           "icao": "EHAM",
           "name": "Amsterdam",
           "timeZone": "Europe/Amsterdam"
          },
          "checkInDesk": "6-8",
          "gate": "C11",
          "quality": [
           "Basic",
           "Live"
          ],
          "revisedTime": {
           "local": "2024-10-09 10:20+02:00",
           "utc": "2024-10-09 08:20Z"
          },
          "scheduledTime": {
           "local": "2024-10-09 10:15+02:00",
           "utc": "2024-10-09 08:15Z"
          },
          "terminal": "1"
         },
         "isCargo": false,
         "number": "KL 1775",
         "status": "Arrived"
        },
        {
         "aircraft": {
          "modeS": "502D72",
          "model": "Airbus A321",
          "reg": "YL-LDQ"
         },
         "airline": {
          "iata": "VF",
          "icao": "VLU",
          "name": "Ajet"
         },
         "arrival": {
          "baggageBelt": "A3",
          "gate": "X02",
          "quality": [
           "Basic",
           "Live"
          ],
          "revisedTime": {
           "local": "2024-10-09 11:34+02:00",
           "utc": "2024-10-09 09:34Z"
          },
          "scheduledTime": {
           "local": "2024-10-09 11:25+02:00",
           "utc": "2024-10-09 09:25Z"
          },
          "terminal": "1"
         },
         "codeshareStatus": "IsOperator",
         "departure": {
          "airport": {
           "iata": "SAW",
           "icao": "LTFJ",
           "name": "Istanbul",
           "timeZone": "Europe/Istanbul"
          },
          "quality": [
           "Basic"
          ],
          "scheduledTime": {
           "local": "2024-10-09 09:20+03:00",
           "utc": "2024-10-09 06:20Z"
          }
         },
         "isCargo": false,
         "number": "VF 57",
         "status": "Arrived"
        },
        {
         "aircraft": {
          "modeS": "4D24EB",
          "model": "Boeing 737 MAX 8",
          "reg": "9H-VVM"
         },
         "airline": {
          "iata": "FR",
          "icao": "RYR",
          "name": "Ryanair"
         },
         "arrival": {
          "baggageBelt": "C3",
          "gate": "Z34",
          "quality": [
           "Basic",
           "Live"
          ],
          "revisedTime": {
           "local": "2024-10-09 11:35+02:00",
           "utc": "2024-10-09 09:35Z"
          },
          "runway": "25R",
          "runwayTime": {
           "local": "2024-10-09 11:36+02:00",
           "utc": "2024-10-09 09:36Z"
          },
          "scheduledTime": {
           "local": "2024-10-09 11:25+02:00",
           "utc": "2024-10-09 09:25Z"
          },
          "terminal": "2"
         },
         "callSign": "RYR3KZ",
         "codeshareStatus": "IsOperator",
         "departure": {
          "airport": {
           "iata": "SKG",
           "icao": "LGTS",
           "name": "Thessaloniki",
           "timeZone": "Europe/Athens"
          },
          "quality": [
           "Basic"
          ],
          "scheduledTime": {
           "local": "2024-10-09 09:55+03:00",
           "utc": "2024-10-09 06:55Z"
          }
         },
         "isCargo": false,
         "number": "FR 1147",
         "status": "Arrived"
        },
        {
         "aircraft": {
          "modeS": "4AC9EE",
          "model": "Airbus A320 (Sharklets)",
          "reg": "SE-RON"
         },
         "airline": {
          "iata": "SK",
          "icao": "SAS",
          "name": "SAS"
         },
         "arrival": {
          "baggageBelt": "A4",
          "gate": "A30",
          "quality": [
           "Basic",
           "Live"
          ],
          "revisedTime": {
           "local": "2024-10-09 11:38+02:00",
           "utc": "2024-10-09 09:38Z"
          },
          "scheduledTime": {
           "local": "2024-10-09 11:40+02:00",
           "utc": "2024-10-09 09:40Z"
          },
          "terminal": "1"
         },
         "callSign": "SAS2677",
         "codeshareStatus": "IsOperator",
         "departure": {
          "airport": {
           "iata": "ARN",
           "icao": "ESSA",
           "name": "Stockholm",
           "timeZone": "Europe/Stockholm"
          },
          "checkInDesk": "71-80",
          "gate": "E9",
          "quality": [
           "Basic",
           "Live"
          ],
          "revisedTime": {
           "local": "2024-10-09 10:01+02:00",
           "utc": "2024-10-09 08:01Z"
          },
          "runway": "19R",
          "runwayTime": {
           "local": "2024-10-09 10:10+02:00",
           "utc": "2024-10-09 08:10Z"
          },
          "scheduledTime": {
           "local": "2024-10-09 10:05+02:00",
           "utc": "2024-10-09 08:05Z"
          },
          "terminal": "5"
         },
         "isCargo": false,
         "number": "SK 2677",
         "status": "Arrived"
        },
        {
         "aircraft": {
          "modeS": "502D72",
          "model": "Airbus A321",
          "reg": "YL-LDQ"
         },
         "airline": {
          "name": "TKJ"
         },
         "arrival": {
          "quality": [
           "Basic",
           "Live"
          ],
          "revisedTime": {
           "local": "2024-10-09 11:39+02:00",
           "utc": "2024-10-09 09:39Z"
          },
          "runwayTime": {
           "local": "2024-10-09 11:39+02:00",
           "utc": "2024-10-09 09:39Z"
          },
          "scheduledTime": {
           "local": "2024-10-09 11:39+02:00",
           "utc": "2024-10-09 09:39Z"
          }
         },
         "callSign": "TKJ86N",
         "codeshareStatus": "IsOperator",
         "departure": {
          "airport": {
           "iata": "SAW",
           "icao": "LTFJ",
           "name": "Istanbul",
           "timeZone": "Europe/Istanbul"
          },
          "quality": []
         },
         "isCargo": false,
         "number": "TKJ 86N",
         "status": "Arrived"
        },
        {
         "aircraft": {
          "modeS": "4ACB23",
          "model": "Boeing 737",
          "reg": "SE-RYC"
         },
         "airline": {
          "iata": "DY",
          "icao": "NOZ",
          "name": "Norwegian Air Shuttle"
         },
         "arrival": {
          "baggageBelt": "C2",
          "gate": "Z32",
          "quality": [
           "Basic",
           "Live"
          ],
          "revisedTime": {
           "local": "2024-10-09 11:42+02:00",
           "utc": "2024-10-09 09:42Z"
          },
          "runway": "25R",
          "runwayTime": {
           "local": "2024-10-09 11:43+02:00",
           "utc": "2024-10-09 09:43Z"
          },
          "scheduledTime": {
           "local": "2024-10-09 11:35+02:00",
           "utc": "2024-10-09 09:35Z"
          },
          "terminal": "2"
         },
         "callSign": "NOZ886",
         "codeshareStatus": "IsOperator",
         "departure": {
          "airport": {
           "iata": "ARN",
           "icao": "ESSA",
           "name": "Stockholm",
           "timeZone": "Europe/Stockholm"
          },
          "checkInDesk": "18-0",
          "gate": "D14",
          "quality": [
           "Basic",
           "Live"
          ],
          "revisedTime": {
           "local": "2024-10-09 10:05+02:00",
           "utc": "2024-10-09 08:05Z"
          },
          "runway": "19R",
          "runwayTime": {
           "local": "2024-10-09 10:18+02:00",
           "utc": "2024-10-09 08:18Z"
          },
          "scheduledTime": {
           "local": "2024-10-09 10:00+02:00",
           "utc": "2024-10-09 08:00Z"
          },
          "terminal": "5"
         },
         "isCargo": false,
         "number": "DY 886",
         "status": "Arrived"
        },
        {
         "aircraft": {
          "modeS": "4CA760",
          "model": "Boeing 737-800",
          "reg": "EI-EFE"
         },
         "airline": {
          "iata": "FR",
          "icao": "RYR",
          "name": "Ryanair"
         },
         "arrival": {
          "baggageBelt": "C1",
          "gate": "Z36",
          "quality": [
           "Basic",
           "Live"
          ],
          "revisedTime": {
           "local": "2024-10-09 11:44+02:00",
           "utc": "2024-10-09 09:44Z"
          },
          "runway": "25R",
          "runwayTime": {
           "local": "2024-10-09 11:44+02:00",
           "utc": "2024-10-09 09:44Z"
          },
          "scheduledTime": {
           "local": "2024-10-09 10:35+02:00",
           "utc": "2024-10-09 08:35Z"
          },
          "terminal": "2"
         },
         "callSign": "RYR2CG",
         "codeshareStatus": "IsOperator",
         "departure": {
          "airport": {
           "iata": "PMI",
           "icao": "LEPA",
           "name": "Palma De Mallorca",
           "timeZone": "Europe/Madrid"
          },
          "checkInDesk": "002-017",
          "gate": "C72",
          "quality": [
           "Basic",
           "Live"
          ],
          "revisedTime": {
           "local": "2024-10-09 09:10+02:00",
           "utc": "2024-10-09 07:10Z"
          },
          "runwayTime": {
           "local": "2024-10-09 09:24+02:00",
           "utc": "2024-10-09 07:24Z"
          },
          "scheduledTime": {
           "local": "2024-10-09 07:50+02:00",
           "utc": "2024-10-09 05:50Z"
          },
          "terminal": "N"
         },
         "isCargo": false,
         "number": "FR 111",
         "status": "Arrived"
        },
        {
         "aircraft": {
          "modeS": "4BC886",
          "model": "Airbus A321 NEO",
          "reg": "TC-RDF"
         },
         "airline": {
          "iata": "PC",
          "icao": "PGT",
          "name": "Pegasus"
         },
         "arrival": {
          "baggageBelt": "A4",
          "gate": "X01",
          "quality": [
           "Basic",
           "Live"
          ],
          "revisedTime": {
           "local": "2024-10-09 11:46+02:00",
           "utc": "2024-10-09 09:46Z"
          },
          "scheduledTime": {
           "local": "2024-10-09 12:10+02:00",
           "utc": "2024-10-09 10:10Z"
          },
          "terminal": "1"
         },
         "callSign": "PGT74ZN",
         "codeshareStatus": "IsOperator",
         "departure": {
          "airport": {
           "iata": "SAW",
           "icao": "LTFJ",
           "name": "Istanbul",
           "timeZone": "Europe/Istanbul"
          },
          "quality": [
           "Basic"
          ],
          "scheduledTime": {
           "local": "2024-10-09 10:15+03:00",
           "utc": "2024-10-09 07:15Z"
          }
         },
         "isCargo": false,
         "number": "PC 979",
         "status": "Arrived"
        },
        {
         "aircraft": {
          "modeS": "4B1618",
          "model": "Airbus A320",
          "reg": "HB-IJO"
         },
         "airline": {
          "iata": "LX",
          "icao": "SWR",
          "name": "SWISS"
         },
         "arrival": {
          "baggageBelt": "B4",
          "gate": "S01",
          "quality": [
           "Basic",
           "Live"
          ],
          "revisedTime": {
           "local": "2024-10-09 11:48+02:00",
           "utc": "2024-10-09 09:48Z"
          },
          "scheduledTime": {
           "local": "2024-10-09 08:45+02:00",
           "utc": "2024-10-09 06:45Z"
          },
          "terminal": "1"
         },
         "callSign": "SWR97Y",
         "codeshareStatus": "IsOperator",
         "departure": {
          "airport": {
           "iata": "ZRH",
           "icao": "LSZH",
           "name": "Zurich",
           "timeZone": "Europe/Zurich"
          },
          "checkInDesk": "1",
          "gate": "A64",
          "quality": [
           "Basic",
           "Live"
          ],
          "revisedTime": {
           "local": "2024-10-09 10:30+02:00",
           "utc": "2024-10-09 08:30Z"
          },
          "scheduledTime": {
           "local": "2024-10-09 07:20+02:00",
           "utc": "2024-10-09 05:20Z"
          }
         },
         "isCargo": false,
         "number": "LX 974",
         "status": "Arrived"
        },
        {
         "aircraft": {
          "modeS": "4BA9D0",
          "model": "Airbus A330-300",
          "reg": "TC-JNP"
         },
         "airline": {
          "iata": "TK",
          "icao": "THY",
          "name": "Turkish"
         },
         "arrival": {
          "baggageBelt": "B3",
          "gate": "Y07",
          "quality": [
           "Basic",
           "Live"
          ],
          "revisedTime": {
           "local": "2024-10-09 11:49+02:00",
           "utc": "2024-10-09 09:49Z"
          },
          "scheduledTime": {
           "local": "2024-10-09 11:45+02:00",
           "utc": "2024-10-09 09:45Z"
          },
          "terminal": "1"
         },
         "callSign": "THY5HW",
         "codeshareStatus": "IsOperator",
         "departure": {
          "airport": {
           "iata": "IST",
           "icao": "LTFM",
           "name": "Istanbul",
           "timeZone": "Europe/Istanbul"
          },
          "checkInDesk": "E-F",
          "gate": "B14",
          "quality": [
           "Basic",
           "Live"
          ],
          "revisedTime": {
           "local": "2024-10-09 10:00+03:00",
           "utc": "2024-10-09 07:00Z"
          },
          "runwayTime": {
           "local": "2024-10-09 10:42+03:00",
           "utc": "2024-10-09 07:42Z"
          },
          "scheduledTime": {
           "local": "2024-10-09 10:00+03:00",
           "utc": "2024-10-09 07:00Z"
          }
         },
         "isCargo": false,
         "number": "TK 1729",
         "status": "Arrived"
        },
        {
         "aircraft": {
          "modeS": "4CADBD",
          "model": "Boeing 737 MAX 8",
          "reg": "EI-IGK"
         },
         "airline": {
          "iata": "FR",
          "icao": "RYR",
          "name": "Ryanair"
         },
         "arrival": {
          "baggageBelt": "C3",
          "gate": "Z42",
          "quality": [
           "Basic",
           "Live"
          ],
          "revisedTime": {
           "local": "2024-10-09 11:55+02:00",
           "utc": "2024-10-09 09:55Z"
          },
          "scheduledTime": {
           "local": "2024-10-09 12:05+02:00",
           "utc": "2024-10-09 10:05Z"
          },
          "terminal": "2"
         },
         "callSign": "RYR2376",
         "codeshareStatus": "IsOperator",
         "departure": {
          "airport": {
           "iata": "EDI",
           "icao": "EGPH",
           "name": "Edinburgh",
           "timeZone": "Europe/London"
          },
          "quality": [
           "Basic",
           "Live"
          ],
          "revisedTime": {
           "local": "2024-10-09 09:10+01:00",
           "utc": "2024-10-09 08:10Z"
          },
          "runwayTime": {
           "local": "2024-10-09 09:12+01:00",
           "utc": "2024-10-09 08:12Z"
          },
          "scheduledTime": {
           "local": "2024-10-09 09:05+01:00",
           "utc": "2024-10-09 08:05Z"
          }
         },
         "isCargo": false,
         "number": "FR 2376",
         "status": "Arrived"
        }
       ]
      },
      "text/plain": [
       "<IPython.core.display.JSON object>"
      ]
     },
     "execution_count": 11,
     "metadata": {
      "application/json": {
       "expanded": false,
       "root": "root"
      }
     },
     "output_type": "execute_result"
    }
   ],
   "source": [
    "JSON(flights_json)"
   ]
  },
  {
   "cell_type": "code",
   "execution_count": 13,
   "metadata": {
    "colab": {
     "base_uri": "https://localhost:8080/"
    },
    "id": "JhH7urOYc6gt",
    "outputId": "c6b9cbcf-3ad4-460b-e519-f191ec7c5810",
    "tags": []
   },
   "outputs": [
    {
     "data": {
      "text/plain": [
       "dict_keys(['arrivals'])"
      ]
     },
     "execution_count": 13,
     "metadata": {},
     "output_type": "execute_result"
    }
   ],
   "source": [
    "flights_json.keys()"
   ]
  },
  {
   "cell_type": "code",
   "execution_count": 16,
   "metadata": {
    "colab": {
     "base_uri": "https://localhost:8080/"
    },
    "id": "zLqj6WtjdMR9",
    "outputId": "75d43ca4-1466-4d6b-c034-206465fd4160",
    "scrolled": true,
    "tags": []
   },
   "outputs": [
    {
     "data": {
      "text/plain": [
       "[{'departure': {'airport': {'icao': 'UGTB',\n",
       "    'iata': 'TBS',\n",
       "    'name': 'Tbilisi',\n",
       "    'timeZone': 'Asia/Tbilisi'},\n",
       "   'scheduledTime': {'utc': '2024-10-13 23:20Z',\n",
       "    'local': '2024-10-14 03:20+04:00'},\n",
       "   'revisedTime': {'utc': '2024-10-13 23:56Z',\n",
       "    'local': '2024-10-14 03:56+04:00'},\n",
       "   'checkInDesk': '05',\n",
       "   'gate': '103',\n",
       "   'quality': ['Basic', 'Live']},\n",
       "  'arrival': {'scheduledTime': {'utc': '2024-10-14 03:40Z',\n",
       "    'local': '2024-10-14 05:40+02:00'},\n",
       "   'revisedTime': {'utc': '2024-10-14 04:14Z',\n",
       "    'local': '2024-10-14 06:14+02:00'},\n",
       "   'runwayTime': {'utc': '2024-10-14 04:14Z',\n",
       "    'local': '2024-10-14 06:14+02:00'},\n",
       "   'terminal': '1',\n",
       "   'gate': 'X10',\n",
       "   'baggageBelt': 'A2',\n",
       "   'runway': '25L',\n",
       "   'quality': ['Basic', 'Live']},\n",
       "  'number': 'EW 8993',\n",
       "  'callSign': 'EWG8993',\n",
       "  'status': 'Arrived',\n",
       "  'codeshareStatus': 'IsOperator',\n",
       "  'isCargo': False,\n",
       "  'aircraft': {'reg': '9H-MLR', 'modeS': '4D23A1', 'model': 'Airbus A320'},\n",
       "  'airline': {'name': 'Eurowings', 'iata': 'EW', 'icao': 'EWG'}},\n",
       " {'departure': {'airport': {'icao': 'LTBJ',\n",
       "    'iata': 'ADB',\n",
       "    'name': 'İzmir',\n",
       "    'timeZone': 'Europe/Istanbul'},\n",
       "   'scheduledTime': {'utc': '2024-10-14 01:25Z',\n",
       "    'local': '2024-10-14 04:25+03:00'},\n",
       "   'revisedTime': {'utc': '2024-10-14 01:29Z',\n",
       "    'local': '2024-10-14 04:29+03:00'},\n",
       "   'runwayTime': {'utc': '2024-10-14 01:31Z',\n",
       "    'local': '2024-10-14 04:31+03:00'},\n",
       "   'terminal': 'I',\n",
       "   'checkInDesk': '13',\n",
       "   'gate': '33',\n",
       "   'quality': ['Basic', 'Live']},\n",
       "  'arrival': {'scheduledTime': {'utc': '2024-10-14 04:30Z',\n",
       "    'local': '2024-10-14 06:30+02:00'},\n",
       "   'revisedTime': {'utc': '2024-10-14 04:17Z',\n",
       "    'local': '2024-10-14 06:17+02:00'},\n",
       "   'runwayTime': {'utc': '2024-10-14 04:18Z',\n",
       "    'local': '2024-10-14 06:18+02:00'},\n",
       "   'terminal': '1',\n",
       "   'gate': 'N01',\n",
       "   'baggageBelt': 'B3',\n",
       "   'runway': '25R',\n",
       "   'quality': ['Basic', 'Live']},\n",
       "  'number': 'XQ 966',\n",
       "  'callSign': 'SXS5D',\n",
       "  'status': 'Arrived',\n",
       "  'codeshareStatus': 'IsOperator',\n",
       "  'isCargo': False,\n",
       "  'aircraft': {'reg': 'TC-SEM', 'modeS': '4BCCAD', 'model': 'Boeing 737-800'},\n",
       "  'airline': {'name': 'Sun Express', 'iata': 'XQ', 'icao': 'SXS'}},\n",
       " {'departure': {'airport': {'icao': 'ZBAA',\n",
       "    'iata': 'PEK',\n",
       "    'name': 'Beijing',\n",
       "    'timeZone': 'Asia/Shanghai'},\n",
       "   'scheduledTime': {'utc': '2024-10-13 18:40Z',\n",
       "    'local': '2024-10-14 02:40+08:00'},\n",
       "   'revisedTime': {'utc': '2024-10-13 18:49Z',\n",
       "    'local': '2024-10-14 02:49+08:00'},\n",
       "   'terminal': '2',\n",
       "   'checkInDesk': 'C11-C15',\n",
       "   'gate': '12',\n",
       "   'quality': ['Basic', 'Live']},\n",
       "  'arrival': {'scheduledTime': {'utc': '2024-10-14 04:45Z',\n",
       "    'local': '2024-10-14 06:45+02:00'},\n",
       "   'revisedTime': {'utc': '2024-10-14 04:26Z',\n",
       "    'local': '2024-10-14 06:26+02:00'},\n",
       "   'terminal': '1',\n",
       "   'gate': 'X17',\n",
       "   'baggageBelt': 'A3',\n",
       "   'quality': ['Basic', 'Live']},\n",
       "  'number': 'HU 489',\n",
       "  'callSign': 'CHH489',\n",
       "  'status': 'Arrived',\n",
       "  'codeshareStatus': 'IsOperator',\n",
       "  'isCargo': False,\n",
       "  'aircraft': {'reg': 'B-304L', 'modeS': '781591', 'model': 'Airbus A330'},\n",
       "  'airline': {'name': 'Hainan', 'iata': 'HU', 'icao': 'CHH'}},\n",
       " {'departure': {'airport': {'icao': 'LTAJ',\n",
       "    'iata': 'GZT',\n",
       "    'name': 'Gaziantep',\n",
       "    'timeZone': 'Europe/Istanbul'},\n",
       "   'scheduledTime': {'utc': '2024-10-14 00:55Z',\n",
       "    'local': '2024-10-14 03:55+03:00'},\n",
       "   'quality': ['Basic']},\n",
       "  'arrival': {'scheduledTime': {'utc': '2024-10-14 04:45Z',\n",
       "    'local': '2024-10-14 06:45+02:00'},\n",
       "   'revisedTime': {'utc': '2024-10-14 04:53Z',\n",
       "    'local': '2024-10-14 06:53+02:00'},\n",
       "   'terminal': '1',\n",
       "   'gate': 'N01',\n",
       "   'baggageBelt': 'B1',\n",
       "   'quality': ['Basic', 'Live']},\n",
       "  'number': 'XQ 1766',\n",
       "  'status': 'Arrived',\n",
       "  'codeshareStatus': 'IsOperator',\n",
       "  'isCargo': False,\n",
       "  'aircraft': {'reg': 'TC-SOO', 'modeS': '4BCDEF', 'model': 'Boeing 737'},\n",
       "  'airline': {'name': 'Sun Express', 'iata': 'XQ', 'icao': 'SXS'}},\n",
       " {'departure': {'airport': {'icao': 'KJFK',\n",
       "    'iata': 'JFK',\n",
       "    'name': 'New York',\n",
       "    'timeZone': 'America/New_York'},\n",
       "   'scheduledTime': {'utc': '2024-10-13 21:35Z',\n",
       "    'local': '2024-10-13 17:35-04:00'},\n",
       "   'revisedTime': {'utc': '2024-10-13 21:59Z',\n",
       "    'local': '2024-10-13 17:59-04:00'},\n",
       "   'runwayTime': {'utc': '2024-10-13 21:59Z',\n",
       "    'local': '2024-10-13 17:59-04:00'},\n",
       "   'terminal': '4',\n",
       "   'runway': '13R',\n",
       "   'quality': ['Basic', 'Live']},\n",
       "  'arrival': {'scheduledTime': {'utc': '2024-10-14 05:50Z',\n",
       "    'local': '2024-10-14 07:50+02:00'},\n",
       "   'revisedTime': {'utc': '2024-10-14 04:58Z',\n",
       "    'local': '2024-10-14 06:58+02:00'},\n",
       "   'runwayTime': {'utc': '2024-10-14 04:59Z',\n",
       "    'local': '2024-10-14 06:59+02:00'},\n",
       "   'terminal': '1',\n",
       "   'gate': 'Y02',\n",
       "   'baggageBelt': 'B3',\n",
       "   'runway': '25L',\n",
       "   'quality': ['Basic', 'Live']},\n",
       "  'number': 'DL 92',\n",
       "  'callSign': 'DAL92',\n",
       "  'status': 'Arrived',\n",
       "  'codeshareStatus': 'IsOperator',\n",
       "  'isCargo': False,\n",
       "  'aircraft': {'reg': 'N1603', 'modeS': 'A0F46F', 'model': 'Boeing 767-300'},\n",
       "  'airline': {'name': 'Delta Air Lines', 'iata': 'DL', 'icao': 'DAL'}},\n",
       " {'departure': {'airport': {'icao': 'EDDS',\n",
       "    'iata': 'STR',\n",
       "    'name': 'Stuttgart',\n",
       "    'timeZone': 'Europe/Berlin'},\n",
       "   'scheduledTime': {'utc': '2024-10-14 04:15Z',\n",
       "    'local': '2024-10-14 06:15+02:00'},\n",
       "   'revisedTime': {'utc': '2024-10-14 04:15Z',\n",
       "    'local': '2024-10-14 06:15+02:00'},\n",
       "   'terminal': '3',\n",
       "   'gate': '361',\n",
       "   'quality': ['Basic', 'Live']},\n",
       "  'arrival': {'scheduledTime': {'utc': '2024-10-14 05:25Z',\n",
       "    'local': '2024-10-14 07:25+02:00'},\n",
       "   'revisedTime': {'utc': '2024-10-14 05:11Z',\n",
       "    'local': '2024-10-14 07:11+02:00'},\n",
       "   'terminal': '1',\n",
       "   'gate': 'A33',\n",
       "   'baggageBelt': 'A4',\n",
       "   'quality': ['Basic', 'Live']},\n",
       "  'number': 'LH 5385',\n",
       "  'status': 'Arrived',\n",
       "  'codeshareStatus': 'IsCodeshared',\n",
       "  'isCargo': False,\n",
       "  'aircraft': {'reg': 'D-AGWD', 'modeS': '3C5EE4', 'model': 'Airbus A319'},\n",
       "  'airline': {'name': 'Lufthansa', 'iata': 'LH', 'icao': 'DLH'}},\n",
       " {'departure': {'airport': {'icao': 'EDDS',\n",
       "    'iata': 'STR',\n",
       "    'name': 'Stuttgart',\n",
       "    'timeZone': 'Europe/Berlin'},\n",
       "   'scheduledTime': {'utc': '2024-10-14 04:15Z',\n",
       "    'local': '2024-10-14 06:15+02:00'},\n",
       "   'revisedTime': {'utc': '2024-10-14 04:15Z',\n",
       "    'local': '2024-10-14 06:15+02:00'},\n",
       "   'terminal': '3',\n",
       "   'gate': '361',\n",
       "   'quality': ['Basic', 'Live']},\n",
       "  'arrival': {'scheduledTime': {'utc': '2024-10-14 05:25Z',\n",
       "    'local': '2024-10-14 07:25+02:00'},\n",
       "   'revisedTime': {'utc': '2024-10-14 05:11Z',\n",
       "    'local': '2024-10-14 07:11+02:00'},\n",
       "   'terminal': '1',\n",
       "   'gate': 'A33',\n",
       "   'baggageBelt': 'A4',\n",
       "   'quality': ['Basic', 'Live']},\n",
       "  'number': 'EW 2002',\n",
       "  'status': 'Arrived',\n",
       "  'codeshareStatus': 'IsOperator',\n",
       "  'isCargo': False,\n",
       "  'aircraft': {'reg': 'D-AGWD', 'modeS': '3C5EE4', 'model': 'Airbus A319'},\n",
       "  'airline': {'name': 'Eurowings', 'iata': 'EW', 'icao': 'EWG'}},\n",
       " {'departure': {'airport': {'icao': 'EDDL',\n",
       "    'iata': 'DUS',\n",
       "    'name': 'Düsseldorf',\n",
       "    'timeZone': 'Europe/Berlin'},\n",
       "   'scheduledTime': {'utc': '2024-10-14 04:20Z',\n",
       "    'local': '2024-10-14 06:20+02:00'},\n",
       "   'revisedTime': {'utc': '2024-10-14 04:21Z',\n",
       "    'local': '2024-10-14 06:21+02:00'},\n",
       "   'runwayTime': {'utc': '2024-10-14 04:32Z',\n",
       "    'local': '2024-10-14 06:32+02:00'},\n",
       "   'terminal': 'B',\n",
       "   'checkInDesk': '151,170',\n",
       "   'gate': 'A25',\n",
       "   'quality': ['Basic', 'Live']},\n",
       "  'arrival': {'scheduledTime': {'utc': '2024-10-14 05:30Z',\n",
       "    'local': '2024-10-14 07:30+02:00'},\n",
       "   'revisedTime': {'utc': '2024-10-14 05:19Z',\n",
       "    'local': '2024-10-14 07:19+02:00'},\n",
       "   'terminal': '1',\n",
       "   'gate': 'A32',\n",
       "   'baggageBelt': 'A4',\n",
       "   'quality': ['Basic', 'Live']},\n",
       "  'number': 'EW 9048',\n",
       "  'callSign': 'GWI52FP',\n",
       "  'status': 'Arrived',\n",
       "  'codeshareStatus': 'IsOperator',\n",
       "  'isCargo': False,\n",
       "  'aircraft': {'reg': 'D-AEWV', 'modeS': '3C56F6', 'model': 'Airbus A320'},\n",
       "  'airline': {'name': 'Eurowings', 'iata': 'EW', 'icao': 'EWG'}},\n",
       " {'departure': {'airport': {'icao': 'EDDF',\n",
       "    'iata': 'FRA',\n",
       "    'name': 'Frankfurt-am-Main',\n",
       "    'timeZone': 'Europe/Berlin'},\n",
       "   'scheduledTime': {'utc': '2024-10-14 04:15Z',\n",
       "    'local': '2024-10-14 06:15+02:00'},\n",
       "   'revisedTime': {'utc': '2024-10-14 04:15Z',\n",
       "    'local': '2024-10-14 06:15+02:00'},\n",
       "   'terminal': '1',\n",
       "   'checkInDesk': '259-335',\n",
       "   'gate': 'A25',\n",
       "   'quality': ['Basic', 'Live']},\n",
       "  'arrival': {'scheduledTime': {'utc': '2024-10-14 05:25Z',\n",
       "    'local': '2024-10-14 07:25+02:00'},\n",
       "   'revisedTime': {'utc': '2024-10-14 05:21Z',\n",
       "    'local': '2024-10-14 07:21+02:00'},\n",
       "   'terminal': '1',\n",
       "   'gate': 'A01',\n",
       "   'baggageBelt': 'A1',\n",
       "   'quality': ['Basic', 'Live']},\n",
       "  'number': 'LH 172',\n",
       "  'callSign': 'DLH172',\n",
       "  'status': 'Arrived',\n",
       "  'codeshareStatus': 'IsOperator',\n",
       "  'isCargo': False,\n",
       "  'aircraft': {'reg': 'D-AIQU', 'modeS': '3C6635', 'model': 'Airbus A320-200'},\n",
       "  'airline': {'name': 'Lufthansa', 'iata': 'LH', 'icao': 'DLH'}},\n",
       " {'departure': {'airport': {'icao': 'LOWW',\n",
       "    'iata': 'VIE',\n",
       "    'name': 'Vienna',\n",
       "    'timeZone': 'Europe/Vienna'},\n",
       "   'scheduledTime': {'utc': '2024-10-14 04:20Z',\n",
       "    'local': '2024-10-14 06:20+02:00'},\n",
       "   'revisedTime': {'utc': '2024-10-14 04:26Z',\n",
       "    'local': '2024-10-14 06:26+02:00'},\n",
       "   'runwayTime': {'utc': '2024-10-14 04:27Z',\n",
       "    'local': '2024-10-14 06:27+02:00'},\n",
       "   'terminal': '3',\n",
       "   'checkInDesk': '351-372',\n",
       "   'gate': 'F10',\n",
       "   'runway': '29',\n",
       "   'quality': ['Basic', 'Live']},\n",
       "  'arrival': {'scheduledTime': {'utc': '2024-10-14 05:30Z',\n",
       "    'local': '2024-10-14 07:30+02:00'},\n",
       "   'revisedTime': {'utc': '2024-10-14 05:25Z',\n",
       "    'local': '2024-10-14 07:25+02:00'},\n",
       "   'runwayTime': {'utc': '2024-10-14 05:25Z',\n",
       "    'local': '2024-10-14 07:25+02:00'},\n",
       "   'terminal': '1',\n",
       "   'gate': 'B06',\n",
       "   'baggageBelt': 'B3',\n",
       "   'runway': '25L',\n",
       "   'quality': ['Basic', 'Live']},\n",
       "  'number': 'OS 221',\n",
       "  'callSign': 'AUA221W',\n",
       "  'status': 'Arrived',\n",
       "  'codeshareStatus': 'IsOperator',\n",
       "  'isCargo': False,\n",
       "  'aircraft': {'reg': 'OE-LBK', 'modeS': '440667', 'model': 'Airbus A320'},\n",
       "  'airline': {'name': 'Austrian', 'iata': 'OS', 'icao': 'AUA'}},\n",
       " {'departure': {'airport': {'icao': 'EDDK',\n",
       "    'iata': 'CGN',\n",
       "    'name': 'Cologne',\n",
       "    'timeZone': 'Europe/Berlin'},\n",
       "   'scheduledTime': {'utc': '2024-10-14 04:30Z',\n",
       "    'local': '2024-10-14 06:30+02:00'},\n",
       "   'revisedTime': {'utc': '2024-10-14 04:28Z',\n",
       "    'local': '2024-10-14 06:28+02:00'},\n",
       "   'runwayTime': {'utc': '2024-10-14 04:42Z',\n",
       "    'local': '2024-10-14 06:42+02:00'},\n",
       "   'terminal': '1',\n",
       "   'quality': ['Basic', 'Live']},\n",
       "  'arrival': {'scheduledTime': {'utc': '2024-10-14 05:40Z',\n",
       "    'local': '2024-10-14 07:40+02:00'},\n",
       "   'revisedTime': {'utc': '2024-10-14 05:28Z',\n",
       "    'local': '2024-10-14 07:28+02:00'},\n",
       "   'runwayTime': {'utc': '2024-10-14 05:28Z',\n",
       "    'local': '2024-10-14 07:28+02:00'},\n",
       "   'terminal': '1',\n",
       "   'gate': 'A37',\n",
       "   'baggageBelt': 'A1',\n",
       "   'runway': '25L',\n",
       "   'quality': ['Basic', 'Live']},\n",
       "  'number': 'EW 12',\n",
       "  'callSign': 'EWG5MK',\n",
       "  'status': 'Arrived',\n",
       "  'codeshareStatus': 'IsOperator',\n",
       "  'isCargo': False,\n",
       "  'aircraft': {'reg': 'OK-TSO', 'modeS': '49D307', 'model': 'Boeing 737-800'},\n",
       "  'airline': {'name': 'Eurowings', 'iata': 'EW', 'icao': 'EWG'}},\n",
       " {'departure': {'airport': {'icao': 'LTAI',\n",
       "    'iata': 'AYT',\n",
       "    'name': 'Antalya',\n",
       "    'timeZone': 'Europe/Istanbul'},\n",
       "   'scheduledTime': {'utc': '2024-10-14 01:55Z',\n",
       "    'local': '2024-10-14 04:55+03:00'},\n",
       "   'revisedTime': {'utc': '2024-10-14 01:55Z',\n",
       "    'local': '2024-10-14 04:55+03:00'},\n",
       "   'terminal': '1',\n",
       "   'checkInDesk': '126-128',\n",
       "   'quality': ['Basic', 'Live']},\n",
       "  'arrival': {'scheduledTime': {'utc': '2024-10-14 05:30Z',\n",
       "    'local': '2024-10-14 07:30+02:00'},\n",
       "   'revisedTime': {'utc': '2024-10-14 05:31Z',\n",
       "    'local': '2024-10-14 07:31+02:00'},\n",
       "   'runwayTime': {'utc': '2024-10-14 05:32Z',\n",
       "    'local': '2024-10-14 07:32+02:00'},\n",
       "   'terminal': '1',\n",
       "   'gate': 'Y03',\n",
       "   'baggageBelt': 'B4',\n",
       "   'runway': '25L',\n",
       "   'quality': ['Basic', 'Live']},\n",
       "  'number': 'XQ 668',\n",
       "  'callSign': 'SXS1MT',\n",
       "  'status': 'Arrived',\n",
       "  'codeshareStatus': 'IsOperator',\n",
       "  'isCargo': False,\n",
       "  'aircraft': {'reg': 'TC-SMI',\n",
       "   'modeS': '4BCDA9',\n",
       "   'model': 'Boeing 737 MAX 8'},\n",
       "  'airline': {'name': 'Sun Express', 'iata': 'XQ', 'icao': 'SXS'}},\n",
       " {'departure': {'airport': {'icao': 'KEWR',\n",
       "    'iata': 'EWR',\n",
       "    'name': 'Newark',\n",
       "    'timeZone': 'America/New_York'},\n",
       "   'scheduledTime': {'utc': '2024-10-13 21:15Z',\n",
       "    'local': '2024-10-13 17:15-04:00'},\n",
       "   'revisedTime': {'utc': '2024-10-13 22:31Z',\n",
       "    'local': '2024-10-13 18:31-04:00'},\n",
       "   'runwayTime': {'utc': '2024-10-13 22:31Z',\n",
       "    'local': '2024-10-13 18:31-04:00'},\n",
       "   'terminal': 'C',\n",
       "   'runway': '22R',\n",
       "   'quality': ['Basic', 'Live']},\n",
       "  'arrival': {'scheduledTime': {'utc': '2024-10-14 05:15Z',\n",
       "    'local': '2024-10-14 07:15+02:00'},\n",
       "   'revisedTime': {'utc': '2024-10-14 05:34Z',\n",
       "    'local': '2024-10-14 07:34+02:00'},\n",
       "   'runwayTime': {'utc': '2024-10-14 05:34Z',\n",
       "    'local': '2024-10-14 07:34+02:00'},\n",
       "   'terminal': '1',\n",
       "   'gate': 'Y17',\n",
       "   'baggageBelt': 'B2',\n",
       "   'runway': '25R',\n",
       "   'quality': ['Basic', 'Live']},\n",
       "  'number': 'UA 962',\n",
       "  'callSign': 'UAL962',\n",
       "  'status': 'Arrived',\n",
       "  'codeshareStatus': 'IsOperator',\n",
       "  'isCargo': False,\n",
       "  'aircraft': {'reg': 'N76062', 'modeS': 'AA44CD', 'model': 'Boeing 767-400'},\n",
       "  'airline': {'name': 'United', 'iata': 'UA', 'icao': 'UAL'}},\n",
       " {'departure': {'airport': {'icao': 'EVRA',\n",
       "    'iata': 'RIX',\n",
       "    'name': 'Riga',\n",
       "    'timeZone': 'Europe/Riga'},\n",
       "   'scheduledTime': {'utc': '2024-10-14 04:00Z',\n",
       "    'local': '2024-10-14 07:00+03:00'},\n",
       "   'revisedTime': {'utc': '2024-10-14 04:00Z',\n",
       "    'local': '2024-10-14 07:00+03:00'},\n",
       "   'terminal': 'B',\n",
       "   'gate': 'B1',\n",
       "   'quality': ['Basic', 'Live']},\n",
       "  'arrival': {'scheduledTime': {'utc': '2024-10-14 05:40Z',\n",
       "    'local': '2024-10-14 07:40+02:00'},\n",
       "   'revisedTime': {'utc': '2024-10-14 05:35Z',\n",
       "    'local': '2024-10-14 07:35+02:00'},\n",
       "   'terminal': '1',\n",
       "   'gate': 'A35',\n",
       "   'baggageBelt': 'A4',\n",
       "   'quality': ['Basic', 'Live']},\n",
       "  'number': 'DL 7313',\n",
       "  'status': 'Arrived',\n",
       "  'codeshareStatus': 'IsCodeshared',\n",
       "  'isCargo': False,\n",
       "  'aircraft': {'reg': 'LY-NVL', 'modeS': '503CFD', 'model': 'Airbus A320'},\n",
       "  'airline': {'name': 'Delta Air Lines', 'iata': 'DL', 'icao': 'DAL'}},\n",
       " {'departure': {'airport': {'icao': 'EVRA',\n",
       "    'iata': 'RIX',\n",
       "    'name': 'Riga',\n",
       "    'timeZone': 'Europe/Riga'},\n",
       "   'scheduledTime': {'utc': '2024-10-14 04:00Z',\n",
       "    'local': '2024-10-14 07:00+03:00'},\n",
       "   'revisedTime': {'utc': '2024-10-14 04:00Z',\n",
       "    'local': '2024-10-14 07:00+03:00'},\n",
       "   'terminal': 'B',\n",
       "   'gate': 'B1',\n",
       "   'quality': ['Basic', 'Live']},\n",
       "  'arrival': {'scheduledTime': {'utc': '2024-10-14 05:40Z',\n",
       "    'local': '2024-10-14 07:40+02:00'},\n",
       "   'revisedTime': {'utc': '2024-10-14 05:35Z',\n",
       "    'local': '2024-10-14 07:35+02:00'},\n",
       "   'terminal': '1',\n",
       "   'gate': 'A35',\n",
       "   'baggageBelt': 'A4',\n",
       "   'quality': ['Basic', 'Live']},\n",
       "  'number': 'A3 3219',\n",
       "  'status': 'Arrived',\n",
       "  'codeshareStatus': 'IsCodeshared',\n",
       "  'isCargo': False,\n",
       "  'aircraft': {'reg': 'LY-NVL', 'modeS': '503CFD', 'model': 'Airbus A320'},\n",
       "  'airline': {'name': 'Aegean', 'iata': 'A3', 'icao': 'AEE'}},\n",
       " {'departure': {'airport': {'icao': 'EVRA',\n",
       "    'iata': 'RIX',\n",
       "    'name': 'Riga',\n",
       "    'timeZone': 'Europe/Riga'},\n",
       "   'scheduledTime': {'utc': '2024-10-14 04:00Z',\n",
       "    'local': '2024-10-14 07:00+03:00'},\n",
       "   'revisedTime': {'utc': '2024-10-14 04:00Z',\n",
       "    'local': '2024-10-14 07:00+03:00'},\n",
       "   'terminal': 'B',\n",
       "   'gate': 'B1',\n",
       "   'quality': ['Basic', 'Live']},\n",
       "  'arrival': {'scheduledTime': {'utc': '2024-10-14 05:40Z',\n",
       "    'local': '2024-10-14 07:40+02:00'},\n",
       "   'revisedTime': {'utc': '2024-10-14 05:35Z',\n",
       "    'local': '2024-10-14 07:35+02:00'},\n",
       "   'terminal': '1',\n",
       "   'gate': 'A35',\n",
       "   'baggageBelt': 'A4',\n",
       "   'quality': ['Basic', 'Live']},\n",
       "  'number': 'JU 7659',\n",
       "  'status': 'Arrived',\n",
       "  'codeshareStatus': 'IsCodeshared',\n",
       "  'isCargo': False,\n",
       "  'aircraft': {'reg': 'LY-NVL', 'modeS': '503CFD', 'model': 'Airbus A320'},\n",
       "  'airline': {'name': 'JU'}},\n",
       " {'departure': {'airport': {'icao': 'EVRA',\n",
       "    'iata': 'RIX',\n",
       "    'name': 'Riga',\n",
       "    'timeZone': 'Europe/Riga'},\n",
       "   'scheduledTime': {'utc': '2024-10-14 04:00Z',\n",
       "    'local': '2024-10-14 07:00+03:00'},\n",
       "   'revisedTime': {'utc': '2024-10-14 04:00Z',\n",
       "    'local': '2024-10-14 07:00+03:00'},\n",
       "   'terminal': 'B',\n",
       "   'gate': 'B1',\n",
       "   'quality': ['Basic', 'Live']},\n",
       "  'arrival': {'scheduledTime': {'utc': '2024-10-14 05:40Z',\n",
       "    'local': '2024-10-14 07:40+02:00'},\n",
       "   'revisedTime': {'utc': '2024-10-14 05:35Z',\n",
       "    'local': '2024-10-14 07:35+02:00'},\n",
       "   'runwayTime': {'utc': '2024-10-14 05:35Z',\n",
       "    'local': '2024-10-14 07:35+02:00'},\n",
       "   'terminal': '1',\n",
       "   'gate': 'A35',\n",
       "   'baggageBelt': 'A4',\n",
       "   'runway': '25L',\n",
       "   'quality': ['Basic', 'Live']},\n",
       "  'number': 'BT 211',\n",
       "  'callSign': 'BTI74A',\n",
       "  'status': 'Arrived',\n",
       "  'codeshareStatus': 'IsOperator',\n",
       "  'isCargo': False,\n",
       "  'aircraft': {'reg': 'LY-NVL', 'modeS': '503CFD', 'model': 'Airbus A320'},\n",
       "  'airline': {'name': 'airBaltic', 'iata': 'BT', 'icao': 'BTI'}},\n",
       " {'departure': {'airport': {'icao': 'OTHH',\n",
       "    'iata': 'DOH',\n",
       "    'name': 'Doha',\n",
       "    'timeZone': 'Asia/Qatar'},\n",
       "   'scheduledTime': {'utc': '2024-10-13 23:10Z',\n",
       "    'local': '2024-10-14 02:10+03:00'},\n",
       "   'revisedTime': {'utc': '2024-10-13 23:09Z',\n",
       "    'local': '2024-10-14 02:09+03:00'},\n",
       "   'runwayTime': {'utc': '2024-10-13 23:24Z',\n",
       "    'local': '2024-10-14 02:24+03:00'},\n",
       "   'gate': 'C62',\n",
       "   'quality': ['Basic', 'Live']},\n",
       "  'arrival': {'scheduledTime': {'utc': '2024-10-14 05:20Z',\n",
       "    'local': '2024-10-14 07:20+02:00'},\n",
       "   'revisedTime': {'utc': '2024-10-14 05:37Z',\n",
       "    'local': '2024-10-14 07:37+02:00'},\n",
       "   'runwayTime': {'utc': '2024-10-14 05:37Z',\n",
       "    'local': '2024-10-14 07:37+02:00'},\n",
       "   'terminal': '1',\n",
       "   'gate': 'X03',\n",
       "   'baggageBelt': 'A2',\n",
       "   'runway': '25L',\n",
       "   'quality': ['Basic', 'Live']},\n",
       "  'number': 'QR 79',\n",
       "  'callSign': 'QTR32A',\n",
       "  'status': 'Arrived',\n",
       "  'codeshareStatus': 'IsOperator',\n",
       "  'isCargo': False,\n",
       "  'aircraft': {'reg': 'A7-BHH', 'modeS': '06A2EB', 'model': 'Boeing 787-9'},\n",
       "  'airline': {'name': 'Qatar', 'iata': 'QR', 'icao': 'QTR'}},\n",
       " {'departure': {'airport': {'icao': 'EYVI',\n",
       "    'iata': 'VNO',\n",
       "    'name': 'Vilnius',\n",
       "    'timeZone': 'Europe/Vilnius'},\n",
       "   'scheduledTime': {'utc': '2024-10-14 04:10Z',\n",
       "    'local': '2024-10-14 07:10+03:00'},\n",
       "   'quality': ['Basic']},\n",
       "  'arrival': {'scheduledTime': {'utc': '2024-10-14 05:50Z',\n",
       "    'local': '2024-10-14 07:50+02:00'},\n",
       "   'revisedTime': {'utc': '2024-10-14 05:39Z',\n",
       "    'local': '2024-10-14 07:39+02:00'},\n",
       "   'terminal': '2',\n",
       "   'gate': 'Z32',\n",
       "   'baggageBelt': 'C3',\n",
       "   'runway': '25R',\n",
       "   'quality': ['Basic', 'Live']},\n",
       "  'number': 'FR 1571',\n",
       "  'callSign': 'RYR16HT',\n",
       "  'status': 'Arrived',\n",
       "  'codeshareStatus': 'IsOperator',\n",
       "  'isCargo': False,\n",
       "  'aircraft': {'reg': 'SP-RSI', 'modeS': '48C228', 'model': 'Boeing 737-800'},\n",
       "  'airline': {'name': 'Ryanair', 'iata': 'FR', 'icao': 'RYR'}},\n",
       " {'departure': {'airport': {'icao': 'HEMA',\n",
       "    'iata': 'RMF',\n",
       "    'name': 'Marsa Alam',\n",
       "    'timeZone': 'Africa/Cairo'},\n",
       "   'scheduledTime': {'utc': '2024-10-14 01:10Z',\n",
       "    'local': '2024-10-14 04:10+03:00'},\n",
       "   'quality': ['Basic']},\n",
       "  'arrival': {'scheduledTime': {'utc': '2024-10-14 06:10Z',\n",
       "    'local': '2024-10-14 08:10+02:00'},\n",
       "   'revisedTime': {'utc': '2024-10-14 05:41Z',\n",
       "    'local': '2024-10-14 07:41+02:00'},\n",
       "   'terminal': '1',\n",
       "   'gate': 'N01',\n",
       "   'baggageBelt': 'B1',\n",
       "   'quality': ['Basic', 'Live']},\n",
       "  'number': 'SM 2962',\n",
       "  'callSign': 'MSC2962',\n",
       "  'status': 'Arrived',\n",
       "  'codeshareStatus': 'IsOperator',\n",
       "  'isCargo': False,\n",
       "  'aircraft': {'reg': 'SU-BUX', 'modeS': '01024B', 'model': 'Airbus A320 NEO'},\n",
       "  'airline': {'name': 'Air Cairo', 'iata': 'SM', 'icao': 'MSC'}},\n",
       " {'departure': {'airport': {'icao': 'LFST',\n",
       "    'iata': 'SXB',\n",
       "    'name': 'Strasbourg',\n",
       "    'timeZone': 'Europe/Paris'},\n",
       "   'scheduledTime': {'utc': '2024-10-14 04:30Z',\n",
       "    'local': '2024-10-14 06:30+02:00'},\n",
       "   'revisedTime': {'utc': '2024-10-14 04:46Z',\n",
       "    'local': '2024-10-14 06:46+02:00'},\n",
       "   'runwayTime': {'utc': '2024-10-14 04:46Z',\n",
       "    'local': '2024-10-14 06:46+02:00'},\n",
       "   'runway': '23',\n",
       "   'quality': ['Basic', 'Live']},\n",
       "  'arrival': {'scheduledTime': {'utc': '2024-10-14 06:00Z',\n",
       "    'local': '2024-10-14 08:00+02:00'},\n",
       "   'revisedTime': {'utc': '2024-10-14 05:43Z',\n",
       "    'local': '2024-10-14 07:43+02:00'},\n",
       "   'terminal': '1',\n",
       "   'gate': 'A34',\n",
       "   'baggageBelt': 'A3',\n",
       "   'quality': ['Basic', 'Live']},\n",
       "  'number': 'V7 2596',\n",
       "  'callSign': 'VOE2UD',\n",
       "  'status': 'Arrived',\n",
       "  'codeshareStatus': 'IsOperator',\n",
       "  'isCargo': False,\n",
       "  'aircraft': {'reg': 'EC-NOS', 'modeS': '346614', 'model': 'Airbus A320'},\n",
       "  'airline': {'name': 'Volotea', 'iata': 'V7', 'icao': 'VOE'}},\n",
       " {'departure': {'airport': {'icao': 'EDDF',\n",
       "    'iata': 'FRA',\n",
       "    'name': 'Frankfurt-am-Main',\n",
       "    'timeZone': 'Europe/Berlin'},\n",
       "   'scheduledTime': {'utc': '2024-10-14 04:45Z',\n",
       "    'local': '2024-10-14 06:45+02:00'},\n",
       "   'revisedTime': {'utc': '2024-10-14 04:45Z',\n",
       "    'local': '2024-10-14 06:45+02:00'},\n",
       "   'runwayTime': {'utc': '2024-10-14 04:58Z',\n",
       "    'local': '2024-10-14 06:58+02:00'},\n",
       "   'terminal': '1',\n",
       "   'checkInDesk': '259-335',\n",
       "   'gate': 'A1',\n",
       "   'runway': '07C',\n",
       "   'quality': ['Basic', 'Live']},\n",
       "  'arrival': {'scheduledTime': {'utc': '2024-10-14 05:55Z',\n",
       "    'local': '2024-10-14 07:55+02:00'},\n",
       "   'revisedTime': {'utc': '2024-10-14 05:45Z',\n",
       "    'local': '2024-10-14 07:45+02:00'},\n",
       "   'terminal': '1',\n",
       "   'gate': 'B07',\n",
       "   'baggageBelt': 'B3',\n",
       "   'quality': ['Basic', 'Live']},\n",
       "  'number': 'LH 170',\n",
       "  'callSign': 'DLH1PT',\n",
       "  'status': 'Expected',\n",
       "  'codeshareStatus': 'IsOperator',\n",
       "  'isCargo': False,\n",
       "  'aircraft': {'reg': 'D-AIRO', 'modeS': '3C664F', 'model': 'Airbus A321'},\n",
       "  'airline': {'name': 'Lufthansa', 'iata': 'LH', 'icao': 'DLH'}},\n",
       " {'departure': {'airport': {'icao': 'ESSA',\n",
       "    'iata': 'ARN',\n",
       "    'name': 'Stockholm',\n",
       "    'timeZone': 'Europe/Stockholm'},\n",
       "   'scheduledTime': {'utc': '2024-10-14 04:30Z',\n",
       "    'local': '2024-10-14 06:30+02:00'},\n",
       "   'revisedTime': {'utc': '2024-10-14 04:21Z',\n",
       "    'local': '2024-10-14 06:21+02:00'},\n",
       "   'runwayTime': {'utc': '2024-10-14 04:31Z',\n",
       "    'local': '2024-10-14 06:31+02:00'},\n",
       "   'terminal': '5',\n",
       "   'checkInDesk': '29-31',\n",
       "   'gate': 'C41',\n",
       "   'runway': '08',\n",
       "   'quality': ['Basic', 'Live']},\n",
       "  'arrival': {'scheduledTime': {'utc': '2024-10-14 06:05Z',\n",
       "    'local': '2024-10-14 08:05+02:00'},\n",
       "   'revisedTime': {'utc': '2024-10-14 05:47Z',\n",
       "    'local': '2024-10-14 07:47+02:00'},\n",
       "   'terminal': '1',\n",
       "   'gate': 'A36',\n",
       "   'baggageBelt': 'A1',\n",
       "   'quality': ['Basic', 'Live']},\n",
       "  'number': 'LH 5344',\n",
       "  'callSign': 'EWG4600',\n",
       "  'status': 'Arrived',\n",
       "  'codeshareStatus': 'IsCodeshared',\n",
       "  'isCargo': False,\n",
       "  'aircraft': {'reg': '9H-EWE', 'modeS': '4D2417', 'model': 'Airbus A320'},\n",
       "  'airline': {'name': 'Lufthansa', 'iata': 'LH', 'icao': 'DLH'}},\n",
       " {'departure': {'airport': {'icao': 'ESSA',\n",
       "    'iata': 'ARN',\n",
       "    'name': 'Stockholm',\n",
       "    'timeZone': 'Europe/Stockholm'},\n",
       "   'scheduledTime': {'utc': '2024-10-14 04:30Z',\n",
       "    'local': '2024-10-14 06:30+02:00'},\n",
       "   'revisedTime': {'utc': '2024-10-14 04:21Z',\n",
       "    'local': '2024-10-14 06:21+02:00'},\n",
       "   'runwayTime': {'utc': '2024-10-14 04:31Z',\n",
       "    'local': '2024-10-14 06:31+02:00'},\n",
       "   'terminal': '5',\n",
       "   'checkInDesk': '29-31',\n",
       "   'gate': 'C41',\n",
       "   'runway': '08',\n",
       "   'quality': ['Basic', 'Live']},\n",
       "  'arrival': {'scheduledTime': {'utc': '2024-10-14 06:05Z',\n",
       "    'local': '2024-10-14 08:05+02:00'},\n",
       "   'revisedTime': {'utc': '2024-10-14 05:47Z',\n",
       "    'local': '2024-10-14 07:47+02:00'},\n",
       "   'terminal': '1',\n",
       "   'gate': 'A36',\n",
       "   'baggageBelt': 'A1',\n",
       "   'quality': ['Basic', 'Live']},\n",
       "  'number': 'EW 4600',\n",
       "  'callSign': 'EWG4600',\n",
       "  'status': 'Arrived',\n",
       "  'codeshareStatus': 'IsOperator',\n",
       "  'isCargo': False,\n",
       "  'aircraft': {'reg': '9H-EWE', 'modeS': '4D2417', 'model': 'Airbus A320'},\n",
       "  'airline': {'name': 'Eurowings', 'iata': 'EW', 'icao': 'EWG'}},\n",
       " {'departure': {'airport': {'icao': 'ELLX',\n",
       "    'iata': 'LUX',\n",
       "    'name': 'Luxembourg',\n",
       "    'timeZone': 'Europe/Luxembourg'},\n",
       "   'scheduledTime': {'utc': '2024-10-14 04:35Z',\n",
       "    'local': '2024-10-14 06:35+02:00'},\n",
       "   'revisedTime': {'utc': '2024-10-14 04:35Z',\n",
       "    'local': '2024-10-14 06:35+02:00'},\n",
       "   'runwayTime': {'utc': '2024-10-14 04:45Z',\n",
       "    'local': '2024-10-14 06:45+02:00'},\n",
       "   'terminal': 'A',\n",
       "   'gate': 'B02',\n",
       "   'quality': ['Basic', 'Live']},\n",
       "  'arrival': {'scheduledTime': {'utc': '2024-10-14 06:05Z',\n",
       "    'local': '2024-10-14 08:05+02:00'},\n",
       "   'revisedTime': {'utc': '2024-10-14 05:51Z',\n",
       "    'local': '2024-10-14 07:51+02:00'},\n",
       "   'terminal': '1',\n",
       "   'gate': 'S01',\n",
       "   'baggageBelt': 'B3',\n",
       "   'quality': ['Basic', 'Live']},\n",
       "  'number': 'LG 9471',\n",
       "  'callSign': 'LGL91B',\n",
       "  'status': 'Arrived',\n",
       "  'codeshareStatus': 'IsOperator',\n",
       "  'isCargo': False,\n",
       "  'aircraft': {'reg': 'LX-LGF',\n",
       "   'modeS': '4D00C9',\n",
       "   'model': 'De Havilland Canada DHC-8-400 Dash 8Q'},\n",
       "  'airline': {'name': 'Luxair', 'iata': 'LG', 'icao': 'LGL'}},\n",
       " {'departure': {'airport': {'icao': 'EFHK',\n",
       "    'iata': 'HEL',\n",
       "    'name': 'Helsinki',\n",
       "    'timeZone': 'Europe/Helsinki'},\n",
       "   'scheduledTime': {'utc': '2024-10-14 04:05Z',\n",
       "    'local': '2024-10-14 07:05+03:00'},\n",
       "   'revisedTime': {'utc': '2024-10-14 04:04Z',\n",
       "    'local': '2024-10-14 07:04+03:00'},\n",
       "   'runwayTime': {'utc': '2024-10-14 04:13Z',\n",
       "    'local': '2024-10-14 07:13+03:00'},\n",
       "   'terminal': '2',\n",
       "   'checkInDesk': '211',\n",
       "   'gate': '34A',\n",
       "   'runway': '04R',\n",
       "   'quality': ['Basic', 'Live']},\n",
       "  'arrival': {'scheduledTime': {'utc': '2024-10-14 06:05Z',\n",
       "    'local': '2024-10-14 08:05+02:00'},\n",
       "   'revisedTime': {'utc': '2024-10-14 05:53Z',\n",
       "    'local': '2024-10-14 07:53+02:00'},\n",
       "   'terminal': '1',\n",
       "   'gate': 'A31',\n",
       "   'baggageBelt': 'B4',\n",
       "   'quality': ['Basic', 'Live']},\n",
       "  'number': 'AY 1431',\n",
       "  'callSign': 'FIN3AW',\n",
       "  'status': 'Arrived',\n",
       "  'codeshareStatus': 'IsOperator',\n",
       "  'isCargo': False,\n",
       "  'aircraft': {'reg': 'OH-LXC', 'modeS': '461F64', 'model': 'Airbus A320'},\n",
       "  'airline': {'name': 'Finnair', 'iata': 'AY', 'icao': 'FIN'}},\n",
       " {'departure': {'airport': {'icao': 'EDDM',\n",
       "    'iata': 'MUC',\n",
       "    'name': 'Munich',\n",
       "    'timeZone': 'Europe/Berlin'},\n",
       "   'scheduledTime': {'utc': '2024-10-14 05:00Z',\n",
       "    'local': '2024-10-14 07:00+02:00'},\n",
       "   'revisedTime': {'utc': '2024-10-14 05:00Z',\n",
       "    'local': '2024-10-14 07:00+02:00'},\n",
       "   'runwayTime': {'utc': '2024-10-14 05:16Z',\n",
       "    'local': '2024-10-14 07:16+02:00'},\n",
       "   'terminal': '2',\n",
       "   'runway': '26R',\n",
       "   'quality': ['Basic', 'Live']},\n",
       "  'arrival': {'scheduledTime': {'utc': '2024-10-14 06:05Z',\n",
       "    'local': '2024-10-14 08:05+02:00'},\n",
       "   'revisedTime': {'utc': '2024-10-14 06:00Z',\n",
       "    'local': '2024-10-14 08:00+02:00'},\n",
       "   'terminal': '1',\n",
       "   'gate': 'B20',\n",
       "   'baggageBelt': 'B2',\n",
       "   'quality': ['Basic', 'Live']},\n",
       "  'number': 'LH 1928',\n",
       "  'callSign': 'DLH7N',\n",
       "  'status': 'Arrived',\n",
       "  'codeshareStatus': 'IsOperator',\n",
       "  'isCargo': False,\n",
       "  'aircraft': {'reg': 'D-AIUI',\n",
       "   'modeS': '3C66A9',\n",
       "   'model': 'Airbus A320 (Sharklets)'},\n",
       "  'airline': {'name': 'Lufthansa', 'iata': 'LH', 'icao': 'DLH'}},\n",
       " {'departure': {'airport': {'icao': 'EDDR',\n",
       "    'iata': 'SCN',\n",
       "    'name': 'Saarbrücken',\n",
       "    'timeZone': 'Europe/Berlin'},\n",
       "   'scheduledTime': {'utc': '2024-10-14 04:30Z',\n",
       "    'local': '2024-10-14 06:30+02:00'},\n",
       "   'quality': ['Basic']},\n",
       "  'arrival': {'scheduledTime': {'utc': '2024-10-14 06:05Z',\n",
       "    'local': '2024-10-14 08:05+02:00'},\n",
       "   'revisedTime': {'utc': '2024-10-14 06:04Z',\n",
       "    'local': '2024-10-14 08:04+02:00'},\n",
       "   'terminal': '2',\n",
       "   'gate': 'Z36',\n",
       "   'baggageBelt': 'C2',\n",
       "   'quality': ['Basic', 'Live']},\n",
       "  'number': 'DX 121',\n",
       "  'status': 'Arrived',\n",
       "  'codeshareStatus': 'IsOperator',\n",
       "  'isCargo': False,\n",
       "  'aircraft': {'reg': 'OY-JRJ', 'modeS': '45AA4A', 'model': 'ATR 42-300'},\n",
       "  'airline': {'name': 'Danish Air', 'iata': 'DX', 'icao': 'DTR'}},\n",
       " {'departure': {'airport': {'icao': 'LOWW',\n",
       "    'iata': 'VIE',\n",
       "    'name': 'Vienna',\n",
       "    'timeZone': 'Europe/Vienna'},\n",
       "   'scheduledTime': {'utc': '2024-10-14 05:00Z',\n",
       "    'local': '2024-10-14 07:00+02:00'},\n",
       "   'revisedTime': {'utc': '2024-10-14 05:17Z',\n",
       "    'local': '2024-10-14 07:17+02:00'},\n",
       "   'runwayTime': {'utc': '2024-10-14 05:18Z',\n",
       "    'local': '2024-10-14 07:18+02:00'},\n",
       "   'terminal': '3',\n",
       "   'checkInDesk': '351-372',\n",
       "   'gate': 'F09',\n",
       "   'runway': '34',\n",
       "   'quality': ['Basic', 'Live']},\n",
       "  'arrival': {'scheduledTime': {'utc': '2024-10-14 06:10Z',\n",
       "    'local': '2024-10-14 08:10+02:00'},\n",
       "   'revisedTime': {'utc': '2024-10-14 06:11Z',\n",
       "    'local': '2024-10-14 08:11+02:00'},\n",
       "   'runwayTime': {'utc': '2024-10-14 06:11Z',\n",
       "    'local': '2024-10-14 08:11+02:00'},\n",
       "   'terminal': '1',\n",
       "   'gate': 'A02',\n",
       "   'baggageBelt': 'A3',\n",
       "   'runway': '25L',\n",
       "   'quality': ['Basic', 'Live']},\n",
       "  'number': 'OS 223',\n",
       "  'callSign': 'AUA223',\n",
       "  'status': 'Arrived',\n",
       "  'codeshareStatus': 'IsOperator',\n",
       "  'isCargo': False,\n",
       "  'aircraft': {'reg': 'OE-LBB', 'modeS': '440C8D', 'model': 'Airbus A321'},\n",
       "  'airline': {'name': 'Austrian', 'iata': 'OS', 'icao': 'AUA'}},\n",
       " {'departure': {'airport': {'icao': 'EHAM',\n",
       "    'iata': 'AMS',\n",
       "    'name': 'Amsterdam',\n",
       "    'timeZone': 'Europe/Amsterdam'},\n",
       "   'scheduledTime': {'utc': '2024-10-14 05:00Z',\n",
       "    'local': '2024-10-14 07:00+02:00'},\n",
       "   'revisedTime': {'utc': '2024-10-14 05:06Z',\n",
       "    'local': '2024-10-14 07:06+02:00'},\n",
       "   'runwayTime': {'utc': '2024-10-14 05:23Z',\n",
       "    'local': '2024-10-14 07:23+02:00'},\n",
       "   'terminal': '1',\n",
       "   'checkInDesk': '6-8',\n",
       "   'gate': 'B30',\n",
       "   'runway': '18L',\n",
       "   'quality': ['Basic', 'Live']},\n",
       "  'arrival': {'scheduledTime': {'utc': '2024-10-14 06:20Z',\n",
       "    'local': '2024-10-14 08:20+02:00'},\n",
       "   'revisedTime': {'utc': '2024-10-14 06:20Z',\n",
       "    'local': '2024-10-14 08:20+02:00'},\n",
       "   'terminal': '1',\n",
       "   'gate': 'A30',\n",
       "   'baggageBelt': 'A4',\n",
       "   'quality': ['Basic', 'Live']},\n",
       "  'number': 'KL 1771',\n",
       "  'callSign': 'KLM1771',\n",
       "  'status': 'Arrived',\n",
       "  'codeshareStatus': 'IsOperator',\n",
       "  'isCargo': False,\n",
       "  'aircraft': {'reg': 'PH-NXK', 'modeS': '486494', 'model': 'Embraer 195'},\n",
       "  'airline': {'name': 'KLM', 'iata': 'KL', 'icao': 'KLM'}},\n",
       " {'departure': {'airport': {'icao': 'LIML',\n",
       "    'iata': 'LIN',\n",
       "    'name': 'Milan',\n",
       "    'timeZone': 'Europe/Rome'},\n",
       "   'scheduledTime': {'utc': '2024-10-14 04:55Z',\n",
       "    'local': '2024-10-14 06:55+02:00'},\n",
       "   'revisedTime': {'utc': '2024-10-14 05:09Z',\n",
       "    'local': '2024-10-14 07:09+02:00'},\n",
       "   'runwayTime': {'utc': '2024-10-14 05:09Z',\n",
       "    'local': '2024-10-14 07:09+02:00'},\n",
       "   'quality': ['Basic', 'Live']},\n",
       "  'arrival': {'scheduledTime': {'utc': '2024-10-14 06:35Z',\n",
       "    'local': '2024-10-14 08:35+02:00'},\n",
       "   'revisedTime': {'utc': '2024-10-14 06:21Z',\n",
       "    'local': '2024-10-14 08:21+02:00'},\n",
       "   'terminal': '1',\n",
       "   'gate': 'A38',\n",
       "   'baggageBelt': 'B1',\n",
       "   'quality': ['Basic', 'Live']},\n",
       "  'number': 'U2 5068',\n",
       "  'callSign': 'EZY5068',\n",
       "  'status': 'Arrived',\n",
       "  'codeshareStatus': 'IsOperator',\n",
       "  'isCargo': False,\n",
       "  'aircraft': {'reg': 'OE-IJY', 'modeS': '4402AC', 'model': 'Airbus A320'},\n",
       "  'airline': {'name': 'easyJet', 'iata': 'U2', 'icao': 'EZY'}},\n",
       " {'departure': {'airport': {'icao': 'LIML',\n",
       "    'iata': 'LIN',\n",
       "    'name': 'Milan',\n",
       "    'timeZone': 'Europe/Rome'},\n",
       "   'scheduledTime': {'utc': '2024-10-14 04:55Z',\n",
       "    'local': '2024-10-14 06:55+02:00'},\n",
       "   'revisedTime': {'utc': '2024-10-14 05:09Z',\n",
       "    'local': '2024-10-14 07:09+02:00'},\n",
       "   'runwayTime': {'utc': '2024-10-14 05:09Z',\n",
       "    'local': '2024-10-14 07:09+02:00'},\n",
       "   'quality': ['Basic', 'Live']},\n",
       "  'arrival': {'scheduledTime': {'utc': '2024-10-14 06:35Z',\n",
       "    'local': '2024-10-14 08:35+02:00'},\n",
       "   'revisedTime': {'utc': '2024-10-14 06:21Z',\n",
       "    'local': '2024-10-14 08:21+02:00'},\n",
       "   'terminal': '1',\n",
       "   'gate': 'A38',\n",
       "   'baggageBelt': 'B1',\n",
       "   'quality': ['Basic', 'Live']},\n",
       "  'number': 'EC 5068',\n",
       "  'callSign': 'EJU5068',\n",
       "  'status': 'Arrived',\n",
       "  'codeshareStatus': 'IsCodeshared',\n",
       "  'isCargo': False,\n",
       "  'aircraft': {'reg': 'OE-IJY', 'modeS': '4402AC', 'model': 'Airbus A320'},\n",
       "  'airline': {'name': 'EasyJet Europe', 'iata': 'EC', 'icao': 'EJU'}},\n",
       " {'departure': {'airport': {'icao': 'EKCH',\n",
       "    'iata': 'CPH',\n",
       "    'name': 'Copenhagen',\n",
       "    'timeZone': 'Europe/Copenhagen'},\n",
       "   'scheduledTime': {'utc': '2024-10-14 05:50Z',\n",
       "    'local': '2024-10-14 07:50+02:00'},\n",
       "   'revisedTime': {'utc': '2024-10-14 05:50Z',\n",
       "    'local': '2024-10-14 07:50+02:00'},\n",
       "   'terminal': 'erminal2',\n",
       "   'gate': 'F8',\n",
       "   'quality': ['Basic', 'Live']},\n",
       "  'arrival': {'scheduledTime': {'utc': '2024-10-14 06:55Z',\n",
       "    'local': '2024-10-14 08:55+02:00'},\n",
       "   'revisedTime': {'utc': '2024-10-14 06:31Z',\n",
       "    'local': '2024-10-14 08:31+02:00'},\n",
       "   'terminal': '1',\n",
       "   'gate': 'A33',\n",
       "   'baggageBelt': 'B1',\n",
       "   'quality': ['Basic', 'Live']},\n",
       "  'number': 'U2 5262',\n",
       "  'status': 'Expected',\n",
       "  'codeshareStatus': 'IsOperator',\n",
       "  'isCargo': False,\n",
       "  'aircraft': {'reg': 'OE-IWW', 'modeS': '440B1E', 'model': 'Airbus A320'},\n",
       "  'airline': {'name': 'easyJet', 'iata': 'U2', 'icao': 'EZY'}},\n",
       " {'departure': {'airport': {'icao': 'EKCH',\n",
       "    'iata': 'CPH',\n",
       "    'name': 'Copenhagen',\n",
       "    'timeZone': 'Europe/Copenhagen'},\n",
       "   'scheduledTime': {'utc': '2024-10-14 05:50Z',\n",
       "    'local': '2024-10-14 07:50+02:00'},\n",
       "   'revisedTime': {'utc': '2024-10-14 05:50Z',\n",
       "    'local': '2024-10-14 07:50+02:00'},\n",
       "   'terminal': 'erminal2',\n",
       "   'gate': 'F8',\n",
       "   'quality': ['Basic', 'Live']},\n",
       "  'arrival': {'scheduledTime': {'utc': '2024-10-14 06:55Z',\n",
       "    'local': '2024-10-14 08:55+02:00'},\n",
       "   'revisedTime': {'utc': '2024-10-14 06:31Z',\n",
       "    'local': '2024-10-14 08:31+02:00'},\n",
       "   'terminal': '1',\n",
       "   'gate': 'A33',\n",
       "   'baggageBelt': 'B1',\n",
       "   'quality': ['Basic', 'Live']},\n",
       "  'number': 'EC 5262',\n",
       "  'status': 'Expected',\n",
       "  'codeshareStatus': 'IsCodeshared',\n",
       "  'isCargo': False,\n",
       "  'aircraft': {'reg': 'OE-IWW', 'modeS': '440B1E', 'model': 'Airbus A320'},\n",
       "  'airline': {'name': 'EasyJet Europe', 'iata': 'EC', 'icao': 'EJU'}},\n",
       " {'departure': {'airport': {'icao': 'LTAI',\n",
       "    'iata': 'AYT',\n",
       "    'name': 'Antalya',\n",
       "    'timeZone': 'Europe/Istanbul'},\n",
       "   'scheduledTime': {'utc': '2024-10-14 03:05Z',\n",
       "    'local': '2024-10-14 06:05+03:00'},\n",
       "   'revisedTime': {'utc': '2024-10-14 03:05Z',\n",
       "    'local': '2024-10-14 06:05+03:00'},\n",
       "   'terminal': '1',\n",
       "   'checkInDesk': '102-104',\n",
       "   'quality': ['Basic', 'Live']},\n",
       "  'arrival': {'scheduledTime': {'utc': '2024-10-14 06:35Z',\n",
       "    'local': '2024-10-14 08:35+02:00'},\n",
       "   'revisedTime': {'utc': '2024-10-14 06:37Z',\n",
       "    'local': '2024-10-14 08:37+02:00'},\n",
       "   'runwayTime': {'utc': '2024-10-14 06:38Z',\n",
       "    'local': '2024-10-14 08:38+02:00'},\n",
       "   'terminal': '1',\n",
       "   'gate': 'X17',\n",
       "   'baggageBelt': 'A3',\n",
       "   'runway': '25L',\n",
       "   'quality': ['Basic', 'Live']},\n",
       "  'number': 'PC 5067',\n",
       "  'callSign': 'PGT4WR',\n",
       "  'status': 'Arrived',\n",
       "  'codeshareStatus': 'IsOperator',\n",
       "  'isCargo': False,\n",
       "  'aircraft': {'reg': 'TC-NBV',\n",
       "   'modeS': '4BB856',\n",
       "   'model': 'Airbus A320 (Sharklets)'},\n",
       "  'airline': {'name': 'Pegasus', 'iata': 'PC', 'icao': 'PGT'}},\n",
       " {'departure': {'airport': {'icao': 'UGKO',\n",
       "    'iata': 'KUT',\n",
       "    'name': 'Kutaisi',\n",
       "    'timeZone': 'Asia/Tbilisi'},\n",
       "   'scheduledTime': {'utc': '2024-10-14 02:20Z',\n",
       "    'local': '2024-10-14 06:20+04:00'},\n",
       "   'quality': ['Basic']},\n",
       "  'arrival': {'scheduledTime': {'utc': '2024-10-14 06:30Z',\n",
       "    'local': '2024-10-14 08:30+02:00'},\n",
       "   'revisedTime': {'utc': '2024-10-14 06:39Z',\n",
       "    'local': '2024-10-14 08:39+02:00'},\n",
       "   'runwayTime': {'utc': '2024-10-14 06:42Z',\n",
       "    'local': '2024-10-14 08:42+02:00'},\n",
       "   'terminal': '1',\n",
       "   'gate': 'N01',\n",
       "   'baggageBelt': 'B4',\n",
       "   'runway': '25R',\n",
       "   'quality': ['Basic', 'Live']},\n",
       "  'number': 'W6 7909',\n",
       "  'callSign': 'WZZ529',\n",
       "  'status': 'Arrived',\n",
       "  'codeshareStatus': 'IsOperator',\n",
       "  'isCargo': False,\n",
       "  'aircraft': {'reg': 'HA-LZM', 'modeS': '471FA2', 'model': 'Airbus A321 NEO'},\n",
       "  'airline': {'name': 'Wizz Air', 'iata': 'W6', 'icao': 'WZZ'}},\n",
       " {'departure': {'airport': {'icao': 'LYBE',\n",
       "    'iata': 'BEG',\n",
       "    'name': 'Belgrade',\n",
       "    'timeZone': 'Europe/Belgrade'},\n",
       "   'scheduledTime': {'utc': '2024-10-14 04:50Z',\n",
       "    'local': '2024-10-14 06:50+02:00'},\n",
       "   'terminal': '2',\n",
       "   'quality': ['Basic']},\n",
       "  'arrival': {'scheduledTime': {'utc': '2024-10-14 06:40Z',\n",
       "    'local': '2024-10-14 08:40+02:00'},\n",
       "   'revisedTime': {'utc': '2024-10-14 06:40Z',\n",
       "    'local': '2024-10-14 08:40+02:00'},\n",
       "   'terminal': '1',\n",
       "   'gate': 'X03',\n",
       "   'baggageBelt': 'A3',\n",
       "   'runway': '25L',\n",
       "   'quality': ['Basic', 'Live']},\n",
       "  'number': 'JU 354',\n",
       "  'callSign': 'ASL37H',\n",
       "  'status': 'Expected',\n",
       "  'codeshareStatus': 'IsOperator',\n",
       "  'isCargo': False,\n",
       "  'aircraft': {'reg': 'YU-APK', 'modeS': '4C01EA', 'model': 'Airbus A319'},\n",
       "  'airline': {'name': 'Air Serbia', 'iata': 'JU', 'icao': 'ASL'}},\n",
       " {'departure': {'airport': {'icao': 'EGPH',\n",
       "    'iata': 'EDI',\n",
       "    'name': 'Edinburgh',\n",
       "    'timeZone': 'Europe/London'},\n",
       "   'scheduledTime': {'utc': '2024-10-14 05:00Z',\n",
       "    'local': '2024-10-14 06:00+01:00'},\n",
       "   'revisedTime': {'utc': '2024-10-14 05:06Z',\n",
       "    'local': '2024-10-14 06:06+01:00'},\n",
       "   'runwayTime': {'utc': '2024-10-14 05:07Z',\n",
       "    'local': '2024-10-14 06:07+01:00'},\n",
       "   'quality': ['Basic', 'Live']},\n",
       "  'arrival': {'scheduledTime': {'utc': '2024-10-14 07:00Z',\n",
       "    'local': '2024-10-14 09:00+02:00'},\n",
       "   'revisedTime': {'utc': '2024-10-14 06:40Z',\n",
       "    'local': '2024-10-14 08:40+02:00'},\n",
       "   'terminal': '2',\n",
       "   'gate': 'Z44',\n",
       "   'baggageBelt': 'C1',\n",
       "   'quality': ['Basic', 'Live']},\n",
       "  'number': 'FR 2376',\n",
       "  'callSign': 'RYR2376',\n",
       "  'status': 'Arrived',\n",
       "  'codeshareStatus': 'IsOperator',\n",
       "  'isCargo': False,\n",
       "  'aircraft': {'reg': 'EI-IJO',\n",
       "   'modeS': '4CAE64',\n",
       "   'model': 'Boeing 737 MAX 8'},\n",
       "  'airline': {'name': 'Ryanair', 'iata': 'FR', 'icao': 'RYR'}},\n",
       " {'departure': {'airport': {'icao': 'LCPH',\n",
       "    'iata': 'PFO',\n",
       "    'name': 'Paphos',\n",
       "    'timeZone': 'Asia/Nicosia'},\n",
       "   'scheduledTime': {'utc': '2024-10-14 03:00Z',\n",
       "    'local': '2024-10-14 06:00+03:00'},\n",
       "   'quality': ['Basic']},\n",
       "  'arrival': {'scheduledTime': {'utc': '2024-10-14 06:45Z',\n",
       "    'local': '2024-10-14 08:45+02:00'},\n",
       "   'revisedTime': {'utc': '2024-10-14 06:43Z',\n",
       "    'local': '2024-10-14 08:43+02:00'},\n",
       "   'runwayTime': {'utc': '2024-10-14 06:43Z',\n",
       "    'local': '2024-10-14 08:43+02:00'},\n",
       "   'terminal': '2',\n",
       "   'gate': 'Z38',\n",
       "   'baggageBelt': 'C3',\n",
       "   'runway': '25R',\n",
       "   'quality': ['Basic', 'Live']},\n",
       "  'number': 'FR 354',\n",
       "  'callSign': 'RYR354',\n",
       "  'status': 'Arrived',\n",
       "  'codeshareStatus': 'IsOperator',\n",
       "  'isCargo': False,\n",
       "  'aircraft': {'reg': 'EI-IJX',\n",
       "   'modeS': '4CAE6B',\n",
       "   'model': 'Boeing 737 MAX 8'},\n",
       "  'airline': {'name': 'Ryanair', 'iata': 'FR', 'icao': 'RYR'}},\n",
       " {'departure': {'airport': {'icao': 'EDDF',\n",
       "    'iata': 'FRA',\n",
       "    'name': 'Frankfurt-am-Main',\n",
       "    'timeZone': 'Europe/Berlin'},\n",
       "   'scheduledTime': {'utc': '2024-10-14 05:45Z',\n",
       "    'local': '2024-10-14 07:45+02:00'},\n",
       "   'revisedTime': {'utc': '2024-10-14 05:45Z',\n",
       "    'local': '2024-10-14 07:45+02:00'},\n",
       "   'terminal': '1',\n",
       "   'checkInDesk': '259-335',\n",
       "   'gate': 'A17',\n",
       "   'quality': ['Basic', 'Live']},\n",
       "  'arrival': {'scheduledTime': {'utc': '2024-10-14 06:55Z',\n",
       "    'local': '2024-10-14 08:55+02:00'},\n",
       "   'revisedTime': {'utc': '2024-10-14 06:46Z',\n",
       "    'local': '2024-10-14 08:46+02:00'},\n",
       "   'runwayTime': {'utc': '2024-10-14 06:44Z',\n",
       "    'local': '2024-10-14 08:44+02:00'},\n",
       "   'terminal': '1',\n",
       "   'gate': 'B07',\n",
       "   'baggageBelt': 'B2',\n",
       "   'runway': '25L',\n",
       "   'quality': ['Basic', 'Live']},\n",
       "  'number': 'LH 174',\n",
       "  'callSign': 'DLH4PH',\n",
       "  'status': 'Arrived',\n",
       "  'codeshareStatus': 'IsOperator',\n",
       "  'isCargo': False,\n",
       "  'aircraft': {'reg': 'D-AISL', 'modeS': '3C666C', 'model': 'Airbus A321'},\n",
       "  'airline': {'name': 'Lufthansa', 'iata': 'LH', 'icao': 'DLH'}},\n",
       " {'departure': {'airport': {'name': 'Unknown'}, 'quality': []},\n",
       "  'arrival': {'scheduledTime': {'utc': '2024-10-14 06:47Z',\n",
       "    'local': '2024-10-14 08:47+02:00'},\n",
       "   'revisedTime': {'utc': '2024-10-14 06:47Z',\n",
       "    'local': '2024-10-14 08:47+02:00'},\n",
       "   'runwayTime': {'utc': '2024-10-14 06:47Z',\n",
       "    'local': '2024-10-14 08:47+02:00'},\n",
       "   'quality': ['Basic', 'Live']},\n",
       "  'number': 'DINNA',\n",
       "  'callSign': 'DINNA',\n",
       "  'status': 'Arrived',\n",
       "  'codeshareStatus': 'IsOperator',\n",
       "  'isCargo': False,\n",
       "  'airline': {'name': 'DINNA'}},\n",
       " {'departure': {'airport': {'icao': 'EGGW',\n",
       "    'iata': 'LTN',\n",
       "    'name': 'London',\n",
       "    'timeZone': 'Europe/London'},\n",
       "   'scheduledTime': {'utc': '2024-10-14 05:20Z',\n",
       "    'local': '2024-10-14 06:20+01:00'},\n",
       "   'revisedTime': {'utc': '2024-10-14 05:20Z',\n",
       "    'local': '2024-10-14 06:20+01:00'},\n",
       "   'runwayTime': {'utc': '2024-10-14 05:31Z',\n",
       "    'local': '2024-10-14 06:31+01:00'},\n",
       "   'checkInDesk': '44-61',\n",
       "   'runway': '08',\n",
       "   'quality': ['Basic', 'Live']},\n",
       "  'arrival': {'scheduledTime': {'utc': '2024-10-14 07:05Z',\n",
       "    'local': '2024-10-14 09:05+02:00'},\n",
       "   'revisedTime': {'utc': '2024-10-14 06:49Z',\n",
       "    'local': '2024-10-14 08:49+02:00'},\n",
       "   'runwayTime': {'utc': '2024-10-14 06:49Z',\n",
       "    'local': '2024-10-14 08:49+02:00'},\n",
       "   'terminal': '1',\n",
       "   'gate': 'N01',\n",
       "   'baggageBelt': 'B4',\n",
       "   'runway': '25L',\n",
       "   'quality': ['Basic', 'Live']},\n",
       "  'number': 'U2 2601',\n",
       "  'callSign': 'EZY21KF',\n",
       "  'status': 'Arrived',\n",
       "  'codeshareStatus': 'IsOperator',\n",
       "  'isCargo': False,\n",
       "  'aircraft': {'reg': 'G-EZWA', 'modeS': '406752', 'model': 'Airbus A320'},\n",
       "  'airline': {'name': 'easyJet', 'iata': 'U2', 'icao': 'EZY'}},\n",
       " {'departure': {'airport': {'icao': 'LYBE',\n",
       "    'iata': 'BEG',\n",
       "    'name': 'Belgrade',\n",
       "    'timeZone': 'Europe/Belgrade'},\n",
       "   'quality': []},\n",
       "  'arrival': {'scheduledTime': {'utc': '2024-10-14 06:40Z',\n",
       "    'local': '2024-10-14 08:40+02:00'},\n",
       "   'revisedTime': {'utc': '2024-10-14 06:50Z',\n",
       "    'local': '2024-10-14 08:50+02:00'},\n",
       "   'terminal': '1',\n",
       "   'gate': 'X07',\n",
       "   'baggageBelt': 'A3',\n",
       "   'quality': ['Basic', 'Live']},\n",
       "  'number': 'JA 354',\n",
       "  'status': 'Arrived',\n",
       "  'codeshareStatus': 'IsOperator',\n",
       "  'isCargo': False,\n",
       "  'aircraft': {'reg': 'YU-APK', 'modeS': '4C01EA', 'model': 'Airbus A319'},\n",
       "  'airline': {'name': 'JetSMART', 'iata': 'JA', 'icao': 'JAT'}},\n",
       " {'departure': {'airport': {'icao': 'LBSF',\n",
       "    'iata': 'SOF',\n",
       "    'name': 'Sofia',\n",
       "    'timeZone': 'Europe/Sofia'},\n",
       "   'scheduledTime': {'utc': '2024-10-14 04:48Z',\n",
       "    'local': '2024-10-14 07:48+03:00'},\n",
       "   'revisedTime': {'utc': '2024-10-14 04:48Z',\n",
       "    'local': '2024-10-14 07:48+03:00'},\n",
       "   'runwayTime': {'utc': '2024-10-14 04:48Z',\n",
       "    'local': '2024-10-14 07:48+03:00'},\n",
       "   'quality': ['Basic', 'Live']},\n",
       "  'arrival': {'scheduledTime': {'utc': '2024-10-14 06:51Z',\n",
       "    'local': '2024-10-14 08:51+02:00'},\n",
       "   'revisedTime': {'utc': '2024-10-14 06:51Z',\n",
       "    'local': '2024-10-14 08:51+02:00'},\n",
       "   'runway': '25R',\n",
       "   'quality': ['Basic', 'Live']},\n",
       "  'number': 'BGF 4',\n",
       "  'callSign': 'BGF004',\n",
       "  'status': 'Approaching',\n",
       "  'codeshareStatus': 'IsOperator',\n",
       "  'isCargo': False,\n",
       "  'aircraft': {'reg': 'LZ-OOI', 'modeS': '451C42', 'model': 'Dassault Falcon'},\n",
       "  'airline': {'name': 'BGF'}},\n",
       " {'departure': {'airport': {'icao': 'OEJN',\n",
       "    'iata': 'JED',\n",
       "    'name': 'Jeddah',\n",
       "    'timeZone': 'Asia/Riyadh'},\n",
       "   'scheduledTime': {'utc': '2024-10-14 00:55Z',\n",
       "    'local': '2024-10-14 03:55+03:00'},\n",
       "   'terminal': '1',\n",
       "   'quality': ['Basic']},\n",
       "  'arrival': {'scheduledTime': {'utc': '2024-10-14 06:45Z',\n",
       "    'local': '2024-10-14 08:45+02:00'},\n",
       "   'revisedTime': {'utc': '2024-10-14 06:51Z',\n",
       "    'local': '2024-10-14 08:51+02:00'},\n",
       "   'terminal': '1',\n",
       "   'gate': 'X10',\n",
       "   'baggageBelt': 'A1',\n",
       "   'quality': ['Basic', 'Live']},\n",
       "  'number': 'XY 643',\n",
       "  'callSign': 'KNE643',\n",
       "  'status': 'Approaching',\n",
       "  'codeshareStatus': 'IsOperator',\n",
       "  'isCargo': False,\n",
       "  'aircraft': {'reg': 'HZ-NS49',\n",
       "   'modeS': '717CCE',\n",
       "   'model': 'Airbus A320 NEO'},\n",
       "  'airline': {'name': 'flynas', 'iata': 'XY', 'icao': 'KNE'}},\n",
       " {'departure': {'airport': {'icao': 'LSZH',\n",
       "    'iata': 'ZRH',\n",
       "    'name': 'Zurich',\n",
       "    'timeZone': 'Europe/Zurich'},\n",
       "   'scheduledTime': {'utc': '2024-10-14 05:20Z',\n",
       "    'local': '2024-10-14 07:20+02:00'},\n",
       "   'revisedTime': {'utc': '2024-10-14 05:30Z',\n",
       "    'local': '2024-10-14 07:30+02:00'},\n",
       "   'runwayTime': {'utc': '2024-10-14 05:54Z',\n",
       "    'local': '2024-10-14 07:54+02:00'},\n",
       "   'checkInDesk': '1',\n",
       "   'gate': 'A84',\n",
       "   'quality': ['Basic', 'Live']},\n",
       "  'arrival': {'scheduledTime': {'utc': '2024-10-14 06:45Z',\n",
       "    'local': '2024-10-14 08:45+02:00'},\n",
       "   'revisedTime': {'utc': '2024-10-14 06:58Z',\n",
       "    'local': '2024-10-14 08:58+02:00'},\n",
       "   'terminal': '1',\n",
       "   'gate': 'B06',\n",
       "   'baggageBelt': 'B2',\n",
       "   'quality': ['Basic', 'Live']},\n",
       "  'number': 'LX 974',\n",
       "  'callSign': 'SWR97Y',\n",
       "  'status': 'Approaching',\n",
       "  'codeshareStatus': 'IsOperator',\n",
       "  'isCargo': False,\n",
       "  'aircraft': {'reg': 'HB-JLR', 'modeS': '4B18F3', 'model': 'Airbus A320'},\n",
       "  'airline': {'name': 'SWISS', 'iata': 'LX', 'icao': 'SWR'}},\n",
       " {'departure': {'airport': {'icao': 'LGIR',\n",
       "    'iata': 'HER',\n",
       "    'name': 'Heraklion',\n",
       "    'timeZone': 'Europe/Athens'},\n",
       "   'scheduledTime': {'utc': '2024-10-14 04:00Z',\n",
       "    'local': '2024-10-14 07:00+03:00'},\n",
       "   'revisedTime': {'utc': '2024-10-14 04:09Z',\n",
       "    'local': '2024-10-14 07:09+03:00'},\n",
       "   'runwayTime': {'utc': '2024-10-14 04:09Z',\n",
       "    'local': '2024-10-14 07:09+03:00'},\n",
       "   'quality': ['Basic', 'Live']},\n",
       "  'arrival': {'scheduledTime': {'utc': '2024-10-14 07:15Z',\n",
       "    'local': '2024-10-14 09:15+02:00'},\n",
       "   'revisedTime': {'utc': '2024-10-14 06:59Z',\n",
       "    'local': '2024-10-14 08:59+02:00'},\n",
       "   'terminal': '1',\n",
       "   'gate': 'A36',\n",
       "   'baggageBelt': 'A1',\n",
       "   'quality': ['Basic', 'Live']},\n",
       "  'number': 'XR 173',\n",
       "  'callSign': 'CXI53BG',\n",
       "  'status': 'Approaching',\n",
       "  'codeshareStatus': 'IsOperator',\n",
       "  'isCargo': False,\n",
       "  'aircraft': {'reg': '9H-CXD',\n",
       "   'modeS': '4D239A',\n",
       "   'model': 'Boeing 737-800 (winglets)'},\n",
       "  'airline': {'name': 'Corendon  Europe', 'iata': 'XR', 'icao': 'CXI'}},\n",
       " {'departure': {'airport': {'icao': 'LFPG',\n",
       "    'iata': 'CDG',\n",
       "    'name': 'Paris',\n",
       "    'timeZone': 'Europe/Paris'},\n",
       "   'scheduledTime': {'utc': '2024-10-14 05:15Z',\n",
       "    'local': '2024-10-14 07:15+02:00'},\n",
       "   'revisedTime': {'utc': '2024-10-14 05:49Z',\n",
       "    'local': '2024-10-14 07:49+02:00'},\n",
       "   'runwayTime': {'utc': '2024-10-14 05:49Z',\n",
       "    'local': '2024-10-14 07:49+02:00'},\n",
       "   'terminal': '2F',\n",
       "   'quality': ['Basic', 'Live']},\n",
       "  'arrival': {'scheduledTime': {'utc': '2024-10-14 06:55Z',\n",
       "    'local': '2024-10-14 08:55+02:00'},\n",
       "   'revisedTime': {'utc': '2024-10-14 07:00Z',\n",
       "    'local': '2024-10-14 09:00+02:00'},\n",
       "   'terminal': '1',\n",
       "   'gate': 'A35',\n",
       "   'baggageBelt': 'A4',\n",
       "   'quality': ['Basic', 'Live']},\n",
       "  'number': 'AF 1434',\n",
       "  'callSign': 'AFR95ZE',\n",
       "  'status': 'Approaching',\n",
       "  'codeshareStatus': 'IsOperator',\n",
       "  'isCargo': False,\n",
       "  'aircraft': {'reg': 'F-HDRF', 'modeS': '398E25', 'model': 'Airbus A320'},\n",
       "  'airline': {'name': 'Air France', 'iata': 'AF', 'icao': 'AFR'}},\n",
       " {'departure': {'airport': {'icao': 'EGSS',\n",
       "    'iata': 'STN',\n",
       "    'name': 'London',\n",
       "    'timeZone': 'Europe/London'},\n",
       "   'scheduledTime': {'utc': '2024-10-14 05:30Z',\n",
       "    'local': '2024-10-14 06:30+01:00'},\n",
       "   'revisedTime': {'utc': '2024-10-14 05:30Z',\n",
       "    'local': '2024-10-14 06:30+01:00'},\n",
       "   'runwayTime': {'utc': '2024-10-14 05:45Z',\n",
       "    'local': '2024-10-14 06:45+01:00'},\n",
       "   'terminal': '1',\n",
       "   'gate': '43',\n",
       "   'runway': '04',\n",
       "   'quality': ['Basic', 'Live']},\n",
       "  'arrival': {'scheduledTime': {'utc': '2024-10-14 07:15Z',\n",
       "    'local': '2024-10-14 09:15+02:00'},\n",
       "   'revisedTime': {'utc': '2024-10-14 07:00Z',\n",
       "    'local': '2024-10-14 09:00+02:00'},\n",
       "   'terminal': '2',\n",
       "   'gate': 'Z40',\n",
       "   'baggageBelt': 'C3',\n",
       "   'quality': ['Basic', 'Live']},\n",
       "  'number': 'FR 145',\n",
       "  'callSign': 'RYR927E',\n",
       "  'status': 'Approaching',\n",
       "  'codeshareStatus': 'IsOperator',\n",
       "  'isCargo': False,\n",
       "  'aircraft': {'reg': 'EI-EVT', 'modeS': '4CAA59', 'model': 'Boeing 737-800'},\n",
       "  'airline': {'name': 'Ryanair', 'iata': 'FR', 'icao': 'RYR'}},\n",
       " {'departure': {'airport': {'icao': 'EGKK',\n",
       "    'iata': 'LGW',\n",
       "    'name': 'London',\n",
       "    'timeZone': 'Europe/London'},\n",
       "   'scheduledTime': {'utc': '2024-10-14 05:25Z',\n",
       "    'local': '2024-10-14 06:25+01:00'},\n",
       "   'revisedTime': {'utc': '2024-10-14 05:46Z',\n",
       "    'local': '2024-10-14 06:46+01:00'},\n",
       "   'runwayTime': {'utc': '2024-10-14 05:47Z',\n",
       "    'local': '2024-10-14 06:47+01:00'},\n",
       "   'terminal': 'N',\n",
       "   'runway': '08R',\n",
       "   'quality': ['Basic', 'Live']},\n",
       "  'arrival': {'scheduledTime': {'utc': '2024-10-14 07:30Z',\n",
       "    'local': '2024-10-14 09:30+02:00'},\n",
       "   'revisedTime': {'utc': '2024-10-14 07:00Z',\n",
       "    'local': '2024-10-14 09:00+02:00'},\n",
       "   'terminal': '1',\n",
       "   'gate': 'N01',\n",
       "   'baggageBelt': 'B3',\n",
       "   'quality': ['Basic', 'Live']},\n",
       "  'number': 'U2 8629',\n",
       "  'callSign': 'EZY19TC',\n",
       "  'status': 'Expected',\n",
       "  'codeshareStatus': 'IsOperator',\n",
       "  'isCargo': False,\n",
       "  'aircraft': {'reg': 'G-EZUR', 'modeS': '40666B', 'model': 'Airbus A320'},\n",
       "  'airline': {'name': 'easyJet', 'iata': 'U2', 'icao': 'EZY'}},\n",
       " {'departure': {'airport': {'icao': 'EDDM',\n",
       "    'iata': 'MUC',\n",
       "    'name': 'Munich',\n",
       "    'timeZone': 'Europe/Berlin'},\n",
       "   'scheduledTime': {'utc': '2024-10-14 06:00Z',\n",
       "    'local': '2024-10-14 08:00+02:00'},\n",
       "   'revisedTime': {'utc': '2024-10-14 06:00Z',\n",
       "    'local': '2024-10-14 08:00+02:00'},\n",
       "   'runwayTime': {'utc': '2024-10-14 06:17Z',\n",
       "    'local': '2024-10-14 08:17+02:00'},\n",
       "   'terminal': '2',\n",
       "   'runway': '26R',\n",
       "   'quality': ['Basic', 'Live']},\n",
       "  'arrival': {'scheduledTime': {'utc': '2024-10-14 07:05Z',\n",
       "    'local': '2024-10-14 09:05+02:00'},\n",
       "   'revisedTime': {'utc': '2024-10-14 07:00Z',\n",
       "    'local': '2024-10-14 09:00+02:00'},\n",
       "   'terminal': '1',\n",
       "   'gate': 'B20',\n",
       "   'baggageBelt': 'B2',\n",
       "   'quality': ['Basic', 'Live']},\n",
       "  'number': 'LH 1930',\n",
       "  'callSign': 'DLH2X',\n",
       "  'status': 'Expected',\n",
       "  'codeshareStatus': 'IsOperator',\n",
       "  'isCargo': False,\n",
       "  'aircraft': {'reg': 'D-AIUL', 'modeS': '3C66AC', 'model': 'Airbus A320'},\n",
       "  'airline': {'name': 'Lufthansa', 'iata': 'LH', 'icao': 'DLH'}},\n",
       " {'departure': {'airport': {'icao': 'LTFM',\n",
       "    'iata': 'IST',\n",
       "    'name': 'Istanbul',\n",
       "    'timeZone': 'Europe/Istanbul'},\n",
       "   'scheduledTime': {'utc': '2024-10-14 04:30Z',\n",
       "    'local': '2024-10-14 07:30+03:00'},\n",
       "   'revisedTime': {'utc': '2024-10-14 04:30Z',\n",
       "    'local': '2024-10-14 07:30+03:00'},\n",
       "   'checkInDesk': 'E-F',\n",
       "   'gate': 'B12',\n",
       "   'quality': ['Basic', 'Live']},\n",
       "  'arrival': {'scheduledTime': {'utc': '2024-10-14 07:20Z',\n",
       "    'local': '2024-10-14 09:20+02:00'},\n",
       "   'revisedTime': {'utc': '2024-10-14 07:02Z',\n",
       "    'local': '2024-10-14 09:02+02:00'},\n",
       "   'terminal': '1',\n",
       "   'gate': 'X01',\n",
       "   'baggageBelt': 'A4',\n",
       "   'quality': ['Basic', 'Live']},\n",
       "  'number': 'TK 1721',\n",
       "  'callSign': 'THY3CS',\n",
       "  'status': 'Expected',\n",
       "  'codeshareStatus': 'IsOperator',\n",
       "  'isCargo': False,\n",
       "  'aircraft': {'reg': 'TC-JIO', 'modeS': '4BA92F', 'model': 'Airbus A330'},\n",
       "  'airline': {'name': 'Turkish', 'iata': 'TK', 'icao': 'THY'}},\n",
       " {'departure': {'airport': {'icao': 'ENGM',\n",
       "    'iata': 'OSL',\n",
       "    'name': 'Oslo',\n",
       "    'timeZone': 'Europe/Oslo'},\n",
       "   'scheduledTime': {'utc': '2024-10-14 05:30Z',\n",
       "    'local': '2024-10-14 07:30+02:00'},\n",
       "   'revisedTime': {'utc': '2024-10-14 05:32Z',\n",
       "    'local': '2024-10-14 07:32+02:00'},\n",
       "   'runwayTime': {'utc': '2024-10-14 05:46Z',\n",
       "    'local': '2024-10-14 07:46+02:00'},\n",
       "   'checkInDesk': '123',\n",
       "   'gate': 'E7',\n",
       "   'quality': ['Basic', 'Live']},\n",
       "  'arrival': {'scheduledTime': {'utc': '2024-10-14 07:05Z',\n",
       "    'local': '2024-10-14 09:05+02:00'},\n",
       "   'revisedTime': {'utc': '2024-10-14 07:02Z',\n",
       "    'local': '2024-10-14 09:02+02:00'},\n",
       "   'terminal': '2',\n",
       "   'gate': 'Z34',\n",
       "   'baggageBelt': 'C2',\n",
       "   'quality': ['Basic', 'Live']},\n",
       "  'number': 'DY 1102',\n",
       "  'callSign': 'NOZ2XM',\n",
       "  'status': 'Expected',\n",
       "  'codeshareStatus': 'IsOperator',\n",
       "  'isCargo': False,\n",
       "  'aircraft': {'reg': 'OY-JRS', 'modeS': '45AA53', 'model': 'Airbus A320'},\n",
       "  'airline': {'name': 'Norwegian Air Shuttle', 'iata': 'DY', 'icao': 'NOZ'}},\n",
       " {'departure': {'airport': {'icao': 'EGBB',\n",
       "    'iata': 'BHX',\n",
       "    'name': 'Birmingham',\n",
       "    'timeZone': 'Europe/London'},\n",
       "   'quality': []},\n",
       "  'arrival': {'scheduledTime': {'utc': '2024-10-14 07:05Z',\n",
       "    'local': '2024-10-14 09:05+02:00'},\n",
       "   'revisedTime': {'utc': '2024-10-14 07:03Z',\n",
       "    'local': '2024-10-14 09:03+02:00'},\n",
       "   'terminal': '1',\n",
       "   'gate': 'N01',\n",
       "   'baggageBelt': 'B3',\n",
       "   'quality': ['Basic', 'Live']},\n",
       "  'number': 'U2 6621',\n",
       "  'callSign': 'EZY46ZP',\n",
       "  'status': 'Approaching',\n",
       "  'codeshareStatus': 'IsOperator',\n",
       "  'isCargo': False,\n",
       "  'aircraft': {'reg': 'G-EZUS', 'modeS': '40666C', 'model': 'Airbus A320'},\n",
       "  'airline': {'name': 'easyJet', 'iata': 'U2', 'icao': 'EZY'}},\n",
       " {'departure': {'airport': {'icao': 'EDDL',\n",
       "    'iata': 'DUS',\n",
       "    'name': 'Düsseldorf',\n",
       "    'timeZone': 'Europe/Berlin'},\n",
       "   'scheduledTime': {'utc': '2024-10-14 06:15Z',\n",
       "    'local': '2024-10-14 08:15+02:00'},\n",
       "   'revisedTime': {'utc': '2024-10-14 06:14Z',\n",
       "    'local': '2024-10-14 08:14+02:00'},\n",
       "   'runwayTime': {'utc': '2024-10-14 06:24Z',\n",
       "    'local': '2024-10-14 08:24+02:00'},\n",
       "   'terminal': 'B',\n",
       "   'checkInDesk': '151,170',\n",
       "   'gate': 'A25',\n",
       "   'quality': ['Basic', 'Live']},\n",
       "  'arrival': {'scheduledTime': {'utc': '2024-10-14 07:25Z',\n",
       "    'local': '2024-10-14 09:25+02:00'},\n",
       "   'revisedTime': {'utc': '2024-10-14 07:10Z',\n",
       "    'local': '2024-10-14 09:10+02:00'},\n",
       "   'terminal': '1',\n",
       "   'gate': 'A31',\n",
       "   'baggageBelt': 'A1',\n",
       "   'quality': ['Basic', 'Live']},\n",
       "  'number': 'EW 8041',\n",
       "  'callSign': 'GWI9XL',\n",
       "  'status': 'Expected',\n",
       "  'codeshareStatus': 'IsOperator',\n",
       "  'isCargo': False,\n",
       "  'aircraft': {'reg': 'D-AGWP', 'model': 'Airbus A319'},\n",
       "  'airline': {'name': 'Eurowings', 'iata': 'EW', 'icao': 'EWG'}},\n",
       " {'departure': {'airport': {'icao': 'LFPO',\n",
       "    'iata': 'ORY',\n",
       "    'name': 'Paris',\n",
       "    'timeZone': 'Europe/Paris'},\n",
       "   'scheduledTime': {'utc': '2024-10-14 05:25Z',\n",
       "    'local': '2024-10-14 07:25+02:00'},\n",
       "   'revisedTime': {'utc': '2024-10-14 06:00Z',\n",
       "    'local': '2024-10-14 08:00+02:00'},\n",
       "   'runwayTime': {'utc': '2024-10-14 06:00Z',\n",
       "    'local': '2024-10-14 08:00+02:00'},\n",
       "   'terminal': '1',\n",
       "   'quality': ['Basic', 'Live']},\n",
       "  'arrival': {'scheduledTime': {'utc': '2024-10-14 07:05Z',\n",
       "    'local': '2024-10-14 09:05+02:00'},\n",
       "   'revisedTime': {'utc': '2024-10-14 07:11Z',\n",
       "    'local': '2024-10-14 09:11+02:00'},\n",
       "   'terminal': '1',\n",
       "   'gate': 'A32',\n",
       "   'baggageBelt': 'B1',\n",
       "   'quality': ['Basic', 'Live']},\n",
       "  'number': 'EC 4897',\n",
       "  'callSign': 'EJU42RU',\n",
       "  'status': 'Expected',\n",
       "  'codeshareStatus': 'IsCodeshared',\n",
       "  'isCargo': False,\n",
       "  'aircraft': {'reg': 'HB-JXU',\n",
       "   'modeS': '4408C9',\n",
       "   'model': 'Airbus A320-200 (sharklets)'},\n",
       "  'airline': {'name': 'EasyJet Europe', 'iata': 'EC', 'icao': 'EJU'}},\n",
       " {'departure': {'airport': {'icao': 'LFPO',\n",
       "    'iata': 'ORY',\n",
       "    'name': 'Paris',\n",
       "    'timeZone': 'Europe/Paris'},\n",
       "   'scheduledTime': {'utc': '2024-10-14 05:25Z',\n",
       "    'local': '2024-10-14 07:25+02:00'},\n",
       "   'revisedTime': {'utc': '2024-10-14 06:00Z',\n",
       "    'local': '2024-10-14 08:00+02:00'},\n",
       "   'runwayTime': {'utc': '2024-10-14 06:00Z',\n",
       "    'local': '2024-10-14 08:00+02:00'},\n",
       "   'terminal': '1',\n",
       "   'quality': ['Basic', 'Live']},\n",
       "  'arrival': {'scheduledTime': {'utc': '2024-10-14 07:05Z',\n",
       "    'local': '2024-10-14 09:05+02:00'},\n",
       "   'revisedTime': {'utc': '2024-10-14 07:11Z',\n",
       "    'local': '2024-10-14 09:11+02:00'},\n",
       "   'terminal': '1',\n",
       "   'gate': 'A32',\n",
       "   'baggageBelt': 'B1',\n",
       "   'quality': ['Basic', 'Live']},\n",
       "  'number': 'U2 4897',\n",
       "  'callSign': 'EJU42RU',\n",
       "  'status': 'Expected',\n",
       "  'codeshareStatus': 'IsOperator',\n",
       "  'isCargo': False,\n",
       "  'aircraft': {'reg': 'HB-JXU',\n",
       "   'modeS': '4408C9',\n",
       "   'model': 'Airbus A320-200 (sharklets)'},\n",
       "  'airline': {'name': 'easyJet', 'iata': 'U2', 'icao': 'EZY'}},\n",
       " {'departure': {'airport': {'icao': 'EDDK',\n",
       "    'iata': 'CGN',\n",
       "    'name': 'Cologne',\n",
       "    'timeZone': 'Europe/Berlin'},\n",
       "   'scheduledTime': {'utc': '2024-10-14 06:15Z',\n",
       "    'local': '2024-10-14 08:15+02:00'},\n",
       "   'terminal': '1',\n",
       "   'quality': ['Basic']},\n",
       "  'arrival': {'scheduledTime': {'utc': '2024-10-14 07:25Z',\n",
       "    'local': '2024-10-14 09:25+02:00'},\n",
       "   'revisedTime': {'utc': '2024-10-14 07:12Z',\n",
       "    'local': '2024-10-14 09:12+02:00'},\n",
       "   'terminal': '1',\n",
       "   'gate': 'A34',\n",
       "   'baggageBelt': 'B2',\n",
       "   'quality': ['Basic', 'Live']},\n",
       "  'number': 'EW 8059',\n",
       "  'status': 'Expected',\n",
       "  'codeshareStatus': 'IsOperator',\n",
       "  'isCargo': False,\n",
       "  'aircraft': {'reg': '9H-MLW', 'modeS': '4D244F', 'model': 'Airbus A320'},\n",
       "  'airline': {'name': 'Eurowings', 'iata': 'EW', 'icao': 'EWG'}},\n",
       " {'departure': {'airport': {'icao': 'EHAM',\n",
       "    'iata': 'AMS',\n",
       "    'name': 'Amsterdam',\n",
       "    'timeZone': 'Europe/Amsterdam'},\n",
       "   'scheduledTime': {'utc': '2024-10-14 06:10Z',\n",
       "    'local': '2024-10-14 08:10+02:00'},\n",
       "   'revisedTime': {'utc': '2024-10-14 06:07Z',\n",
       "    'local': '2024-10-14 08:07+02:00'},\n",
       "   'runwayTime': {'utc': '2024-10-14 06:20Z',\n",
       "    'local': '2024-10-14 08:20+02:00'},\n",
       "   'terminal': '3',\n",
       "   'checkInDesk': '26',\n",
       "   'gate': 'M4',\n",
       "   'runway': '24',\n",
       "   'quality': ['Basic', 'Live']},\n",
       "  'arrival': {'scheduledTime': {'utc': '2024-10-14 07:35Z',\n",
       "    'local': '2024-10-14 09:35+02:00'},\n",
       "   'revisedTime': {'utc': '2024-10-14 07:15Z',\n",
       "    'local': '2024-10-14 09:15+02:00'},\n",
       "   'terminal': '1',\n",
       "   'gate': 'A37',\n",
       "   'baggageBelt': 'A3',\n",
       "   'quality': ['Basic', 'Live']},\n",
       "  'number': 'U2 5282',\n",
       "  'callSign': 'EJU42KM',\n",
       "  'status': 'Expected',\n",
       "  'codeshareStatus': 'IsOperator',\n",
       "  'isCargo': False,\n",
       "  'aircraft': {'reg': 'OE-IBS', 'modeS': '440D10', 'model': 'Airbus A320'},\n",
       "  'airline': {'name': 'easyJet', 'iata': 'U2', 'icao': 'EZY'}},\n",
       " {'departure': {'airport': {'icao': 'EHAM',\n",
       "    'iata': 'AMS',\n",
       "    'name': 'Amsterdam',\n",
       "    'timeZone': 'Europe/Amsterdam'},\n",
       "   'scheduledTime': {'utc': '2024-10-14 06:10Z',\n",
       "    'local': '2024-10-14 08:10+02:00'},\n",
       "   'revisedTime': {'utc': '2024-10-14 06:07Z',\n",
       "    'local': '2024-10-14 08:07+02:00'},\n",
       "   'runwayTime': {'utc': '2024-10-14 06:20Z',\n",
       "    'local': '2024-10-14 08:20+02:00'},\n",
       "   'terminal': '3',\n",
       "   'checkInDesk': '26',\n",
       "   'gate': 'M4',\n",
       "   'runway': '24',\n",
       "   'quality': ['Basic', 'Live']},\n",
       "  'arrival': {'scheduledTime': {'utc': '2024-10-14 07:35Z',\n",
       "    'local': '2024-10-14 09:35+02:00'},\n",
       "   'revisedTime': {'utc': '2024-10-14 07:15Z',\n",
       "    'local': '2024-10-14 09:15+02:00'},\n",
       "   'terminal': '1',\n",
       "   'gate': 'A37',\n",
       "   'baggageBelt': 'A3',\n",
       "   'quality': ['Basic', 'Live']},\n",
       "  'number': 'EC 5282',\n",
       "  'callSign': 'EJU42KM',\n",
       "  'status': 'Expected',\n",
       "  'codeshareStatus': 'IsCodeshared',\n",
       "  'isCargo': False,\n",
       "  'aircraft': {'reg': 'OE-IBS', 'modeS': '440D10', 'model': 'Airbus A320'},\n",
       "  'airline': {'name': 'EasyJet Europe', 'iata': 'EC', 'icao': 'EJU'}},\n",
       " {'departure': {'airport': {'icao': 'EGCC',\n",
       "    'iata': 'MAN',\n",
       "    'name': 'Manchester',\n",
       "    'timeZone': 'Europe/London'},\n",
       "   'scheduledTime': {'utc': '2024-10-14 05:40Z',\n",
       "    'local': '2024-10-14 06:40+01:00'},\n",
       "   'revisedTime': {'utc': '2024-10-14 05:35Z',\n",
       "    'local': '2024-10-14 06:35+01:00'},\n",
       "   'runwayTime': {'utc': '2024-10-14 05:55Z',\n",
       "    'local': '2024-10-14 06:55+01:00'},\n",
       "   'terminal': '1',\n",
       "   'gate': '6',\n",
       "   'runway': '23L',\n",
       "   'quality': ['Basic', 'Live']},\n",
       "  'arrival': {'scheduledTime': {'utc': '2024-10-14 07:35Z',\n",
       "    'local': '2024-10-14 09:35+02:00'},\n",
       "   'revisedTime': {'utc': '2024-10-14 07:19Z',\n",
       "    'local': '2024-10-14 09:19+02:00'},\n",
       "   'terminal': '1',\n",
       "   'gate': 'N01',\n",
       "   'baggageBelt': 'B3',\n",
       "   'quality': ['Basic', 'Live']},\n",
       "  'number': 'U2 2199',\n",
       "  'callSign': 'EZY73CX',\n",
       "  'status': 'Expected',\n",
       "  'codeshareStatus': 'IsOperator',\n",
       "  'isCargo': False,\n",
       "  'aircraft': {'reg': 'G-EZUO', 'modeS': '406669', 'model': 'Airbus A320'},\n",
       "  'airline': {'name': 'easyJet', 'iata': 'U2', 'icao': 'EZY'}},\n",
       " {'departure': {'airport': {'icao': 'LSZH',\n",
       "    'iata': 'ZRH',\n",
       "    'name': 'Zurich',\n",
       "    'timeZone': 'Europe/Zurich'},\n",
       "   'scheduledTime': {'utc': '2024-10-14 06:05Z',\n",
       "    'local': '2024-10-14 08:05+02:00'},\n",
       "   'revisedTime': {'utc': '2024-10-14 06:05Z',\n",
       "    'local': '2024-10-14 08:05+02:00'},\n",
       "   'runwayTime': {'utc': '2024-10-14 06:24Z',\n",
       "    'local': '2024-10-14 08:24+02:00'},\n",
       "   'checkInDesk': '3',\n",
       "   'gate': 'A82',\n",
       "   'quality': ['Basic', 'Live']},\n",
       "  'arrival': {'scheduledTime': {'utc': '2024-10-14 07:40Z',\n",
       "    'local': '2024-10-14 09:40+02:00'},\n",
       "   'revisedTime': {'utc': '2024-10-14 07:22Z',\n",
       "    'local': '2024-10-14 09:22+02:00'},\n",
       "   'terminal': '1',\n",
       "   'gate': 'A38',\n",
       "   'baggageBelt': 'A3',\n",
       "   'quality': ['Basic', 'Live']},\n",
       "  'number': 'U2 5188',\n",
       "  'callSign': 'EJU73MR',\n",
       "  'status': 'Expected',\n",
       "  'codeshareStatus': 'IsOperator',\n",
       "  'isCargo': False,\n",
       "  'aircraft': {'reg': 'OE-IBF', 'modeS': '440CF8', 'model': 'Airbus A320'},\n",
       "  'airline': {'name': 'easyJet', 'iata': 'U2', 'icao': 'EZY'}},\n",
       " {'departure': {'airport': {'icao': 'LSZH',\n",
       "    'iata': 'ZRH',\n",
       "    'name': 'Zurich',\n",
       "    'timeZone': 'Europe/Zurich'},\n",
       "   'scheduledTime': {'utc': '2024-10-14 06:05Z',\n",
       "    'local': '2024-10-14 08:05+02:00'},\n",
       "   'revisedTime': {'utc': '2024-10-14 06:05Z',\n",
       "    'local': '2024-10-14 08:05+02:00'},\n",
       "   'runwayTime': {'utc': '2024-10-14 06:24Z',\n",
       "    'local': '2024-10-14 08:24+02:00'},\n",
       "   'checkInDesk': '3',\n",
       "   'gate': 'A82',\n",
       "   'quality': ['Basic', 'Live']},\n",
       "  'arrival': {'scheduledTime': {'utc': '2024-10-14 07:40Z',\n",
       "    'local': '2024-10-14 09:40+02:00'},\n",
       "   'revisedTime': {'utc': '2024-10-14 07:22Z',\n",
       "    'local': '2024-10-14 09:22+02:00'},\n",
       "   'terminal': '1',\n",
       "   'gate': 'A38',\n",
       "   'baggageBelt': 'A3',\n",
       "   'quality': ['Basic', 'Live']},\n",
       "  'number': 'EC 5188',\n",
       "  'callSign': 'EJU73MR',\n",
       "  'status': 'Expected',\n",
       "  'codeshareStatus': 'IsCodeshared',\n",
       "  'isCargo': False,\n",
       "  'aircraft': {'reg': 'OE-IBF', 'modeS': '440CF8', 'model': 'Airbus A320'},\n",
       "  'airline': {'name': 'EasyJet Europe', 'iata': 'EC', 'icao': 'EJU'}},\n",
       " {'departure': {'airport': {'icao': 'LLBG',\n",
       "    'iata': 'TLV',\n",
       "    'name': 'Tel Aviv Yafo',\n",
       "    'timeZone': 'Asia/Jerusalem'},\n",
       "   'scheduledTime': {'utc': '2024-10-14 03:20Z',\n",
       "    'local': '2024-10-14 06:20+03:00'},\n",
       "   'revisedTime': {'utc': '2024-10-14 03:36Z',\n",
       "    'local': '2024-10-14 06:36+03:00'},\n",
       "   'runwayTime': {'utc': '2024-10-14 03:36Z',\n",
       "    'local': '2024-10-14 06:36+03:00'},\n",
       "   'terminal': '3',\n",
       "   'runway': '26',\n",
       "   'quality': ['Basic', 'Live']},\n",
       "  'arrival': {'scheduledTime': {'utc': '2024-10-14 07:40Z',\n",
       "    'local': '2024-10-14 09:40+02:00'},\n",
       "   'revisedTime': {'utc': '2024-10-14 07:31Z',\n",
       "    'local': '2024-10-14 09:31+02:00'},\n",
       "   'terminal': '1',\n",
       "   'gate': 'X19',\n",
       "   'baggageBelt': 'A4',\n",
       "   'quality': ['Basic', 'Live']},\n",
       "  'number': 'LY 2371',\n",
       "  'callSign': 'ELY2371',\n",
       "  'status': 'Expected',\n",
       "  'codeshareStatus': 'IsOperator',\n",
       "  'isCargo': False,\n",
       "  'aircraft': {'reg': '4X-EKI', 'modeS': '738068', 'model': 'Boeing 737-800'},\n",
       "  'airline': {'name': 'El Al', 'iata': 'LY', 'icao': 'ELY'}},\n",
       " {'departure': {'airport': {'icao': 'DTTA',\n",
       "    'iata': 'TUN',\n",
       "    'name': 'Tunis',\n",
       "    'timeZone': 'Africa/Tunis'},\n",
       "   'scheduledTime': {'utc': '2024-10-14 05:00Z',\n",
       "    'local': '2024-10-14 06:00+01:00'},\n",
       "   'terminal': 'M',\n",
       "   'quality': ['Basic']},\n",
       "  'arrival': {'scheduledTime': {'utc': '2024-10-14 07:45Z',\n",
       "    'local': '2024-10-14 09:45+02:00'},\n",
       "   'revisedTime': {'utc': '2024-10-14 07:32Z',\n",
       "    'local': '2024-10-14 09:32+02:00'},\n",
       "   'terminal': '1',\n",
       "   'gate': 'N01',\n",
       "   'baggageBelt': 'B4',\n",
       "   'quality': ['Basic', 'Live']},\n",
       "  'number': 'BJ 232',\n",
       "  'callSign': 'LBT232',\n",
       "  'status': 'Expected',\n",
       "  'codeshareStatus': 'IsOperator',\n",
       "  'isCargo': False,\n",
       "  'aircraft': {'reg': 'TS-ING',\n",
       "   'modeS': '02A1A6',\n",
       "   'model': 'Airbus A320-200 (sharklets)'},\n",
       "  'airline': {'name': 'Nouvelair Tunisie', 'iata': 'BJ', 'icao': 'LBT'}},\n",
       " {'departure': {'airport': {'icao': 'EIDW',\n",
       "    'iata': 'DUB',\n",
       "    'name': 'Dublin',\n",
       "    'timeZone': 'Europe/Dublin'},\n",
       "   'scheduledTime': {'utc': '2024-10-14 05:40Z',\n",
       "    'local': '2024-10-14 06:40+01:00'},\n",
       "   'revisedTime': {'utc': '2024-10-14 05:40Z',\n",
       "    'local': '2024-10-14 06:40+01:00'},\n",
       "   'terminal': '2',\n",
       "   'checkInDesk': '29-56',\n",
       "   'gate': '335B',\n",
       "   'quality': ['Basic', 'Live']},\n",
       "  'arrival': {'scheduledTime': {'utc': '2024-10-14 08:00Z',\n",
       "    'local': '2024-10-14 10:00+02:00'},\n",
       "   'revisedTime': {'utc': '2024-10-14 07:43Z',\n",
       "    'local': '2024-10-14 09:43+02:00'},\n",
       "   'terminal': '1',\n",
       "   'gate': 'Y03',\n",
       "   'baggageBelt': 'B4',\n",
       "   'quality': ['Basic', 'Live']},\n",
       "  'number': 'EI 332',\n",
       "  'status': 'Expected',\n",
       "  'codeshareStatus': 'IsOperator',\n",
       "  'isCargo': False,\n",
       "  'aircraft': {'reg': 'EI-DEL', 'modeS': '4CA292', 'model': 'Airbus A320'},\n",
       "  'airline': {'name': 'Aer Lingus', 'iata': 'EI', 'icao': 'EIN'}},\n",
       " {'departure': {'airport': {'icao': 'LGAV',\n",
       "    'iata': 'ATH',\n",
       "    'name': 'Athens',\n",
       "    'timeZone': 'Europe/Athens'},\n",
       "   'scheduledTime': {'utc': '2024-10-14 05:05Z',\n",
       "    'local': '2024-10-14 08:05+03:00'},\n",
       "   'revisedTime': {'utc': '2024-10-14 05:23Z',\n",
       "    'local': '2024-10-14 08:23+03:00'},\n",
       "   'terminal': 'I',\n",
       "   'checkInDesk': '21---25',\n",
       "   'gate': 'A01',\n",
       "   'quality': ['Basic', 'Live']},\n",
       "  'arrival': {'scheduledTime': {'utc': '2024-10-14 08:25Z',\n",
       "    'local': '2024-10-14 10:25+02:00'},\n",
       "   'revisedTime': {'utc': '2024-10-14 07:44Z',\n",
       "    'local': '2024-10-14 09:44+02:00'},\n",
       "   'terminal': '1',\n",
       "   'gate': 'Y07',\n",
       "   'baggageBelt': 'B3',\n",
       "   'quality': ['Basic', 'Live']},\n",
       "  'number': 'TV 720',\n",
       "  'status': 'Expected',\n",
       "  'codeshareStatus': 'IsOperator',\n",
       "  'isCargo': False,\n",
       "  'aircraft': {'reg': '9V-OFI', 'modeS': '76BCC9', 'model': 'Boeing 787-8'},\n",
       "  'airline': {'name': 'Tibet', 'iata': 'TV', 'icao': 'TBA'}},\n",
       " {'departure': {'airport': {'icao': 'EDDS',\n",
       "    'iata': 'STR',\n",
       "    'name': 'Stuttgart',\n",
       "    'timeZone': 'Europe/Berlin'},\n",
       "   'scheduledTime': {'utc': '2024-10-14 06:35Z',\n",
       "    'local': '2024-10-14 08:35+02:00'},\n",
       "   'revisedTime': {'utc': '2024-10-14 06:45Z',\n",
       "    'local': '2024-10-14 08:45+02:00'},\n",
       "   'terminal': '3',\n",
       "   'gate': '322',\n",
       "   'quality': ['Basic', 'Live']},\n",
       "  'arrival': {'scheduledTime': {'utc': '2024-10-14 07:45Z',\n",
       "    'local': '2024-10-14 09:45+02:00'},\n",
       "   'revisedTime': {'utc': '2024-10-14 07:47Z',\n",
       "    'local': '2024-10-14 09:47+02:00'},\n",
       "   'terminal': '1',\n",
       "   'gate': 'A30',\n",
       "   'baggageBelt': 'A1',\n",
       "   'quality': ['Basic', 'Live']},\n",
       "  'number': 'LH 5392',\n",
       "  'callSign': 'EWG8001',\n",
       "  'status': 'Expected',\n",
       "  'codeshareStatus': 'IsCodeshared',\n",
       "  'isCargo': False,\n",
       "  'aircraft': {'reg': '9H-MLR', 'modeS': '4D23A1', 'model': 'Airbus A320'},\n",
       "  'airline': {'name': 'Lufthansa', 'iata': 'LH', 'icao': 'DLH'}},\n",
       " {'departure': {'airport': {'icao': 'EDDS',\n",
       "    'iata': 'STR',\n",
       "    'name': 'Stuttgart',\n",
       "    'timeZone': 'Europe/Berlin'},\n",
       "   'scheduledTime': {'utc': '2024-10-14 06:35Z',\n",
       "    'local': '2024-10-14 08:35+02:00'},\n",
       "   'revisedTime': {'utc': '2024-10-14 06:45Z',\n",
       "    'local': '2024-10-14 08:45+02:00'},\n",
       "   'terminal': '3',\n",
       "   'gate': '322',\n",
       "   'quality': ['Basic', 'Live']},\n",
       "  'arrival': {'scheduledTime': {'utc': '2024-10-14 07:45Z',\n",
       "    'local': '2024-10-14 09:45+02:00'},\n",
       "   'revisedTime': {'utc': '2024-10-14 07:47Z',\n",
       "    'local': '2024-10-14 09:47+02:00'},\n",
       "   'terminal': '1',\n",
       "   'gate': 'A30',\n",
       "   'baggageBelt': 'A1',\n",
       "   'quality': ['Basic', 'Live']},\n",
       "  'number': 'EW 8001',\n",
       "  'callSign': 'EWG8001',\n",
       "  'status': 'Expected',\n",
       "  'codeshareStatus': 'IsOperator',\n",
       "  'isCargo': False,\n",
       "  'aircraft': {'reg': '9H-MLR', 'modeS': '4D23A1', 'model': 'Airbus A320'},\n",
       "  'airline': {'name': 'Eurowings', 'iata': 'EW', 'icao': 'EWG'}},\n",
       " {'departure': {'airport': {'icao': 'EGLL',\n",
       "    'iata': 'LHR',\n",
       "    'name': 'London',\n",
       "    'timeZone': 'Europe/London'},\n",
       "   'scheduledTime': {'utc': '2024-10-14 06:25Z',\n",
       "    'local': '2024-10-14 07:25+01:00'},\n",
       "   'revisedTime': {'utc': '2024-10-14 06:25Z',\n",
       "    'local': '2024-10-14 07:25+01:00'},\n",
       "   'terminal': '5',\n",
       "   'checkInDesk': 'D',\n",
       "   'quality': ['Basic', 'Live']},\n",
       "  'arrival': {'scheduledTime': {'utc': '2024-10-14 08:15Z',\n",
       "    'local': '2024-10-14 10:15+02:00'},\n",
       "   'revisedTime': {'utc': '2024-10-14 07:47Z',\n",
       "    'local': '2024-10-14 09:47+02:00'},\n",
       "   'terminal': '1',\n",
       "   'gate': 'X06',\n",
       "   'baggageBelt': 'A2',\n",
       "   'quality': ['Basic', 'Live']},\n",
       "  'number': 'BA 990',\n",
       "  'status': 'Expected',\n",
       "  'codeshareStatus': 'IsOperator',\n",
       "  'isCargo': False,\n",
       "  'aircraft': {'reg': 'G-EUPU', 'modeS': '4008B5', 'model': 'Airbus A319'},\n",
       "  'airline': {'name': 'British', 'iata': 'BA', 'icao': 'BAW'}},\n",
       " {'departure': {'airport': {'icao': 'LEBL',\n",
       "    'iata': 'BCN',\n",
       "    'name': 'Barcelona',\n",
       "    'timeZone': 'Europe/Madrid'},\n",
       "   'scheduledTime': {'utc': '2024-10-14 05:15Z',\n",
       "    'local': '2024-10-14 07:15+02:00'},\n",
       "   'revisedTime': {'utc': '2024-10-14 05:32Z',\n",
       "    'local': '2024-10-14 07:32+02:00'},\n",
       "   'runwayTime': {'utc': '2024-10-14 05:49Z',\n",
       "    'local': '2024-10-14 07:49+02:00'},\n",
       "   'terminal': '1',\n",
       "   'checkInDesk': '501-514',\n",
       "   'gate': 'B59',\n",
       "   'quality': ['Basic', 'Live']},\n",
       "  'arrival': {'scheduledTime': {'utc': '2024-10-14 08:00Z',\n",
       "    'local': '2024-10-14 10:00+02:00'},\n",
       "   'revisedTime': {'utc': '2024-10-14 07:48Z',\n",
       "    'local': '2024-10-14 09:48+02:00'},\n",
       "   'terminal': '2',\n",
       "   'gate': 'Z30',\n",
       "   'baggageBelt': 'C2',\n",
       "   'quality': ['Basic', 'Live']},\n",
       "  'number': 'VY 1882',\n",
       "  'callSign': 'VLG40LK',\n",
       "  'status': 'Expected',\n",
       "  'codeshareStatus': 'IsOperator',\n",
       "  'isCargo': False,\n",
       "  'aircraft': {'reg': 'EC-KDT', 'modeS': '342582', 'model': 'Airbus A320'},\n",
       "  'airline': {'name': 'Vueling', 'iata': 'VY', 'icao': 'VLG'}},\n",
       " {'departure': {'airport': {'icao': 'LEPA',\n",
       "    'iata': 'PMI',\n",
       "    'name': 'Palma De Mallorca',\n",
       "    'timeZone': 'Europe/Madrid'},\n",
       "   'scheduledTime': {'utc': '2024-10-14 05:15Z',\n",
       "    'local': '2024-10-14 07:15+02:00'},\n",
       "   'revisedTime': {'utc': '2024-10-14 05:24Z',\n",
       "    'local': '2024-10-14 07:24+02:00'},\n",
       "   'runwayTime': {'utc': '2024-10-14 05:39Z',\n",
       "    'local': '2024-10-14 07:39+02:00'},\n",
       "   'terminal': 'N',\n",
       "   'checkInDesk': '082-085',\n",
       "   'gate': 'C58',\n",
       "   'quality': ['Basic', 'Live']},\n",
       "  'arrival': {'scheduledTime': {'utc': '2024-10-14 08:00Z',\n",
       "    'local': '2024-10-14 10:00+02:00'},\n",
       "   'revisedTime': {'utc': '2024-10-14 07:50Z',\n",
       "    'local': '2024-10-14 09:50+02:00'},\n",
       "   'terminal': '1',\n",
       "   'gate': 'A33',\n",
       "   'baggageBelt': 'A3',\n",
       "   'quality': ['Basic', 'Live']},\n",
       "  'number': 'EC 7333',\n",
       "  'callSign': 'EJU53MB',\n",
       "  'status': 'Expected',\n",
       "  'codeshareStatus': 'IsCodeshared',\n",
       "  'isCargo': False,\n",
       "  'aircraft': {'reg': 'OE-LQS', 'modeS': '440735', 'model': 'Airbus A319'},\n",
       "  'airline': {'name': 'EasyJet Europe', 'iata': 'EC', 'icao': 'EJU'}},\n",
       " {'departure': {'airport': {'icao': 'LEPA',\n",
       "    'iata': 'PMI',\n",
       "    'name': 'Palma De Mallorca',\n",
       "    'timeZone': 'Europe/Madrid'},\n",
       "   'scheduledTime': {'utc': '2024-10-14 05:15Z',\n",
       "    'local': '2024-10-14 07:15+02:00'},\n",
       "   'revisedTime': {'utc': '2024-10-14 05:24Z',\n",
       "    'local': '2024-10-14 07:24+02:00'},\n",
       "   'runwayTime': {'utc': '2024-10-14 05:39Z',\n",
       "    'local': '2024-10-14 07:39+02:00'},\n",
       "   'terminal': 'N',\n",
       "   'checkInDesk': '082-085',\n",
       "   'gate': 'C58',\n",
       "   'quality': ['Basic', 'Live']},\n",
       "  'arrival': {'scheduledTime': {'utc': '2024-10-14 08:00Z',\n",
       "    'local': '2024-10-14 10:00+02:00'},\n",
       "   'revisedTime': {'utc': '2024-10-14 07:50Z',\n",
       "    'local': '2024-10-14 09:50+02:00'},\n",
       "   'terminal': '1',\n",
       "   'gate': 'A33',\n",
       "   'baggageBelt': 'A3',\n",
       "   'quality': ['Basic', 'Live']},\n",
       "  'number': 'U2 7333',\n",
       "  'callSign': 'EJU53MB',\n",
       "  'status': 'Expected',\n",
       "  'codeshareStatus': 'IsOperator',\n",
       "  'isCargo': False,\n",
       "  'aircraft': {'reg': 'OE-LQS', 'modeS': '440735', 'model': 'Airbus A319'},\n",
       "  'airline': {'name': 'easyJet', 'iata': 'U2', 'icao': 'EZY'}},\n",
       " {'departure': {'airport': {'icao': 'LPPR',\n",
       "    'iata': 'OPO',\n",
       "    'name': 'Porto',\n",
       "    'timeZone': 'Europe/Lisbon'},\n",
       "   'scheduledTime': {'utc': '2024-10-14 05:00Z',\n",
       "    'local': '2024-10-14 06:00+01:00'},\n",
       "   'revisedTime': {'utc': '2024-10-14 05:20Z',\n",
       "    'local': '2024-10-14 06:20+01:00'},\n",
       "   'runwayTime': {'utc': '2024-10-14 05:21Z',\n",
       "    'local': '2024-10-14 06:21+01:00'},\n",
       "   'terminal': '1',\n",
       "   'runway': '17',\n",
       "   'quality': ['Basic', 'Live']},\n",
       "  'arrival': {'scheduledTime': {'utc': '2024-10-14 08:05Z',\n",
       "    'local': '2024-10-14 10:05+02:00'},\n",
       "   'revisedTime': {'utc': '2024-10-14 07:59Z',\n",
       "    'local': '2024-10-14 09:59+02:00'},\n",
       "   'terminal': '2',\n",
       "   'gate': 'Z36',\n",
       "   'baggageBelt': 'C1',\n",
       "   'quality': ['Basic', 'Live']},\n",
       "  'number': 'FR 2945',\n",
       "  'callSign': 'RYR52LP',\n",
       "  'status': 'Expected',\n",
       "  'codeshareStatus': 'IsOperator',\n",
       "  'isCargo': False,\n",
       "  'aircraft': {'reg': 'EI-DLI', 'modeS': '4CA2D5', 'model': 'Boeing 737-800'},\n",
       "  'airline': {'name': 'Ryanair', 'iata': 'FR', 'icao': 'RYR'}},\n",
       " {'departure': {'airport': {'icao': 'LSZH',\n",
       "    'iata': 'ZRH',\n",
       "    'name': 'Zurich',\n",
       "    'timeZone': 'Europe/Zurich'},\n",
       "   'scheduledTime': {'utc': '2024-10-14 06:40Z',\n",
       "    'local': '2024-10-14 08:40+02:00'},\n",
       "   'revisedTime': {'utc': '2024-10-14 06:45Z',\n",
       "    'local': '2024-10-14 08:45+02:00'},\n",
       "   'checkInDesk': '1',\n",
       "   'gate': 'A65',\n",
       "   'quality': ['Basic', 'Live']},\n",
       "  'arrival': {'scheduledTime': {'utc': '2024-10-14 08:05Z',\n",
       "    'local': '2024-10-14 10:05+02:00'},\n",
       "   'revisedTime': {'utc': '2024-10-14 08:05Z',\n",
       "    'local': '2024-10-14 10:05+02:00'},\n",
       "   'terminal': '1',\n",
       "   'gate': 'A17',\n",
       "   'baggageBelt': 'A1',\n",
       "   'quality': ['Basic', 'Live']},\n",
       "  'number': 'LX 976',\n",
       "  'status': 'Expected',\n",
       "  'codeshareStatus': 'IsOperator',\n",
       "  'isCargo': False,\n",
       "  'aircraft': {'reg': 'HB-IJR', 'modeS': '4B161B', 'model': 'Airbus A320'},\n",
       "  'airline': {'name': 'SWISS', 'iata': 'LX', 'icao': 'SWR'}},\n",
       " {'departure': {'airport': {'icao': 'EHAM',\n",
       "    'iata': 'AMS',\n",
       "    'name': 'Amsterdam',\n",
       "    'timeZone': 'Europe/Amsterdam'},\n",
       "   'scheduledTime': {'utc': '2024-10-14 06:45Z',\n",
       "    'local': '2024-10-14 08:45+02:00'},\n",
       "   'revisedTime': {'utc': '2024-10-14 06:45Z',\n",
       "    'local': '2024-10-14 08:45+02:00'},\n",
       "   'terminal': '1',\n",
       "   'checkInDesk': '6-8',\n",
       "   'gate': 'B6',\n",
       "   'quality': ['Basic', 'Live']},\n",
       "  'arrival': {'scheduledTime': {'utc': '2024-10-14 08:05Z',\n",
       "    'local': '2024-10-14 10:05+02:00'},\n",
       "   'revisedTime': {'utc': '2024-10-14 08:05Z',\n",
       "    'local': '2024-10-14 10:05+02:00'},\n",
       "   'terminal': '1',\n",
       "   'gate': 'A07',\n",
       "   'baggageBelt': 'A4',\n",
       "   'quality': ['Basic', 'Live']},\n",
       "  'number': 'KL 1773',\n",
       "  'status': 'Expected',\n",
       "  'codeshareStatus': 'IsOperator',\n",
       "  'isCargo': False,\n",
       "  'aircraft': {'reg': 'D-AJHW', 'modeS': '3C6917', 'model': 'Embraer 190'},\n",
       "  'airline': {'name': 'KLM', 'iata': 'KL', 'icao': 'KLM'}},\n",
       " {'departure': {'airport': {'icao': 'EDDM',\n",
       "    'iata': 'MUC',\n",
       "    'name': 'Munich',\n",
       "    'timeZone': 'Europe/Berlin'},\n",
       "   'scheduledTime': {'utc': '2024-10-14 07:00Z',\n",
       "    'local': '2024-10-14 09:00+02:00'},\n",
       "   'revisedTime': {'utc': '2024-10-14 07:00Z',\n",
       "    'local': '2024-10-14 09:00+02:00'},\n",
       "   'terminal': '2',\n",
       "   'quality': ['Basic', 'Live']},\n",
       "  'arrival': {'scheduledTime': {'utc': '2024-10-14 08:05Z',\n",
       "    'local': '2024-10-14 10:05+02:00'},\n",
       "   'revisedTime': {'utc': '2024-10-14 08:05Z',\n",
       "    'local': '2024-10-14 10:05+02:00'},\n",
       "   'terminal': '1',\n",
       "   'gate': 'B20',\n",
       "   'baggageBelt': 'B1',\n",
       "   'quality': ['Basic', 'Live']},\n",
       "  'number': 'LH 1934',\n",
       "  'status': 'Expected',\n",
       "  'codeshareStatus': 'IsOperator',\n",
       "  'isCargo': False,\n",
       "  'aircraft': {'reg': 'D-AISN', 'modeS': '3C666E', 'model': 'Airbus A321'},\n",
       "  'airline': {'name': 'Lufthansa', 'iata': 'LH', 'icao': 'DLH'}},\n",
       " {'departure': {'airport': {'icao': 'LDZD',\n",
       "    'iata': 'ZAD',\n",
       "    'name': 'Zadar',\n",
       "    'timeZone': 'Europe/Zagreb'},\n",
       "   'scheduledTime': {'utc': '2024-10-14 06:50Z',\n",
       "    'local': '2024-10-14 08:50+02:00'},\n",
       "   'quality': ['Basic']},\n",
       "  'arrival': {'scheduledTime': {'utc': '2024-10-14 08:30Z',\n",
       "    'local': '2024-10-14 10:30+02:00'},\n",
       "   'revisedTime': {'utc': '2024-10-14 08:10Z',\n",
       "    'local': '2024-10-14 10:10+02:00'},\n",
       "   'terminal': '2',\n",
       "   'gate': 'Z32',\n",
       "   'baggageBelt': 'C3',\n",
       "   'quality': ['Basic', 'Live']},\n",
       "  'number': 'FR 2919',\n",
       "  'status': 'Expected',\n",
       "  'codeshareStatus': 'IsOperator',\n",
       "  'isCargo': False,\n",
       "  'aircraft': {'reg': '9H-VUU', 'modeS': '4D236B', 'model': 'Boeing 737-800'},\n",
       "  'airline': {'name': 'Ryanair', 'iata': 'FR', 'icao': 'RYR'}},\n",
       " {'departure': {'airport': {'icao': 'LEMD',\n",
       "    'iata': 'MAD',\n",
       "    'name': 'Madrid',\n",
       "    'timeZone': 'Europe/Madrid'},\n",
       "   'scheduledTime': {'utc': '2024-10-14 05:30Z',\n",
       "    'local': '2024-10-14 07:30+02:00'},\n",
       "   'revisedTime': {'utc': '2024-10-14 05:44Z',\n",
       "    'local': '2024-10-14 07:44+02:00'},\n",
       "   'runwayTime': {'utc': '2024-10-14 06:00Z',\n",
       "    'local': '2024-10-14 08:00+02:00'},\n",
       "   'terminal': '4',\n",
       "   'checkInDesk': '850-859',\n",
       "   'gate': 'J42',\n",
       "   'runway': '36R',\n",
       "   'quality': ['Basic', 'Live']},\n",
       "  'arrival': {'scheduledTime': {'utc': '2024-10-14 08:35Z',\n",
       "    'local': '2024-10-14 10:35+02:00'},\n",
       "   'revisedTime': {'utc': '2024-10-14 08:16Z',\n",
       "    'local': '2024-10-14 10:16+02:00'},\n",
       "   'terminal': '1',\n",
       "   'gate': 'A31',\n",
       "   'baggageBelt': 'A3',\n",
       "   'quality': ['Basic', 'Live']},\n",
       "  'number': 'I2 3676',\n",
       "  'callSign': 'IBS36YR',\n",
       "  'status': 'Expected',\n",
       "  'codeshareStatus': 'IsOperator',\n",
       "  'isCargo': False,\n",
       "  'aircraft': {'reg': 'EC-NIA', 'modeS': '34644C', 'model': 'Airbus A321 NEO'},\n",
       "  'airline': {'name': 'Iberia Express', 'iata': 'I2', 'icao': 'IBS'}},\n",
       " {'departure': {'airport': {'icao': 'LEMD',\n",
       "    'iata': 'MAD',\n",
       "    'name': 'Madrid',\n",
       "    'timeZone': 'Europe/Madrid'},\n",
       "   'scheduledTime': {'utc': '2024-10-14 05:30Z',\n",
       "    'local': '2024-10-14 07:30+02:00'},\n",
       "   'revisedTime': {'utc': '2024-10-14 05:44Z',\n",
       "    'local': '2024-10-14 07:44+02:00'},\n",
       "   'terminal': '4',\n",
       "   'checkInDesk': '850-859',\n",
       "   'gate': 'J42',\n",
       "   'quality': ['Basic', 'Live']},\n",
       "  'arrival': {'scheduledTime': {'utc': '2024-10-14 08:35Z',\n",
       "    'local': '2024-10-14 10:35+02:00'},\n",
       "   'revisedTime': {'utc': '2024-10-14 08:16Z',\n",
       "    'local': '2024-10-14 10:16+02:00'},\n",
       "   'terminal': '1',\n",
       "   'gate': 'A31',\n",
       "   'baggageBelt': 'A3',\n",
       "   'quality': ['Basic', 'Live']},\n",
       "  'number': 'IB 3676',\n",
       "  'status': 'Expected',\n",
       "  'codeshareStatus': 'IsCodeshared',\n",
       "  'isCargo': False,\n",
       "  'aircraft': {'reg': 'EC-NIA', 'modeS': '34644C', 'model': 'Airbus A321 NEO'},\n",
       "  'airline': {'name': 'Iberia', 'iata': 'IB', 'icao': 'IBE'}},\n",
       " {'departure': {'airport': {'icao': 'LFML',\n",
       "    'iata': 'MRS',\n",
       "    'name': 'Marseille',\n",
       "    'timeZone': 'Europe/Paris'},\n",
       "   'scheduledTime': {'utc': '2024-10-14 06:35Z',\n",
       "    'local': '2024-10-14 08:35+02:00'},\n",
       "   'terminal': '2',\n",
       "   'quality': ['Basic']},\n",
       "  'arrival': {'scheduledTime': {'utc': '2024-10-14 08:40Z',\n",
       "    'local': '2024-10-14 10:40+02:00'},\n",
       "   'revisedTime': {'utc': '2024-10-14 08:24Z',\n",
       "    'local': '2024-10-14 10:24+02:00'},\n",
       "   'terminal': '2',\n",
       "   'gate': 'Z33',\n",
       "   'baggageBelt': 'C1',\n",
       "   'quality': ['Basic', 'Live']},\n",
       "  'number': 'FR 3389',\n",
       "  'status': 'Expected',\n",
       "  'codeshareStatus': 'IsOperator',\n",
       "  'isCargo': False,\n",
       "  'aircraft': {'reg': '9H-QCG', 'modeS': '4D223A', 'model': 'Boeing 737-800'},\n",
       "  'airline': {'name': 'Ryanair', 'iata': 'FR', 'icao': 'RYR'}},\n",
       " {'departure': {'airport': {'icao': 'LGAV',\n",
       "    'iata': 'ATH',\n",
       "    'name': 'Athens',\n",
       "    'timeZone': 'Europe/Athens'},\n",
       "   'scheduledTime': {'utc': '2024-10-14 05:05Z',\n",
       "    'local': '2024-10-14 08:05+03:00'},\n",
       "   'revisedTime': {'utc': '2024-10-14 05:05Z',\n",
       "    'local': '2024-10-14 08:05+03:00'},\n",
       "   'runwayTime': {'utc': '2024-10-14 05:24Z',\n",
       "    'local': '2024-10-14 08:24+03:00'},\n",
       "   'terminal': 'I',\n",
       "   'checkInDesk': '21---25',\n",
       "   'gate': 'A',\n",
       "   'runway': '03R',\n",
       "   'quality': ['Basic', 'Live']},\n",
       "  'arrival': {'scheduledTime': {'utc': '2024-10-14 08:25Z',\n",
       "    'local': '2024-10-14 10:25+02:00'},\n",
       "   'revisedTime': {'utc': '2024-10-14 08:25Z',\n",
       "    'local': '2024-10-14 10:25+02:00'},\n",
       "   'terminal': '1',\n",
       "   'gate': 'Y07',\n",
       "   'baggageBelt': 'B3',\n",
       "   'quality': ['Basic', 'Live']},\n",
       "  'number': 'TR 720',\n",
       "  'callSign': 'TGW720',\n",
       "  'status': 'Expected',\n",
       "  'codeshareStatus': 'IsOperator',\n",
       "  'isCargo': False,\n",
       "  'aircraft': {'reg': '9V-OFI', 'modeS': '76BCC9', 'model': 'Boeing 787-8'},\n",
       "  'airline': {'name': 'Scoot', 'iata': 'TR', 'icao': 'TGW'}},\n",
       " {'departure': {'airport': {'icao': 'LOWW',\n",
       "    'iata': 'VIE',\n",
       "    'name': 'Vienna',\n",
       "    'timeZone': 'Europe/Vienna'},\n",
       "   'scheduledTime': {'utc': '2024-10-14 07:15Z',\n",
       "    'local': '2024-10-14 09:15+02:00'},\n",
       "   'revisedTime': {'utc': '2024-10-14 07:15Z',\n",
       "    'local': '2024-10-14 09:15+02:00'},\n",
       "   'terminal': '3',\n",
       "   'checkInDesk': '351-372',\n",
       "   'gate': 'F25',\n",
       "   'quality': ['Basic', 'Live']},\n",
       "  'arrival': {'scheduledTime': {'utc': '2024-10-14 08:25Z',\n",
       "    'local': '2024-10-14 10:25+02:00'},\n",
       "   'revisedTime': {'utc': '2024-10-14 08:25Z',\n",
       "    'local': '2024-10-14 10:25+02:00'},\n",
       "   'terminal': '1',\n",
       "   'gate': 'A10',\n",
       "   'baggageBelt': 'A1',\n",
       "   'quality': ['Basic', 'Live']},\n",
       "  'number': 'OS 225',\n",
       "  'status': 'Expected',\n",
       "  'codeshareStatus': 'IsOperator',\n",
       "  'isCargo': False,\n",
       "  'aircraft': {'model': 'Embraer 195'},\n",
       "  'airline': {'name': 'Austrian', 'iata': 'OS', 'icao': 'AUA'}},\n",
       " {'departure': {'airport': {'icao': 'EPWA',\n",
       "    'iata': 'WAW',\n",
       "    'name': 'Warsaw',\n",
       "    'timeZone': 'Europe/Warsaw'},\n",
       "   'scheduledTime': {'utc': '2024-10-14 07:15Z',\n",
       "    'local': '2024-10-14 09:15+02:00'},\n",
       "   'quality': ['Basic']},\n",
       "  'arrival': {'scheduledTime': {'utc': '2024-10-14 08:30Z',\n",
       "    'local': '2024-10-14 10:30+02:00'},\n",
       "   'revisedTime': {'utc': '2024-10-14 08:30Z',\n",
       "    'local': '2024-10-14 10:30+02:00'},\n",
       "   'terminal': '1',\n",
       "   'gate': 'A32',\n",
       "   'baggageBelt': 'A1',\n",
       "   'quality': ['Basic', 'Live']},\n",
       "  'number': 'LO 387',\n",
       "  'status': 'Expected',\n",
       "  'codeshareStatus': 'IsOperator',\n",
       "  'isCargo': False,\n",
       "  'aircraft': {'model': 'Embraer 175'},\n",
       "  'airline': {'name': 'LOT - Polish', 'iata': 'LO', 'icao': 'LOT'}},\n",
       " {'departure': {'airport': {'icao': 'LGAV',\n",
       "    'iata': 'ATH',\n",
       "    'name': 'Athens',\n",
       "    'timeZone': 'Europe/Athens'},\n",
       "   'scheduledTime': {'utc': '2024-10-14 05:45Z',\n",
       "    'local': '2024-10-14 08:45+03:00'},\n",
       "   'revisedTime': {'utc': '2024-10-14 06:01Z',\n",
       "    'local': '2024-10-14 09:01+03:00'},\n",
       "   'runwayTime': {'utc': '2024-10-14 06:01Z',\n",
       "    'local': '2024-10-14 09:01+03:00'},\n",
       "   'terminal': 'D',\n",
       "   'checkInDesk': '148--153',\n",
       "   'gate': 'B20',\n",
       "   'runway': '03R',\n",
       "   'quality': ['Basic', 'Live']},\n",
       "  'arrival': {'scheduledTime': {'utc': '2024-10-14 08:40Z',\n",
       "    'local': '2024-10-14 10:40+02:00'},\n",
       "   'revisedTime': {'utc': '2024-10-14 08:32Z',\n",
       "    'local': '2024-10-14 10:32+02:00'},\n",
       "   'terminal': '1',\n",
       "   'gate': 'A36',\n",
       "   'baggageBelt': 'A2',\n",
       "   'quality': ['Basic', 'Live']},\n",
       "  'number': 'A3 820',\n",
       "  'callSign': 'AEE8RB',\n",
       "  'status': 'Expected',\n",
       "  'codeshareStatus': 'IsOperator',\n",
       "  'isCargo': False,\n",
       "  'aircraft': {'reg': 'SX-NAO', 'modeS': '46B82F', 'model': 'Airbus A321 NEO'},\n",
       "  'airline': {'name': 'Aegean', 'iata': 'A3', 'icao': 'AEE'}},\n",
       " {'departure': {'airport': {'icao': 'GMMX',\n",
       "    'iata': 'RAK',\n",
       "    'name': 'Marrakech',\n",
       "    'timeZone': 'Africa/Casablanca'},\n",
       "   'scheduledTime': {'utc': '2024-10-14 04:45Z',\n",
       "    'local': '2024-10-14 05:45+01:00'},\n",
       "   'terminal': '1',\n",
       "   'quality': ['Basic']},\n",
       "  'arrival': {'scheduledTime': {'utc': '2024-10-14 08:55Z',\n",
       "    'local': '2024-10-14 10:55+02:00'},\n",
       "   'revisedTime': {'utc': '2024-10-14 08:33Z',\n",
       "    'local': '2024-10-14 10:33+02:00'},\n",
       "   'terminal': '2',\n",
       "   'gate': 'Z44',\n",
       "   'baggageBelt': 'C2',\n",
       "   'quality': ['Basic', 'Live']},\n",
       "  'number': 'FR 5475',\n",
       "  'status': 'Expected',\n",
       "  'codeshareStatus': 'IsOperator',\n",
       "  'isCargo': False,\n",
       "  'aircraft': {'reg': 'EI-IKI',\n",
       "   'modeS': '4CAE95',\n",
       "   'model': 'Boeing 737 MAX 8'},\n",
       "  'airline': {'name': 'Ryanair', 'iata': 'FR', 'icao': 'RYR'}},\n",
       " {'departure': {'airport': {'icao': 'LTAI',\n",
       "    'iata': 'AYT',\n",
       "    'name': 'Antalya',\n",
       "    'timeZone': 'Europe/Istanbul'},\n",
       "   'scheduledTime': {'utc': '2024-10-14 05:20Z',\n",
       "    'local': '2024-10-14 08:20+03:00'},\n",
       "   'revisedTime': {'utc': '2024-10-14 05:20Z',\n",
       "    'local': '2024-10-14 08:20+03:00'},\n",
       "   'terminal': '2',\n",
       "   'checkInDesk': '246-248',\n",
       "   'quality': ['Basic', 'Live']},\n",
       "  'arrival': {'scheduledTime': {'utc': '2024-10-14 08:40Z',\n",
       "    'local': '2024-10-14 10:40+02:00'},\n",
       "   'revisedTime': {'utc': '2024-10-14 08:45Z',\n",
       "    'local': '2024-10-14 10:45+02:00'},\n",
       "   'terminal': '1',\n",
       "   'gate': 'N01',\n",
       "   'baggageBelt': 'B4',\n",
       "   'quality': ['Basic', 'Live']},\n",
       "  'number': 'FH 1281',\n",
       "  'callSign': 'FHY1281',\n",
       "  'status': 'Expected',\n",
       "  'codeshareStatus': 'IsOperator',\n",
       "  'isCargo': False,\n",
       "  'aircraft': {'reg': 'TC-FHL', 'modeS': '4B990C', 'model': 'Airbus A320-200'},\n",
       "  'airline': {'name': 'Freebird', 'iata': 'FH', 'icao': 'FHY'}},\n",
       " {'departure': {'airport': {'icao': 'EBBR',\n",
       "    'iata': 'BRU',\n",
       "    'name': 'Brussels',\n",
       "    'timeZone': 'Europe/Brussels'},\n",
       "   'scheduledTime': {'utc': '2024-10-14 07:25Z',\n",
       "    'local': '2024-10-14 09:25+02:00'},\n",
       "   'revisedTime': {'utc': '2024-10-14 07:25Z',\n",
       "    'local': '2024-10-14 09:25+02:00'},\n",
       "   'checkInDesk': '05',\n",
       "   'quality': ['Basic', 'Live']},\n",
       "  'arrival': {'scheduledTime': {'utc': '2024-10-14 08:50Z',\n",
       "    'local': '2024-10-14 10:50+02:00'},\n",
       "   'revisedTime': {'utc': '2024-10-14 08:50Z',\n",
       "    'local': '2024-10-14 10:50+02:00'},\n",
       "   'terminal': '1',\n",
       "   'gate': 'B17',\n",
       "   'baggageBelt': 'B1',\n",
       "   'quality': ['Basic', 'Live']},\n",
       "  'number': 'SN 2581',\n",
       "  'status': 'Expected',\n",
       "  'codeshareStatus': 'IsOperator',\n",
       "  'isCargo': False,\n",
       "  'aircraft': {'reg': 'OO-TCV', 'modeS': '44D076', 'model': 'Airbus A320'},\n",
       "  'airline': {'name': 'Brussels', 'iata': 'SN', 'icao': 'BEL'}},\n",
       " {'departure': {'airport': {'icao': 'EDDF',\n",
       "    'iata': 'FRA',\n",
       "    'name': 'Frankfurt-am-Main',\n",
       "    'timeZone': 'Europe/Berlin'},\n",
       "   'scheduledTime': {'utc': '2024-10-14 07:45Z',\n",
       "    'local': '2024-10-14 09:45+02:00'},\n",
       "   'revisedTime': {'utc': '2024-10-14 07:45Z',\n",
       "    'local': '2024-10-14 09:45+02:00'},\n",
       "   'terminal': '1',\n",
       "   'checkInDesk': '259-335',\n",
       "   'gate': 'A36',\n",
       "   'quality': ['Basic', 'Live']},\n",
       "  'arrival': {'scheduledTime': {'utc': '2024-10-14 08:55Z',\n",
       "    'local': '2024-10-14 10:55+02:00'},\n",
       "   'revisedTime': {'utc': '2024-10-14 08:55Z',\n",
       "    'local': '2024-10-14 10:55+02:00'},\n",
       "   'terminal': '1',\n",
       "   'gate': 'B10',\n",
       "   'baggageBelt': 'B1',\n",
       "   'quality': ['Basic', 'Live']},\n",
       "  'number': 'LH 178',\n",
       "  'status': 'Expected',\n",
       "  'codeshareStatus': 'IsOperator',\n",
       "  'isCargo': False,\n",
       "  'aircraft': {'reg': 'D-AIEQ', 'modeS': '3C64B1', 'model': 'Airbus A321 NEO'},\n",
       "  'airline': {'name': 'Lufthansa', 'iata': 'LH', 'icao': 'DLH'}},\n",
       " {'departure': {'airport': {'icao': 'ORER',\n",
       "    'iata': 'EBL',\n",
       "    'name': 'Arbil',\n",
       "    'timeZone': 'Asia/Baghdad'},\n",
       "   'scheduledTime': {'utc': '2024-10-14 03:45Z',\n",
       "    'local': '2024-10-14 06:45+03:00'},\n",
       "   'quality': ['Basic']},\n",
       "  'arrival': {'scheduledTime': {'utc': '2024-10-14 08:30Z',\n",
       "    'local': '2024-10-14 10:30+02:00'},\n",
       "   'revisedTime': {'utc': '2024-10-14 08:55Z',\n",
       "    'local': '2024-10-14 10:55+02:00'},\n",
       "   'terminal': '1',\n",
       "   'gate': 'X03',\n",
       "   'baggageBelt': 'A4',\n",
       "   'quality': ['Basic', 'Live']},\n",
       "  'number': 'UD 445',\n",
       "  'callSign': 'UBD445',\n",
       "  'status': 'Delayed',\n",
       "  'codeshareStatus': 'IsOperator',\n",
       "  'isCargo': False,\n",
       "  'aircraft': {'reg': 'LZ-BHM', 'modeS': '452087', 'model': 'Airbus A320'},\n",
       "  'airline': {'name': 'UR', 'iata': 'UD', 'icao': 'UBD'}},\n",
       " {'departure': {'airport': {'icao': 'LFPG',\n",
       "    'iata': 'CDG',\n",
       "    'name': 'Paris',\n",
       "    'timeZone': 'Europe/Paris'},\n",
       "   'scheduledTime': {'utc': '2024-10-14 07:10Z',\n",
       "    'local': '2024-10-14 09:10+02:00'},\n",
       "   'terminal': '2D',\n",
       "   'quality': ['Basic']},\n",
       "  'arrival': {'scheduledTime': {'utc': '2024-10-14 09:00Z',\n",
       "    'local': '2024-10-14 11:00+02:00'},\n",
       "   'revisedTime': {'utc': '2024-10-14 09:00Z',\n",
       "    'local': '2024-10-14 11:00+02:00'},\n",
       "   'terminal': '1',\n",
       "   'gate': 'S01',\n",
       "   'baggageBelt': 'B1',\n",
       "   'quality': ['Basic', 'Live']},\n",
       "  'number': 'EC 5148',\n",
       "  'status': 'Expected',\n",
       "  'codeshareStatus': 'IsCodeshared',\n",
       "  'isCargo': False,\n",
       "  'aircraft': {'reg': 'OE-IDT', 'modeS': '4400DC', 'model': 'Airbus A320'},\n",
       "  'airline': {'name': 'EasyJet Europe', 'iata': 'EC', 'icao': 'EJU'}},\n",
       " {'departure': {'airport': {'icao': 'LFPG',\n",
       "    'iata': 'CDG',\n",
       "    'name': 'Paris',\n",
       "    'timeZone': 'Europe/Paris'},\n",
       "   'scheduledTime': {'utc': '2024-10-14 07:10Z',\n",
       "    'local': '2024-10-14 09:10+02:00'},\n",
       "   'terminal': '2D',\n",
       "   'quality': ['Basic']},\n",
       "  'arrival': {'scheduledTime': {'utc': '2024-10-14 09:00Z',\n",
       "    'local': '2024-10-14 11:00+02:00'},\n",
       "   'revisedTime': {'utc': '2024-10-14 09:00Z',\n",
       "    'local': '2024-10-14 11:00+02:00'},\n",
       "   'terminal': '1',\n",
       "   'gate': 'S01',\n",
       "   'baggageBelt': 'B1',\n",
       "   'quality': ['Basic', 'Live']},\n",
       "  'number': 'U2 5148',\n",
       "  'status': 'Expected',\n",
       "  'codeshareStatus': 'IsOperator',\n",
       "  'isCargo': False,\n",
       "  'aircraft': {'reg': 'OE-IDT', 'modeS': '4400DC', 'model': 'Airbus A320'},\n",
       "  'airline': {'name': 'easyJet', 'iata': 'U2', 'icao': 'EZY'}},\n",
       " {'departure': {'airport': {'icao': 'LTAI',\n",
       "    'iata': 'AYT',\n",
       "    'name': 'Antalya',\n",
       "    'timeZone': 'Europe/Istanbul'},\n",
       "   'scheduledTime': {'utc': '2024-10-14 05:30Z',\n",
       "    'local': '2024-10-14 08:30+03:00'},\n",
       "   'revisedTime': {'utc': '2024-10-14 05:30Z',\n",
       "    'local': '2024-10-14 08:30+03:00'},\n",
       "   'terminal': '2',\n",
       "   'checkInDesk': '233-235',\n",
       "   'quality': ['Basic', 'Live']},\n",
       "  'arrival': {'scheduledTime': {'utc': '2024-10-14 09:05Z',\n",
       "    'local': '2024-10-14 11:05+02:00'},\n",
       "   'revisedTime': {'utc': '2024-10-14 09:05Z',\n",
       "    'local': '2024-10-14 11:05+02:00'},\n",
       "   'terminal': '1',\n",
       "   'gate': 'N01',\n",
       "   'baggageBelt': 'B1',\n",
       "   'quality': ['Basic', 'Live']},\n",
       "  'number': 'TI 7151',\n",
       "  'callSign': 'TWI7151',\n",
       "  'status': 'Expected',\n",
       "  'codeshareStatus': 'IsOperator',\n",
       "  'isCargo': False,\n",
       "  'aircraft': {'reg': 'TC-TLE', 'modeS': '4BD185', 'model': 'Boeing 737'},\n",
       "  'airline': {'name': 'Tailwind', 'iata': 'TI', 'icao': 'TWI'}},\n",
       " {'departure': {'airport': {'icao': 'LIRF',\n",
       "    'iata': 'FCO',\n",
       "    'name': 'Rome',\n",
       "    'timeZone': 'Europe/Rome'},\n",
       "   'scheduledTime': {'utc': '2024-10-14 06:55Z',\n",
       "    'local': '2024-10-14 08:55+02:00'},\n",
       "   'terminal': '1',\n",
       "   'quality': ['Basic']},\n",
       "  'arrival': {'scheduledTime': {'utc': '2024-10-14 09:05Z',\n",
       "    'local': '2024-10-14 11:05+02:00'},\n",
       "   'revisedTime': {'utc': '2024-10-14 09:05Z',\n",
       "    'local': '2024-10-14 11:05+02:00'},\n",
       "   'terminal': '2',\n",
       "   'gate': 'Z29',\n",
       "   'baggageBelt': 'C1',\n",
       "   'quality': ['Basic', 'Live']},\n",
       "  'number': 'FR 41',\n",
       "  'status': 'Expected',\n",
       "  'codeshareStatus': 'IsOperator',\n",
       "  'isCargo': False,\n",
       "  'aircraft': {'reg': '9H-VVO', 'model': 'Boeing 737 MAX 8 '},\n",
       "  'airline': {'name': 'Ryanair', 'iata': 'FR', 'icao': 'RYR'}},\n",
       " {'departure': {'airport': {'icao': 'EIDW',\n",
       "    'iata': 'DUB',\n",
       "    'name': 'Dublin',\n",
       "    'timeZone': 'Europe/Dublin'},\n",
       "   'scheduledTime': {'utc': '2024-10-14 06:50Z',\n",
       "    'local': '2024-10-14 07:50+01:00'},\n",
       "   'revisedTime': {'utc': '2024-10-14 06:50Z',\n",
       "    'local': '2024-10-14 07:50+01:00'},\n",
       "   'terminal': '1',\n",
       "   'checkInDesk': '1204-1319',\n",
       "   'gate': '107',\n",
       "   'quality': ['Basic', 'Live']},\n",
       "  'arrival': {'scheduledTime': {'utc': '2024-10-14 09:05Z',\n",
       "    'local': '2024-10-14 11:05+02:00'},\n",
       "   'revisedTime': {'utc': '2024-10-14 09:05Z',\n",
       "    'local': '2024-10-14 11:05+02:00'},\n",
       "   'terminal': '2',\n",
       "   'gate': 'Z38',\n",
       "   'baggageBelt': 'C2',\n",
       "   'quality': ['Basic', 'Live']},\n",
       "  'number': 'FR 3669',\n",
       "  'status': 'Expected',\n",
       "  'codeshareStatus': 'IsOperator',\n",
       "  'isCargo': False,\n",
       "  'aircraft': {'reg': '9H-VUJ', 'modeS': '4D2349', 'model': 'Boeing 737-800'},\n",
       "  'airline': {'name': 'Ryanair', 'iata': 'FR', 'icao': 'RYR'}},\n",
       " {'departure': {'airport': {'icao': 'LSGG',\n",
       "    'iata': 'GVA',\n",
       "    'name': 'Geneva',\n",
       "    'timeZone': 'Europe/Zurich'},\n",
       "   'scheduledTime': {'utc': '2024-10-14 07:25Z',\n",
       "    'local': '2024-10-14 09:25+02:00'},\n",
       "   'revisedTime': {'utc': '2024-10-14 07:25Z',\n",
       "    'local': '2024-10-14 09:25+02:00'},\n",
       "   'checkInDesk': '1-17',\n",
       "   'gate': 'D23',\n",
       "   'quality': ['Basic', 'Live']},\n",
       "  'arrival': {'scheduledTime': {'utc': '2024-10-14 09:10Z',\n",
       "    'local': '2024-10-14 11:10+02:00'},\n",
       "   'revisedTime': {'utc': '2024-10-14 09:10Z',\n",
       "    'local': '2024-10-14 11:10+02:00'},\n",
       "   'terminal': '1',\n",
       "   'gate': 'A37',\n",
       "   'baggageBelt': 'A3',\n",
       "   'quality': ['Basic', 'Live']},\n",
       "  'number': 'EC 5182',\n",
       "  'status': 'Expected',\n",
       "  'codeshareStatus': 'IsCodeshared',\n",
       "  'isCargo': False,\n",
       "  'aircraft': {'reg': 'OE-IVL', 'modeS': '440090', 'model': 'Airbus A320'},\n",
       "  'airline': {'name': 'EasyJet Europe', 'iata': 'EC', 'icao': 'EJU'}},\n",
       " {'departure': {'airport': {'icao': 'LSGG',\n",
       "    'iata': 'GVA',\n",
       "    'name': 'Geneva',\n",
       "    'timeZone': 'Europe/Zurich'},\n",
       "   'scheduledTime': {'utc': '2024-10-14 07:25Z',\n",
       "    'local': '2024-10-14 09:25+02:00'},\n",
       "   'revisedTime': {'utc': '2024-10-14 07:25Z',\n",
       "    'local': '2024-10-14 09:25+02:00'},\n",
       "   'terminal': '1',\n",
       "   'checkInDesk': '1-17',\n",
       "   'gate': 'D23',\n",
       "   'quality': ['Basic', 'Live']},\n",
       "  'arrival': {'scheduledTime': {'utc': '2024-10-14 09:10Z',\n",
       "    'local': '2024-10-14 11:10+02:00'},\n",
       "   'revisedTime': {'utc': '2024-10-14 09:10Z',\n",
       "    'local': '2024-10-14 11:10+02:00'},\n",
       "   'terminal': '1',\n",
       "   'gate': 'A37',\n",
       "   'baggageBelt': 'A3',\n",
       "   'quality': ['Basic', 'Live']},\n",
       "  'number': 'U2 5182',\n",
       "  'status': 'Expected',\n",
       "  'codeshareStatus': 'IsOperator',\n",
       "  'isCargo': False,\n",
       "  'aircraft': {'reg': 'OE-IVL', 'modeS': '440090', 'model': 'Airbus A320'},\n",
       "  'airline': {'name': 'easyJet', 'iata': 'U2', 'icao': 'EZY'}},\n",
       " {'departure': {'airport': {'icao': 'EGLC',\n",
       "    'iata': 'LCY',\n",
       "    'name': 'London',\n",
       "    'timeZone': 'Europe/London'},\n",
       "   'scheduledTime': {'utc': '2024-10-14 07:25Z',\n",
       "    'local': '2024-10-14 08:25+01:00'},\n",
       "   'revisedTime': {'utc': '2024-10-14 07:25Z',\n",
       "    'local': '2024-10-14 08:25+01:00'},\n",
       "   'gate': '8',\n",
       "   'quality': ['Basic', 'Live']},\n",
       "  'arrival': {'scheduledTime': {'utc': '2024-10-14 09:10Z',\n",
       "    'local': '2024-10-14 11:10+02:00'},\n",
       "   'revisedTime': {'utc': '2024-10-14 09:10Z',\n",
       "    'local': '2024-10-14 11:10+02:00'},\n",
       "   'terminal': '1',\n",
       "   'gate': 'N01',\n",
       "   'baggageBelt': 'B3',\n",
       "   'quality': ['Basic', 'Live']},\n",
       "  'number': 'BA 8491',\n",
       "  'callSign': 'CFE76JZ',\n",
       "  'status': 'Expected',\n",
       "  'codeshareStatus': 'IsOperator',\n",
       "  'isCargo': False,\n",
       "  'aircraft': {'reg': 'G-LCYP', 'modeS': '40658A', 'model': 'Embraer 190'},\n",
       "  'airline': {'name': 'British Airways', 'iata': 'BA', 'icao': 'BAW'}},\n",
       " {'departure': {'airport': {'icao': 'LIRN',\n",
       "    'iata': 'NAP',\n",
       "    'name': 'Nápoli',\n",
       "    'timeZone': 'Europe/Rome'},\n",
       "   'scheduledTime': {'utc': '2024-10-14 06:50Z',\n",
       "    'local': '2024-10-14 08:50+02:00'},\n",
       "   'quality': ['Basic']},\n",
       "  'arrival': {'scheduledTime': {'utc': '2024-10-14 09:10Z',\n",
       "    'local': '2024-10-14 11:10+02:00'},\n",
       "   'revisedTime': {'utc': '2024-10-14 09:10Z',\n",
       "    'local': '2024-10-14 11:10+02:00'},\n",
       "   'terminal': '1',\n",
       "   'gate': 'A35',\n",
       "   'baggageBelt': 'A4',\n",
       "   'quality': ['Basic', 'Live']},\n",
       "  'number': 'EC 5052',\n",
       "  'status': 'Expected',\n",
       "  'codeshareStatus': 'IsCodeshared',\n",
       "  'isCargo': False,\n",
       "  'aircraft': {'reg': 'OE-LKO', 'modeS': '44009E', 'model': 'Airbus A319'},\n",
       "  'airline': {'name': 'EasyJet Europe', 'iata': 'EC', 'icao': 'EJU'}},\n",
       " {'departure': {'airport': {'icao': 'LIRN',\n",
       "    'iata': 'NAP',\n",
       "    'name': 'Nápoli',\n",
       "    'timeZone': 'Europe/Rome'},\n",
       "   'scheduledTime': {'utc': '2024-10-14 06:50Z',\n",
       "    'local': '2024-10-14 08:50+02:00'},\n",
       "   'quality': ['Basic']},\n",
       "  'arrival': {'scheduledTime': {'utc': '2024-10-14 09:10Z',\n",
       "    'local': '2024-10-14 11:10+02:00'},\n",
       "   'revisedTime': {'utc': '2024-10-14 09:10Z',\n",
       "    'local': '2024-10-14 11:10+02:00'},\n",
       "   'terminal': '1',\n",
       "   'gate': 'A35',\n",
       "   'baggageBelt': 'A4',\n",
       "   'quality': ['Basic', 'Live']},\n",
       "  'number': 'U2 5052',\n",
       "  'status': 'Expected',\n",
       "  'codeshareStatus': 'IsOperator',\n",
       "  'isCargo': False,\n",
       "  'aircraft': {'reg': 'OE-LKO', 'modeS': '44009E', 'model': 'Airbus A319'},\n",
       "  'airline': {'name': 'easyJet', 'iata': 'U2', 'icao': 'EZY'}},\n",
       " {'departure': {'airport': {'icao': 'LHBP',\n",
       "    'iata': 'BUD',\n",
       "    'name': 'Budapest',\n",
       "    'timeZone': 'Europe/Budapest'},\n",
       "   'scheduledTime': {'utc': '2024-10-14 07:45Z',\n",
       "    'local': '2024-10-14 09:45+02:00'},\n",
       "   'revisedTime': {'utc': '2024-10-14 07:45Z',\n",
       "    'local': '2024-10-14 09:45+02:00'},\n",
       "   'terminal': '2B',\n",
       "   'quality': ['Basic', 'Live']},\n",
       "  'arrival': {'scheduledTime': {'utc': '2024-10-14 09:15Z',\n",
       "    'local': '2024-10-14 11:15+02:00'},\n",
       "   'revisedTime': {'utc': '2024-10-14 09:15Z',\n",
       "    'local': '2024-10-14 11:15+02:00'},\n",
       "   'terminal': '2',\n",
       "   'gate': 'Z30',\n",
       "   'baggageBelt': 'C3',\n",
       "   'quality': ['Basic', 'Live']},\n",
       "  'number': 'W6 2315',\n",
       "  'status': 'Expected',\n",
       "  'codeshareStatus': 'IsOperator',\n",
       "  'isCargo': False,\n",
       "  'aircraft': {'model': 'Airbus A321-100'},\n",
       "  'airline': {'name': 'Wizz Air', 'iata': 'W6', 'icao': 'WZZ'}},\n",
       " {'departure': {'airport': {'icao': 'LFPG',\n",
       "    'iata': 'CDG',\n",
       "    'name': 'Paris',\n",
       "    'timeZone': 'Europe/Paris'},\n",
       "   'scheduledTime': {'utc': '2024-10-14 07:30Z',\n",
       "    'local': '2024-10-14 09:30+02:00'},\n",
       "   'terminal': '2F',\n",
       "   'quality': ['Basic']},\n",
       "  'arrival': {'scheduledTime': {'utc': '2024-10-14 09:15Z',\n",
       "    'local': '2024-10-14 11:15+02:00'},\n",
       "   'revisedTime': {'utc': '2024-10-14 09:15Z',\n",
       "    'local': '2024-10-14 11:15+02:00'},\n",
       "   'terminal': '1',\n",
       "   'gate': 'B20',\n",
       "   'baggageBelt': 'B2',\n",
       "   'quality': ['Basic', 'Live']},\n",
       "  'number': 'AF 1734',\n",
       "  'status': 'Expected',\n",
       "  'codeshareStatus': 'IsOperator',\n",
       "  'isCargo': False,\n",
       "  'aircraft': {'model': 'Airbus A220-300'},\n",
       "  'airline': {'name': 'Air France', 'iata': 'AF', 'icao': 'AFR'}},\n",
       " {'departure': {'airport': {'icao': 'LTFJ',\n",
       "    'iata': 'SAW',\n",
       "    'name': 'Istanbul',\n",
       "    'timeZone': 'Europe/Istanbul'},\n",
       "   'quality': []},\n",
       "  'arrival': {'scheduledTime': {'utc': '2024-10-14 09:20Z',\n",
       "    'local': '2024-10-14 11:20+02:00'},\n",
       "   'revisedTime': {'utc': '2024-10-14 09:20Z',\n",
       "    'local': '2024-10-14 11:20+02:00'},\n",
       "   'terminal': '1',\n",
       "   'gate': 'Y03',\n",
       "   'baggageBelt': 'B2',\n",
       "   'quality': ['Basic', 'Live']},\n",
       "  'number': 'VF 57',\n",
       "  'status': 'Expected',\n",
       "  'codeshareStatus': 'IsOperator',\n",
       "  'isCargo': False,\n",
       "  'aircraft': {'model': 'Boeing 737-800'},\n",
       "  'airline': {'name': 'Ajet'}},\n",
       " {'departure': {'airport': {'icao': 'EHAM',\n",
       "    'iata': 'AMS',\n",
       "    'name': 'Amsterdam',\n",
       "    'timeZone': 'Europe/Amsterdam'},\n",
       "   'scheduledTime': {'utc': '2024-10-14 08:15Z',\n",
       "    'local': '2024-10-14 10:15+02:00'},\n",
       "   'revisedTime': {'utc': '2024-10-14 08:15Z',\n",
       "    'local': '2024-10-14 10:15+02:00'},\n",
       "   'terminal': '1',\n",
       "   'checkInDesk': '6-8',\n",
       "   'gate': 'C11',\n",
       "   'quality': ['Basic', 'Live']},\n",
       "  'arrival': {'scheduledTime': {'utc': '2024-10-14 09:30Z',\n",
       "    'local': '2024-10-14 11:30+02:00'},\n",
       "   'revisedTime': {'utc': '2024-10-14 09:30Z',\n",
       "    'local': '2024-10-14 11:30+02:00'},\n",
       "   'terminal': '1',\n",
       "   'gate': 'A06',\n",
       "   'baggageBelt': 'A3',\n",
       "   'quality': ['Basic', 'Live']},\n",
       "  'number': 'KL 1775',\n",
       "  'status': 'Expected',\n",
       "  'codeshareStatus': 'IsOperator',\n",
       "  'isCargo': False,\n",
       "  'aircraft': {'reg': 'PH-BXM',\n",
       "   'modeS': '484165',\n",
       "   'model': 'Boeing 737-700 (winglets)'},\n",
       "  'airline': {'name': 'KLM', 'iata': 'KL', 'icao': 'KLM'}},\n",
       " {'departure': {'airport': {'icao': 'BIKF',\n",
       "    'iata': 'KEF',\n",
       "    'name': 'Reykjavik',\n",
       "    'timeZone': 'Atlantic/Reykjavik'},\n",
       "   'scheduledTime': {'utc': '2024-10-14 06:00Z',\n",
       "    'local': '2024-10-14 06:00+00:00'},\n",
       "   'revisedTime': {'utc': '2024-10-14 06:45Z',\n",
       "    'local': '2024-10-14 06:45+00:00'},\n",
       "   'gate': 'A13',\n",
       "   'quality': ['Basic', 'Live']},\n",
       "  'arrival': {'scheduledTime': {'utc': '2024-10-14 09:30Z',\n",
       "    'local': '2024-10-14 11:30+02:00'},\n",
       "   'revisedTime': {'utc': '2024-10-14 09:30Z',\n",
       "    'local': '2024-10-14 11:30+02:00'},\n",
       "   'terminal': '2',\n",
       "   'gate': 'Z36',\n",
       "   'baggageBelt': 'C2',\n",
       "   'quality': ['Basic', 'Live']},\n",
       "  'number': 'OG 700',\n",
       "  'status': 'Expected',\n",
       "  'codeshareStatus': 'IsOperator',\n",
       "  'isCargo': False,\n",
       "  'aircraft': {'model': 'Airbus A320 NEO'},\n",
       "  'airline': {'name': 'Ghodawat Enterprises', 'iata': 'OG', 'icao': 'SDG'}},\n",
       " {'departure': {'airport': {'icao': 'LSZH',\n",
       "    'iata': 'ZRH',\n",
       "    'name': 'Zurich',\n",
       "    'timeZone': 'Europe/Zurich'},\n",
       "   'scheduledTime': {'utc': '2024-10-14 07:50Z',\n",
       "    'local': '2024-10-14 09:50+02:00'},\n",
       "   'revisedTime': {'utc': '2024-10-14 07:50Z',\n",
       "    'local': '2024-10-14 09:50+02:00'},\n",
       "   'checkInDesk': '2(5)',\n",
       "   'gate': 'A72',\n",
       "   'quality': ['Basic', 'Live']},\n",
       "  'arrival': {'scheduledTime': {'utc': '2024-10-14 09:30Z',\n",
       "    'local': '2024-10-14 11:30+02:00'},\n",
       "   'revisedTime': {'utc': '2024-10-14 09:30Z',\n",
       "    'local': '2024-10-14 11:30+02:00'},\n",
       "   'terminal': '1',\n",
       "   'gate': 'A34',\n",
       "   'baggageBelt': 'A2',\n",
       "   'quality': ['Basic', 'Live']},\n",
       "  'number': 'LX 4406',\n",
       "  'status': 'Expected',\n",
       "  'codeshareStatus': 'IsCodeshared',\n",
       "  'isCargo': False,\n",
       "  'aircraft': {'reg': 'D-AGWO', 'modeS': '3C5EEF', 'model': 'Airbus A319'},\n",
       "  'airline': {'name': 'SWISS', 'iata': 'LX', 'icao': 'SWR'}},\n",
       " {'departure': {'airport': {'icao': 'LSZH',\n",
       "    'iata': 'ZRH',\n",
       "    'name': 'Zurich',\n",
       "    'timeZone': 'Europe/Zurich'},\n",
       "   'scheduledTime': {'utc': '2024-10-14 07:50Z',\n",
       "    'local': '2024-10-14 09:50+02:00'},\n",
       "   'revisedTime': {'utc': '2024-10-14 07:50Z',\n",
       "    'local': '2024-10-14 09:50+02:00'},\n",
       "   'checkInDesk': '2(5)',\n",
       "   'gate': 'A72',\n",
       "   'quality': ['Basic', 'Live']},\n",
       "  'arrival': {'scheduledTime': {'utc': '2024-10-14 09:30Z',\n",
       "    'local': '2024-10-14 11:30+02:00'},\n",
       "   'revisedTime': {'utc': '2024-10-14 09:30Z',\n",
       "    'local': '2024-10-14 11:30+02:00'},\n",
       "   'terminal': '1',\n",
       "   'gate': 'A34',\n",
       "   'baggageBelt': 'A2',\n",
       "   'quality': ['Basic', 'Live']},\n",
       "  'number': 'EW 8761',\n",
       "  'status': 'Expected',\n",
       "  'codeshareStatus': 'IsOperator',\n",
       "  'isCargo': False,\n",
       "  'aircraft': {'reg': 'D-AGWO', 'modeS': '3C5EEF', 'model': 'Airbus A319'},\n",
       "  'airline': {'name': 'Eurowings', 'iata': 'EW', 'icao': 'EWG'}},\n",
       " {'departure': {'airport': {'icao': 'ESSA',\n",
       "    'iata': 'ARN',\n",
       "    'name': 'Stockholm',\n",
       "    'timeZone': 'Europe/Stockholm'},\n",
       "   'scheduledTime': {'utc': '2024-10-14 08:00Z',\n",
       "    'local': '2024-10-14 10:00+02:00'},\n",
       "   'revisedTime': {'utc': '2024-10-14 08:00Z',\n",
       "    'local': '2024-10-14 10:00+02:00'},\n",
       "   'terminal': '5',\n",
       "   'checkInDesk': '18-0',\n",
       "   'gate': 'D12',\n",
       "   'quality': ['Basic', 'Live']},\n",
       "  'arrival': {'scheduledTime': {'utc': '2024-10-14 09:35Z',\n",
       "    'local': '2024-10-14 11:35+02:00'},\n",
       "   'revisedTime': {'utc': '2024-10-14 09:35Z',\n",
       "    'local': '2024-10-14 11:35+02:00'},\n",
       "   'terminal': '2',\n",
       "   'gate': 'Z32',\n",
       "   'baggageBelt': 'C1',\n",
       "   'quality': ['Basic', 'Live']},\n",
       "  'number': 'DY 886',\n",
       "  'callSign': 'NOZ886',\n",
       "  'status': 'Expected',\n",
       "  'codeshareStatus': 'IsOperator',\n",
       "  'isCargo': False,\n",
       "  'aircraft': {'reg': 'SE-RYC',\n",
       "   'modeS': '4ACB23',\n",
       "   'model': 'Boeing 737-800 (winglets)'},\n",
       "  'airline': {'name': 'Norwegian Air Shuttle', 'iata': 'DY', 'icao': 'NOZ'}},\n",
       " {'departure': {'airport': {'icao': 'LTAI',\n",
       "    'iata': 'AYT',\n",
       "    'name': 'Antalya',\n",
       "    'timeZone': 'Europe/Istanbul'},\n",
       "   'scheduledTime': {'utc': '2024-10-14 06:00Z',\n",
       "    'local': '2024-10-14 09:00+03:00'},\n",
       "   'revisedTime': {'utc': '2024-10-14 06:00Z',\n",
       "    'local': '2024-10-14 09:00+03:00'},\n",
       "   'terminal': '1',\n",
       "   'checkInDesk': '132-134',\n",
       "   'quality': ['Basic', 'Live']},\n",
       "  'arrival': {'scheduledTime': {'utc': '2024-10-14 09:35Z',\n",
       "    'local': '2024-10-14 11:35+02:00'},\n",
       "   'revisedTime': {'utc': '2024-10-14 09:35Z',\n",
       "    'local': '2024-10-14 11:35+02:00'},\n",
       "   'terminal': '1',\n",
       "   'gate': 'X17',\n",
       "   'baggageBelt': 'A4',\n",
       "   'quality': ['Basic', 'Live']},\n",
       "  'number': 'XQ 160',\n",
       "  'status': 'Expected',\n",
       "  'codeshareStatus': 'IsOperator',\n",
       "  'isCargo': False,\n",
       "  'aircraft': {'model': 'Boeing 737 MAX 8 '},\n",
       "  'airline': {'name': 'Sun Express', 'iata': 'XQ', 'icao': 'SXS'}},\n",
       " {'departure': {'airport': {'icao': 'ESSA',\n",
       "    'iata': 'ARN',\n",
       "    'name': 'Stockholm',\n",
       "    'timeZone': 'Europe/Stockholm'},\n",
       "   'scheduledTime': {'utc': '2024-10-14 08:05Z',\n",
       "    'local': '2024-10-14 10:05+02:00'},\n",
       "   'revisedTime': {'utc': '2024-10-14 08:05Z',\n",
       "    'local': '2024-10-14 10:05+02:00'},\n",
       "   'terminal': '5',\n",
       "   'checkInDesk': '71-80',\n",
       "   'gate': 'E8',\n",
       "   'quality': ['Basic', 'Live']},\n",
       "  'arrival': {'scheduledTime': {'utc': '2024-10-14 09:40Z',\n",
       "    'local': '2024-10-14 11:40+02:00'},\n",
       "   'revisedTime': {'utc': '2024-10-14 09:40Z',\n",
       "    'local': '2024-10-14 11:40+02:00'},\n",
       "   'terminal': '1',\n",
       "   'gate': 'A32',\n",
       "   'baggageBelt': 'A4',\n",
       "   'quality': ['Basic', 'Live']},\n",
       "  'number': 'SK 2677',\n",
       "  'callSign': 'SAS2677',\n",
       "  'status': 'Expected',\n",
       "  'codeshareStatus': 'IsOperator',\n",
       "  'isCargo': False,\n",
       "  'aircraft': {'reg': 'SE-ROT', 'modeS': '4AC9F4', 'model': 'Airbus A320 NEO'},\n",
       "  'airline': {'name': 'SAS', 'iata': 'SK', 'icao': 'SAS'}},\n",
       " {'departure': {'airport': {'icao': 'LEPA',\n",
       "    'iata': 'PMI',\n",
       "    'name': 'Palma De Mallorca',\n",
       "    'timeZone': 'Europe/Madrid'},\n",
       "   'scheduledTime': {'utc': '2024-10-14 06:45Z',\n",
       "    'local': '2024-10-14 08:45+02:00'},\n",
       "   'revisedTime': {'utc': '2024-10-14 07:05Z',\n",
       "    'local': '2024-10-14 09:05+02:00'},\n",
       "   'terminal': 'N',\n",
       "   'checkInDesk': '024-026',\n",
       "   'gate': 'C61',\n",
       "   'quality': ['Basic', 'Live']},\n",
       "  'arrival': {'scheduledTime': {'utc': '2024-10-14 09:45Z',\n",
       "    'local': '2024-10-14 11:45+02:00'},\n",
       "   'revisedTime': {'utc': '2024-10-14 09:45Z',\n",
       "    'local': '2024-10-14 11:45+02:00'},\n",
       "   'terminal': '1',\n",
       "   'gate': 'S01',\n",
       "   'baggageBelt': 'B3',\n",
       "   'quality': ['Basic', 'Live']},\n",
       "  'number': 'SR 2413',\n",
       "  'status': 'Expected',\n",
       "  'codeshareStatus': 'IsOperator',\n",
       "  'isCargo': False,\n",
       "  'aircraft': {'reg': 'D-ASGK', 'modeS': '3C0893', 'model': 'Airbus A320'},\n",
       "  'airline': {'name': 'SundAir', 'iata': 'SR', 'icao': 'SDR'}},\n",
       " {'departure': {'airport': {'icao': 'LTFM',\n",
       "    'iata': 'IST',\n",
       "    'name': 'Istanbul',\n",
       "    'timeZone': 'Europe/Istanbul'},\n",
       "   'scheduledTime': {'utc': '2024-10-14 07:00Z',\n",
       "    'local': '2024-10-14 10:00+03:00'},\n",
       "   'revisedTime': {'utc': '2024-10-14 07:00Z',\n",
       "    'local': '2024-10-14 10:00+03:00'},\n",
       "   'checkInDesk': 'E-F',\n",
       "   'gate': 'B5',\n",
       "   'quality': ['Basic', 'Live']},\n",
       "  'arrival': {'scheduledTime': {'utc': '2024-10-14 09:45Z',\n",
       "    'local': '2024-10-14 11:45+02:00'},\n",
       "   'revisedTime': {'utc': '2024-10-14 09:45Z',\n",
       "    'local': '2024-10-14 11:45+02:00'},\n",
       "   'terminal': '1',\n",
       "   'gate': 'X01',\n",
       "   'baggageBelt': 'A3',\n",
       "   'quality': ['Basic', 'Live']},\n",
       "  'number': 'TK 1729',\n",
       "  'status': 'Expected',\n",
       "  'codeshareStatus': 'IsOperator',\n",
       "  'isCargo': False,\n",
       "  'aircraft': {'reg': 'TC-JOF', 'modeS': '4BA9E6', 'model': 'Airbus A330'},\n",
       "  'airline': {'name': 'Turkish', 'iata': 'TK', 'icao': 'THY'}},\n",
       " {'departure': {'airport': {'icao': 'EGLL',\n",
       "    'iata': 'LHR',\n",
       "    'name': 'London',\n",
       "    'timeZone': 'Europe/London'},\n",
       "   'scheduledTime': {'utc': '2024-10-14 07:55Z',\n",
       "    'local': '2024-10-14 08:55+01:00'},\n",
       "   'revisedTime': {'utc': '2024-10-14 07:55Z',\n",
       "    'local': '2024-10-14 08:55+01:00'},\n",
       "   'terminal': '5',\n",
       "   'checkInDesk': 'D',\n",
       "   'quality': ['Basic', 'Live']},\n",
       "  'arrival': {'scheduledTime': {'utc': '2024-10-14 09:45Z',\n",
       "    'local': '2024-10-14 11:45+02:00'},\n",
       "   'revisedTime': {'utc': '2024-10-14 09:45Z',\n",
       "    'local': '2024-10-14 11:45+02:00'},\n",
       "   'terminal': '1',\n",
       "   'gate': 'Y02',\n",
       "   'baggageBelt': 'B4',\n",
       "   'quality': ['Basic', 'Live']},\n",
       "  'number': 'BA 982',\n",
       "  'status': 'Expected',\n",
       "  'codeshareStatus': 'IsOperator',\n",
       "  'isCargo': False,\n",
       "  'aircraft': {'model': 'Airbus A321-100'},\n",
       "  'airline': {'name': 'British', 'iata': 'BA', 'icao': 'BAW'}},\n",
       " {'departure': {'airport': {'icao': 'LLBG',\n",
       "    'iata': 'TLV',\n",
       "    'name': 'Tel Aviv Yafo',\n",
       "    'timeZone': 'Asia/Jerusalem'},\n",
       "   'scheduledTime': {'utc': '2024-10-14 05:30Z',\n",
       "    'local': '2024-10-14 08:30+03:00'},\n",
       "   'revisedTime': {'utc': '2024-10-14 05:57Z',\n",
       "    'local': '2024-10-14 08:57+03:00'},\n",
       "   'runwayTime': {'utc': '2024-10-14 05:57Z',\n",
       "    'local': '2024-10-14 08:57+03:00'},\n",
       "   'terminal': '3',\n",
       "   'runway': '26',\n",
       "   'quality': ['Basic', 'Live']},\n",
       "  'arrival': {'scheduledTime': {'utc': '2024-10-14 09:55Z',\n",
       "    'local': '2024-10-14 11:55+02:00'},\n",
       "   'revisedTime': {'utc': '2024-10-14 09:55Z',\n",
       "    'local': '2024-10-14 11:55+02:00'},\n",
       "   'terminal': '1',\n",
       "   'gate': 'X19',\n",
       "   'baggageBelt': 'A3',\n",
       "   'quality': ['Basic', 'Live']},\n",
       "  'number': '6H 255',\n",
       "  'callSign': 'ISR255',\n",
       "  'status': 'Expected',\n",
       "  'codeshareStatus': 'IsOperator',\n",
       "  'isCargo': False,\n",
       "  'aircraft': {'modeS': '73828B', 'model': 'Airbus A320'},\n",
       "  'airline': {'name': 'Israir', 'iata': '6H', 'icao': 'ISR'}}]"
      ]
     },
     "execution_count": 16,
     "metadata": {},
     "output_type": "execute_result"
    }
   ],
   "source": [
    "flights_json[\"arrivals\"]"
   ]
  },
  {
   "cell_type": "markdown",
   "metadata": {
    "id": "Mlw4Ncm8dckg"
   },
   "source": [
    "The square brackets at the beginning of `flights_json` indicate that it represents a list-like structure. Since we're dealing with a list, we can iterate through its elements to access and process the data. Let's start by examining the first element in the list."
   ]
  },
  {
   "cell_type": "code",
   "execution_count": 17,
   "metadata": {
    "colab": {
     "base_uri": "https://localhost:8080/"
    },
    "id": "PiknWIC3dYkm",
    "outputId": "c7015cab-1e4d-4b1f-afeb-3b3da80f3772",
    "scrolled": true,
    "tags": []
   },
   "outputs": [
    {
     "data": {
      "text/plain": [
       "{'departure': {'airport': {'icao': 'LTBJ',\n",
       "   'iata': 'ADB',\n",
       "   'name': 'İzmir',\n",
       "   'timeZone': 'Europe/Istanbul'},\n",
       "  'scheduledTime': {'utc': '2024-10-09 01:25Z',\n",
       "   'local': '2024-10-09 04:25+03:00'},\n",
       "  'revisedTime': {'utc': '2024-10-09 01:36Z',\n",
       "   'local': '2024-10-09 04:36+03:00'},\n",
       "  'runwayTime': {'utc': '2024-10-09 01:38Z',\n",
       "   'local': '2024-10-09 04:38+03:00'},\n",
       "  'terminal': 'I',\n",
       "  'gate': '28',\n",
       "  'quality': ['Basic', 'Live']},\n",
       " 'arrival': {'scheduledTime': {'utc': '2024-10-09 04:30Z',\n",
       "   'local': '2024-10-09 06:30+02:00'},\n",
       "  'revisedTime': {'utc': '2024-10-09 04:05Z',\n",
       "   'local': '2024-10-09 06:05+02:00'},\n",
       "  'runwayTime': {'utc': '2024-10-09 04:12Z',\n",
       "   'local': '2024-10-09 06:12+02:00'},\n",
       "  'terminal': '1',\n",
       "  'gate': 'X06',\n",
       "  'baggageBelt': 'A3',\n",
       "  'quality': ['Basic', 'Live']},\n",
       " 'number': 'XQ 966',\n",
       " 'callSign': 'SXS5D',\n",
       " 'status': 'Arrived',\n",
       " 'codeshareStatus': 'IsOperator',\n",
       " 'isCargo': False,\n",
       " 'aircraft': {'reg': 'TC-SON', 'modeS': '4BCDEE', 'model': 'Boeing 737-800'},\n",
       " 'airline': {'name': 'Sun Express', 'iata': 'XQ', 'icao': 'SXS'}}"
      ]
     },
     "execution_count": 17,
     "metadata": {},
     "output_type": "execute_result"
    }
   ],
   "source": [
    "flights_json[\"arrivals\"][0]"
   ]
  },
  {
   "cell_type": "code",
   "execution_count": 19,
   "metadata": {
    "colab": {
     "base_uri": "https://localhost:8080/"
    },
    "id": "CZxqYn-ud34n",
    "outputId": "8c9aeac4-c434-42d7-b32b-009e20334c49"
   },
   "outputs": [
    {
     "data": {
      "text/plain": [
       "dict_keys(['departure', 'arrival', 'number', 'callSign', 'status', 'codeshareStatus', 'isCargo', 'aircraft', 'airline'])"
      ]
     },
     "execution_count": 19,
     "metadata": {},
     "output_type": "execute_result"
    }
   ],
   "source": [
    "flights_json[\"arrivals\"][0].keys()"
   ]
  },
  {
   "cell_type": "markdown",
   "metadata": {
    "id": "CwyzulVFesWv"
   },
   "source": [
    "Looking at the first element of the json and the available keys, we can select the information we think would be important for our dataframe.\n",
    "- Departure airport icao\n",
    "- scheduled arrival time, local\n",
    "- flight number"
   ]
  },
  {
   "cell_type": "code",
   "execution_count": 21,
   "metadata": {
    "id": "NTpOvCnZ-ZtA",
    "outputId": "838950e5-8c65-476f-f246-f6cdffa83140"
   },
   "outputs": [
    {
     "data": {
      "text/plain": [
       "'İzmir'"
      ]
     },
     "execution_count": 21,
     "metadata": {},
     "output_type": "execute_result"
    }
   ],
   "source": [
    "flights_json[\"arrivals\"][0][\"departure\"]['airport'][\"name\"]"
   ]
  },
  {
   "cell_type": "code",
   "execution_count": null,
   "metadata": {
    "id": "aEFgb3rW-ZtA",
    "outputId": "ecc64195-397a-4907-e5de-862987268ee1"
   },
   "outputs": [
    {
     "data": {
      "text/plain": [
       "'2024-10-08 05:40+02:00'"
      ]
     },
     "execution_count": 33,
     "metadata": {},
     "output_type": "execute_result"
    }
   ],
   "source": [
    "flights_json[\"arrivals\"][0][\"arrival\"][\"scheduledTime\"][\"local\"]"
   ]
  },
  {
   "cell_type": "code",
   "execution_count": null,
   "metadata": {
    "id": "FEVT-yhh-ZtA",
    "outputId": "b2d15661-7e47-4f8f-957e-937c112f7855"
   },
   "outputs": [
    {
     "data": {
      "text/plain": [
       "'5O 5DN'"
      ]
     },
     "execution_count": 34,
     "metadata": {},
     "output_type": "execute_result"
    }
   ],
   "source": [
    "flights_json[\"arrivals\"][0][\"number\"]"
   ]
  },
  {
   "cell_type": "code",
   "execution_count": 23,
   "metadata": {
    "id": "kilVZ27Y-ZtA",
    "outputId": "a45d86c5-703d-468f-e539-826768819f55",
    "scrolled": true,
    "tags": []
   },
   "outputs": [
    {
     "name": "stdout",
     "output_type": "stream",
     "text": [
      "İzmir\n",
      "2024-10-09 06:30+02:00\n",
      "Samsun\n",
      "2024-10-09 06:45+02:00\n",
      "Hurghada\n",
      "2024-10-09 07:00+02:00\n",
      "Newark\n",
      "2024-10-09 07:15+02:00\n",
      "Antalya\n",
      "2024-10-09 07:30+02:00\n",
      "Vienna\n",
      "2024-10-09 07:30+02:00\n",
      "Beijing\n",
      "2024-10-09 06:45+02:00\n",
      "New York\n",
      "2024-10-09 07:50+02:00\n",
      "Stuttgart\n",
      "2024-10-09 07:25+02:00\n",
      "Stuttgart\n",
      "2024-10-09 07:25+02:00\n",
      "Frankfurt-am-Main\n",
      "2024-10-09 07:25+02:00\n",
      "Paris\n",
      "2024-10-09 07:50+02:00\n",
      "Paris\n",
      "2024-10-09 07:50+02:00\n",
      "Stuttgart\n",
      "2024-10-09 07:21+02:00\n",
      "Doha\n",
      "2024-10-09 07:20+02:00\n",
      "Cologne\n",
      "2024-10-09 07:28+02:00\n",
      "Cologne\n",
      "2024-10-09 07:40+02:00\n",
      "Düsseldorf\n",
      "2024-10-09 07:55+02:00\n",
      "Bergamo\n",
      "2024-10-09 07:50+02:00\n",
      "Saarbrücken\n",
      "2024-10-09 08:05+02:00\n",
      "Frankfurt-am-Main\n",
      "2024-10-09 07:55+02:00\n",
      "Luxembourg\n",
      "2024-10-09 08:05+02:00\n",
      "Munich\n",
      "2024-10-09 08:05+02:00\n",
      "Vienna\n",
      "2024-10-09 08:10+02:00\n",
      "Pisa\n",
      "2024-10-09 08:15+02:00\n",
      "Helsinki\n",
      "2024-10-09 08:05+02:00\n",
      "Antalya\n",
      "2024-10-09 08:35+02:00\n",
      "Amsterdam\n",
      "2024-10-09 08:20+02:00\n",
      "Dubrovnik\n",
      "2024-10-09 08:40+02:00\n",
      "Milan\n",
      "2024-10-09 08:35+02:00\n",
      "Milan\n",
      "2024-10-09 08:35+02:00\n",
      "Kutaisi\n",
      "2024-10-09 08:30+02:00\n",
      "Jeddah\n",
      "2024-10-09 08:45+02:00\n",
      "Paris\n",
      "2024-10-09 08:50+02:00\n",
      "Paris\n",
      "2024-10-09 08:50+02:00\n",
      "Venice\n",
      "2024-10-09 08:55+02:00\n",
      "Venice\n",
      "2024-10-09 08:55+02:00\n",
      "Oslo\n",
      "2024-10-09 09:05+02:00\n",
      "Frankfurt-am-Main\n",
      "2024-10-09 08:55+02:00\n",
      "Paris\n",
      "2024-10-09 08:55+02:00\n",
      "Munich\n",
      "2024-10-09 09:05+02:00\n",
      "Bergamo\n",
      "2024-10-09 09:10+02:00\n",
      "Istanbul\n",
      "2024-10-09 09:20+02:00\n",
      "Nápoli\n",
      "2024-10-09 09:20+02:00\n",
      "Nápoli\n",
      "2024-10-09 09:20+02:00\n",
      "Tel Aviv Yafo\n",
      "2024-10-09 09:40+02:00\n",
      "London\n",
      "2024-10-09 09:35+02:00\n",
      "Zurich\n",
      "2024-10-09 09:40+02:00\n",
      "Zurich\n",
      "2024-10-09 09:40+02:00\n",
      "Cologne\n",
      "2024-10-09 09:20+02:00\n",
      "Barcelona\n",
      "2024-10-09 10:00+02:00\n",
      "London\n",
      "2024-10-09 09:40+02:00\n",
      "Palma De Mallorca\n",
      "2024-10-09 09:45+02:00\n",
      "Palma De Mallorca\n",
      "2024-10-09 09:45+02:00\n",
      "Frankfurt-am-Main\n",
      "2024-10-09 09:55+02:00\n",
      "Athens\n",
      "2024-10-09 10:25+02:00\n",
      "Reggio Calabria\n",
      "2024-10-09 10:00+02:00\n",
      "Zadar\n",
      "2024-10-09 09:45+02:00\n",
      "Amsterdam\n",
      "2024-10-09 10:05+02:00\n",
      "Antalya\n",
      "2024-10-09 10:20+02:00\n",
      "Dublin\n",
      "2024-10-09 10:00+02:00\n",
      "Stuttgart\n",
      "2024-10-09 10:10+02:00\n",
      "Stuttgart\n",
      "2024-10-09 10:10+02:00\n",
      "London\n",
      "2024-10-09 10:20+02:00\n",
      "Zurich\n",
      "2024-10-09 10:05+02:00\n",
      "Munich\n",
      "2024-10-09 10:05+02:00\n",
      "Amsterdam\n",
      "2024-10-09 10:30+02:00\n",
      "Amsterdam\n",
      "2024-10-09 10:30+02:00\n",
      "Venice\n",
      "2024-10-09 10:00+02:00\n",
      "Vienna\n",
      "2024-10-09 10:25+02:00\n",
      "Tallinn\n",
      "2024-10-09 10:10+02:00\n",
      "Athens\n",
      "2024-10-09 10:40+02:00\n",
      "Unknown\n",
      "2024-10-09 10:27+02:00\n",
      "Kaunas\n",
      "2024-10-09 10:35+02:00\n",
      "Antalya\n",
      "2024-10-09 11:05+02:00\n",
      "Bolzano\n",
      "2024-10-09 10:32+02:00\n",
      "Bolzano\n",
      "2024-10-09 10:10+02:00\n",
      "Lisbon\n",
      "2024-10-09 10:20+02:00\n",
      "Warsaw\n",
      "2024-10-09 10:30+02:00\n",
      "Madrid\n",
      "2024-10-09 10:35+02:00\n",
      "Rome\n",
      "2024-10-09 10:40+02:00\n",
      "Dublin\n",
      "2024-10-09 11:05+02:00\n",
      "London\n",
      "2024-10-09 11:10+02:00\n",
      "Rome\n",
      "2024-10-09 11:15+02:00\n",
      "Rome\n",
      "2024-10-09 11:15+02:00\n",
      "Brussels\n",
      "2024-10-09 10:50+02:00\n",
      "Zurich\n",
      "2024-10-09 11:30+02:00\n",
      "Zurich\n",
      "2024-10-09 11:30+02:00\n",
      "Nice\n",
      "2024-10-09 11:10+02:00\n",
      "Nice\n",
      "2024-10-09 11:10+02:00\n",
      "Frankfurt-am-Main\n",
      "2024-10-09 10:55+02:00\n",
      "Paris\n",
      "2024-10-09 11:15+02:00\n",
      "Antalya\n",
      "2024-10-09 11:35+02:00\n",
      "Reykjavik\n",
      "2024-10-09 11:30+02:00\n",
      "Bâle/Mulhouse\n",
      "2024-10-09 11:30+02:00\n",
      "Bâle/Mulhouse\n",
      "2024-10-09 11:30+02:00\n",
      "Amsterdam\n",
      "2024-10-09 11:30+02:00\n",
      "Istanbul\n",
      "2024-10-09 11:25+02:00\n",
      "Thessaloniki\n",
      "2024-10-09 11:25+02:00\n",
      "Stockholm\n",
      "2024-10-09 11:40+02:00\n",
      "Istanbul\n",
      "2024-10-09 11:39+02:00\n",
      "Stockholm\n",
      "2024-10-09 11:35+02:00\n",
      "Palma De Mallorca\n",
      "2024-10-09 10:35+02:00\n",
      "Istanbul\n",
      "2024-10-09 12:10+02:00\n",
      "Zurich\n",
      "2024-10-09 08:45+02:00\n",
      "Istanbul\n",
      "2024-10-09 11:45+02:00\n",
      "Edinburgh\n",
      "2024-10-09 12:05+02:00\n"
     ]
    }
   ],
   "source": [
    "for item in flights_json[\"arrivals\"]:\n",
    "    print(item[\"departure\"]['airport'][\"name\"])\n",
    "    print(item[\"arrival\"][\"scheduledTime\"][\"local\"])"
   ]
  },
  {
   "cell_type": "markdown",
   "metadata": {
    "id": "NPyE0MImfsZ2"
   },
   "source": [
    "# Making the DataFrame"
   ]
  },
  {
   "cell_type": "code",
   "execution_count": 18,
   "metadata": {
    "colab": {
     "base_uri": "https://localhost:8080/",
     "height": 206
    },
    "id": "veIZIB--d7IO",
    "outputId": "2d63d810-b102-47e0-d1c6-08e4bdb48f6d",
    "tags": []
   },
   "outputs": [
    {
     "data": {
      "text/html": [
       "<div>\n",
       "<style scoped>\n",
       "    .dataframe tbody tr th:only-of-type {\n",
       "        vertical-align: middle;\n",
       "    }\n",
       "\n",
       "    .dataframe tbody tr th {\n",
       "        vertical-align: top;\n",
       "    }\n",
       "\n",
       "    .dataframe thead th {\n",
       "        text-align: right;\n",
       "    }\n",
       "</style>\n",
       "<table border=\"1\" class=\"dataframe\">\n",
       "  <thead>\n",
       "    <tr style=\"text-align: right;\">\n",
       "      <th></th>\n",
       "      <th>arrival_airport_icao</th>\n",
       "      <th>departure_airport_icao</th>\n",
       "      <th>departure_airport_name</th>\n",
       "      <th>scheduled_arrival_time</th>\n",
       "      <th>flight_number</th>\n",
       "    </tr>\n",
       "  </thead>\n",
       "  <tbody>\n",
       "    <tr>\n",
       "      <th>0</th>\n",
       "      <td>EDDB</td>\n",
       "      <td>UGTB</td>\n",
       "      <td>Tbilisi</td>\n",
       "      <td>2024-10-14 05:40+02:00</td>\n",
       "      <td>EW 8993</td>\n",
       "    </tr>\n",
       "    <tr>\n",
       "      <th>1</th>\n",
       "      <td>EDDB</td>\n",
       "      <td>LTBJ</td>\n",
       "      <td>İzmir</td>\n",
       "      <td>2024-10-14 06:30+02:00</td>\n",
       "      <td>XQ 966</td>\n",
       "    </tr>\n",
       "    <tr>\n",
       "      <th>2</th>\n",
       "      <td>EDDB</td>\n",
       "      <td>ZBAA</td>\n",
       "      <td>Beijing</td>\n",
       "      <td>2024-10-14 06:45+02:00</td>\n",
       "      <td>HU 489</td>\n",
       "    </tr>\n",
       "    <tr>\n",
       "      <th>3</th>\n",
       "      <td>EDDB</td>\n",
       "      <td>LTAJ</td>\n",
       "      <td>Gaziantep</td>\n",
       "      <td>2024-10-14 06:45+02:00</td>\n",
       "      <td>XQ 1766</td>\n",
       "    </tr>\n",
       "    <tr>\n",
       "      <th>4</th>\n",
       "      <td>EDDB</td>\n",
       "      <td>KJFK</td>\n",
       "      <td>New York</td>\n",
       "      <td>2024-10-14 07:50+02:00</td>\n",
       "      <td>DL 92</td>\n",
       "    </tr>\n",
       "  </tbody>\n",
       "</table>\n",
       "</div>"
      ],
      "text/plain": [
       "  arrival_airport_icao departure_airport_icao departure_airport_name  \\\n",
       "0                 EDDB                   UGTB                Tbilisi   \n",
       "1                 EDDB                   LTBJ                  İzmir   \n",
       "2                 EDDB                   ZBAA                Beijing   \n",
       "3                 EDDB                   LTAJ              Gaziantep   \n",
       "4                 EDDB                   KJFK               New York   \n",
       "\n",
       "   scheduled_arrival_time flight_number  \n",
       "0  2024-10-14 05:40+02:00       EW 8993  \n",
       "1  2024-10-14 06:30+02:00        XQ 966  \n",
       "2  2024-10-14 06:45+02:00        HU 489  \n",
       "3  2024-10-14 06:45+02:00       XQ 1766  \n",
       "4  2024-10-14 07:50+02:00         DL 92  "
      ]
     },
     "execution_count": 18,
     "metadata": {},
     "output_type": "execute_result"
    }
   ],
   "source": [
    "flight_items = []\n",
    "\n",
    "for item in flights_json[\"arrivals\"]:\n",
    "\n",
    "    flight_item = {\n",
    "        \"arrival_airport_icao\": icao,\n",
    "        \"departure_airport_icao\": item[\"departure\"][\"airport\"].get(\"icao\", None),\n",
    "        \"departure_airport_name\": item[\"departure\"][\"airport\"].get(\"name\", None),\n",
    "        \"scheduled_arrival_time\": item[\"arrival\"][\"scheduledTime\"].get(\"local\", None),\n",
    "        \"flight_number\": item.get(\"number\", None)\n",
    "    }\n",
    "\n",
    "    flight_items.append(flight_item)\n",
    "\n",
    "flights_df = pd.DataFrame(flight_items)\n",
    "\n",
    "flights_df.head()"
   ]
  },
  {
   "cell_type": "markdown",
   "metadata": {
    "id": "cQkkCxjA1bhc"
   },
   "source": [
    "Let's get rid of the `+02:00` from `scheduled_arrival_time`."
   ]
  },
  {
   "cell_type": "code",
   "execution_count": 27,
   "metadata": {
    "colab": {
     "base_uri": "https://localhost:8080/",
     "height": 206
    },
    "id": "JAI9dFH-1Stj",
    "outputId": "61224dd8-66a4-4f82-f0a7-2ba5adc35c27",
    "tags": []
   },
   "outputs": [
    {
     "data": {
      "text/html": [
       "<div>\n",
       "<style scoped>\n",
       "    .dataframe tbody tr th:only-of-type {\n",
       "        vertical-align: middle;\n",
       "    }\n",
       "\n",
       "    .dataframe tbody tr th {\n",
       "        vertical-align: top;\n",
       "    }\n",
       "\n",
       "    .dataframe thead th {\n",
       "        text-align: right;\n",
       "    }\n",
       "</style>\n",
       "<table border=\"1\" class=\"dataframe\">\n",
       "  <thead>\n",
       "    <tr style=\"text-align: right;\">\n",
       "      <th></th>\n",
       "      <th>arrival_airport_icao</th>\n",
       "      <th>departure_airport_icao</th>\n",
       "      <th>departure_airport_name</th>\n",
       "      <th>scheduled_arrival_time</th>\n",
       "      <th>flight_number</th>\n",
       "    </tr>\n",
       "  </thead>\n",
       "  <tbody>\n",
       "    <tr>\n",
       "      <th>0</th>\n",
       "      <td>EDDB</td>\n",
       "      <td>LTBJ</td>\n",
       "      <td>İzmir</td>\n",
       "      <td>2024-10-09 06:30</td>\n",
       "      <td>XQ 966</td>\n",
       "    </tr>\n",
       "    <tr>\n",
       "      <th>1</th>\n",
       "      <td>EDDB</td>\n",
       "      <td>LTFH</td>\n",
       "      <td>Samsun</td>\n",
       "      <td>2024-10-09 06:45</td>\n",
       "      <td>XQ 1768</td>\n",
       "    </tr>\n",
       "    <tr>\n",
       "      <th>2</th>\n",
       "      <td>EDDB</td>\n",
       "      <td>HEGN</td>\n",
       "      <td>Hurghada</td>\n",
       "      <td>2024-10-09 07:00</td>\n",
       "      <td>NE 3130</td>\n",
       "    </tr>\n",
       "    <tr>\n",
       "      <th>3</th>\n",
       "      <td>EDDB</td>\n",
       "      <td>KEWR</td>\n",
       "      <td>Newark</td>\n",
       "      <td>2024-10-09 07:15</td>\n",
       "      <td>UA 962</td>\n",
       "    </tr>\n",
       "    <tr>\n",
       "      <th>4</th>\n",
       "      <td>EDDB</td>\n",
       "      <td>LTAI</td>\n",
       "      <td>Antalya</td>\n",
       "      <td>2024-10-09 07:30</td>\n",
       "      <td>XQ 668</td>\n",
       "    </tr>\n",
       "  </tbody>\n",
       "</table>\n",
       "</div>"
      ],
      "text/plain": [
       "  arrival_airport_icao departure_airport_icao departure_airport_name  \\\n",
       "0                 EDDB                   LTBJ                  İzmir   \n",
       "1                 EDDB                   LTFH                 Samsun   \n",
       "2                 EDDB                   HEGN               Hurghada   \n",
       "3                 EDDB                   KEWR                 Newark   \n",
       "4                 EDDB                   LTAI                Antalya   \n",
       "\n",
       "  scheduled_arrival_time flight_number  \n",
       "0       2024-10-09 06:30        XQ 966  \n",
       "1       2024-10-09 06:45       XQ 1768  \n",
       "2       2024-10-09 07:00       NE 3130  \n",
       "3       2024-10-09 07:15        UA 962  \n",
       "4       2024-10-09 07:30        XQ 668  "
      ]
     },
     "execution_count": 27,
     "metadata": {},
     "output_type": "execute_result"
    }
   ],
   "source": [
    "flights_df[\"scheduled_arrival_time\"] = flights_df[\"scheduled_arrival_time\"].str[:-6]\n",
    "flights_df.head()"
   ]
  },
  {
   "cell_type": "markdown",
   "metadata": {
    "id": "H2Wpy5Bz2f0V"
   },
   "source": [
    "While string slicing provides a quick solution to correcting the `scheduled_arrival_time` column, it's not the most robust approach. This is because it assumes that every cell in the column has the `+01:00` time zone offset. If there are cells without this offset, slicing would remove part of the time value, leading to inaccurate results.\n",
    "\n",
    "A more robust solution would involve using the `re.sub()` function from the re module. Feel free to look into this if you have extra time and are curious."
   ]
  },
  {
   "cell_type": "code",
   "execution_count": null,
   "metadata": {
    "id": "iKnvp4sD-ZtB"
   },
   "outputs": [],
   "source": []
  },
  {
   "cell_type": "markdown",
   "metadata": {
    "id": "5wmsgtvz4ZtV"
   },
   "source": [
    "# Creating a function for multiple airports"
   ]
  },
  {
   "cell_type": "code",
   "execution_count": 20,
   "metadata": {
    "id": "hnlFAD6R-ZtB",
    "outputId": "3f618e08-79aa-4161-e56f-fe63e447ed31"
   },
   "outputs": [
    {
     "data": {
      "text/plain": [
       "datetime.date(2024, 10, 14)"
      ]
     },
     "execution_count": 20,
     "metadata": {},
     "output_type": "execute_result"
    }
   ],
   "source": [
    "berlin_timezone = timezone('Europe/Berlin')\n",
    "today = datetime.now(berlin_timezone).date()\n",
    "today"
   ]
  },
  {
   "cell_type": "code",
   "execution_count": 22,
   "metadata": {
    "id": "y7YhvwPs-ZtB",
    "outputId": "6922af8f-5856-40f5-9d98-64f4e38a3cb9"
   },
   "outputs": [
    {
     "data": {
      "text/plain": [
       "datetime.date(2024, 10, 15)"
      ]
     },
     "execution_count": 22,
     "metadata": {},
     "output_type": "execute_result"
    }
   ],
   "source": [
    "tomorrow = (today + timedelta(days=1))\n",
    "tomorrow"
   ]
  },
  {
   "cell_type": "code",
   "execution_count": 24,
   "metadata": {
    "id": "32mDrvgw-ZtB",
    "outputId": "a4130671-8811-4e02-c2f6-d1d942bba4dc",
    "tags": []
   },
   "outputs": [
    {
     "name": "stdout",
     "output_type": "stream",
     "text": [
      "00:00\n",
      "11:59\n",
      "12:00\n",
      "23:59\n"
     ]
    }
   ],
   "source": [
    "times = [[\"00:00\",\"11:59\"],\n",
    "        [\"12:00\",\"23:59\"]]\n",
    "\n",
    "for time in times:\n",
    "    print(time[0])\n",
    "    print(time[1])"
   ]
  },
  {
   "cell_type": "code",
   "execution_count": 26,
   "metadata": {
    "id": "npHV7mUo2QF8",
    "tags": []
   },
   "outputs": [],
   "source": [
    "import pandas as pd\n",
    "from datetime import datetime, timedelta\n",
    "import requests\n",
    "from pytz import timezone\n",
    "from keys import AeroDatabox\n",
    "\n",
    "def get_flight_data(icao_list):\n",
    "\n",
    "\n",
    "    api_key = AeroDatabox\n",
    "\n",
    "    berlin_timezone = timezone('Europe/Berlin')\n",
    "    today = datetime.now(berlin_timezone).date()\n",
    "    tomorrow = (today + timedelta(days=1))\n",
    "\n",
    "    flight_items = []\n",
    "\n",
    "    for icao in icao_list:\n",
    "        # the api can only make 12 hour calls, therefore, 2 12 hour calls make a full day\n",
    "        # using the nested lists below we can make a morning call and extract the data\n",
    "        # then make an afternoon call and extract the data\n",
    "        times = [[\"00:00\",\"11:59\"],\n",
    "                 [\"12:00\",\"23:59\"]]\n",
    "\n",
    "        for time in times:\n",
    "\n",
    "            url = f\"https://aerodatabox.p.rapidapi.com/flights/airports/icao/{icao}/{tomorrow}T{time[0]}/{tomorrow}T{time[1]}\"\n",
    "\n",
    "            querystring = {\"withLeg\":\"true\",\n",
    "                        \"direction\":\"Arrival\",\n",
    "                        \"withCancelled\":\"false\",\n",
    "                        \"withCodeshared\":\"true\",\n",
    "                        \"withCargo\":\"false\",\n",
    "                        \"withPrivate\":\"false\"}\n",
    "\n",
    "            headers = {\n",
    "              'x-rapidapi-host': \"aerodatabox.p.rapidapi.com\",\n",
    "              'x-rapidapi-key': api_key\n",
    "              }\n",
    "\n",
    "            response = requests.get(url, headers=headers, params=querystring)\n",
    "\n",
    "            flights_json = response.json()\n",
    "\n",
    "            retrieval_time = datetime.now(berlin_timezone).strftime(\"%Y-%m-%d %H:%M:%S\")\n",
    "\n",
    "            for item in flights_json[\"arrivals\"]:\n",
    "                flight_item = {\n",
    "                    \"arrival_airport_icao\": icao,\n",
    "                    \"departure_airport_icao\": item[\"departure\"][\"airport\"].get(\"icao\", None),\n",
    "                    \"departure_airport_name\": item[\"departure\"][\"airport\"].get(\"name\", None),\n",
    "                    \"scheduled_arrival_time\": item[\"arrival\"][\"scheduledTime\"].get(\"local\", None),\n",
    "                    \"flight_number\": item.get(\"number\", None),\n",
    "                    \"data_retrieved_at\": retrieval_time\n",
    "                }\n",
    "\n",
    "                flight_items.append(flight_item)\n",
    "\n",
    "    flights_df = pd.DataFrame(flight_items)\n",
    "    flights_df[\"scheduled_arrival_time\"] = flights_df[\"scheduled_arrival_time\"].str[:-6]\n",
    "    flights_df[\"scheduled_arrival_time\"] = pd.to_datetime(flights_df[\"scheduled_arrival_time\"])\n",
    "    flights_df[\"data_retrieved_at\"] = pd.to_datetime(flights_df[\"data_retrieved_at\"])\n",
    "\n",
    "    return flights_df"
   ]
  },
  {
   "cell_type": "code",
   "execution_count": 28,
   "metadata": {
    "colab": {
     "base_uri": "https://localhost:8080/",
     "height": 424
    },
    "id": "Mof8YsGM79gx",
    "outputId": "e4ad9526-ffc7-491a-df62-19ed1e5edf7c",
    "tags": []
   },
   "outputs": [
    {
     "data": {
      "text/html": [
       "<div>\n",
       "<style scoped>\n",
       "    .dataframe tbody tr th:only-of-type {\n",
       "        vertical-align: middle;\n",
       "    }\n",
       "\n",
       "    .dataframe tbody tr th {\n",
       "        vertical-align: top;\n",
       "    }\n",
       "\n",
       "    .dataframe thead th {\n",
       "        text-align: right;\n",
       "    }\n",
       "</style>\n",
       "<table border=\"1\" class=\"dataframe\">\n",
       "  <thead>\n",
       "    <tr style=\"text-align: right;\">\n",
       "      <th></th>\n",
       "      <th>arrival_airport_icao</th>\n",
       "      <th>departure_airport_icao</th>\n",
       "      <th>departure_airport_name</th>\n",
       "      <th>scheduled_arrival_time</th>\n",
       "      <th>flight_number</th>\n",
       "      <th>data_retrieved_at</th>\n",
       "    </tr>\n",
       "  </thead>\n",
       "  <tbody>\n",
       "    <tr>\n",
       "      <th>0</th>\n",
       "      <td>EDDB</td>\n",
       "      <td>LTBJ</td>\n",
       "      <td>İzmir</td>\n",
       "      <td>2024-10-15 06:30:00</td>\n",
       "      <td>XQ 966</td>\n",
       "      <td>2024-10-14 10:01:58</td>\n",
       "    </tr>\n",
       "    <tr>\n",
       "      <th>1</th>\n",
       "      <td>EDDB</td>\n",
       "      <td>LTCC</td>\n",
       "      <td>Diyarbakır</td>\n",
       "      <td>2024-10-15 06:45:00</td>\n",
       "      <td>XQ 1700</td>\n",
       "      <td>2024-10-14 10:01:58</td>\n",
       "    </tr>\n",
       "    <tr>\n",
       "      <th>2</th>\n",
       "      <td>EDDB</td>\n",
       "      <td>KEWR</td>\n",
       "      <td>Newark</td>\n",
       "      <td>2024-10-15 07:15:00</td>\n",
       "      <td>UA 962</td>\n",
       "      <td>2024-10-14 10:01:58</td>\n",
       "    </tr>\n",
       "    <tr>\n",
       "      <th>3</th>\n",
       "      <td>EDDB</td>\n",
       "      <td>OTHH</td>\n",
       "      <td>Doha</td>\n",
       "      <td>2024-10-15 07:20:00</td>\n",
       "      <td>QR 79</td>\n",
       "      <td>2024-10-14 10:01:58</td>\n",
       "    </tr>\n",
       "    <tr>\n",
       "      <th>4</th>\n",
       "      <td>EDDB</td>\n",
       "      <td>EDDF</td>\n",
       "      <td>Frankfurt-am-Main</td>\n",
       "      <td>2024-10-15 07:25:00</td>\n",
       "      <td>LH 172</td>\n",
       "      <td>2024-10-14 10:01:58</td>\n",
       "    </tr>\n",
       "    <tr>\n",
       "      <th>...</th>\n",
       "      <td>...</td>\n",
       "      <td>...</td>\n",
       "      <td>...</td>\n",
       "      <td>...</td>\n",
       "      <td>...</td>\n",
       "      <td>...</td>\n",
       "    </tr>\n",
       "    <tr>\n",
       "      <th>504</th>\n",
       "      <td>EDDH</td>\n",
       "      <td>LFPG</td>\n",
       "      <td>Paris</td>\n",
       "      <td>2024-10-15 22:30:00</td>\n",
       "      <td>AF 1610</td>\n",
       "      <td>2024-10-14 10:01:59</td>\n",
       "    </tr>\n",
       "    <tr>\n",
       "      <th>505</th>\n",
       "      <td>EDDH</td>\n",
       "      <td>HEGN</td>\n",
       "      <td>Hurghada</td>\n",
       "      <td>2024-10-15 22:30:00</td>\n",
       "      <td>DI 6003</td>\n",
       "      <td>2024-10-14 10:01:59</td>\n",
       "    </tr>\n",
       "    <tr>\n",
       "      <th>506</th>\n",
       "      <td>EDDH</td>\n",
       "      <td>LPFR</td>\n",
       "      <td>Faro</td>\n",
       "      <td>2024-10-15 22:35:00</td>\n",
       "      <td>EW 7643</td>\n",
       "      <td>2024-10-14 10:01:59</td>\n",
       "    </tr>\n",
       "    <tr>\n",
       "      <th>507</th>\n",
       "      <td>EDDH</td>\n",
       "      <td>LGRP</td>\n",
       "      <td>Rodes Island</td>\n",
       "      <td>2024-10-15 22:35:00</td>\n",
       "      <td>DI 6645</td>\n",
       "      <td>2024-10-14 10:01:59</td>\n",
       "    </tr>\n",
       "    <tr>\n",
       "      <th>508</th>\n",
       "      <td>EDDH</td>\n",
       "      <td>LEMD</td>\n",
       "      <td>Madrid</td>\n",
       "      <td>2024-10-15 22:40:00</td>\n",
       "      <td>IB 3272</td>\n",
       "      <td>2024-10-14 10:01:59</td>\n",
       "    </tr>\n",
       "  </tbody>\n",
       "</table>\n",
       "<p>509 rows × 6 columns</p>\n",
       "</div>"
      ],
      "text/plain": [
       "    arrival_airport_icao departure_airport_icao departure_airport_name  \\\n",
       "0                   EDDB                   LTBJ                  İzmir   \n",
       "1                   EDDB                   LTCC             Diyarbakır   \n",
       "2                   EDDB                   KEWR                 Newark   \n",
       "3                   EDDB                   OTHH                   Doha   \n",
       "4                   EDDB                   EDDF      Frankfurt-am-Main   \n",
       "..                   ...                    ...                    ...   \n",
       "504                 EDDH                   LFPG                  Paris   \n",
       "505                 EDDH                   HEGN               Hurghada   \n",
       "506                 EDDH                   LPFR                   Faro   \n",
       "507                 EDDH                   LGRP           Rodes Island   \n",
       "508                 EDDH                   LEMD                 Madrid   \n",
       "\n",
       "    scheduled_arrival_time flight_number   data_retrieved_at  \n",
       "0      2024-10-15 06:30:00        XQ 966 2024-10-14 10:01:58  \n",
       "1      2024-10-15 06:45:00       XQ 1700 2024-10-14 10:01:58  \n",
       "2      2024-10-15 07:15:00        UA 962 2024-10-14 10:01:58  \n",
       "3      2024-10-15 07:20:00         QR 79 2024-10-14 10:01:58  \n",
       "4      2024-10-15 07:25:00        LH 172 2024-10-14 10:01:58  \n",
       "..                     ...           ...                 ...  \n",
       "504    2024-10-15 22:30:00       AF 1610 2024-10-14 10:01:59  \n",
       "505    2024-10-15 22:30:00       DI 6003 2024-10-14 10:01:59  \n",
       "506    2024-10-15 22:35:00       EW 7643 2024-10-14 10:01:59  \n",
       "507    2024-10-15 22:35:00       DI 6645 2024-10-14 10:01:59  \n",
       "508    2024-10-15 22:40:00       IB 3272 2024-10-14 10:01:59  \n",
       "\n",
       "[509 rows x 6 columns]"
      ]
     },
     "execution_count": 28,
     "metadata": {},
     "output_type": "execute_result"
    }
   ],
   "source": [
    "icao_list = [\"EDDB\", \"EDDH\"]\n",
    "\n",
    "flights_to_db = get_flight_data(icao_list)\n",
    "flights_to_db"
   ]
  },
  {
   "cell_type": "markdown",
   "metadata": {
    "id": "En3EuEaA-ZtB"
   },
   "source": [
    "# Create \"flight\" table in the database"
   ]
  },
  {
   "cell_type": "code",
   "execution_count": 30,
   "metadata": {
    "id": "DVU1Ambi-ZtB",
    "outputId": "f916f661-1873-4407-f3a2-f1605e1fd9f8"
   },
   "outputs": [
    {
     "name": "stdout",
     "output_type": "stream",
     "text": [
      "<class 'pandas.core.frame.DataFrame'>\n",
      "RangeIndex: 509 entries, 0 to 508\n",
      "Data columns (total 6 columns):\n",
      " #   Column                  Non-Null Count  Dtype         \n",
      "---  ------                  --------------  -----         \n",
      " 0   arrival_airport_icao    509 non-null    object        \n",
      " 1   departure_airport_icao  507 non-null    object        \n",
      " 2   departure_airport_name  509 non-null    object        \n",
      " 3   scheduled_arrival_time  509 non-null    datetime64[ns]\n",
      " 4   flight_number           509 non-null    object        \n",
      " 5   data_retrieved_at       509 non-null    datetime64[ns]\n",
      "dtypes: datetime64[ns](2), object(4)\n",
      "memory usage: 24.0+ KB\n"
     ]
    }
   ],
   "source": [
    "flights_to_db.info()"
   ]
  },
  {
   "cell_type": "markdown",
   "metadata": {
    "id": "CCsSbyDE-ZtC"
   },
   "source": [
    "```sql\n",
    "CREATE TABLE flights(\n",
    "\tflight_id INT AUTO_INCREMENT,\n",
    "    arrival_airport_icao VARCHAR(10),\n",
    "    departure_airport_icao VARCHAR(10),\n",
    "    departure_airport_name VARCHAR(30),\n",
    "    scheduled_arrival_time DATETIME,\n",
    "    flight_number VARCHAR(30),\n",
    "    data_retrieved_at DATETIME,\n",
    "    PRIMARY KEY (flight_id),\n",
    "    FOREIGN KEY (arrival_airport_icao) REFERENCES airports(icao)\n",
    ");\n",
    "```"
   ]
  },
  {
   "cell_type": "markdown",
   "metadata": {
    "id": "IXfpD5uO-ZtC",
    "tags": []
   },
   "source": [
    "# Push the \"flights_to_db\" to the empty \"flights\" table in the database"
   ]
  },
  {
   "cell_type": "code",
   "execution_count": 43,
   "metadata": {
    "id": "Ol5UZavK-ZtC"
   },
   "outputs": [],
   "source": [
    "from keys import sql\n",
    "\n",
    "This is the connection string for connecting to the local my SQL database using SQ alchemy"
   ]
  },
  {
   "cell_type": "code",
   "execution_count": 45,
   "metadata": {
    "id": "y-f2FIiV-ZtC",
    "outputId": "9ec9c5bd-63ae-4d19-cf44-681a1f8edfd0"
   },
   "outputs": [
    {
     "data": {
      "text/plain": [
       "541"
      ]
     },
     "execution_count": 45,
     "metadata": {},
     "output_type": "execute_result"
    }
   ],
   "source": [
    "flights_to_db.to_sql('flights',\n",
    "                    if_exists='append',\n",
    "                    con=connection_string,\n",
    "                    index=False)"
   ]
  },
  {
   "cell_type": "code",
   "execution_count": null,
   "metadata": {
    "id": "L4gbkUky-ZtC",
    "outputId": "68e87c8a-55f0-4847-e40d-e2600d7c7e86"
   },
   "outputs": [
    {
     "data": {
      "text/html": [
       "<div>\n",
       "<style scoped>\n",
       "    .dataframe tbody tr th:only-of-type {\n",
       "        vertical-align: middle;\n",
       "    }\n",
       "\n",
       "    .dataframe tbody tr th {\n",
       "        vertical-align: top;\n",
       "    }\n",
       "\n",
       "    .dataframe thead th {\n",
       "        text-align: right;\n",
       "    }\n",
       "</style>\n",
       "<table border=\"1\" class=\"dataframe\">\n",
       "  <thead>\n",
       "    <tr style=\"text-align: right;\">\n",
       "      <th></th>\n",
       "      <th>flight_id</th>\n",
       "      <th>arrival_airport_icao</th>\n",
       "      <th>departure_airport_icao</th>\n",
       "      <th>departure_airport_name</th>\n",
       "      <th>scheduled_arrival_time</th>\n",
       "      <th>flight_number</th>\n",
       "      <th>data_retrieved_at</th>\n",
       "    </tr>\n",
       "  </thead>\n",
       "  <tbody>\n",
       "    <tr>\n",
       "      <th>0</th>\n",
       "      <td>1</td>\n",
       "      <td>EDDB</td>\n",
       "      <td>HEMA</td>\n",
       "      <td>Marsa Alam</td>\n",
       "      <td>2024-10-10 06:20:00</td>\n",
       "      <td>SM 2962</td>\n",
       "      <td>2024-10-09 10:22:39</td>\n",
       "    </tr>\n",
       "    <tr>\n",
       "      <th>1</th>\n",
       "      <td>2</td>\n",
       "      <td>EDDB</td>\n",
       "      <td>LTBJ</td>\n",
       "      <td>İzmir</td>\n",
       "      <td>2024-10-10 06:30:00</td>\n",
       "      <td>XQ 966</td>\n",
       "      <td>2024-10-09 10:22:39</td>\n",
       "    </tr>\n",
       "    <tr>\n",
       "      <th>2</th>\n",
       "      <td>3</td>\n",
       "      <td>EDDB</td>\n",
       "      <td>LPCV</td>\n",
       "      <td>COV</td>\n",
       "      <td>2024-10-10 06:45:00</td>\n",
       "      <td>XQ 1774</td>\n",
       "      <td>2024-10-09 10:22:39</td>\n",
       "    </tr>\n",
       "    <tr>\n",
       "      <th>3</th>\n",
       "      <td>4</td>\n",
       "      <td>EDDB</td>\n",
       "      <td>ZBAA</td>\n",
       "      <td>Beijing</td>\n",
       "      <td>2024-10-10 06:45:00</td>\n",
       "      <td>HU 489</td>\n",
       "      <td>2024-10-09 10:22:39</td>\n",
       "    </tr>\n",
       "    <tr>\n",
       "      <th>4</th>\n",
       "      <td>5</td>\n",
       "      <td>EDDB</td>\n",
       "      <td>HEGN</td>\n",
       "      <td>Hurghada</td>\n",
       "      <td>2024-10-10 07:05:00</td>\n",
       "      <td>NE 4132</td>\n",
       "      <td>2024-10-09 10:22:39</td>\n",
       "    </tr>\n",
       "    <tr>\n",
       "      <th>...</th>\n",
       "      <td>...</td>\n",
       "      <td>...</td>\n",
       "      <td>...</td>\n",
       "      <td>...</td>\n",
       "      <td>...</td>\n",
       "      <td>...</td>\n",
       "      <td>...</td>\n",
       "    </tr>\n",
       "    <tr>\n",
       "      <th>536</th>\n",
       "      <td>537</td>\n",
       "      <td>EDDH</td>\n",
       "      <td>EDDM</td>\n",
       "      <td>Munich</td>\n",
       "      <td>2024-10-10 22:30:00</td>\n",
       "      <td>LH 2078</td>\n",
       "      <td>2024-10-09 10:22:40</td>\n",
       "    </tr>\n",
       "    <tr>\n",
       "      <th>537</th>\n",
       "      <td>538</td>\n",
       "      <td>EDDH</td>\n",
       "      <td>LHBP</td>\n",
       "      <td>Budapest</td>\n",
       "      <td>2024-10-10 22:30:00</td>\n",
       "      <td>EW 7783</td>\n",
       "      <td>2024-10-09 10:22:40</td>\n",
       "    </tr>\n",
       "    <tr>\n",
       "      <th>538</th>\n",
       "      <td>539</td>\n",
       "      <td>EDDH</td>\n",
       "      <td>HEGN</td>\n",
       "      <td>Hurghada</td>\n",
       "      <td>2024-10-10 22:35:00</td>\n",
       "      <td>DI 6003</td>\n",
       "      <td>2024-10-09 10:22:40</td>\n",
       "    </tr>\n",
       "    <tr>\n",
       "      <th>539</th>\n",
       "      <td>540</td>\n",
       "      <td>EDDH</td>\n",
       "      <td>LGKO</td>\n",
       "      <td>Kos Island</td>\n",
       "      <td>2024-10-10 22:35:00</td>\n",
       "      <td>DI 6891</td>\n",
       "      <td>2024-10-09 10:22:40</td>\n",
       "    </tr>\n",
       "    <tr>\n",
       "      <th>540</th>\n",
       "      <td>541</td>\n",
       "      <td>EDDH</td>\n",
       "      <td>LEMD</td>\n",
       "      <td>Madrid</td>\n",
       "      <td>2024-10-10 22:40:00</td>\n",
       "      <td>IB 3272</td>\n",
       "      <td>2024-10-09 10:22:40</td>\n",
       "    </tr>\n",
       "  </tbody>\n",
       "</table>\n",
       "<p>541 rows × 7 columns</p>\n",
       "</div>"
      ],
      "text/plain": [
       "     flight_id arrival_airport_icao departure_airport_icao  \\\n",
       "0            1                 EDDB                   HEMA   \n",
       "1            2                 EDDB                   LTBJ   \n",
       "2            3                 EDDB                   LPCV   \n",
       "3            4                 EDDB                   ZBAA   \n",
       "4            5                 EDDB                   HEGN   \n",
       "..         ...                  ...                    ...   \n",
       "536        537                 EDDH                   EDDM   \n",
       "537        538                 EDDH                   LHBP   \n",
       "538        539                 EDDH                   HEGN   \n",
       "539        540                 EDDH                   LGKO   \n",
       "540        541                 EDDH                   LEMD   \n",
       "\n",
       "    departure_airport_name scheduled_arrival_time flight_number  \\\n",
       "0               Marsa Alam    2024-10-10 06:20:00       SM 2962   \n",
       "1                    İzmir    2024-10-10 06:30:00        XQ 966   \n",
       "2                      COV    2024-10-10 06:45:00       XQ 1774   \n",
       "3                  Beijing    2024-10-10 06:45:00        HU 489   \n",
       "4                 Hurghada    2024-10-10 07:05:00       NE 4132   \n",
       "..                     ...                    ...           ...   \n",
       "536                 Munich    2024-10-10 22:30:00       LH 2078   \n",
       "537               Budapest    2024-10-10 22:30:00       EW 7783   \n",
       "538               Hurghada    2024-10-10 22:35:00       DI 6003   \n",
       "539             Kos Island    2024-10-10 22:35:00       DI 6891   \n",
       "540                 Madrid    2024-10-10 22:40:00       IB 3272   \n",
       "\n",
       "      data_retrieved_at  \n",
       "0   2024-10-09 10:22:39  \n",
       "1   2024-10-09 10:22:39  \n",
       "2   2024-10-09 10:22:39  \n",
       "3   2024-10-09 10:22:39  \n",
       "4   2024-10-09 10:22:39  \n",
       "..                  ...  \n",
       "536 2024-10-09 10:22:40  \n",
       "537 2024-10-09 10:22:40  \n",
       "538 2024-10-09 10:22:40  \n",
       "539 2024-10-09 10:22:40  \n",
       "540 2024-10-09 10:22:40  \n",
       "\n",
       "[541 rows x 7 columns]"
      ]
     },
     "execution_count": 17,
     "metadata": {},
     "output_type": "execute_result"
    }
   ],
   "source": [
    "pd.read_sql(\"flights\", con=connection_string)"
   ]
  },
  {
   "cell_type": "code",
   "execution_count": null,
   "metadata": {},
   "outputs": [],
   "source": [
    "## connect to SQL Data Instance "
   ]
  },
  {
   "cell_type": "code",
   "execution_count": 2,
   "metadata": {
    "id": "4mXxkARd-ZtC"
   },
   "outputs": [],
   "source": [
    "from keys import gcp\n",
    "\n",
    "schema = \"gans_global\" # The name of your database\n",
    "host = \"35.187.50.113\"\n",
    "user = \"root\"\n",
    "password = gcp # Your GCP password\n",
    "port = 3306\n",
    "\n",
    "connection_string = f'mysql+pymysql://{user}:{password}@{host}:{port}/{schema}'"
   ]
  },
  {
   "cell_type": "code",
   "execution_count": null,
   "metadata": {},
   "outputs": [],
   "source": [
    "## push the data to the SQL Data Instance"
   ]
  },
  {
   "cell_type": "code",
   "execution_count": 32,
   "metadata": {},
   "outputs": [
    {
     "data": {
      "text/plain": [
       "509"
      ]
     },
     "execution_count": 32,
     "metadata": {},
     "output_type": "execute_result"
    }
   ],
   "source": [
    "flights_to_db.to_sql('flights',\n",
    "                    if_exists='append',\n",
    "                    con=connection_string,\n",
    "                    index=False)"
   ]
  }
 ],
 "metadata": {
  "colab": {
   "provenance": []
  },
  "kernelspec": {
   "display_name": "Python 3 (ipykernel)",
   "language": "python",
   "name": "python3"
  },
  "language_info": {
   "codemirror_mode": {
    "name": "ipython",
    "version": 3
   },
   "file_extension": ".py",
   "mimetype": "text/x-python",
   "name": "python",
   "nbconvert_exporter": "python",
   "pygments_lexer": "ipython3",
   "version": "3.12.4"
  }
 },
 "nbformat": 4,
 "nbformat_minor": 4
}
