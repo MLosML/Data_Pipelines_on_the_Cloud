{
 "cells": [
  {
   "cell_type": "code",
   "execution_count": 1,
   "metadata": {
    "id": "uHXvbJIFanda"
   },
   "outputs": [],
   "source": [
    "import pandas as pd\n",
    "from datetime import datetime, timedelta\n",
    "import requests\n",
    "from pytz import timezone\n",
    "from keys import AeroDatabox\n",
    "from IPython.display import JSON"
   ]
  },
  {
   "cell_type": "markdown",
   "metadata": {
    "id": "6KMKg6FebvDc"
   },
   "source": [
    "# Making the API call and viewing the json"
   ]
  },
  {
   "cell_type": "code",
   "execution_count": 3,
   "metadata": {
    "id": "Bcge_gzPtMSP",
    "outputId": "f464a1a1-aa61-4e29-e0c4-bd9ea6f20d69",
    "scrolled": true,
    "tags": []
   },
   "outputs": [
    {
     "name": "stdout",
     "output_type": "stream",
     "text": [
      "{'arrivals': [{'departure': {'airport': {'icao': 'LTBJ', 'iata': 'ADB', 'name': 'İzmir', 'timeZone': 'Europe/Istanbul'}, 'scheduledTime': {'utc': '2024-10-09 01:25Z', 'local': '2024-10-09 04:25+03:00'}, 'revisedTime': {'utc': '2024-10-09 01:25Z', 'local': '2024-10-09 04:25+03:00'}, 'terminal': 'I', 'gate': '28', 'quality': ['Basic', 'Live']}, 'arrival': {'scheduledTime': {'utc': '2024-10-09 04:30Z', 'local': '2024-10-09 06:30+02:00'}, 'revisedTime': {'utc': '2024-10-09 04:30Z', 'local': '2024-10-09 06:30+02:00'}, 'terminal': '1', 'gate': 'X06', 'baggageBelt': 'A3', 'quality': ['Basic', 'Live']}, 'number': 'XQ 966', 'status': 'Expected', 'codeshareStatus': 'IsOperator', 'isCargo': False, 'aircraft': {'model': 'Boeing 737-700 (winglets)'}, 'airline': {'name': 'Sun Express', 'iata': 'XQ', 'icao': 'SXS'}}, {'departure': {'airport': {'icao': 'LTFH', 'iata': 'SZF', 'name': 'Samsun', 'timeZone': 'Europe/Istanbul'}, 'scheduledTime': {'utc': '2024-10-09 01:10Z', 'local': '2024-10-09 04:10+03:00'}, 'quality': ['Basic']}, 'arrival': {'scheduledTime': {'utc': '2024-10-09 04:45Z', 'local': '2024-10-09 06:45+02:00'}, 'revisedTime': {'utc': '2024-10-09 04:45Z', 'local': '2024-10-09 06:45+02:00'}, 'terminal': '1', 'gate': 'N01', 'baggageBelt': 'B4', 'quality': ['Basic', 'Live']}, 'number': 'XQ 1768', 'status': 'Expected', 'codeshareStatus': 'IsOperator', 'isCargo': False, 'aircraft': {'model': 'Boeing 737-700 (winglets)'}, 'airline': {'name': 'Sun Express', 'iata': 'XQ', 'icao': 'SXS'}}, {'departure': {'airport': {'icao': 'ZBAA', 'iata': 'PEK', 'name': 'Beijing', 'timeZone': 'Asia/Shanghai'}, 'scheduledTime': {'utc': '2024-10-08 18:40Z', 'local': '2024-10-09 02:40+08:00'}, 'revisedTime': {'utc': '2024-10-08 18:40Z', 'local': '2024-10-09 02:40+08:00'}, 'terminal': '2', 'checkInDesk': 'C11-C15', 'gate': '14', 'quality': ['Basic', 'Live']}, 'arrival': {'scheduledTime': {'utc': '2024-10-09 04:45Z', 'local': '2024-10-09 06:45+02:00'}, 'revisedTime': {'utc': '2024-10-09 04:45Z', 'local': '2024-10-09 06:45+02:00'}, 'terminal': '1', 'gate': 'X17', 'baggageBelt': 'A3', 'quality': ['Basic', 'Live']}, 'number': 'HU 489', 'status': 'Expected', 'codeshareStatus': 'IsOperator', 'isCargo': False, 'aircraft': {'model': 'Airbus A330-300'}, 'airline': {'name': 'Hainan', 'iata': 'HU', 'icao': 'CHH'}}, {'departure': {'airport': {'icao': 'HEGN', 'iata': 'HRG', 'name': 'Hurghada', 'timeZone': 'Africa/Cairo'}, 'quality': []}, 'arrival': {'scheduledTime': {'utc': '2024-10-09 05:00Z', 'local': '2024-10-09 07:00+02:00'}, 'revisedTime': {'utc': '2024-10-09 05:00Z', 'local': '2024-10-09 07:00+02:00'}, 'terminal': '1', 'gate': 'N02', 'baggageBelt': 'A3', 'quality': ['Basic', 'Live']}, 'number': 'NE 3130', 'status': 'Expected', 'codeshareStatus': 'IsOperator', 'isCargo': False, 'aircraft': {'model': 'Airbus A320'}, 'airline': {'name': 'Nesma', 'iata': 'NE', 'icao': 'NMA'}}, {'departure': {'airport': {'icao': 'KEWR', 'iata': 'EWR', 'name': 'Newark', 'timeZone': 'America/New_York'}, 'scheduledTime': {'utc': '2024-10-08 21:15Z', 'local': '2024-10-08 17:15-04:00'}, 'terminal': 'C', 'quality': ['Basic']}, 'arrival': {'scheduledTime': {'utc': '2024-10-09 05:15Z', 'local': '2024-10-09 07:15+02:00'}, 'revisedTime': {'utc': '2024-10-09 05:15Z', 'local': '2024-10-09 07:15+02:00'}, 'terminal': '1', 'gate': 'Y17', 'baggageBelt': 'B4', 'quality': ['Basic', 'Live']}, 'number': 'UA 962', 'status': 'Expected', 'codeshareStatus': 'IsOperator', 'isCargo': False, 'aircraft': {'model': 'Boeing 767-400(ER)'}, 'airline': {'name': 'United', 'iata': 'UA', 'icao': 'UAL'}}, {'departure': {'airport': {'icao': 'OTHH', 'iata': 'DOH', 'name': 'Doha', 'timeZone': 'Asia/Qatar'}, 'scheduledTime': {'utc': '2024-10-08 23:10Z', 'local': '2024-10-09 02:10+03:00'}, 'revisedTime': {'utc': '2024-10-08 23:10Z', 'local': '2024-10-09 02:10+03:00'}, 'quality': ['Basic', 'Live']}, 'arrival': {'scheduledTime': {'utc': '2024-10-09 05:20Z', 'local': '2024-10-09 07:20+02:00'}, 'revisedTime': {'utc': '2024-10-09 05:20Z', 'local': '2024-10-09 07:20+02:00'}, 'terminal': '1', 'gate': 'X07', 'baggageBelt': 'A4', 'quality': ['Basic', 'Live']}, 'number': 'QR 79', 'status': 'Expected', 'codeshareStatus': 'IsOperator', 'isCargo': False, 'aircraft': {'model': 'Boeing 787-9'}, 'airline': {'name': 'Qatar Airways', 'iata': 'QR', 'icao': 'QTR'}}, {'departure': {'airport': {'icao': 'EDDS', 'iata': 'STR', 'name': 'Stuttgart', 'timeZone': 'Europe/Berlin'}, 'scheduledTime': {'utc': '2024-10-09 04:15Z', 'local': '2024-10-09 06:15+02:00'}, 'revisedTime': {'utc': '2024-10-09 04:15Z', 'local': '2024-10-09 06:15+02:00'}, 'terminal': '3', 'quality': ['Basic', 'Live']}, 'arrival': {'scheduledTime': {'utc': '2024-10-09 05:25Z', 'local': '2024-10-09 07:25+02:00'}, 'revisedTime': {'utc': '2024-10-09 05:25Z', 'local': '2024-10-09 07:25+02:00'}, 'terminal': '1', 'gate': 'A02', 'baggageBelt': 'A3', 'quality': ['Basic', 'Live']}, 'number': 'EW 2002', 'status': 'Expected', 'codeshareStatus': 'IsOperator', 'isCargo': False, 'aircraft': {'model': 'Airbus A320-200 (sharklets)'}, 'airline': {'name': 'Eurowings', 'iata': 'EW', 'icao': 'EWG'}}, {'departure': {'airport': {'icao': 'EDDS', 'iata': 'STR', 'name': 'Stuttgart', 'timeZone': 'Europe/Berlin'}, 'scheduledTime': {'utc': '2024-10-09 04:15Z', 'local': '2024-10-09 06:15+02:00'}, 'revisedTime': {'utc': '2024-10-09 04:15Z', 'local': '2024-10-09 06:15+02:00'}, 'terminal': '3', 'quality': ['Basic', 'Live']}, 'arrival': {'scheduledTime': {'utc': '2024-10-09 05:25Z', 'local': '2024-10-09 07:25+02:00'}, 'revisedTime': {'utc': '2024-10-09 05:25Z', 'local': '2024-10-09 07:25+02:00'}, 'terminal': '1', 'gate': 'A02', 'baggageBelt': 'A3', 'quality': ['Basic', 'Live']}, 'number': 'LH 5385', 'status': 'Expected', 'codeshareStatus': 'IsCodeshared', 'isCargo': False, 'aircraft': {'model': 'Airbus A320-200 (sharklets)'}, 'airline': {'name': 'Lufthansa', 'iata': 'LH', 'icao': 'DLH'}}, {'departure': {'airport': {'icao': 'EDDF', 'iata': 'FRA', 'name': 'Frankfurt-am-Main', 'timeZone': 'Europe/Berlin'}, 'scheduledTime': {'utc': '2024-10-09 04:15Z', 'local': '2024-10-09 06:15+02:00'}, 'revisedTime': {'utc': '2024-10-09 04:15Z', 'local': '2024-10-09 06:15+02:00'}, 'terminal': '1', 'checkInDesk': '259-335', 'gate': 'A14', 'quality': ['Basic', 'Live']}, 'arrival': {'scheduledTime': {'utc': '2024-10-09 05:25Z', 'local': '2024-10-09 07:25+02:00'}, 'revisedTime': {'utc': '2024-10-09 05:25Z', 'local': '2024-10-09 07:25+02:00'}, 'terminal': '1', 'gate': 'B06', 'baggageBelt': 'B4', 'quality': ['Basic', 'Live']}, 'number': 'LH 172', 'status': 'Expected', 'codeshareStatus': 'IsOperator', 'isCargo': False, 'aircraft': {'reg': 'D-AIWG', 'modeS': '3C66E7', 'model': 'Airbus A320-200 (sharklets)'}, 'airline': {'name': 'Lufthansa', 'iata': 'LH', 'icao': 'DLH'}}, {'departure': {'airport': {'icao': 'LTAI', 'iata': 'AYT', 'name': 'Antalya', 'timeZone': 'Europe/Istanbul'}, 'scheduledTime': {'utc': '2024-10-09 01:55Z', 'local': '2024-10-09 04:55+03:00'}, 'terminal': '1', 'quality': ['Basic']}, 'arrival': {'scheduledTime': {'utc': '2024-10-09 05:30Z', 'local': '2024-10-09 07:30+02:00'}, 'revisedTime': {'utc': '2024-10-09 05:30Z', 'local': '2024-10-09 07:30+02:00'}, 'terminal': '1', 'gate': 'N01', 'baggageBelt': 'B4', 'quality': ['Basic', 'Live']}, 'number': 'XQ 668', 'status': 'Expected', 'codeshareStatus': 'IsOperator', 'isCargo': False, 'aircraft': {'model': 'Boeing 737-700 (winglets)'}, 'airline': {'name': 'Sun Express', 'iata': 'XQ', 'icao': 'SXS'}}, {'departure': {'airport': {'icao': 'LOWW', 'iata': 'VIE', 'name': 'Vienna', 'timeZone': 'Europe/Vienna'}, 'scheduledTime': {'utc': '2024-10-09 04:20Z', 'local': '2024-10-09 06:20+02:00'}, 'revisedTime': {'utc': '2024-10-09 04:20Z', 'local': '2024-10-09 06:20+02:00'}, 'terminal': '3', 'checkInDesk': '351-372', 'quality': ['Basic', 'Live']}, 'arrival': {'scheduledTime': {'utc': '2024-10-09 05:30Z', 'local': '2024-10-09 07:30+02:00'}, 'revisedTime': {'utc': '2024-10-09 05:30Z', 'local': '2024-10-09 07:30+02:00'}, 'terminal': '1', 'gate': 'A01', 'baggageBelt': 'A3', 'quality': ['Basic', 'Live']}, 'number': 'OS 221', 'status': 'Expected', 'codeshareStatus': 'IsOperator', 'isCargo': False, 'aircraft': {'model': 'Airbus A320'}, 'airline': {'name': 'Austrian', 'iata': 'OS', 'icao': 'AUA'}}, {'departure': {'airport': {'icao': 'EDDK', 'iata': 'CGN', 'name': 'Cologne', 'timeZone': 'Europe/Berlin'}, 'scheduledTime': {'utc': '2024-10-09 04:30Z', 'local': '2024-10-09 06:30+02:00'}, 'terminal': '1', 'quality': ['Basic']}, 'arrival': {'scheduledTime': {'utc': '2024-10-09 05:40Z', 'local': '2024-10-09 07:40+02:00'}, 'revisedTime': {'utc': '2024-10-09 05:40Z', 'local': '2024-10-09 07:40+02:00'}, 'terminal': '1', 'gate': 'B03', 'baggageBelt': 'B1', 'quality': ['Basic', 'Live']}, 'number': 'EW 12', 'status': 'Expected', 'codeshareStatus': 'IsOperator', 'isCargo': False, 'aircraft': {'model': 'Airbus A320-200 (sharklets)'}, 'airline': {'name': 'Eurowings', 'iata': 'EW', 'icao': 'EWG'}}, {'departure': {'airport': {'icao': 'LFPG', 'iata': 'CDG', 'name': 'Paris', 'timeZone': 'Europe/Paris'}, 'scheduledTime': {'utc': '2024-10-09 04:00Z', 'local': '2024-10-09 06:00+02:00'}, 'terminal': '2D', 'quality': ['Basic']}, 'arrival': {'scheduledTime': {'utc': '2024-10-09 05:50Z', 'local': '2024-10-09 07:50+02:00'}, 'revisedTime': {'utc': '2024-10-09 05:50Z', 'local': '2024-10-09 07:50+02:00'}, 'terminal': '1', 'gate': 'A35', 'baggageBelt': 'A3', 'quality': ['Basic', 'Live']}, 'number': 'U2 4631', 'status': 'Expected', 'codeshareStatus': 'IsOperator', 'isCargo': False, 'aircraft': {'model': 'Airbus A320-200'}, 'airline': {'name': 'easyJet', 'iata': 'U2', 'icao': 'EZY'}}, {'departure': {'airport': {'icao': 'LFPG', 'iata': 'CDG', 'name': 'Paris', 'timeZone': 'Europe/Paris'}, 'scheduledTime': {'utc': '2024-10-09 04:00Z', 'local': '2024-10-09 06:00+02:00'}, 'terminal': '2D', 'quality': ['Basic']}, 'arrival': {'scheduledTime': {'utc': '2024-10-09 05:50Z', 'local': '2024-10-09 07:50+02:00'}, 'revisedTime': {'utc': '2024-10-09 05:50Z', 'local': '2024-10-09 07:50+02:00'}, 'terminal': '1', 'gate': 'A35', 'baggageBelt': 'A3', 'quality': ['Basic', 'Live']}, 'number': 'EC 4631', 'status': 'Expected', 'codeshareStatus': 'IsCodeshared', 'isCargo': False, 'aircraft': {'model': 'Airbus A320-200'}, 'airline': {'name': 'EasyJet Europe', 'iata': 'EC', 'icao': 'EJU'}}, {'departure': {'airport': {'icao': 'KJFK', 'iata': 'JFK', 'name': 'New York', 'timeZone': 'America/New_York'}, 'scheduledTime': {'utc': '2024-10-08 21:35Z', 'local': '2024-10-08 17:35-04:00'}, 'terminal': '4', 'quality': ['Basic']}, 'arrival': {'scheduledTime': {'utc': '2024-10-09 05:50Z', 'local': '2024-10-09 07:50+02:00'}, 'revisedTime': {'utc': '2024-10-09 05:50Z', 'local': '2024-10-09 07:50+02:00'}, 'terminal': '1', 'gate': 'Y02', 'baggageBelt': 'B3', 'quality': ['Basic', 'Live']}, 'number': 'DL 92', 'status': 'Expected', 'codeshareStatus': 'IsOperator', 'isCargo': False, 'aircraft': {'model': 'Boeing 767-300 (winglets)'}, 'airline': {'name': 'Delta Air Lines', 'iata': 'DL', 'icao': 'DAL'}}, {'departure': {'airport': {'icao': 'LIME', 'iata': 'BGY', 'name': 'Bergamo', 'timeZone': 'Europe/Rome'}, 'scheduledTime': {'utc': '2024-10-09 04:10Z', 'local': '2024-10-09 06:10+02:00'}, 'quality': ['Basic']}, 'arrival': {'scheduledTime': {'utc': '2024-10-09 05:50Z', 'local': '2024-10-09 07:50+02:00'}, 'revisedTime': {'utc': '2024-10-09 05:50Z', 'local': '2024-10-09 07:50+02:00'}, 'terminal': '2', 'gate': 'Z32', 'baggageBelt': 'C3', 'quality': ['Basic', 'Live']}, 'number': 'FR 3312', 'status': 'Expected', 'codeshareStatus': 'IsOperator', 'isCargo': False, 'aircraft': {'model': 'Boeing 737-800 (winglets)'}, 'airline': {'name': 'Ryanair', 'iata': 'FR', 'icao': 'RYR'}}, {'departure': {'airport': {'icao': 'EDDF', 'iata': 'FRA', 'name': 'Frankfurt-am-Main', 'timeZone': 'Europe/Berlin'}, 'scheduledTime': {'utc': '2024-10-09 04:45Z', 'local': '2024-10-09 06:45+02:00'}, 'revisedTime': {'utc': '2024-10-09 04:45Z', 'local': '2024-10-09 06:45+02:00'}, 'terminal': '1', 'checkInDesk': '259-335', 'gate': 'A18', 'quality': ['Basic', 'Live']}, 'arrival': {'scheduledTime': {'utc': '2024-10-09 05:55Z', 'local': '2024-10-09 07:55+02:00'}, 'revisedTime': {'utc': '2024-10-09 05:55Z', 'local': '2024-10-09 07:55+02:00'}, 'terminal': '1', 'gate': 'B20', 'baggageBelt': 'B2', 'quality': ['Basic', 'Live']}, 'number': 'LH 170', 'status': 'Expected', 'codeshareStatus': 'IsOperator', 'isCargo': False, 'aircraft': {'reg': 'D-AISZ', 'modeS': '3C667A', 'model': 'Airbus A321-100'}, 'airline': {'name': 'Lufthansa', 'iata': 'LH', 'icao': 'DLH'}}, {'departure': {'airport': {'icao': 'EDDL', 'iata': 'DUS', 'name': 'Düsseldorf', 'timeZone': 'Europe/Berlin'}, 'scheduledTime': {'utc': '2024-10-09 04:45Z', 'local': '2024-10-09 06:45+02:00'}, 'revisedTime': {'utc': '2024-10-09 04:45Z', 'local': '2024-10-09 06:45+02:00'}, 'terminal': 'B', 'checkInDesk': '151,170', 'gate': 'A51', 'quality': ['Basic', 'Live']}, 'arrival': {'scheduledTime': {'utc': '2024-10-09 05:55Z', 'local': '2024-10-09 07:55+02:00'}, 'revisedTime': {'utc': '2024-10-09 05:55Z', 'local': '2024-10-09 07:55+02:00'}, 'terminal': '1', 'gate': 'A03', 'baggageBelt': 'A3', 'quality': ['Basic', 'Live']}, 'number': 'EW 9048', 'callSign': 'GWI52FP', 'status': 'Expected', 'codeshareStatus': 'IsOperator', 'isCargo': False, 'aircraft': {'reg': 'D-AENF', 'model': 'Airbus A320-200 (sharklets)'}, 'airline': {'name': 'Eurowings', 'iata': 'EW', 'icao': 'EWG'}}, {'departure': {'airport': {'icao': 'EDDM', 'iata': 'MUC', 'name': 'Munich', 'timeZone': 'Europe/Berlin'}, 'scheduledTime': {'utc': '2024-10-09 05:00Z', 'local': '2024-10-09 07:00+02:00'}, 'revisedTime': {'utc': '2024-10-09 05:00Z', 'local': '2024-10-09 07:00+02:00'}, 'terminal': '2', 'quality': ['Basic', 'Live']}, 'arrival': {'scheduledTime': {'utc': '2024-10-09 06:05Z', 'local': '2024-10-09 08:05+02:00'}, 'revisedTime': {'utc': '2024-10-09 06:05Z', 'local': '2024-10-09 08:05+02:00'}, 'terminal': '1', 'gate': 'B07', 'baggageBelt': 'B1', 'quality': ['Basic', 'Live']}, 'number': 'LH 1928', 'status': 'Expected', 'codeshareStatus': 'IsOperator', 'isCargo': False, 'aircraft': {'model': 'Airbus A320-200 (sharklets)'}, 'airline': {'name': 'Lufthansa', 'iata': 'LH', 'icao': 'DLH'}}, {'departure': {'airport': {'icao': 'EDDR', 'iata': 'SCN', 'name': 'Saarbrücken', 'timeZone': 'Europe/Berlin'}, 'scheduledTime': {'utc': '2024-10-09 04:30Z', 'local': '2024-10-09 06:30+02:00'}, 'quality': ['Basic']}, 'arrival': {'scheduledTime': {'utc': '2024-10-09 06:05Z', 'local': '2024-10-09 08:05+02:00'}, 'revisedTime': {'utc': '2024-10-09 06:05Z', 'local': '2024-10-09 08:05+02:00'}, 'terminal': '2', 'gate': 'Z36', 'baggageBelt': 'C2', 'quality': ['Basic', 'Live']}, 'number': 'DX 121', 'status': 'Expected', 'codeshareStatus': 'IsOperator', 'isCargo': False, 'aircraft': {'model': 'ATR 42-300'}, 'airline': {'name': 'Danish Air', 'iata': 'DX', 'icao': 'DTR'}}, {'departure': {'airport': {'icao': 'ELLX', 'iata': 'LUX', 'name': 'Luxembourg', 'timeZone': 'Europe/Luxembourg'}, 'scheduledTime': {'utc': '2024-10-09 04:35Z', 'local': '2024-10-09 06:35+02:00'}, 'revisedTime': {'utc': '2024-10-09 04:35Z', 'local': '2024-10-09 06:35+02:00'}, 'terminal': 'A', 'quality': ['Basic', 'Live']}, 'arrival': {'scheduledTime': {'utc': '2024-10-09 06:05Z', 'local': '2024-10-09 08:05+02:00'}, 'revisedTime': {'utc': '2024-10-09 06:05Z', 'local': '2024-10-09 08:05+02:00'}, 'terminal': '1', 'gate': 'S01', 'baggageBelt': 'B3', 'quality': ['Basic', 'Live']}, 'number': 'LG 9471', 'status': 'Expected', 'codeshareStatus': 'IsOperator', 'isCargo': False, 'aircraft': {'model': 'Bombardier Dash 8 Q400 / DHC-8-400'}, 'airline': {'name': 'Luxair', 'iata': 'LG', 'icao': 'LGL'}}, {'departure': {'airport': {'icao': 'EFHK', 'iata': 'HEL', 'name': 'Helsinki', 'timeZone': 'Europe/Helsinki'}, 'scheduledTime': {'utc': '2024-10-09 04:05Z', 'local': '2024-10-09 07:05+03:00'}, 'revisedTime': {'utc': '2024-10-09 04:05Z', 'local': '2024-10-09 07:05+03:00'}, 'terminal': '2', 'checkInDesk': '211', 'quality': ['Basic', 'Live']}, 'arrival': {'scheduledTime': {'utc': '2024-10-09 06:05Z', 'local': '2024-10-09 08:05+02:00'}, 'revisedTime': {'utc': '2024-10-09 06:05Z', 'local': '2024-10-09 08:05+02:00'}, 'terminal': '1', 'gate': 'A32', 'baggageBelt': 'A4', 'quality': ['Basic', 'Live']}, 'number': 'AY 1431', 'status': 'Expected', 'codeshareStatus': 'IsOperator', 'isCargo': False, 'aircraft': {'model': 'Airbus A321-100'}, 'airline': {'name': 'Finnair', 'iata': 'AY', 'icao': 'FIN'}}, {'departure': {'airport': {'icao': 'LOWW', 'iata': 'VIE', 'name': 'Vienna', 'timeZone': 'Europe/Vienna'}, 'scheduledTime': {'utc': '2024-10-09 05:00Z', 'local': '2024-10-09 07:00+02:00'}, 'revisedTime': {'utc': '2024-10-09 05:00Z', 'local': '2024-10-09 07:00+02:00'}, 'terminal': '3', 'checkInDesk': '351-372', 'quality': ['Basic', 'Live']}, 'arrival': {'scheduledTime': {'utc': '2024-10-09 06:10Z', 'local': '2024-10-09 08:10+02:00'}, 'revisedTime': {'utc': '2024-10-09 06:10Z', 'local': '2024-10-09 08:10+02:00'}, 'terminal': '1', 'gate': 'A06', 'baggageBelt': 'A4', 'quality': ['Basic', 'Live']}, 'number': 'OS 223', 'status': 'Expected', 'codeshareStatus': 'IsOperator', 'isCargo': False, 'aircraft': {'model': 'Airbus A321-100'}, 'airline': {'name': 'Austrian', 'iata': 'OS', 'icao': 'AUA'}}, {'departure': {'airport': {'icao': 'LIRP', 'iata': 'PSA', 'name': 'Pisa', 'timeZone': 'Europe/Rome'}, 'scheduledTime': {'utc': '2024-10-09 04:20Z', 'local': '2024-10-09 06:20+02:00'}, 'quality': ['Basic']}, 'arrival': {'scheduledTime': {'utc': '2024-10-09 06:15Z', 'local': '2024-10-09 08:15+02:00'}, 'revisedTime': {'utc': '2024-10-09 06:15Z', 'local': '2024-10-09 08:15+02:00'}, 'terminal': '2', 'gate': 'Z30', 'baggageBelt': 'C2', 'quality': ['Basic', 'Live']}, 'number': 'FR 9955', 'status': 'Expected', 'codeshareStatus': 'IsOperator', 'isCargo': False, 'aircraft': {'model': 'Boeing 737 MAX 8 '}, 'airline': {'name': 'Ryanair', 'iata': 'FR', 'icao': 'RYR'}}, {'departure': {'airport': {'icao': 'EHAM', 'iata': 'AMS', 'name': 'Amsterdam', 'timeZone': 'Europe/Amsterdam'}, 'scheduledTime': {'utc': '2024-10-09 05:00Z', 'local': '2024-10-09 07:00+02:00'}, 'revisedTime': {'utc': '2024-10-09 05:00Z', 'local': '2024-10-09 07:00+02:00'}, 'terminal': '1', 'checkInDesk': '6-8', 'quality': ['Basic', 'Live']}, 'arrival': {'scheduledTime': {'utc': '2024-10-09 06:20Z', 'local': '2024-10-09 08:20+02:00'}, 'revisedTime': {'utc': '2024-10-09 06:20Z', 'local': '2024-10-09 08:20+02:00'}, 'terminal': '1', 'gate': 'A20', 'baggageBelt': 'A3', 'quality': ['Basic', 'Live']}, 'number': 'KL 1771', 'status': 'Expected', 'codeshareStatus': 'IsOperator', 'isCargo': False, 'aircraft': {'reg': 'PH-BCE', 'modeS': '484FDF', 'model': 'Boeing 737-700 (winglets)'}, 'airline': {'name': 'KLM', 'iata': 'KL', 'icao': 'KLM'}}, {'departure': {'airport': {'icao': 'UGKO', 'iata': 'KUT', 'name': 'Kutaisi', 'timeZone': 'Asia/Tbilisi'}, 'scheduledTime': {'utc': '2024-10-09 02:20Z', 'local': '2024-10-09 06:20+04:00'}, 'quality': ['Basic']}, 'arrival': {'scheduledTime': {'utc': '2024-10-09 06:30Z', 'local': '2024-10-09 08:30+02:00'}, 'revisedTime': {'utc': '2024-10-09 06:30Z', 'local': '2024-10-09 08:30+02:00'}, 'terminal': '2', 'gate': 'Z42', 'baggageBelt': 'C2', 'quality': ['Basic', 'Live']}, 'number': 'W6 7909', 'status': 'Expected', 'codeshareStatus': 'IsOperator', 'isCargo': False, 'aircraft': {'model': 'Airbus A321-100'}, 'airline': {'name': 'Wizz Air', 'iata': 'W6', 'icao': 'WZZ'}}, {'departure': {'airport': {'icao': 'LTAI', 'iata': 'AYT', 'name': 'Antalya', 'timeZone': 'Europe/Istanbul'}, 'scheduledTime': {'utc': '2024-10-09 03:05Z', 'local': '2024-10-09 06:05+03:00'}, 'terminal': '1', 'quality': ['Basic']}, 'arrival': {'scheduledTime': {'utc': '2024-10-09 06:35Z', 'local': '2024-10-09 08:35+02:00'}, 'revisedTime': {'utc': '2024-10-09 06:35Z', 'local': '2024-10-09 08:35+02:00'}, 'terminal': '1', 'gate': 'X01', 'baggageBelt': 'A3', 'quality': ['Basic', 'Live']}, 'number': 'PC 5067', 'status': 'Expected', 'codeshareStatus': 'IsOperator', 'isCargo': False, 'aircraft': {'model': 'Airbus A320 NEO'}, 'airline': {'name': 'Pegasus', 'iata': 'PC', 'icao': 'PGT'}}, {'departure': {'airport': {'icao': 'LIML', 'iata': 'LIN', 'name': 'Milan', 'timeZone': 'Europe/Rome'}, 'quality': []}, 'arrival': {'scheduledTime': {'utc': '2024-10-09 06:35Z', 'local': '2024-10-09 08:35+02:00'}, 'revisedTime': {'utc': '2024-10-09 06:35Z', 'local': '2024-10-09 08:35+02:00'}, 'terminal': '1', 'gate': 'A30', 'baggageBelt': 'A3', 'quality': ['Basic', 'Live']}, 'number': 'U2 5068', 'status': 'Expected', 'codeshareStatus': 'IsOperator', 'isCargo': False, 'aircraft': {'model': 'Airbus A320-200'}, 'airline': {'name': 'easyJet', 'iata': 'U2', 'icao': 'EZY'}}, {'departure': {'airport': {'icao': 'LIML', 'iata': 'LIN', 'name': 'Milan', 'timeZone': 'Europe/Rome'}, 'quality': []}, 'arrival': {'scheduledTime': {'utc': '2024-10-09 06:35Z', 'local': '2024-10-09 08:35+02:00'}, 'revisedTime': {'utc': '2024-10-09 06:35Z', 'local': '2024-10-09 08:35+02:00'}, 'terminal': '1', 'gate': 'A30', 'baggageBelt': 'A3', 'quality': ['Basic', 'Live']}, 'number': 'EC 5068', 'status': 'Expected', 'codeshareStatus': 'IsCodeshared', 'isCargo': False, 'aircraft': {'model': 'Airbus A320-200'}, 'airline': {'name': 'EasyJet Europe', 'iata': 'EC', 'icao': 'EJU'}}, {'departure': {'airport': {'icao': 'LDDU', 'iata': 'DBV', 'name': 'Dubrovnik', 'timeZone': 'Europe/Zagreb'}, 'scheduledTime': {'utc': '2024-10-09 04:30Z', 'local': '2024-10-09 06:30+02:00'}, 'quality': ['Basic']}, 'arrival': {'scheduledTime': {'utc': '2024-10-09 06:40Z', 'local': '2024-10-09 08:40+02:00'}, 'revisedTime': {'utc': '2024-10-09 06:40Z', 'local': '2024-10-09 08:40+02:00'}, 'terminal': '2', 'gate': 'Z34', 'baggageBelt': 'C1', 'quality': ['Basic', 'Live']}, 'number': 'FR 5979', 'status': 'Expected', 'codeshareStatus': 'IsOperator', 'isCargo': False, 'aircraft': {'model': 'Boeing 737 MAX 8 '}, 'airline': {'name': 'Ryanair', 'iata': 'FR', 'icao': 'RYR'}}, {'departure': {'airport': {'icao': 'LSZH', 'iata': 'ZRH', 'name': 'Zurich', 'timeZone': 'Europe/Zurich'}, 'scheduledTime': {'utc': '2024-10-09 05:20Z', 'local': '2024-10-09 07:20+02:00'}, 'revisedTime': {'utc': '2024-10-09 05:20Z', 'local': '2024-10-09 07:20+02:00'}, 'checkInDesk': '1', 'quality': ['Basic', 'Live']}, 'arrival': {'scheduledTime': {'utc': '2024-10-09 06:45Z', 'local': '2024-10-09 08:45+02:00'}, 'revisedTime': {'utc': '2024-10-09 06:45Z', 'local': '2024-10-09 08:45+02:00'}, 'terminal': '1', 'gate': 'A17', 'baggageBelt': 'A2', 'quality': ['Basic', 'Live']}, 'number': 'LX 974', 'status': 'Expected', 'codeshareStatus': 'IsOperator', 'isCargo': False, 'aircraft': {'model': 'Airbus A320'}, 'airline': {'name': 'SWISS', 'iata': 'LX', 'icao': 'SWR'}}, {'departure': {'airport': {'icao': 'OEJN', 'iata': 'JED', 'name': 'Jeddah', 'timeZone': 'Asia/Riyadh'}, 'scheduledTime': {'utc': '2024-10-09 00:55Z', 'local': '2024-10-09 03:55+03:00'}, 'terminal': '1', 'quality': ['Basic']}, 'arrival': {'scheduledTime': {'utc': '2024-10-09 06:45Z', 'local': '2024-10-09 08:45+02:00'}, 'revisedTime': {'utc': '2024-10-09 06:45Z', 'local': '2024-10-09 08:45+02:00'}, 'terminal': '1', 'gate': 'X02', 'baggageBelt': 'A2', 'quality': ['Basic', 'Live']}, 'number': 'XY 643', 'status': 'Expected', 'codeshareStatus': 'IsOperator', 'isCargo': False, 'aircraft': {'model': 'Airbus A320 NEO'}, 'airline': {'name': 'flynas', 'iata': 'XY', 'icao': 'KNE'}}, {'departure': {'airport': {'icao': 'LFPO', 'iata': 'ORY', 'name': 'Paris', 'timeZone': 'Europe/Paris'}, 'scheduledTime': {'utc': '2024-10-09 05:10Z', 'local': '2024-10-09 07:10+02:00'}, 'terminal': '1', 'quality': ['Basic']}, 'arrival': {'scheduledTime': {'utc': '2024-10-09 06:50Z', 'local': '2024-10-09 08:50+02:00'}, 'revisedTime': {'utc': '2024-10-09 06:50Z', 'local': '2024-10-09 08:50+02:00'}, 'terminal': '1', 'gate': 'A34', 'baggageBelt': 'A3', 'quality': ['Basic', 'Live']}, 'number': 'EC 4897', 'status': 'Expected', 'codeshareStatus': 'IsCodeshared', 'isCargo': False, 'aircraft': {'model': 'Airbus A320-200'}, 'airline': {'name': 'EasyJet Europe', 'iata': 'EC', 'icao': 'EJU'}}, {'departure': {'airport': {'icao': 'LFPO', 'iata': 'ORY', 'name': 'Paris', 'timeZone': 'Europe/Paris'}, 'scheduledTime': {'utc': '2024-10-09 05:10Z', 'local': '2024-10-09 07:10+02:00'}, 'terminal': '1', 'quality': ['Basic']}, 'arrival': {'scheduledTime': {'utc': '2024-10-09 06:50Z', 'local': '2024-10-09 08:50+02:00'}, 'revisedTime': {'utc': '2024-10-09 06:50Z', 'local': '2024-10-09 08:50+02:00'}, 'terminal': '1', 'gate': 'A34', 'baggageBelt': 'A3', 'quality': ['Basic', 'Live']}, 'number': 'U2 4897', 'status': 'Expected', 'codeshareStatus': 'IsOperator', 'isCargo': False, 'aircraft': {'model': 'Airbus A320-200'}, 'airline': {'name': 'easyJet', 'iata': 'U2', 'icao': 'EZY'}}, {'departure': {'airport': {'icao': 'EDDF', 'iata': 'FRA', 'name': 'Frankfurt-am-Main', 'timeZone': 'Europe/Berlin'}, 'scheduledTime': {'utc': '2024-10-09 05:45Z', 'local': '2024-10-09 07:45+02:00'}, 'revisedTime': {'utc': '2024-10-09 05:45Z', 'local': '2024-10-09 07:45+02:00'}, 'terminal': '1', 'checkInDesk': '259-335', 'gate': 'A14', 'quality': ['Basic', 'Live']}, 'arrival': {'scheduledTime': {'utc': '2024-10-09 06:55Z', 'local': '2024-10-09 08:55+02:00'}, 'revisedTime': {'utc': '2024-10-09 06:55Z', 'local': '2024-10-09 08:55+02:00'}, 'terminal': '1', 'gate': 'B06', 'baggageBelt': 'B3', 'quality': ['Basic', 'Live']}, 'number': 'LH 174', 'status': 'Expected', 'codeshareStatus': 'IsOperator', 'isCargo': False, 'aircraft': {'reg': 'D-AIRP', 'modeS': '3C6650', 'model': 'Airbus A321-100'}, 'airline': {'name': 'Lufthansa', 'iata': 'LH', 'icao': 'DLH'}}, {'departure': {'airport': {'icao': 'LIPZ', 'iata': 'VCE', 'name': 'Venice', 'timeZone': 'Europe/Rome'}, 'scheduledTime': {'utc': '2024-10-09 05:10Z', 'local': '2024-10-09 07:10+02:00'}, 'quality': ['Basic']}, 'arrival': {'scheduledTime': {'utc': '2024-10-09 06:55Z', 'local': '2024-10-09 08:55+02:00'}, 'revisedTime': {'utc': '2024-10-09 06:55Z', 'local': '2024-10-09 08:55+02:00'}, 'terminal': '1', 'gate': 'A37', 'baggageBelt': 'A3', 'quality': ['Basic', 'Live']}, 'number': 'U2 4075', 'status': 'Expected', 'codeshareStatus': 'IsOperator', 'isCargo': False, 'aircraft': {'model': 'Airbus A319'}, 'airline': {'name': 'easyJet', 'iata': 'U2', 'icao': 'EZY'}}, {'departure': {'airport': {'icao': 'LIPZ', 'iata': 'VCE', 'name': 'Venice', 'timeZone': 'Europe/Rome'}, 'scheduledTime': {'utc': '2024-10-09 05:10Z', 'local': '2024-10-09 07:10+02:00'}, 'quality': ['Basic']}, 'arrival': {'scheduledTime': {'utc': '2024-10-09 06:55Z', 'local': '2024-10-09 08:55+02:00'}, 'revisedTime': {'utc': '2024-10-09 06:55Z', 'local': '2024-10-09 08:55+02:00'}, 'terminal': '1', 'gate': 'A37', 'baggageBelt': 'A3', 'quality': ['Basic', 'Live']}, 'number': 'EC 4075', 'status': 'Expected', 'codeshareStatus': 'IsCodeshared', 'isCargo': False, 'aircraft': {'model': 'Airbus A319'}, 'airline': {'name': 'EasyJet Europe', 'iata': 'EC', 'icao': 'EJU'}}, {'departure': {'airport': {'icao': 'LFPG', 'iata': 'CDG', 'name': 'Paris', 'timeZone': 'Europe/Paris'}, 'scheduledTime': {'utc': '2024-10-09 05:15Z', 'local': '2024-10-09 07:15+02:00'}, 'terminal': '2F', 'quality': ['Basic']}, 'arrival': {'scheduledTime': {'utc': '2024-10-09 06:55Z', 'local': '2024-10-09 08:55+02:00'}, 'revisedTime': {'utc': '2024-10-09 06:55Z', 'local': '2024-10-09 08:55+02:00'}, 'terminal': '1', 'gate': 'B03', 'baggageBelt': 'B1', 'quality': ['Basic', 'Live']}, 'number': 'AF 1434', 'status': 'Expected', 'codeshareStatus': 'IsOperator', 'isCargo': False, 'aircraft': {'model': 'Airbus A320'}, 'airline': {'name': 'Air France', 'iata': 'AF', 'icao': 'AFR'}}, {'departure': {'airport': {'icao': 'ENGM', 'iata': 'OSL', 'name': 'Oslo', 'timeZone': 'Europe/Oslo'}, 'scheduledTime': {'utc': '2024-10-09 05:30Z', 'local': '2024-10-09 07:30+02:00'}, 'revisedTime': {'utc': '2024-10-09 05:30Z', 'local': '2024-10-09 07:30+02:00'}, 'checkInDesk': '123', 'quality': ['Basic', 'Live']}, 'arrival': {'scheduledTime': {'utc': '2024-10-09 07:05Z', 'local': '2024-10-09 09:05+02:00'}, 'revisedTime': {'utc': '2024-10-09 07:05Z', 'local': '2024-10-09 09:05+02:00'}, 'terminal': '2', 'gate': 'Z32', 'baggageBelt': 'C3', 'quality': ['Basic', 'Live']}, 'number': 'DY 1102', 'status': 'Expected', 'codeshareStatus': 'IsOperator', 'isCargo': False, 'aircraft': {'model': 'Boeing 737-800 (winglets)'}, 'airline': {'name': 'Norwegian Air Shuttle', 'iata': 'DY', 'icao': 'NOZ'}}, {'departure': {'airport': {'icao': 'EDDM', 'iata': 'MUC', 'name': 'Munich', 'timeZone': 'Europe/Berlin'}, 'scheduledTime': {'utc': '2024-10-09 06:00Z', 'local': '2024-10-09 08:00+02:00'}, 'revisedTime': {'utc': '2024-10-09 06:00Z', 'local': '2024-10-09 08:00+02:00'}, 'terminal': '2', 'quality': ['Basic', 'Live']}, 'arrival': {'scheduledTime': {'utc': '2024-10-09 07:05Z', 'local': '2024-10-09 09:05+02:00'}, 'revisedTime': {'utc': '2024-10-09 07:05Z', 'local': '2024-10-09 09:05+02:00'}, 'terminal': '1', 'gate': 'B07', 'baggageBelt': 'B3', 'quality': ['Basic', 'Live']}, 'number': 'LH 1930', 'status': 'Expected', 'codeshareStatus': 'IsOperator', 'isCargo': False, 'aircraft': {'model': 'Airbus A319'}, 'airline': {'name': 'Lufthansa', 'iata': 'LH', 'icao': 'DLH'}}, {'departure': {'airport': {'icao': 'LIME', 'iata': 'BGY', 'name': 'Bergamo', 'timeZone': 'Europe/Rome'}, 'scheduledTime': {'utc': '2024-10-09 05:30Z', 'local': '2024-10-09 07:30+02:00'}, 'quality': ['Basic']}, 'arrival': {'scheduledTime': {'utc': '2024-10-09 07:10Z', 'local': '2024-10-09 09:10+02:00'}, 'revisedTime': {'utc': '2024-10-09 07:10Z', 'local': '2024-10-09 09:10+02:00'}, 'terminal': '2', 'gate': 'Z36', 'baggageBelt': 'C2', 'quality': ['Basic', 'Live']}, 'number': 'FR 4733', 'status': 'Expected', 'codeshareStatus': 'IsOperator', 'isCargo': False, 'aircraft': {'model': 'Boeing 737 MAX 8 '}, 'airline': {'name': 'Ryanair', 'iata': 'FR', 'icao': 'RYR'}}, {'departure': {'airport': {'icao': 'EDDK', 'iata': 'CGN', 'name': 'Cologne', 'timeZone': 'Europe/Berlin'}, 'scheduledTime': {'utc': '2024-10-09 06:10Z', 'local': '2024-10-09 08:10+02:00'}, 'terminal': '1', 'quality': ['Basic']}, 'arrival': {'scheduledTime': {'utc': '2024-10-09 07:20Z', 'local': '2024-10-09 09:20+02:00'}, 'revisedTime': {'utc': '2024-10-09 07:20Z', 'local': '2024-10-09 09:20+02:00'}, 'terminal': '1', 'gate': 'A32', 'baggageBelt': 'A3', 'quality': ['Basic', 'Live']}, 'number': 'EW 8059', 'status': 'Expected', 'codeshareStatus': 'IsOperator', 'isCargo': False, 'aircraft': {'model': 'Airbus A320-200 (sharklets)'}, 'airline': {'name': 'Eurowings', 'iata': 'EW', 'icao': 'EWG'}}, {'departure': {'airport': {'icao': 'LTFM', 'iata': 'IST', 'name': 'Istanbul', 'timeZone': 'Europe/Istanbul'}, 'scheduledTime': {'utc': '2024-10-09 04:30Z', 'local': '2024-10-09 07:30+03:00'}, 'revisedTime': {'utc': '2024-10-09 04:30Z', 'local': '2024-10-09 07:30+03:00'}, 'checkInDesk': 'E-F', 'quality': ['Basic', 'Live']}, 'arrival': {'scheduledTime': {'utc': '2024-10-09 07:20Z', 'local': '2024-10-09 09:20+02:00'}, 'revisedTime': {'utc': '2024-10-09 07:20Z', 'local': '2024-10-09 09:20+02:00'}, 'terminal': '1', 'gate': 'X03', 'baggageBelt': 'A3', 'quality': ['Basic', 'Live']}, 'number': 'TK 1721', 'status': 'Expected', 'codeshareStatus': 'IsOperator', 'isCargo': False, 'aircraft': {'model': 'Airbus A330-300'}, 'airline': {'name': 'Turkish', 'iata': 'TK', 'icao': 'THY'}}, {'departure': {'airport': {'icao': 'LIRN', 'iata': 'NAP', 'name': 'Nápoli', 'timeZone': 'Europe/Rome'}, 'scheduledTime': {'utc': '2024-10-09 05:00Z', 'local': '2024-10-09 07:00+02:00'}, 'quality': ['Basic']}, 'arrival': {'scheduledTime': {'utc': '2024-10-09 07:20Z', 'local': '2024-10-09 09:20+02:00'}, 'revisedTime': {'utc': '2024-10-09 07:20Z', 'local': '2024-10-09 09:20+02:00'}, 'terminal': '1', 'gate': 'A36', 'baggageBelt': 'A3', 'quality': ['Basic', 'Live']}, 'number': 'U2 4265', 'status': 'Expected', 'codeshareStatus': 'IsOperator', 'isCargo': False, 'aircraft': {'model': 'Airbus A320-200'}, 'airline': {'name': 'easyJet', 'iata': 'U2', 'icao': 'EZY'}}, {'departure': {'airport': {'icao': 'LIRN', 'iata': 'NAP', 'name': 'Nápoli', 'timeZone': 'Europe/Rome'}, 'scheduledTime': {'utc': '2024-10-09 05:00Z', 'local': '2024-10-09 07:00+02:00'}, 'quality': ['Basic']}, 'arrival': {'scheduledTime': {'utc': '2024-10-09 07:20Z', 'local': '2024-10-09 09:20+02:00'}, 'revisedTime': {'utc': '2024-10-09 07:20Z', 'local': '2024-10-09 09:20+02:00'}, 'terminal': '1', 'gate': 'A36', 'baggageBelt': 'A3', 'quality': ['Basic', 'Live']}, 'number': 'EC 4265', 'status': 'Expected', 'codeshareStatus': 'IsCodeshared', 'isCargo': False, 'aircraft': {'model': 'Airbus A320-200'}, 'airline': {'name': 'EasyJet Europe', 'iata': 'EC', 'icao': 'EJU'}}, {'departure': {'airport': {'icao': 'EDDL', 'iata': 'DUS', 'name': 'Düsseldorf', 'timeZone': 'Europe/Berlin'}, 'scheduledTime': {'utc': '2024-10-09 06:15Z', 'local': '2024-10-09 08:15+02:00'}, 'revisedTime': {'utc': '2024-10-09 06:15Z', 'local': '2024-10-09 08:15+02:00'}, 'terminal': 'B', 'checkInDesk': '151,170', 'gate': 'A25', 'quality': ['Basic', 'Live']}, 'arrival': {'scheduledTime': {'utc': '2024-10-09 07:25Z', 'local': '2024-10-09 09:25+02:00'}, 'revisedTime': {'utc': '2024-10-09 07:25Z', 'local': '2024-10-09 09:25+02:00'}, 'terminal': '1', 'gate': 'B20', 'baggageBelt': 'B2', 'quality': ['Basic', 'Live']}, 'number': 'EW 8041', 'callSign': 'GWI9XL', 'status': 'Expected', 'codeshareStatus': 'IsOperator', 'isCargo': False, 'aircraft': {'reg': 'D-AGWO', 'modeS': '3C5EEF', 'model': 'Airbus A320-200 (sharklets)'}, 'airline': {'name': 'Eurowings', 'iata': 'EW', 'icao': 'EWG'}}, {'departure': {'airport': {'icao': 'EGKK', 'iata': 'LGW', 'name': 'London', 'timeZone': 'Europe/London'}, 'scheduledTime': {'utc': '2024-10-09 05:40Z', 'local': '2024-10-09 06:40+01:00'}, 'terminal': 'N', 'quality': ['Basic']}, 'arrival': {'scheduledTime': {'utc': '2024-10-09 07:35Z', 'local': '2024-10-09 09:35+02:00'}, 'revisedTime': {'utc': '2024-10-09 07:35Z', 'local': '2024-10-09 09:35+02:00'}, 'terminal': '1', 'gate': 'N01', 'baggageBelt': 'B4', 'quality': ['Basic', 'Live']}, 'number': 'U2 8629', 'status': 'Expected', 'codeshareStatus': 'IsOperator', 'isCargo': False, 'aircraft': {'model': 'Airbus A319'}, 'airline': {'name': 'easyJet', 'iata': 'U2', 'icao': 'EZY'}}, {'departure': {'airport': {'icao': 'LSZH', 'iata': 'ZRH', 'name': 'Zurich', 'timeZone': 'Europe/Zurich'}, 'scheduledTime': {'utc': '2024-10-09 06:05Z', 'local': '2024-10-09 08:05+02:00'}, 'revisedTime': {'utc': '2024-10-09 06:05Z', 'local': '2024-10-09 08:05+02:00'}, 'checkInDesk': '3', 'quality': ['Basic', 'Live']}, 'arrival': {'scheduledTime': {'utc': '2024-10-09 07:40Z', 'local': '2024-10-09 09:40+02:00'}, 'revisedTime': {'utc': '2024-10-09 07:40Z', 'local': '2024-10-09 09:40+02:00'}, 'terminal': '1', 'gate': 'A35', 'baggageBelt': 'A3', 'quality': ['Basic', 'Live']}, 'number': 'U2 5188', 'status': 'Expected', 'codeshareStatus': 'IsOperator', 'isCargo': False, 'aircraft': {'model': 'Airbus A320-200'}, 'airline': {'name': 'easyJet', 'iata': 'U2', 'icao': 'EZY'}}, {'departure': {'airport': {'icao': 'LSZH', 'iata': 'ZRH', 'name': 'Zurich', 'timeZone': 'Europe/Zurich'}, 'scheduledTime': {'utc': '2024-10-09 06:05Z', 'local': '2024-10-09 08:05+02:00'}, 'revisedTime': {'utc': '2024-10-09 06:05Z', 'local': '2024-10-09 08:05+02:00'}, 'checkInDesk': '3', 'quality': ['Basic', 'Live']}, 'arrival': {'scheduledTime': {'utc': '2024-10-09 07:40Z', 'local': '2024-10-09 09:40+02:00'}, 'revisedTime': {'utc': '2024-10-09 07:40Z', 'local': '2024-10-09 09:40+02:00'}, 'terminal': '1', 'gate': 'A35', 'baggageBelt': 'A3', 'quality': ['Basic', 'Live']}, 'number': 'EC 5188', 'status': 'Expected', 'codeshareStatus': 'IsCodeshared', 'isCargo': False, 'aircraft': {'model': 'Airbus A320-200'}, 'airline': {'name': 'EasyJet Europe', 'iata': 'EC', 'icao': 'EJU'}}, {'departure': {'airport': {'icao': 'LLBG', 'iata': 'TLV', 'name': 'Tel Aviv Yafo', 'timeZone': 'Asia/Jerusalem'}, 'scheduledTime': {'utc': '2024-10-09 03:20Z', 'local': '2024-10-09 06:20+03:00'}, 'terminal': '3', 'quality': ['Basic']}, 'arrival': {'scheduledTime': {'utc': '2024-10-09 07:40Z', 'local': '2024-10-09 09:40+02:00'}, 'revisedTime': {'utc': '2024-10-09 07:40Z', 'local': '2024-10-09 09:40+02:00'}, 'terminal': '1', 'gate': 'X19', 'baggageBelt': 'A3', 'quality': ['Basic', 'Live']}, 'number': 'LY 2371', 'status': 'Expected', 'codeshareStatus': 'IsOperator', 'isCargo': False, 'aircraft': {'model': 'Boeing 737-800 (winglets)'}, 'airline': {'name': 'El Al', 'iata': 'LY', 'icao': 'ELY'}}, {'departure': {'airport': {'icao': 'EGGW', 'iata': 'LTN', 'name': 'London', 'timeZone': 'Europe/London'}, 'scheduledTime': {'utc': '2024-10-09 05:55Z', 'local': '2024-10-09 06:55+01:00'}, 'quality': ['Basic']}, 'arrival': {'scheduledTime': {'utc': '2024-10-09 07:40Z', 'local': '2024-10-09 09:40+02:00'}, 'revisedTime': {'utc': '2024-10-09 07:40Z', 'local': '2024-10-09 09:40+02:00'}, 'terminal': '1', 'gate': 'N01', 'baggageBelt': 'B4', 'quality': ['Basic', 'Live']}, 'number': 'U2 2603', 'status': 'Expected', 'codeshareStatus': 'IsOperator', 'isCargo': False, 'aircraft': {'model': 'Airbus A319'}, 'airline': {'name': 'easyJet', 'iata': 'U2', 'icao': 'EZY'}}, {'departure': {'airport': {'icao': 'LDZD', 'iata': 'ZAD', 'name': 'Zadar', 'timeZone': 'Europe/Zagreb'}, 'scheduledTime': {'utc': '2024-10-09 06:05Z', 'local': '2024-10-09 08:05+02:00'}, 'quality': ['Basic']}, 'arrival': {'scheduledTime': {'utc': '2024-10-09 07:45Z', 'local': '2024-10-09 09:45+02:00'}, 'revisedTime': {'utc': '2024-10-09 07:45Z', 'local': '2024-10-09 09:45+02:00'}, 'terminal': '2', 'gate': 'Z33', 'baggageBelt': 'C1', 'quality': ['Basic', 'Live']}, 'number': 'FR 2919', 'status': 'Expected', 'codeshareStatus': 'IsOperator', 'isCargo': False, 'aircraft': {'model': 'Boeing 737-800 (winglets)'}, 'airline': {'name': 'Ryanair', 'iata': 'FR', 'icao': 'RYR'}}, {'departure': {'airport': {'icao': 'LEPA', 'iata': 'PMI', 'name': 'Palma De Mallorca', 'timeZone': 'Europe/Madrid'}, 'scheduledTime': {'utc': '2024-10-09 05:00Z', 'local': '2024-10-09 07:00+02:00'}, 'revisedTime': {'utc': '2024-10-09 05:00Z', 'local': '2024-10-09 07:00+02:00'}, 'terminal': 'N', 'checkInDesk': '078-085', 'quality': ['Basic', 'Live']}, 'arrival': {'scheduledTime': {'utc': '2024-10-09 07:45Z', 'local': '2024-10-09 09:45+02:00'}, 'revisedTime': {'utc': '2024-10-09 07:45Z', 'local': '2024-10-09 09:45+02:00'}, 'terminal': '1', 'gate': 'A33', 'baggageBelt': 'A3', 'quality': ['Basic', 'Live']}, 'number': 'EC 7333', 'status': 'Expected', 'codeshareStatus': 'IsCodeshared', 'isCargo': False, 'aircraft': {'model': 'Airbus A319'}, 'airline': {'name': 'EasyJet Europe', 'iata': 'EC', 'icao': 'EJU'}}, {'departure': {'airport': {'icao': 'LEPA', 'iata': 'PMI', 'name': 'Palma De Mallorca', 'timeZone': 'Europe/Madrid'}, 'scheduledTime': {'utc': '2024-10-09 05:00Z', 'local': '2024-10-09 07:00+02:00'}, 'revisedTime': {'utc': '2024-10-09 05:00Z', 'local': '2024-10-09 07:00+02:00'}, 'terminal': 'N', 'checkInDesk': '078-085', 'quality': ['Basic', 'Live']}, 'arrival': {'scheduledTime': {'utc': '2024-10-09 07:45Z', 'local': '2024-10-09 09:45+02:00'}, 'revisedTime': {'utc': '2024-10-09 07:45Z', 'local': '2024-10-09 09:45+02:00'}, 'terminal': '1', 'gate': 'A33', 'baggageBelt': 'A3', 'quality': ['Basic', 'Live']}, 'number': 'U2 7333', 'status': 'Expected', 'codeshareStatus': 'IsOperator', 'isCargo': False, 'aircraft': {'model': 'Airbus A319'}, 'airline': {'name': 'easyJet', 'iata': 'U2', 'icao': 'EZY'}}, {'departure': {'airport': {'icao': 'EDDF', 'iata': 'FRA', 'name': 'Frankfurt-am-Main', 'timeZone': 'Europe/Berlin'}, 'scheduledTime': {'utc': '2024-10-09 06:45Z', 'local': '2024-10-09 08:45+02:00'}, 'revisedTime': {'utc': '2024-10-09 06:45Z', 'local': '2024-10-09 08:45+02:00'}, 'terminal': '1', 'checkInDesk': '259-335', 'gate': 'A13', 'quality': ['Basic', 'Live']}, 'arrival': {'scheduledTime': {'utc': '2024-10-09 07:55Z', 'local': '2024-10-09 09:55+02:00'}, 'revisedTime': {'utc': '2024-10-09 07:55Z', 'local': '2024-10-09 09:55+02:00'}, 'terminal': '1', 'gate': 'A02', 'baggageBelt': 'A2', 'quality': ['Basic', 'Live']}, 'number': 'LH 176', 'status': 'Expected', 'codeshareStatus': 'IsOperator', 'isCargo': False, 'aircraft': {'reg': 'D-AIWJ', 'modeS': '3C66EA', 'model': 'Airbus A320'}, 'airline': {'name': 'Lufthansa', 'iata': 'LH', 'icao': 'DLH'}}, {'departure': {'airport': {'icao': 'LIPZ', 'iata': 'VCE', 'name': 'Venice', 'timeZone': 'Europe/Rome'}, 'scheduledTime': {'utc': '2024-10-09 06:20Z', 'local': '2024-10-09 08:20+02:00'}, 'quality': ['Basic']}, 'arrival': {'scheduledTime': {'utc': '2024-10-09 08:00Z', 'local': '2024-10-09 10:00+02:00'}, 'revisedTime': {'utc': '2024-10-09 08:00Z', 'local': '2024-10-09 10:00+02:00'}, 'terminal': '2', 'gate': 'Z33', 'baggageBelt': 'C1', 'quality': ['Basic', 'Live']}, 'number': 'FR 402', 'status': 'Expected', 'codeshareStatus': 'IsOperator', 'isCargo': False, 'aircraft': {'model': 'Boeing 737-800 (winglets)'}, 'airline': {'name': 'Ryanair', 'iata': 'FR', 'icao': 'RYR'}}, {'departure': {'airport': {'icao': 'LICR', 'iata': 'REG', 'name': 'Reggio Calabria', 'timeZone': 'Europe/Rome'}, 'scheduledTime': {'utc': '2024-10-09 05:20Z', 'local': '2024-10-09 07:20+02:00'}, 'quality': ['Basic']}, 'arrival': {'scheduledTime': {'utc': '2024-10-09 08:00Z', 'local': '2024-10-09 10:00+02:00'}, 'revisedTime': {'utc': '2024-10-09 08:00Z', 'local': '2024-10-09 10:00+02:00'}, 'terminal': '2', 'gate': 'Z29', 'baggageBelt': 'C2', 'quality': ['Basic', 'Live']}, 'number': 'FR 8603', 'status': 'Expected', 'codeshareStatus': 'IsOperator', 'isCargo': False, 'aircraft': {'model': 'Boeing 737-800 (winglets)'}, 'airline': {'name': 'Ryanair', 'iata': 'FR', 'icao': 'RYR'}}, {'departure': {'airport': {'icao': 'LEBL', 'iata': 'BCN', 'name': 'Barcelona', 'timeZone': 'Europe/Madrid'}, 'scheduledTime': {'utc': '2024-10-09 05:15Z', 'local': '2024-10-09 07:15+02:00'}, 'revisedTime': {'utc': '2024-10-09 05:15Z', 'local': '2024-10-09 07:15+02:00'}, 'terminal': '1', 'quality': ['Basic', 'Live']}, 'arrival': {'scheduledTime': {'utc': '2024-10-09 08:00Z', 'local': '2024-10-09 10:00+02:00'}, 'revisedTime': {'utc': '2024-10-09 08:00Z', 'local': '2024-10-09 10:00+02:00'}, 'terminal': '2', 'gate': 'Z36', 'baggageBelt': 'C2', 'quality': ['Basic', 'Live']}, 'number': 'VY 1882', 'status': 'Expected', 'codeshareStatus': 'IsOperator', 'isCargo': False, 'aircraft': {'model': 'Airbus A320-200'}, 'airline': {'name': 'Vueling', 'iata': 'VY', 'icao': 'VLG'}}, {'departure': {'airport': {'icao': 'EIDW', 'iata': 'DUB', 'name': 'Dublin', 'timeZone': 'Europe/Dublin'}, 'scheduledTime': {'utc': '2024-10-09 05:40Z', 'local': '2024-10-09 06:40+01:00'}, 'revisedTime': {'utc': '2024-10-09 05:40Z', 'local': '2024-10-09 06:40+01:00'}, 'terminal': '2', 'checkInDesk': '29-56', 'gate': '335F', 'quality': ['Basic', 'Live']}, 'arrival': {'scheduledTime': {'utc': '2024-10-09 08:00Z', 'local': '2024-10-09 10:00+02:00'}, 'revisedTime': {'utc': '2024-10-09 08:00Z', 'local': '2024-10-09 10:00+02:00'}, 'terminal': '1', 'gate': 'X01', 'baggageBelt': 'A2', 'quality': ['Basic', 'Live']}, 'number': 'EI 332', 'status': 'Expected', 'codeshareStatus': 'IsOperator', 'isCargo': False, 'aircraft': {'model': 'Airbus A320'}, 'airline': {'name': 'Aer Lingus', 'iata': 'EI', 'icao': 'EIN'}}, {'departure': {'airport': {'icao': 'LSZH', 'iata': 'ZRH', 'name': 'Zurich', 'timeZone': 'Europe/Zurich'}, 'scheduledTime': {'utc': '2024-10-09 06:40Z', 'local': '2024-10-09 08:40+02:00'}, 'revisedTime': {'utc': '2024-10-09 06:40Z', 'local': '2024-10-09 08:40+02:00'}, 'checkInDesk': '1', 'quality': ['Basic', 'Live']}, 'arrival': {'scheduledTime': {'utc': '2024-10-09 08:05Z', 'local': '2024-10-09 10:05+02:00'}, 'revisedTime': {'utc': '2024-10-09 08:05Z', 'local': '2024-10-09 10:05+02:00'}, 'terminal': '1', 'gate': 'A17', 'baggageBelt': 'A2', 'quality': ['Basic', 'Live']}, 'number': 'LX 976', 'status': 'Expected', 'codeshareStatus': 'IsOperator', 'isCargo': False, 'aircraft': {'model': 'Airbus A321-100'}, 'airline': {'name': 'SWISS', 'iata': 'LX', 'icao': 'SWR'}}, {'departure': {'airport': {'icao': 'EHAM', 'iata': 'AMS', 'name': 'Amsterdam', 'timeZone': 'Europe/Amsterdam'}, 'scheduledTime': {'utc': '2024-10-09 06:45Z', 'local': '2024-10-09 08:45+02:00'}, 'revisedTime': {'utc': '2024-10-09 06:45Z', 'local': '2024-10-09 08:45+02:00'}, 'terminal': '1', 'checkInDesk': '6-8', 'quality': ['Basic', 'Live']}, 'arrival': {'scheduledTime': {'utc': '2024-10-09 08:05Z', 'local': '2024-10-09 10:05+02:00'}, 'revisedTime': {'utc': '2024-10-09 08:05Z', 'local': '2024-10-09 10:05+02:00'}, 'terminal': '1', 'gate': 'A37', 'baggageBelt': 'A2', 'quality': ['Basic', 'Live']}, 'number': 'KL 1773', 'status': 'Expected', 'codeshareStatus': 'IsOperator', 'isCargo': False, 'aircraft': {'reg': 'D-ACJJ', 'modeS': '3C4D4A', 'model': 'Embraer 190'}, 'airline': {'name': 'KLM', 'iata': 'KL', 'icao': 'KLM'}}, {'departure': {'airport': {'icao': 'EDDM', 'iata': 'MUC', 'name': 'Munich', 'timeZone': 'Europe/Berlin'}, 'scheduledTime': {'utc': '2024-10-09 07:00Z', 'local': '2024-10-09 09:00+02:00'}, 'revisedTime': {'utc': '2024-10-09 07:00Z', 'local': '2024-10-09 09:00+02:00'}, 'terminal': '2', 'quality': ['Basic', 'Live']}, 'arrival': {'scheduledTime': {'utc': '2024-10-09 08:05Z', 'local': '2024-10-09 10:05+02:00'}, 'revisedTime': {'utc': '2024-10-09 08:05Z', 'local': '2024-10-09 10:05+02:00'}, 'terminal': '1', 'gate': 'B17', 'baggageBelt': 'B3', 'quality': ['Basic', 'Live']}, 'number': 'LH 1934', 'status': 'Expected', 'codeshareStatus': 'IsOperator', 'isCargo': False, 'aircraft': {'model': 'Airbus A319'}, 'airline': {'name': 'Lufthansa', 'iata': 'LH', 'icao': 'DLH'}}, {'departure': {'airport': {'icao': 'EDDS', 'iata': 'STR', 'name': 'Stuttgart', 'timeZone': 'Europe/Berlin'}, 'scheduledTime': {'utc': '2024-10-09 07:00Z', 'local': '2024-10-09 09:00+02:00'}, 'revisedTime': {'utc': '2024-10-09 07:00Z', 'local': '2024-10-09 09:00+02:00'}, 'terminal': '3', 'quality': ['Basic', 'Live']}, 'arrival': {'scheduledTime': {'utc': '2024-10-09 08:10Z', 'local': '2024-10-09 10:10+02:00'}, 'revisedTime': {'utc': '2024-10-09 08:10Z', 'local': '2024-10-09 10:10+02:00'}, 'terminal': '1', 'gate': 'A38', 'baggageBelt': 'A4', 'quality': ['Basic', 'Live']}, 'number': 'LH 5392', 'status': 'Expected', 'codeshareStatus': 'IsCodeshared', 'isCargo': False, 'aircraft': {'model': 'Airbus A320-200 (sharklets)'}, 'airline': {'name': 'Lufthansa', 'iata': 'LH', 'icao': 'DLH'}}, {'departure': {'airport': {'icao': 'EDDS', 'iata': 'STR', 'name': 'Stuttgart', 'timeZone': 'Europe/Berlin'}, 'scheduledTime': {'utc': '2024-10-09 07:00Z', 'local': '2024-10-09 09:00+02:00'}, 'revisedTime': {'utc': '2024-10-09 07:00Z', 'local': '2024-10-09 09:00+02:00'}, 'terminal': '3', 'quality': ['Basic', 'Live']}, 'arrival': {'scheduledTime': {'utc': '2024-10-09 08:10Z', 'local': '2024-10-09 10:10+02:00'}, 'revisedTime': {'utc': '2024-10-09 08:10Z', 'local': '2024-10-09 10:10+02:00'}, 'terminal': '1', 'gate': 'A38', 'baggageBelt': 'A4', 'quality': ['Basic', 'Live']}, 'number': 'EW 8001', 'status': 'Expected', 'codeshareStatus': 'IsOperator', 'isCargo': False, 'aircraft': {'model': 'Airbus A320-200 (sharklets)'}, 'airline': {'name': 'Eurowings', 'iata': 'EW', 'icao': 'EWG'}}, {'departure': {'airport': {'icao': 'LIPB', 'iata': 'BZO', 'name': 'Bolzano', 'timeZone': 'Europe/Rome'}, 'quality': []}, 'arrival': {'scheduledTime': {'utc': '2024-10-09 08:10Z', 'local': '2024-10-09 10:10+02:00'}, 'revisedTime': {'utc': '2024-10-09 08:10Z', 'local': '2024-10-09 10:10+02:00'}, 'terminal': '2', 'gate': 'Z32', 'baggageBelt': 'C1', 'quality': ['Basic', 'Live']}, 'number': 'BQ 1950', 'status': 'Expected', 'codeshareStatus': 'IsOperator', 'isCargo': False, 'aircraft': {'model': 'Bombardier Dash 8 Q400 / DHC-8-400'}, 'airline': {'name': 'BQ'}}, {'departure': {'airport': {'icao': 'LIPB', 'iata': 'BZO', 'name': 'Bolzano', 'timeZone': 'Europe/Rome'}, 'quality': []}, 'arrival': {'scheduledTime': {'utc': '2024-10-09 08:10Z', 'local': '2024-10-09 10:10+02:00'}, 'revisedTime': {'utc': '2024-10-09 08:10Z', 'local': '2024-10-09 10:10+02:00'}, 'terminal': '2', 'gate': 'Z32', 'baggageBelt': 'C1', 'quality': ['Basic', 'Live']}, 'number': 'W2 1290', 'status': 'Expected', 'codeshareStatus': 'Unknown', 'isCargo': False, 'aircraft': {'model': 'Bombardier Dash 8 Q400 / DHC-8-400'}, 'airline': {'name': 'FlexFlight', 'iata': 'W2', 'icao': 'FXT'}}, {'departure': {'airport': {'icao': 'EETN', 'iata': 'TLL', 'name': 'Tallinn', 'timeZone': 'Europe/Tallinn'}, 'scheduledTime': {'utc': '2024-10-09 06:15Z', 'local': '2024-10-09 09:15+03:00'}, 'quality': ['Basic']}, 'arrival': {'scheduledTime': {'utc': '2024-10-09 08:10Z', 'local': '2024-10-09 10:10+02:00'}, 'revisedTime': {'utc': '2024-10-09 08:10Z', 'local': '2024-10-09 10:10+02:00'}, 'terminal': '2', 'gate': 'Z34', 'baggageBelt': 'C1', 'quality': ['Basic', 'Live']}, 'number': 'FR 2733', 'status': 'Expected', 'codeshareStatus': 'IsOperator', 'isCargo': False, 'aircraft': {'model': 'Boeing 737 MAX 8 '}, 'airline': {'name': 'Ryanair', 'iata': 'FR', 'icao': 'RYR'}}, {'departure': {'airport': {'icao': 'LPPT', 'iata': 'LIS', 'name': 'Lisbon', 'timeZone': 'Europe/Lisbon'}, 'scheduledTime': {'utc': '2024-10-09 04:55Z', 'local': '2024-10-09 05:55+01:00'}, 'revisedTime': {'utc': '2024-10-09 04:55Z', 'local': '2024-10-09 05:55+01:00'}, 'terminal': '2', 'quality': ['Basic', 'Live']}, 'arrival': {'scheduledTime': {'utc': '2024-10-09 08:20Z', 'local': '2024-10-09 10:20+02:00'}, 'revisedTime': {'utc': '2024-10-09 08:20Z', 'local': '2024-10-09 10:20+02:00'}, 'terminal': '2', 'gate': 'Z33', 'baggageBelt': 'C2', 'quality': ['Basic', 'Live']}, 'number': 'FR 1143', 'status': 'Expected', 'codeshareStatus': 'IsOperator', 'isCargo': False, 'aircraft': {'model': 'Boeing 737-800 (winglets)'}, 'airline': {'name': 'Ryanair', 'iata': 'FR', 'icao': 'RYR'}}, {'departure': {'airport': {'icao': 'LTAI', 'iata': 'AYT', 'name': 'Antalya', 'timeZone': 'Europe/Istanbul'}, 'scheduledTime': {'utc': '2024-10-09 05:00Z', 'local': '2024-10-09 08:00+03:00'}, 'terminal': '2', 'quality': ['Basic']}, 'arrival': {'scheduledTime': {'utc': '2024-10-09 08:20Z', 'local': '2024-10-09 10:20+02:00'}, 'revisedTime': {'utc': '2024-10-09 08:20Z', 'local': '2024-10-09 10:20+02:00'}, 'terminal': '1', 'gate': 'Y06', 'baggageBelt': 'B3', 'quality': ['Basic', 'Live']}, 'number': 'FH 1281', 'status': 'Expected', 'codeshareStatus': 'IsOperator', 'isCargo': False, 'aircraft': {'model': 'Airbus A320'}, 'airline': {'name': 'Freebird', 'iata': 'FH', 'icao': 'FHY'}}, {'departure': {'airport': {'icao': 'EGLL', 'iata': 'LHR', 'name': 'London', 'timeZone': 'Europe/London'}, 'scheduledTime': {'utc': '2024-10-09 06:30Z', 'local': '2024-10-09 07:30+01:00'}, 'revisedTime': {'utc': '2024-10-09 06:30Z', 'local': '2024-10-09 07:30+01:00'}, 'terminal': '5', 'checkInDesk': 'D', 'quality': ['Basic', 'Live']}, 'arrival': {'scheduledTime': {'utc': '2024-10-09 08:20Z', 'local': '2024-10-09 10:20+02:00'}, 'revisedTime': {'utc': '2024-10-09 08:20Z', 'local': '2024-10-09 10:20+02:00'}, 'terminal': '1', 'gate': 'Y03', 'baggageBelt': 'B2', 'quality': ['Basic', 'Live']}, 'number': 'BA 990', 'status': 'Expected', 'codeshareStatus': 'IsOperator', 'isCargo': False, 'aircraft': {'model': 'Airbus A321-100'}, 'airline': {'name': 'British Airways', 'iata': 'BA', 'icao': 'BAW'}}, {'departure': {'airport': {'icao': 'LOWW', 'iata': 'VIE', 'name': 'Vienna', 'timeZone': 'Europe/Vienna'}, 'scheduledTime': {'utc': '2024-10-09 07:15Z', 'local': '2024-10-09 09:15+02:00'}, 'revisedTime': {'utc': '2024-10-09 07:15Z', 'local': '2024-10-09 09:15+02:00'}, 'terminal': '3', 'checkInDesk': '351-372', 'quality': ['Basic', 'Live']}, 'arrival': {'scheduledTime': {'utc': '2024-10-09 08:25Z', 'local': '2024-10-09 10:25+02:00'}, 'revisedTime': {'utc': '2024-10-09 08:25Z', 'local': '2024-10-09 10:25+02:00'}, 'terminal': '1', 'gate': 'B07', 'baggageBelt': 'B4', 'quality': ['Basic', 'Live']}, 'number': 'OS 225', 'status': 'Expected', 'codeshareStatus': 'IsOperator', 'isCargo': False, 'aircraft': {'model': 'Airbus A320'}, 'airline': {'name': 'Austrian', 'iata': 'OS', 'icao': 'AUA'}}, {'departure': {'airport': {'icao': 'LGAV', 'iata': 'ATH', 'name': 'Athens', 'timeZone': 'Europe/Athens'}, 'scheduledTime': {'utc': '2024-10-09 05:05Z', 'local': '2024-10-09 08:05+03:00'}, 'revisedTime': {'utc': '2024-10-09 05:05Z', 'local': '2024-10-09 08:05+03:00'}, 'terminal': 'I', 'checkInDesk': '21---25', 'quality': ['Basic', 'Live']}, 'arrival': {'scheduledTime': {'utc': '2024-10-09 08:25Z', 'local': '2024-10-09 10:25+02:00'}, 'revisedTime': {'utc': '2024-10-09 08:25Z', 'local': '2024-10-09 10:25+02:00'}, 'terminal': '1', 'gate': 'X07', 'baggageBelt': 'A3', 'quality': ['Basic', 'Live']}, 'number': 'TV 720', 'status': 'Expected', 'codeshareStatus': 'IsOperator', 'isCargo': False, 'aircraft': {'model': 'Boeing 787-8'}, 'airline': {'name': 'Tibet', 'iata': 'TV', 'icao': 'TBA'}}, {'departure': {'airport': {'icao': 'LGAV', 'iata': 'ATH', 'name': 'Athens', 'timeZone': 'Europe/Athens'}, 'scheduledTime': {'utc': '2024-10-09 05:05Z', 'local': '2024-10-09 08:05+03:00'}, 'revisedTime': {'utc': '2024-10-09 05:05Z', 'local': '2024-10-09 08:05+03:00'}, 'terminal': 'I', 'checkInDesk': '21---25', 'quality': ['Basic', 'Live']}, 'arrival': {'scheduledTime': {'utc': '2024-10-09 08:25Z', 'local': '2024-10-09 10:25+02:00'}, 'revisedTime': {'utc': '2024-10-09 08:25Z', 'local': '2024-10-09 10:25+02:00'}, 'terminal': '1', 'gate': 'X07', 'baggageBelt': 'A3', 'quality': ['Basic', 'Live']}, 'number': 'TR 720', 'status': 'Expected', 'codeshareStatus': 'Unknown', 'isCargo': False, 'aircraft': {'model': 'Boeing 787-8'}, 'airline': {'name': 'Scoot', 'iata': 'TR', 'icao': 'TGW'}}, {'departure': {'airport': {'icao': 'EHAM', 'iata': 'AMS', 'name': 'Amsterdam', 'timeZone': 'Europe/Amsterdam'}, 'scheduledTime': {'utc': '2024-10-09 07:05Z', 'local': '2024-10-09 09:05+02:00'}, 'revisedTime': {'utc': '2024-10-09 07:05Z', 'local': '2024-10-09 09:05+02:00'}, 'terminal': '3', 'checkInDesk': '26', 'quality': ['Basic', 'Live']}, 'arrival': {'scheduledTime': {'utc': '2024-10-09 08:30Z', 'local': '2024-10-09 10:30+02:00'}, 'revisedTime': {'utc': '2024-10-09 08:30Z', 'local': '2024-10-09 10:30+02:00'}, 'terminal': '1', 'gate': 'A32', 'baggageBelt': 'A3', 'quality': ['Basic', 'Live']}, 'number': 'EC 5282', 'status': 'Expected', 'codeshareStatus': 'IsCodeshared', 'isCargo': False, 'aircraft': {'model': 'Airbus A320-200'}, 'airline': {'name': 'EasyJet Europe', 'iata': 'EC', 'icao': 'EJU'}}, {'departure': {'airport': {'icao': 'EHAM', 'iata': 'AMS', 'name': 'Amsterdam', 'timeZone': 'Europe/Amsterdam'}, 'scheduledTime': {'utc': '2024-10-09 07:05Z', 'local': '2024-10-09 09:05+02:00'}, 'revisedTime': {'utc': '2024-10-09 07:05Z', 'local': '2024-10-09 09:05+02:00'}, 'terminal': '3', 'checkInDesk': '26', 'quality': ['Basic', 'Live']}, 'arrival': {'scheduledTime': {'utc': '2024-10-09 08:30Z', 'local': '2024-10-09 10:30+02:00'}, 'revisedTime': {'utc': '2024-10-09 08:30Z', 'local': '2024-10-09 10:30+02:00'}, 'terminal': '1', 'gate': 'A32', 'baggageBelt': 'A3', 'quality': ['Basic', 'Live']}, 'number': 'U2 5282', 'status': 'Expected', 'codeshareStatus': 'IsOperator', 'isCargo': False, 'aircraft': {'model': 'Airbus A320-200'}, 'airline': {'name': 'easyJet', 'iata': 'U2', 'icao': 'EZY'}}, {'departure': {'airport': {'icao': 'EPWA', 'iata': 'WAW', 'name': 'Warsaw', 'timeZone': 'Europe/Warsaw'}, 'scheduledTime': {'utc': '2024-10-09 07:15Z', 'local': '2024-10-09 09:15+02:00'}, 'quality': ['Basic']}, 'arrival': {'scheduledTime': {'utc': '2024-10-09 08:30Z', 'local': '2024-10-09 10:30+02:00'}, 'revisedTime': {'utc': '2024-10-09 08:30Z', 'local': '2024-10-09 10:30+02:00'}, 'terminal': '1', 'gate': 'A30', 'baggageBelt': 'A1', 'quality': ['Basic', 'Live']}, 'number': 'LO 387', 'status': 'Expected', 'codeshareStatus': 'IsOperator', 'isCargo': False, 'aircraft': {'model': 'Embraer 175'}, 'airline': {'name': 'LOT - Polish', 'iata': 'LO', 'icao': 'LOT'}}, {'departure': {'airport': {'icao': 'LEMD', 'iata': 'MAD', 'name': 'Madrid', 'timeZone': 'Europe/Madrid'}, 'scheduledTime': {'utc': '2024-10-09 05:30Z', 'local': '2024-10-09 07:30+02:00'}, 'revisedTime': {'utc': '2024-10-09 05:30Z', 'local': '2024-10-09 07:30+02:00'}, 'terminal': '4', 'quality': ['Basic', 'Live']}, 'arrival': {'scheduledTime': {'utc': '2024-10-09 08:35Z', 'local': '2024-10-09 10:35+02:00'}, 'revisedTime': {'utc': '2024-10-09 08:35Z', 'local': '2024-10-09 10:35+02:00'}, 'terminal': '1', 'gate': 'A36', 'baggageBelt': 'A3', 'quality': ['Basic', 'Live']}, 'number': 'I2 3676', 'status': 'Expected', 'codeshareStatus': 'IsOperator', 'isCargo': False, 'aircraft': {'model': 'Airbus A321-100'}, 'airline': {'name': 'Iberia Express', 'iata': 'I2', 'icao': 'IBS'}}, {'departure': {'airport': {'icao': 'LEMD', 'iata': 'MAD', 'name': 'Madrid', 'timeZone': 'Europe/Madrid'}, 'scheduledTime': {'utc': '2024-10-09 05:30Z', 'local': '2024-10-09 07:30+02:00'}, 'revisedTime': {'utc': '2024-10-09 05:30Z', 'local': '2024-10-09 07:30+02:00'}, 'terminal': '4', 'quality': ['Basic', 'Live']}, 'arrival': {'scheduledTime': {'utc': '2024-10-09 08:35Z', 'local': '2024-10-09 10:35+02:00'}, 'revisedTime': {'utc': '2024-10-09 08:35Z', 'local': '2024-10-09 10:35+02:00'}, 'terminal': '1', 'gate': 'A36', 'baggageBelt': 'A3', 'quality': ['Basic', 'Live']}, 'number': 'IB 3676', 'status': 'Expected', 'codeshareStatus': 'IsCodeshared', 'isCargo': False, 'aircraft': {'model': 'Airbus A321-100'}, 'airline': {'name': 'Iberia', 'iata': 'IB', 'icao': 'IBE'}}, {'departure': {'airport': {'icao': 'EYKA', 'iata': 'KUN', 'name': 'Kaunas', 'timeZone': 'Europe/Vilnius'}, 'scheduledTime': {'utc': '2024-10-09 06:55Z', 'local': '2024-10-09 09:55+03:00'}, 'quality': ['Basic']}, 'arrival': {'scheduledTime': {'utc': '2024-10-09 08:35Z', 'local': '2024-10-09 10:35+02:00'}, 'revisedTime': {'utc': '2024-10-09 08:35Z', 'local': '2024-10-09 10:35+02:00'}, 'terminal': '2', 'gate': 'Z33', 'baggageBelt': 'C1', 'quality': ['Basic', 'Live']}, 'number': 'FR 710', 'status': 'Expected', 'codeshareStatus': 'IsOperator', 'isCargo': False, 'aircraft': {'model': 'Boeing 737-800 (winglets)'}, 'airline': {'name': 'Ryanair', 'iata': 'FR', 'icao': 'RYR'}}, {'departure': {'airport': {'icao': 'LEPA', 'iata': 'PMI', 'name': 'Palma De Mallorca', 'timeZone': 'Europe/Madrid'}, 'scheduledTime': {'utc': '2024-10-09 05:50Z', 'local': '2024-10-09 07:50+02:00'}, 'revisedTime': {'utc': '2024-10-09 05:50Z', 'local': '2024-10-09 07:50+02:00'}, 'terminal': 'N', 'checkInDesk': '002-017', 'quality': ['Basic', 'Live']}, 'arrival': {'scheduledTime': {'utc': '2024-10-09 08:35Z', 'local': '2024-10-09 10:35+02:00'}, 'revisedTime': {'utc': '2024-10-09 08:35Z', 'local': '2024-10-09 10:35+02:00'}, 'terminal': '2', 'gate': 'Z36', 'baggageBelt': 'C3', 'quality': ['Basic', 'Live']}, 'number': 'FR 111', 'status': 'Expected', 'codeshareStatus': 'IsOperator', 'isCargo': False, 'aircraft': {'model': 'Boeing 737 MAX 8 '}, 'airline': {'name': 'Ryanair', 'iata': 'FR', 'icao': 'RYR'}}, {'departure': {'airport': {'icao': 'LIRF', 'iata': 'FCO', 'name': 'Rome', 'timeZone': 'Europe/Rome'}, 'scheduledTime': {'utc': '2024-10-09 06:30Z', 'local': '2024-10-09 08:30+02:00'}, 'terminal': '1', 'quality': ['Basic']}, 'arrival': {'scheduledTime': {'utc': '2024-10-09 08:40Z', 'local': '2024-10-09 10:40+02:00'}, 'revisedTime': {'utc': '2024-10-09 08:40Z', 'local': '2024-10-09 10:40+02:00'}, 'terminal': '2', 'gate': 'Z30', 'baggageBelt': 'C1', 'quality': ['Basic', 'Live']}, 'number': 'FR 41', 'status': 'Expected', 'codeshareStatus': 'IsOperator', 'isCargo': False, 'aircraft': {'model': 'Boeing 737-800 (winglets)'}, 'airline': {'name': 'Ryanair', 'iata': 'FR', 'icao': 'RYR'}}, {'departure': {'airport': {'icao': 'LGAV', 'iata': 'ATH', 'name': 'Athens', 'timeZone': 'Europe/Athens'}, 'scheduledTime': {'utc': '2024-10-09 05:45Z', 'local': '2024-10-09 08:45+03:00'}, 'revisedTime': {'utc': '2024-10-09 05:45Z', 'local': '2024-10-09 08:45+03:00'}, 'terminal': 'D', 'checkInDesk': '148--153', 'quality': ['Basic', 'Live']}, 'arrival': {'scheduledTime': {'utc': '2024-10-09 08:40Z', 'local': '2024-10-09 10:40+02:00'}, 'revisedTime': {'utc': '2024-10-09 08:40Z', 'local': '2024-10-09 10:40+02:00'}, 'terminal': '1', 'gate': 'A34', 'baggageBelt': 'A4', 'quality': ['Basic', 'Live']}, 'number': 'A3 820', 'status': 'Expected', 'codeshareStatus': 'IsOperator', 'isCargo': False, 'aircraft': {'model': 'Airbus A321-100'}, 'airline': {'name': 'Aegean', 'iata': 'A3', 'icao': 'AEE'}}, {'departure': {'airport': {'icao': 'EBBR', 'iata': 'BRU', 'name': 'Brussels', 'timeZone': 'Europe/Brussels'}, 'scheduledTime': {'utc': '2024-10-09 07:25Z', 'local': '2024-10-09 09:25+02:00'}, 'revisedTime': {'utc': '2024-10-09 07:25Z', 'local': '2024-10-09 09:25+02:00'}, 'checkInDesk': '05', 'quality': ['Basic', 'Live']}, 'arrival': {'scheduledTime': {'utc': '2024-10-09 08:50Z', 'local': '2024-10-09 10:50+02:00'}, 'revisedTime': {'utc': '2024-10-09 08:50Z', 'local': '2024-10-09 10:50+02:00'}, 'terminal': '1', 'gate': 'B10', 'baggageBelt': 'B1', 'quality': ['Basic', 'Live']}, 'number': 'SN 2581', 'status': 'Expected', 'codeshareStatus': 'IsOperator', 'isCargo': False, 'aircraft': {'model': 'Airbus A319'}, 'airline': {'name': 'Brussels', 'iata': 'SN', 'icao': 'BEL'}}, {'departure': {'airport': {'icao': 'EDDF', 'iata': 'FRA', 'name': 'Frankfurt-am-Main', 'timeZone': 'Europe/Berlin'}, 'scheduledTime': {'utc': '2024-10-09 07:45Z', 'local': '2024-10-09 09:45+02:00'}, 'revisedTime': {'utc': '2024-10-09 07:45Z', 'local': '2024-10-09 09:45+02:00'}, 'terminal': '1', 'checkInDesk': '259-335', 'gate': 'A11', 'quality': ['Basic', 'Live']}, 'arrival': {'scheduledTime': {'utc': '2024-10-09 08:55Z', 'local': '2024-10-09 10:55+02:00'}, 'revisedTime': {'utc': '2024-10-09 08:55Z', 'local': '2024-10-09 10:55+02:00'}, 'terminal': '1', 'gate': 'B20', 'baggageBelt': 'B3', 'quality': ['Basic', 'Live']}, 'number': 'LH 178', 'status': 'Expected', 'codeshareStatus': 'IsOperator', 'isCargo': False, 'aircraft': {'reg': 'D-AIEK', 'modeS': '3C64AB', 'model': 'Airbus A321 NEO'}, 'airline': {'name': 'Lufthansa', 'iata': 'LH', 'icao': 'DLH'}}, {'departure': {'airport': {'icao': 'LTAI', 'iata': 'AYT', 'name': 'Antalya', 'timeZone': 'Europe/Istanbul'}, 'quality': []}, 'arrival': {'scheduledTime': {'utc': '2024-10-09 09:05Z', 'local': '2024-10-09 11:05+02:00'}, 'revisedTime': {'utc': '2024-10-09 09:05Z', 'local': '2024-10-09 11:05+02:00'}, 'terminal': '1', 'gate': 'N01', 'baggageBelt': 'B3', 'quality': ['Basic', 'Live']}, 'number': 'TI 7375', 'status': 'Expected', 'codeshareStatus': 'IsOperator', 'isCargo': False, 'aircraft': {'model': 'Boeing 737-400'}, 'airline': {'name': 'Tailwind', 'iata': 'TI', 'icao': 'TWI'}}, {'departure': {'airport': {'icao': 'EIDW', 'iata': 'DUB', 'name': 'Dublin', 'timeZone': 'Europe/Dublin'}, 'scheduledTime': {'utc': '2024-10-09 06:50Z', 'local': '2024-10-09 07:50+01:00'}, 'revisedTime': {'utc': '2024-10-09 06:50Z', 'local': '2024-10-09 07:50+01:00'}, 'terminal': '1', 'checkInDesk': '1204-1319', 'gate': '116', 'quality': ['Basic', 'Live']}, 'arrival': {'scheduledTime': {'utc': '2024-10-09 09:05Z', 'local': '2024-10-09 11:05+02:00'}, 'revisedTime': {'utc': '2024-10-09 09:05Z', 'local': '2024-10-09 11:05+02:00'}, 'terminal': '2', 'gate': 'Z38', 'baggageBelt': 'C3', 'quality': ['Basic', 'Live']}, 'number': 'FR 3669', 'status': 'Expected', 'codeshareStatus': 'IsOperator', 'isCargo': False, 'aircraft': {'model': 'Boeing 737 MAX 8 '}, 'airline': {'name': 'Ryanair', 'iata': 'FR', 'icao': 'RYR'}}, {'departure': {'airport': {'icao': 'EGLC', 'iata': 'LCY', 'name': 'London', 'timeZone': 'Europe/London'}, 'scheduledTime': {'utc': '2024-10-09 07:25Z', 'local': '2024-10-09 08:25+01:00'}, 'quality': ['Basic']}, 'arrival': {'scheduledTime': {'utc': '2024-10-09 09:10Z', 'local': '2024-10-09 11:10+02:00'}, 'revisedTime': {'utc': '2024-10-09 09:10Z', 'local': '2024-10-09 11:10+02:00'}, 'terminal': '1', 'gate': 'X01', 'baggageBelt': 'A1', 'quality': ['Basic', 'Live']}, 'number': 'BA 8491', 'status': 'Expected', 'codeshareStatus': 'IsOperator', 'isCargo': False, 'aircraft': {'model': 'Embraer 190'}, 'airline': {'name': 'British Airways', 'iata': 'BA', 'icao': 'BAW'}}, {'departure': {'airport': {'icao': 'LFMN', 'iata': 'NCE', 'name': 'Nice', 'timeZone': 'Europe/Paris'}, 'scheduledTime': {'utc': '2024-10-09 07:10Z', 'local': '2024-10-09 09:10+02:00'}, 'terminal': '2', 'quality': ['Basic']}, 'arrival': {'scheduledTime': {'utc': '2024-10-09 09:10Z', 'local': '2024-10-09 11:10+02:00'}, 'revisedTime': {'utc': '2024-10-09 09:10Z', 'local': '2024-10-09 11:10+02:00'}, 'terminal': '1', 'gate': 'A35', 'baggageBelt': 'A1', 'quality': ['Basic', 'Live']}, 'number': 'EC 5144', 'status': 'Expected', 'codeshareStatus': 'IsCodeshared', 'isCargo': False, 'aircraft': {'model': 'Airbus A320-200'}, 'airline': {'name': 'EasyJet Europe', 'iata': 'EC', 'icao': 'EJU'}}, {'departure': {'airport': {'icao': 'LFMN', 'iata': 'NCE', 'name': 'Nice', 'timeZone': 'Europe/Paris'}, 'scheduledTime': {'utc': '2024-10-09 07:10Z', 'local': '2024-10-09 09:10+02:00'}, 'terminal': '2', 'quality': ['Basic']}, 'arrival': {'scheduledTime': {'utc': '2024-10-09 09:10Z', 'local': '2024-10-09 11:10+02:00'}, 'revisedTime': {'utc': '2024-10-09 09:10Z', 'local': '2024-10-09 11:10+02:00'}, 'terminal': '1', 'gate': 'A35', 'baggageBelt': 'A1', 'quality': ['Basic', 'Live']}, 'number': 'U2 5144', 'status': 'Expected', 'codeshareStatus': 'IsOperator', 'isCargo': False, 'aircraft': {'model': 'Airbus A320-200'}, 'airline': {'name': 'easyJet', 'iata': 'U2', 'icao': 'EZY'}}, {'departure': {'airport': {'icao': 'LIRF', 'iata': 'FCO', 'name': 'Rome', 'timeZone': 'Europe/Rome'}, 'scheduledTime': {'utc': '2024-10-09 07:00Z', 'local': '2024-10-09 09:00+02:00'}, 'terminal': '1', 'quality': ['Basic']}, 'arrival': {'scheduledTime': {'utc': '2024-10-09 09:15Z', 'local': '2024-10-09 11:15+02:00'}, 'revisedTime': {'utc': '2024-10-09 09:15Z', 'local': '2024-10-09 11:15+02:00'}, 'terminal': '1', 'gate': 'A37', 'baggageBelt': 'A3', 'quality': ['Basic', 'Live']}, 'number': 'U2 5082', 'status': 'Expected', 'codeshareStatus': 'IsOperator', 'isCargo': False, 'aircraft': {'model': 'Airbus A320-200'}, 'airline': {'name': 'easyJet', 'iata': 'U2', 'icao': 'EZY'}}, {'departure': {'airport': {'icao': 'LIRF', 'iata': 'FCO', 'name': 'Rome', 'timeZone': 'Europe/Rome'}, 'scheduledTime': {'utc': '2024-10-09 07:00Z', 'local': '2024-10-09 09:00+02:00'}, 'terminal': '1', 'quality': ['Basic']}, 'arrival': {'scheduledTime': {'utc': '2024-10-09 09:15Z', 'local': '2024-10-09 11:15+02:00'}, 'revisedTime': {'utc': '2024-10-09 09:15Z', 'local': '2024-10-09 11:15+02:00'}, 'terminal': '1', 'gate': 'A37', 'baggageBelt': 'A3', 'quality': ['Basic', 'Live']}, 'number': 'EC 5082', 'status': 'Expected', 'codeshareStatus': 'IsCodeshared', 'isCargo': False, 'aircraft': {'model': 'Airbus A320-200'}, 'airline': {'name': 'EasyJet Europe', 'iata': 'EC', 'icao': 'EJU'}}, {'departure': {'airport': {'icao': 'LFPG', 'iata': 'CDG', 'name': 'Paris', 'timeZone': 'Europe/Paris'}, 'scheduledTime': {'utc': '2024-10-09 07:30Z', 'local': '2024-10-09 09:30+02:00'}, 'terminal': '2F', 'quality': ['Basic']}, 'arrival': {'scheduledTime': {'utc': '2024-10-09 09:15Z', 'local': '2024-10-09 11:15+02:00'}, 'revisedTime': {'utc': '2024-10-09 09:15Z', 'local': '2024-10-09 11:15+02:00'}, 'terminal': '1', 'gate': 'B17', 'baggageBelt': 'B3', 'quality': ['Basic', 'Live']}, 'number': 'AF 1734', 'status': 'Expected', 'codeshareStatus': 'IsOperator', 'isCargo': False, 'aircraft': {'model': 'Airbus A220-300'}, 'airline': {'name': 'Air France', 'iata': 'AF', 'icao': 'AFR'}}, {'departure': {'airport': {'icao': 'LTFJ', 'iata': 'SAW', 'name': 'Istanbul', 'timeZone': 'Europe/Istanbul'}, 'scheduledTime': {'utc': '2024-10-09 06:20Z', 'local': '2024-10-09 09:20+03:00'}, 'quality': ['Basic']}, 'arrival': {'scheduledTime': {'utc': '2024-10-09 09:25Z', 'local': '2024-10-09 11:25+02:00'}, 'revisedTime': {'utc': '2024-10-09 09:25Z', 'local': '2024-10-09 11:25+02:00'}, 'terminal': '1', 'gate': 'X02', 'baggageBelt': 'A3', 'quality': ['Basic', 'Live']}, 'number': 'VF 57', 'status': 'Expected', 'codeshareStatus': 'IsOperator', 'isCargo': False, 'aircraft': {'model': 'Boeing 737-800'}, 'airline': {'name': 'Ajet', 'iata': 'VF', 'icao': 'VLU'}}, {'departure': {'airport': {'icao': 'LGTS', 'iata': 'SKG', 'name': 'Thessaloniki', 'timeZone': 'Europe/Athens'}, 'scheduledTime': {'utc': '2024-10-09 06:55Z', 'local': '2024-10-09 09:55+03:00'}, 'quality': ['Basic']}, 'arrival': {'scheduledTime': {'utc': '2024-10-09 09:25Z', 'local': '2024-10-09 11:25+02:00'}, 'revisedTime': {'utc': '2024-10-09 09:25Z', 'local': '2024-10-09 11:25+02:00'}, 'terminal': '2', 'gate': 'Z36', 'baggageBelt': 'C2', 'quality': ['Basic', 'Live']}, 'number': 'FR 1147', 'status': 'Expected', 'codeshareStatus': 'IsOperator', 'isCargo': False, 'aircraft': {'model': 'Boeing 737 MAX 8 '}, 'airline': {'name': 'Ryanair', 'iata': 'FR', 'icao': 'RYR'}}, {'departure': {'airport': {'icao': 'LFSB', 'iata': 'BSL', 'name': 'Bâle/Mulhouse', 'timeZone': 'Europe/Paris'}, 'scheduledTime': {'utc': '2024-10-09 08:00Z', 'local': '2024-10-09 10:00+02:00'}, 'revisedTime': {'utc': '2024-10-09 08:00Z', 'local': '2024-10-09 10:00+02:00'}, 'quality': ['Basic', 'Live']}, 'arrival': {'scheduledTime': {'utc': '2024-10-09 09:30Z', 'local': '2024-10-09 11:30+02:00'}, 'revisedTime': {'utc': '2024-10-09 09:30Z', 'local': '2024-10-09 11:30+02:00'}, 'terminal': '1', 'gate': 'A33', 'baggageBelt': 'A3', 'quality': ['Basic', 'Live']}, 'number': 'EC 5535', 'status': 'Expected', 'codeshareStatus': 'IsCodeshared', 'isCargo': False, 'aircraft': {'reg': 'OE-LKL', 'modeS': '44061C', 'model': 'Airbus A319'}, 'airline': {'name': 'EasyJet Europe', 'iata': 'EC', 'icao': 'EJU'}}, {'departure': {'airport': {'icao': 'LFSB', 'iata': 'BSL', 'name': 'Bâle/Mulhouse', 'timeZone': 'Europe/Paris'}, 'scheduledTime': {'utc': '2024-10-09 08:00Z', 'local': '2024-10-09 10:00+02:00'}, 'revisedTime': {'utc': '2024-10-09 08:00Z', 'local': '2024-10-09 10:00+02:00'}, 'quality': ['Basic', 'Live']}, 'arrival': {'scheduledTime': {'utc': '2024-10-09 09:30Z', 'local': '2024-10-09 11:30+02:00'}, 'revisedTime': {'utc': '2024-10-09 09:30Z', 'local': '2024-10-09 11:30+02:00'}, 'terminal': '1', 'gate': 'A33', 'baggageBelt': 'A3', 'quality': ['Basic', 'Live']}, 'number': 'U2 5535', 'status': 'Expected', 'codeshareStatus': 'IsOperator', 'isCargo': False, 'aircraft': {'reg': 'OE-LKL', 'modeS': '44061C', 'model': 'Airbus A319'}, 'airline': {'name': 'easyJet', 'iata': 'U2', 'icao': 'EZY'}}, {'departure': {'airport': {'icao': 'LSZH', 'iata': 'ZRH', 'name': 'Zurich', 'timeZone': 'Europe/Zurich'}, 'scheduledTime': {'utc': '2024-10-09 07:50Z', 'local': '2024-10-09 09:50+02:00'}, 'revisedTime': {'utc': '2024-10-09 07:50Z', 'local': '2024-10-09 09:50+02:00'}, 'checkInDesk': '2(5)', 'quality': ['Basic', 'Live']}, 'arrival': {'scheduledTime': {'utc': '2024-10-09 09:30Z', 'local': '2024-10-09 11:30+02:00'}, 'revisedTime': {'utc': '2024-10-09 09:30Z', 'local': '2024-10-09 11:30+02:00'}, 'terminal': '1', 'gate': 'A30', 'baggageBelt': 'A3', 'quality': ['Basic', 'Live']}, 'number': 'LX 4406', 'status': 'Expected', 'codeshareStatus': 'IsCodeshared', 'isCargo': False, 'aircraft': {'reg': '9H-MLP', 'modeS': '4D239F', 'model': 'Airbus A320-200 (sharklets)'}, 'airline': {'name': 'SWISS', 'iata': 'LX', 'icao': 'SWR'}}, {'departure': {'airport': {'icao': 'LSZH', 'iata': 'ZRH', 'name': 'Zurich', 'timeZone': 'Europe/Zurich'}, 'scheduledTime': {'utc': '2024-10-09 07:50Z', 'local': '2024-10-09 09:50+02:00'}, 'revisedTime': {'utc': '2024-10-09 07:50Z', 'local': '2024-10-09 09:50+02:00'}, 'checkInDesk': '2(5)', 'quality': ['Basic', 'Live']}, 'arrival': {'scheduledTime': {'utc': '2024-10-09 09:30Z', 'local': '2024-10-09 11:30+02:00'}, 'revisedTime': {'utc': '2024-10-09 09:30Z', 'local': '2024-10-09 11:30+02:00'}, 'terminal': '1', 'gate': 'A30', 'baggageBelt': 'A3', 'quality': ['Basic', 'Live']}, 'number': 'EW 8761', 'status': 'Expected', 'codeshareStatus': 'IsOperator', 'isCargo': False, 'aircraft': {'reg': '9H-MLP', 'modeS': '4D239F', 'model': 'Airbus A320-200 (sharklets)'}, 'airline': {'name': 'Eurowings', 'iata': 'EW', 'icao': 'EWG'}}, {'departure': {'airport': {'icao': 'EHAM', 'iata': 'AMS', 'name': 'Amsterdam', 'timeZone': 'Europe/Amsterdam'}, 'scheduledTime': {'utc': '2024-10-09 08:15Z', 'local': '2024-10-09 10:15+02:00'}, 'revisedTime': {'utc': '2024-10-09 08:15Z', 'local': '2024-10-09 10:15+02:00'}, 'terminal': '1', 'checkInDesk': '6-8', 'quality': ['Basic', 'Live']}, 'arrival': {'scheduledTime': {'utc': '2024-10-09 09:30Z', 'local': '2024-10-09 11:30+02:00'}, 'revisedTime': {'utc': '2024-10-09 09:30Z', 'local': '2024-10-09 11:30+02:00'}, 'terminal': '1', 'gate': 'B03', 'baggageBelt': 'B2', 'quality': ['Basic', 'Live']}, 'number': 'KL 1775', 'status': 'Expected', 'codeshareStatus': 'IsOperator', 'isCargo': False, 'aircraft': {'reg': 'PH-BGA', 'modeS': '484558', 'model': 'Boeing 737-700 (winglets)'}, 'airline': {'name': 'KLM', 'iata': 'KL', 'icao': 'KLM'}}, {'departure': {'airport': {'icao': 'BIKF', 'iata': 'KEF', 'name': 'Reykjavik', 'timeZone': 'Atlantic/Reykjavik'}, 'scheduledTime': {'utc': '2024-10-09 06:00Z', 'local': '2024-10-09 06:00+00:00'}, 'revisedTime': {'utc': '2024-10-09 06:00Z', 'local': '2024-10-09 06:00+00:00'}, 'quality': ['Basic', 'Live']}, 'arrival': {'scheduledTime': {'utc': '2024-10-09 09:30Z', 'local': '2024-10-09 11:30+02:00'}, 'revisedTime': {'utc': '2024-10-09 09:30Z', 'local': '2024-10-09 11:30+02:00'}, 'terminal': '2', 'gate': 'Z34', 'baggageBelt': 'C1', 'quality': ['Basic', 'Live']}, 'number': 'OG 700', 'status': 'Expected', 'codeshareStatus': 'IsOperator', 'isCargo': False, 'aircraft': {'model': 'Airbus A320 NEO'}, 'airline': {'name': 'Ghodawat Enterprises', 'iata': 'OG', 'icao': 'SDG'}}, {'departure': {'airport': {'icao': 'EGLL', 'iata': 'LHR', 'name': 'London', 'timeZone': 'Europe/London'}, 'scheduledTime': {'utc': '2024-10-09 07:45Z', 'local': '2024-10-09 08:45+01:00'}, 'revisedTime': {'utc': '2024-10-09 07:45Z', 'local': '2024-10-09 08:45+01:00'}, 'terminal': '5', 'checkInDesk': 'D', 'quality': ['Basic', 'Live']}, 'arrival': {'scheduledTime': {'utc': '2024-10-09 09:35Z', 'local': '2024-10-09 11:35+02:00'}, 'revisedTime': {'utc': '2024-10-09 09:35Z', 'local': '2024-10-09 11:35+02:00'}, 'terminal': '1', 'gate': 'X06', 'baggageBelt': 'A1', 'quality': ['Basic', 'Live']}, 'number': 'BA 982', 'status': 'Expected', 'codeshareStatus': 'IsOperator', 'isCargo': False, 'aircraft': {'model': 'Airbus A321-100'}, 'airline': {'name': 'British Airways', 'iata': 'BA', 'icao': 'BAW'}}, {'departure': {'airport': {'icao': 'ESSA', 'iata': 'ARN', 'name': 'Stockholm', 'timeZone': 'Europe/Stockholm'}, 'scheduledTime': {'utc': '2024-10-09 08:00Z', 'local': '2024-10-09 10:00+02:00'}, 'revisedTime': {'utc': '2024-10-09 08:00Z', 'local': '2024-10-09 10:00+02:00'}, 'terminal': '5', 'checkInDesk': '18-0', 'quality': ['Basic', 'Live']}, 'arrival': {'scheduledTime': {'utc': '2024-10-09 09:35Z', 'local': '2024-10-09 11:35+02:00'}, 'revisedTime': {'utc': '2024-10-09 09:35Z', 'local': '2024-10-09 11:35+02:00'}, 'terminal': '2', 'gate': 'Z32', 'baggageBelt': 'C3', 'quality': ['Basic', 'Live']}, 'number': 'DY 886', 'callSign': 'NOZ886', 'status': 'Expected', 'codeshareStatus': 'IsOperator', 'isCargo': False, 'aircraft': {'model': 'Boeing 737-800 (winglets)'}, 'airline': {'name': 'Norwegian Air Shuttle', 'iata': 'DY', 'icao': 'NOZ'}}, {'departure': {'airport': {'icao': 'LTAI', 'iata': 'AYT', 'name': 'Antalya', 'timeZone': 'Europe/Istanbul'}, 'quality': []}, 'arrival': {'scheduledTime': {'utc': '2024-10-09 09:35Z', 'local': '2024-10-09 11:35+02:00'}, 'revisedTime': {'utc': '2024-10-09 09:35Z', 'local': '2024-10-09 11:35+02:00'}, 'terminal': '1', 'gate': 'X03', 'baggageBelt': 'A2', 'quality': ['Basic', 'Live']}, 'number': 'XQ 160', 'status': 'Expected', 'codeshareStatus': 'IsOperator', 'isCargo': False, 'aircraft': {'model': 'Boeing 737-700 (winglets)'}, 'airline': {'name': 'Sun Express', 'iata': 'XQ', 'icao': 'SXS'}}, {'departure': {'airport': {'icao': 'ESSA', 'iata': 'ARN', 'name': 'Stockholm', 'timeZone': 'Europe/Stockholm'}, 'scheduledTime': {'utc': '2024-10-09 08:05Z', 'local': '2024-10-09 10:05+02:00'}, 'revisedTime': {'utc': '2024-10-09 08:05Z', 'local': '2024-10-09 10:05+02:00'}, 'terminal': '5', 'checkInDesk': '71-80', 'quality': ['Basic', 'Live']}, 'arrival': {'scheduledTime': {'utc': '2024-10-09 09:40Z', 'local': '2024-10-09 11:40+02:00'}, 'revisedTime': {'utc': '2024-10-09 09:40Z', 'local': '2024-10-09 11:40+02:00'}, 'terminal': '1', 'gate': 'A32', 'baggageBelt': 'A4', 'quality': ['Basic', 'Live']}, 'number': 'SK 2677', 'callSign': 'SAS2677', 'status': 'Expected', 'codeshareStatus': 'IsOperator', 'isCargo': False, 'aircraft': {'reg': 'SE-ROF', 'modeS': '4AC9E6', 'model': 'Airbus A320 NEO'}, 'airline': {'name': 'SAS', 'iata': 'SK', 'icao': 'SAS'}}, {'departure': {'airport': {'icao': 'LTFM', 'iata': 'IST', 'name': 'Istanbul', 'timeZone': 'Europe/Istanbul'}, 'scheduledTime': {'utc': '2024-10-09 07:00Z', 'local': '2024-10-09 10:00+03:00'}, 'revisedTime': {'utc': '2024-10-09 07:00Z', 'local': '2024-10-09 10:00+03:00'}, 'checkInDesk': 'E-F', 'quality': ['Basic', 'Live']}, 'arrival': {'scheduledTime': {'utc': '2024-10-09 09:45Z', 'local': '2024-10-09 11:45+02:00'}, 'revisedTime': {'utc': '2024-10-09 09:45Z', 'local': '2024-10-09 11:45+02:00'}, 'terminal': '1', 'gate': 'Y07', 'baggageBelt': 'B3', 'quality': ['Basic', 'Live']}, 'number': 'TK 1729', 'status': 'Expected', 'codeshareStatus': 'IsOperator', 'isCargo': False, 'aircraft': {'model': 'Airbus A330-300'}, 'airline': {'name': 'Turkish', 'iata': 'TK', 'icao': 'THY'}}, {'departure': {'airport': {'icao': 'LEPA', 'iata': 'PMI', 'name': 'Palma De Mallorca', 'timeZone': 'Europe/Madrid'}, 'scheduledTime': {'utc': '2024-10-09 07:20Z', 'local': '2024-10-09 09:20+02:00'}, 'revisedTime': {'utc': '2024-10-09 07:20Z', 'local': '2024-10-09 09:20+02:00'}, 'terminal': 'N', 'checkInDesk': '061-067', 'quality': ['Basic', 'Live']}, 'arrival': {'scheduledTime': {'utc': '2024-10-09 09:55Z', 'local': '2024-10-09 11:55+02:00'}, 'revisedTime': {'utc': '2024-10-09 09:55Z', 'local': '2024-10-09 11:55+02:00'}, 'terminal': '1', 'gate': 'S01', 'baggageBelt': 'B3', 'quality': ['Basic', 'Live']}, 'number': 'SR 2489', 'status': 'Expected', 'codeshareStatus': 'IsOperator', 'isCargo': False, 'aircraft': {'model': 'Airbus A320'}, 'airline': {'name': 'SundAir', 'iata': 'SR', 'icao': 'SDR'}}]}\n"
     ]
    }
   ],
   "source": [
    "import requests\n",
    "\n",
    "url = \"https://aerodatabox.p.rapidapi.com/flights/airports/icao/EDDB/2024-10-09T00:00/2024-10-09T11:59\"\n",
    "\n",
    "querystring = {\"withLeg\":\"true\",\"direction\":\"Arrival\",\"withCancelled\":\"false\",\"withCodeshared\":\"true\",\"withCargo\":\"false\",\"withPrivate\":\"false\",\"withLocation\":\"false\"}\n",
    "\n",
    "headers = {\n",
    "\t\"x-rapidapi-key\": AeroDatabox,\n",
    "\t\"x-rapidapi-host\": \"aerodatabox.p.rapidapi.com\"\n",
    "}\n",
    "\n",
    "response = requests.get(url, headers=headers, params=querystring)\n",
    "\n",
    "print(response.json())"
   ]
  },
  {
   "cell_type": "code",
   "execution_count": 5,
   "metadata": {
    "id": "UPp-ru5TtMSP",
    "outputId": "899e2596-b01d-40bb-a9d2-ccc7b7d0b565"
   },
   "outputs": [
    {
     "data": {
      "text/plain": [
       "datetime.date(2024, 10, 8)"
      ]
     },
     "execution_count": 5,
     "metadata": {},
     "output_type": "execute_result"
    }
   ],
   "source": [
    "date_ = datetime.now().date()\n",
    "date_"
   ]
  },
  {
   "cell_type": "code",
   "execution_count": 7,
   "metadata": {
    "id": "50LewfUPtMSQ",
    "outputId": "15082814-87aa-45ed-832c-531a316474e2",
    "tags": []
   },
   "outputs": [
    {
     "data": {
      "text/plain": [
       "'2024-10-08'"
      ]
     },
     "execution_count": 7,
     "metadata": {},
     "output_type": "execute_result"
    }
   ],
   "source": [
    "date_ = date_.strftime(\"%Y-%m-%d\")\n",
    "date_"
   ]
  },
  {
   "cell_type": "code",
   "execution_count": 9,
   "metadata": {
    "id": "XfACMAVOtMSQ",
    "outputId": "1d0e1beb-d1c3-4d84-e55d-4f3c86f5a50f",
    "scrolled": true,
    "tags": []
   },
   "outputs": [
    {
     "data": {
      "text/plain": [
       "{'arrivals': [{'departure': {'airport': {'icao': 'LFPG',\n",
       "     'iata': 'CDG',\n",
       "     'name': 'Paris',\n",
       "     'timeZone': 'Europe/Paris'},\n",
       "    'quality': []},\n",
       "   'arrival': {'scheduledTime': {'utc': '2024-10-08 03:40Z',\n",
       "     'local': '2024-10-08 05:40+02:00'},\n",
       "    'revisedTime': {'utc': '2024-10-08 03:40Z',\n",
       "     'local': '2024-10-08 05:40+02:00'},\n",
       "    'runway': '25R',\n",
       "    'quality': ['Basic', 'Live']},\n",
       "   'number': '5O 5DN',\n",
       "   'callSign': 'FPO5DN',\n",
       "   'status': 'Approaching',\n",
       "   'codeshareStatus': 'IsOperator',\n",
       "   'isCargo': False,\n",
       "   'aircraft': {'reg': 'F-HIQI', 'modeS': '39A208', 'model': 'Boeing 737-800'},\n",
       "   'airline': {'name': 'ASL Airlines France', 'iata': '5O', 'icao': 'FPO'}},\n",
       "  {'departure': {'airport': {'icao': 'LTBJ',\n",
       "     'iata': 'ADB',\n",
       "     'name': 'İzmir',\n",
       "     'timeZone': 'Europe/Istanbul'},\n",
       "    'scheduledTime': {'utc': '2024-10-08 01:25Z',\n",
       "     'local': '2024-10-08 04:25+03:00'},\n",
       "    'revisedTime': {'utc': '2024-10-08 01:47Z',\n",
       "     'local': '2024-10-08 04:47+03:00'},\n",
       "    'runwayTime': {'utc': '2024-10-08 01:49Z',\n",
       "     'local': '2024-10-08 04:49+03:00'},\n",
       "    'terminal': 'I',\n",
       "    'checkInDesk': '12',\n",
       "    'gate': '103',\n",
       "    'quality': ['Basic', 'Live']},\n",
       "   'arrival': {'scheduledTime': {'utc': '2024-10-08 04:30Z',\n",
       "     'local': '2024-10-08 06:30+02:00'},\n",
       "    'revisedTime': {'utc': '2024-10-08 04:32Z',\n",
       "     'local': '2024-10-08 06:32+02:00'},\n",
       "    'terminal': '1',\n",
       "    'gate': 'X17',\n",
       "    'baggageBelt': 'A3',\n",
       "    'quality': ['Basic', 'Live']},\n",
       "   'number': 'XQ 966',\n",
       "   'callSign': 'SXS5D',\n",
       "   'status': 'Arrived',\n",
       "   'codeshareStatus': 'IsOperator',\n",
       "   'isCargo': False,\n",
       "   'aircraft': {'reg': 'TC-SOV', 'modeS': '4BCDF6', 'model': 'Boeing 737'},\n",
       "   'airline': {'name': 'Sun Express', 'iata': 'XQ', 'icao': 'SXS'}},\n",
       "  {'departure': {'airport': {'icao': 'KEWR',\n",
       "     'iata': 'EWR',\n",
       "     'name': 'Newark',\n",
       "     'timeZone': 'America/New_York'},\n",
       "    'scheduledTime': {'utc': '2024-10-07 21:15Z',\n",
       "     'local': '2024-10-07 17:15-04:00'},\n",
       "    'revisedTime': {'utc': '2024-10-07 21:28Z',\n",
       "     'local': '2024-10-07 17:28-04:00'},\n",
       "    'runwayTime': {'utc': '2024-10-07 21:28Z',\n",
       "     'local': '2024-10-07 17:28-04:00'},\n",
       "    'terminal': 'C',\n",
       "    'runway': '22R',\n",
       "    'quality': ['Basic', 'Live']},\n",
       "   'arrival': {'scheduledTime': {'utc': '2024-10-08 05:15Z',\n",
       "     'local': '2024-10-08 07:15+02:00'},\n",
       "    'revisedTime': {'utc': '2024-10-08 05:00Z',\n",
       "     'local': '2024-10-08 07:00+02:00'},\n",
       "    'terminal': '1',\n",
       "    'gate': 'Y17',\n",
       "    'baggageBelt': 'B2',\n",
       "    'quality': ['Basic', 'Live']},\n",
       "   'number': 'UA 962',\n",
       "   'callSign': 'UAL962',\n",
       "   'status': 'Arrived',\n",
       "   'codeshareStatus': 'IsOperator',\n",
       "   'isCargo': False,\n",
       "   'aircraft': {'reg': 'N77066', 'modeS': 'AA6C50', 'model': 'Boeing 767-400'},\n",
       "   'airline': {'name': 'United', 'iata': 'UA', 'icao': 'UAL'}},\n",
       "  {'departure': {'airport': {'icao': 'EDDF',\n",
       "     'iata': 'FRA',\n",
       "     'name': 'Frankfurt-am-Main',\n",
       "     'timeZone': 'Europe/Berlin'},\n",
       "    'scheduledTime': {'utc': '2024-10-08 04:15Z',\n",
       "     'local': '2024-10-08 06:15+02:00'},\n",
       "    'revisedTime': {'utc': '2024-10-08 04:15Z',\n",
       "     'local': '2024-10-08 06:15+02:00'},\n",
       "    'runwayTime': {'utc': '2024-10-08 04:25Z',\n",
       "     'local': '2024-10-08 06:25+02:00'},\n",
       "    'terminal': '1',\n",
       "    'checkInDesk': '259-335',\n",
       "    'gate': 'A11',\n",
       "    'runway': '18',\n",
       "    'quality': ['Basic', 'Live']},\n",
       "   'arrival': {'scheduledTime': {'utc': '2024-10-08 05:25Z',\n",
       "     'local': '2024-10-08 07:25+02:00'},\n",
       "    'revisedTime': {'utc': '2024-10-08 05:08Z',\n",
       "     'local': '2024-10-08 07:08+02:00'},\n",
       "    'terminal': '1',\n",
       "    'gate': 'B07',\n",
       "    'baggageBelt': 'B1',\n",
       "    'quality': ['Basic', 'Live']},\n",
       "   'number': 'LH 172',\n",
       "   'callSign': 'DLH172',\n",
       "   'status': 'Arrived',\n",
       "   'codeshareStatus': 'IsOperator',\n",
       "   'isCargo': False,\n",
       "   'aircraft': {'reg': 'D-AINM',\n",
       "    'modeS': '3C65CD',\n",
       "    'model': 'Airbus A321 (Sharklets)'},\n",
       "   'airline': {'name': 'Lufthansa', 'iata': 'LH', 'icao': 'DLH'}},\n",
       "  {'departure': {'airport': {'icao': 'LTCC',\n",
       "     'iata': 'DIY',\n",
       "     'name': 'Diyarbakır',\n",
       "     'timeZone': 'Europe/Istanbul'},\n",
       "    'scheduledTime': {'utc': '2024-10-08 00:30Z',\n",
       "     'local': '2024-10-08 03:30+03:00'},\n",
       "    'quality': ['Basic']},\n",
       "   'arrival': {'scheduledTime': {'utc': '2024-10-08 04:45Z',\n",
       "     'local': '2024-10-08 06:45+02:00'},\n",
       "    'revisedTime': {'utc': '2024-10-08 05:11Z',\n",
       "     'local': '2024-10-08 07:11+02:00'},\n",
       "    'terminal': '1',\n",
       "    'gate': 'X19',\n",
       "    'baggageBelt': 'A2',\n",
       "    'quality': ['Basic', 'Live']},\n",
       "   'number': 'XQ 1700',\n",
       "   'status': 'Arrived',\n",
       "   'codeshareStatus': 'IsOperator',\n",
       "   'isCargo': False,\n",
       "   'aircraft': {'reg': 'TC-SUU', 'modeS': '4BCEB5', 'model': 'Boeing 737'},\n",
       "   'airline': {'name': 'Sun Express', 'iata': 'XQ', 'icao': 'SXS'}},\n",
       "  {'departure': {'airport': {'icao': 'EDDS',\n",
       "     'iata': 'STR',\n",
       "     'name': 'Stuttgart',\n",
       "     'timeZone': 'Europe/Berlin'},\n",
       "    'scheduledTime': {'utc': '2024-10-08 04:15Z',\n",
       "     'local': '2024-10-08 06:15+02:00'},\n",
       "    'revisedTime': {'utc': '2024-10-08 04:15Z',\n",
       "     'local': '2024-10-08 06:15+02:00'},\n",
       "    'runwayTime': {'utc': '2024-10-08 04:24Z',\n",
       "     'local': '2024-10-08 06:24+02:00'},\n",
       "    'terminal': '3',\n",
       "    'gate': '321',\n",
       "    'runway': '07',\n",
       "    'quality': ['Basic', 'Live']},\n",
       "   'arrival': {'scheduledTime': {'utc': '2024-10-08 05:25Z',\n",
       "     'local': '2024-10-08 07:25+02:00'},\n",
       "    'revisedTime': {'utc': '2024-10-08 05:13Z',\n",
       "     'local': '2024-10-08 07:13+02:00'},\n",
       "    'terminal': '1',\n",
       "    'gate': 'A35',\n",
       "    'baggageBelt': 'A1',\n",
       "    'quality': ['Basic', 'Live']},\n",
       "   'number': 'EW 2002',\n",
       "   'callSign': 'EWG2003',\n",
       "   'status': 'Arrived',\n",
       "   'codeshareStatus': 'IsOperator',\n",
       "   'isCargo': False,\n",
       "   'aircraft': {'reg': '9H-SWK', 'modeS': '4D24FA', 'model': 'Airbus A320'},\n",
       "   'airline': {'name': 'Eurowings', 'iata': 'EW', 'icao': 'EWG'}},\n",
       "  {'departure': {'airport': {'icao': 'EDDS',\n",
       "     'iata': 'STR',\n",
       "     'name': 'Stuttgart',\n",
       "     'timeZone': 'Europe/Berlin'},\n",
       "    'scheduledTime': {'utc': '2024-10-08 04:15Z',\n",
       "     'local': '2024-10-08 06:15+02:00'},\n",
       "    'revisedTime': {'utc': '2024-10-08 04:15Z',\n",
       "     'local': '2024-10-08 06:15+02:00'},\n",
       "    'runwayTime': {'utc': '2024-10-08 04:24Z',\n",
       "     'local': '2024-10-08 06:24+02:00'},\n",
       "    'terminal': '3',\n",
       "    'gate': '321',\n",
       "    'runway': '07',\n",
       "    'quality': ['Basic', 'Live']},\n",
       "   'arrival': {'scheduledTime': {'utc': '2024-10-08 05:25Z',\n",
       "     'local': '2024-10-08 07:25+02:00'},\n",
       "    'revisedTime': {'utc': '2024-10-08 05:13Z',\n",
       "     'local': '2024-10-08 07:13+02:00'},\n",
       "    'terminal': '1',\n",
       "    'gate': 'A35',\n",
       "    'baggageBelt': 'A1',\n",
       "    'quality': ['Basic', 'Live']},\n",
       "   'number': 'LH 5385',\n",
       "   'callSign': 'EWG2002',\n",
       "   'status': 'Arrived',\n",
       "   'codeshareStatus': 'IsCodeshared',\n",
       "   'isCargo': False,\n",
       "   'aircraft': {'reg': '9H-SWK', 'modeS': '4D24FA', 'model': 'Airbus A320'},\n",
       "   'airline': {'name': 'Lufthansa', 'iata': 'LH', 'icao': 'DLH'}},\n",
       "  {'departure': {'airport': {'icao': 'EDDK',\n",
       "     'iata': 'CGN',\n",
       "     'name': 'Cologne',\n",
       "     'timeZone': 'Europe/Berlin'},\n",
       "    'scheduledTime': {'utc': '2024-10-08 04:30Z',\n",
       "     'local': '2024-10-08 06:30+02:00'},\n",
       "    'revisedTime': {'utc': '2024-10-08 04:34Z',\n",
       "     'local': '2024-10-08 06:34+02:00'},\n",
       "    'runwayTime': {'utc': '2024-10-08 04:34Z',\n",
       "     'local': '2024-10-08 06:34+02:00'},\n",
       "    'terminal': '1',\n",
       "    'runway': '14L',\n",
       "    'quality': ['Basic', 'Live']},\n",
       "   'arrival': {'scheduledTime': {'utc': '2024-10-08 05:40Z',\n",
       "     'local': '2024-10-08 07:40+02:00'},\n",
       "    'revisedTime': {'utc': '2024-10-08 05:17Z',\n",
       "     'local': '2024-10-08 07:17+02:00'},\n",
       "    'runwayTime': {'utc': '2024-10-08 05:22Z',\n",
       "     'local': '2024-10-08 07:22+02:00'},\n",
       "    'terminal': '1',\n",
       "    'gate': 'A06',\n",
       "    'baggageBelt': 'A1',\n",
       "    'quality': ['Basic', 'Live']},\n",
       "   'number': 'EW 12',\n",
       "   'callSign': 'EWG5MK',\n",
       "   'status': 'Arrived',\n",
       "   'codeshareStatus': 'IsOperator',\n",
       "   'isCargo': False,\n",
       "   'aircraft': {'reg': 'OK-TSO', 'modeS': '49D307', 'model': 'Boeing 737-800'},\n",
       "   'airline': {'name': 'Eurowings', 'iata': 'EW', 'icao': 'EWG'}},\n",
       "  {'departure': {'airport': {'icao': 'LOWW',\n",
       "     'iata': 'VIE',\n",
       "     'name': 'Vienna',\n",
       "     'timeZone': 'Europe/Vienna'},\n",
       "    'scheduledTime': {'utc': '2024-10-08 04:20Z',\n",
       "     'local': '2024-10-08 06:20+02:00'},\n",
       "    'revisedTime': {'utc': '2024-10-08 04:29Z',\n",
       "     'local': '2024-10-08 06:29+02:00'},\n",
       "    'terminal': '3',\n",
       "    'checkInDesk': '351-372',\n",
       "    'gate': 'F06',\n",
       "    'quality': ['Basic', 'Live']},\n",
       "   'arrival': {'scheduledTime': {'utc': '2024-10-08 05:30Z',\n",
       "     'local': '2024-10-08 07:30+02:00'},\n",
       "    'revisedTime': {'utc': '2024-10-08 05:20Z',\n",
       "     'local': '2024-10-08 07:20+02:00'},\n",
       "    'runwayTime': {'utc': '2024-10-08 05:25Z',\n",
       "     'local': '2024-10-08 07:25+02:00'},\n",
       "    'terminal': '1',\n",
       "    'gate': 'A02',\n",
       "    'baggageBelt': 'A1',\n",
       "    'quality': ['Basic', 'Live']},\n",
       "   'number': 'OS 221',\n",
       "   'callSign': 'AUA221W',\n",
       "   'status': 'Arrived',\n",
       "   'codeshareStatus': 'IsOperator',\n",
       "   'isCargo': False,\n",
       "   'aircraft': {'reg': 'OE-LZE',\n",
       "    'modeS': '440604',\n",
       "    'model': 'Airbus A320 (Sharklets)'},\n",
       "   'airline': {'name': 'Austrian', 'iata': 'OS', 'icao': 'AUA'}},\n",
       "  {'departure': {'airport': {'icao': 'EDDL',\n",
       "     'iata': 'DUS',\n",
       "     'name': 'Düsseldorf',\n",
       "     'timeZone': 'Europe/Berlin'},\n",
       "    'scheduledTime': {'utc': '2024-10-08 04:35Z',\n",
       "     'local': '2024-10-08 06:35+02:00'},\n",
       "    'revisedTime': {'utc': '2024-10-08 04:34Z',\n",
       "     'local': '2024-10-08 06:34+02:00'},\n",
       "    'runwayTime': {'utc': '2024-10-08 04:43Z',\n",
       "     'local': '2024-10-08 06:43+02:00'},\n",
       "    'terminal': 'B',\n",
       "    'checkInDesk': '151,170',\n",
       "    'gate': 'A25',\n",
       "    'quality': ['Basic', 'Live']},\n",
       "   'arrival': {'scheduledTime': {'utc': '2024-10-08 05:45Z',\n",
       "     'local': '2024-10-08 07:45+02:00'},\n",
       "    'revisedTime': {'utc': '2024-10-08 05:28Z',\n",
       "     'local': '2024-10-08 07:28+02:00'},\n",
       "    'terminal': '1',\n",
       "    'gate': 'A37',\n",
       "    'baggageBelt': 'A1',\n",
       "    'quality': ['Basic', 'Live']},\n",
       "   'number': 'EW 9048',\n",
       "   'callSign': 'GWI52FP',\n",
       "   'status': 'Arrived',\n",
       "   'codeshareStatus': 'IsOperator',\n",
       "   'isCargo': False,\n",
       "   'aircraft': {'reg': '9H-EUV', 'modeS': '4D240D', 'model': 'Airbus A320'},\n",
       "   'airline': {'name': 'Eurowings', 'iata': 'EW', 'icao': 'EWG'}},\n",
       "  {'departure': {'airport': {'icao': 'KJFK',\n",
       "     'iata': 'JFK',\n",
       "     'name': 'New York',\n",
       "     'timeZone': 'America/New_York'},\n",
       "    'scheduledTime': {'utc': '2024-10-07 21:35Z',\n",
       "     'local': '2024-10-07 17:35-04:00'},\n",
       "    'revisedTime': {'utc': '2024-10-07 21:51Z',\n",
       "     'local': '2024-10-07 17:51-04:00'},\n",
       "    'runwayTime': {'utc': '2024-10-07 21:51Z',\n",
       "     'local': '2024-10-07 17:51-04:00'},\n",
       "    'terminal': '4',\n",
       "    'runway': '31L',\n",
       "    'quality': ['Basic', 'Live']},\n",
       "   'arrival': {'scheduledTime': {'utc': '2024-10-08 05:50Z',\n",
       "     'local': '2024-10-08 07:50+02:00'},\n",
       "    'revisedTime': {'utc': '2024-10-08 05:30Z',\n",
       "     'local': '2024-10-08 07:30+02:00'},\n",
       "    'runwayTime': {'utc': '2024-10-08 05:31Z',\n",
       "     'local': '2024-10-08 07:31+02:00'},\n",
       "    'terminal': '1',\n",
       "    'gate': 'Y02',\n",
       "    'baggageBelt': 'B3',\n",
       "    'runway': '07R',\n",
       "    'quality': ['Basic', 'Live']},\n",
       "   'number': 'DL 92',\n",
       "   'callSign': 'DAL92',\n",
       "   'status': 'Arrived',\n",
       "   'codeshareStatus': 'IsOperator',\n",
       "   'isCargo': False,\n",
       "   'aircraft': {'reg': 'N194DN', 'modeS': 'A1775F', 'model': 'Boeing 767-300'},\n",
       "   'airline': {'name': 'Delta Air Lines', 'iata': 'DL', 'icao': 'DAL'}},\n",
       "  {'departure': {'airport': {'icao': 'EDDL',\n",
       "     'iata': 'DUS',\n",
       "     'name': 'Düsseldorf',\n",
       "     'timeZone': 'Europe/Berlin'},\n",
       "    'scheduledTime': {'utc': '2024-10-08 04:45Z',\n",
       "     'local': '2024-10-08 06:45+02:00'},\n",
       "    'revisedTime': {'utc': '2024-10-08 04:45Z',\n",
       "     'local': '2024-10-08 06:45+02:00'},\n",
       "    'runwayTime': {'utc': '2024-10-08 04:45Z',\n",
       "     'local': '2024-10-08 06:45+02:00'},\n",
       "    'runway': '23L',\n",
       "    'quality': ['Basic', 'Live']},\n",
       "   'arrival': {'scheduledTime': {'utc': '2024-10-08 05:31Z',\n",
       "     'local': '2024-10-08 07:31+02:00'},\n",
       "    'revisedTime': {'utc': '2024-10-08 05:31Z',\n",
       "     'local': '2024-10-08 07:31+02:00'},\n",
       "    'quality': ['Basic', 'Live']},\n",
       "   'number': '4U 52FP',\n",
       "   'callSign': 'GWI9XL',\n",
       "   'status': 'Approaching',\n",
       "   'codeshareStatus': 'IsOperator',\n",
       "   'isCargo': False,\n",
       "   'aircraft': {'reg': 'D-AKNT', 'modeS': '3C6DD4', 'model': 'Airbus A319'},\n",
       "   'airline': {'name': 'Germanwings', 'iata': '4U', 'icao': 'GWI'}},\n",
       "  {'departure': {'airport': {'icao': 'LYBE',\n",
       "     'iata': 'BEG',\n",
       "     'name': 'Belgrade',\n",
       "     'timeZone': 'Europe/Belgrade'},\n",
       "    'scheduledTime': {'utc': '2024-10-08 04:10Z',\n",
       "     'local': '2024-10-08 06:10+02:00'},\n",
       "    'terminal': '2',\n",
       "    'quality': ['Basic']},\n",
       "   'arrival': {'scheduledTime': {'utc': '2024-10-08 06:05Z',\n",
       "     'local': '2024-10-08 08:05+02:00'},\n",
       "    'revisedTime': {'utc': '2024-10-08 05:36Z',\n",
       "     'local': '2024-10-08 07:36+02:00'},\n",
       "    'terminal': '2',\n",
       "    'gate': 'Z40',\n",
       "    'baggageBelt': 'C2',\n",
       "    'quality': ['Basic', 'Live']},\n",
       "   'number': 'W6 4009',\n",
       "   'callSign': 'WZZ2RS',\n",
       "   'status': 'Arrived',\n",
       "   'codeshareStatus': 'IsOperator',\n",
       "   'isCargo': False,\n",
       "   'aircraft': {'reg': 'HA-LYL', 'modeS': '471F87', 'model': 'Airbus A320'},\n",
       "   'airline': {'name': 'Wizz Air', 'iata': 'W6', 'icao': 'WZZ'}},\n",
       "  {'departure': {'airport': {'icao': 'LTAI',\n",
       "     'iata': 'AYT',\n",
       "     'name': 'Antalya',\n",
       "     'timeZone': 'Europe/Istanbul'},\n",
       "    'scheduledTime': {'utc': '2024-10-08 01:55Z',\n",
       "     'local': '2024-10-08 04:55+03:00'},\n",
       "    'revisedTime': {'utc': '2024-10-08 02:35Z',\n",
       "     'local': '2024-10-08 05:35+03:00'},\n",
       "    'terminal': '1',\n",
       "    'checkInDesk': '123-125',\n",
       "    'quality': ['Basic', 'Live']},\n",
       "   'arrival': {'scheduledTime': {'utc': '2024-10-08 05:30Z',\n",
       "     'local': '2024-10-08 07:30+02:00'},\n",
       "    'revisedTime': {'utc': '2024-10-08 05:39Z',\n",
       "     'local': '2024-10-08 07:39+02:00'},\n",
       "    'terminal': '1',\n",
       "    'gate': 'X01',\n",
       "    'baggageBelt': 'A4',\n",
       "    'quality': ['Basic', 'Live']},\n",
       "   'number': 'XQ 668',\n",
       "   'callSign': 'SXS1MT',\n",
       "   'status': 'Arrived',\n",
       "   'codeshareStatus': 'IsOperator',\n",
       "   'isCargo': False,\n",
       "   'aircraft': {'reg': 'TC-SEZ', 'modeS': '4BCCBA', 'model': 'Boeing 737-800'},\n",
       "   'airline': {'name': 'Sun Express', 'iata': 'XQ', 'icao': 'SXS'}},\n",
       "  {'departure': {'airport': {'icao': 'LIPQ',\n",
       "     'iata': 'TRS',\n",
       "     'name': 'Trieste',\n",
       "     'timeZone': 'Europe/Rome'},\n",
       "    'scheduledTime': {'utc': '2024-10-08 04:20Z',\n",
       "     'local': '2024-10-08 06:20+02:00'},\n",
       "    'revisedTime': {'utc': '2024-10-08 04:37Z',\n",
       "     'local': '2024-10-08 06:37+02:00'},\n",
       "    'runwayTime': {'utc': '2024-10-08 04:37Z',\n",
       "     'local': '2024-10-08 06:37+02:00'},\n",
       "    'quality': ['Basic', 'Live']},\n",
       "   'arrival': {'scheduledTime': {'utc': '2024-10-08 05:55Z',\n",
       "     'local': '2024-10-08 07:55+02:00'},\n",
       "    'revisedTime': {'utc': '2024-10-08 05:41Z',\n",
       "     'local': '2024-10-08 07:41+02:00'},\n",
       "    'terminal': '2',\n",
       "    'gate': 'Z36',\n",
       "    'baggageBelt': 'C3',\n",
       "    'quality': ['Basic', 'Live']},\n",
       "   'number': 'FR 6781',\n",
       "   'callSign': 'RYR6781',\n",
       "   'status': 'Arrived',\n",
       "   'codeshareStatus': 'IsOperator',\n",
       "   'isCargo': False,\n",
       "   'aircraft': {'reg': '9H-QDM', 'modeS': '4D227D', 'model': 'Boeing 737-800'},\n",
       "   'airline': {'name': 'Ryanair', 'iata': 'FR', 'icao': 'RYR'}},\n",
       "  {'departure': {'airport': {'icao': 'EVRA',\n",
       "     'iata': 'RIX',\n",
       "     'name': 'Riga',\n",
       "     'timeZone': 'Europe/Riga'},\n",
       "    'scheduledTime': {'utc': '2024-10-08 04:00Z',\n",
       "     'local': '2024-10-08 07:00+03:00'},\n",
       "    'revisedTime': {'utc': '2024-10-08 04:00Z',\n",
       "     'local': '2024-10-08 07:00+03:00'},\n",
       "    'terminal': 'B',\n",
       "    'gate': 'B19',\n",
       "    'quality': ['Basic', 'Live']},\n",
       "   'arrival': {'scheduledTime': {'utc': '2024-10-08 05:40Z',\n",
       "     'local': '2024-10-08 07:40+02:00'},\n",
       "    'revisedTime': {'utc': '2024-10-08 05:43Z',\n",
       "     'local': '2024-10-08 07:43+02:00'},\n",
       "    'terminal': '1',\n",
       "    'gate': 'A31',\n",
       "    'baggageBelt': 'B1',\n",
       "    'quality': ['Basic', 'Live']},\n",
       "   'number': 'JU 7659',\n",
       "   'status': 'Arrived',\n",
       "   'codeshareStatus': 'IsCodeshared',\n",
       "   'isCargo': False,\n",
       "   'aircraft': {'reg': 'YR-ABA', 'modeS': '4A0441', 'model': 'Airbus A319'},\n",
       "   'airline': {'name': 'JU'}},\n",
       "  {'departure': {'airport': {'icao': 'EVRA',\n",
       "     'iata': 'RIX',\n",
       "     'name': 'Riga',\n",
       "     'timeZone': 'Europe/Riga'},\n",
       "    'scheduledTime': {'utc': '2024-10-08 04:00Z',\n",
       "     'local': '2024-10-08 07:00+03:00'},\n",
       "    'revisedTime': {'utc': '2024-10-08 04:00Z',\n",
       "     'local': '2024-10-08 07:00+03:00'},\n",
       "    'terminal': 'B',\n",
       "    'gate': 'B19',\n",
       "    'quality': ['Basic', 'Live']},\n",
       "   'arrival': {'scheduledTime': {'utc': '2024-10-08 05:40Z',\n",
       "     'local': '2024-10-08 07:40+02:00'},\n",
       "    'revisedTime': {'utc': '2024-10-08 05:43Z',\n",
       "     'local': '2024-10-08 07:43+02:00'},\n",
       "    'terminal': '1',\n",
       "    'gate': 'A31',\n",
       "    'baggageBelt': 'B1',\n",
       "    'quality': ['Basic', 'Live']},\n",
       "   'number': 'KM 2813',\n",
       "   'status': 'Arrived',\n",
       "   'codeshareStatus': 'IsCodeshared',\n",
       "   'isCargo': False,\n",
       "   'aircraft': {'reg': 'YR-ABA', 'modeS': '4A0441', 'model': 'Airbus A319'},\n",
       "   'airline': {'name': 'KM Malta', 'iata': 'KM', 'icao': 'KMM'}},\n",
       "  {'departure': {'airport': {'icao': 'EVRA',\n",
       "     'iata': 'RIX',\n",
       "     'name': 'Riga',\n",
       "     'timeZone': 'Europe/Riga'},\n",
       "    'scheduledTime': {'utc': '2024-10-08 04:00Z',\n",
       "     'local': '2024-10-08 07:00+03:00'},\n",
       "    'revisedTime': {'utc': '2024-10-08 04:00Z',\n",
       "     'local': '2024-10-08 07:00+03:00'},\n",
       "    'terminal': 'B',\n",
       "    'gate': 'B19',\n",
       "    'quality': ['Basic', 'Live']},\n",
       "   'arrival': {'scheduledTime': {'utc': '2024-10-08 05:40Z',\n",
       "     'local': '2024-10-08 07:40+02:00'},\n",
       "    'revisedTime': {'utc': '2024-10-08 05:43Z',\n",
       "     'local': '2024-10-08 07:43+02:00'},\n",
       "    'terminal': '1',\n",
       "    'gate': 'A31',\n",
       "    'baggageBelt': 'B1',\n",
       "    'quality': ['Basic', 'Live']},\n",
       "   'number': 'A3 3219',\n",
       "   'status': 'Arrived',\n",
       "   'codeshareStatus': 'IsCodeshared',\n",
       "   'isCargo': False,\n",
       "   'aircraft': {'reg': 'YR-ABA', 'modeS': '4A0441', 'model': 'Airbus A319'},\n",
       "   'airline': {'name': 'Aegean', 'iata': 'A3', 'icao': 'AEE'}},\n",
       "  {'departure': {'airport': {'icao': 'EVRA',\n",
       "     'iata': 'RIX',\n",
       "     'name': 'Riga',\n",
       "     'timeZone': 'Europe/Riga'},\n",
       "    'scheduledTime': {'utc': '2024-10-08 04:00Z',\n",
       "     'local': '2024-10-08 07:00+03:00'},\n",
       "    'revisedTime': {'utc': '2024-10-08 04:00Z',\n",
       "     'local': '2024-10-08 07:00+03:00'},\n",
       "    'terminal': 'B',\n",
       "    'gate': 'B19',\n",
       "    'quality': ['Basic', 'Live']},\n",
       "   'arrival': {'scheduledTime': {'utc': '2024-10-08 05:40Z',\n",
       "     'local': '2024-10-08 07:40+02:00'},\n",
       "    'revisedTime': {'utc': '2024-10-08 05:43Z',\n",
       "     'local': '2024-10-08 07:43+02:00'},\n",
       "    'terminal': '1',\n",
       "    'gate': 'A31',\n",
       "    'baggageBelt': 'B1',\n",
       "    'quality': ['Basic', 'Live']},\n",
       "   'number': 'BT 211',\n",
       "   'callSign': 'BTI74A',\n",
       "   'status': 'Arrived',\n",
       "   'codeshareStatus': 'IsOperator',\n",
       "   'isCargo': False,\n",
       "   'aircraft': {'reg': 'YR-ABA', 'modeS': '4A0441', 'model': 'Airbus A319'},\n",
       "   'airline': {'name': 'airBaltic', 'iata': 'BT', 'icao': 'BTI'}},\n",
       "  {'departure': {'airport': {'icao': 'LTAI',\n",
       "     'iata': 'AYT',\n",
       "     'name': 'Antalya',\n",
       "     'timeZone': 'Europe/Istanbul'},\n",
       "    'scheduledTime': {'utc': '2024-10-08 02:15Z',\n",
       "     'local': '2024-10-08 05:15+03:00'},\n",
       "    'revisedTime': {'utc': '2024-10-08 02:15Z',\n",
       "     'local': '2024-10-08 05:15+03:00'},\n",
       "    'terminal': '1',\n",
       "    'checkInDesk': '120-131',\n",
       "    'quality': ['Basic', 'Live']},\n",
       "   'arrival': {'scheduledTime': {'utc': '2024-10-08 05:50Z',\n",
       "     'local': '2024-10-08 07:50+02:00'},\n",
       "    'revisedTime': {'utc': '2024-10-08 05:49Z',\n",
       "     'local': '2024-10-08 07:49+02:00'},\n",
       "    'terminal': '1',\n",
       "    'gate': 'X03',\n",
       "    'baggageBelt': 'B2',\n",
       "    'quality': ['Basic', 'Live']},\n",
       "   'number': 'XQ 676',\n",
       "   'callSign': 'SXS676',\n",
       "   'status': 'Arrived',\n",
       "   'codeshareStatus': 'IsOperator',\n",
       "   'isCargo': False,\n",
       "   'aircraft': {'reg': 'TC-SNV', 'modeS': '4BCDD6', 'model': 'Boeing 737-800'},\n",
       "   'airline': {'name': 'Sun Express', 'iata': 'XQ', 'icao': 'SXS'}},\n",
       "  {'departure': {'airport': {'icao': 'OTHH',\n",
       "     'iata': 'DOH',\n",
       "     'name': 'Doha',\n",
       "     'timeZone': 'Asia/Qatar'},\n",
       "    'scheduledTime': {'utc': '2024-10-07 23:10Z',\n",
       "     'local': '2024-10-08 02:10+03:00'},\n",
       "    'revisedTime': {'utc': '2024-10-07 23:36Z',\n",
       "     'local': '2024-10-08 02:36+03:00'},\n",
       "    'runwayTime': {'utc': '2024-10-07 23:51Z',\n",
       "     'local': '2024-10-08 02:51+03:00'},\n",
       "    'gate': 'C54',\n",
       "    'quality': ['Basic', 'Live']},\n",
       "   'arrival': {'scheduledTime': {'utc': '2024-10-08 05:20Z',\n",
       "     'local': '2024-10-08 07:20+02:00'},\n",
       "    'revisedTime': {'utc': '2024-10-08 05:51Z',\n",
       "     'local': '2024-10-08 07:51+02:00'},\n",
       "    'terminal': '1',\n",
       "    'gate': 'X07',\n",
       "    'baggageBelt': 'A3',\n",
       "    'quality': ['Basic', 'Live']},\n",
       "   'number': 'QR 79',\n",
       "   'status': 'Arrived',\n",
       "   'codeshareStatus': 'IsOperator',\n",
       "   'isCargo': False,\n",
       "   'aircraft': {'reg': 'A7-BHI', 'modeS': '06A2EC', 'model': 'Boeing 787-9'},\n",
       "   'airline': {'name': 'Qatar Airways', 'iata': 'QR', 'icao': 'QTR'}},\n",
       "  {'departure': {'airport': {'icao': 'ELLX',\n",
       "     'iata': 'LUX',\n",
       "     'name': 'Luxembourg',\n",
       "     'timeZone': 'Europe/Luxembourg'},\n",
       "    'scheduledTime': {'utc': '2024-10-08 04:35Z',\n",
       "     'local': '2024-10-08 06:35+02:00'},\n",
       "    'revisedTime': {'utc': '2024-10-08 04:31Z',\n",
       "     'local': '2024-10-08 06:31+02:00'},\n",
       "    'runwayTime': {'utc': '2024-10-08 04:41Z',\n",
       "     'local': '2024-10-08 06:41+02:00'},\n",
       "    'terminal': 'A',\n",
       "    'gate': 'A20',\n",
       "    'quality': ['Basic', 'Live']},\n",
       "   'arrival': {'scheduledTime': {'utc': '2024-10-08 06:05Z',\n",
       "     'local': '2024-10-08 08:05+02:00'},\n",
       "    'revisedTime': {'utc': '2024-10-08 05:54Z',\n",
       "     'local': '2024-10-08 07:54+02:00'},\n",
       "    'terminal': '1',\n",
       "    'gate': 'S01',\n",
       "    'baggageBelt': 'B4',\n",
       "    'quality': ['Basic', 'Live']},\n",
       "   'number': 'LG 9471',\n",
       "   'callSign': 'LGL91B',\n",
       "   'status': 'Arrived',\n",
       "   'codeshareStatus': 'IsOperator',\n",
       "   'isCargo': False,\n",
       "   'aircraft': {'reg': 'LX-LGN',\n",
       "    'modeS': '4D00D4',\n",
       "    'model': 'De Havilland Canada DHC-8-400 Dash 8Q'},\n",
       "   'airline': {'name': 'Luxair', 'iata': 'LG', 'icao': 'LGL'}},\n",
       "  {'departure': {'airport': {'icao': 'ESSA',\n",
       "     'iata': 'ARN',\n",
       "     'name': 'Stockholm',\n",
       "     'timeZone': 'Europe/Stockholm'},\n",
       "    'scheduledTime': {'utc': '2024-10-08 04:20Z',\n",
       "     'local': '2024-10-08 06:20+02:00'},\n",
       "    'revisedTime': {'utc': '2024-10-08 04:18Z',\n",
       "     'local': '2024-10-08 06:18+02:00'},\n",
       "    'runwayTime': {'utc': '2024-10-08 04:33Z',\n",
       "     'local': '2024-10-08 06:33+02:00'},\n",
       "    'terminal': '5',\n",
       "    'checkInDesk': '22-24',\n",
       "    'gate': 'C34',\n",
       "    'runway': '19R',\n",
       "    'quality': ['Basic', 'Live']},\n",
       "   'arrival': {'scheduledTime': {'utc': '2024-10-08 05:55Z',\n",
       "     'local': '2024-10-08 07:55+02:00'},\n",
       "    'revisedTime': {'utc': '2024-10-08 05:55Z',\n",
       "     'local': '2024-10-08 07:55+02:00'},\n",
       "    'terminal': '1',\n",
       "    'gate': 'A17',\n",
       "    'baggageBelt': 'A1',\n",
       "    'quality': ['Basic', 'Live']},\n",
       "   'number': 'EW 4600',\n",
       "   'callSign': 'EWG4600',\n",
       "   'status': 'Arrived',\n",
       "   'codeshareStatus': 'IsOperator',\n",
       "   'isCargo': False,\n",
       "   'aircraft': {'reg': '9H-EWE', 'modeS': '4D2417', 'model': 'Airbus A320'},\n",
       "   'airline': {'name': 'Eurowings', 'iata': 'EW', 'icao': 'EWG'}},\n",
       "  {'departure': {'airport': {'icao': 'ESSA',\n",
       "     'iata': 'ARN',\n",
       "     'name': 'Stockholm',\n",
       "     'timeZone': 'Europe/Stockholm'},\n",
       "    'scheduledTime': {'utc': '2024-10-08 04:20Z',\n",
       "     'local': '2024-10-08 06:20+02:00'},\n",
       "    'revisedTime': {'utc': '2024-10-08 04:18Z',\n",
       "     'local': '2024-10-08 06:18+02:00'},\n",
       "    'runwayTime': {'utc': '2024-10-08 04:33Z',\n",
       "     'local': '2024-10-08 06:33+02:00'},\n",
       "    'terminal': '5',\n",
       "    'checkInDesk': '22-24',\n",
       "    'gate': 'C34',\n",
       "    'runway': '19R',\n",
       "    'quality': ['Basic', 'Live']},\n",
       "   'arrival': {'scheduledTime': {'utc': '2024-10-08 05:55Z',\n",
       "     'local': '2024-10-08 07:55+02:00'},\n",
       "    'revisedTime': {'utc': '2024-10-08 05:55Z',\n",
       "     'local': '2024-10-08 07:55+02:00'},\n",
       "    'terminal': '1',\n",
       "    'gate': 'A17',\n",
       "    'baggageBelt': 'A1',\n",
       "    'quality': ['Basic', 'Live']},\n",
       "   'number': 'LH 5344',\n",
       "   'callSign': 'EWG4600',\n",
       "   'status': 'Arrived',\n",
       "   'codeshareStatus': 'IsCodeshared',\n",
       "   'isCargo': False,\n",
       "   'aircraft': {'reg': '9H-EWE', 'modeS': '4D2417', 'model': 'Airbus A320'},\n",
       "   'airline': {'name': 'Lufthansa', 'iata': 'LH', 'icao': 'DLH'}},\n",
       "  {'departure': {'airport': {'icao': 'EDDR',\n",
       "     'iata': 'SCN',\n",
       "     'name': 'Saarbrücken',\n",
       "     'timeZone': 'Europe/Berlin'},\n",
       "    'scheduledTime': {'utc': '2024-10-08 04:30Z',\n",
       "     'local': '2024-10-08 06:30+02:00'},\n",
       "    'quality': ['Basic']},\n",
       "   'arrival': {'scheduledTime': {'utc': '2024-10-08 06:05Z',\n",
       "     'local': '2024-10-08 08:05+02:00'},\n",
       "    'revisedTime': {'utc': '2024-10-08 05:57Z',\n",
       "     'local': '2024-10-08 07:57+02:00'},\n",
       "    'terminal': '2',\n",
       "    'gate': 'Z29',\n",
       "    'baggageBelt': 'C1',\n",
       "    'quality': ['Basic', 'Live']},\n",
       "   'number': 'DX 121',\n",
       "   'status': 'Arrived',\n",
       "   'codeshareStatus': 'IsOperator',\n",
       "   'isCargo': False,\n",
       "   'aircraft': {'reg': 'OY-JRJ', 'modeS': '45AA4A', 'model': 'ATR 42-300'},\n",
       "   'airline': {'name': 'Danish Air', 'iata': 'DX', 'icao': 'DTR'}},\n",
       "  {'departure': {'airport': {'icao': 'EDDM',\n",
       "     'iata': 'MUC',\n",
       "     'name': 'Munich',\n",
       "     'timeZone': 'Europe/Berlin'},\n",
       "    'scheduledTime': {'utc': '2024-10-08 05:00Z',\n",
       "     'local': '2024-10-08 07:00+02:00'},\n",
       "    'revisedTime': {'utc': '2024-10-08 05:00Z',\n",
       "     'local': '2024-10-08 07:00+02:00'},\n",
       "    'terminal': '2',\n",
       "    'quality': ['Basic', 'Live']},\n",
       "   'arrival': {'scheduledTime': {'utc': '2024-10-08 06:05Z',\n",
       "     'local': '2024-10-08 08:05+02:00'},\n",
       "    'revisedTime': {'utc': '2024-10-08 05:58Z',\n",
       "     'local': '2024-10-08 07:58+02:00'},\n",
       "    'runwayTime': {'utc': '2024-10-08 06:02Z',\n",
       "     'local': '2024-10-08 08:02+02:00'},\n",
       "    'terminal': '1',\n",
       "    'gate': 'B06',\n",
       "    'baggageBelt': 'B4',\n",
       "    'quality': ['Basic', 'Live']},\n",
       "   'number': 'LH 1928',\n",
       "   'callSign': 'DLH7N',\n",
       "   'status': 'Arrived',\n",
       "   'codeshareStatus': 'IsOperator',\n",
       "   'isCargo': False,\n",
       "   'aircraft': {'reg': 'D-AIRF', 'modeS': '3C6646', 'model': 'Airbus A321'},\n",
       "   'airline': {'name': 'Lufthansa', 'iata': 'LH', 'icao': 'DLH'}},\n",
       "  {'departure': {'airport': {'icao': 'EFHK',\n",
       "     'iata': 'HEL',\n",
       "     'name': 'Helsinki',\n",
       "     'timeZone': 'Europe/Helsinki'},\n",
       "    'scheduledTime': {'utc': '2024-10-08 04:05Z',\n",
       "     'local': '2024-10-08 07:05+03:00'},\n",
       "    'revisedTime': {'utc': '2024-10-08 04:03Z',\n",
       "     'local': '2024-10-08 07:03+03:00'},\n",
       "    'runwayTime': {'utc': '2024-10-08 04:10Z',\n",
       "     'local': '2024-10-08 07:10+03:00'},\n",
       "    'terminal': '2',\n",
       "    'checkInDesk': '211',\n",
       "    'gate': '34A',\n",
       "    'quality': ['Basic', 'Live']},\n",
       "   'arrival': {'scheduledTime': {'utc': '2024-10-08 06:05Z',\n",
       "     'local': '2024-10-08 08:05+02:00'},\n",
       "    'revisedTime': {'utc': '2024-10-08 05:59Z',\n",
       "     'local': '2024-10-08 07:59+02:00'},\n",
       "    'runwayTime': {'utc': '2024-10-08 06:05Z',\n",
       "     'local': '2024-10-08 08:05+02:00'},\n",
       "    'terminal': '1',\n",
       "    'gate': 'A33',\n",
       "    'baggageBelt': 'A4',\n",
       "    'quality': ['Basic', 'Live']},\n",
       "   'number': 'AY 1431',\n",
       "   'callSign': 'FIN3AW',\n",
       "   'status': 'Arrived',\n",
       "   'codeshareStatus': 'IsOperator',\n",
       "   'isCargo': False,\n",
       "   'aircraft': {'reg': 'OH-LXK', 'modeS': '461F6C', 'model': 'Airbus A320'},\n",
       "   'airline': {'name': 'Finnair', 'iata': 'AY', 'icao': 'FIN'}},\n",
       "  {'departure': {'airport': {'icao': 'LOWW',\n",
       "     'iata': 'VIE',\n",
       "     'name': 'Vienna',\n",
       "     'timeZone': 'Europe/Vienna'},\n",
       "    'scheduledTime': {'utc': '2024-10-08 05:00Z',\n",
       "     'local': '2024-10-08 07:00+02:00'},\n",
       "    'revisedTime': {'utc': '2024-10-08 05:12Z',\n",
       "     'local': '2024-10-08 07:12+02:00'},\n",
       "    'runwayTime': {'utc': '2024-10-08 05:13Z',\n",
       "     'local': '2024-10-08 07:13+02:00'},\n",
       "    'terminal': '3',\n",
       "    'checkInDesk': '351-372',\n",
       "    'gate': 'F24',\n",
       "    'runway': '29',\n",
       "    'quality': ['Basic', 'Live']},\n",
       "   'arrival': {'scheduledTime': {'utc': '2024-10-08 06:10Z',\n",
       "     'local': '2024-10-08 08:10+02:00'},\n",
       "    'revisedTime': {'utc': '2024-10-08 06:00Z',\n",
       "     'local': '2024-10-08 08:00+02:00'},\n",
       "    'runwayTime': {'utc': '2024-10-08 06:06Z',\n",
       "     'local': '2024-10-08 08:06+02:00'},\n",
       "    'terminal': '1',\n",
       "    'gate': 'B03',\n",
       "    'baggageBelt': 'B4',\n",
       "    'quality': ['Basic', 'Live']},\n",
       "   'number': 'OS 223',\n",
       "   'callSign': 'AUA223',\n",
       "   'status': 'Arrived',\n",
       "   'codeshareStatus': 'IsOperator',\n",
       "   'isCargo': False,\n",
       "   'aircraft': {'reg': 'OE-LBD', 'modeS': '440039', 'model': 'Airbus A321'},\n",
       "   'airline': {'name': 'Austrian', 'iata': 'OS', 'icao': 'AUA'}},\n",
       "  {'departure': {'airport': {'icao': 'LICJ',\n",
       "     'iata': 'PMO',\n",
       "     'name': 'Palermo',\n",
       "     'timeZone': 'Europe/Rome'},\n",
       "    'scheduledTime': {'utc': '2024-10-08 03:45Z',\n",
       "     'local': '2024-10-08 05:45+02:00'},\n",
       "    'quality': ['Basic']},\n",
       "   'arrival': {'scheduledTime': {'utc': '2024-10-08 06:15Z',\n",
       "     'local': '2024-10-08 08:15+02:00'},\n",
       "    'revisedTime': {'utc': '2024-10-08 06:07Z',\n",
       "     'local': '2024-10-08 08:07+02:00'},\n",
       "    'runwayTime': {'utc': '2024-10-08 06:07Z',\n",
       "     'local': '2024-10-08 08:07+02:00'},\n",
       "    'terminal': '2',\n",
       "    'gate': 'Z34',\n",
       "    'baggageBelt': 'C3',\n",
       "    'runway': '25R',\n",
       "    'quality': ['Basic', 'Live']},\n",
       "   'number': 'FR 3361',\n",
       "   'callSign': 'RYR6TB',\n",
       "   'status': 'Arrived',\n",
       "   'codeshareStatus': 'IsOperator',\n",
       "   'isCargo': False,\n",
       "   'aircraft': {'reg': '9H-VUE', 'modeS': '4D2303', 'model': 'Boeing 737-800'},\n",
       "   'airline': {'name': 'Ryanair', 'iata': 'FR', 'icao': 'RYR'}},\n",
       "  {'departure': {'airport': {'icao': 'LIML',\n",
       "     'iata': 'LIN',\n",
       "     'name': 'Milan',\n",
       "     'timeZone': 'Europe/Rome'},\n",
       "    'scheduledTime': {'utc': '2024-10-08 04:55Z',\n",
       "     'local': '2024-10-08 06:55+02:00'},\n",
       "    'quality': ['Basic']},\n",
       "   'arrival': {'scheduledTime': {'utc': '2024-10-08 06:35Z',\n",
       "     'local': '2024-10-08 08:35+02:00'},\n",
       "    'revisedTime': {'utc': '2024-10-08 06:18Z',\n",
       "     'local': '2024-10-08 08:18+02:00'},\n",
       "    'terminal': '1',\n",
       "    'gate': 'S01',\n",
       "    'baggageBelt': 'B2',\n",
       "    'quality': ['Basic', 'Live']},\n",
       "   'number': 'U2 5068',\n",
       "   'callSign': 'EZY5068',\n",
       "   'status': 'Arrived',\n",
       "   'codeshareStatus': 'IsOperator',\n",
       "   'isCargo': False,\n",
       "   'aircraft': {'reg': 'OE-IDT', 'modeS': '4400DC', 'model': 'Airbus A320'},\n",
       "   'airline': {'name': 'easyJet', 'iata': 'U2', 'icao': 'EZY'}},\n",
       "  {'departure': {'airport': {'icao': 'LIML',\n",
       "     'iata': 'LIN',\n",
       "     'name': 'Milan',\n",
       "     'timeZone': 'Europe/Rome'},\n",
       "    'scheduledTime': {'utc': '2024-10-08 04:55Z',\n",
       "     'local': '2024-10-08 06:55+02:00'},\n",
       "    'quality': ['Basic']},\n",
       "   'arrival': {'scheduledTime': {'utc': '2024-10-08 06:35Z',\n",
       "     'local': '2024-10-08 08:35+02:00'},\n",
       "    'revisedTime': {'utc': '2024-10-08 06:18Z',\n",
       "     'local': '2024-10-08 08:18+02:00'},\n",
       "    'terminal': '1',\n",
       "    'gate': 'S01',\n",
       "    'baggageBelt': 'B2',\n",
       "    'quality': ['Basic', 'Live']},\n",
       "   'number': 'EC 5068',\n",
       "   'callSign': 'EJU5068',\n",
       "   'status': 'Arrived',\n",
       "   'codeshareStatus': 'IsCodeshared',\n",
       "   'isCargo': False,\n",
       "   'aircraft': {'reg': 'OE-IDT', 'modeS': '4400DC', 'model': 'Airbus A320'},\n",
       "   'airline': {'name': 'EasyJet Europe', 'iata': 'EC', 'icao': 'EJU'}},\n",
       "  {'departure': {'airport': {'icao': 'LIME',\n",
       "     'iata': 'BGY',\n",
       "     'name': 'Bergamo',\n",
       "     'timeZone': 'Europe/Rome'},\n",
       "    'scheduledTime': {'utc': '2024-10-08 04:40Z',\n",
       "     'local': '2024-10-08 06:40+02:00'},\n",
       "    'revisedTime': {'utc': '2024-10-08 05:11Z',\n",
       "     'local': '2024-10-08 07:11+02:00'},\n",
       "    'runwayTime': {'utc': '2024-10-08 05:11Z',\n",
       "     'local': '2024-10-08 07:11+02:00'},\n",
       "    'quality': ['Basic', 'Live']},\n",
       "   'arrival': {'scheduledTime': {'utc': '2024-10-08 06:20Z',\n",
       "     'local': '2024-10-08 08:20+02:00'},\n",
       "    'revisedTime': {'utc': '2024-10-08 06:24Z',\n",
       "     'local': '2024-10-08 08:24+02:00'},\n",
       "    'terminal': '2',\n",
       "    'gate': 'Z36',\n",
       "    'baggageBelt': 'C2',\n",
       "    'quality': ['Basic', 'Live']},\n",
       "   'number': 'FR 3312',\n",
       "   'callSign': 'RYR7KH',\n",
       "   'status': 'Arrived',\n",
       "   'codeshareStatus': 'IsOperator',\n",
       "   'isCargo': False,\n",
       "   'aircraft': {'reg': '9H-VUI', 'modeS': '4D2348', 'model': 'Boeing 737-800'},\n",
       "   'airline': {'name': 'Ryanair', 'iata': 'FR', 'icao': 'RYR'}},\n",
       "  {'departure': {'airport': {'name': 'Unknown'}, 'quality': []},\n",
       "   'arrival': {'scheduledTime': {'utc': '2024-10-08 06:44Z',\n",
       "     'local': '2024-10-08 08:44+02:00'},\n",
       "    'revisedTime': {'utc': '2024-10-08 06:44Z',\n",
       "     'local': '2024-10-08 08:44+02:00'},\n",
       "    'runwayTime': {'utc': '2024-10-08 06:44Z',\n",
       "     'local': '2024-10-08 08:44+02:00'},\n",
       "    'runway': '25R',\n",
       "    'quality': ['Basic', 'Live']},\n",
       "   'number': 'OEFLL',\n",
       "   'callSign': 'OEFLL',\n",
       "   'status': 'Arrived',\n",
       "   'codeshareStatus': 'IsOperator',\n",
       "   'isCargo': False,\n",
       "   'aircraft': {'reg': 'OE-XOH',\n",
       "    'modeS': '44015B',\n",
       "    'model': 'Eurocopter AS350'},\n",
       "   'airline': {'name': 'OEFLL'}},\n",
       "  {'departure': {'airport': {'icao': 'LSZH',\n",
       "     'iata': 'ZRH',\n",
       "     'name': 'Zurich',\n",
       "     'timeZone': 'Europe/Zurich'},\n",
       "    'scheduledTime': {'utc': '2024-10-08 05:20Z',\n",
       "     'local': '2024-10-08 07:20+02:00'},\n",
       "    'revisedTime': {'utc': '2024-10-08 05:25Z',\n",
       "     'local': '2024-10-08 07:25+02:00'},\n",
       "    'runwayTime': {'utc': '2024-10-08 05:47Z',\n",
       "     'local': '2024-10-08 07:47+02:00'},\n",
       "    'checkInDesk': '1',\n",
       "    'gate': 'B08',\n",
       "    'runway': '28',\n",
       "    'quality': ['Basic', 'Live']},\n",
       "   'arrival': {'scheduledTime': {'utc': '2024-10-08 06:45Z',\n",
       "     'local': '2024-10-08 08:45+02:00'},\n",
       "    'revisedTime': {'utc': '2024-10-08 06:46Z',\n",
       "     'local': '2024-10-08 08:46+02:00'},\n",
       "    'terminal': '1',\n",
       "    'gate': 'B07',\n",
       "    'baggageBelt': 'B4',\n",
       "    'quality': ['Basic', 'Live']},\n",
       "   'number': 'LX 974',\n",
       "   'callSign': 'SWR97Y',\n",
       "   'status': 'Arrived',\n",
       "   'codeshareStatus': 'IsOperator',\n",
       "   'isCargo': False,\n",
       "   'aircraft': {'reg': 'YL-ABA',\n",
       "    'modeS': '502D3F',\n",
       "    'model': 'Airbus A220-300'},\n",
       "   'airline': {'name': 'SWISS', 'iata': 'LX', 'icao': 'SWR'}},\n",
       "  {'departure': {'airport': {'icao': 'LFPO',\n",
       "     'iata': 'ORY',\n",
       "     'name': 'Paris',\n",
       "     'timeZone': 'Europe/Paris'},\n",
       "    'scheduledTime': {'utc': '2024-10-08 05:10Z',\n",
       "     'local': '2024-10-08 07:10+02:00'},\n",
       "    'revisedTime': {'utc': '2024-10-08 05:33Z',\n",
       "     'local': '2024-10-08 07:33+02:00'},\n",
       "    'runwayTime': {'utc': '2024-10-08 05:33Z',\n",
       "     'local': '2024-10-08 07:33+02:00'},\n",
       "    'terminal': '1',\n",
       "    'quality': ['Basic', 'Live']},\n",
       "   'arrival': {'scheduledTime': {'utc': '2024-10-08 06:50Z',\n",
       "     'local': '2024-10-08 08:50+02:00'},\n",
       "    'revisedTime': {'utc': '2024-10-08 06:49Z',\n",
       "     'local': '2024-10-08 08:49+02:00'},\n",
       "    'runwayTime': {'utc': '2024-10-08 06:50Z',\n",
       "     'local': '2024-10-08 08:50+02:00'},\n",
       "    'terminal': '1',\n",
       "    'gate': 'A35',\n",
       "    'baggageBelt': 'A4',\n",
       "    'runway': '25L',\n",
       "    'quality': ['Basic', 'Live']},\n",
       "   'number': 'U2 4897',\n",
       "   'callSign': 'EJU42RU',\n",
       "   'status': 'Arrived',\n",
       "   'codeshareStatus': 'IsOperator',\n",
       "   'isCargo': False,\n",
       "   'aircraft': {'reg': 'OE-IVJ', 'modeS': '440088', 'model': 'Airbus A320'},\n",
       "   'airline': {'name': 'easyJet', 'iata': 'U2', 'icao': 'EZY'}},\n",
       "  {'departure': {'airport': {'icao': 'LFPO',\n",
       "     'iata': 'ORY',\n",
       "     'name': 'Paris',\n",
       "     'timeZone': 'Europe/Paris'},\n",
       "    'scheduledTime': {'utc': '2024-10-08 05:10Z',\n",
       "     'local': '2024-10-08 07:10+02:00'},\n",
       "    'revisedTime': {'utc': '2024-10-08 05:33Z',\n",
       "     'local': '2024-10-08 07:33+02:00'},\n",
       "    'runwayTime': {'utc': '2024-10-08 05:33Z',\n",
       "     'local': '2024-10-08 07:33+02:00'},\n",
       "    'terminal': '1',\n",
       "    'quality': ['Basic', 'Live']},\n",
       "   'arrival': {'scheduledTime': {'utc': '2024-10-08 06:50Z',\n",
       "     'local': '2024-10-08 08:50+02:00'},\n",
       "    'revisedTime': {'utc': '2024-10-08 06:49Z',\n",
       "     'local': '2024-10-08 08:49+02:00'},\n",
       "    'runwayTime': {'utc': '2024-10-08 06:50Z',\n",
       "     'local': '2024-10-08 08:50+02:00'},\n",
       "    'terminal': '1',\n",
       "    'gate': 'A35',\n",
       "    'baggageBelt': 'A4',\n",
       "    'runway': '25L',\n",
       "    'quality': ['Basic', 'Live']},\n",
       "   'number': 'EC 4897',\n",
       "   'callSign': 'EJU42RU',\n",
       "   'status': 'Arrived',\n",
       "   'codeshareStatus': 'IsCodeshared',\n",
       "   'isCargo': False,\n",
       "   'aircraft': {'reg': 'OE-IVJ', 'modeS': '440088', 'model': 'Airbus A320'},\n",
       "   'airline': {'name': 'EasyJet Europe', 'iata': 'EC', 'icao': 'EJU'}},\n",
       "  {'departure': {'airport': {'icao': 'EDDF',\n",
       "     'iata': 'FRA',\n",
       "     'name': 'Frankfurt-am-Main',\n",
       "     'timeZone': 'Europe/Berlin'},\n",
       "    'scheduledTime': {'utc': '2024-10-08 05:45Z',\n",
       "     'local': '2024-10-08 07:45+02:00'},\n",
       "    'revisedTime': {'utc': '2024-10-08 05:45Z',\n",
       "     'local': '2024-10-08 07:45+02:00'},\n",
       "    'runwayTime': {'utc': '2024-10-08 06:05Z',\n",
       "     'local': '2024-10-08 08:05+02:00'},\n",
       "    'terminal': '1',\n",
       "    'checkInDesk': '259-335',\n",
       "    'gate': 'A16',\n",
       "    'runway': '18',\n",
       "    'quality': ['Basic', 'Live']},\n",
       "   'arrival': {'scheduledTime': {'utc': '2024-10-08 06:55Z',\n",
       "     'local': '2024-10-08 08:55+02:00'},\n",
       "    'revisedTime': {'utc': '2024-10-08 06:52Z',\n",
       "     'local': '2024-10-08 08:52+02:00'},\n",
       "    'terminal': '1',\n",
       "    'gate': 'A02',\n",
       "    'baggageBelt': 'A1',\n",
       "    'quality': ['Basic', 'Live']},\n",
       "   'number': 'LH 174',\n",
       "   'callSign': 'DLH4PH',\n",
       "   'status': 'Arrived',\n",
       "   'codeshareStatus': 'IsOperator',\n",
       "   'isCargo': False,\n",
       "   'aircraft': {'reg': 'D-AIDJ', 'modeS': '3C648A', 'model': 'Airbus A321'},\n",
       "   'airline': {'name': 'Lufthansa', 'iata': 'LH', 'icao': 'DLH'}},\n",
       "  {'departure': {'airport': {'icao': 'EDDM',\n",
       "     'iata': 'MUC',\n",
       "     'name': 'Munich',\n",
       "     'timeZone': 'Europe/Berlin'},\n",
       "    'scheduledTime': {'utc': '2024-10-08 06:00Z',\n",
       "     'local': '2024-10-08 08:00+02:00'},\n",
       "    'revisedTime': {'utc': '2024-10-08 06:00Z',\n",
       "     'local': '2024-10-08 08:00+02:00'},\n",
       "    'runwayTime': {'utc': '2024-10-08 06:11Z',\n",
       "     'local': '2024-10-08 08:11+02:00'},\n",
       "    'terminal': '2',\n",
       "    'runway': '08L',\n",
       "    'quality': ['Basic', 'Live']},\n",
       "   'arrival': {'scheduledTime': {'utc': '2024-10-08 07:05Z',\n",
       "     'local': '2024-10-08 09:05+02:00'},\n",
       "    'revisedTime': {'utc': '2024-10-08 06:53Z',\n",
       "     'local': '2024-10-08 08:53+02:00'},\n",
       "    'terminal': '1',\n",
       "    'gate': 'B06',\n",
       "    'baggageBelt': 'B4',\n",
       "    'quality': ['Basic', 'Live']},\n",
       "   'number': 'LH 1930',\n",
       "   'callSign': 'DLH2X',\n",
       "   'status': 'Arrived',\n",
       "   'codeshareStatus': 'IsOperator',\n",
       "   'isCargo': False,\n",
       "   'aircraft': {'reg': 'D-AIUG',\n",
       "    'modeS': '3C66A7',\n",
       "    'model': 'Airbus A320 (Sharklets)'},\n",
       "   'airline': {'name': 'Lufthansa', 'iata': 'LH', 'icao': 'DLH'}},\n",
       "  {'departure': {'airport': {'icao': 'LTFM',\n",
       "     'iata': 'IST',\n",
       "     'name': 'Istanbul',\n",
       "     'timeZone': 'Europe/Istanbul'},\n",
       "    'scheduledTime': {'utc': '2024-10-08 04:30Z',\n",
       "     'local': '2024-10-08 07:30+03:00'},\n",
       "    'revisedTime': {'utc': '2024-10-08 04:30Z',\n",
       "     'local': '2024-10-08 07:30+03:00'},\n",
       "    'checkInDesk': 'E-F',\n",
       "    'gate': 'F15',\n",
       "    'quality': ['Basic', 'Live']},\n",
       "   'arrival': {'scheduledTime': {'utc': '2024-10-08 07:20Z',\n",
       "     'local': '2024-10-08 09:20+02:00'},\n",
       "    'revisedTime': {'utc': '2024-10-08 06:55Z',\n",
       "     'local': '2024-10-08 08:55+02:00'},\n",
       "    'terminal': '1',\n",
       "    'gate': 'X03',\n",
       "    'baggageBelt': 'A3',\n",
       "    'quality': ['Basic', 'Live']},\n",
       "   'number': 'TK 1721',\n",
       "   'callSign': 'THY3CS',\n",
       "   'status': 'Arrived',\n",
       "   'codeshareStatus': 'IsOperator',\n",
       "   'isCargo': False,\n",
       "   'aircraft': {'reg': 'TC-JOB',\n",
       "    'modeS': '4BA9E2',\n",
       "    'model': 'Airbus A330-300'},\n",
       "   'airline': {'name': 'Turkish', 'iata': 'TK', 'icao': 'THY'}},\n",
       "  {'departure': {'airport': {'icao': 'LYBE',\n",
       "     'iata': 'BEG',\n",
       "     'name': 'Belgrade',\n",
       "     'timeZone': 'Europe/Belgrade'},\n",
       "    'quality': []},\n",
       "   'arrival': {'scheduledTime': {'utc': '2024-10-08 07:10Z',\n",
       "     'local': '2024-10-08 09:10+02:00'},\n",
       "    'revisedTime': {'utc': '2024-10-08 06:58Z',\n",
       "     'local': '2024-10-08 08:58+02:00'},\n",
       "    'terminal': '1',\n",
       "    'gate': 'N01',\n",
       "    'baggageBelt': 'B4',\n",
       "    'quality': ['Basic', 'Live']},\n",
       "   'number': 'JA 354',\n",
       "   'status': 'Arrived',\n",
       "   'codeshareStatus': 'IsOperator',\n",
       "   'isCargo': False,\n",
       "   'aircraft': {'reg': 'YU-APB', 'modeS': '4C01E1', 'model': 'Airbus A319'},\n",
       "   'airline': {'name': 'JetSMART', 'iata': 'JA', 'icao': 'JAT'}},\n",
       "  {'departure': {'airport': {'icao': 'ENGM',\n",
       "     'iata': 'OSL',\n",
       "     'name': 'Oslo',\n",
       "     'timeZone': 'Europe/Oslo'},\n",
       "    'scheduledTime': {'utc': '2024-10-08 05:30Z',\n",
       "     'local': '2024-10-08 07:30+02:00'},\n",
       "    'revisedTime': {'utc': '2024-10-08 05:24Z',\n",
       "     'local': '2024-10-08 07:24+02:00'},\n",
       "    'runwayTime': {'utc': '2024-10-08 05:41Z',\n",
       "     'local': '2024-10-08 07:41+02:00'},\n",
       "    'checkInDesk': '123',\n",
       "    'gate': 'D4',\n",
       "    'quality': ['Basic', 'Live']},\n",
       "   'arrival': {'scheduledTime': {'utc': '2024-10-08 07:05Z',\n",
       "     'local': '2024-10-08 09:05+02:00'},\n",
       "    'revisedTime': {'utc': '2024-10-08 07:01Z',\n",
       "     'local': '2024-10-08 09:01+02:00'},\n",
       "    'terminal': '2',\n",
       "    'gate': 'Z30',\n",
       "    'baggageBelt': 'C1',\n",
       "    'quality': ['Basic', 'Live']},\n",
       "   'number': 'DY 1102',\n",
       "   'callSign': 'NOZ2XM',\n",
       "   'status': 'Arrived',\n",
       "   'codeshareStatus': 'IsOperator',\n",
       "   'isCargo': False,\n",
       "   'aircraft': {'reg': 'LN-ENV', 'modeS': '47A05E', 'model': 'Boeing 737-800'},\n",
       "   'airline': {'name': 'Norwegian Air Shuttle', 'iata': 'DY', 'icao': 'NOZ'}},\n",
       "  {'departure': {'airport': {'icao': 'EDDL',\n",
       "     'iata': 'DUS',\n",
       "     'name': 'Düsseldorf',\n",
       "     'timeZone': 'Europe/Berlin'},\n",
       "    'scheduledTime': {'utc': '2024-10-08 06:00Z',\n",
       "     'local': '2024-10-08 08:00+02:00'},\n",
       "    'revisedTime': {'utc': '2024-10-08 06:00Z',\n",
       "     'local': '2024-10-08 08:00+02:00'},\n",
       "    'runwayTime': {'utc': '2024-10-08 06:09Z',\n",
       "     'local': '2024-10-08 08:09+02:00'},\n",
       "    'terminal': 'B',\n",
       "    'checkInDesk': '151,170',\n",
       "    'gate': 'A63',\n",
       "    'quality': ['Basic', 'Live']},\n",
       "   'arrival': {'scheduledTime': {'utc': '2024-10-08 07:10Z',\n",
       "     'local': '2024-10-08 09:10+02:00'},\n",
       "    'revisedTime': {'utc': '2024-10-08 07:03Z',\n",
       "     'local': '2024-10-08 09:03+02:00'},\n",
       "    'terminal': '1',\n",
       "    'gate': 'A34',\n",
       "    'baggageBelt': 'A1',\n",
       "    'quality': ['Basic', 'Live']},\n",
       "   'number': 'EW 8041',\n",
       "   'callSign': 'GWI9XL',\n",
       "   'status': 'Arrived',\n",
       "   'codeshareStatus': 'IsOperator',\n",
       "   'isCargo': False,\n",
       "   'aircraft': {'reg': 'D-AKNT', 'modeS': '3C6DD4', 'model': 'Airbus A319'},\n",
       "   'airline': {'name': 'Eurowings', 'iata': 'EW', 'icao': 'EWG'}},\n",
       "  {'departure': {'airport': {'icao': 'EBBR',\n",
       "     'iata': 'BRU',\n",
       "     'name': 'Brussels',\n",
       "     'timeZone': 'Europe/Brussels'},\n",
       "    'scheduledTime': {'utc': '2024-10-08 05:50Z',\n",
       "     'local': '2024-10-08 07:50+02:00'},\n",
       "    'revisedTime': {'utc': '2024-10-08 06:04Z',\n",
       "     'local': '2024-10-08 08:04+02:00'},\n",
       "    'runwayTime': {'utc': '2024-10-08 06:05Z',\n",
       "     'local': '2024-10-08 08:05+02:00'},\n",
       "    'checkInDesk': '08',\n",
       "    'runway': '25R',\n",
       "    'quality': ['Basic', 'Live']},\n",
       "   'arrival': {'scheduledTime': {'utc': '2024-10-08 07:15Z',\n",
       "     'local': '2024-10-08 09:15+02:00'},\n",
       "    'revisedTime': {'utc': '2024-10-08 07:04Z',\n",
       "     'local': '2024-10-08 09:04+02:00'},\n",
       "    'terminal': '2',\n",
       "    'gate': 'Z33',\n",
       "    'baggageBelt': 'C2',\n",
       "    'quality': ['Basic', 'Live']},\n",
       "   'number': 'FR 163',\n",
       "   'callSign': 'RYR4TT',\n",
       "   'status': 'Arrived',\n",
       "   'codeshareStatus': 'IsOperator',\n",
       "   'isCargo': False,\n",
       "   'aircraft': {'reg': '9H-QDH', 'modeS': '4D2272', 'model': 'Boeing 737-800'},\n",
       "   'airline': {'name': 'Ryanair', 'iata': 'FR', 'icao': 'RYR'}},\n",
       "  {'departure': {'airport': {'icao': 'LTBJ',\n",
       "     'iata': 'ADB',\n",
       "     'name': 'İzmir',\n",
       "     'timeZone': 'Europe/Istanbul'},\n",
       "    'scheduledTime': {'utc': '2024-10-08 04:30Z',\n",
       "     'local': '2024-10-08 07:30+03:00'},\n",
       "    'revisedTime': {'utc': '2024-10-08 04:29Z',\n",
       "     'local': '2024-10-08 07:29+03:00'},\n",
       "    'runwayTime': {'utc': '2024-10-08 04:30Z',\n",
       "     'local': '2024-10-08 07:30+03:00'},\n",
       "    'terminal': 'D',\n",
       "    'checkInDesk': '32',\n",
       "    'gate': '32',\n",
       "    'quality': ['Basic', 'Live']},\n",
       "   'arrival': {'scheduledTime': {'utc': '2024-10-08 07:30Z',\n",
       "     'local': '2024-10-08 09:30+02:00'},\n",
       "    'revisedTime': {'utc': '2024-10-08 07:06Z',\n",
       "     'local': '2024-10-08 09:06+02:00'},\n",
       "    'terminal': '1',\n",
       "    'gate': 'N01',\n",
       "    'baggageBelt': 'B3',\n",
       "    'quality': ['Basic', 'Live']},\n",
       "   'number': 'PC 5303',\n",
       "   'callSign': 'PGT26PP',\n",
       "   'status': 'Arrived',\n",
       "   'codeshareStatus': 'IsOperator',\n",
       "   'isCargo': False,\n",
       "   'aircraft': {'reg': 'TC-NCO',\n",
       "    'modeS': '4BB86F',\n",
       "    'model': 'Airbus A320 NEO'},\n",
       "   'airline': {'name': 'Pegasus', 'iata': 'PC', 'icao': 'PGT'}},\n",
       "  {'departure': {'airport': {'icao': 'LEPA',\n",
       "     'iata': 'PMI',\n",
       "     'name': 'Palma De Mallorca',\n",
       "     'timeZone': 'Europe/Madrid'},\n",
       "    'scheduledTime': {'utc': '2024-10-08 04:45Z',\n",
       "     'local': '2024-10-08 06:45+02:00'},\n",
       "    'revisedTime': {'utc': '2024-10-08 04:47Z',\n",
       "     'local': '2024-10-08 06:47+02:00'},\n",
       "    'runwayTime': {'utc': '2024-10-08 05:07Z',\n",
       "     'local': '2024-10-08 07:07+02:00'},\n",
       "    'terminal': 'N',\n",
       "    'checkInDesk': '002-017',\n",
       "    'gate': 'C56',\n",
       "    'quality': ['Basic', 'Live']},\n",
       "   'arrival': {'scheduledTime': {'utc': '2024-10-08 07:30Z',\n",
       "     'local': '2024-10-08 09:30+02:00'},\n",
       "    'revisedTime': {'utc': '2024-10-08 07:08Z',\n",
       "     'local': '2024-10-08 09:08+02:00'},\n",
       "    'terminal': '2',\n",
       "    'gate': 'Z36',\n",
       "    'baggageBelt': 'C3',\n",
       "    'quality': ['Basic', 'Live']},\n",
       "   'number': 'FR 111',\n",
       "   'callSign': 'RYR2CG',\n",
       "   'status': 'Arrived',\n",
       "   'codeshareStatus': 'IsOperator',\n",
       "   'isCargo': False,\n",
       "   'aircraft': {'reg': 'EI-EVI', 'modeS': '4CA9D1', 'model': 'Boeing 737-800'},\n",
       "   'airline': {'name': 'Ryanair', 'iata': 'FR', 'icao': 'RYR'}},\n",
       "  {'departure': {'airport': {'icao': 'EKCH',\n",
       "     'iata': 'CPH',\n",
       "     'name': 'Copenhagen',\n",
       "     'timeZone': 'Europe/Copenhagen'},\n",
       "    'scheduledTime': {'utc': '2024-10-08 06:40Z',\n",
       "     'local': '2024-10-08 08:40+02:00'},\n",
       "    'revisedTime': {'utc': '2024-10-08 06:40Z',\n",
       "     'local': '2024-10-08 08:40+02:00'},\n",
       "    'terminal': 'erminal2',\n",
       "    'gate': 'F7',\n",
       "    'quality': ['Basic', 'Live']},\n",
       "   'arrival': {'scheduledTime': {'utc': '2024-10-08 07:45Z',\n",
       "     'local': '2024-10-08 09:45+02:00'},\n",
       "    'revisedTime': {'utc': '2024-10-08 07:25Z',\n",
       "     'local': '2024-10-08 09:25+02:00'},\n",
       "    'terminal': '1',\n",
       "    'gate': 'A33',\n",
       "    'baggageBelt': 'A4',\n",
       "    'quality': ['Basic', 'Live']},\n",
       "   'number': 'U2 5262',\n",
       "   'callSign': 'EJU48QZ',\n",
       "   'status': 'Arrived',\n",
       "   'codeshareStatus': 'IsOperator',\n",
       "   'isCargo': False,\n",
       "   'aircraft': {'reg': 'OE-IWW', 'modeS': '440B1E', 'model': 'Airbus A320'},\n",
       "   'airline': {'name': 'easyJet', 'iata': 'U2', 'icao': 'EZY'}},\n",
       "  {'departure': {'airport': {'icao': 'EKCH',\n",
       "     'iata': 'CPH',\n",
       "     'name': 'Copenhagen',\n",
       "     'timeZone': 'Europe/Copenhagen'},\n",
       "    'scheduledTime': {'utc': '2024-10-08 06:40Z',\n",
       "     'local': '2024-10-08 08:40+02:00'},\n",
       "    'revisedTime': {'utc': '2024-10-08 06:40Z',\n",
       "     'local': '2024-10-08 08:40+02:00'},\n",
       "    'terminal': 'erminal2',\n",
       "    'gate': 'F7',\n",
       "    'quality': ['Basic', 'Live']},\n",
       "   'arrival': {'scheduledTime': {'utc': '2024-10-08 07:45Z',\n",
       "     'local': '2024-10-08 09:45+02:00'},\n",
       "    'revisedTime': {'utc': '2024-10-08 07:25Z',\n",
       "     'local': '2024-10-08 09:25+02:00'},\n",
       "    'terminal': '1',\n",
       "    'gate': 'A33',\n",
       "    'baggageBelt': 'A4',\n",
       "    'quality': ['Basic', 'Live']},\n",
       "   'number': 'EC 5262',\n",
       "   'callSign': 'EJU48QZ',\n",
       "   'status': 'Arrived',\n",
       "   'codeshareStatus': 'IsCodeshared',\n",
       "   'isCargo': False,\n",
       "   'aircraft': {'reg': 'OE-IWW', 'modeS': '440B1E', 'model': 'Airbus A320'},\n",
       "   'airline': {'name': 'EasyJet Europe', 'iata': 'EC', 'icao': 'EJU'}},\n",
       "  {'departure': {'airport': {'icao': 'EGKK',\n",
       "     'iata': 'LGW',\n",
       "     'name': 'London',\n",
       "     'timeZone': 'Europe/London'},\n",
       "    'scheduledTime': {'utc': '2024-10-08 05:40Z',\n",
       "     'local': '2024-10-08 06:40+01:00'},\n",
       "    'revisedTime': {'utc': '2024-10-08 06:02Z',\n",
       "     'local': '2024-10-08 07:02+01:00'},\n",
       "    'runwayTime': {'utc': '2024-10-08 06:03Z',\n",
       "     'local': '2024-10-08 07:03+01:00'},\n",
       "    'terminal': 'N',\n",
       "    'runway': '26L',\n",
       "    'quality': ['Basic', 'Live']},\n",
       "   'arrival': {'scheduledTime': {'utc': '2024-10-08 07:35Z',\n",
       "     'local': '2024-10-08 09:35+02:00'},\n",
       "    'revisedTime': {'utc': '2024-10-08 07:27Z',\n",
       "     'local': '2024-10-08 09:27+02:00'},\n",
       "    'terminal': '1',\n",
       "    'gate': 'X17',\n",
       "    'baggageBelt': 'A4',\n",
       "    'runway': '25L',\n",
       "    'quality': ['Basic', 'Live']},\n",
       "   'number': 'U2 8629',\n",
       "   'callSign': 'EZY19TC',\n",
       "   'status': 'Arrived',\n",
       "   'codeshareStatus': 'IsOperator',\n",
       "   'isCargo': False,\n",
       "   'aircraft': {'reg': 'G-EZDA', 'modeS': '405631', 'model': 'Airbus A319'},\n",
       "   'airline': {'name': 'easyJet', 'iata': 'U2', 'icao': 'EZY'}},\n",
       "  {'departure': {'airport': {'icao': 'EIDW',\n",
       "     'iata': 'DUB',\n",
       "     'name': 'Dublin',\n",
       "     'timeZone': 'Europe/Dublin'},\n",
       "    'scheduledTime': {'utc': '2024-10-08 05:25Z',\n",
       "     'local': '2024-10-08 06:25+01:00'},\n",
       "    'revisedTime': {'utc': '2024-10-08 05:25Z',\n",
       "     'local': '2024-10-08 06:25+01:00'},\n",
       "    'runwayTime': {'utc': '2024-10-08 05:41Z',\n",
       "     'local': '2024-10-08 06:41+01:00'},\n",
       "    'terminal': '1',\n",
       "    'checkInDesk': '1204-1319',\n",
       "    'gate': '118',\n",
       "    'quality': ['Basic', 'Live']},\n",
       "   'arrival': {'scheduledTime': {'utc': '2024-10-08 07:40Z',\n",
       "     'local': '2024-10-08 09:40+02:00'},\n",
       "    'revisedTime': {'utc': '2024-10-08 07:28Z',\n",
       "     'local': '2024-10-08 09:28+02:00'},\n",
       "    'terminal': '2',\n",
       "    'gate': 'Z42',\n",
       "    'baggageBelt': 'C2',\n",
       "    'quality': ['Basic', 'Live']},\n",
       "   'number': 'FR 3669',\n",
       "   'callSign': 'RYR3TF',\n",
       "   'status': 'Arrived',\n",
       "   'codeshareStatus': 'IsOperator',\n",
       "   'isCargo': False,\n",
       "   'aircraft': {'reg': 'EI-DHA', 'modeS': '4CA256', 'model': 'Boeing 737-800'},\n",
       "   'airline': {'name': 'Ryanair', 'iata': 'FR', 'icao': 'RYR'}},\n",
       "  {'departure': {'airport': {'icao': 'LFPG',\n",
       "     'iata': 'CDG',\n",
       "     'name': 'Paris',\n",
       "     'timeZone': 'Europe/Paris'},\n",
       "    'scheduledTime': {'utc': '2024-10-08 05:15Z',\n",
       "     'local': '2024-10-08 07:15+02:00'},\n",
       "    'revisedTime': {'utc': '2024-10-08 06:16Z',\n",
       "     'local': '2024-10-08 08:16+02:00'},\n",
       "    'runwayTime': {'utc': '2024-10-08 06:16Z',\n",
       "     'local': '2024-10-08 08:16+02:00'},\n",
       "    'terminal': '2F',\n",
       "    'quality': ['Basic', 'Live']},\n",
       "   'arrival': {'scheduledTime': {'utc': '2024-10-08 06:55Z',\n",
       "     'local': '2024-10-08 08:55+02:00'},\n",
       "    'revisedTime': {'utc': '2024-10-08 07:30Z',\n",
       "     'local': '2024-10-08 09:30+02:00'},\n",
       "    'terminal': '1',\n",
       "    'gate': 'A31',\n",
       "    'baggageBelt': 'A2',\n",
       "    'quality': ['Basic', 'Live']},\n",
       "   'number': 'AF 1434',\n",
       "   'callSign': 'AFR95ZE',\n",
       "   'status': 'Arrived',\n",
       "   'codeshareStatus': 'IsOperator',\n",
       "   'isCargo': False,\n",
       "   'aircraft': {'reg': 'F-HDRF', 'modeS': '398E25', 'model': 'Airbus A320'},\n",
       "   'airline': {'name': 'Air France', 'iata': 'AF', 'icao': 'AFR'}},\n",
       "  {'departure': {'airport': {'icao': 'EGGW',\n",
       "     'iata': 'LTN',\n",
       "     'name': 'London',\n",
       "     'timeZone': 'Europe/London'},\n",
       "    'scheduledTime': {'utc': '2024-10-08 06:00Z',\n",
       "     'local': '2024-10-08 07:00+01:00'},\n",
       "    'revisedTime': {'utc': '2024-10-08 06:00Z',\n",
       "     'local': '2024-10-08 07:00+01:00'},\n",
       "    'runwayTime': {'utc': '2024-10-08 06:07Z',\n",
       "     'local': '2024-10-08 07:07+01:00'},\n",
       "    'checkInDesk': '44-61',\n",
       "    'runway': '26',\n",
       "    'quality': ['Basic', 'Live']},\n",
       "   'arrival': {'scheduledTime': {'utc': '2024-10-08 07:50Z',\n",
       "     'local': '2024-10-08 09:50+02:00'},\n",
       "    'revisedTime': {'utc': '2024-10-08 07:32Z',\n",
       "     'local': '2024-10-08 09:32+02:00'},\n",
       "    'terminal': '1',\n",
       "    'gate': 'N01',\n",
       "    'baggageBelt': 'B2',\n",
       "    'quality': ['Basic', 'Live']},\n",
       "   'number': 'U2 2601',\n",
       "   'callSign': 'EZY21KF',\n",
       "   'status': 'Arrived',\n",
       "   'codeshareStatus': 'IsOperator',\n",
       "   'isCargo': False,\n",
       "   'aircraft': {'reg': 'G-EZBJ', 'modeS': '400FDB', 'model': 'Airbus A319'},\n",
       "   'airline': {'name': 'easyJet', 'iata': 'U2', 'icao': 'EZY'}},\n",
       "  {'departure': {'airport': {'icao': 'LFSB',\n",
       "     'iata': 'BSL',\n",
       "     'name': 'Bâle/Mulhouse',\n",
       "     'timeZone': 'Europe/Paris'},\n",
       "    'scheduledTime': {'utc': '2024-10-08 06:10Z',\n",
       "     'local': '2024-10-08 08:10+02:00'},\n",
       "    'revisedTime': {'utc': '2024-10-08 06:31Z',\n",
       "     'local': '2024-10-08 08:31+02:00'},\n",
       "    'runwayTime': {'utc': '2024-10-08 06:32Z',\n",
       "     'local': '2024-10-08 08:32+02:00'},\n",
       "    'checkInDesk': '42-50',\n",
       "    'gate': '86',\n",
       "    'quality': ['Basic', 'Live']},\n",
       "   'arrival': {'scheduledTime': {'utc': '2024-10-08 07:40Z',\n",
       "     'local': '2024-10-08 09:40+02:00'},\n",
       "    'revisedTime': {'utc': '2024-10-08 07:34Z',\n",
       "     'local': '2024-10-08 09:34+02:00'},\n",
       "    'terminal': '1',\n",
       "    'gate': 'A38',\n",
       "    'baggageBelt': 'A4',\n",
       "    'quality': ['Basic', 'Live']},\n",
       "   'number': 'U2 5186',\n",
       "   'callSign': 'EJU63EN',\n",
       "   'status': 'Arrived',\n",
       "   'codeshareStatus': 'IsOperator',\n",
       "   'isCargo': False,\n",
       "   'aircraft': {'reg': 'OE-IBF', 'modeS': '440CF8', 'model': 'Airbus A320'},\n",
       "   'airline': {'name': 'easyJet', 'iata': 'U2', 'icao': 'EZY'}},\n",
       "  {'departure': {'airport': {'icao': 'LFSB',\n",
       "     'iata': 'BSL',\n",
       "     'name': 'Bâle/Mulhouse',\n",
       "     'timeZone': 'Europe/Paris'},\n",
       "    'scheduledTime': {'utc': '2024-10-08 06:10Z',\n",
       "     'local': '2024-10-08 08:10+02:00'},\n",
       "    'revisedTime': {'utc': '2024-10-08 06:31Z',\n",
       "     'local': '2024-10-08 08:31+02:00'},\n",
       "    'runwayTime': {'utc': '2024-10-08 06:32Z',\n",
       "     'local': '2024-10-08 08:32+02:00'},\n",
       "    'checkInDesk': '42-50',\n",
       "    'gate': '86',\n",
       "    'quality': ['Basic', 'Live']},\n",
       "   'arrival': {'scheduledTime': {'utc': '2024-10-08 07:40Z',\n",
       "     'local': '2024-10-08 09:40+02:00'},\n",
       "    'revisedTime': {'utc': '2024-10-08 07:34Z',\n",
       "     'local': '2024-10-08 09:34+02:00'},\n",
       "    'terminal': '1',\n",
       "    'gate': 'A38',\n",
       "    'baggageBelt': 'A4',\n",
       "    'quality': ['Basic', 'Live']},\n",
       "   'number': 'EC 5186',\n",
       "   'callSign': 'EJU63EN',\n",
       "   'status': 'Arrived',\n",
       "   'codeshareStatus': 'IsCodeshared',\n",
       "   'isCargo': False,\n",
       "   'aircraft': {'reg': 'OE-IBF', 'modeS': '440CF8', 'model': 'Airbus A320'},\n",
       "   'airline': {'name': 'EasyJet Europe', 'iata': 'EC', 'icao': 'EJU'}},\n",
       "  {'departure': {'airport': {'icao': 'LMML',\n",
       "     'iata': 'MLA',\n",
       "     'name': 'Luqa',\n",
       "     'timeZone': 'Europe/Malta'},\n",
       "    'scheduledTime': {'utc': '2024-10-08 05:00Z',\n",
       "     'local': '2024-10-08 07:00+02:00'},\n",
       "    'quality': ['Basic']},\n",
       "   'arrival': {'scheduledTime': {'utc': '2024-10-08 07:55Z',\n",
       "     'local': '2024-10-08 09:55+02:00'},\n",
       "    'revisedTime': {'utc': '2024-10-08 07:38Z',\n",
       "     'local': '2024-10-08 09:38+02:00'},\n",
       "    'terminal': '1',\n",
       "    'gate': 'A37',\n",
       "    'baggageBelt': 'A3',\n",
       "    'quality': ['Basic', 'Live']},\n",
       "   'number': 'KM 376',\n",
       "   'callSign': 'KMM376',\n",
       "   'status': 'Arrived',\n",
       "   'codeshareStatus': 'IsOperator',\n",
       "   'isCargo': False,\n",
       "   'aircraft': {'reg': '9H-AEP', 'modeS': '4D2026', 'model': 'Airbus A320'},\n",
       "   'airline': {'name': 'KM Malta', 'iata': 'KM', 'icao': 'KMM'}},\n",
       "  {'departure': {'airport': {'icao': 'EGLL',\n",
       "     'iata': 'LHR',\n",
       "     'name': 'London',\n",
       "     'timeZone': 'Europe/London'},\n",
       "    'scheduledTime': {'utc': '2024-10-08 06:20Z',\n",
       "     'local': '2024-10-08 07:20+01:00'},\n",
       "    'revisedTime': {'utc': '2024-10-08 06:30Z',\n",
       "     'local': '2024-10-08 07:30+01:00'},\n",
       "    'runwayTime': {'utc': '2024-10-08 06:31Z',\n",
       "     'local': '2024-10-08 07:31+01:00'},\n",
       "    'terminal': '5',\n",
       "    'checkInDesk': 'D',\n",
       "    'quality': ['Basic', 'Live']},\n",
       "   'arrival': {'scheduledTime': {'utc': '2024-10-08 08:10Z',\n",
       "     'local': '2024-10-08 10:10+02:00'},\n",
       "    'revisedTime': {'utc': '2024-10-08 07:49Z',\n",
       "     'local': '2024-10-08 09:49+02:00'},\n",
       "    'runwayTime': {'utc': '2024-10-08 07:56Z',\n",
       "     'local': '2024-10-08 09:56+02:00'},\n",
       "    'terminal': '1',\n",
       "    'gate': 'X01',\n",
       "    'baggageBelt': 'A3',\n",
       "    'quality': ['Basic', 'Live']},\n",
       "   'number': 'BA 990',\n",
       "   'callSign': 'BAW990G',\n",
       "   'status': 'Arrived',\n",
       "   'codeshareStatus': 'IsOperator',\n",
       "   'isCargo': False,\n",
       "   'aircraft': {'reg': 'G-TTNM',\n",
       "    'modeS': '407930',\n",
       "    'model': 'Airbus A320 NEO'},\n",
       "   'airline': {'name': 'British Airways', 'iata': 'BA', 'icao': 'BAW'}},\n",
       "  {'departure': {'airport': {'icao': 'EHAM',\n",
       "     'iata': 'AMS',\n",
       "     'name': 'Amsterdam',\n",
       "     'timeZone': 'Europe/Amsterdam'},\n",
       "    'scheduledTime': {'utc': '2024-10-08 06:45Z',\n",
       "     'local': '2024-10-08 08:45+02:00'},\n",
       "    'revisedTime': {'utc': '2024-10-08 06:46Z',\n",
       "     'local': '2024-10-08 08:46+02:00'},\n",
       "    'runwayTime': {'utc': '2024-10-08 06:56Z',\n",
       "     'local': '2024-10-08 08:56+02:00'},\n",
       "    'terminal': '1',\n",
       "    'checkInDesk': '6-8',\n",
       "    'gate': 'B6',\n",
       "    'quality': ['Basic', 'Live']},\n",
       "   'arrival': {'scheduledTime': {'utc': '2024-10-08 08:05Z',\n",
       "     'local': '2024-10-08 10:05+02:00'},\n",
       "    'revisedTime': {'utc': '2024-10-08 07:54Z',\n",
       "     'local': '2024-10-08 09:54+02:00'},\n",
       "    'runwayTime': {'utc': '2024-10-08 07:59Z',\n",
       "     'local': '2024-10-08 09:59+02:00'},\n",
       "    'terminal': '1',\n",
       "    'gate': 'A30',\n",
       "    'baggageBelt': 'A2',\n",
       "    'quality': ['Basic', 'Live']},\n",
       "   'number': 'KL 1773',\n",
       "   'callSign': 'KLM31X',\n",
       "   'status': 'Arrived',\n",
       "   'codeshareStatus': 'IsOperator',\n",
       "   'isCargo': False,\n",
       "   'aircraft': {'reg': 'D-AJHW', 'modeS': '3C6917', 'model': 'Embraer 190'},\n",
       "   'airline': {'name': 'KLM', 'iata': 'KL', 'icao': 'KLM'}},\n",
       "  {'departure': {'airport': {'icao': 'EIDW',\n",
       "     'iata': 'DUB',\n",
       "     'name': 'Dublin',\n",
       "     'timeZone': 'Europe/Dublin'},\n",
       "    'scheduledTime': {'utc': '2024-10-08 05:40Z',\n",
       "     'local': '2024-10-08 06:40+01:00'},\n",
       "    'revisedTime': {'utc': '2024-10-08 05:40Z',\n",
       "     'local': '2024-10-08 06:40+01:00'},\n",
       "    'runwayTime': {'utc': '2024-10-08 06:10Z',\n",
       "     'local': '2024-10-08 07:10+01:00'},\n",
       "    'terminal': '2',\n",
       "    'checkInDesk': '29-56',\n",
       "    'gate': '417',\n",
       "    'runway': '10',\n",
       "    'quality': ['Basic', 'Live']},\n",
       "   'arrival': {'scheduledTime': {'utc': '2024-10-08 08:00Z',\n",
       "     'local': '2024-10-08 10:00+02:00'},\n",
       "    'revisedTime': {'utc': '2024-10-08 07:57Z',\n",
       "     'local': '2024-10-08 09:57+02:00'},\n",
       "    'terminal': '1',\n",
       "    'gate': 'X02',\n",
       "    'baggageBelt': 'A4',\n",
       "    'quality': ['Basic', 'Live']},\n",
       "   'number': 'EI 332',\n",
       "   'callSign': 'EIN3JE',\n",
       "   'status': 'Arrived',\n",
       "   'codeshareStatus': 'IsOperator',\n",
       "   'isCargo': False,\n",
       "   'aircraft': {'reg': 'EI-DEI', 'modeS': '4CA281', 'model': 'Airbus A320'},\n",
       "   'airline': {'name': 'Aer Lingus', 'iata': 'EI', 'icao': 'EIN'}},\n",
       "  {'departure': {'airport': {'icao': 'LSZH',\n",
       "     'iata': 'ZRH',\n",
       "     'name': 'Zurich',\n",
       "     'timeZone': 'Europe/Zurich'},\n",
       "    'scheduledTime': {'utc': '2024-10-08 06:40Z',\n",
       "     'local': '2024-10-08 08:40+02:00'},\n",
       "    'revisedTime': {'utc': '2024-10-08 06:40Z',\n",
       "     'local': '2024-10-08 08:40+02:00'},\n",
       "    'runwayTime': {'utc': '2024-10-08 06:55Z',\n",
       "     'local': '2024-10-08 08:55+02:00'},\n",
       "    'checkInDesk': '1',\n",
       "    'gate': 'A56',\n",
       "    'quality': ['Basic', 'Live']},\n",
       "   'arrival': {'scheduledTime': {'utc': '2024-10-08 08:05Z',\n",
       "     'local': '2024-10-08 10:05+02:00'},\n",
       "    'revisedTime': {'utc': '2024-10-08 07:59Z',\n",
       "     'local': '2024-10-08 09:59+02:00'},\n",
       "    'terminal': '1',\n",
       "    'gate': 'B06',\n",
       "    'baggageBelt': 'B4',\n",
       "    'quality': ['Basic', 'Live']},\n",
       "   'number': 'LX 976',\n",
       "   'callSign': 'SWR2HD',\n",
       "   'status': 'Arrived',\n",
       "   'codeshareStatus': 'IsOperator',\n",
       "   'isCargo': False,\n",
       "   'aircraft': {'reg': 'HB-JCB',\n",
       "    'modeS': '4B17F9',\n",
       "    'model': 'Airbus A220-300'},\n",
       "   'airline': {'name': 'SWISS', 'iata': 'LX', 'icao': 'SWR'}},\n",
       "  {'departure': {'airport': {'icao': 'EDDM',\n",
       "     'iata': 'MUC',\n",
       "     'name': 'Munich',\n",
       "     'timeZone': 'Europe/Berlin'},\n",
       "    'scheduledTime': {'utc': '2024-10-08 07:00Z',\n",
       "     'local': '2024-10-08 09:00+02:00'},\n",
       "    'revisedTime': {'utc': '2024-10-08 07:00Z',\n",
       "     'local': '2024-10-08 09:00+02:00'},\n",
       "    'terminal': '2',\n",
       "    'quality': ['Basic', 'Live']},\n",
       "   'arrival': {'scheduledTime': {'utc': '2024-10-08 08:05Z',\n",
       "     'local': '2024-10-08 10:05+02:00'},\n",
       "    'revisedTime': {'utc': '2024-10-08 08:01Z',\n",
       "     'local': '2024-10-08 10:01+02:00'},\n",
       "    'terminal': '1',\n",
       "    'gate': 'B10',\n",
       "    'baggageBelt': 'B1',\n",
       "    'quality': ['Basic', 'Live']},\n",
       "   'number': 'LH 1934',\n",
       "   'callSign': 'DLH5T',\n",
       "   'status': 'Arrived',\n",
       "   'codeshareStatus': 'IsOperator',\n",
       "   'isCargo': False,\n",
       "   'aircraft': {'reg': 'D-AIBE', 'modeS': '3C6445', 'model': 'Airbus A319'},\n",
       "   'airline': {'name': 'Lufthansa', 'iata': 'LH', 'icao': 'DLH'}},\n",
       "  {'departure': {'airport': {'icao': 'LEMD',\n",
       "     'iata': 'MAD',\n",
       "     'name': 'Madrid',\n",
       "     'timeZone': 'Europe/Madrid'},\n",
       "    'scheduledTime': {'utc': '2024-10-08 05:30Z',\n",
       "     'local': '2024-10-08 07:30+02:00'},\n",
       "    'revisedTime': {'utc': '2024-10-08 05:32Z',\n",
       "     'local': '2024-10-08 07:32+02:00'},\n",
       "    'runwayTime': {'utc': '2024-10-08 05:50Z',\n",
       "     'local': '2024-10-08 07:50+02:00'},\n",
       "    'terminal': '4',\n",
       "    'checkInDesk': '850-859',\n",
       "    'gate': 'K73',\n",
       "    'runway': '14L',\n",
       "    'quality': ['Basic', 'Live']},\n",
       "   'arrival': {'scheduledTime': {'utc': '2024-10-08 08:35Z',\n",
       "     'local': '2024-10-08 10:35+02:00'},\n",
       "    'revisedTime': {'utc': '2024-10-08 08:09Z',\n",
       "     'local': '2024-10-08 10:09+02:00'},\n",
       "    'terminal': '1',\n",
       "    'gate': 'A34',\n",
       "    'baggageBelt': 'A4',\n",
       "    'quality': ['Basic', 'Live']},\n",
       "   'number': 'I2 3676',\n",
       "   'callSign': 'IBS36YR',\n",
       "   'status': 'Arrived',\n",
       "   'codeshareStatus': 'IsOperator',\n",
       "   'isCargo': False,\n",
       "   'aircraft': {'reg': 'EC-OBY',\n",
       "    'modeS': '34754C',\n",
       "    'model': 'Airbus A321 NEO'},\n",
       "   'airline': {'name': 'Iberia Express', 'iata': 'I2', 'icao': 'IBS'}},\n",
       "  {'departure': {'airport': {'icao': 'EDDS',\n",
       "     'iata': 'STR',\n",
       "     'name': 'Stuttgart',\n",
       "     'timeZone': 'Europe/Berlin'},\n",
       "    'scheduledTime': {'utc': '2024-10-08 07:00Z',\n",
       "     'local': '2024-10-08 09:00+02:00'},\n",
       "    'revisedTime': {'utc': '2024-10-08 07:00Z',\n",
       "     'local': '2024-10-08 09:00+02:00'},\n",
       "    'terminal': '3',\n",
       "    'gate': '140',\n",
       "    'quality': ['Basic', 'Live']},\n",
       "   'arrival': {'scheduledTime': {'utc': '2024-10-08 08:10Z',\n",
       "     'local': '2024-10-08 10:10+02:00'},\n",
       "    'revisedTime': {'utc': '2024-10-08 08:12Z',\n",
       "     'local': '2024-10-08 10:12+02:00'},\n",
       "    'terminal': '1',\n",
       "    'gate': 'A35',\n",
       "    'baggageBelt': 'A1',\n",
       "    'quality': ['Basic', 'Live']},\n",
       "   'number': 'EW 8001',\n",
       "   'status': 'Arrived',\n",
       "   'codeshareStatus': 'IsOperator',\n",
       "   'isCargo': False,\n",
       "   'aircraft': {'reg': 'D-ABGN', 'modeS': '3C48EE', 'model': 'Airbus A319'},\n",
       "   'airline': {'name': 'Eurowings', 'iata': 'EW', 'icao': 'EWG'}},\n",
       "  {'departure': {'airport': {'icao': 'EDDS',\n",
       "     'iata': 'STR',\n",
       "     'name': 'Stuttgart',\n",
       "     'timeZone': 'Europe/Berlin'},\n",
       "    'scheduledTime': {'utc': '2024-10-08 07:00Z',\n",
       "     'local': '2024-10-08 09:00+02:00'},\n",
       "    'revisedTime': {'utc': '2024-10-08 07:00Z',\n",
       "     'local': '2024-10-08 09:00+02:00'},\n",
       "    'terminal': '3',\n",
       "    'gate': '140',\n",
       "    'quality': ['Basic', 'Live']},\n",
       "   'arrival': {'scheduledTime': {'utc': '2024-10-08 08:10Z',\n",
       "     'local': '2024-10-08 10:10+02:00'},\n",
       "    'revisedTime': {'utc': '2024-10-08 08:12Z',\n",
       "     'local': '2024-10-08 10:12+02:00'},\n",
       "    'terminal': '1',\n",
       "    'gate': 'A35',\n",
       "    'baggageBelt': 'A1',\n",
       "    'quality': ['Basic', 'Live']},\n",
       "   'number': 'LH 5392',\n",
       "   'status': 'Arrived',\n",
       "   'codeshareStatus': 'IsCodeshared',\n",
       "   'isCargo': False,\n",
       "   'aircraft': {'reg': 'D-ABGN', 'modeS': '3C48EE', 'model': 'Airbus A319'},\n",
       "   'airline': {'name': 'Lufthansa', 'iata': 'LH', 'icao': 'DLH'}},\n",
       "  {'departure': {'airport': {'icao': 'EDDF',\n",
       "     'iata': 'FRA',\n",
       "     'name': 'Frankfurt-am-Main',\n",
       "     'timeZone': 'Europe/Berlin'},\n",
       "    'scheduledTime': {'utc': '2024-10-08 06:45Z',\n",
       "     'local': '2024-10-08 08:45+02:00'},\n",
       "    'revisedTime': {'utc': '2024-10-08 07:00Z',\n",
       "     'local': '2024-10-08 09:00+02:00'},\n",
       "    'runwayTime': {'utc': '2024-10-08 07:30Z',\n",
       "     'local': '2024-10-08 09:30+02:00'},\n",
       "    'terminal': '1',\n",
       "    'checkInDesk': '259-335',\n",
       "    'gate': 'A17',\n",
       "    'runway': '18',\n",
       "    'quality': ['Basic', 'Live']},\n",
       "   'arrival': {'scheduledTime': {'utc': '2024-10-08 07:55Z',\n",
       "     'local': '2024-10-08 09:55+02:00'},\n",
       "    'revisedTime': {'utc': '2024-10-08 08:13Z',\n",
       "     'local': '2024-10-08 10:13+02:00'},\n",
       "    'terminal': '1',\n",
       "    'gate': 'B07',\n",
       "    'baggageBelt': 'B4',\n",
       "    'quality': ['Basic', 'Live']},\n",
       "   'number': 'LH 176',\n",
       "   'callSign': 'DLH7PK',\n",
       "   'status': 'Arrived',\n",
       "   'codeshareStatus': 'IsOperator',\n",
       "   'isCargo': False,\n",
       "   'aircraft': {'reg': 'D-AISL', 'modeS': '3C666C', 'model': 'Airbus A321'},\n",
       "   'airline': {'name': 'Lufthansa', 'iata': 'LH', 'icao': 'DLH'}},\n",
       "  {'departure': {'airport': {'icao': 'LOWW',\n",
       "     'iata': 'VIE',\n",
       "     'name': 'Vienna',\n",
       "     'timeZone': 'Europe/Vienna'},\n",
       "    'scheduledTime': {'utc': '2024-10-08 07:15Z',\n",
       "     'local': '2024-10-08 09:15+02:00'},\n",
       "    'revisedTime': {'utc': '2024-10-08 07:24Z',\n",
       "     'local': '2024-10-08 09:24+02:00'},\n",
       "    'runwayTime': {'utc': '2024-10-08 07:25Z',\n",
       "     'local': '2024-10-08 09:25+02:00'},\n",
       "    'terminal': '3',\n",
       "    'checkInDesk': '351-372',\n",
       "    'gate': 'F17',\n",
       "    'runway': '29',\n",
       "    'quality': ['Basic', 'Live']},\n",
       "   'arrival': {'scheduledTime': {'utc': '2024-10-08 08:25Z',\n",
       "     'local': '2024-10-08 10:25+02:00'},\n",
       "    'revisedTime': {'utc': '2024-10-08 08:15Z',\n",
       "     'local': '2024-10-08 10:15+02:00'},\n",
       "    'terminal': '1',\n",
       "    'gate': 'B17',\n",
       "    'baggageBelt': 'B4',\n",
       "    'quality': ['Basic', 'Live']},\n",
       "   'number': 'OS 225',\n",
       "   'callSign': 'AUA225S',\n",
       "   'status': 'Arrived',\n",
       "   'codeshareStatus': 'IsOperator',\n",
       "   'isCargo': False,\n",
       "   'aircraft': {'reg': 'OE-LWN', 'modeS': '44082A', 'model': 'Embraer 195'},\n",
       "   'airline': {'name': 'Austrian', 'iata': 'OS', 'icao': 'AUA'}},\n",
       "  {'departure': {'airport': {'icao': 'EHAM',\n",
       "     'iata': 'AMS',\n",
       "     'name': 'Amsterdam',\n",
       "     'timeZone': 'Europe/Amsterdam'},\n",
       "    'scheduledTime': {'utc': '2024-10-08 07:05Z',\n",
       "     'local': '2024-10-08 09:05+02:00'},\n",
       "    'revisedTime': {'utc': '2024-10-08 07:09Z',\n",
       "     'local': '2024-10-08 09:09+02:00'},\n",
       "    'runwayTime': {'utc': '2024-10-08 07:19Z',\n",
       "     'local': '2024-10-08 09:19+02:00'},\n",
       "    'terminal': '3',\n",
       "    'checkInDesk': '26',\n",
       "    'gate': 'M4',\n",
       "    'runway': '18L',\n",
       "    'quality': ['Basic', 'Live']},\n",
       "   'arrival': {'scheduledTime': {'utc': '2024-10-08 08:30Z',\n",
       "     'local': '2024-10-08 10:30+02:00'},\n",
       "    'revisedTime': {'utc': '2024-10-08 08:18Z',\n",
       "     'local': '2024-10-08 10:18+02:00'},\n",
       "    'runwayTime': {'utc': '2024-10-08 08:33Z',\n",
       "     'local': '2024-10-08 10:33+02:00'},\n",
       "    'terminal': '1',\n",
       "    'gate': 'S01',\n",
       "    'baggageBelt': 'B2',\n",
       "    'quality': ['Basic', 'Live']},\n",
       "   'number': 'U2 5282',\n",
       "   'callSign': 'EJU42KM',\n",
       "   'status': 'Arrived',\n",
       "   'codeshareStatus': 'IsOperator',\n",
       "   'isCargo': False,\n",
       "   'aircraft': {'reg': 'OE-IBS', 'modeS': '440D10', 'model': 'Airbus A320'},\n",
       "   'airline': {'name': 'easyJet', 'iata': 'U2', 'icao': 'EZY'}},\n",
       "  {'departure': {'airport': {'icao': 'EHAM',\n",
       "     'iata': 'AMS',\n",
       "     'name': 'Amsterdam',\n",
       "     'timeZone': 'Europe/Amsterdam'},\n",
       "    'scheduledTime': {'utc': '2024-10-08 07:05Z',\n",
       "     'local': '2024-10-08 09:05+02:00'},\n",
       "    'revisedTime': {'utc': '2024-10-08 07:09Z',\n",
       "     'local': '2024-10-08 09:09+02:00'},\n",
       "    'runwayTime': {'utc': '2024-10-08 07:19Z',\n",
       "     'local': '2024-10-08 09:19+02:00'},\n",
       "    'terminal': '3',\n",
       "    'checkInDesk': '26',\n",
       "    'gate': 'M4',\n",
       "    'runway': '18L',\n",
       "    'quality': ['Basic', 'Live']},\n",
       "   'arrival': {'scheduledTime': {'utc': '2024-10-08 08:30Z',\n",
       "     'local': '2024-10-08 10:30+02:00'},\n",
       "    'revisedTime': {'utc': '2024-10-08 08:18Z',\n",
       "     'local': '2024-10-08 10:18+02:00'},\n",
       "    'runwayTime': {'utc': '2024-10-08 08:33Z',\n",
       "     'local': '2024-10-08 10:33+02:00'},\n",
       "    'terminal': '1',\n",
       "    'gate': 'S01',\n",
       "    'baggageBelt': 'B2',\n",
       "    'quality': ['Basic', 'Live']},\n",
       "   'number': 'EC 5282',\n",
       "   'callSign': 'EJU42KM',\n",
       "   'status': 'Arrived',\n",
       "   'codeshareStatus': 'IsCodeshared',\n",
       "   'isCargo': False,\n",
       "   'aircraft': {'reg': 'OE-IBS', 'modeS': '440D10', 'model': 'Airbus A320'},\n",
       "   'airline': {'name': 'EasyJet Europe', 'iata': 'EC', 'icao': 'EJU'}},\n",
       "  {'departure': {'airport': {'icao': 'EVRA',\n",
       "     'iata': 'RIX',\n",
       "     'name': 'Riga',\n",
       "     'timeZone': 'Europe/Riga'},\n",
       "    'scheduledTime': {'utc': '2024-10-08 06:05Z',\n",
       "     'local': '2024-10-08 09:05+03:00'},\n",
       "    'revisedTime': {'utc': '2024-10-08 06:05Z',\n",
       "     'local': '2024-10-08 09:05+03:00'},\n",
       "    'terminal': 'B',\n",
       "    'gate': 'B4',\n",
       "    'quality': ['Basic', 'Live']},\n",
       "   'arrival': {'scheduledTime': {'utc': '2024-10-08 07:50Z',\n",
       "     'local': '2024-10-08 09:50+02:00'},\n",
       "    'revisedTime': {'utc': '2024-10-08 08:19Z',\n",
       "     'local': '2024-10-08 10:19+02:00'},\n",
       "    'terminal': '2',\n",
       "    'gate': 'Z34',\n",
       "    'baggageBelt': 'C1',\n",
       "    'quality': ['Basic', 'Live']},\n",
       "   'number': 'FR 2600',\n",
       "   'callSign': 'RYR2600',\n",
       "   'status': 'Arrived',\n",
       "   'codeshareStatus': 'IsOperator',\n",
       "   'isCargo': False,\n",
       "   'aircraft': {'reg': 'EI-IGK',\n",
       "    'modeS': '4CADBD',\n",
       "    'model': 'Boeing 737 MAX 8'},\n",
       "   'airline': {'name': 'Ryanair', 'iata': 'FR', 'icao': 'RYR'}},\n",
       "  {'departure': {'airport': {'icao': 'UBBB',\n",
       "     'iata': 'GYD',\n",
       "     'name': 'Baku',\n",
       "     'timeZone': 'Asia/Baku'},\n",
       "    'scheduledTime': {'utc': '2024-10-08 03:30Z',\n",
       "     'local': '2024-10-08 07:30+04:00'},\n",
       "    'terminal': '1',\n",
       "    'quality': ['Basic']},\n",
       "   'arrival': {'scheduledTime': {'utc': '2024-10-08 08:35Z',\n",
       "     'local': '2024-10-08 10:35+02:00'},\n",
       "    'revisedTime': {'utc': '2024-10-08 08:27Z',\n",
       "     'local': '2024-10-08 10:27+02:00'},\n",
       "    'runwayTime': {'utc': '2024-10-08 08:36Z',\n",
       "     'local': '2024-10-08 10:36+02:00'},\n",
       "    'terminal': '1',\n",
       "    'gate': 'N01',\n",
       "    'baggageBelt': 'B3',\n",
       "    'quality': ['Basic', 'Live']},\n",
       "   'number': 'J2 63',\n",
       "   'callSign': 'AHY063',\n",
       "   'status': 'Arrived',\n",
       "   'codeshareStatus': 'IsOperator',\n",
       "   'isCargo': False,\n",
       "   'aircraft': {'reg': 'LY-JAM', 'modeS': '503D79', 'model': 'Airbus A320'},\n",
       "   'airline': {'name': 'AZAL Azerbaijan', 'iata': 'J2', 'icao': 'AHY'}},\n",
       "  {'departure': {'airport': {'icao': 'LLBG',\n",
       "     'iata': 'TLV',\n",
       "     'name': 'Tel Aviv Yafo',\n",
       "     'timeZone': 'Asia/Jerusalem'},\n",
       "    'scheduledTime': {'utc': '2024-10-08 03:20Z',\n",
       "     'local': '2024-10-08 06:20+03:00'},\n",
       "    'terminal': '3',\n",
       "    'quality': ['Basic']},\n",
       "   'arrival': {'scheduledTime': {'utc': '2024-10-08 07:40Z',\n",
       "     'local': '2024-10-08 09:40+02:00'},\n",
       "    'revisedTime': {'utc': '2024-10-08 08:29Z',\n",
       "     'local': '2024-10-08 10:29+02:00'},\n",
       "    'runwayTime': {'utc': '2024-10-08 08:37Z',\n",
       "     'local': '2024-10-08 10:37+02:00'},\n",
       "    'terminal': '1',\n",
       "    'gate': 'X19',\n",
       "    'baggageBelt': 'A3',\n",
       "    'quality': ['Basic', 'Live']},\n",
       "   'number': 'LY 2371',\n",
       "   'callSign': 'ELY2371',\n",
       "   'status': 'Arrived',\n",
       "   'codeshareStatus': 'IsOperator',\n",
       "   'isCargo': False,\n",
       "   'aircraft': {'reg': '4X-EHB', 'modeS': '738051', 'model': 'Boeing 737'},\n",
       "   'airline': {'name': 'El Al', 'iata': 'LY', 'icao': 'ELY'}},\n",
       "  {'departure': {'airport': {'icao': 'LTAI',\n",
       "     'iata': 'AYT',\n",
       "     'name': 'Antalya',\n",
       "     'timeZone': 'Europe/Istanbul'},\n",
       "    'scheduledTime': {'utc': '2024-10-08 04:40Z',\n",
       "     'local': '2024-10-08 07:40+03:00'},\n",
       "    'revisedTime': {'utc': '2024-10-08 04:40Z',\n",
       "     'local': '2024-10-08 07:40+03:00'},\n",
       "    'terminal': '1',\n",
       "    'checkInDesk': '107-109',\n",
       "    'quality': ['Basic', 'Live']},\n",
       "   'arrival': {'scheduledTime': {'utc': '2024-10-08 08:10Z',\n",
       "     'local': '2024-10-08 10:10+02:00'},\n",
       "    'revisedTime': {'utc': '2024-10-08 08:33Z',\n",
       "     'local': '2024-10-08 10:33+02:00'},\n",
       "    'runwayTime': {'utc': '2024-10-08 08:40Z',\n",
       "     'local': '2024-10-08 10:40+02:00'},\n",
       "    'terminal': '1',\n",
       "    'gate': 'N01',\n",
       "    'baggageBelt': 'B3',\n",
       "    'quality': ['Basic', 'Live']},\n",
       "   'number': 'PC 5067',\n",
       "   'callSign': 'PGT4WR',\n",
       "   'status': 'Arrived',\n",
       "   'codeshareStatus': 'IsOperator',\n",
       "   'isCargo': False,\n",
       "   'aircraft': {'reg': 'TC-NBP',\n",
       "    'modeS': '4BB850',\n",
       "    'model': 'Airbus A321 (Sharklets)'},\n",
       "   'airline': {'name': 'Pegasus', 'iata': 'PC', 'icao': 'PGT'}},\n",
       "  {'departure': {'airport': {'icao': 'LROP',\n",
       "     'iata': 'OTP',\n",
       "     'name': 'Bucharest',\n",
       "     'timeZone': 'Europe/Bucharest'},\n",
       "    'scheduledTime': {'utc': '2024-10-08 06:35Z',\n",
       "     'local': '2024-10-08 09:35+03:00'},\n",
       "    'revisedTime': {'utc': '2024-10-08 06:43Z',\n",
       "     'local': '2024-10-08 09:43+03:00'},\n",
       "    'runwayTime': {'utc': '2024-10-08 06:45Z',\n",
       "     'local': '2024-10-08 09:45+03:00'},\n",
       "    'quality': ['Basic', 'Live']},\n",
       "   'arrival': {'scheduledTime': {'utc': '2024-10-08 08:50Z',\n",
       "     'local': '2024-10-08 10:50+02:00'},\n",
       "    'revisedTime': {'utc': '2024-10-08 08:35Z',\n",
       "     'local': '2024-10-08 10:35+02:00'},\n",
       "    'runwayTime': {'utc': '2024-10-08 08:37Z',\n",
       "     'local': '2024-10-08 10:37+02:00'},\n",
       "    'terminal': '2',\n",
       "    'gate': 'Z36',\n",
       "    'baggageBelt': 'C2',\n",
       "    'quality': ['Basic', 'Live']},\n",
       "   'number': 'FR 315',\n",
       "   'callSign': 'RYR2D',\n",
       "   'status': 'Arrived',\n",
       "   'codeshareStatus': 'IsOperator',\n",
       "   'isCargo': False,\n",
       "   'aircraft': {'reg': '9H-QED', 'modeS': '4D224F', 'model': 'Boeing 737-800'},\n",
       "   'airline': {'name': 'Ryanair', 'iata': 'FR', 'icao': 'RYR'}},\n",
       "  {'departure': {'airport': {'icao': 'LPFR',\n",
       "     'iata': 'FAO',\n",
       "     'name': 'Faro',\n",
       "     'timeZone': 'Europe/Lisbon'},\n",
       "    'scheduledTime': {'utc': '2024-10-08 05:20Z',\n",
       "     'local': '2024-10-08 06:20+01:00'},\n",
       "    'revisedTime': {'utc': '2024-10-08 05:31Z',\n",
       "     'local': '2024-10-08 06:31+01:00'},\n",
       "    'runwayTime': {'utc': '2024-10-08 05:35Z',\n",
       "     'local': '2024-10-08 06:35+01:00'},\n",
       "    'terminal': '1',\n",
       "    'quality': ['Basic', 'Live']},\n",
       "   'arrival': {'scheduledTime': {'utc': '2024-10-08 08:50Z',\n",
       "     'local': '2024-10-08 10:50+02:00'},\n",
       "    'revisedTime': {'utc': '2024-10-08 08:37Z',\n",
       "     'local': '2024-10-08 10:37+02:00'},\n",
       "    'runwayTime': {'utc': '2024-10-08 08:37Z',\n",
       "     'local': '2024-10-08 10:37+02:00'},\n",
       "    'terminal': '2',\n",
       "    'gate': 'Z30',\n",
       "    'baggageBelt': 'C3',\n",
       "    'runway': '25R',\n",
       "    'quality': ['Basic', 'Live']},\n",
       "   'number': 'FR 254',\n",
       "   'callSign': 'RYR17NM',\n",
       "   'status': 'Arrived',\n",
       "   'codeshareStatus': 'IsOperator',\n",
       "   'isCargo': False,\n",
       "   'aircraft': {'reg': 'EI-IHM',\n",
       "    'modeS': '4CADF7',\n",
       "    'model': 'Boeing 737 MAX 8'},\n",
       "   'airline': {'name': 'Ryanair', 'iata': 'FR', 'icao': 'RYR'}},\n",
       "  {'departure': {'airport': {'icao': 'DTMB',\n",
       "     'iata': 'MIR',\n",
       "     'name': 'Monastir',\n",
       "     'timeZone': 'Africa/Tunis'},\n",
       "    'scheduledTime': {'utc': '2024-10-08 06:00Z',\n",
       "     'local': '2024-10-08 07:00+01:00'},\n",
       "    'revisedTime': {'utc': '2024-10-08 06:11Z',\n",
       "     'local': '2024-10-08 07:11+01:00'},\n",
       "    'checkInDesk': '39',\n",
       "    'gate': '10',\n",
       "    'quality': ['Basic', 'Live']},\n",
       "   'arrival': {'scheduledTime': {'utc': '2024-10-08 09:00Z',\n",
       "     'local': '2024-10-08 11:00+02:00'},\n",
       "    'revisedTime': {'utc': '2024-10-08 08:38Z',\n",
       "     'local': '2024-10-08 10:38+02:00'},\n",
       "    'terminal': '1',\n",
       "    'gate': 'X07',\n",
       "    'baggageBelt': 'A4',\n",
       "    'quality': ['Basic', 'Live']},\n",
       "   'number': 'BJ 248',\n",
       "   'callSign': 'LBT248',\n",
       "   'status': 'Arrived',\n",
       "   'codeshareStatus': 'IsOperator',\n",
       "   'isCargo': False,\n",
       "   'aircraft': {'reg': 'TS-INC', 'modeS': '02A1A2', 'model': 'Airbus A320'},\n",
       "   'airline': {'name': 'Nouvelair Tunisie', 'iata': 'BJ', 'icao': 'LBT'}},\n",
       "  {'departure': {'airport': {'name': 'Unknown'}, 'quality': []},\n",
       "   'arrival': {'scheduledTime': {'utc': '2024-10-08 08:42Z',\n",
       "     'local': '2024-10-08 10:42+02:00'},\n",
       "    'revisedTime': {'utc': '2024-10-08 08:42Z',\n",
       "     'local': '2024-10-08 10:42+02:00'},\n",
       "    'runway': '25R',\n",
       "    'quality': ['Basic', 'Live']},\n",
       "   'number': 'SSR 89PB',\n",
       "   'callSign': 'SSR89PB',\n",
       "   'status': 'Approaching',\n",
       "   'codeshareStatus': 'IsOperator',\n",
       "   'isCargo': False,\n",
       "   'aircraft': {'reg': 'I-CNDG',\n",
       "    'modeS': '3003D0',\n",
       "    'model': 'Cessna 560 Citation Excel'},\n",
       "   'airline': {'name': 'SSR'}},\n",
       "  {'departure': {'airport': {'icao': 'EPWA',\n",
       "     'iata': 'WAW',\n",
       "     'name': 'Warsaw',\n",
       "     'timeZone': 'Europe/Warsaw'},\n",
       "    'scheduledTime': {'utc': '2024-10-08 07:15Z',\n",
       "     'local': '2024-10-08 09:15+02:00'},\n",
       "    'revisedTime': {'utc': '2024-10-08 07:47Z',\n",
       "     'local': '2024-10-08 09:47+02:00'},\n",
       "    'runwayTime': {'utc': '2024-10-08 07:47Z',\n",
       "     'local': '2024-10-08 09:47+02:00'},\n",
       "    'runway': '15',\n",
       "    'quality': ['Basic', 'Live']},\n",
       "   'arrival': {'scheduledTime': {'utc': '2024-10-08 08:30Z',\n",
       "     'local': '2024-10-08 10:30+02:00'},\n",
       "    'revisedTime': {'utc': '2024-10-08 08:43Z',\n",
       "     'local': '2024-10-08 10:43+02:00'},\n",
       "    'terminal': '1',\n",
       "    'gate': 'A36',\n",
       "    'baggageBelt': 'A2',\n",
       "    'quality': ['Basic', 'Live']},\n",
       "   'number': 'LO 387',\n",
       "   'callSign': 'LOT7AE',\n",
       "   'status': 'Arrived',\n",
       "   'codeshareStatus': 'IsOperator',\n",
       "   'isCargo': False,\n",
       "   'aircraft': {'reg': 'SP-LNC', 'modeS': '48ADA2', 'model': 'Embraer 195'},\n",
       "   'airline': {'name': 'LOT - Polish', 'iata': 'LO', 'icao': 'LOT'}},\n",
       "  {'departure': {'airport': {'icao': 'LGAV',\n",
       "     'iata': 'ATH',\n",
       "     'name': 'Athens',\n",
       "     'timeZone': 'Europe/Athens'},\n",
       "    'scheduledTime': {'utc': '2024-10-08 05:45Z',\n",
       "     'local': '2024-10-08 08:45+03:00'},\n",
       "    'revisedTime': {'utc': '2024-10-08 06:16Z',\n",
       "     'local': '2024-10-08 09:16+03:00'},\n",
       "    'runwayTime': {'utc': '2024-10-08 06:17Z',\n",
       "     'local': '2024-10-08 09:17+03:00'},\n",
       "    'terminal': 'D',\n",
       "    'checkInDesk': '148--153',\n",
       "    'gate': 'B27',\n",
       "    'runway': '03R',\n",
       "    'quality': ['Basic', 'Live']},\n",
       "   'arrival': {'scheduledTime': {'utc': '2024-10-08 08:40Z',\n",
       "     'local': '2024-10-08 10:40+02:00'},\n",
       "    'revisedTime': {'utc': '2024-10-08 08:46Z',\n",
       "     'local': '2024-10-08 10:46+02:00'},\n",
       "    'terminal': '1',\n",
       "    'gate': 'A33',\n",
       "    'baggageBelt': 'A1',\n",
       "    'quality': ['Basic', 'Live']},\n",
       "   'number': 'A3 820',\n",
       "   'callSign': 'AEE8RB',\n",
       "   'status': 'Arrived',\n",
       "   'codeshareStatus': 'IsOperator',\n",
       "   'isCargo': False,\n",
       "   'aircraft': {'reg': 'SX-NAB',\n",
       "    'modeS': '46B822',\n",
       "    'model': 'Airbus A321 NEO'},\n",
       "   'airline': {'name': 'Aegean', 'iata': 'A3', 'icao': 'AEE'}},\n",
       "  {'departure': {'airport': {'icao': 'EBBR',\n",
       "     'iata': 'BRU',\n",
       "     'name': 'Brussels',\n",
       "     'timeZone': 'Europe/Brussels'},\n",
       "    'scheduledTime': {'utc': '2024-10-08 07:25Z',\n",
       "     'local': '2024-10-08 09:25+02:00'},\n",
       "    'revisedTime': {'utc': '2024-10-08 07:47Z',\n",
       "     'local': '2024-10-08 09:47+02:00'},\n",
       "    'runwayTime': {'utc': '2024-10-08 07:47Z',\n",
       "     'local': '2024-10-08 09:47+02:00'},\n",
       "    'checkInDesk': '05',\n",
       "    'runway': '25R',\n",
       "    'quality': ['Basic', 'Live']},\n",
       "   'arrival': {'scheduledTime': {'utc': '2024-10-08 08:50Z',\n",
       "     'local': '2024-10-08 10:50+02:00'},\n",
       "    'revisedTime': {'utc': '2024-10-08 08:50Z',\n",
       "     'local': '2024-10-08 10:50+02:00'},\n",
       "    'terminal': '1',\n",
       "    'gate': 'B02',\n",
       "    'baggageBelt': 'B1',\n",
       "    'quality': ['Basic', 'Live']},\n",
       "   'number': 'SN 2581',\n",
       "   'callSign': 'BEL8CE',\n",
       "   'status': 'Arrived',\n",
       "   'codeshareStatus': 'IsOperator',\n",
       "   'isCargo': False,\n",
       "   'aircraft': {'reg': 'OO-SNI',\n",
       "    'modeS': '44CDC9',\n",
       "    'model': 'Airbus A320-200'},\n",
       "   'airline': {'name': 'Brussels', 'iata': 'SN', 'icao': 'BEL'}},\n",
       "  {'departure': {'airport': {'icao': 'LTAI',\n",
       "     'iata': 'AYT',\n",
       "     'name': 'Antalya',\n",
       "     'timeZone': 'Europe/Istanbul'},\n",
       "    'scheduledTime': {'utc': '2024-10-08 05:00Z',\n",
       "     'local': '2024-10-08 08:00+03:00'},\n",
       "    'revisedTime': {'utc': '2024-10-08 05:00Z',\n",
       "     'local': '2024-10-08 08:00+03:00'},\n",
       "    'terminal': '2',\n",
       "    'checkInDesk': '249-251',\n",
       "    'quality': ['Basic', 'Live']},\n",
       "   'arrival': {'scheduledTime': {'utc': '2024-10-08 08:35Z',\n",
       "     'local': '2024-10-08 10:35+02:00'},\n",
       "    'revisedTime': {'utc': '2024-10-08 08:54Z',\n",
       "     'local': '2024-10-08 10:54+02:00'},\n",
       "    'terminal': '1',\n",
       "    'gate': 'N01',\n",
       "    'baggageBelt': 'B2',\n",
       "    'quality': ['Basic', 'Live']},\n",
       "   'number': 'TI 7951',\n",
       "   'callSign': 'TWI7951',\n",
       "   'status': 'Arrived',\n",
       "   'codeshareStatus': 'IsOperator',\n",
       "   'isCargo': False,\n",
       "   'aircraft': {'reg': 'TC-TLE', 'modeS': '4BD185', 'model': 'Boeing 737'},\n",
       "   'airline': {'name': 'Tailwind', 'iata': 'TI', 'icao': 'TWI'}},\n",
       "  {'departure': {'airport': {'icao': 'LFML',\n",
       "     'iata': 'MRS',\n",
       "     'name': 'Marseille',\n",
       "     'timeZone': 'Europe/Paris'},\n",
       "    'scheduledTime': {'utc': '2024-10-08 06:45Z',\n",
       "     'local': '2024-10-08 08:45+02:00'},\n",
       "    'revisedTime': {'utc': '2024-10-08 07:18Z',\n",
       "     'local': '2024-10-08 09:18+02:00'},\n",
       "    'runwayTime': {'utc': '2024-10-08 07:18Z',\n",
       "     'local': '2024-10-08 09:18+02:00'},\n",
       "    'terminal': '2',\n",
       "    'runway': '13L',\n",
       "    'quality': ['Basic', 'Live']},\n",
       "   'arrival': {'scheduledTime': {'utc': '2024-10-08 08:50Z',\n",
       "     'local': '2024-10-08 10:50+02:00'},\n",
       "    'revisedTime': {'utc': '2024-10-08 08:56Z',\n",
       "     'local': '2024-10-08 10:56+02:00'},\n",
       "    'terminal': '2',\n",
       "    'gate': 'Z36',\n",
       "    'baggageBelt': 'C1',\n",
       "    'quality': ['Basic', 'Live']},\n",
       "   'number': 'FR 3389',\n",
       "   'callSign': 'RYR2AK',\n",
       "   'status': 'Arrived',\n",
       "   'codeshareStatus': 'IsOperator',\n",
       "   'isCargo': False,\n",
       "   'aircraft': {'reg': '9H-VVO',\n",
       "    'modeS': '4D2501',\n",
       "    'model': 'Boeing 737 MAX 8 '},\n",
       "   'airline': {'name': 'Ryanair', 'iata': 'FR', 'icao': 'RYR'}},\n",
       "  {'departure': {'airport': {'icao': 'EDDF',\n",
       "     'iata': 'FRA',\n",
       "     'name': 'Frankfurt-am-Main',\n",
       "     'timeZone': 'Europe/Berlin'},\n",
       "    'scheduledTime': {'utc': '2024-10-08 07:45Z',\n",
       "     'local': '2024-10-08 09:45+02:00'},\n",
       "    'revisedTime': {'utc': '2024-10-08 07:45Z',\n",
       "     'local': '2024-10-08 09:45+02:00'},\n",
       "    'runwayTime': {'utc': '2024-10-08 08:11Z',\n",
       "     'local': '2024-10-08 10:11+02:00'},\n",
       "    'terminal': '1',\n",
       "    'checkInDesk': '259-335',\n",
       "    'gate': 'A14',\n",
       "    'quality': ['Basic', 'Live']},\n",
       "   'arrival': {'scheduledTime': {'utc': '2024-10-08 08:55Z',\n",
       "     'local': '2024-10-08 10:55+02:00'},\n",
       "    'revisedTime': {'utc': '2024-10-08 08:58Z',\n",
       "     'local': '2024-10-08 10:58+02:00'},\n",
       "    'terminal': '1',\n",
       "    'gate': 'A10',\n",
       "    'baggageBelt': 'A2',\n",
       "    'quality': ['Basic', 'Live']},\n",
       "   'number': 'LH 178',\n",
       "   'callSign': 'DLH178',\n",
       "   'status': 'Arrived',\n",
       "   'codeshareStatus': 'IsOperator',\n",
       "   'isCargo': False,\n",
       "   'aircraft': {'reg': 'D-AISU', 'modeS': '3C6675', 'model': 'Airbus A321'},\n",
       "   'airline': {'name': 'Lufthansa', 'iata': 'LH', 'icao': 'DLH'}},\n",
       "  {'departure': {'airport': {'icao': 'LTAI',\n",
       "     'iata': 'AYT',\n",
       "     'name': 'Antalya',\n",
       "     'timeZone': 'Europe/Istanbul'},\n",
       "    'scheduledTime': {'utc': '2024-10-08 05:20Z',\n",
       "     'local': '2024-10-08 08:20+03:00'},\n",
       "    'revisedTime': {'utc': '2024-10-08 05:20Z',\n",
       "     'local': '2024-10-08 08:20+03:00'},\n",
       "    'terminal': '2',\n",
       "    'checkInDesk': '252-254',\n",
       "    'quality': ['Basic', 'Live']},\n",
       "   'arrival': {'scheduledTime': {'utc': '2024-10-08 08:40Z',\n",
       "     'local': '2024-10-08 10:40+02:00'},\n",
       "    'revisedTime': {'utc': '2024-10-08 09:01Z',\n",
       "     'local': '2024-10-08 11:01+02:00'},\n",
       "    'terminal': '1',\n",
       "    'gate': 'X06',\n",
       "    'baggageBelt': 'A4',\n",
       "    'quality': ['Basic', 'Live']},\n",
       "   'number': 'FH 1281',\n",
       "   'callSign': 'FHY1281',\n",
       "   'status': 'Arrived',\n",
       "   'codeshareStatus': 'IsOperator',\n",
       "   'isCargo': False,\n",
       "   'aircraft': {'reg': 'TC-FBO', 'modeS': '4B984F', 'model': 'Airbus A320'},\n",
       "   'airline': {'name': 'Freebird', 'iata': 'FH', 'icao': 'FHY'}},\n",
       "  {'departure': {'airport': {'icao': 'LTFJ',\n",
       "     'iata': 'SAW',\n",
       "     'name': 'Istanbul',\n",
       "     'timeZone': 'Europe/Istanbul'},\n",
       "    'scheduledTime': {'utc': '2024-10-08 06:25Z',\n",
       "     'local': '2024-10-08 09:25+03:00'},\n",
       "    'quality': ['Basic']},\n",
       "   'arrival': {'scheduledTime': {'utc': '2024-10-08 09:20Z',\n",
       "     'local': '2024-10-08 11:20+02:00'},\n",
       "    'revisedTime': {'utc': '2024-10-08 09:05Z',\n",
       "     'local': '2024-10-08 11:05+02:00'},\n",
       "    'terminal': '1',\n",
       "    'gate': 'Y10',\n",
       "    'baggageBelt': 'B3',\n",
       "    'quality': ['Basic', 'Live']},\n",
       "   'number': 'VF 57',\n",
       "   'status': 'Arrived',\n",
       "   'codeshareStatus': 'IsOperator',\n",
       "   'isCargo': False,\n",
       "   'aircraft': {'reg': '9H-SLG', 'modeS': '4D2312', 'model': 'Airbus A321'},\n",
       "   'airline': {'name': 'Ajet', 'iata': 'VF', 'icao': 'VLU'}},\n",
       "  {'departure': {'airport': {'icao': 'EGPH',\n",
       "     'iata': 'EDI',\n",
       "     'name': 'Edinburgh',\n",
       "     'timeZone': 'Europe/London'},\n",
       "    'scheduledTime': {'utc': '2024-10-08 06:40Z',\n",
       "     'local': '2024-10-08 07:40+01:00'},\n",
       "    'revisedTime': {'utc': '2024-10-08 07:17Z',\n",
       "     'local': '2024-10-08 08:17+01:00'},\n",
       "    'runwayTime': {'utc': '2024-10-08 07:18Z',\n",
       "     'local': '2024-10-08 08:18+01:00'},\n",
       "    'runway': '06',\n",
       "    'quality': ['Basic', 'Live']},\n",
       "   'arrival': {'scheduledTime': {'utc': '2024-10-08 08:40Z',\n",
       "     'local': '2024-10-08 10:40+02:00'},\n",
       "    'revisedTime': {'utc': '2024-10-08 09:08Z',\n",
       "     'local': '2024-10-08 11:08+02:00'},\n",
       "    'runwayTime': {'utc': '2024-10-08 09:08Z',\n",
       "     'local': '2024-10-08 11:08+02:00'},\n",
       "    'terminal': '2',\n",
       "    'gate': 'Z42',\n",
       "    'baggageBelt': 'C2',\n",
       "    'runway': '25R',\n",
       "    'quality': ['Basic', 'Live']},\n",
       "   'number': 'FR 2376',\n",
       "   'callSign': 'RYR2376',\n",
       "   'status': 'Arrived',\n",
       "   'codeshareStatus': 'IsOperator',\n",
       "   'isCargo': False,\n",
       "   'aircraft': {'reg': '9H-QBP', 'modeS': '4D220C', 'model': 'Boeing 737-800'},\n",
       "   'airline': {'name': 'Ryanair', 'iata': 'FR', 'icao': 'RYR'}},\n",
       "  {'departure': {'airport': {'icao': 'LTFJ',\n",
       "     'iata': 'SAW',\n",
       "     'name': 'Istanbul',\n",
       "     'timeZone': 'Europe/Istanbul'},\n",
       "    'quality': []},\n",
       "   'arrival': {'scheduledTime': {'utc': '2024-10-08 09:10Z',\n",
       "     'local': '2024-10-08 11:10+02:00'},\n",
       "    'revisedTime': {'utc': '2024-10-08 09:10Z',\n",
       "     'local': '2024-10-08 11:10+02:00'},\n",
       "    'runwayTime': {'utc': '2024-10-08 09:10Z',\n",
       "     'local': '2024-10-08 11:10+02:00'},\n",
       "    'quality': ['Basic', 'Live']},\n",
       "   'number': 'TKJ 86N',\n",
       "   'callSign': 'TKJ86N',\n",
       "   'status': 'Arrived',\n",
       "   'codeshareStatus': 'IsOperator',\n",
       "   'isCargo': False,\n",
       "   'aircraft': {'reg': '9H-SLG', 'modeS': '4D2312', 'model': 'Airbus A321'},\n",
       "   'airline': {'name': 'TKJ'}},\n",
       "  {'departure': {'airport': {'icao': 'EGLC',\n",
       "     'iata': 'LCY',\n",
       "     'name': 'London',\n",
       "     'timeZone': 'Europe/London'},\n",
       "    'scheduledTime': {'utc': '2024-10-08 07:25Z',\n",
       "     'local': '2024-10-08 08:25+01:00'},\n",
       "    'revisedTime': {'utc': '2024-10-08 07:44Z',\n",
       "     'local': '2024-10-08 08:44+01:00'},\n",
       "    'runwayTime': {'utc': '2024-10-08 07:53Z',\n",
       "     'local': '2024-10-08 08:53+01:00'},\n",
       "    'gate': '7',\n",
       "    'runway': '27',\n",
       "    'quality': ['Basic', 'Live']},\n",
       "   'arrival': {'scheduledTime': {'utc': '2024-10-08 09:10Z',\n",
       "     'local': '2024-10-08 11:10+02:00'},\n",
       "    'revisedTime': {'utc': '2024-10-08 09:10Z',\n",
       "     'local': '2024-10-08 11:10+02:00'},\n",
       "    'terminal': '1',\n",
       "    'gate': 'X03',\n",
       "    'baggageBelt': 'A3',\n",
       "    'quality': ['Basic', 'Live']},\n",
       "   'number': 'BA 8491',\n",
       "   'callSign': 'CFE76JZ',\n",
       "   'status': 'Arrived',\n",
       "   'codeshareStatus': 'IsOperator',\n",
       "   'isCargo': False,\n",
       "   'aircraft': {'reg': 'G-LCAH', 'modeS': '4079D3', 'model': 'Embraer 190'},\n",
       "   'airline': {'name': 'British Airways', 'iata': 'BA', 'icao': 'BAW'}},\n",
       "  {'departure': {'airport': {'icao': 'EDDS',\n",
       "     'iata': 'STR',\n",
       "     'name': 'Stuttgart',\n",
       "     'timeZone': 'Europe/Berlin'},\n",
       "    'scheduledTime': {'utc': '2024-10-08 08:00Z',\n",
       "     'local': '2024-10-08 10:00+02:00'},\n",
       "    'revisedTime': {'utc': '2024-10-08 08:00Z',\n",
       "     'local': '2024-10-08 10:00+02:00'},\n",
       "    'terminal': '3',\n",
       "    'gate': '325',\n",
       "    'quality': ['Basic', 'Live']},\n",
       "   'arrival': {'scheduledTime': {'utc': '2024-10-08 09:10Z',\n",
       "     'local': '2024-10-08 11:10+02:00'},\n",
       "    'revisedTime': {'utc': '2024-10-08 09:14Z',\n",
       "     'local': '2024-10-08 11:14+02:00'},\n",
       "    'terminal': '1',\n",
       "    'gate': 'A37',\n",
       "    'baggageBelt': 'A2',\n",
       "    'quality': ['Basic', 'Live']},\n",
       "   'number': 'LH 5389',\n",
       "   'status': 'Arrived',\n",
       "   'codeshareStatus': 'IsCodeshared',\n",
       "   'isCargo': False,\n",
       "   'aircraft': {'reg': 'D-AGWD', 'modeS': '3C5EE4', 'model': 'Airbus A319'},\n",
       "   'airline': {'name': 'Lufthansa', 'iata': 'LH', 'icao': 'DLH'}},\n",
       "  {'departure': {'airport': {'icao': 'EDDS',\n",
       "     'iata': 'STR',\n",
       "     'name': 'Stuttgart',\n",
       "     'timeZone': 'Europe/Berlin'},\n",
       "    'scheduledTime': {'utc': '2024-10-08 08:00Z',\n",
       "     'local': '2024-10-08 10:00+02:00'},\n",
       "    'revisedTime': {'utc': '2024-10-08 08:00Z',\n",
       "     'local': '2024-10-08 10:00+02:00'},\n",
       "    'terminal': '3',\n",
       "    'gate': '325',\n",
       "    'quality': ['Basic', 'Live']},\n",
       "   'arrival': {'scheduledTime': {'utc': '2024-10-08 09:10Z',\n",
       "     'local': '2024-10-08 11:10+02:00'},\n",
       "    'revisedTime': {'utc': '2024-10-08 09:14Z',\n",
       "     'local': '2024-10-08 11:14+02:00'},\n",
       "    'terminal': '1',\n",
       "    'gate': 'A37',\n",
       "    'baggageBelt': 'A2',\n",
       "    'quality': ['Basic', 'Live']},\n",
       "   'number': 'EW 2010',\n",
       "   'status': 'Arrived',\n",
       "   'codeshareStatus': 'IsOperator',\n",
       "   'isCargo': False,\n",
       "   'aircraft': {'reg': 'D-AGWD', 'modeS': '3C5EE4', 'model': 'Airbus A319'},\n",
       "   'airline': {'name': 'Eurowings', 'iata': 'EW', 'icao': 'EWG'}},\n",
       "  {'departure': {'airport': {'icao': 'EGLL',\n",
       "     'iata': 'LHR',\n",
       "     'name': 'London',\n",
       "     'timeZone': 'Europe/London'},\n",
       "    'scheduledTime': {'utc': '2024-10-08 07:25Z',\n",
       "     'local': '2024-10-08 08:25+01:00'},\n",
       "    'revisedTime': {'utc': '2024-10-08 07:53Z',\n",
       "     'local': '2024-10-08 08:53+01:00'},\n",
       "    'runwayTime': {'utc': '2024-10-08 07:53Z',\n",
       "     'local': '2024-10-08 08:53+01:00'},\n",
       "    'terminal': '5',\n",
       "    'checkInDesk': 'D',\n",
       "    'runway': '27L',\n",
       "    'quality': ['Basic', 'Live']},\n",
       "   'arrival': {'scheduledTime': {'utc': '2024-10-08 09:15Z',\n",
       "     'local': '2024-10-08 11:15+02:00'},\n",
       "    'revisedTime': {'utc': '2024-10-08 09:15Z',\n",
       "     'local': '2024-10-08 11:15+02:00'},\n",
       "    'terminal': '1',\n",
       "    'gate': 'X02',\n",
       "    'baggageBelt': 'A3',\n",
       "    'quality': ['Basic', 'Live']},\n",
       "   'number': 'BA 982',\n",
       "   'callSign': 'BAW982G',\n",
       "   'status': 'Arrived',\n",
       "   'codeshareStatus': 'IsOperator',\n",
       "   'isCargo': False,\n",
       "   'aircraft': {'reg': 'G-EUPW', 'modeS': '4008F1', 'model': 'Airbus A319'},\n",
       "   'airline': {'name': 'British Airways', 'iata': 'BA', 'icao': 'BAW'}},\n",
       "  {'departure': {'airport': {'icao': 'EDDS',\n",
       "     'iata': 'STR',\n",
       "     'name': 'Stuttgart',\n",
       "     'timeZone': 'Europe/Berlin'},\n",
       "    'scheduledTime': {'utc': '2024-10-08 08:13Z',\n",
       "     'local': '2024-10-08 10:13+02:00'},\n",
       "    'revisedTime': {'utc': '2024-10-08 08:13Z',\n",
       "     'local': '2024-10-08 10:13+02:00'},\n",
       "    'runwayTime': {'utc': '2024-10-08 08:22Z',\n",
       "     'local': '2024-10-08 10:22+02:00'},\n",
       "    'runway': '25',\n",
       "    'quality': ['Basic', 'Live']},\n",
       "   'arrival': {'scheduledTime': {'utc': '2024-10-08 09:16Z',\n",
       "     'local': '2024-10-08 11:16+02:00'},\n",
       "    'revisedTime': {'utc': '2024-10-08 09:16Z',\n",
       "     'local': '2024-10-08 11:16+02:00'},\n",
       "    'runwayTime': {'utc': '2024-10-08 09:16Z',\n",
       "     'local': '2024-10-08 11:16+02:00'},\n",
       "    'quality': ['Basic', 'Live']},\n",
       "   'number': '4U 71VC',\n",
       "   'callSign': 'GWI71VC',\n",
       "   'status': 'Arrived',\n",
       "   'codeshareStatus': 'IsOperator',\n",
       "   'isCargo': False,\n",
       "   'aircraft': {'reg': 'D-AGWD', 'modeS': '3C5EE4', 'model': 'Airbus A319'},\n",
       "   'airline': {'name': 'Germanwings', 'iata': '4U', 'icao': 'GWI'}},\n",
       "  {'departure': {'airport': {'icao': 'LSZH',\n",
       "     'iata': 'ZRH',\n",
       "     'name': 'Zurich',\n",
       "     'timeZone': 'Europe/Zurich'},\n",
       "    'scheduledTime': {'utc': '2024-10-08 07:50Z',\n",
       "     'local': '2024-10-08 09:50+02:00'},\n",
       "    'revisedTime': {'utc': '2024-10-08 07:50Z',\n",
       "     'local': '2024-10-08 09:50+02:00'},\n",
       "    'runwayTime': {'utc': '2024-10-08 08:15Z',\n",
       "     'local': '2024-10-08 10:15+02:00'},\n",
       "    'checkInDesk': '2(5)',\n",
       "    'gate': 'A81',\n",
       "    'runway': '28',\n",
       "    'quality': ['Basic', 'Live']},\n",
       "   'arrival': {'scheduledTime': {'utc': '2024-10-08 09:30Z',\n",
       "     'local': '2024-10-08 11:30+02:00'},\n",
       "    'revisedTime': {'utc': '2024-10-08 09:18Z',\n",
       "     'local': '2024-10-08 11:18+02:00'},\n",
       "    'terminal': '1',\n",
       "    'gate': 'S01',\n",
       "    'baggageBelt': 'B1',\n",
       "    'quality': ['Basic', 'Live']},\n",
       "   'number': 'LX 4406',\n",
       "   'callSign': 'EWG2BA',\n",
       "   'status': 'Arrived',\n",
       "   'codeshareStatus': 'IsCodeshared',\n",
       "   'isCargo': False,\n",
       "   'aircraft': {'reg': 'D-AGWO', 'modeS': '3C5EEF', 'model': 'Airbus A319'},\n",
       "   'airline': {'name': 'SWISS', 'iata': 'LX', 'icao': 'SWR'}},\n",
       "  {'departure': {'airport': {'icao': 'LSZH',\n",
       "     'iata': 'ZRH',\n",
       "     'name': 'Zurich',\n",
       "     'timeZone': 'Europe/Zurich'},\n",
       "    'scheduledTime': {'utc': '2024-10-08 07:50Z',\n",
       "     'local': '2024-10-08 09:50+02:00'},\n",
       "    'revisedTime': {'utc': '2024-10-08 07:50Z',\n",
       "     'local': '2024-10-08 09:50+02:00'},\n",
       "    'runwayTime': {'utc': '2024-10-08 08:15Z',\n",
       "     'local': '2024-10-08 10:15+02:00'},\n",
       "    'checkInDesk': '2(5)',\n",
       "    'gate': 'A81',\n",
       "    'runway': '28',\n",
       "    'quality': ['Basic', 'Live']},\n",
       "   'arrival': {'scheduledTime': {'utc': '2024-10-08 09:30Z',\n",
       "     'local': '2024-10-08 11:30+02:00'},\n",
       "    'revisedTime': {'utc': '2024-10-08 09:18Z',\n",
       "     'local': '2024-10-08 11:18+02:00'},\n",
       "    'runwayTime': {'utc': '2024-10-08 09:17Z',\n",
       "     'local': '2024-10-08 11:17+02:00'},\n",
       "    'terminal': '1',\n",
       "    'gate': 'S01',\n",
       "    'baggageBelt': 'B1',\n",
       "    'runway': '25L',\n",
       "    'quality': ['Basic', 'Live']},\n",
       "   'number': 'EW 8761',\n",
       "   'callSign': 'EWG2BA',\n",
       "   'status': 'Arrived',\n",
       "   'codeshareStatus': 'IsOperator',\n",
       "   'isCargo': False,\n",
       "   'aircraft': {'reg': 'D-AGWO', 'modeS': '3C5EEF', 'model': 'Airbus A319'},\n",
       "   'airline': {'name': 'Eurowings', 'iata': 'EW', 'icao': 'EWG'}},\n",
       "  {'departure': {'airport': {'icao': 'ESSA',\n",
       "     'iata': 'ARN',\n",
       "     'name': 'Stockholm',\n",
       "     'timeZone': 'Europe/Stockholm'},\n",
       "    'scheduledTime': {'utc': '2024-10-08 08:00Z',\n",
       "     'local': '2024-10-08 10:00+02:00'},\n",
       "    'revisedTime': {'utc': '2024-10-08 07:54Z',\n",
       "     'local': '2024-10-08 09:54+02:00'},\n",
       "    'runwayTime': {'utc': '2024-10-08 08:07Z',\n",
       "     'local': '2024-10-08 10:07+02:00'},\n",
       "    'terminal': '5',\n",
       "    'checkInDesk': '18-0',\n",
       "    'gate': 'D11',\n",
       "    'runway': '19R',\n",
       "    'quality': ['Basic', 'Live']},\n",
       "   'arrival': {'scheduledTime': {'utc': '2024-10-08 09:35Z',\n",
       "     'local': '2024-10-08 11:35+02:00'},\n",
       "    'revisedTime': {'utc': '2024-10-08 09:27Z',\n",
       "     'local': '2024-10-08 11:27+02:00'},\n",
       "    'terminal': '2',\n",
       "    'gate': 'Z32',\n",
       "    'baggageBelt': 'C1',\n",
       "    'quality': ['Basic', 'Live']},\n",
       "   'number': 'DY 886',\n",
       "   'callSign': 'NOZ886',\n",
       "   'status': 'Arrived',\n",
       "   'codeshareStatus': 'IsOperator',\n",
       "   'isCargo': False,\n",
       "   'aircraft': {'reg': 'SE-RPR', 'modeS': '4ACA12', 'model': 'Boeing 737-800'},\n",
       "   'airline': {'name': 'Norwegian Air Shuttle', 'iata': 'DY', 'icao': 'NOZ'}},\n",
       "  {'departure': {'airport': {'icao': 'EHAM',\n",
       "     'iata': 'AMS',\n",
       "     'name': 'Amsterdam',\n",
       "     'timeZone': 'Europe/Amsterdam'},\n",
       "    'scheduledTime': {'utc': '2024-10-08 08:15Z',\n",
       "     'local': '2024-10-08 10:15+02:00'},\n",
       "    'revisedTime': {'utc': '2024-10-08 08:21Z',\n",
       "     'local': '2024-10-08 10:21+02:00'},\n",
       "    'runwayTime': {'utc': '2024-10-08 08:36Z',\n",
       "     'local': '2024-10-08 10:36+02:00'},\n",
       "    'terminal': '1',\n",
       "    'checkInDesk': '6-8',\n",
       "    'gate': 'D68',\n",
       "    'runway': '18L',\n",
       "    'quality': ['Basic', 'Live']},\n",
       "   'arrival': {'scheduledTime': {'utc': '2024-10-08 09:30Z',\n",
       "     'local': '2024-10-08 11:30+02:00'},\n",
       "    'revisedTime': {'utc': '2024-10-08 09:29Z',\n",
       "     'local': '2024-10-08 11:29+02:00'},\n",
       "    'runwayTime': {'utc': '2024-10-08 09:45Z',\n",
       "     'local': '2024-10-08 11:45+02:00'},\n",
       "    'terminal': '1',\n",
       "    'gate': 'A30',\n",
       "    'baggageBelt': 'B2',\n",
       "    'quality': ['Basic', 'Live']},\n",
       "   'number': 'KL 1775',\n",
       "   'callSign': 'KLM1775',\n",
       "   'status': 'Arrived',\n",
       "   'codeshareStatus': 'IsOperator',\n",
       "   'isCargo': False,\n",
       "   'aircraft': {'reg': 'PH-BCD', 'modeS': '484FDE', 'model': 'Boeing 737-800'},\n",
       "   'airline': {'name': 'KLM', 'iata': 'KL', 'icao': 'KLM'}},\n",
       "  {'departure': {'airport': {'icao': 'LFPG',\n",
       "     'iata': 'CDG',\n",
       "     'name': 'Paris',\n",
       "     'timeZone': 'Europe/Paris'},\n",
       "    'scheduledTime': {'utc': '2024-10-08 07:30Z',\n",
       "     'local': '2024-10-08 09:30+02:00'},\n",
       "    'revisedTime': {'utc': '2024-10-08 08:17Z',\n",
       "     'local': '2024-10-08 10:17+02:00'},\n",
       "    'runwayTime': {'utc': '2024-10-08 08:17Z',\n",
       "     'local': '2024-10-08 10:17+02:00'},\n",
       "    'terminal': '2F',\n",
       "    'runway': '26R',\n",
       "    'quality': ['Basic', 'Live']},\n",
       "   'arrival': {'scheduledTime': {'utc': '2024-10-08 09:15Z',\n",
       "     'local': '2024-10-08 11:15+02:00'},\n",
       "    'revisedTime': {'utc': '2024-10-08 09:31Z',\n",
       "     'local': '2024-10-08 11:31+02:00'},\n",
       "    'terminal': '1',\n",
       "    'gate': 'A35',\n",
       "    'baggageBelt': 'A3',\n",
       "    'quality': ['Basic', 'Live']},\n",
       "   'number': 'AF 1734',\n",
       "   'callSign': 'AFR57NH',\n",
       "   'status': 'Arrived',\n",
       "   'codeshareStatus': 'IsOperator',\n",
       "   'isCargo': False,\n",
       "   'aircraft': {'reg': 'F-HZUZ',\n",
       "    'modeS': '39E699',\n",
       "    'model': 'Airbus A220-300'},\n",
       "   'airline': {'name': 'Air France', 'iata': 'AF', 'icao': 'AFR'}},\n",
       "  {'departure': {'airport': {'icao': 'ENGM',\n",
       "     'iata': 'OSL',\n",
       "     'name': 'Oslo',\n",
       "     'timeZone': 'Europe/Oslo'},\n",
       "    'scheduledTime': {'utc': '2024-10-08 08:00Z',\n",
       "     'local': '2024-10-08 10:00+02:00'},\n",
       "    'revisedTime': {'utc': '2024-10-08 07:55Z',\n",
       "     'local': '2024-10-08 09:55+02:00'},\n",
       "    'runwayTime': {'utc': '2024-10-08 08:05Z',\n",
       "     'local': '2024-10-08 10:05+02:00'},\n",
       "    'checkInDesk': '567',\n",
       "    'gate': 'D7',\n",
       "    'runway': '19L',\n",
       "    'quality': ['Basic', 'Live']},\n",
       "   'arrival': {'scheduledTime': {'utc': '2024-10-08 09:40Z',\n",
       "     'local': '2024-10-08 11:40+02:00'},\n",
       "    'revisedTime': {'utc': '2024-10-08 09:32Z',\n",
       "     'local': '2024-10-08 11:32+02:00'},\n",
       "    'terminal': '1',\n",
       "    'gate': 'B17',\n",
       "    'baggageBelt': 'B4',\n",
       "    'quality': ['Basic', 'Live']},\n",
       "   'number': 'SK 4723',\n",
       "   'callSign': 'SAS62T',\n",
       "   'status': 'Arrived',\n",
       "   'codeshareStatus': 'IsOperator',\n",
       "   'isCargo': False,\n",
       "   'aircraft': {'reg': 'SE-RZY',\n",
       "    'modeS': '4ACB59',\n",
       "    'model': 'Airbus A320 NEO'},\n",
       "   'airline': {'name': 'SAS', 'iata': 'SK', 'icao': 'SAS'}},\n",
       "  {'departure': {'airport': {'icao': 'LIRF',\n",
       "     'iata': 'FCO',\n",
       "     'name': 'Rome',\n",
       "     'timeZone': 'Europe/Rome'},\n",
       "    'scheduledTime': {'utc': '2024-10-08 07:35Z',\n",
       "     'local': '2024-10-08 09:35+02:00'},\n",
       "    'revisedTime': {'utc': '2024-10-08 07:55Z',\n",
       "     'local': '2024-10-08 09:55+02:00'},\n",
       "    'runwayTime': {'utc': '2024-10-08 07:55Z',\n",
       "     'local': '2024-10-08 09:55+02:00'},\n",
       "    'terminal': '1',\n",
       "    'quality': ['Basic', 'Live']},\n",
       "   'arrival': {'scheduledTime': {'utc': '2024-10-08 09:50Z',\n",
       "     'local': '2024-10-08 11:50+02:00'},\n",
       "    'revisedTime': {'utc': '2024-10-08 09:34Z',\n",
       "     'local': '2024-10-08 11:34+02:00'},\n",
       "    'terminal': '1',\n",
       "    'gate': 'A38',\n",
       "    'baggageBelt': 'A4',\n",
       "    'quality': ['Basic', 'Live']},\n",
       "   'number': 'EC 5080',\n",
       "   'callSign': 'EJU62RN',\n",
       "   'status': 'Arrived',\n",
       "   'codeshareStatus': 'IsCodeshared',\n",
       "   'isCargo': False,\n",
       "   'aircraft': {'reg': 'OE-IJY', 'modeS': '4402AC', 'model': 'Airbus A320'},\n",
       "   'airline': {'name': 'EasyJet Europe', 'iata': 'EC', 'icao': 'EJU'}},\n",
       "  {'departure': {'airport': {'icao': 'LIRF',\n",
       "     'iata': 'FCO',\n",
       "     'name': 'Rome',\n",
       "     'timeZone': 'Europe/Rome'},\n",
       "    'scheduledTime': {'utc': '2024-10-08 07:35Z',\n",
       "     'local': '2024-10-08 09:35+02:00'},\n",
       "    'revisedTime': {'utc': '2024-10-08 07:55Z',\n",
       "     'local': '2024-10-08 09:55+02:00'},\n",
       "    'runwayTime': {'utc': '2024-10-08 07:55Z',\n",
       "     'local': '2024-10-08 09:55+02:00'},\n",
       "    'terminal': '1',\n",
       "    'quality': ['Basic', 'Live']},\n",
       "   'arrival': {'scheduledTime': {'utc': '2024-10-08 09:50Z',\n",
       "     'local': '2024-10-08 11:50+02:00'},\n",
       "    'revisedTime': {'utc': '2024-10-08 09:34Z',\n",
       "     'local': '2024-10-08 11:34+02:00'},\n",
       "    'terminal': '1',\n",
       "    'gate': 'A38',\n",
       "    'baggageBelt': 'A4',\n",
       "    'quality': ['Basic', 'Live']},\n",
       "   'number': 'U2 5080',\n",
       "   'callSign': 'EJU62RN',\n",
       "   'status': 'Arrived',\n",
       "   'codeshareStatus': 'IsOperator',\n",
       "   'isCargo': False,\n",
       "   'aircraft': {'reg': 'OE-IJY', 'modeS': '4402AC', 'model': 'Airbus A320'},\n",
       "   'airline': {'name': 'easyJet', 'iata': 'U2', 'icao': 'EZY'}},\n",
       "  {'departure': {'airport': {'icao': 'ESSA',\n",
       "     'iata': 'ARN',\n",
       "     'name': 'Stockholm',\n",
       "     'timeZone': 'Europe/Stockholm'},\n",
       "    'scheduledTime': {'utc': '2024-10-08 08:05Z',\n",
       "     'local': '2024-10-08 10:05+02:00'},\n",
       "    'revisedTime': {'utc': '2024-10-08 08:03Z',\n",
       "     'local': '2024-10-08 10:03+02:00'},\n",
       "    'runwayTime': {'utc': '2024-10-08 08:14Z',\n",
       "     'local': '2024-10-08 10:14+02:00'},\n",
       "    'terminal': '5',\n",
       "    'checkInDesk': '71-80',\n",
       "    'gate': 'E3',\n",
       "    'quality': ['Basic', 'Live']},\n",
       "   'arrival': {'scheduledTime': {'utc': '2024-10-08 09:40Z',\n",
       "     'local': '2024-10-08 11:40+02:00'},\n",
       "    'revisedTime': {'utc': '2024-10-08 09:36Z',\n",
       "     'local': '2024-10-08 11:36+02:00'},\n",
       "    'terminal': '1',\n",
       "    'gate': 'A31',\n",
       "    'baggageBelt': 'A2',\n",
       "    'quality': ['Basic', 'Live']},\n",
       "   'number': 'SK 2677',\n",
       "   'callSign': 'SAS2677',\n",
       "   'status': 'Arrived',\n",
       "   'codeshareStatus': 'IsOperator',\n",
       "   'isCargo': False,\n",
       "   'aircraft': {'reg': 'SE-ROT', 'modeS': '4AC9F4', 'model': 'Airbus A320'},\n",
       "   'airline': {'name': 'SAS', 'iata': 'SK', 'icao': 'SAS'}},\n",
       "  {'departure': {'airport': {'icao': 'LTAI',\n",
       "     'iata': 'AYT',\n",
       "     'name': 'Antalya',\n",
       "     'timeZone': 'Europe/Istanbul'},\n",
       "    'scheduledTime': {'utc': '2024-10-08 06:00Z',\n",
       "     'local': '2024-10-08 09:00+03:00'},\n",
       "    'revisedTime': {'utc': '2024-10-08 06:00Z',\n",
       "     'local': '2024-10-08 09:00+03:00'},\n",
       "    'terminal': '1',\n",
       "    'checkInDesk': '126-128',\n",
       "    'quality': ['Basic', 'Live']},\n",
       "   'arrival': {'scheduledTime': {'utc': '2024-10-08 09:35Z',\n",
       "     'local': '2024-10-08 11:35+02:00'},\n",
       "    'revisedTime': {'utc': '2024-10-08 09:44Z',\n",
       "     'local': '2024-10-08 11:44+02:00'},\n",
       "    'runwayTime': {'utc': '2024-10-08 09:50Z',\n",
       "     'local': '2024-10-08 11:50+02:00'},\n",
       "    'terminal': '1',\n",
       "    'gate': 'X01',\n",
       "    'baggageBelt': 'A1',\n",
       "    'quality': ['Basic', 'Live']},\n",
       "   'number': 'XQ 160',\n",
       "   'callSign': 'SXS2SR',\n",
       "   'status': 'Arrived',\n",
       "   'codeshareStatus': 'IsOperator',\n",
       "   'isCargo': False,\n",
       "   'aircraft': {'reg': 'TC-SMD', 'modeS': '4BCDA4', 'model': 'Boeing 737-800'},\n",
       "   'airline': {'name': 'Sun Express', 'iata': 'XQ', 'icao': 'SXS'}},\n",
       "  {'departure': {'airport': {'icao': 'LEPA',\n",
       "     'iata': 'PMI',\n",
       "     'name': 'Palma De Mallorca',\n",
       "     'timeZone': 'Europe/Madrid'},\n",
       "    'scheduledTime': {'utc': '2024-10-08 07:10Z',\n",
       "     'local': '2024-10-08 09:10+02:00'},\n",
       "    'revisedTime': {'utc': '2024-10-08 07:27Z',\n",
       "     'local': '2024-10-08 09:27+02:00'},\n",
       "    'runwayTime': {'utc': '2024-10-08 07:41Z',\n",
       "     'local': '2024-10-08 09:41+02:00'},\n",
       "    'terminal': 'N',\n",
       "    'checkInDesk': '070-075',\n",
       "    'gate': 'C55',\n",
       "    'quality': ['Basic', 'Live']},\n",
       "   'arrival': {'scheduledTime': {'utc': '2024-10-08 09:55Z',\n",
       "     'local': '2024-10-08 11:55+02:00'},\n",
       "    'revisedTime': {'utc': '2024-10-08 09:47Z',\n",
       "     'local': '2024-10-08 11:47+02:00'},\n",
       "    'runwayTime': {'utc': '2024-10-08 09:52Z',\n",
       "     'local': '2024-10-08 11:52+02:00'},\n",
       "    'terminal': '1',\n",
       "    'gate': 'S01',\n",
       "    'baggageBelt': 'B3',\n",
       "    'quality': ['Basic', 'Live']},\n",
       "   'number': 'SR 2097',\n",
       "   'callSign': 'SDR29HC',\n",
       "   'status': 'Arrived',\n",
       "   'codeshareStatus': 'IsOperator',\n",
       "   'isCargo': False,\n",
       "   'aircraft': {'reg': 'D-ASMR', 'modeS': '3C0936', 'model': 'Airbus A320'},\n",
       "   'airline': {'name': 'SundAir', 'iata': 'SR', 'icao': 'SDR'}},\n",
       "  {'departure': {'airport': {'icao': 'LLBG',\n",
       "     'iata': 'TLV',\n",
       "     'name': 'Tel Aviv Yafo',\n",
       "     'timeZone': 'Asia/Jerusalem'},\n",
       "    'quality': []},\n",
       "   'arrival': {'scheduledTime': {'utc': '2024-10-08 10:00Z',\n",
       "     'local': '2024-10-08 12:00+02:00'},\n",
       "    'revisedTime': {'utc': '2024-10-08 09:48Z',\n",
       "     'local': '2024-10-08 11:48+02:00'},\n",
       "    'terminal': '1',\n",
       "    'gate': 'X17',\n",
       "    'baggageBelt': 'A3',\n",
       "    'quality': ['Basic', 'Live']},\n",
       "   'number': '6H 253',\n",
       "   'callSign': 'ISR253',\n",
       "   'status': 'Arrived',\n",
       "   'codeshareStatus': 'IsOperator',\n",
       "   'isCargo': False,\n",
       "   'aircraft': {'reg': 'YR-BMR', 'modeS': '4A09B2', 'model': 'Boeing 737-700'},\n",
       "   'airline': {'name': 'Israir', 'iata': '6H', 'icao': 'ISR'}},\n",
       "  {'departure': {'airport': {'icao': 'GCTS',\n",
       "     'iata': 'TFS',\n",
       "     'name': 'Tenerife Island',\n",
       "     'timeZone': 'Atlantic/Canary'},\n",
       "    'scheduledTime': {'utc': '2024-10-08 05:00Z',\n",
       "     'local': '2024-10-08 06:00+01:00'},\n",
       "    'revisedTime': {'utc': '2024-10-08 05:03Z',\n",
       "     'local': '2024-10-08 06:03+01:00'},\n",
       "    'terminal': 'C',\n",
       "    'checkInDesk': '202-210',\n",
       "    'gate': 'B14,B12',\n",
       "    'quality': ['Basic', 'Live']},\n",
       "   'arrival': {'scheduledTime': {'utc': '2024-10-08 10:00Z',\n",
       "     'local': '2024-10-08 12:00+02:00'},\n",
       "    'revisedTime': {'utc': '2024-10-08 09:52Z',\n",
       "     'local': '2024-10-08 11:52+02:00'},\n",
       "    'runwayTime': {'utc': '2024-10-08 09:52Z',\n",
       "     'local': '2024-10-08 11:52+02:00'},\n",
       "    'terminal': '2',\n",
       "    'gate': 'Z36',\n",
       "    'baggageBelt': 'C3',\n",
       "    'runway': '25R',\n",
       "    'quality': ['Basic', 'Live']},\n",
       "   'number': 'FR 2419',\n",
       "   'callSign': 'RYR2419',\n",
       "   'status': 'Arrived',\n",
       "   'codeshareStatus': 'IsOperator',\n",
       "   'isCargo': False,\n",
       "   'aircraft': {'reg': 'EI-HEZ', 'modeS': '4CAC1F', 'model': 'Boeing 737-800'},\n",
       "   'airline': {'name': 'Ryanair', 'iata': 'FR', 'icao': 'RYR'}},\n",
       "  {'departure': {'airport': {'icao': 'ENBR',\n",
       "     'iata': 'BGO',\n",
       "     'name': 'Bergen',\n",
       "     'timeZone': 'Europe/Oslo'},\n",
       "    'scheduledTime': {'utc': '2024-10-08 08:25Z',\n",
       "     'local': '2024-10-08 10:25+02:00'},\n",
       "    'revisedTime': {'utc': '2024-10-08 08:16Z',\n",
       "     'local': '2024-10-08 10:16+02:00'},\n",
       "    'runwayTime': {'utc': '2024-10-08 08:26Z',\n",
       "     'local': '2024-10-08 10:26+02:00'},\n",
       "    'gate': 'E29',\n",
       "    'quality': ['Basic', 'Live']},\n",
       "   'arrival': {'scheduledTime': {'utc': '2024-10-08 10:05Z',\n",
       "     'local': '2024-10-08 12:05+02:00'},\n",
       "    'revisedTime': {'utc': '2024-10-08 09:54Z',\n",
       "     'local': '2024-10-08 11:54+02:00'},\n",
       "    'runwayTime': {'utc': '2024-10-08 09:54Z',\n",
       "     'local': '2024-10-08 11:54+02:00'},\n",
       "    'terminal': '2',\n",
       "    'gate': 'Z36',\n",
       "    'baggageBelt': 'C1',\n",
       "    'runway': '25R',\n",
       "    'quality': ['Basic', 'Live']},\n",
       "   'number': 'DY 1122',\n",
       "   'callSign': 'NOZ8BE',\n",
       "   'status': 'Arrived',\n",
       "   'codeshareStatus': 'IsOperator',\n",
       "   'isCargo': False,\n",
       "   'aircraft': {'reg': 'LN-ENP', 'modeS': '47A31A', 'model': 'Boeing 737-800'},\n",
       "   'airline': {'name': 'Norwegian Air Shuttle', 'iata': 'DY', 'icao': 'NOZ'}}]}"
      ]
     },
     "execution_count": 9,
     "metadata": {},
     "output_type": "execute_result"
    }
   ],
   "source": [
    "api_key = AeroDatabox\n",
    "icao = \"EDDB\"\n",
    "date = datetime.now().date()\n",
    "time_1 = \"00:00\"\n",
    "time_2 = \"11:59\"\n",
    "\n",
    "#url = \"https://aerodatabox.p.rapidapi.com/flights/airports/icao/EDDB/2024-02-14T00:00/2024-02-14T11:59\"\n",
    "\n",
    "url = f\"https://aerodatabox.p.rapidapi.com/flights/airports/icao/{icao}/{date}T{time_1}/{date}T{time_2}\"\n",
    "\n",
    "querystring = {\"withLeg\":\"true\",\n",
    "               \"direction\":\"Arrival\",\n",
    "               \"withCancelled\":\"false\",\n",
    "               \"withCodeshared\":\"true\",\n",
    "               \"withCargo\":\"false\",\n",
    "               \"withPrivate\":\"false\",\n",
    "               \"withLocation\":\"false\"}\n",
    "\n",
    "headers = {\n",
    "\t\"X-RapidAPI-Key\": api_key,\n",
    "\t\"X-RapidAPI-Host\": \"aerodatabox.p.rapidapi.com\"\n",
    "}\n",
    "\n",
    "response = requests.get(url, headers=headers, params=querystring)\n",
    "\n",
    "flights_json = response.json()\n",
    "\n",
    "flights_json"
   ]
  },
  {
   "cell_type": "markdown",
   "metadata": {
    "id": "uXU_MzvidMrR"
   },
   "source": [
    "# Exploring the json"
   ]
  },
  {
   "cell_type": "code",
   "execution_count": 11,
   "metadata": {
    "id": "2NlQwpxHtMSQ",
    "outputId": "35c0cc63-9128-4729-c9f4-cc5e5f767ae6",
    "tags": []
   },
   "outputs": [
    {
     "data": {
      "application/json": {
       "arrivals": [
        {
         "aircraft": {
          "modeS": "39A208",
          "model": "Boeing 737-800",
          "reg": "F-HIQI"
         },
         "airline": {
          "iata": "5O",
          "icao": "FPO",
          "name": "ASL Airlines France"
         },
         "arrival": {
          "quality": [
           "Basic",
           "Live"
          ],
          "revisedTime": {
           "local": "2024-10-08 05:40+02:00",
           "utc": "2024-10-08 03:40Z"
          },
          "runway": "25R",
          "scheduledTime": {
           "local": "2024-10-08 05:40+02:00",
           "utc": "2024-10-08 03:40Z"
          }
         },
         "callSign": "FPO5DN",
         "codeshareStatus": "IsOperator",
         "departure": {
          "airport": {
           "iata": "CDG",
           "icao": "LFPG",
           "name": "Paris",
           "timeZone": "Europe/Paris"
          },
          "quality": []
         },
         "isCargo": false,
         "number": "5O 5DN",
         "status": "Approaching"
        },
        {
         "aircraft": {
          "modeS": "4BCDF6",
          "model": "Boeing 737",
          "reg": "TC-SOV"
         },
         "airline": {
          "iata": "XQ",
          "icao": "SXS",
          "name": "Sun Express"
         },
         "arrival": {
          "baggageBelt": "A3",
          "gate": "X17",
          "quality": [
           "Basic",
           "Live"
          ],
          "revisedTime": {
           "local": "2024-10-08 06:32+02:00",
           "utc": "2024-10-08 04:32Z"
          },
          "scheduledTime": {
           "local": "2024-10-08 06:30+02:00",
           "utc": "2024-10-08 04:30Z"
          },
          "terminal": "1"
         },
         "callSign": "SXS5D",
         "codeshareStatus": "IsOperator",
         "departure": {
          "airport": {
           "iata": "ADB",
           "icao": "LTBJ",
           "name": "İzmir",
           "timeZone": "Europe/Istanbul"
          },
          "checkInDesk": "12",
          "gate": "103",
          "quality": [
           "Basic",
           "Live"
          ],
          "revisedTime": {
           "local": "2024-10-08 04:47+03:00",
           "utc": "2024-10-08 01:47Z"
          },
          "runwayTime": {
           "local": "2024-10-08 04:49+03:00",
           "utc": "2024-10-08 01:49Z"
          },
          "scheduledTime": {
           "local": "2024-10-08 04:25+03:00",
           "utc": "2024-10-08 01:25Z"
          },
          "terminal": "I"
         },
         "isCargo": false,
         "number": "XQ 966",
         "status": "Arrived"
        },
        {
         "aircraft": {
          "modeS": "AA6C50",
          "model": "Boeing 767-400",
          "reg": "N77066"
         },
         "airline": {
          "iata": "UA",
          "icao": "UAL",
          "name": "United"
         },
         "arrival": {
          "baggageBelt": "B2",
          "gate": "Y17",
          "quality": [
           "Basic",
           "Live"
          ],
          "revisedTime": {
           "local": "2024-10-08 07:00+02:00",
           "utc": "2024-10-08 05:00Z"
          },
          "scheduledTime": {
           "local": "2024-10-08 07:15+02:00",
           "utc": "2024-10-08 05:15Z"
          },
          "terminal": "1"
         },
         "callSign": "UAL962",
         "codeshareStatus": "IsOperator",
         "departure": {
          "airport": {
           "iata": "EWR",
           "icao": "KEWR",
           "name": "Newark",
           "timeZone": "America/New_York"
          },
          "quality": [
           "Basic",
           "Live"
          ],
          "revisedTime": {
           "local": "2024-10-07 17:28-04:00",
           "utc": "2024-10-07 21:28Z"
          },
          "runway": "22R",
          "runwayTime": {
           "local": "2024-10-07 17:28-04:00",
           "utc": "2024-10-07 21:28Z"
          },
          "scheduledTime": {
           "local": "2024-10-07 17:15-04:00",
           "utc": "2024-10-07 21:15Z"
          },
          "terminal": "C"
         },
         "isCargo": false,
         "number": "UA 962",
         "status": "Arrived"
        },
        {
         "aircraft": {
          "modeS": "3C65CD",
          "model": "Airbus A321 (Sharklets)",
          "reg": "D-AINM"
         },
         "airline": {
          "iata": "LH",
          "icao": "DLH",
          "name": "Lufthansa"
         },
         "arrival": {
          "baggageBelt": "B1",
          "gate": "B07",
          "quality": [
           "Basic",
           "Live"
          ],
          "revisedTime": {
           "local": "2024-10-08 07:08+02:00",
           "utc": "2024-10-08 05:08Z"
          },
          "scheduledTime": {
           "local": "2024-10-08 07:25+02:00",
           "utc": "2024-10-08 05:25Z"
          },
          "terminal": "1"
         },
         "callSign": "DLH172",
         "codeshareStatus": "IsOperator",
         "departure": {
          "airport": {
           "iata": "FRA",
           "icao": "EDDF",
           "name": "Frankfurt-am-Main",
           "timeZone": "Europe/Berlin"
          },
          "checkInDesk": "259-335",
          "gate": "A11",
          "quality": [
           "Basic",
           "Live"
          ],
          "revisedTime": {
           "local": "2024-10-08 06:15+02:00",
           "utc": "2024-10-08 04:15Z"
          },
          "runway": "18",
          "runwayTime": {
           "local": "2024-10-08 06:25+02:00",
           "utc": "2024-10-08 04:25Z"
          },
          "scheduledTime": {
           "local": "2024-10-08 06:15+02:00",
           "utc": "2024-10-08 04:15Z"
          },
          "terminal": "1"
         },
         "isCargo": false,
         "number": "LH 172",
         "status": "Arrived"
        },
        {
         "aircraft": {
          "modeS": "4BCEB5",
          "model": "Boeing 737",
          "reg": "TC-SUU"
         },
         "airline": {
          "iata": "XQ",
          "icao": "SXS",
          "name": "Sun Express"
         },
         "arrival": {
          "baggageBelt": "A2",
          "gate": "X19",
          "quality": [
           "Basic",
           "Live"
          ],
          "revisedTime": {
           "local": "2024-10-08 07:11+02:00",
           "utc": "2024-10-08 05:11Z"
          },
          "scheduledTime": {
           "local": "2024-10-08 06:45+02:00",
           "utc": "2024-10-08 04:45Z"
          },
          "terminal": "1"
         },
         "codeshareStatus": "IsOperator",
         "departure": {
          "airport": {
           "iata": "DIY",
           "icao": "LTCC",
           "name": "Diyarbakır",
           "timeZone": "Europe/Istanbul"
          },
          "quality": [
           "Basic"
          ],
          "scheduledTime": {
           "local": "2024-10-08 03:30+03:00",
           "utc": "2024-10-08 00:30Z"
          }
         },
         "isCargo": false,
         "number": "XQ 1700",
         "status": "Arrived"
        },
        {
         "aircraft": {
          "modeS": "4D24FA",
          "model": "Airbus A320",
          "reg": "9H-SWK"
         },
         "airline": {
          "iata": "EW",
          "icao": "EWG",
          "name": "Eurowings"
         },
         "arrival": {
          "baggageBelt": "A1",
          "gate": "A35",
          "quality": [
           "Basic",
           "Live"
          ],
          "revisedTime": {
           "local": "2024-10-08 07:13+02:00",
           "utc": "2024-10-08 05:13Z"
          },
          "scheduledTime": {
           "local": "2024-10-08 07:25+02:00",
           "utc": "2024-10-08 05:25Z"
          },
          "terminal": "1"
         },
         "callSign": "EWG2003",
         "codeshareStatus": "IsOperator",
         "departure": {
          "airport": {
           "iata": "STR",
           "icao": "EDDS",
           "name": "Stuttgart",
           "timeZone": "Europe/Berlin"
          },
          "gate": "321",
          "quality": [
           "Basic",
           "Live"
          ],
          "revisedTime": {
           "local": "2024-10-08 06:15+02:00",
           "utc": "2024-10-08 04:15Z"
          },
          "runway": "07",
          "runwayTime": {
           "local": "2024-10-08 06:24+02:00",
           "utc": "2024-10-08 04:24Z"
          },
          "scheduledTime": {
           "local": "2024-10-08 06:15+02:00",
           "utc": "2024-10-08 04:15Z"
          },
          "terminal": "3"
         },
         "isCargo": false,
         "number": "EW 2002",
         "status": "Arrived"
        },
        {
         "aircraft": {
          "modeS": "4D24FA",
          "model": "Airbus A320",
          "reg": "9H-SWK"
         },
         "airline": {
          "iata": "LH",
          "icao": "DLH",
          "name": "Lufthansa"
         },
         "arrival": {
          "baggageBelt": "A1",
          "gate": "A35",
          "quality": [
           "Basic",
           "Live"
          ],
          "revisedTime": {
           "local": "2024-10-08 07:13+02:00",
           "utc": "2024-10-08 05:13Z"
          },
          "scheduledTime": {
           "local": "2024-10-08 07:25+02:00",
           "utc": "2024-10-08 05:25Z"
          },
          "terminal": "1"
         },
         "callSign": "EWG2002",
         "codeshareStatus": "IsCodeshared",
         "departure": {
          "airport": {
           "iata": "STR",
           "icao": "EDDS",
           "name": "Stuttgart",
           "timeZone": "Europe/Berlin"
          },
          "gate": "321",
          "quality": [
           "Basic",
           "Live"
          ],
          "revisedTime": {
           "local": "2024-10-08 06:15+02:00",
           "utc": "2024-10-08 04:15Z"
          },
          "runway": "07",
          "runwayTime": {
           "local": "2024-10-08 06:24+02:00",
           "utc": "2024-10-08 04:24Z"
          },
          "scheduledTime": {
           "local": "2024-10-08 06:15+02:00",
           "utc": "2024-10-08 04:15Z"
          },
          "terminal": "3"
         },
         "isCargo": false,
         "number": "LH 5385",
         "status": "Arrived"
        },
        {
         "aircraft": {
          "modeS": "49D307",
          "model": "Boeing 737-800",
          "reg": "OK-TSO"
         },
         "airline": {
          "iata": "EW",
          "icao": "EWG",
          "name": "Eurowings"
         },
         "arrival": {
          "baggageBelt": "A1",
          "gate": "A06",
          "quality": [
           "Basic",
           "Live"
          ],
          "revisedTime": {
           "local": "2024-10-08 07:17+02:00",
           "utc": "2024-10-08 05:17Z"
          },
          "runwayTime": {
           "local": "2024-10-08 07:22+02:00",
           "utc": "2024-10-08 05:22Z"
          },
          "scheduledTime": {
           "local": "2024-10-08 07:40+02:00",
           "utc": "2024-10-08 05:40Z"
          },
          "terminal": "1"
         },
         "callSign": "EWG5MK",
         "codeshareStatus": "IsOperator",
         "departure": {
          "airport": {
           "iata": "CGN",
           "icao": "EDDK",
           "name": "Cologne",
           "timeZone": "Europe/Berlin"
          },
          "quality": [
           "Basic",
           "Live"
          ],
          "revisedTime": {
           "local": "2024-10-08 06:34+02:00",
           "utc": "2024-10-08 04:34Z"
          },
          "runway": "14L",
          "runwayTime": {
           "local": "2024-10-08 06:34+02:00",
           "utc": "2024-10-08 04:34Z"
          },
          "scheduledTime": {
           "local": "2024-10-08 06:30+02:00",
           "utc": "2024-10-08 04:30Z"
          },
          "terminal": "1"
         },
         "isCargo": false,
         "number": "EW 12",
         "status": "Arrived"
        },
        {
         "aircraft": {
          "modeS": "440604",
          "model": "Airbus A320 (Sharklets)",
          "reg": "OE-LZE"
         },
         "airline": {
          "iata": "OS",
          "icao": "AUA",
          "name": "Austrian"
         },
         "arrival": {
          "baggageBelt": "A1",
          "gate": "A02",
          "quality": [
           "Basic",
           "Live"
          ],
          "revisedTime": {
           "local": "2024-10-08 07:20+02:00",
           "utc": "2024-10-08 05:20Z"
          },
          "runwayTime": {
           "local": "2024-10-08 07:25+02:00",
           "utc": "2024-10-08 05:25Z"
          },
          "scheduledTime": {
           "local": "2024-10-08 07:30+02:00",
           "utc": "2024-10-08 05:30Z"
          },
          "terminal": "1"
         },
         "callSign": "AUA221W",
         "codeshareStatus": "IsOperator",
         "departure": {
          "airport": {
           "iata": "VIE",
           "icao": "LOWW",
           "name": "Vienna",
           "timeZone": "Europe/Vienna"
          },
          "checkInDesk": "351-372",
          "gate": "F06",
          "quality": [
           "Basic",
           "Live"
          ],
          "revisedTime": {
           "local": "2024-10-08 06:29+02:00",
           "utc": "2024-10-08 04:29Z"
          },
          "scheduledTime": {
           "local": "2024-10-08 06:20+02:00",
           "utc": "2024-10-08 04:20Z"
          },
          "terminal": "3"
         },
         "isCargo": false,
         "number": "OS 221",
         "status": "Arrived"
        },
        {
         "aircraft": {
          "modeS": "4D240D",
          "model": "Airbus A320",
          "reg": "9H-EUV"
         },
         "airline": {
          "iata": "EW",
          "icao": "EWG",
          "name": "Eurowings"
         },
         "arrival": {
          "baggageBelt": "A1",
          "gate": "A37",
          "quality": [
           "Basic",
           "Live"
          ],
          "revisedTime": {
           "local": "2024-10-08 07:28+02:00",
           "utc": "2024-10-08 05:28Z"
          },
          "scheduledTime": {
           "local": "2024-10-08 07:45+02:00",
           "utc": "2024-10-08 05:45Z"
          },
          "terminal": "1"
         },
         "callSign": "GWI52FP",
         "codeshareStatus": "IsOperator",
         "departure": {
          "airport": {
           "iata": "DUS",
           "icao": "EDDL",
           "name": "Düsseldorf",
           "timeZone": "Europe/Berlin"
          },
          "checkInDesk": "151,170",
          "gate": "A25",
          "quality": [
           "Basic",
           "Live"
          ],
          "revisedTime": {
           "local": "2024-10-08 06:34+02:00",
           "utc": "2024-10-08 04:34Z"
          },
          "runwayTime": {
           "local": "2024-10-08 06:43+02:00",
           "utc": "2024-10-08 04:43Z"
          },
          "scheduledTime": {
           "local": "2024-10-08 06:35+02:00",
           "utc": "2024-10-08 04:35Z"
          },
          "terminal": "B"
         },
         "isCargo": false,
         "number": "EW 9048",
         "status": "Arrived"
        },
        {
         "aircraft": {
          "modeS": "A1775F",
          "model": "Boeing 767-300",
          "reg": "N194DN"
         },
         "airline": {
          "iata": "DL",
          "icao": "DAL",
          "name": "Delta Air Lines"
         },
         "arrival": {
          "baggageBelt": "B3",
          "gate": "Y02",
          "quality": [
           "Basic",
           "Live"
          ],
          "revisedTime": {
           "local": "2024-10-08 07:30+02:00",
           "utc": "2024-10-08 05:30Z"
          },
          "runway": "07R",
          "runwayTime": {
           "local": "2024-10-08 07:31+02:00",
           "utc": "2024-10-08 05:31Z"
          },
          "scheduledTime": {
           "local": "2024-10-08 07:50+02:00",
           "utc": "2024-10-08 05:50Z"
          },
          "terminal": "1"
         },
         "callSign": "DAL92",
         "codeshareStatus": "IsOperator",
         "departure": {
          "airport": {
           "iata": "JFK",
           "icao": "KJFK",
           "name": "New York",
           "timeZone": "America/New_York"
          },
          "quality": [
           "Basic",
           "Live"
          ],
          "revisedTime": {
           "local": "2024-10-07 17:51-04:00",
           "utc": "2024-10-07 21:51Z"
          },
          "runway": "31L",
          "runwayTime": {
           "local": "2024-10-07 17:51-04:00",
           "utc": "2024-10-07 21:51Z"
          },
          "scheduledTime": {
           "local": "2024-10-07 17:35-04:00",
           "utc": "2024-10-07 21:35Z"
          },
          "terminal": "4"
         },
         "isCargo": false,
         "number": "DL 92",
         "status": "Arrived"
        },
        {
         "aircraft": {
          "modeS": "3C6DD4",
          "model": "Airbus A319",
          "reg": "D-AKNT"
         },
         "airline": {
          "iata": "4U",
          "icao": "GWI",
          "name": "Germanwings"
         },
         "arrival": {
          "quality": [
           "Basic",
           "Live"
          ],
          "revisedTime": {
           "local": "2024-10-08 07:31+02:00",
           "utc": "2024-10-08 05:31Z"
          },
          "scheduledTime": {
           "local": "2024-10-08 07:31+02:00",
           "utc": "2024-10-08 05:31Z"
          }
         },
         "callSign": "GWI9XL",
         "codeshareStatus": "IsOperator",
         "departure": {
          "airport": {
           "iata": "DUS",
           "icao": "EDDL",
           "name": "Düsseldorf",
           "timeZone": "Europe/Berlin"
          },
          "quality": [
           "Basic",
           "Live"
          ],
          "revisedTime": {
           "local": "2024-10-08 06:45+02:00",
           "utc": "2024-10-08 04:45Z"
          },
          "runway": "23L",
          "runwayTime": {
           "local": "2024-10-08 06:45+02:00",
           "utc": "2024-10-08 04:45Z"
          },
          "scheduledTime": {
           "local": "2024-10-08 06:45+02:00",
           "utc": "2024-10-08 04:45Z"
          }
         },
         "isCargo": false,
         "number": "4U 52FP",
         "status": "Approaching"
        },
        {
         "aircraft": {
          "modeS": "471F87",
          "model": "Airbus A320",
          "reg": "HA-LYL"
         },
         "airline": {
          "iata": "W6",
          "icao": "WZZ",
          "name": "Wizz Air"
         },
         "arrival": {
          "baggageBelt": "C2",
          "gate": "Z40",
          "quality": [
           "Basic",
           "Live"
          ],
          "revisedTime": {
           "local": "2024-10-08 07:36+02:00",
           "utc": "2024-10-08 05:36Z"
          },
          "scheduledTime": {
           "local": "2024-10-08 08:05+02:00",
           "utc": "2024-10-08 06:05Z"
          },
          "terminal": "2"
         },
         "callSign": "WZZ2RS",
         "codeshareStatus": "IsOperator",
         "departure": {
          "airport": {
           "iata": "BEG",
           "icao": "LYBE",
           "name": "Belgrade",
           "timeZone": "Europe/Belgrade"
          },
          "quality": [
           "Basic"
          ],
          "scheduledTime": {
           "local": "2024-10-08 06:10+02:00",
           "utc": "2024-10-08 04:10Z"
          },
          "terminal": "2"
         },
         "isCargo": false,
         "number": "W6 4009",
         "status": "Arrived"
        },
        {
         "aircraft": {
          "modeS": "4BCCBA",
          "model": "Boeing 737-800",
          "reg": "TC-SEZ"
         },
         "airline": {
          "iata": "XQ",
          "icao": "SXS",
          "name": "Sun Express"
         },
         "arrival": {
          "baggageBelt": "A4",
          "gate": "X01",
          "quality": [
           "Basic",
           "Live"
          ],
          "revisedTime": {
           "local": "2024-10-08 07:39+02:00",
           "utc": "2024-10-08 05:39Z"
          },
          "scheduledTime": {
           "local": "2024-10-08 07:30+02:00",
           "utc": "2024-10-08 05:30Z"
          },
          "terminal": "1"
         },
         "callSign": "SXS1MT",
         "codeshareStatus": "IsOperator",
         "departure": {
          "airport": {
           "iata": "AYT",
           "icao": "LTAI",
           "name": "Antalya",
           "timeZone": "Europe/Istanbul"
          },
          "checkInDesk": "123-125",
          "quality": [
           "Basic",
           "Live"
          ],
          "revisedTime": {
           "local": "2024-10-08 05:35+03:00",
           "utc": "2024-10-08 02:35Z"
          },
          "scheduledTime": {
           "local": "2024-10-08 04:55+03:00",
           "utc": "2024-10-08 01:55Z"
          },
          "terminal": "1"
         },
         "isCargo": false,
         "number": "XQ 668",
         "status": "Arrived"
        },
        {
         "aircraft": {
          "modeS": "4D227D",
          "model": "Boeing 737-800",
          "reg": "9H-QDM"
         },
         "airline": {
          "iata": "FR",
          "icao": "RYR",
          "name": "Ryanair"
         },
         "arrival": {
          "baggageBelt": "C3",
          "gate": "Z36",
          "quality": [
           "Basic",
           "Live"
          ],
          "revisedTime": {
           "local": "2024-10-08 07:41+02:00",
           "utc": "2024-10-08 05:41Z"
          },
          "scheduledTime": {
           "local": "2024-10-08 07:55+02:00",
           "utc": "2024-10-08 05:55Z"
          },
          "terminal": "2"
         },
         "callSign": "RYR6781",
         "codeshareStatus": "IsOperator",
         "departure": {
          "airport": {
           "iata": "TRS",
           "icao": "LIPQ",
           "name": "Trieste",
           "timeZone": "Europe/Rome"
          },
          "quality": [
           "Basic",
           "Live"
          ],
          "revisedTime": {
           "local": "2024-10-08 06:37+02:00",
           "utc": "2024-10-08 04:37Z"
          },
          "runwayTime": {
           "local": "2024-10-08 06:37+02:00",
           "utc": "2024-10-08 04:37Z"
          },
          "scheduledTime": {
           "local": "2024-10-08 06:20+02:00",
           "utc": "2024-10-08 04:20Z"
          }
         },
         "isCargo": false,
         "number": "FR 6781",
         "status": "Arrived"
        },
        {
         "aircraft": {
          "modeS": "4A0441",
          "model": "Airbus A319",
          "reg": "YR-ABA"
         },
         "airline": {
          "name": "JU"
         },
         "arrival": {
          "baggageBelt": "B1",
          "gate": "A31",
          "quality": [
           "Basic",
           "Live"
          ],
          "revisedTime": {
           "local": "2024-10-08 07:43+02:00",
           "utc": "2024-10-08 05:43Z"
          },
          "scheduledTime": {
           "local": "2024-10-08 07:40+02:00",
           "utc": "2024-10-08 05:40Z"
          },
          "terminal": "1"
         },
         "codeshareStatus": "IsCodeshared",
         "departure": {
          "airport": {
           "iata": "RIX",
           "icao": "EVRA",
           "name": "Riga",
           "timeZone": "Europe/Riga"
          },
          "gate": "B19",
          "quality": [
           "Basic",
           "Live"
          ],
          "revisedTime": {
           "local": "2024-10-08 07:00+03:00",
           "utc": "2024-10-08 04:00Z"
          },
          "scheduledTime": {
           "local": "2024-10-08 07:00+03:00",
           "utc": "2024-10-08 04:00Z"
          },
          "terminal": "B"
         },
         "isCargo": false,
         "number": "JU 7659",
         "status": "Arrived"
        },
        {
         "aircraft": {
          "modeS": "4A0441",
          "model": "Airbus A319",
          "reg": "YR-ABA"
         },
         "airline": {
          "iata": "KM",
          "icao": "KMM",
          "name": "KM Malta"
         },
         "arrival": {
          "baggageBelt": "B1",
          "gate": "A31",
          "quality": [
           "Basic",
           "Live"
          ],
          "revisedTime": {
           "local": "2024-10-08 07:43+02:00",
           "utc": "2024-10-08 05:43Z"
          },
          "scheduledTime": {
           "local": "2024-10-08 07:40+02:00",
           "utc": "2024-10-08 05:40Z"
          },
          "terminal": "1"
         },
         "codeshareStatus": "IsCodeshared",
         "departure": {
          "airport": {
           "iata": "RIX",
           "icao": "EVRA",
           "name": "Riga",
           "timeZone": "Europe/Riga"
          },
          "gate": "B19",
          "quality": [
           "Basic",
           "Live"
          ],
          "revisedTime": {
           "local": "2024-10-08 07:00+03:00",
           "utc": "2024-10-08 04:00Z"
          },
          "scheduledTime": {
           "local": "2024-10-08 07:00+03:00",
           "utc": "2024-10-08 04:00Z"
          },
          "terminal": "B"
         },
         "isCargo": false,
         "number": "KM 2813",
         "status": "Arrived"
        },
        {
         "aircraft": {
          "modeS": "4A0441",
          "model": "Airbus A319",
          "reg": "YR-ABA"
         },
         "airline": {
          "iata": "A3",
          "icao": "AEE",
          "name": "Aegean"
         },
         "arrival": {
          "baggageBelt": "B1",
          "gate": "A31",
          "quality": [
           "Basic",
           "Live"
          ],
          "revisedTime": {
           "local": "2024-10-08 07:43+02:00",
           "utc": "2024-10-08 05:43Z"
          },
          "scheduledTime": {
           "local": "2024-10-08 07:40+02:00",
           "utc": "2024-10-08 05:40Z"
          },
          "terminal": "1"
         },
         "codeshareStatus": "IsCodeshared",
         "departure": {
          "airport": {
           "iata": "RIX",
           "icao": "EVRA",
           "name": "Riga",
           "timeZone": "Europe/Riga"
          },
          "gate": "B19",
          "quality": [
           "Basic",
           "Live"
          ],
          "revisedTime": {
           "local": "2024-10-08 07:00+03:00",
           "utc": "2024-10-08 04:00Z"
          },
          "scheduledTime": {
           "local": "2024-10-08 07:00+03:00",
           "utc": "2024-10-08 04:00Z"
          },
          "terminal": "B"
         },
         "isCargo": false,
         "number": "A3 3219",
         "status": "Arrived"
        },
        {
         "aircraft": {
          "modeS": "4A0441",
          "model": "Airbus A319",
          "reg": "YR-ABA"
         },
         "airline": {
          "iata": "BT",
          "icao": "BTI",
          "name": "airBaltic"
         },
         "arrival": {
          "baggageBelt": "B1",
          "gate": "A31",
          "quality": [
           "Basic",
           "Live"
          ],
          "revisedTime": {
           "local": "2024-10-08 07:43+02:00",
           "utc": "2024-10-08 05:43Z"
          },
          "scheduledTime": {
           "local": "2024-10-08 07:40+02:00",
           "utc": "2024-10-08 05:40Z"
          },
          "terminal": "1"
         },
         "callSign": "BTI74A",
         "codeshareStatus": "IsOperator",
         "departure": {
          "airport": {
           "iata": "RIX",
           "icao": "EVRA",
           "name": "Riga",
           "timeZone": "Europe/Riga"
          },
          "gate": "B19",
          "quality": [
           "Basic",
           "Live"
          ],
          "revisedTime": {
           "local": "2024-10-08 07:00+03:00",
           "utc": "2024-10-08 04:00Z"
          },
          "scheduledTime": {
           "local": "2024-10-08 07:00+03:00",
           "utc": "2024-10-08 04:00Z"
          },
          "terminal": "B"
         },
         "isCargo": false,
         "number": "BT 211",
         "status": "Arrived"
        },
        {
         "aircraft": {
          "modeS": "4BCDD6",
          "model": "Boeing 737-800",
          "reg": "TC-SNV"
         },
         "airline": {
          "iata": "XQ",
          "icao": "SXS",
          "name": "Sun Express"
         },
         "arrival": {
          "baggageBelt": "B2",
          "gate": "X03",
          "quality": [
           "Basic",
           "Live"
          ],
          "revisedTime": {
           "local": "2024-10-08 07:49+02:00",
           "utc": "2024-10-08 05:49Z"
          },
          "scheduledTime": {
           "local": "2024-10-08 07:50+02:00",
           "utc": "2024-10-08 05:50Z"
          },
          "terminal": "1"
         },
         "callSign": "SXS676",
         "codeshareStatus": "IsOperator",
         "departure": {
          "airport": {
           "iata": "AYT",
           "icao": "LTAI",
           "name": "Antalya",
           "timeZone": "Europe/Istanbul"
          },
          "checkInDesk": "120-131",
          "quality": [
           "Basic",
           "Live"
          ],
          "revisedTime": {
           "local": "2024-10-08 05:15+03:00",
           "utc": "2024-10-08 02:15Z"
          },
          "scheduledTime": {
           "local": "2024-10-08 05:15+03:00",
           "utc": "2024-10-08 02:15Z"
          },
          "terminal": "1"
         },
         "isCargo": false,
         "number": "XQ 676",
         "status": "Arrived"
        },
        {
         "aircraft": {
          "modeS": "06A2EC",
          "model": "Boeing 787-9",
          "reg": "A7-BHI"
         },
         "airline": {
          "iata": "QR",
          "icao": "QTR",
          "name": "Qatar Airways"
         },
         "arrival": {
          "baggageBelt": "A3",
          "gate": "X07",
          "quality": [
           "Basic",
           "Live"
          ],
          "revisedTime": {
           "local": "2024-10-08 07:51+02:00",
           "utc": "2024-10-08 05:51Z"
          },
          "scheduledTime": {
           "local": "2024-10-08 07:20+02:00",
           "utc": "2024-10-08 05:20Z"
          },
          "terminal": "1"
         },
         "codeshareStatus": "IsOperator",
         "departure": {
          "airport": {
           "iata": "DOH",
           "icao": "OTHH",
           "name": "Doha",
           "timeZone": "Asia/Qatar"
          },
          "gate": "C54",
          "quality": [
           "Basic",
           "Live"
          ],
          "revisedTime": {
           "local": "2024-10-08 02:36+03:00",
           "utc": "2024-10-07 23:36Z"
          },
          "runwayTime": {
           "local": "2024-10-08 02:51+03:00",
           "utc": "2024-10-07 23:51Z"
          },
          "scheduledTime": {
           "local": "2024-10-08 02:10+03:00",
           "utc": "2024-10-07 23:10Z"
          }
         },
         "isCargo": false,
         "number": "QR 79",
         "status": "Arrived"
        },
        {
         "aircraft": {
          "modeS": "4D00D4",
          "model": "De Havilland Canada DHC-8-400 Dash 8Q",
          "reg": "LX-LGN"
         },
         "airline": {
          "iata": "LG",
          "icao": "LGL",
          "name": "Luxair"
         },
         "arrival": {
          "baggageBelt": "B4",
          "gate": "S01",
          "quality": [
           "Basic",
           "Live"
          ],
          "revisedTime": {
           "local": "2024-10-08 07:54+02:00",
           "utc": "2024-10-08 05:54Z"
          },
          "scheduledTime": {
           "local": "2024-10-08 08:05+02:00",
           "utc": "2024-10-08 06:05Z"
          },
          "terminal": "1"
         },
         "callSign": "LGL91B",
         "codeshareStatus": "IsOperator",
         "departure": {
          "airport": {
           "iata": "LUX",
           "icao": "ELLX",
           "name": "Luxembourg",
           "timeZone": "Europe/Luxembourg"
          },
          "gate": "A20",
          "quality": [
           "Basic",
           "Live"
          ],
          "revisedTime": {
           "local": "2024-10-08 06:31+02:00",
           "utc": "2024-10-08 04:31Z"
          },
          "runwayTime": {
           "local": "2024-10-08 06:41+02:00",
           "utc": "2024-10-08 04:41Z"
          },
          "scheduledTime": {
           "local": "2024-10-08 06:35+02:00",
           "utc": "2024-10-08 04:35Z"
          },
          "terminal": "A"
         },
         "isCargo": false,
         "number": "LG 9471",
         "status": "Arrived"
        },
        {
         "aircraft": {
          "modeS": "4D2417",
          "model": "Airbus A320",
          "reg": "9H-EWE"
         },
         "airline": {
          "iata": "EW",
          "icao": "EWG",
          "name": "Eurowings"
         },
         "arrival": {
          "baggageBelt": "A1",
          "gate": "A17",
          "quality": [
           "Basic",
           "Live"
          ],
          "revisedTime": {
           "local": "2024-10-08 07:55+02:00",
           "utc": "2024-10-08 05:55Z"
          },
          "scheduledTime": {
           "local": "2024-10-08 07:55+02:00",
           "utc": "2024-10-08 05:55Z"
          },
          "terminal": "1"
         },
         "callSign": "EWG4600",
         "codeshareStatus": "IsOperator",
         "departure": {
          "airport": {
           "iata": "ARN",
           "icao": "ESSA",
           "name": "Stockholm",
           "timeZone": "Europe/Stockholm"
          },
          "checkInDesk": "22-24",
          "gate": "C34",
          "quality": [
           "Basic",
           "Live"
          ],
          "revisedTime": {
           "local": "2024-10-08 06:18+02:00",
           "utc": "2024-10-08 04:18Z"
          },
          "runway": "19R",
          "runwayTime": {
           "local": "2024-10-08 06:33+02:00",
           "utc": "2024-10-08 04:33Z"
          },
          "scheduledTime": {
           "local": "2024-10-08 06:20+02:00",
           "utc": "2024-10-08 04:20Z"
          },
          "terminal": "5"
         },
         "isCargo": false,
         "number": "EW 4600",
         "status": "Arrived"
        },
        {
         "aircraft": {
          "modeS": "4D2417",
          "model": "Airbus A320",
          "reg": "9H-EWE"
         },
         "airline": {
          "iata": "LH",
          "icao": "DLH",
          "name": "Lufthansa"
         },
         "arrival": {
          "baggageBelt": "A1",
          "gate": "A17",
          "quality": [
           "Basic",
           "Live"
          ],
          "revisedTime": {
           "local": "2024-10-08 07:55+02:00",
           "utc": "2024-10-08 05:55Z"
          },
          "scheduledTime": {
           "local": "2024-10-08 07:55+02:00",
           "utc": "2024-10-08 05:55Z"
          },
          "terminal": "1"
         },
         "callSign": "EWG4600",
         "codeshareStatus": "IsCodeshared",
         "departure": {
          "airport": {
           "iata": "ARN",
           "icao": "ESSA",
           "name": "Stockholm",
           "timeZone": "Europe/Stockholm"
          },
          "checkInDesk": "22-24",
          "gate": "C34",
          "quality": [
           "Basic",
           "Live"
          ],
          "revisedTime": {
           "local": "2024-10-08 06:18+02:00",
           "utc": "2024-10-08 04:18Z"
          },
          "runway": "19R",
          "runwayTime": {
           "local": "2024-10-08 06:33+02:00",
           "utc": "2024-10-08 04:33Z"
          },
          "scheduledTime": {
           "local": "2024-10-08 06:20+02:00",
           "utc": "2024-10-08 04:20Z"
          },
          "terminal": "5"
         },
         "isCargo": false,
         "number": "LH 5344",
         "status": "Arrived"
        },
        {
         "aircraft": {
          "modeS": "45AA4A",
          "model": "ATR 42-300",
          "reg": "OY-JRJ"
         },
         "airline": {
          "iata": "DX",
          "icao": "DTR",
          "name": "Danish Air"
         },
         "arrival": {
          "baggageBelt": "C1",
          "gate": "Z29",
          "quality": [
           "Basic",
           "Live"
          ],
          "revisedTime": {
           "local": "2024-10-08 07:57+02:00",
           "utc": "2024-10-08 05:57Z"
          },
          "scheduledTime": {
           "local": "2024-10-08 08:05+02:00",
           "utc": "2024-10-08 06:05Z"
          },
          "terminal": "2"
         },
         "codeshareStatus": "IsOperator",
         "departure": {
          "airport": {
           "iata": "SCN",
           "icao": "EDDR",
           "name": "Saarbrücken",
           "timeZone": "Europe/Berlin"
          },
          "quality": [
           "Basic"
          ],
          "scheduledTime": {
           "local": "2024-10-08 06:30+02:00",
           "utc": "2024-10-08 04:30Z"
          }
         },
         "isCargo": false,
         "number": "DX 121",
         "status": "Arrived"
        },
        {
         "aircraft": {
          "modeS": "3C6646",
          "model": "Airbus A321",
          "reg": "D-AIRF"
         },
         "airline": {
          "iata": "LH",
          "icao": "DLH",
          "name": "Lufthansa"
         },
         "arrival": {
          "baggageBelt": "B4",
          "gate": "B06",
          "quality": [
           "Basic",
           "Live"
          ],
          "revisedTime": {
           "local": "2024-10-08 07:58+02:00",
           "utc": "2024-10-08 05:58Z"
          },
          "runwayTime": {
           "local": "2024-10-08 08:02+02:00",
           "utc": "2024-10-08 06:02Z"
          },
          "scheduledTime": {
           "local": "2024-10-08 08:05+02:00",
           "utc": "2024-10-08 06:05Z"
          },
          "terminal": "1"
         },
         "callSign": "DLH7N",
         "codeshareStatus": "IsOperator",
         "departure": {
          "airport": {
           "iata": "MUC",
           "icao": "EDDM",
           "name": "Munich",
           "timeZone": "Europe/Berlin"
          },
          "quality": [
           "Basic",
           "Live"
          ],
          "revisedTime": {
           "local": "2024-10-08 07:00+02:00",
           "utc": "2024-10-08 05:00Z"
          },
          "scheduledTime": {
           "local": "2024-10-08 07:00+02:00",
           "utc": "2024-10-08 05:00Z"
          },
          "terminal": "2"
         },
         "isCargo": false,
         "number": "LH 1928",
         "status": "Arrived"
        },
        {
         "aircraft": {
          "modeS": "461F6C",
          "model": "Airbus A320",
          "reg": "OH-LXK"
         },
         "airline": {
          "iata": "AY",
          "icao": "FIN",
          "name": "Finnair"
         },
         "arrival": {
          "baggageBelt": "A4",
          "gate": "A33",
          "quality": [
           "Basic",
           "Live"
          ],
          "revisedTime": {
           "local": "2024-10-08 07:59+02:00",
           "utc": "2024-10-08 05:59Z"
          },
          "runwayTime": {
           "local": "2024-10-08 08:05+02:00",
           "utc": "2024-10-08 06:05Z"
          },
          "scheduledTime": {
           "local": "2024-10-08 08:05+02:00",
           "utc": "2024-10-08 06:05Z"
          },
          "terminal": "1"
         },
         "callSign": "FIN3AW",
         "codeshareStatus": "IsOperator",
         "departure": {
          "airport": {
           "iata": "HEL",
           "icao": "EFHK",
           "name": "Helsinki",
           "timeZone": "Europe/Helsinki"
          },
          "checkInDesk": "211",
          "gate": "34A",
          "quality": [
           "Basic",
           "Live"
          ],
          "revisedTime": {
           "local": "2024-10-08 07:03+03:00",
           "utc": "2024-10-08 04:03Z"
          },
          "runwayTime": {
           "local": "2024-10-08 07:10+03:00",
           "utc": "2024-10-08 04:10Z"
          },
          "scheduledTime": {
           "local": "2024-10-08 07:05+03:00",
           "utc": "2024-10-08 04:05Z"
          },
          "terminal": "2"
         },
         "isCargo": false,
         "number": "AY 1431",
         "status": "Arrived"
        },
        {
         "aircraft": {
          "modeS": "440039",
          "model": "Airbus A321",
          "reg": "OE-LBD"
         },
         "airline": {
          "iata": "OS",
          "icao": "AUA",
          "name": "Austrian"
         },
         "arrival": {
          "baggageBelt": "B4",
          "gate": "B03",
          "quality": [
           "Basic",
           "Live"
          ],
          "revisedTime": {
           "local": "2024-10-08 08:00+02:00",
           "utc": "2024-10-08 06:00Z"
          },
          "runwayTime": {
           "local": "2024-10-08 08:06+02:00",
           "utc": "2024-10-08 06:06Z"
          },
          "scheduledTime": {
           "local": "2024-10-08 08:10+02:00",
           "utc": "2024-10-08 06:10Z"
          },
          "terminal": "1"
         },
         "callSign": "AUA223",
         "codeshareStatus": "IsOperator",
         "departure": {
          "airport": {
           "iata": "VIE",
           "icao": "LOWW",
           "name": "Vienna",
           "timeZone": "Europe/Vienna"
          },
          "checkInDesk": "351-372",
          "gate": "F24",
          "quality": [
           "Basic",
           "Live"
          ],
          "revisedTime": {
           "local": "2024-10-08 07:12+02:00",
           "utc": "2024-10-08 05:12Z"
          },
          "runway": "29",
          "runwayTime": {
           "local": "2024-10-08 07:13+02:00",
           "utc": "2024-10-08 05:13Z"
          },
          "scheduledTime": {
           "local": "2024-10-08 07:00+02:00",
           "utc": "2024-10-08 05:00Z"
          },
          "terminal": "3"
         },
         "isCargo": false,
         "number": "OS 223",
         "status": "Arrived"
        },
        {
         "aircraft": {
          "modeS": "4D2303",
          "model": "Boeing 737-800",
          "reg": "9H-VUE"
         },
         "airline": {
          "iata": "FR",
          "icao": "RYR",
          "name": "Ryanair"
         },
         "arrival": {
          "baggageBelt": "C3",
          "gate": "Z34",
          "quality": [
           "Basic",
           "Live"
          ],
          "revisedTime": {
           "local": "2024-10-08 08:07+02:00",
           "utc": "2024-10-08 06:07Z"
          },
          "runway": "25R",
          "runwayTime": {
           "local": "2024-10-08 08:07+02:00",
           "utc": "2024-10-08 06:07Z"
          },
          "scheduledTime": {
           "local": "2024-10-08 08:15+02:00",
           "utc": "2024-10-08 06:15Z"
          },
          "terminal": "2"
         },
         "callSign": "RYR6TB",
         "codeshareStatus": "IsOperator",
         "departure": {
          "airport": {
           "iata": "PMO",
           "icao": "LICJ",
           "name": "Palermo",
           "timeZone": "Europe/Rome"
          },
          "quality": [
           "Basic"
          ],
          "scheduledTime": {
           "local": "2024-10-08 05:45+02:00",
           "utc": "2024-10-08 03:45Z"
          }
         },
         "isCargo": false,
         "number": "FR 3361",
         "status": "Arrived"
        },
        {
         "aircraft": {
          "modeS": "4400DC",
          "model": "Airbus A320",
          "reg": "OE-IDT"
         },
         "airline": {
          "iata": "U2",
          "icao": "EZY",
          "name": "easyJet"
         },
         "arrival": {
          "baggageBelt": "B2",
          "gate": "S01",
          "quality": [
           "Basic",
           "Live"
          ],
          "revisedTime": {
           "local": "2024-10-08 08:18+02:00",
           "utc": "2024-10-08 06:18Z"
          },
          "scheduledTime": {
           "local": "2024-10-08 08:35+02:00",
           "utc": "2024-10-08 06:35Z"
          },
          "terminal": "1"
         },
         "callSign": "EZY5068",
         "codeshareStatus": "IsOperator",
         "departure": {
          "airport": {
           "iata": "LIN",
           "icao": "LIML",
           "name": "Milan",
           "timeZone": "Europe/Rome"
          },
          "quality": [
           "Basic"
          ],
          "scheduledTime": {
           "local": "2024-10-08 06:55+02:00",
           "utc": "2024-10-08 04:55Z"
          }
         },
         "isCargo": false,
         "number": "U2 5068",
         "status": "Arrived"
        },
        {
         "aircraft": {
          "modeS": "4400DC",
          "model": "Airbus A320",
          "reg": "OE-IDT"
         },
         "airline": {
          "iata": "EC",
          "icao": "EJU",
          "name": "EasyJet Europe"
         },
         "arrival": {
          "baggageBelt": "B2",
          "gate": "S01",
          "quality": [
           "Basic",
           "Live"
          ],
          "revisedTime": {
           "local": "2024-10-08 08:18+02:00",
           "utc": "2024-10-08 06:18Z"
          },
          "scheduledTime": {
           "local": "2024-10-08 08:35+02:00",
           "utc": "2024-10-08 06:35Z"
          },
          "terminal": "1"
         },
         "callSign": "EJU5068",
         "codeshareStatus": "IsCodeshared",
         "departure": {
          "airport": {
           "iata": "LIN",
           "icao": "LIML",
           "name": "Milan",
           "timeZone": "Europe/Rome"
          },
          "quality": [
           "Basic"
          ],
          "scheduledTime": {
           "local": "2024-10-08 06:55+02:00",
           "utc": "2024-10-08 04:55Z"
          }
         },
         "isCargo": false,
         "number": "EC 5068",
         "status": "Arrived"
        },
        {
         "aircraft": {
          "modeS": "4D2348",
          "model": "Boeing 737-800",
          "reg": "9H-VUI"
         },
         "airline": {
          "iata": "FR",
          "icao": "RYR",
          "name": "Ryanair"
         },
         "arrival": {
          "baggageBelt": "C2",
          "gate": "Z36",
          "quality": [
           "Basic",
           "Live"
          ],
          "revisedTime": {
           "local": "2024-10-08 08:24+02:00",
           "utc": "2024-10-08 06:24Z"
          },
          "scheduledTime": {
           "local": "2024-10-08 08:20+02:00",
           "utc": "2024-10-08 06:20Z"
          },
          "terminal": "2"
         },
         "callSign": "RYR7KH",
         "codeshareStatus": "IsOperator",
         "departure": {
          "airport": {
           "iata": "BGY",
           "icao": "LIME",
           "name": "Bergamo",
           "timeZone": "Europe/Rome"
          },
          "quality": [
           "Basic",
           "Live"
          ],
          "revisedTime": {
           "local": "2024-10-08 07:11+02:00",
           "utc": "2024-10-08 05:11Z"
          },
          "runwayTime": {
           "local": "2024-10-08 07:11+02:00",
           "utc": "2024-10-08 05:11Z"
          },
          "scheduledTime": {
           "local": "2024-10-08 06:40+02:00",
           "utc": "2024-10-08 04:40Z"
          }
         },
         "isCargo": false,
         "number": "FR 3312",
         "status": "Arrived"
        },
        {
         "aircraft": {
          "modeS": "44015B",
          "model": "Eurocopter AS350",
          "reg": "OE-XOH"
         },
         "airline": {
          "name": "OEFLL"
         },
         "arrival": {
          "quality": [
           "Basic",
           "Live"
          ],
          "revisedTime": {
           "local": "2024-10-08 08:44+02:00",
           "utc": "2024-10-08 06:44Z"
          },
          "runway": "25R",
          "runwayTime": {
           "local": "2024-10-08 08:44+02:00",
           "utc": "2024-10-08 06:44Z"
          },
          "scheduledTime": {
           "local": "2024-10-08 08:44+02:00",
           "utc": "2024-10-08 06:44Z"
          }
         },
         "callSign": "OEFLL",
         "codeshareStatus": "IsOperator",
         "departure": {
          "airport": {
           "name": "Unknown"
          },
          "quality": []
         },
         "isCargo": false,
         "number": "OEFLL",
         "status": "Arrived"
        },
        {
         "aircraft": {
          "modeS": "502D3F",
          "model": "Airbus A220-300",
          "reg": "YL-ABA"
         },
         "airline": {
          "iata": "LX",
          "icao": "SWR",
          "name": "SWISS"
         },
         "arrival": {
          "baggageBelt": "B4",
          "gate": "B07",
          "quality": [
           "Basic",
           "Live"
          ],
          "revisedTime": {
           "local": "2024-10-08 08:46+02:00",
           "utc": "2024-10-08 06:46Z"
          },
          "scheduledTime": {
           "local": "2024-10-08 08:45+02:00",
           "utc": "2024-10-08 06:45Z"
          },
          "terminal": "1"
         },
         "callSign": "SWR97Y",
         "codeshareStatus": "IsOperator",
         "departure": {
          "airport": {
           "iata": "ZRH",
           "icao": "LSZH",
           "name": "Zurich",
           "timeZone": "Europe/Zurich"
          },
          "checkInDesk": "1",
          "gate": "B08",
          "quality": [
           "Basic",
           "Live"
          ],
          "revisedTime": {
           "local": "2024-10-08 07:25+02:00",
           "utc": "2024-10-08 05:25Z"
          },
          "runway": "28",
          "runwayTime": {
           "local": "2024-10-08 07:47+02:00",
           "utc": "2024-10-08 05:47Z"
          },
          "scheduledTime": {
           "local": "2024-10-08 07:20+02:00",
           "utc": "2024-10-08 05:20Z"
          }
         },
         "isCargo": false,
         "number": "LX 974",
         "status": "Arrived"
        },
        {
         "aircraft": {
          "modeS": "440088",
          "model": "Airbus A320",
          "reg": "OE-IVJ"
         },
         "airline": {
          "iata": "U2",
          "icao": "EZY",
          "name": "easyJet"
         },
         "arrival": {
          "baggageBelt": "A4",
          "gate": "A35",
          "quality": [
           "Basic",
           "Live"
          ],
          "revisedTime": {
           "local": "2024-10-08 08:49+02:00",
           "utc": "2024-10-08 06:49Z"
          },
          "runway": "25L",
          "runwayTime": {
           "local": "2024-10-08 08:50+02:00",
           "utc": "2024-10-08 06:50Z"
          },
          "scheduledTime": {
           "local": "2024-10-08 08:50+02:00",
           "utc": "2024-10-08 06:50Z"
          },
          "terminal": "1"
         },
         "callSign": "EJU42RU",
         "codeshareStatus": "IsOperator",
         "departure": {
          "airport": {
           "iata": "ORY",
           "icao": "LFPO",
           "name": "Paris",
           "timeZone": "Europe/Paris"
          },
          "quality": [
           "Basic",
           "Live"
          ],
          "revisedTime": {
           "local": "2024-10-08 07:33+02:00",
           "utc": "2024-10-08 05:33Z"
          },
          "runwayTime": {
           "local": "2024-10-08 07:33+02:00",
           "utc": "2024-10-08 05:33Z"
          },
          "scheduledTime": {
           "local": "2024-10-08 07:10+02:00",
           "utc": "2024-10-08 05:10Z"
          },
          "terminal": "1"
         },
         "isCargo": false,
         "number": "U2 4897",
         "status": "Arrived"
        },
        {
         "aircraft": {
          "modeS": "440088",
          "model": "Airbus A320",
          "reg": "OE-IVJ"
         },
         "airline": {
          "iata": "EC",
          "icao": "EJU",
          "name": "EasyJet Europe"
         },
         "arrival": {
          "baggageBelt": "A4",
          "gate": "A35",
          "quality": [
           "Basic",
           "Live"
          ],
          "revisedTime": {
           "local": "2024-10-08 08:49+02:00",
           "utc": "2024-10-08 06:49Z"
          },
          "runway": "25L",
          "runwayTime": {
           "local": "2024-10-08 08:50+02:00",
           "utc": "2024-10-08 06:50Z"
          },
          "scheduledTime": {
           "local": "2024-10-08 08:50+02:00",
           "utc": "2024-10-08 06:50Z"
          },
          "terminal": "1"
         },
         "callSign": "EJU42RU",
         "codeshareStatus": "IsCodeshared",
         "departure": {
          "airport": {
           "iata": "ORY",
           "icao": "LFPO",
           "name": "Paris",
           "timeZone": "Europe/Paris"
          },
          "quality": [
           "Basic",
           "Live"
          ],
          "revisedTime": {
           "local": "2024-10-08 07:33+02:00",
           "utc": "2024-10-08 05:33Z"
          },
          "runwayTime": {
           "local": "2024-10-08 07:33+02:00",
           "utc": "2024-10-08 05:33Z"
          },
          "scheduledTime": {
           "local": "2024-10-08 07:10+02:00",
           "utc": "2024-10-08 05:10Z"
          },
          "terminal": "1"
         },
         "isCargo": false,
         "number": "EC 4897",
         "status": "Arrived"
        },
        {
         "aircraft": {
          "modeS": "3C648A",
          "model": "Airbus A321",
          "reg": "D-AIDJ"
         },
         "airline": {
          "iata": "LH",
          "icao": "DLH",
          "name": "Lufthansa"
         },
         "arrival": {
          "baggageBelt": "A1",
          "gate": "A02",
          "quality": [
           "Basic",
           "Live"
          ],
          "revisedTime": {
           "local": "2024-10-08 08:52+02:00",
           "utc": "2024-10-08 06:52Z"
          },
          "scheduledTime": {
           "local": "2024-10-08 08:55+02:00",
           "utc": "2024-10-08 06:55Z"
          },
          "terminal": "1"
         },
         "callSign": "DLH4PH",
         "codeshareStatus": "IsOperator",
         "departure": {
          "airport": {
           "iata": "FRA",
           "icao": "EDDF",
           "name": "Frankfurt-am-Main",
           "timeZone": "Europe/Berlin"
          },
          "checkInDesk": "259-335",
          "gate": "A16",
          "quality": [
           "Basic",
           "Live"
          ],
          "revisedTime": {
           "local": "2024-10-08 07:45+02:00",
           "utc": "2024-10-08 05:45Z"
          },
          "runway": "18",
          "runwayTime": {
           "local": "2024-10-08 08:05+02:00",
           "utc": "2024-10-08 06:05Z"
          },
          "scheduledTime": {
           "local": "2024-10-08 07:45+02:00",
           "utc": "2024-10-08 05:45Z"
          },
          "terminal": "1"
         },
         "isCargo": false,
         "number": "LH 174",
         "status": "Arrived"
        },
        {
         "aircraft": {
          "modeS": "3C66A7",
          "model": "Airbus A320 (Sharklets)",
          "reg": "D-AIUG"
         },
         "airline": {
          "iata": "LH",
          "icao": "DLH",
          "name": "Lufthansa"
         },
         "arrival": {
          "baggageBelt": "B4",
          "gate": "B06",
          "quality": [
           "Basic",
           "Live"
          ],
          "revisedTime": {
           "local": "2024-10-08 08:53+02:00",
           "utc": "2024-10-08 06:53Z"
          },
          "scheduledTime": {
           "local": "2024-10-08 09:05+02:00",
           "utc": "2024-10-08 07:05Z"
          },
          "terminal": "1"
         },
         "callSign": "DLH2X",
         "codeshareStatus": "IsOperator",
         "departure": {
          "airport": {
           "iata": "MUC",
           "icao": "EDDM",
           "name": "Munich",
           "timeZone": "Europe/Berlin"
          },
          "quality": [
           "Basic",
           "Live"
          ],
          "revisedTime": {
           "local": "2024-10-08 08:00+02:00",
           "utc": "2024-10-08 06:00Z"
          },
          "runway": "08L",
          "runwayTime": {
           "local": "2024-10-08 08:11+02:00",
           "utc": "2024-10-08 06:11Z"
          },
          "scheduledTime": {
           "local": "2024-10-08 08:00+02:00",
           "utc": "2024-10-08 06:00Z"
          },
          "terminal": "2"
         },
         "isCargo": false,
         "number": "LH 1930",
         "status": "Arrived"
        },
        {
         "aircraft": {
          "modeS": "4BA9E2",
          "model": "Airbus A330-300",
          "reg": "TC-JOB"
         },
         "airline": {
          "iata": "TK",
          "icao": "THY",
          "name": "Turkish"
         },
         "arrival": {
          "baggageBelt": "A3",
          "gate": "X03",
          "quality": [
           "Basic",
           "Live"
          ],
          "revisedTime": {
           "local": "2024-10-08 08:55+02:00",
           "utc": "2024-10-08 06:55Z"
          },
          "scheduledTime": {
           "local": "2024-10-08 09:20+02:00",
           "utc": "2024-10-08 07:20Z"
          },
          "terminal": "1"
         },
         "callSign": "THY3CS",
         "codeshareStatus": "IsOperator",
         "departure": {
          "airport": {
           "iata": "IST",
           "icao": "LTFM",
           "name": "Istanbul",
           "timeZone": "Europe/Istanbul"
          },
          "checkInDesk": "E-F",
          "gate": "F15",
          "quality": [
           "Basic",
           "Live"
          ],
          "revisedTime": {
           "local": "2024-10-08 07:30+03:00",
           "utc": "2024-10-08 04:30Z"
          },
          "scheduledTime": {
           "local": "2024-10-08 07:30+03:00",
           "utc": "2024-10-08 04:30Z"
          }
         },
         "isCargo": false,
         "number": "TK 1721",
         "status": "Arrived"
        },
        {
         "aircraft": {
          "modeS": "4C01E1",
          "model": "Airbus A319",
          "reg": "YU-APB"
         },
         "airline": {
          "iata": "JA",
          "icao": "JAT",
          "name": "JetSMART"
         },
         "arrival": {
          "baggageBelt": "B4",
          "gate": "N01",
          "quality": [
           "Basic",
           "Live"
          ],
          "revisedTime": {
           "local": "2024-10-08 08:58+02:00",
           "utc": "2024-10-08 06:58Z"
          },
          "scheduledTime": {
           "local": "2024-10-08 09:10+02:00",
           "utc": "2024-10-08 07:10Z"
          },
          "terminal": "1"
         },
         "codeshareStatus": "IsOperator",
         "departure": {
          "airport": {
           "iata": "BEG",
           "icao": "LYBE",
           "name": "Belgrade",
           "timeZone": "Europe/Belgrade"
          },
          "quality": []
         },
         "isCargo": false,
         "number": "JA 354",
         "status": "Arrived"
        },
        {
         "aircraft": {
          "modeS": "47A05E",
          "model": "Boeing 737-800",
          "reg": "LN-ENV"
         },
         "airline": {
          "iata": "DY",
          "icao": "NOZ",
          "name": "Norwegian Air Shuttle"
         },
         "arrival": {
          "baggageBelt": "C1",
          "gate": "Z30",
          "quality": [
           "Basic",
           "Live"
          ],
          "revisedTime": {
           "local": "2024-10-08 09:01+02:00",
           "utc": "2024-10-08 07:01Z"
          },
          "scheduledTime": {
           "local": "2024-10-08 09:05+02:00",
           "utc": "2024-10-08 07:05Z"
          },
          "terminal": "2"
         },
         "callSign": "NOZ2XM",
         "codeshareStatus": "IsOperator",
         "departure": {
          "airport": {
           "iata": "OSL",
           "icao": "ENGM",
           "name": "Oslo",
           "timeZone": "Europe/Oslo"
          },
          "checkInDesk": "123",
          "gate": "D4",
          "quality": [
           "Basic",
           "Live"
          ],
          "revisedTime": {
           "local": "2024-10-08 07:24+02:00",
           "utc": "2024-10-08 05:24Z"
          },
          "runwayTime": {
           "local": "2024-10-08 07:41+02:00",
           "utc": "2024-10-08 05:41Z"
          },
          "scheduledTime": {
           "local": "2024-10-08 07:30+02:00",
           "utc": "2024-10-08 05:30Z"
          }
         },
         "isCargo": false,
         "number": "DY 1102",
         "status": "Arrived"
        },
        {
         "aircraft": {
          "modeS": "3C6DD4",
          "model": "Airbus A319",
          "reg": "D-AKNT"
         },
         "airline": {
          "iata": "EW",
          "icao": "EWG",
          "name": "Eurowings"
         },
         "arrival": {
          "baggageBelt": "A1",
          "gate": "A34",
          "quality": [
           "Basic",
           "Live"
          ],
          "revisedTime": {
           "local": "2024-10-08 09:03+02:00",
           "utc": "2024-10-08 07:03Z"
          },
          "scheduledTime": {
           "local": "2024-10-08 09:10+02:00",
           "utc": "2024-10-08 07:10Z"
          },
          "terminal": "1"
         },
         "callSign": "GWI9XL",
         "codeshareStatus": "IsOperator",
         "departure": {
          "airport": {
           "iata": "DUS",
           "icao": "EDDL",
           "name": "Düsseldorf",
           "timeZone": "Europe/Berlin"
          },
          "checkInDesk": "151,170",
          "gate": "A63",
          "quality": [
           "Basic",
           "Live"
          ],
          "revisedTime": {
           "local": "2024-10-08 08:00+02:00",
           "utc": "2024-10-08 06:00Z"
          },
          "runwayTime": {
           "local": "2024-10-08 08:09+02:00",
           "utc": "2024-10-08 06:09Z"
          },
          "scheduledTime": {
           "local": "2024-10-08 08:00+02:00",
           "utc": "2024-10-08 06:00Z"
          },
          "terminal": "B"
         },
         "isCargo": false,
         "number": "EW 8041",
         "status": "Arrived"
        },
        {
         "aircraft": {
          "modeS": "4D2272",
          "model": "Boeing 737-800",
          "reg": "9H-QDH"
         },
         "airline": {
          "iata": "FR",
          "icao": "RYR",
          "name": "Ryanair"
         },
         "arrival": {
          "baggageBelt": "C2",
          "gate": "Z33",
          "quality": [
           "Basic",
           "Live"
          ],
          "revisedTime": {
           "local": "2024-10-08 09:04+02:00",
           "utc": "2024-10-08 07:04Z"
          },
          "scheduledTime": {
           "local": "2024-10-08 09:15+02:00",
           "utc": "2024-10-08 07:15Z"
          },
          "terminal": "2"
         },
         "callSign": "RYR4TT",
         "codeshareStatus": "IsOperator",
         "departure": {
          "airport": {
           "iata": "BRU",
           "icao": "EBBR",
           "name": "Brussels",
           "timeZone": "Europe/Brussels"
          },
          "checkInDesk": "08",
          "quality": [
           "Basic",
           "Live"
          ],
          "revisedTime": {
           "local": "2024-10-08 08:04+02:00",
           "utc": "2024-10-08 06:04Z"
          },
          "runway": "25R",
          "runwayTime": {
           "local": "2024-10-08 08:05+02:00",
           "utc": "2024-10-08 06:05Z"
          },
          "scheduledTime": {
           "local": "2024-10-08 07:50+02:00",
           "utc": "2024-10-08 05:50Z"
          }
         },
         "isCargo": false,
         "number": "FR 163",
         "status": "Arrived"
        },
        {
         "aircraft": {
          "modeS": "4BB86F",
          "model": "Airbus A320 NEO",
          "reg": "TC-NCO"
         },
         "airline": {
          "iata": "PC",
          "icao": "PGT",
          "name": "Pegasus"
         },
         "arrival": {
          "baggageBelt": "B3",
          "gate": "N01",
          "quality": [
           "Basic",
           "Live"
          ],
          "revisedTime": {
           "local": "2024-10-08 09:06+02:00",
           "utc": "2024-10-08 07:06Z"
          },
          "scheduledTime": {
           "local": "2024-10-08 09:30+02:00",
           "utc": "2024-10-08 07:30Z"
          },
          "terminal": "1"
         },
         "callSign": "PGT26PP",
         "codeshareStatus": "IsOperator",
         "departure": {
          "airport": {
           "iata": "ADB",
           "icao": "LTBJ",
           "name": "İzmir",
           "timeZone": "Europe/Istanbul"
          },
          "checkInDesk": "32",
          "gate": "32",
          "quality": [
           "Basic",
           "Live"
          ],
          "revisedTime": {
           "local": "2024-10-08 07:29+03:00",
           "utc": "2024-10-08 04:29Z"
          },
          "runwayTime": {
           "local": "2024-10-08 07:30+03:00",
           "utc": "2024-10-08 04:30Z"
          },
          "scheduledTime": {
           "local": "2024-10-08 07:30+03:00",
           "utc": "2024-10-08 04:30Z"
          },
          "terminal": "D"
         },
         "isCargo": false,
         "number": "PC 5303",
         "status": "Arrived"
        },
        {
         "aircraft": {
          "modeS": "4CA9D1",
          "model": "Boeing 737-800",
          "reg": "EI-EVI"
         },
         "airline": {
          "iata": "FR",
          "icao": "RYR",
          "name": "Ryanair"
         },
         "arrival": {
          "baggageBelt": "C3",
          "gate": "Z36",
          "quality": [
           "Basic",
           "Live"
          ],
          "revisedTime": {
           "local": "2024-10-08 09:08+02:00",
           "utc": "2024-10-08 07:08Z"
          },
          "scheduledTime": {
           "local": "2024-10-08 09:30+02:00",
           "utc": "2024-10-08 07:30Z"
          },
          "terminal": "2"
         },
         "callSign": "RYR2CG",
         "codeshareStatus": "IsOperator",
         "departure": {
          "airport": {
           "iata": "PMI",
           "icao": "LEPA",
           "name": "Palma De Mallorca",
           "timeZone": "Europe/Madrid"
          },
          "checkInDesk": "002-017",
          "gate": "C56",
          "quality": [
           "Basic",
           "Live"
          ],
          "revisedTime": {
           "local": "2024-10-08 06:47+02:00",
           "utc": "2024-10-08 04:47Z"
          },
          "runwayTime": {
           "local": "2024-10-08 07:07+02:00",
           "utc": "2024-10-08 05:07Z"
          },
          "scheduledTime": {
           "local": "2024-10-08 06:45+02:00",
           "utc": "2024-10-08 04:45Z"
          },
          "terminal": "N"
         },
         "isCargo": false,
         "number": "FR 111",
         "status": "Arrived"
        },
        {
         "aircraft": {
          "modeS": "440B1E",
          "model": "Airbus A320",
          "reg": "OE-IWW"
         },
         "airline": {
          "iata": "U2",
          "icao": "EZY",
          "name": "easyJet"
         },
         "arrival": {
          "baggageBelt": "A4",
          "gate": "A33",
          "quality": [
           "Basic",
           "Live"
          ],
          "revisedTime": {
           "local": "2024-10-08 09:25+02:00",
           "utc": "2024-10-08 07:25Z"
          },
          "scheduledTime": {
           "local": "2024-10-08 09:45+02:00",
           "utc": "2024-10-08 07:45Z"
          },
          "terminal": "1"
         },
         "callSign": "EJU48QZ",
         "codeshareStatus": "IsOperator",
         "departure": {
          "airport": {
           "iata": "CPH",
           "icao": "EKCH",
           "name": "Copenhagen",
           "timeZone": "Europe/Copenhagen"
          },
          "gate": "F7",
          "quality": [
           "Basic",
           "Live"
          ],
          "revisedTime": {
           "local": "2024-10-08 08:40+02:00",
           "utc": "2024-10-08 06:40Z"
          },
          "scheduledTime": {
           "local": "2024-10-08 08:40+02:00",
           "utc": "2024-10-08 06:40Z"
          },
          "terminal": "erminal2"
         },
         "isCargo": false,
         "number": "U2 5262",
         "status": "Arrived"
        },
        {
         "aircraft": {
          "modeS": "440B1E",
          "model": "Airbus A320",
          "reg": "OE-IWW"
         },
         "airline": {
          "iata": "EC",
          "icao": "EJU",
          "name": "EasyJet Europe"
         },
         "arrival": {
          "baggageBelt": "A4",
          "gate": "A33",
          "quality": [
           "Basic",
           "Live"
          ],
          "revisedTime": {
           "local": "2024-10-08 09:25+02:00",
           "utc": "2024-10-08 07:25Z"
          },
          "scheduledTime": {
           "local": "2024-10-08 09:45+02:00",
           "utc": "2024-10-08 07:45Z"
          },
          "terminal": "1"
         },
         "callSign": "EJU48QZ",
         "codeshareStatus": "IsCodeshared",
         "departure": {
          "airport": {
           "iata": "CPH",
           "icao": "EKCH",
           "name": "Copenhagen",
           "timeZone": "Europe/Copenhagen"
          },
          "gate": "F7",
          "quality": [
           "Basic",
           "Live"
          ],
          "revisedTime": {
           "local": "2024-10-08 08:40+02:00",
           "utc": "2024-10-08 06:40Z"
          },
          "scheduledTime": {
           "local": "2024-10-08 08:40+02:00",
           "utc": "2024-10-08 06:40Z"
          },
          "terminal": "erminal2"
         },
         "isCargo": false,
         "number": "EC 5262",
         "status": "Arrived"
        },
        {
         "aircraft": {
          "modeS": "405631",
          "model": "Airbus A319",
          "reg": "G-EZDA"
         },
         "airline": {
          "iata": "U2",
          "icao": "EZY",
          "name": "easyJet"
         },
         "arrival": {
          "baggageBelt": "A4",
          "gate": "X17",
          "quality": [
           "Basic",
           "Live"
          ],
          "revisedTime": {
           "local": "2024-10-08 09:27+02:00",
           "utc": "2024-10-08 07:27Z"
          },
          "runway": "25L",
          "scheduledTime": {
           "local": "2024-10-08 09:35+02:00",
           "utc": "2024-10-08 07:35Z"
          },
          "terminal": "1"
         },
         "callSign": "EZY19TC",
         "codeshareStatus": "IsOperator",
         "departure": {
          "airport": {
           "iata": "LGW",
           "icao": "EGKK",
           "name": "London",
           "timeZone": "Europe/London"
          },
          "quality": [
           "Basic",
           "Live"
          ],
          "revisedTime": {
           "local": "2024-10-08 07:02+01:00",
           "utc": "2024-10-08 06:02Z"
          },
          "runway": "26L",
          "runwayTime": {
           "local": "2024-10-08 07:03+01:00",
           "utc": "2024-10-08 06:03Z"
          },
          "scheduledTime": {
           "local": "2024-10-08 06:40+01:00",
           "utc": "2024-10-08 05:40Z"
          },
          "terminal": "N"
         },
         "isCargo": false,
         "number": "U2 8629",
         "status": "Arrived"
        },
        {
         "aircraft": {
          "modeS": "4CA256",
          "model": "Boeing 737-800",
          "reg": "EI-DHA"
         },
         "airline": {
          "iata": "FR",
          "icao": "RYR",
          "name": "Ryanair"
         },
         "arrival": {
          "baggageBelt": "C2",
          "gate": "Z42",
          "quality": [
           "Basic",
           "Live"
          ],
          "revisedTime": {
           "local": "2024-10-08 09:28+02:00",
           "utc": "2024-10-08 07:28Z"
          },
          "scheduledTime": {
           "local": "2024-10-08 09:40+02:00",
           "utc": "2024-10-08 07:40Z"
          },
          "terminal": "2"
         },
         "callSign": "RYR3TF",
         "codeshareStatus": "IsOperator",
         "departure": {
          "airport": {
           "iata": "DUB",
           "icao": "EIDW",
           "name": "Dublin",
           "timeZone": "Europe/Dublin"
          },
          "checkInDesk": "1204-1319",
          "gate": "118",
          "quality": [
           "Basic",
           "Live"
          ],
          "revisedTime": {
           "local": "2024-10-08 06:25+01:00",
           "utc": "2024-10-08 05:25Z"
          },
          "runwayTime": {
           "local": "2024-10-08 06:41+01:00",
           "utc": "2024-10-08 05:41Z"
          },
          "scheduledTime": {
           "local": "2024-10-08 06:25+01:00",
           "utc": "2024-10-08 05:25Z"
          },
          "terminal": "1"
         },
         "isCargo": false,
         "number": "FR 3669",
         "status": "Arrived"
        },
        {
         "aircraft": {
          "modeS": "398E25",
          "model": "Airbus A320",
          "reg": "F-HDRF"
         },
         "airline": {
          "iata": "AF",
          "icao": "AFR",
          "name": "Air France"
         },
         "arrival": {
          "baggageBelt": "A2",
          "gate": "A31",
          "quality": [
           "Basic",
           "Live"
          ],
          "revisedTime": {
           "local": "2024-10-08 09:30+02:00",
           "utc": "2024-10-08 07:30Z"
          },
          "scheduledTime": {
           "local": "2024-10-08 08:55+02:00",
           "utc": "2024-10-08 06:55Z"
          },
          "terminal": "1"
         },
         "callSign": "AFR95ZE",
         "codeshareStatus": "IsOperator",
         "departure": {
          "airport": {
           "iata": "CDG",
           "icao": "LFPG",
           "name": "Paris",
           "timeZone": "Europe/Paris"
          },
          "quality": [
           "Basic",
           "Live"
          ],
          "revisedTime": {
           "local": "2024-10-08 08:16+02:00",
           "utc": "2024-10-08 06:16Z"
          },
          "runwayTime": {
           "local": "2024-10-08 08:16+02:00",
           "utc": "2024-10-08 06:16Z"
          },
          "scheduledTime": {
           "local": "2024-10-08 07:15+02:00",
           "utc": "2024-10-08 05:15Z"
          },
          "terminal": "2F"
         },
         "isCargo": false,
         "number": "AF 1434",
         "status": "Arrived"
        },
        {
         "aircraft": {
          "modeS": "400FDB",
          "model": "Airbus A319",
          "reg": "G-EZBJ"
         },
         "airline": {
          "iata": "U2",
          "icao": "EZY",
          "name": "easyJet"
         },
         "arrival": {
          "baggageBelt": "B2",
          "gate": "N01",
          "quality": [
           "Basic",
           "Live"
          ],
          "revisedTime": {
           "local": "2024-10-08 09:32+02:00",
           "utc": "2024-10-08 07:32Z"
          },
          "scheduledTime": {
           "local": "2024-10-08 09:50+02:00",
           "utc": "2024-10-08 07:50Z"
          },
          "terminal": "1"
         },
         "callSign": "EZY21KF",
         "codeshareStatus": "IsOperator",
         "departure": {
          "airport": {
           "iata": "LTN",
           "icao": "EGGW",
           "name": "London",
           "timeZone": "Europe/London"
          },
          "checkInDesk": "44-61",
          "quality": [
           "Basic",
           "Live"
          ],
          "revisedTime": {
           "local": "2024-10-08 07:00+01:00",
           "utc": "2024-10-08 06:00Z"
          },
          "runway": "26",
          "runwayTime": {
           "local": "2024-10-08 07:07+01:00",
           "utc": "2024-10-08 06:07Z"
          },
          "scheduledTime": {
           "local": "2024-10-08 07:00+01:00",
           "utc": "2024-10-08 06:00Z"
          }
         },
         "isCargo": false,
         "number": "U2 2601",
         "status": "Arrived"
        },
        {
         "aircraft": {
          "modeS": "440CF8",
          "model": "Airbus A320",
          "reg": "OE-IBF"
         },
         "airline": {
          "iata": "U2",
          "icao": "EZY",
          "name": "easyJet"
         },
         "arrival": {
          "baggageBelt": "A4",
          "gate": "A38",
          "quality": [
           "Basic",
           "Live"
          ],
          "revisedTime": {
           "local": "2024-10-08 09:34+02:00",
           "utc": "2024-10-08 07:34Z"
          },
          "scheduledTime": {
           "local": "2024-10-08 09:40+02:00",
           "utc": "2024-10-08 07:40Z"
          },
          "terminal": "1"
         },
         "callSign": "EJU63EN",
         "codeshareStatus": "IsOperator",
         "departure": {
          "airport": {
           "iata": "BSL",
           "icao": "LFSB",
           "name": "Bâle/Mulhouse",
           "timeZone": "Europe/Paris"
          },
          "checkInDesk": "42-50",
          "gate": "86",
          "quality": [
           "Basic",
           "Live"
          ],
          "revisedTime": {
           "local": "2024-10-08 08:31+02:00",
           "utc": "2024-10-08 06:31Z"
          },
          "runwayTime": {
           "local": "2024-10-08 08:32+02:00",
           "utc": "2024-10-08 06:32Z"
          },
          "scheduledTime": {
           "local": "2024-10-08 08:10+02:00",
           "utc": "2024-10-08 06:10Z"
          }
         },
         "isCargo": false,
         "number": "U2 5186",
         "status": "Arrived"
        },
        {
         "aircraft": {
          "modeS": "440CF8",
          "model": "Airbus A320",
          "reg": "OE-IBF"
         },
         "airline": {
          "iata": "EC",
          "icao": "EJU",
          "name": "EasyJet Europe"
         },
         "arrival": {
          "baggageBelt": "A4",
          "gate": "A38",
          "quality": [
           "Basic",
           "Live"
          ],
          "revisedTime": {
           "local": "2024-10-08 09:34+02:00",
           "utc": "2024-10-08 07:34Z"
          },
          "scheduledTime": {
           "local": "2024-10-08 09:40+02:00",
           "utc": "2024-10-08 07:40Z"
          },
          "terminal": "1"
         },
         "callSign": "EJU63EN",
         "codeshareStatus": "IsCodeshared",
         "departure": {
          "airport": {
           "iata": "BSL",
           "icao": "LFSB",
           "name": "Bâle/Mulhouse",
           "timeZone": "Europe/Paris"
          },
          "checkInDesk": "42-50",
          "gate": "86",
          "quality": [
           "Basic",
           "Live"
          ],
          "revisedTime": {
           "local": "2024-10-08 08:31+02:00",
           "utc": "2024-10-08 06:31Z"
          },
          "runwayTime": {
           "local": "2024-10-08 08:32+02:00",
           "utc": "2024-10-08 06:32Z"
          },
          "scheduledTime": {
           "local": "2024-10-08 08:10+02:00",
           "utc": "2024-10-08 06:10Z"
          }
         },
         "isCargo": false,
         "number": "EC 5186",
         "status": "Arrived"
        },
        {
         "aircraft": {
          "modeS": "4D2026",
          "model": "Airbus A320",
          "reg": "9H-AEP"
         },
         "airline": {
          "iata": "KM",
          "icao": "KMM",
          "name": "KM Malta"
         },
         "arrival": {
          "baggageBelt": "A3",
          "gate": "A37",
          "quality": [
           "Basic",
           "Live"
          ],
          "revisedTime": {
           "local": "2024-10-08 09:38+02:00",
           "utc": "2024-10-08 07:38Z"
          },
          "scheduledTime": {
           "local": "2024-10-08 09:55+02:00",
           "utc": "2024-10-08 07:55Z"
          },
          "terminal": "1"
         },
         "callSign": "KMM376",
         "codeshareStatus": "IsOperator",
         "departure": {
          "airport": {
           "iata": "MLA",
           "icao": "LMML",
           "name": "Luqa",
           "timeZone": "Europe/Malta"
          },
          "quality": [
           "Basic"
          ],
          "scheduledTime": {
           "local": "2024-10-08 07:00+02:00",
           "utc": "2024-10-08 05:00Z"
          }
         },
         "isCargo": false,
         "number": "KM 376",
         "status": "Arrived"
        },
        {
         "aircraft": {
          "modeS": "407930",
          "model": "Airbus A320 NEO",
          "reg": "G-TTNM"
         },
         "airline": {
          "iata": "BA",
          "icao": "BAW",
          "name": "British Airways"
         },
         "arrival": {
          "baggageBelt": "A3",
          "gate": "X01",
          "quality": [
           "Basic",
           "Live"
          ],
          "revisedTime": {
           "local": "2024-10-08 09:49+02:00",
           "utc": "2024-10-08 07:49Z"
          },
          "runwayTime": {
           "local": "2024-10-08 09:56+02:00",
           "utc": "2024-10-08 07:56Z"
          },
          "scheduledTime": {
           "local": "2024-10-08 10:10+02:00",
           "utc": "2024-10-08 08:10Z"
          },
          "terminal": "1"
         },
         "callSign": "BAW990G",
         "codeshareStatus": "IsOperator",
         "departure": {
          "airport": {
           "iata": "LHR",
           "icao": "EGLL",
           "name": "London",
           "timeZone": "Europe/London"
          },
          "checkInDesk": "D",
          "quality": [
           "Basic",
           "Live"
          ],
          "revisedTime": {
           "local": "2024-10-08 07:30+01:00",
           "utc": "2024-10-08 06:30Z"
          },
          "runwayTime": {
           "local": "2024-10-08 07:31+01:00",
           "utc": "2024-10-08 06:31Z"
          },
          "scheduledTime": {
           "local": "2024-10-08 07:20+01:00",
           "utc": "2024-10-08 06:20Z"
          },
          "terminal": "5"
         },
         "isCargo": false,
         "number": "BA 990",
         "status": "Arrived"
        },
        {
         "aircraft": {
          "modeS": "3C6917",
          "model": "Embraer 190",
          "reg": "D-AJHW"
         },
         "airline": {
          "iata": "KL",
          "icao": "KLM",
          "name": "KLM"
         },
         "arrival": {
          "baggageBelt": "A2",
          "gate": "A30",
          "quality": [
           "Basic",
           "Live"
          ],
          "revisedTime": {
           "local": "2024-10-08 09:54+02:00",
           "utc": "2024-10-08 07:54Z"
          },
          "runwayTime": {
           "local": "2024-10-08 09:59+02:00",
           "utc": "2024-10-08 07:59Z"
          },
          "scheduledTime": {
           "local": "2024-10-08 10:05+02:00",
           "utc": "2024-10-08 08:05Z"
          },
          "terminal": "1"
         },
         "callSign": "KLM31X",
         "codeshareStatus": "IsOperator",
         "departure": {
          "airport": {
           "iata": "AMS",
           "icao": "EHAM",
           "name": "Amsterdam",
           "timeZone": "Europe/Amsterdam"
          },
          "checkInDesk": "6-8",
          "gate": "B6",
          "quality": [
           "Basic",
           "Live"
          ],
          "revisedTime": {
           "local": "2024-10-08 08:46+02:00",
           "utc": "2024-10-08 06:46Z"
          },
          "runwayTime": {
           "local": "2024-10-08 08:56+02:00",
           "utc": "2024-10-08 06:56Z"
          },
          "scheduledTime": {
           "local": "2024-10-08 08:45+02:00",
           "utc": "2024-10-08 06:45Z"
          },
          "terminal": "1"
         },
         "isCargo": false,
         "number": "KL 1773",
         "status": "Arrived"
        },
        {
         "aircraft": {
          "modeS": "4CA281",
          "model": "Airbus A320",
          "reg": "EI-DEI"
         },
         "airline": {
          "iata": "EI",
          "icao": "EIN",
          "name": "Aer Lingus"
         },
         "arrival": {
          "baggageBelt": "A4",
          "gate": "X02",
          "quality": [
           "Basic",
           "Live"
          ],
          "revisedTime": {
           "local": "2024-10-08 09:57+02:00",
           "utc": "2024-10-08 07:57Z"
          },
          "scheduledTime": {
           "local": "2024-10-08 10:00+02:00",
           "utc": "2024-10-08 08:00Z"
          },
          "terminal": "1"
         },
         "callSign": "EIN3JE",
         "codeshareStatus": "IsOperator",
         "departure": {
          "airport": {
           "iata": "DUB",
           "icao": "EIDW",
           "name": "Dublin",
           "timeZone": "Europe/Dublin"
          },
          "checkInDesk": "29-56",
          "gate": "417",
          "quality": [
           "Basic",
           "Live"
          ],
          "revisedTime": {
           "local": "2024-10-08 06:40+01:00",
           "utc": "2024-10-08 05:40Z"
          },
          "runway": "10",
          "runwayTime": {
           "local": "2024-10-08 07:10+01:00",
           "utc": "2024-10-08 06:10Z"
          },
          "scheduledTime": {
           "local": "2024-10-08 06:40+01:00",
           "utc": "2024-10-08 05:40Z"
          },
          "terminal": "2"
         },
         "isCargo": false,
         "number": "EI 332",
         "status": "Arrived"
        },
        {
         "aircraft": {
          "modeS": "4B17F9",
          "model": "Airbus A220-300",
          "reg": "HB-JCB"
         },
         "airline": {
          "iata": "LX",
          "icao": "SWR",
          "name": "SWISS"
         },
         "arrival": {
          "baggageBelt": "B4",
          "gate": "B06",
          "quality": [
           "Basic",
           "Live"
          ],
          "revisedTime": {
           "local": "2024-10-08 09:59+02:00",
           "utc": "2024-10-08 07:59Z"
          },
          "scheduledTime": {
           "local": "2024-10-08 10:05+02:00",
           "utc": "2024-10-08 08:05Z"
          },
          "terminal": "1"
         },
         "callSign": "SWR2HD",
         "codeshareStatus": "IsOperator",
         "departure": {
          "airport": {
           "iata": "ZRH",
           "icao": "LSZH",
           "name": "Zurich",
           "timeZone": "Europe/Zurich"
          },
          "checkInDesk": "1",
          "gate": "A56",
          "quality": [
           "Basic",
           "Live"
          ],
          "revisedTime": {
           "local": "2024-10-08 08:40+02:00",
           "utc": "2024-10-08 06:40Z"
          },
          "runwayTime": {
           "local": "2024-10-08 08:55+02:00",
           "utc": "2024-10-08 06:55Z"
          },
          "scheduledTime": {
           "local": "2024-10-08 08:40+02:00",
           "utc": "2024-10-08 06:40Z"
          }
         },
         "isCargo": false,
         "number": "LX 976",
         "status": "Arrived"
        },
        {
         "aircraft": {
          "modeS": "3C6445",
          "model": "Airbus A319",
          "reg": "D-AIBE"
         },
         "airline": {
          "iata": "LH",
          "icao": "DLH",
          "name": "Lufthansa"
         },
         "arrival": {
          "baggageBelt": "B1",
          "gate": "B10",
          "quality": [
           "Basic",
           "Live"
          ],
          "revisedTime": {
           "local": "2024-10-08 10:01+02:00",
           "utc": "2024-10-08 08:01Z"
          },
          "scheduledTime": {
           "local": "2024-10-08 10:05+02:00",
           "utc": "2024-10-08 08:05Z"
          },
          "terminal": "1"
         },
         "callSign": "DLH5T",
         "codeshareStatus": "IsOperator",
         "departure": {
          "airport": {
           "iata": "MUC",
           "icao": "EDDM",
           "name": "Munich",
           "timeZone": "Europe/Berlin"
          },
          "quality": [
           "Basic",
           "Live"
          ],
          "revisedTime": {
           "local": "2024-10-08 09:00+02:00",
           "utc": "2024-10-08 07:00Z"
          },
          "scheduledTime": {
           "local": "2024-10-08 09:00+02:00",
           "utc": "2024-10-08 07:00Z"
          },
          "terminal": "2"
         },
         "isCargo": false,
         "number": "LH 1934",
         "status": "Arrived"
        },
        {
         "aircraft": {
          "modeS": "34754C",
          "model": "Airbus A321 NEO",
          "reg": "EC-OBY"
         },
         "airline": {
          "iata": "I2",
          "icao": "IBS",
          "name": "Iberia Express"
         },
         "arrival": {
          "baggageBelt": "A4",
          "gate": "A34",
          "quality": [
           "Basic",
           "Live"
          ],
          "revisedTime": {
           "local": "2024-10-08 10:09+02:00",
           "utc": "2024-10-08 08:09Z"
          },
          "scheduledTime": {
           "local": "2024-10-08 10:35+02:00",
           "utc": "2024-10-08 08:35Z"
          },
          "terminal": "1"
         },
         "callSign": "IBS36YR",
         "codeshareStatus": "IsOperator",
         "departure": {
          "airport": {
           "iata": "MAD",
           "icao": "LEMD",
           "name": "Madrid",
           "timeZone": "Europe/Madrid"
          },
          "checkInDesk": "850-859",
          "gate": "K73",
          "quality": [
           "Basic",
           "Live"
          ],
          "revisedTime": {
           "local": "2024-10-08 07:32+02:00",
           "utc": "2024-10-08 05:32Z"
          },
          "runway": "14L",
          "runwayTime": {
           "local": "2024-10-08 07:50+02:00",
           "utc": "2024-10-08 05:50Z"
          },
          "scheduledTime": {
           "local": "2024-10-08 07:30+02:00",
           "utc": "2024-10-08 05:30Z"
          },
          "terminal": "4"
         },
         "isCargo": false,
         "number": "I2 3676",
         "status": "Arrived"
        },
        {
         "aircraft": {
          "modeS": "3C48EE",
          "model": "Airbus A319",
          "reg": "D-ABGN"
         },
         "airline": {
          "iata": "EW",
          "icao": "EWG",
          "name": "Eurowings"
         },
         "arrival": {
          "baggageBelt": "A1",
          "gate": "A35",
          "quality": [
           "Basic",
           "Live"
          ],
          "revisedTime": {
           "local": "2024-10-08 10:12+02:00",
           "utc": "2024-10-08 08:12Z"
          },
          "scheduledTime": {
           "local": "2024-10-08 10:10+02:00",
           "utc": "2024-10-08 08:10Z"
          },
          "terminal": "1"
         },
         "codeshareStatus": "IsOperator",
         "departure": {
          "airport": {
           "iata": "STR",
           "icao": "EDDS",
           "name": "Stuttgart",
           "timeZone": "Europe/Berlin"
          },
          "gate": "140",
          "quality": [
           "Basic",
           "Live"
          ],
          "revisedTime": {
           "local": "2024-10-08 09:00+02:00",
           "utc": "2024-10-08 07:00Z"
          },
          "scheduledTime": {
           "local": "2024-10-08 09:00+02:00",
           "utc": "2024-10-08 07:00Z"
          },
          "terminal": "3"
         },
         "isCargo": false,
         "number": "EW 8001",
         "status": "Arrived"
        },
        {
         "aircraft": {
          "modeS": "3C48EE",
          "model": "Airbus A319",
          "reg": "D-ABGN"
         },
         "airline": {
          "iata": "LH",
          "icao": "DLH",
          "name": "Lufthansa"
         },
         "arrival": {
          "baggageBelt": "A1",
          "gate": "A35",
          "quality": [
           "Basic",
           "Live"
          ],
          "revisedTime": {
           "local": "2024-10-08 10:12+02:00",
           "utc": "2024-10-08 08:12Z"
          },
          "scheduledTime": {
           "local": "2024-10-08 10:10+02:00",
           "utc": "2024-10-08 08:10Z"
          },
          "terminal": "1"
         },
         "codeshareStatus": "IsCodeshared",
         "departure": {
          "airport": {
           "iata": "STR",
           "icao": "EDDS",
           "name": "Stuttgart",
           "timeZone": "Europe/Berlin"
          },
          "gate": "140",
          "quality": [
           "Basic",
           "Live"
          ],
          "revisedTime": {
           "local": "2024-10-08 09:00+02:00",
           "utc": "2024-10-08 07:00Z"
          },
          "scheduledTime": {
           "local": "2024-10-08 09:00+02:00",
           "utc": "2024-10-08 07:00Z"
          },
          "terminal": "3"
         },
         "isCargo": false,
         "number": "LH 5392",
         "status": "Arrived"
        },
        {
         "aircraft": {
          "modeS": "3C666C",
          "model": "Airbus A321",
          "reg": "D-AISL"
         },
         "airline": {
          "iata": "LH",
          "icao": "DLH",
          "name": "Lufthansa"
         },
         "arrival": {
          "baggageBelt": "B4",
          "gate": "B07",
          "quality": [
           "Basic",
           "Live"
          ],
          "revisedTime": {
           "local": "2024-10-08 10:13+02:00",
           "utc": "2024-10-08 08:13Z"
          },
          "scheduledTime": {
           "local": "2024-10-08 09:55+02:00",
           "utc": "2024-10-08 07:55Z"
          },
          "terminal": "1"
         },
         "callSign": "DLH7PK",
         "codeshareStatus": "IsOperator",
         "departure": {
          "airport": {
           "iata": "FRA",
           "icao": "EDDF",
           "name": "Frankfurt-am-Main",
           "timeZone": "Europe/Berlin"
          },
          "checkInDesk": "259-335",
          "gate": "A17",
          "quality": [
           "Basic",
           "Live"
          ],
          "revisedTime": {
           "local": "2024-10-08 09:00+02:00",
           "utc": "2024-10-08 07:00Z"
          },
          "runway": "18",
          "runwayTime": {
           "local": "2024-10-08 09:30+02:00",
           "utc": "2024-10-08 07:30Z"
          },
          "scheduledTime": {
           "local": "2024-10-08 08:45+02:00",
           "utc": "2024-10-08 06:45Z"
          },
          "terminal": "1"
         },
         "isCargo": false,
         "number": "LH 176",
         "status": "Arrived"
        },
        {
         "aircraft": {
          "modeS": "44082A",
          "model": "Embraer 195",
          "reg": "OE-LWN"
         },
         "airline": {
          "iata": "OS",
          "icao": "AUA",
          "name": "Austrian"
         },
         "arrival": {
          "baggageBelt": "B4",
          "gate": "B17",
          "quality": [
           "Basic",
           "Live"
          ],
          "revisedTime": {
           "local": "2024-10-08 10:15+02:00",
           "utc": "2024-10-08 08:15Z"
          },
          "scheduledTime": {
           "local": "2024-10-08 10:25+02:00",
           "utc": "2024-10-08 08:25Z"
          },
          "terminal": "1"
         },
         "callSign": "AUA225S",
         "codeshareStatus": "IsOperator",
         "departure": {
          "airport": {
           "iata": "VIE",
           "icao": "LOWW",
           "name": "Vienna",
           "timeZone": "Europe/Vienna"
          },
          "checkInDesk": "351-372",
          "gate": "F17",
          "quality": [
           "Basic",
           "Live"
          ],
          "revisedTime": {
           "local": "2024-10-08 09:24+02:00",
           "utc": "2024-10-08 07:24Z"
          },
          "runway": "29",
          "runwayTime": {
           "local": "2024-10-08 09:25+02:00",
           "utc": "2024-10-08 07:25Z"
          },
          "scheduledTime": {
           "local": "2024-10-08 09:15+02:00",
           "utc": "2024-10-08 07:15Z"
          },
          "terminal": "3"
         },
         "isCargo": false,
         "number": "OS 225",
         "status": "Arrived"
        },
        {
         "aircraft": {
          "modeS": "440D10",
          "model": "Airbus A320",
          "reg": "OE-IBS"
         },
         "airline": {
          "iata": "U2",
          "icao": "EZY",
          "name": "easyJet"
         },
         "arrival": {
          "baggageBelt": "B2",
          "gate": "S01",
          "quality": [
           "Basic",
           "Live"
          ],
          "revisedTime": {
           "local": "2024-10-08 10:18+02:00",
           "utc": "2024-10-08 08:18Z"
          },
          "runwayTime": {
           "local": "2024-10-08 10:33+02:00",
           "utc": "2024-10-08 08:33Z"
          },
          "scheduledTime": {
           "local": "2024-10-08 10:30+02:00",
           "utc": "2024-10-08 08:30Z"
          },
          "terminal": "1"
         },
         "callSign": "EJU42KM",
         "codeshareStatus": "IsOperator",
         "departure": {
          "airport": {
           "iata": "AMS",
           "icao": "EHAM",
           "name": "Amsterdam",
           "timeZone": "Europe/Amsterdam"
          },
          "checkInDesk": "26",
          "gate": "M4",
          "quality": [
           "Basic",
           "Live"
          ],
          "revisedTime": {
           "local": "2024-10-08 09:09+02:00",
           "utc": "2024-10-08 07:09Z"
          },
          "runway": "18L",
          "runwayTime": {
           "local": "2024-10-08 09:19+02:00",
           "utc": "2024-10-08 07:19Z"
          },
          "scheduledTime": {
           "local": "2024-10-08 09:05+02:00",
           "utc": "2024-10-08 07:05Z"
          },
          "terminal": "3"
         },
         "isCargo": false,
         "number": "U2 5282",
         "status": "Arrived"
        },
        {
         "aircraft": {
          "modeS": "440D10",
          "model": "Airbus A320",
          "reg": "OE-IBS"
         },
         "airline": {
          "iata": "EC",
          "icao": "EJU",
          "name": "EasyJet Europe"
         },
         "arrival": {
          "baggageBelt": "B2",
          "gate": "S01",
          "quality": [
           "Basic",
           "Live"
          ],
          "revisedTime": {
           "local": "2024-10-08 10:18+02:00",
           "utc": "2024-10-08 08:18Z"
          },
          "runwayTime": {
           "local": "2024-10-08 10:33+02:00",
           "utc": "2024-10-08 08:33Z"
          },
          "scheduledTime": {
           "local": "2024-10-08 10:30+02:00",
           "utc": "2024-10-08 08:30Z"
          },
          "terminal": "1"
         },
         "callSign": "EJU42KM",
         "codeshareStatus": "IsCodeshared",
         "departure": {
          "airport": {
           "iata": "AMS",
           "icao": "EHAM",
           "name": "Amsterdam",
           "timeZone": "Europe/Amsterdam"
          },
          "checkInDesk": "26",
          "gate": "M4",
          "quality": [
           "Basic",
           "Live"
          ],
          "revisedTime": {
           "local": "2024-10-08 09:09+02:00",
           "utc": "2024-10-08 07:09Z"
          },
          "runway": "18L",
          "runwayTime": {
           "local": "2024-10-08 09:19+02:00",
           "utc": "2024-10-08 07:19Z"
          },
          "scheduledTime": {
           "local": "2024-10-08 09:05+02:00",
           "utc": "2024-10-08 07:05Z"
          },
          "terminal": "3"
         },
         "isCargo": false,
         "number": "EC 5282",
         "status": "Arrived"
        },
        {
         "aircraft": {
          "modeS": "4CADBD",
          "model": "Boeing 737 MAX 8",
          "reg": "EI-IGK"
         },
         "airline": {
          "iata": "FR",
          "icao": "RYR",
          "name": "Ryanair"
         },
         "arrival": {
          "baggageBelt": "C1",
          "gate": "Z34",
          "quality": [
           "Basic",
           "Live"
          ],
          "revisedTime": {
           "local": "2024-10-08 10:19+02:00",
           "utc": "2024-10-08 08:19Z"
          },
          "scheduledTime": {
           "local": "2024-10-08 09:50+02:00",
           "utc": "2024-10-08 07:50Z"
          },
          "terminal": "2"
         },
         "callSign": "RYR2600",
         "codeshareStatus": "IsOperator",
         "departure": {
          "airport": {
           "iata": "RIX",
           "icao": "EVRA",
           "name": "Riga",
           "timeZone": "Europe/Riga"
          },
          "gate": "B4",
          "quality": [
           "Basic",
           "Live"
          ],
          "revisedTime": {
           "local": "2024-10-08 09:05+03:00",
           "utc": "2024-10-08 06:05Z"
          },
          "scheduledTime": {
           "local": "2024-10-08 09:05+03:00",
           "utc": "2024-10-08 06:05Z"
          },
          "terminal": "B"
         },
         "isCargo": false,
         "number": "FR 2600",
         "status": "Arrived"
        },
        {
         "aircraft": {
          "modeS": "503D79",
          "model": "Airbus A320",
          "reg": "LY-JAM"
         },
         "airline": {
          "iata": "J2",
          "icao": "AHY",
          "name": "AZAL Azerbaijan"
         },
         "arrival": {
          "baggageBelt": "B3",
          "gate": "N01",
          "quality": [
           "Basic",
           "Live"
          ],
          "revisedTime": {
           "local": "2024-10-08 10:27+02:00",
           "utc": "2024-10-08 08:27Z"
          },
          "runwayTime": {
           "local": "2024-10-08 10:36+02:00",
           "utc": "2024-10-08 08:36Z"
          },
          "scheduledTime": {
           "local": "2024-10-08 10:35+02:00",
           "utc": "2024-10-08 08:35Z"
          },
          "terminal": "1"
         },
         "callSign": "AHY063",
         "codeshareStatus": "IsOperator",
         "departure": {
          "airport": {
           "iata": "GYD",
           "icao": "UBBB",
           "name": "Baku",
           "timeZone": "Asia/Baku"
          },
          "quality": [
           "Basic"
          ],
          "scheduledTime": {
           "local": "2024-10-08 07:30+04:00",
           "utc": "2024-10-08 03:30Z"
          },
          "terminal": "1"
         },
         "isCargo": false,
         "number": "J2 63",
         "status": "Arrived"
        },
        {
         "aircraft": {
          "modeS": "738051",
          "model": "Boeing 737",
          "reg": "4X-EHB"
         },
         "airline": {
          "iata": "LY",
          "icao": "ELY",
          "name": "El Al"
         },
         "arrival": {
          "baggageBelt": "A3",
          "gate": "X19",
          "quality": [
           "Basic",
           "Live"
          ],
          "revisedTime": {
           "local": "2024-10-08 10:29+02:00",
           "utc": "2024-10-08 08:29Z"
          },
          "runwayTime": {
           "local": "2024-10-08 10:37+02:00",
           "utc": "2024-10-08 08:37Z"
          },
          "scheduledTime": {
           "local": "2024-10-08 09:40+02:00",
           "utc": "2024-10-08 07:40Z"
          },
          "terminal": "1"
         },
         "callSign": "ELY2371",
         "codeshareStatus": "IsOperator",
         "departure": {
          "airport": {
           "iata": "TLV",
           "icao": "LLBG",
           "name": "Tel Aviv Yafo",
           "timeZone": "Asia/Jerusalem"
          },
          "quality": [
           "Basic"
          ],
          "scheduledTime": {
           "local": "2024-10-08 06:20+03:00",
           "utc": "2024-10-08 03:20Z"
          },
          "terminal": "3"
         },
         "isCargo": false,
         "number": "LY 2371",
         "status": "Arrived"
        },
        {
         "aircraft": {
          "modeS": "4BB850",
          "model": "Airbus A321 (Sharklets)",
          "reg": "TC-NBP"
         },
         "airline": {
          "iata": "PC",
          "icao": "PGT",
          "name": "Pegasus"
         },
         "arrival": {
          "baggageBelt": "B3",
          "gate": "N01",
          "quality": [
           "Basic",
           "Live"
          ],
          "revisedTime": {
           "local": "2024-10-08 10:33+02:00",
           "utc": "2024-10-08 08:33Z"
          },
          "runwayTime": {
           "local": "2024-10-08 10:40+02:00",
           "utc": "2024-10-08 08:40Z"
          },
          "scheduledTime": {
           "local": "2024-10-08 10:10+02:00",
           "utc": "2024-10-08 08:10Z"
          },
          "terminal": "1"
         },
         "callSign": "PGT4WR",
         "codeshareStatus": "IsOperator",
         "departure": {
          "airport": {
           "iata": "AYT",
           "icao": "LTAI",
           "name": "Antalya",
           "timeZone": "Europe/Istanbul"
          },
          "checkInDesk": "107-109",
          "quality": [
           "Basic",
           "Live"
          ],
          "revisedTime": {
           "local": "2024-10-08 07:40+03:00",
           "utc": "2024-10-08 04:40Z"
          },
          "scheduledTime": {
           "local": "2024-10-08 07:40+03:00",
           "utc": "2024-10-08 04:40Z"
          },
          "terminal": "1"
         },
         "isCargo": false,
         "number": "PC 5067",
         "status": "Arrived"
        },
        {
         "aircraft": {
          "modeS": "4D224F",
          "model": "Boeing 737-800",
          "reg": "9H-QED"
         },
         "airline": {
          "iata": "FR",
          "icao": "RYR",
          "name": "Ryanair"
         },
         "arrival": {
          "baggageBelt": "C2",
          "gate": "Z36",
          "quality": [
           "Basic",
           "Live"
          ],
          "revisedTime": {
           "local": "2024-10-08 10:35+02:00",
           "utc": "2024-10-08 08:35Z"
          },
          "runwayTime": {
           "local": "2024-10-08 10:37+02:00",
           "utc": "2024-10-08 08:37Z"
          },
          "scheduledTime": {
           "local": "2024-10-08 10:50+02:00",
           "utc": "2024-10-08 08:50Z"
          },
          "terminal": "2"
         },
         "callSign": "RYR2D",
         "codeshareStatus": "IsOperator",
         "departure": {
          "airport": {
           "iata": "OTP",
           "icao": "LROP",
           "name": "Bucharest",
           "timeZone": "Europe/Bucharest"
          },
          "quality": [
           "Basic",
           "Live"
          ],
          "revisedTime": {
           "local": "2024-10-08 09:43+03:00",
           "utc": "2024-10-08 06:43Z"
          },
          "runwayTime": {
           "local": "2024-10-08 09:45+03:00",
           "utc": "2024-10-08 06:45Z"
          },
          "scheduledTime": {
           "local": "2024-10-08 09:35+03:00",
           "utc": "2024-10-08 06:35Z"
          }
         },
         "isCargo": false,
         "number": "FR 315",
         "status": "Arrived"
        },
        {
         "aircraft": {
          "modeS": "4CADF7",
          "model": "Boeing 737 MAX 8",
          "reg": "EI-IHM"
         },
         "airline": {
          "iata": "FR",
          "icao": "RYR",
          "name": "Ryanair"
         },
         "arrival": {
          "baggageBelt": "C3",
          "gate": "Z30",
          "quality": [
           "Basic",
           "Live"
          ],
          "revisedTime": {
           "local": "2024-10-08 10:37+02:00",
           "utc": "2024-10-08 08:37Z"
          },
          "runway": "25R",
          "runwayTime": {
           "local": "2024-10-08 10:37+02:00",
           "utc": "2024-10-08 08:37Z"
          },
          "scheduledTime": {
           "local": "2024-10-08 10:50+02:00",
           "utc": "2024-10-08 08:50Z"
          },
          "terminal": "2"
         },
         "callSign": "RYR17NM",
         "codeshareStatus": "IsOperator",
         "departure": {
          "airport": {
           "iata": "FAO",
           "icao": "LPFR",
           "name": "Faro",
           "timeZone": "Europe/Lisbon"
          },
          "quality": [
           "Basic",
           "Live"
          ],
          "revisedTime": {
           "local": "2024-10-08 06:31+01:00",
           "utc": "2024-10-08 05:31Z"
          },
          "runwayTime": {
           "local": "2024-10-08 06:35+01:00",
           "utc": "2024-10-08 05:35Z"
          },
          "scheduledTime": {
           "local": "2024-10-08 06:20+01:00",
           "utc": "2024-10-08 05:20Z"
          },
          "terminal": "1"
         },
         "isCargo": false,
         "number": "FR 254",
         "status": "Arrived"
        },
        {
         "aircraft": {
          "modeS": "02A1A2",
          "model": "Airbus A320",
          "reg": "TS-INC"
         },
         "airline": {
          "iata": "BJ",
          "icao": "LBT",
          "name": "Nouvelair Tunisie"
         },
         "arrival": {
          "baggageBelt": "A4",
          "gate": "X07",
          "quality": [
           "Basic",
           "Live"
          ],
          "revisedTime": {
           "local": "2024-10-08 10:38+02:00",
           "utc": "2024-10-08 08:38Z"
          },
          "scheduledTime": {
           "local": "2024-10-08 11:00+02:00",
           "utc": "2024-10-08 09:00Z"
          },
          "terminal": "1"
         },
         "callSign": "LBT248",
         "codeshareStatus": "IsOperator",
         "departure": {
          "airport": {
           "iata": "MIR",
           "icao": "DTMB",
           "name": "Monastir",
           "timeZone": "Africa/Tunis"
          },
          "checkInDesk": "39",
          "gate": "10",
          "quality": [
           "Basic",
           "Live"
          ],
          "revisedTime": {
           "local": "2024-10-08 07:11+01:00",
           "utc": "2024-10-08 06:11Z"
          },
          "scheduledTime": {
           "local": "2024-10-08 07:00+01:00",
           "utc": "2024-10-08 06:00Z"
          }
         },
         "isCargo": false,
         "number": "BJ 248",
         "status": "Arrived"
        },
        {
         "aircraft": {
          "modeS": "3003D0",
          "model": "Cessna 560 Citation Excel",
          "reg": "I-CNDG"
         },
         "airline": {
          "name": "SSR"
         },
         "arrival": {
          "quality": [
           "Basic",
           "Live"
          ],
          "revisedTime": {
           "local": "2024-10-08 10:42+02:00",
           "utc": "2024-10-08 08:42Z"
          },
          "runway": "25R",
          "scheduledTime": {
           "local": "2024-10-08 10:42+02:00",
           "utc": "2024-10-08 08:42Z"
          }
         },
         "callSign": "SSR89PB",
         "codeshareStatus": "IsOperator",
         "departure": {
          "airport": {
           "name": "Unknown"
          },
          "quality": []
         },
         "isCargo": false,
         "number": "SSR 89PB",
         "status": "Approaching"
        },
        {
         "aircraft": {
          "modeS": "48ADA2",
          "model": "Embraer 195",
          "reg": "SP-LNC"
         },
         "airline": {
          "iata": "LO",
          "icao": "LOT",
          "name": "LOT - Polish"
         },
         "arrival": {
          "baggageBelt": "A2",
          "gate": "A36",
          "quality": [
           "Basic",
           "Live"
          ],
          "revisedTime": {
           "local": "2024-10-08 10:43+02:00",
           "utc": "2024-10-08 08:43Z"
          },
          "scheduledTime": {
           "local": "2024-10-08 10:30+02:00",
           "utc": "2024-10-08 08:30Z"
          },
          "terminal": "1"
         },
         "callSign": "LOT7AE",
         "codeshareStatus": "IsOperator",
         "departure": {
          "airport": {
           "iata": "WAW",
           "icao": "EPWA",
           "name": "Warsaw",
           "timeZone": "Europe/Warsaw"
          },
          "quality": [
           "Basic",
           "Live"
          ],
          "revisedTime": {
           "local": "2024-10-08 09:47+02:00",
           "utc": "2024-10-08 07:47Z"
          },
          "runway": "15",
          "runwayTime": {
           "local": "2024-10-08 09:47+02:00",
           "utc": "2024-10-08 07:47Z"
          },
          "scheduledTime": {
           "local": "2024-10-08 09:15+02:00",
           "utc": "2024-10-08 07:15Z"
          }
         },
         "isCargo": false,
         "number": "LO 387",
         "status": "Arrived"
        },
        {
         "aircraft": {
          "modeS": "46B822",
          "model": "Airbus A321 NEO",
          "reg": "SX-NAB"
         },
         "airline": {
          "iata": "A3",
          "icao": "AEE",
          "name": "Aegean"
         },
         "arrival": {
          "baggageBelt": "A1",
          "gate": "A33",
          "quality": [
           "Basic",
           "Live"
          ],
          "revisedTime": {
           "local": "2024-10-08 10:46+02:00",
           "utc": "2024-10-08 08:46Z"
          },
          "scheduledTime": {
           "local": "2024-10-08 10:40+02:00",
           "utc": "2024-10-08 08:40Z"
          },
          "terminal": "1"
         },
         "callSign": "AEE8RB",
         "codeshareStatus": "IsOperator",
         "departure": {
          "airport": {
           "iata": "ATH",
           "icao": "LGAV",
           "name": "Athens",
           "timeZone": "Europe/Athens"
          },
          "checkInDesk": "148--153",
          "gate": "B27",
          "quality": [
           "Basic",
           "Live"
          ],
          "revisedTime": {
           "local": "2024-10-08 09:16+03:00",
           "utc": "2024-10-08 06:16Z"
          },
          "runway": "03R",
          "runwayTime": {
           "local": "2024-10-08 09:17+03:00",
           "utc": "2024-10-08 06:17Z"
          },
          "scheduledTime": {
           "local": "2024-10-08 08:45+03:00",
           "utc": "2024-10-08 05:45Z"
          },
          "terminal": "D"
         },
         "isCargo": false,
         "number": "A3 820",
         "status": "Arrived"
        },
        {
         "aircraft": {
          "modeS": "44CDC9",
          "model": "Airbus A320-200",
          "reg": "OO-SNI"
         },
         "airline": {
          "iata": "SN",
          "icao": "BEL",
          "name": "Brussels"
         },
         "arrival": {
          "baggageBelt": "B1",
          "gate": "B02",
          "quality": [
           "Basic",
           "Live"
          ],
          "revisedTime": {
           "local": "2024-10-08 10:50+02:00",
           "utc": "2024-10-08 08:50Z"
          },
          "scheduledTime": {
           "local": "2024-10-08 10:50+02:00",
           "utc": "2024-10-08 08:50Z"
          },
          "terminal": "1"
         },
         "callSign": "BEL8CE",
         "codeshareStatus": "IsOperator",
         "departure": {
          "airport": {
           "iata": "BRU",
           "icao": "EBBR",
           "name": "Brussels",
           "timeZone": "Europe/Brussels"
          },
          "checkInDesk": "05",
          "quality": [
           "Basic",
           "Live"
          ],
          "revisedTime": {
           "local": "2024-10-08 09:47+02:00",
           "utc": "2024-10-08 07:47Z"
          },
          "runway": "25R",
          "runwayTime": {
           "local": "2024-10-08 09:47+02:00",
           "utc": "2024-10-08 07:47Z"
          },
          "scheduledTime": {
           "local": "2024-10-08 09:25+02:00",
           "utc": "2024-10-08 07:25Z"
          }
         },
         "isCargo": false,
         "number": "SN 2581",
         "status": "Arrived"
        },
        {
         "aircraft": {
          "modeS": "4BD185",
          "model": "Boeing 737",
          "reg": "TC-TLE"
         },
         "airline": {
          "iata": "TI",
          "icao": "TWI",
          "name": "Tailwind"
         },
         "arrival": {
          "baggageBelt": "B2",
          "gate": "N01",
          "quality": [
           "Basic",
           "Live"
          ],
          "revisedTime": {
           "local": "2024-10-08 10:54+02:00",
           "utc": "2024-10-08 08:54Z"
          },
          "scheduledTime": {
           "local": "2024-10-08 10:35+02:00",
           "utc": "2024-10-08 08:35Z"
          },
          "terminal": "1"
         },
         "callSign": "TWI7951",
         "codeshareStatus": "IsOperator",
         "departure": {
          "airport": {
           "iata": "AYT",
           "icao": "LTAI",
           "name": "Antalya",
           "timeZone": "Europe/Istanbul"
          },
          "checkInDesk": "249-251",
          "quality": [
           "Basic",
           "Live"
          ],
          "revisedTime": {
           "local": "2024-10-08 08:00+03:00",
           "utc": "2024-10-08 05:00Z"
          },
          "scheduledTime": {
           "local": "2024-10-08 08:00+03:00",
           "utc": "2024-10-08 05:00Z"
          },
          "terminal": "2"
         },
         "isCargo": false,
         "number": "TI 7951",
         "status": "Arrived"
        },
        {
         "aircraft": {
          "modeS": "4D2501",
          "model": "Boeing 737 MAX 8 ",
          "reg": "9H-VVO"
         },
         "airline": {
          "iata": "FR",
          "icao": "RYR",
          "name": "Ryanair"
         },
         "arrival": {
          "baggageBelt": "C1",
          "gate": "Z36",
          "quality": [
           "Basic",
           "Live"
          ],
          "revisedTime": {
           "local": "2024-10-08 10:56+02:00",
           "utc": "2024-10-08 08:56Z"
          },
          "scheduledTime": {
           "local": "2024-10-08 10:50+02:00",
           "utc": "2024-10-08 08:50Z"
          },
          "terminal": "2"
         },
         "callSign": "RYR2AK",
         "codeshareStatus": "IsOperator",
         "departure": {
          "airport": {
           "iata": "MRS",
           "icao": "LFML",
           "name": "Marseille",
           "timeZone": "Europe/Paris"
          },
          "quality": [
           "Basic",
           "Live"
          ],
          "revisedTime": {
           "local": "2024-10-08 09:18+02:00",
           "utc": "2024-10-08 07:18Z"
          },
          "runway": "13L",
          "runwayTime": {
           "local": "2024-10-08 09:18+02:00",
           "utc": "2024-10-08 07:18Z"
          },
          "scheduledTime": {
           "local": "2024-10-08 08:45+02:00",
           "utc": "2024-10-08 06:45Z"
          },
          "terminal": "2"
         },
         "isCargo": false,
         "number": "FR 3389",
         "status": "Arrived"
        },
        {
         "aircraft": {
          "modeS": "3C6675",
          "model": "Airbus A321",
          "reg": "D-AISU"
         },
         "airline": {
          "iata": "LH",
          "icao": "DLH",
          "name": "Lufthansa"
         },
         "arrival": {
          "baggageBelt": "A2",
          "gate": "A10",
          "quality": [
           "Basic",
           "Live"
          ],
          "revisedTime": {
           "local": "2024-10-08 10:58+02:00",
           "utc": "2024-10-08 08:58Z"
          },
          "scheduledTime": {
           "local": "2024-10-08 10:55+02:00",
           "utc": "2024-10-08 08:55Z"
          },
          "terminal": "1"
         },
         "callSign": "DLH178",
         "codeshareStatus": "IsOperator",
         "departure": {
          "airport": {
           "iata": "FRA",
           "icao": "EDDF",
           "name": "Frankfurt-am-Main",
           "timeZone": "Europe/Berlin"
          },
          "checkInDesk": "259-335",
          "gate": "A14",
          "quality": [
           "Basic",
           "Live"
          ],
          "revisedTime": {
           "local": "2024-10-08 09:45+02:00",
           "utc": "2024-10-08 07:45Z"
          },
          "runwayTime": {
           "local": "2024-10-08 10:11+02:00",
           "utc": "2024-10-08 08:11Z"
          },
          "scheduledTime": {
           "local": "2024-10-08 09:45+02:00",
           "utc": "2024-10-08 07:45Z"
          },
          "terminal": "1"
         },
         "isCargo": false,
         "number": "LH 178",
         "status": "Arrived"
        },
        {
         "aircraft": {
          "modeS": "4B984F",
          "model": "Airbus A320",
          "reg": "TC-FBO"
         },
         "airline": {
          "iata": "FH",
          "icao": "FHY",
          "name": "Freebird"
         },
         "arrival": {
          "baggageBelt": "A4",
          "gate": "X06",
          "quality": [
           "Basic",
           "Live"
          ],
          "revisedTime": {
           "local": "2024-10-08 11:01+02:00",
           "utc": "2024-10-08 09:01Z"
          },
          "scheduledTime": {
           "local": "2024-10-08 10:40+02:00",
           "utc": "2024-10-08 08:40Z"
          },
          "terminal": "1"
         },
         "callSign": "FHY1281",
         "codeshareStatus": "IsOperator",
         "departure": {
          "airport": {
           "iata": "AYT",
           "icao": "LTAI",
           "name": "Antalya",
           "timeZone": "Europe/Istanbul"
          },
          "checkInDesk": "252-254",
          "quality": [
           "Basic",
           "Live"
          ],
          "revisedTime": {
           "local": "2024-10-08 08:20+03:00",
           "utc": "2024-10-08 05:20Z"
          },
          "scheduledTime": {
           "local": "2024-10-08 08:20+03:00",
           "utc": "2024-10-08 05:20Z"
          },
          "terminal": "2"
         },
         "isCargo": false,
         "number": "FH 1281",
         "status": "Arrived"
        },
        {
         "aircraft": {
          "modeS": "4D2312",
          "model": "Airbus A321",
          "reg": "9H-SLG"
         },
         "airline": {
          "iata": "VF",
          "icao": "VLU",
          "name": "Ajet"
         },
         "arrival": {
          "baggageBelt": "B3",
          "gate": "Y10",
          "quality": [
           "Basic",
           "Live"
          ],
          "revisedTime": {
           "local": "2024-10-08 11:05+02:00",
           "utc": "2024-10-08 09:05Z"
          },
          "scheduledTime": {
           "local": "2024-10-08 11:20+02:00",
           "utc": "2024-10-08 09:20Z"
          },
          "terminal": "1"
         },
         "codeshareStatus": "IsOperator",
         "departure": {
          "airport": {
           "iata": "SAW",
           "icao": "LTFJ",
           "name": "Istanbul",
           "timeZone": "Europe/Istanbul"
          },
          "quality": [
           "Basic"
          ],
          "scheduledTime": {
           "local": "2024-10-08 09:25+03:00",
           "utc": "2024-10-08 06:25Z"
          }
         },
         "isCargo": false,
         "number": "VF 57",
         "status": "Arrived"
        },
        {
         "aircraft": {
          "modeS": "4D220C",
          "model": "Boeing 737-800",
          "reg": "9H-QBP"
         },
         "airline": {
          "iata": "FR",
          "icao": "RYR",
          "name": "Ryanair"
         },
         "arrival": {
          "baggageBelt": "C2",
          "gate": "Z42",
          "quality": [
           "Basic",
           "Live"
          ],
          "revisedTime": {
           "local": "2024-10-08 11:08+02:00",
           "utc": "2024-10-08 09:08Z"
          },
          "runway": "25R",
          "runwayTime": {
           "local": "2024-10-08 11:08+02:00",
           "utc": "2024-10-08 09:08Z"
          },
          "scheduledTime": {
           "local": "2024-10-08 10:40+02:00",
           "utc": "2024-10-08 08:40Z"
          },
          "terminal": "2"
         },
         "callSign": "RYR2376",
         "codeshareStatus": "IsOperator",
         "departure": {
          "airport": {
           "iata": "EDI",
           "icao": "EGPH",
           "name": "Edinburgh",
           "timeZone": "Europe/London"
          },
          "quality": [
           "Basic",
           "Live"
          ],
          "revisedTime": {
           "local": "2024-10-08 08:17+01:00",
           "utc": "2024-10-08 07:17Z"
          },
          "runway": "06",
          "runwayTime": {
           "local": "2024-10-08 08:18+01:00",
           "utc": "2024-10-08 07:18Z"
          },
          "scheduledTime": {
           "local": "2024-10-08 07:40+01:00",
           "utc": "2024-10-08 06:40Z"
          }
         },
         "isCargo": false,
         "number": "FR 2376",
         "status": "Arrived"
        },
        {
         "aircraft": {
          "modeS": "4D2312",
          "model": "Airbus A321",
          "reg": "9H-SLG"
         },
         "airline": {
          "name": "TKJ"
         },
         "arrival": {
          "quality": [
           "Basic",
           "Live"
          ],
          "revisedTime": {
           "local": "2024-10-08 11:10+02:00",
           "utc": "2024-10-08 09:10Z"
          },
          "runwayTime": {
           "local": "2024-10-08 11:10+02:00",
           "utc": "2024-10-08 09:10Z"
          },
          "scheduledTime": {
           "local": "2024-10-08 11:10+02:00",
           "utc": "2024-10-08 09:10Z"
          }
         },
         "callSign": "TKJ86N",
         "codeshareStatus": "IsOperator",
         "departure": {
          "airport": {
           "iata": "SAW",
           "icao": "LTFJ",
           "name": "Istanbul",
           "timeZone": "Europe/Istanbul"
          },
          "quality": []
         },
         "isCargo": false,
         "number": "TKJ 86N",
         "status": "Arrived"
        },
        {
         "aircraft": {
          "modeS": "4079D3",
          "model": "Embraer 190",
          "reg": "G-LCAH"
         },
         "airline": {
          "iata": "BA",
          "icao": "BAW",
          "name": "British Airways"
         },
         "arrival": {
          "baggageBelt": "A3",
          "gate": "X03",
          "quality": [
           "Basic",
           "Live"
          ],
          "revisedTime": {
           "local": "2024-10-08 11:10+02:00",
           "utc": "2024-10-08 09:10Z"
          },
          "scheduledTime": {
           "local": "2024-10-08 11:10+02:00",
           "utc": "2024-10-08 09:10Z"
          },
          "terminal": "1"
         },
         "callSign": "CFE76JZ",
         "codeshareStatus": "IsOperator",
         "departure": {
          "airport": {
           "iata": "LCY",
           "icao": "EGLC",
           "name": "London",
           "timeZone": "Europe/London"
          },
          "gate": "7",
          "quality": [
           "Basic",
           "Live"
          ],
          "revisedTime": {
           "local": "2024-10-08 08:44+01:00",
           "utc": "2024-10-08 07:44Z"
          },
          "runway": "27",
          "runwayTime": {
           "local": "2024-10-08 08:53+01:00",
           "utc": "2024-10-08 07:53Z"
          },
          "scheduledTime": {
           "local": "2024-10-08 08:25+01:00",
           "utc": "2024-10-08 07:25Z"
          }
         },
         "isCargo": false,
         "number": "BA 8491",
         "status": "Arrived"
        },
        {
         "aircraft": {
          "modeS": "3C5EE4",
          "model": "Airbus A319",
          "reg": "D-AGWD"
         },
         "airline": {
          "iata": "LH",
          "icao": "DLH",
          "name": "Lufthansa"
         },
         "arrival": {
          "baggageBelt": "A2",
          "gate": "A37",
          "quality": [
           "Basic",
           "Live"
          ],
          "revisedTime": {
           "local": "2024-10-08 11:14+02:00",
           "utc": "2024-10-08 09:14Z"
          },
          "scheduledTime": {
           "local": "2024-10-08 11:10+02:00",
           "utc": "2024-10-08 09:10Z"
          },
          "terminal": "1"
         },
         "codeshareStatus": "IsCodeshared",
         "departure": {
          "airport": {
           "iata": "STR",
           "icao": "EDDS",
           "name": "Stuttgart",
           "timeZone": "Europe/Berlin"
          },
          "gate": "325",
          "quality": [
           "Basic",
           "Live"
          ],
          "revisedTime": {
           "local": "2024-10-08 10:00+02:00",
           "utc": "2024-10-08 08:00Z"
          },
          "scheduledTime": {
           "local": "2024-10-08 10:00+02:00",
           "utc": "2024-10-08 08:00Z"
          },
          "terminal": "3"
         },
         "isCargo": false,
         "number": "LH 5389",
         "status": "Arrived"
        },
        {
         "aircraft": {
          "modeS": "3C5EE4",
          "model": "Airbus A319",
          "reg": "D-AGWD"
         },
         "airline": {
          "iata": "EW",
          "icao": "EWG",
          "name": "Eurowings"
         },
         "arrival": {
          "baggageBelt": "A2",
          "gate": "A37",
          "quality": [
           "Basic",
           "Live"
          ],
          "revisedTime": {
           "local": "2024-10-08 11:14+02:00",
           "utc": "2024-10-08 09:14Z"
          },
          "scheduledTime": {
           "local": "2024-10-08 11:10+02:00",
           "utc": "2024-10-08 09:10Z"
          },
          "terminal": "1"
         },
         "codeshareStatus": "IsOperator",
         "departure": {
          "airport": {
           "iata": "STR",
           "icao": "EDDS",
           "name": "Stuttgart",
           "timeZone": "Europe/Berlin"
          },
          "gate": "325",
          "quality": [
           "Basic",
           "Live"
          ],
          "revisedTime": {
           "local": "2024-10-08 10:00+02:00",
           "utc": "2024-10-08 08:00Z"
          },
          "scheduledTime": {
           "local": "2024-10-08 10:00+02:00",
           "utc": "2024-10-08 08:00Z"
          },
          "terminal": "3"
         },
         "isCargo": false,
         "number": "EW 2010",
         "status": "Arrived"
        },
        {
         "aircraft": {
          "modeS": "4008F1",
          "model": "Airbus A319",
          "reg": "G-EUPW"
         },
         "airline": {
          "iata": "BA",
          "icao": "BAW",
          "name": "British Airways"
         },
         "arrival": {
          "baggageBelt": "A3",
          "gate": "X02",
          "quality": [
           "Basic",
           "Live"
          ],
          "revisedTime": {
           "local": "2024-10-08 11:15+02:00",
           "utc": "2024-10-08 09:15Z"
          },
          "scheduledTime": {
           "local": "2024-10-08 11:15+02:00",
           "utc": "2024-10-08 09:15Z"
          },
          "terminal": "1"
         },
         "callSign": "BAW982G",
         "codeshareStatus": "IsOperator",
         "departure": {
          "airport": {
           "iata": "LHR",
           "icao": "EGLL",
           "name": "London",
           "timeZone": "Europe/London"
          },
          "checkInDesk": "D",
          "quality": [
           "Basic",
           "Live"
          ],
          "revisedTime": {
           "local": "2024-10-08 08:53+01:00",
           "utc": "2024-10-08 07:53Z"
          },
          "runway": "27L",
          "runwayTime": {
           "local": "2024-10-08 08:53+01:00",
           "utc": "2024-10-08 07:53Z"
          },
          "scheduledTime": {
           "local": "2024-10-08 08:25+01:00",
           "utc": "2024-10-08 07:25Z"
          },
          "terminal": "5"
         },
         "isCargo": false,
         "number": "BA 982",
         "status": "Arrived"
        },
        {
         "aircraft": {
          "modeS": "3C5EE4",
          "model": "Airbus A319",
          "reg": "D-AGWD"
         },
         "airline": {
          "iata": "4U",
          "icao": "GWI",
          "name": "Germanwings"
         },
         "arrival": {
          "quality": [
           "Basic",
           "Live"
          ],
          "revisedTime": {
           "local": "2024-10-08 11:16+02:00",
           "utc": "2024-10-08 09:16Z"
          },
          "runwayTime": {
           "local": "2024-10-08 11:16+02:00",
           "utc": "2024-10-08 09:16Z"
          },
          "scheduledTime": {
           "local": "2024-10-08 11:16+02:00",
           "utc": "2024-10-08 09:16Z"
          }
         },
         "callSign": "GWI71VC",
         "codeshareStatus": "IsOperator",
         "departure": {
          "airport": {
           "iata": "STR",
           "icao": "EDDS",
           "name": "Stuttgart",
           "timeZone": "Europe/Berlin"
          },
          "quality": [
           "Basic",
           "Live"
          ],
          "revisedTime": {
           "local": "2024-10-08 10:13+02:00",
           "utc": "2024-10-08 08:13Z"
          },
          "runway": "25",
          "runwayTime": {
           "local": "2024-10-08 10:22+02:00",
           "utc": "2024-10-08 08:22Z"
          },
          "scheduledTime": {
           "local": "2024-10-08 10:13+02:00",
           "utc": "2024-10-08 08:13Z"
          }
         },
         "isCargo": false,
         "number": "4U 71VC",
         "status": "Arrived"
        },
        {
         "aircraft": {
          "modeS": "3C5EEF",
          "model": "Airbus A319",
          "reg": "D-AGWO"
         },
         "airline": {
          "iata": "LX",
          "icao": "SWR",
          "name": "SWISS"
         },
         "arrival": {
          "baggageBelt": "B1",
          "gate": "S01",
          "quality": [
           "Basic",
           "Live"
          ],
          "revisedTime": {
           "local": "2024-10-08 11:18+02:00",
           "utc": "2024-10-08 09:18Z"
          },
          "scheduledTime": {
           "local": "2024-10-08 11:30+02:00",
           "utc": "2024-10-08 09:30Z"
          },
          "terminal": "1"
         },
         "callSign": "EWG2BA",
         "codeshareStatus": "IsCodeshared",
         "departure": {
          "airport": {
           "iata": "ZRH",
           "icao": "LSZH",
           "name": "Zurich",
           "timeZone": "Europe/Zurich"
          },
          "checkInDesk": "2(5)",
          "gate": "A81",
          "quality": [
           "Basic",
           "Live"
          ],
          "revisedTime": {
           "local": "2024-10-08 09:50+02:00",
           "utc": "2024-10-08 07:50Z"
          },
          "runway": "28",
          "runwayTime": {
           "local": "2024-10-08 10:15+02:00",
           "utc": "2024-10-08 08:15Z"
          },
          "scheduledTime": {
           "local": "2024-10-08 09:50+02:00",
           "utc": "2024-10-08 07:50Z"
          }
         },
         "isCargo": false,
         "number": "LX 4406",
         "status": "Arrived"
        },
        {
         "aircraft": {
          "modeS": "3C5EEF",
          "model": "Airbus A319",
          "reg": "D-AGWO"
         },
         "airline": {
          "iata": "EW",
          "icao": "EWG",
          "name": "Eurowings"
         },
         "arrival": {
          "baggageBelt": "B1",
          "gate": "S01",
          "quality": [
           "Basic",
           "Live"
          ],
          "revisedTime": {
           "local": "2024-10-08 11:18+02:00",
           "utc": "2024-10-08 09:18Z"
          },
          "runway": "25L",
          "runwayTime": {
           "local": "2024-10-08 11:17+02:00",
           "utc": "2024-10-08 09:17Z"
          },
          "scheduledTime": {
           "local": "2024-10-08 11:30+02:00",
           "utc": "2024-10-08 09:30Z"
          },
          "terminal": "1"
         },
         "callSign": "EWG2BA",
         "codeshareStatus": "IsOperator",
         "departure": {
          "airport": {
           "iata": "ZRH",
           "icao": "LSZH",
           "name": "Zurich",
           "timeZone": "Europe/Zurich"
          },
          "checkInDesk": "2(5)",
          "gate": "A81",
          "quality": [
           "Basic",
           "Live"
          ],
          "revisedTime": {
           "local": "2024-10-08 09:50+02:00",
           "utc": "2024-10-08 07:50Z"
          },
          "runway": "28",
          "runwayTime": {
           "local": "2024-10-08 10:15+02:00",
           "utc": "2024-10-08 08:15Z"
          },
          "scheduledTime": {
           "local": "2024-10-08 09:50+02:00",
           "utc": "2024-10-08 07:50Z"
          }
         },
         "isCargo": false,
         "number": "EW 8761",
         "status": "Arrived"
        },
        {
         "aircraft": {
          "modeS": "4ACA12",
          "model": "Boeing 737-800",
          "reg": "SE-RPR"
         },
         "airline": {
          "iata": "DY",
          "icao": "NOZ",
          "name": "Norwegian Air Shuttle"
         },
         "arrival": {
          "baggageBelt": "C1",
          "gate": "Z32",
          "quality": [
           "Basic",
           "Live"
          ],
          "revisedTime": {
           "local": "2024-10-08 11:27+02:00",
           "utc": "2024-10-08 09:27Z"
          },
          "scheduledTime": {
           "local": "2024-10-08 11:35+02:00",
           "utc": "2024-10-08 09:35Z"
          },
          "terminal": "2"
         },
         "callSign": "NOZ886",
         "codeshareStatus": "IsOperator",
         "departure": {
          "airport": {
           "iata": "ARN",
           "icao": "ESSA",
           "name": "Stockholm",
           "timeZone": "Europe/Stockholm"
          },
          "checkInDesk": "18-0",
          "gate": "D11",
          "quality": [
           "Basic",
           "Live"
          ],
          "revisedTime": {
           "local": "2024-10-08 09:54+02:00",
           "utc": "2024-10-08 07:54Z"
          },
          "runway": "19R",
          "runwayTime": {
           "local": "2024-10-08 10:07+02:00",
           "utc": "2024-10-08 08:07Z"
          },
          "scheduledTime": {
           "local": "2024-10-08 10:00+02:00",
           "utc": "2024-10-08 08:00Z"
          },
          "terminal": "5"
         },
         "isCargo": false,
         "number": "DY 886",
         "status": "Arrived"
        },
        {
         "aircraft": {
          "modeS": "484FDE",
          "model": "Boeing 737-800",
          "reg": "PH-BCD"
         },
         "airline": {
          "iata": "KL",
          "icao": "KLM",
          "name": "KLM"
         },
         "arrival": {
          "baggageBelt": "B2",
          "gate": "A30",
          "quality": [
           "Basic",
           "Live"
          ],
          "revisedTime": {
           "local": "2024-10-08 11:29+02:00",
           "utc": "2024-10-08 09:29Z"
          },
          "runwayTime": {
           "local": "2024-10-08 11:45+02:00",
           "utc": "2024-10-08 09:45Z"
          },
          "scheduledTime": {
           "local": "2024-10-08 11:30+02:00",
           "utc": "2024-10-08 09:30Z"
          },
          "terminal": "1"
         },
         "callSign": "KLM1775",
         "codeshareStatus": "IsOperator",
         "departure": {
          "airport": {
           "iata": "AMS",
           "icao": "EHAM",
           "name": "Amsterdam",
           "timeZone": "Europe/Amsterdam"
          },
          "checkInDesk": "6-8",
          "gate": "D68",
          "quality": [
           "Basic",
           "Live"
          ],
          "revisedTime": {
           "local": "2024-10-08 10:21+02:00",
           "utc": "2024-10-08 08:21Z"
          },
          "runway": "18L",
          "runwayTime": {
           "local": "2024-10-08 10:36+02:00",
           "utc": "2024-10-08 08:36Z"
          },
          "scheduledTime": {
           "local": "2024-10-08 10:15+02:00",
           "utc": "2024-10-08 08:15Z"
          },
          "terminal": "1"
         },
         "isCargo": false,
         "number": "KL 1775",
         "status": "Arrived"
        },
        {
         "aircraft": {
          "modeS": "39E699",
          "model": "Airbus A220-300",
          "reg": "F-HZUZ"
         },
         "airline": {
          "iata": "AF",
          "icao": "AFR",
          "name": "Air France"
         },
         "arrival": {
          "baggageBelt": "A3",
          "gate": "A35",
          "quality": [
           "Basic",
           "Live"
          ],
          "revisedTime": {
           "local": "2024-10-08 11:31+02:00",
           "utc": "2024-10-08 09:31Z"
          },
          "scheduledTime": {
           "local": "2024-10-08 11:15+02:00",
           "utc": "2024-10-08 09:15Z"
          },
          "terminal": "1"
         },
         "callSign": "AFR57NH",
         "codeshareStatus": "IsOperator",
         "departure": {
          "airport": {
           "iata": "CDG",
           "icao": "LFPG",
           "name": "Paris",
           "timeZone": "Europe/Paris"
          },
          "quality": [
           "Basic",
           "Live"
          ],
          "revisedTime": {
           "local": "2024-10-08 10:17+02:00",
           "utc": "2024-10-08 08:17Z"
          },
          "runway": "26R",
          "runwayTime": {
           "local": "2024-10-08 10:17+02:00",
           "utc": "2024-10-08 08:17Z"
          },
          "scheduledTime": {
           "local": "2024-10-08 09:30+02:00",
           "utc": "2024-10-08 07:30Z"
          },
          "terminal": "2F"
         },
         "isCargo": false,
         "number": "AF 1734",
         "status": "Arrived"
        },
        {
         "aircraft": {
          "modeS": "4ACB59",
          "model": "Airbus A320 NEO",
          "reg": "SE-RZY"
         },
         "airline": {
          "iata": "SK",
          "icao": "SAS",
          "name": "SAS"
         },
         "arrival": {
          "baggageBelt": "B4",
          "gate": "B17",
          "quality": [
           "Basic",
           "Live"
          ],
          "revisedTime": {
           "local": "2024-10-08 11:32+02:00",
           "utc": "2024-10-08 09:32Z"
          },
          "scheduledTime": {
           "local": "2024-10-08 11:40+02:00",
           "utc": "2024-10-08 09:40Z"
          },
          "terminal": "1"
         },
         "callSign": "SAS62T",
         "codeshareStatus": "IsOperator",
         "departure": {
          "airport": {
           "iata": "OSL",
           "icao": "ENGM",
           "name": "Oslo",
           "timeZone": "Europe/Oslo"
          },
          "checkInDesk": "567",
          "gate": "D7",
          "quality": [
           "Basic",
           "Live"
          ],
          "revisedTime": {
           "local": "2024-10-08 09:55+02:00",
           "utc": "2024-10-08 07:55Z"
          },
          "runway": "19L",
          "runwayTime": {
           "local": "2024-10-08 10:05+02:00",
           "utc": "2024-10-08 08:05Z"
          },
          "scheduledTime": {
           "local": "2024-10-08 10:00+02:00",
           "utc": "2024-10-08 08:00Z"
          }
         },
         "isCargo": false,
         "number": "SK 4723",
         "status": "Arrived"
        },
        {
         "aircraft": {
          "modeS": "4402AC",
          "model": "Airbus A320",
          "reg": "OE-IJY"
         },
         "airline": {
          "iata": "EC",
          "icao": "EJU",
          "name": "EasyJet Europe"
         },
         "arrival": {
          "baggageBelt": "A4",
          "gate": "A38",
          "quality": [
           "Basic",
           "Live"
          ],
          "revisedTime": {
           "local": "2024-10-08 11:34+02:00",
           "utc": "2024-10-08 09:34Z"
          },
          "scheduledTime": {
           "local": "2024-10-08 11:50+02:00",
           "utc": "2024-10-08 09:50Z"
          },
          "terminal": "1"
         },
         "callSign": "EJU62RN",
         "codeshareStatus": "IsCodeshared",
         "departure": {
          "airport": {
           "iata": "FCO",
           "icao": "LIRF",
           "name": "Rome",
           "timeZone": "Europe/Rome"
          },
          "quality": [
           "Basic",
           "Live"
          ],
          "revisedTime": {
           "local": "2024-10-08 09:55+02:00",
           "utc": "2024-10-08 07:55Z"
          },
          "runwayTime": {
           "local": "2024-10-08 09:55+02:00",
           "utc": "2024-10-08 07:55Z"
          },
          "scheduledTime": {
           "local": "2024-10-08 09:35+02:00",
           "utc": "2024-10-08 07:35Z"
          },
          "terminal": "1"
         },
         "isCargo": false,
         "number": "EC 5080",
         "status": "Arrived"
        },
        {
         "aircraft": {
          "modeS": "4402AC",
          "model": "Airbus A320",
          "reg": "OE-IJY"
         },
         "airline": {
          "iata": "U2",
          "icao": "EZY",
          "name": "easyJet"
         },
         "arrival": {
          "baggageBelt": "A4",
          "gate": "A38",
          "quality": [
           "Basic",
           "Live"
          ],
          "revisedTime": {
           "local": "2024-10-08 11:34+02:00",
           "utc": "2024-10-08 09:34Z"
          },
          "scheduledTime": {
           "local": "2024-10-08 11:50+02:00",
           "utc": "2024-10-08 09:50Z"
          },
          "terminal": "1"
         },
         "callSign": "EJU62RN",
         "codeshareStatus": "IsOperator",
         "departure": {
          "airport": {
           "iata": "FCO",
           "icao": "LIRF",
           "name": "Rome",
           "timeZone": "Europe/Rome"
          },
          "quality": [
           "Basic",
           "Live"
          ],
          "revisedTime": {
           "local": "2024-10-08 09:55+02:00",
           "utc": "2024-10-08 07:55Z"
          },
          "runwayTime": {
           "local": "2024-10-08 09:55+02:00",
           "utc": "2024-10-08 07:55Z"
          },
          "scheduledTime": {
           "local": "2024-10-08 09:35+02:00",
           "utc": "2024-10-08 07:35Z"
          },
          "terminal": "1"
         },
         "isCargo": false,
         "number": "U2 5080",
         "status": "Arrived"
        },
        {
         "aircraft": {
          "modeS": "4AC9F4",
          "model": "Airbus A320",
          "reg": "SE-ROT"
         },
         "airline": {
          "iata": "SK",
          "icao": "SAS",
          "name": "SAS"
         },
         "arrival": {
          "baggageBelt": "A2",
          "gate": "A31",
          "quality": [
           "Basic",
           "Live"
          ],
          "revisedTime": {
           "local": "2024-10-08 11:36+02:00",
           "utc": "2024-10-08 09:36Z"
          },
          "scheduledTime": {
           "local": "2024-10-08 11:40+02:00",
           "utc": "2024-10-08 09:40Z"
          },
          "terminal": "1"
         },
         "callSign": "SAS2677",
         "codeshareStatus": "IsOperator",
         "departure": {
          "airport": {
           "iata": "ARN",
           "icao": "ESSA",
           "name": "Stockholm",
           "timeZone": "Europe/Stockholm"
          },
          "checkInDesk": "71-80",
          "gate": "E3",
          "quality": [
           "Basic",
           "Live"
          ],
          "revisedTime": {
           "local": "2024-10-08 10:03+02:00",
           "utc": "2024-10-08 08:03Z"
          },
          "runwayTime": {
           "local": "2024-10-08 10:14+02:00",
           "utc": "2024-10-08 08:14Z"
          },
          "scheduledTime": {
           "local": "2024-10-08 10:05+02:00",
           "utc": "2024-10-08 08:05Z"
          },
          "terminal": "5"
         },
         "isCargo": false,
         "number": "SK 2677",
         "status": "Arrived"
        },
        {
         "aircraft": {
          "modeS": "4BCDA4",
          "model": "Boeing 737-800",
          "reg": "TC-SMD"
         },
         "airline": {
          "iata": "XQ",
          "icao": "SXS",
          "name": "Sun Express"
         },
         "arrival": {
          "baggageBelt": "A1",
          "gate": "X01",
          "quality": [
           "Basic",
           "Live"
          ],
          "revisedTime": {
           "local": "2024-10-08 11:44+02:00",
           "utc": "2024-10-08 09:44Z"
          },
          "runwayTime": {
           "local": "2024-10-08 11:50+02:00",
           "utc": "2024-10-08 09:50Z"
          },
          "scheduledTime": {
           "local": "2024-10-08 11:35+02:00",
           "utc": "2024-10-08 09:35Z"
          },
          "terminal": "1"
         },
         "callSign": "SXS2SR",
         "codeshareStatus": "IsOperator",
         "departure": {
          "airport": {
           "iata": "AYT",
           "icao": "LTAI",
           "name": "Antalya",
           "timeZone": "Europe/Istanbul"
          },
          "checkInDesk": "126-128",
          "quality": [
           "Basic",
           "Live"
          ],
          "revisedTime": {
           "local": "2024-10-08 09:00+03:00",
           "utc": "2024-10-08 06:00Z"
          },
          "scheduledTime": {
           "local": "2024-10-08 09:00+03:00",
           "utc": "2024-10-08 06:00Z"
          },
          "terminal": "1"
         },
         "isCargo": false,
         "number": "XQ 160",
         "status": "Arrived"
        },
        {
         "aircraft": {
          "modeS": "3C0936",
          "model": "Airbus A320",
          "reg": "D-ASMR"
         },
         "airline": {
          "iata": "SR",
          "icao": "SDR",
          "name": "SundAir"
         },
         "arrival": {
          "baggageBelt": "B3",
          "gate": "S01",
          "quality": [
           "Basic",
           "Live"
          ],
          "revisedTime": {
           "local": "2024-10-08 11:47+02:00",
           "utc": "2024-10-08 09:47Z"
          },
          "runwayTime": {
           "local": "2024-10-08 11:52+02:00",
           "utc": "2024-10-08 09:52Z"
          },
          "scheduledTime": {
           "local": "2024-10-08 11:55+02:00",
           "utc": "2024-10-08 09:55Z"
          },
          "terminal": "1"
         },
         "callSign": "SDR29HC",
         "codeshareStatus": "IsOperator",
         "departure": {
          "airport": {
           "iata": "PMI",
           "icao": "LEPA",
           "name": "Palma De Mallorca",
           "timeZone": "Europe/Madrid"
          },
          "checkInDesk": "070-075",
          "gate": "C55",
          "quality": [
           "Basic",
           "Live"
          ],
          "revisedTime": {
           "local": "2024-10-08 09:27+02:00",
           "utc": "2024-10-08 07:27Z"
          },
          "runwayTime": {
           "local": "2024-10-08 09:41+02:00",
           "utc": "2024-10-08 07:41Z"
          },
          "scheduledTime": {
           "local": "2024-10-08 09:10+02:00",
           "utc": "2024-10-08 07:10Z"
          },
          "terminal": "N"
         },
         "isCargo": false,
         "number": "SR 2097",
         "status": "Arrived"
        },
        {
         "aircraft": {
          "modeS": "4A09B2",
          "model": "Boeing 737-700",
          "reg": "YR-BMR"
         },
         "airline": {
          "iata": "6H",
          "icao": "ISR",
          "name": "Israir"
         },
         "arrival": {
          "baggageBelt": "A3",
          "gate": "X17",
          "quality": [
           "Basic",
           "Live"
          ],
          "revisedTime": {
           "local": "2024-10-08 11:48+02:00",
           "utc": "2024-10-08 09:48Z"
          },
          "scheduledTime": {
           "local": "2024-10-08 12:00+02:00",
           "utc": "2024-10-08 10:00Z"
          },
          "terminal": "1"
         },
         "callSign": "ISR253",
         "codeshareStatus": "IsOperator",
         "departure": {
          "airport": {
           "iata": "TLV",
           "icao": "LLBG",
           "name": "Tel Aviv Yafo",
           "timeZone": "Asia/Jerusalem"
          },
          "quality": []
         },
         "isCargo": false,
         "number": "6H 253",
         "status": "Arrived"
        },
        {
         "aircraft": {
          "modeS": "4CAC1F",
          "model": "Boeing 737-800",
          "reg": "EI-HEZ"
         },
         "airline": {
          "iata": "FR",
          "icao": "RYR",
          "name": "Ryanair"
         },
         "arrival": {
          "baggageBelt": "C3",
          "gate": "Z36",
          "quality": [
           "Basic",
           "Live"
          ],
          "revisedTime": {
           "local": "2024-10-08 11:52+02:00",
           "utc": "2024-10-08 09:52Z"
          },
          "runway": "25R",
          "runwayTime": {
           "local": "2024-10-08 11:52+02:00",
           "utc": "2024-10-08 09:52Z"
          },
          "scheduledTime": {
           "local": "2024-10-08 12:00+02:00",
           "utc": "2024-10-08 10:00Z"
          },
          "terminal": "2"
         },
         "callSign": "RYR2419",
         "codeshareStatus": "IsOperator",
         "departure": {
          "airport": {
           "iata": "TFS",
           "icao": "GCTS",
           "name": "Tenerife Island",
           "timeZone": "Atlantic/Canary"
          },
          "checkInDesk": "202-210",
          "gate": "B14,B12",
          "quality": [
           "Basic",
           "Live"
          ],
          "revisedTime": {
           "local": "2024-10-08 06:03+01:00",
           "utc": "2024-10-08 05:03Z"
          },
          "scheduledTime": {
           "local": "2024-10-08 06:00+01:00",
           "utc": "2024-10-08 05:00Z"
          },
          "terminal": "C"
         },
         "isCargo": false,
         "number": "FR 2419",
         "status": "Arrived"
        },
        {
         "aircraft": {
          "modeS": "47A31A",
          "model": "Boeing 737-800",
          "reg": "LN-ENP"
         },
         "airline": {
          "iata": "DY",
          "icao": "NOZ",
          "name": "Norwegian Air Shuttle"
         },
         "arrival": {
          "baggageBelt": "C1",
          "gate": "Z36",
          "quality": [
           "Basic",
           "Live"
          ],
          "revisedTime": {
           "local": "2024-10-08 11:54+02:00",
           "utc": "2024-10-08 09:54Z"
          },
          "runway": "25R",
          "runwayTime": {
           "local": "2024-10-08 11:54+02:00",
           "utc": "2024-10-08 09:54Z"
          },
          "scheduledTime": {
           "local": "2024-10-08 12:05+02:00",
           "utc": "2024-10-08 10:05Z"
          },
          "terminal": "2"
         },
         "callSign": "NOZ8BE",
         "codeshareStatus": "IsOperator",
         "departure": {
          "airport": {
           "iata": "BGO",
           "icao": "ENBR",
           "name": "Bergen",
           "timeZone": "Europe/Oslo"
          },
          "gate": "E29",
          "quality": [
           "Basic",
           "Live"
          ],
          "revisedTime": {
           "local": "2024-10-08 10:16+02:00",
           "utc": "2024-10-08 08:16Z"
          },
          "runwayTime": {
           "local": "2024-10-08 10:26+02:00",
           "utc": "2024-10-08 08:26Z"
          },
          "scheduledTime": {
           "local": "2024-10-08 10:25+02:00",
           "utc": "2024-10-08 08:25Z"
          }
         },
         "isCargo": false,
         "number": "DY 1122",
         "status": "Arrived"
        }
       ]
      },
      "text/plain": [
       "<IPython.core.display.JSON object>"
      ]
     },
     "execution_count": 11,
     "metadata": {
      "application/json": {
       "expanded": false,
       "root": "root"
      }
     },
     "output_type": "execute_result"
    }
   ],
   "source": [
    "JSON(flights_json)"
   ]
  },
  {
   "cell_type": "code",
   "execution_count": 13,
   "metadata": {
    "colab": {
     "base_uri": "https://localhost:8080/"
    },
    "id": "JhH7urOYc6gt",
    "outputId": "c6b9cbcf-3ad4-460b-e519-f191ec7c5810",
    "tags": []
   },
   "outputs": [
    {
     "data": {
      "text/plain": [
       "dict_keys(['arrivals'])"
      ]
     },
     "execution_count": 13,
     "metadata": {},
     "output_type": "execute_result"
    }
   ],
   "source": [
    "flights_json.keys()"
   ]
  },
  {
   "cell_type": "code",
   "execution_count": 15,
   "metadata": {
    "colab": {
     "base_uri": "https://localhost:8080/"
    },
    "id": "zLqj6WtjdMR9",
    "outputId": "75d43ca4-1466-4d6b-c034-206465fd4160",
    "scrolled": true,
    "tags": []
   },
   "outputs": [
    {
     "data": {
      "text/plain": [
       "[{'departure': {'airport': {'icao': 'LFPG',\n",
       "    'iata': 'CDG',\n",
       "    'name': 'Paris',\n",
       "    'timeZone': 'Europe/Paris'},\n",
       "   'quality': []},\n",
       "  'arrival': {'scheduledTime': {'utc': '2024-10-08 03:40Z',\n",
       "    'local': '2024-10-08 05:40+02:00'},\n",
       "   'revisedTime': {'utc': '2024-10-08 03:40Z',\n",
       "    'local': '2024-10-08 05:40+02:00'},\n",
       "   'runway': '25R',\n",
       "   'quality': ['Basic', 'Live']},\n",
       "  'number': '5O 5DN',\n",
       "  'callSign': 'FPO5DN',\n",
       "  'status': 'Approaching',\n",
       "  'codeshareStatus': 'IsOperator',\n",
       "  'isCargo': False,\n",
       "  'aircraft': {'reg': 'F-HIQI', 'modeS': '39A208', 'model': 'Boeing 737-800'},\n",
       "  'airline': {'name': 'ASL Airlines France', 'iata': '5O', 'icao': 'FPO'}},\n",
       " {'departure': {'airport': {'icao': 'LTBJ',\n",
       "    'iata': 'ADB',\n",
       "    'name': 'İzmir',\n",
       "    'timeZone': 'Europe/Istanbul'},\n",
       "   'scheduledTime': {'utc': '2024-10-08 01:25Z',\n",
       "    'local': '2024-10-08 04:25+03:00'},\n",
       "   'revisedTime': {'utc': '2024-10-08 01:47Z',\n",
       "    'local': '2024-10-08 04:47+03:00'},\n",
       "   'runwayTime': {'utc': '2024-10-08 01:49Z',\n",
       "    'local': '2024-10-08 04:49+03:00'},\n",
       "   'terminal': 'I',\n",
       "   'checkInDesk': '12',\n",
       "   'gate': '103',\n",
       "   'quality': ['Basic', 'Live']},\n",
       "  'arrival': {'scheduledTime': {'utc': '2024-10-08 04:30Z',\n",
       "    'local': '2024-10-08 06:30+02:00'},\n",
       "   'revisedTime': {'utc': '2024-10-08 04:32Z',\n",
       "    'local': '2024-10-08 06:32+02:00'},\n",
       "   'terminal': '1',\n",
       "   'gate': 'X17',\n",
       "   'baggageBelt': 'A3',\n",
       "   'quality': ['Basic', 'Live']},\n",
       "  'number': 'XQ 966',\n",
       "  'callSign': 'SXS5D',\n",
       "  'status': 'Arrived',\n",
       "  'codeshareStatus': 'IsOperator',\n",
       "  'isCargo': False,\n",
       "  'aircraft': {'reg': 'TC-SOV', 'modeS': '4BCDF6', 'model': 'Boeing 737'},\n",
       "  'airline': {'name': 'Sun Express', 'iata': 'XQ', 'icao': 'SXS'}},\n",
       " {'departure': {'airport': {'icao': 'KEWR',\n",
       "    'iata': 'EWR',\n",
       "    'name': 'Newark',\n",
       "    'timeZone': 'America/New_York'},\n",
       "   'scheduledTime': {'utc': '2024-10-07 21:15Z',\n",
       "    'local': '2024-10-07 17:15-04:00'},\n",
       "   'revisedTime': {'utc': '2024-10-07 21:28Z',\n",
       "    'local': '2024-10-07 17:28-04:00'},\n",
       "   'runwayTime': {'utc': '2024-10-07 21:28Z',\n",
       "    'local': '2024-10-07 17:28-04:00'},\n",
       "   'terminal': 'C',\n",
       "   'runway': '22R',\n",
       "   'quality': ['Basic', 'Live']},\n",
       "  'arrival': {'scheduledTime': {'utc': '2024-10-08 05:15Z',\n",
       "    'local': '2024-10-08 07:15+02:00'},\n",
       "   'revisedTime': {'utc': '2024-10-08 05:00Z',\n",
       "    'local': '2024-10-08 07:00+02:00'},\n",
       "   'terminal': '1',\n",
       "   'gate': 'Y17',\n",
       "   'baggageBelt': 'B2',\n",
       "   'quality': ['Basic', 'Live']},\n",
       "  'number': 'UA 962',\n",
       "  'callSign': 'UAL962',\n",
       "  'status': 'Arrived',\n",
       "  'codeshareStatus': 'IsOperator',\n",
       "  'isCargo': False,\n",
       "  'aircraft': {'reg': 'N77066', 'modeS': 'AA6C50', 'model': 'Boeing 767-400'},\n",
       "  'airline': {'name': 'United', 'iata': 'UA', 'icao': 'UAL'}},\n",
       " {'departure': {'airport': {'icao': 'EDDF',\n",
       "    'iata': 'FRA',\n",
       "    'name': 'Frankfurt-am-Main',\n",
       "    'timeZone': 'Europe/Berlin'},\n",
       "   'scheduledTime': {'utc': '2024-10-08 04:15Z',\n",
       "    'local': '2024-10-08 06:15+02:00'},\n",
       "   'revisedTime': {'utc': '2024-10-08 04:15Z',\n",
       "    'local': '2024-10-08 06:15+02:00'},\n",
       "   'runwayTime': {'utc': '2024-10-08 04:25Z',\n",
       "    'local': '2024-10-08 06:25+02:00'},\n",
       "   'terminal': '1',\n",
       "   'checkInDesk': '259-335',\n",
       "   'gate': 'A11',\n",
       "   'runway': '18',\n",
       "   'quality': ['Basic', 'Live']},\n",
       "  'arrival': {'scheduledTime': {'utc': '2024-10-08 05:25Z',\n",
       "    'local': '2024-10-08 07:25+02:00'},\n",
       "   'revisedTime': {'utc': '2024-10-08 05:08Z',\n",
       "    'local': '2024-10-08 07:08+02:00'},\n",
       "   'terminal': '1',\n",
       "   'gate': 'B07',\n",
       "   'baggageBelt': 'B1',\n",
       "   'quality': ['Basic', 'Live']},\n",
       "  'number': 'LH 172',\n",
       "  'callSign': 'DLH172',\n",
       "  'status': 'Arrived',\n",
       "  'codeshareStatus': 'IsOperator',\n",
       "  'isCargo': False,\n",
       "  'aircraft': {'reg': 'D-AINM',\n",
       "   'modeS': '3C65CD',\n",
       "   'model': 'Airbus A321 (Sharklets)'},\n",
       "  'airline': {'name': 'Lufthansa', 'iata': 'LH', 'icao': 'DLH'}},\n",
       " {'departure': {'airport': {'icao': 'LTCC',\n",
       "    'iata': 'DIY',\n",
       "    'name': 'Diyarbakır',\n",
       "    'timeZone': 'Europe/Istanbul'},\n",
       "   'scheduledTime': {'utc': '2024-10-08 00:30Z',\n",
       "    'local': '2024-10-08 03:30+03:00'},\n",
       "   'quality': ['Basic']},\n",
       "  'arrival': {'scheduledTime': {'utc': '2024-10-08 04:45Z',\n",
       "    'local': '2024-10-08 06:45+02:00'},\n",
       "   'revisedTime': {'utc': '2024-10-08 05:11Z',\n",
       "    'local': '2024-10-08 07:11+02:00'},\n",
       "   'terminal': '1',\n",
       "   'gate': 'X19',\n",
       "   'baggageBelt': 'A2',\n",
       "   'quality': ['Basic', 'Live']},\n",
       "  'number': 'XQ 1700',\n",
       "  'status': 'Arrived',\n",
       "  'codeshareStatus': 'IsOperator',\n",
       "  'isCargo': False,\n",
       "  'aircraft': {'reg': 'TC-SUU', 'modeS': '4BCEB5', 'model': 'Boeing 737'},\n",
       "  'airline': {'name': 'Sun Express', 'iata': 'XQ', 'icao': 'SXS'}},\n",
       " {'departure': {'airport': {'icao': 'EDDS',\n",
       "    'iata': 'STR',\n",
       "    'name': 'Stuttgart',\n",
       "    'timeZone': 'Europe/Berlin'},\n",
       "   'scheduledTime': {'utc': '2024-10-08 04:15Z',\n",
       "    'local': '2024-10-08 06:15+02:00'},\n",
       "   'revisedTime': {'utc': '2024-10-08 04:15Z',\n",
       "    'local': '2024-10-08 06:15+02:00'},\n",
       "   'runwayTime': {'utc': '2024-10-08 04:24Z',\n",
       "    'local': '2024-10-08 06:24+02:00'},\n",
       "   'terminal': '3',\n",
       "   'gate': '321',\n",
       "   'runway': '07',\n",
       "   'quality': ['Basic', 'Live']},\n",
       "  'arrival': {'scheduledTime': {'utc': '2024-10-08 05:25Z',\n",
       "    'local': '2024-10-08 07:25+02:00'},\n",
       "   'revisedTime': {'utc': '2024-10-08 05:13Z',\n",
       "    'local': '2024-10-08 07:13+02:00'},\n",
       "   'terminal': '1',\n",
       "   'gate': 'A35',\n",
       "   'baggageBelt': 'A1',\n",
       "   'quality': ['Basic', 'Live']},\n",
       "  'number': 'EW 2002',\n",
       "  'callSign': 'EWG2003',\n",
       "  'status': 'Arrived',\n",
       "  'codeshareStatus': 'IsOperator',\n",
       "  'isCargo': False,\n",
       "  'aircraft': {'reg': '9H-SWK', 'modeS': '4D24FA', 'model': 'Airbus A320'},\n",
       "  'airline': {'name': 'Eurowings', 'iata': 'EW', 'icao': 'EWG'}},\n",
       " {'departure': {'airport': {'icao': 'EDDS',\n",
       "    'iata': 'STR',\n",
       "    'name': 'Stuttgart',\n",
       "    'timeZone': 'Europe/Berlin'},\n",
       "   'scheduledTime': {'utc': '2024-10-08 04:15Z',\n",
       "    'local': '2024-10-08 06:15+02:00'},\n",
       "   'revisedTime': {'utc': '2024-10-08 04:15Z',\n",
       "    'local': '2024-10-08 06:15+02:00'},\n",
       "   'runwayTime': {'utc': '2024-10-08 04:24Z',\n",
       "    'local': '2024-10-08 06:24+02:00'},\n",
       "   'terminal': '3',\n",
       "   'gate': '321',\n",
       "   'runway': '07',\n",
       "   'quality': ['Basic', 'Live']},\n",
       "  'arrival': {'scheduledTime': {'utc': '2024-10-08 05:25Z',\n",
       "    'local': '2024-10-08 07:25+02:00'},\n",
       "   'revisedTime': {'utc': '2024-10-08 05:13Z',\n",
       "    'local': '2024-10-08 07:13+02:00'},\n",
       "   'terminal': '1',\n",
       "   'gate': 'A35',\n",
       "   'baggageBelt': 'A1',\n",
       "   'quality': ['Basic', 'Live']},\n",
       "  'number': 'LH 5385',\n",
       "  'callSign': 'EWG2002',\n",
       "  'status': 'Arrived',\n",
       "  'codeshareStatus': 'IsCodeshared',\n",
       "  'isCargo': False,\n",
       "  'aircraft': {'reg': '9H-SWK', 'modeS': '4D24FA', 'model': 'Airbus A320'},\n",
       "  'airline': {'name': 'Lufthansa', 'iata': 'LH', 'icao': 'DLH'}},\n",
       " {'departure': {'airport': {'icao': 'EDDK',\n",
       "    'iata': 'CGN',\n",
       "    'name': 'Cologne',\n",
       "    'timeZone': 'Europe/Berlin'},\n",
       "   'scheduledTime': {'utc': '2024-10-08 04:30Z',\n",
       "    'local': '2024-10-08 06:30+02:00'},\n",
       "   'revisedTime': {'utc': '2024-10-08 04:34Z',\n",
       "    'local': '2024-10-08 06:34+02:00'},\n",
       "   'runwayTime': {'utc': '2024-10-08 04:34Z',\n",
       "    'local': '2024-10-08 06:34+02:00'},\n",
       "   'terminal': '1',\n",
       "   'runway': '14L',\n",
       "   'quality': ['Basic', 'Live']},\n",
       "  'arrival': {'scheduledTime': {'utc': '2024-10-08 05:40Z',\n",
       "    'local': '2024-10-08 07:40+02:00'},\n",
       "   'revisedTime': {'utc': '2024-10-08 05:17Z',\n",
       "    'local': '2024-10-08 07:17+02:00'},\n",
       "   'runwayTime': {'utc': '2024-10-08 05:22Z',\n",
       "    'local': '2024-10-08 07:22+02:00'},\n",
       "   'terminal': '1',\n",
       "   'gate': 'A06',\n",
       "   'baggageBelt': 'A1',\n",
       "   'quality': ['Basic', 'Live']},\n",
       "  'number': 'EW 12',\n",
       "  'callSign': 'EWG5MK',\n",
       "  'status': 'Arrived',\n",
       "  'codeshareStatus': 'IsOperator',\n",
       "  'isCargo': False,\n",
       "  'aircraft': {'reg': 'OK-TSO', 'modeS': '49D307', 'model': 'Boeing 737-800'},\n",
       "  'airline': {'name': 'Eurowings', 'iata': 'EW', 'icao': 'EWG'}},\n",
       " {'departure': {'airport': {'icao': 'LOWW',\n",
       "    'iata': 'VIE',\n",
       "    'name': 'Vienna',\n",
       "    'timeZone': 'Europe/Vienna'},\n",
       "   'scheduledTime': {'utc': '2024-10-08 04:20Z',\n",
       "    'local': '2024-10-08 06:20+02:00'},\n",
       "   'revisedTime': {'utc': '2024-10-08 04:29Z',\n",
       "    'local': '2024-10-08 06:29+02:00'},\n",
       "   'terminal': '3',\n",
       "   'checkInDesk': '351-372',\n",
       "   'gate': 'F06',\n",
       "   'quality': ['Basic', 'Live']},\n",
       "  'arrival': {'scheduledTime': {'utc': '2024-10-08 05:30Z',\n",
       "    'local': '2024-10-08 07:30+02:00'},\n",
       "   'revisedTime': {'utc': '2024-10-08 05:20Z',\n",
       "    'local': '2024-10-08 07:20+02:00'},\n",
       "   'runwayTime': {'utc': '2024-10-08 05:25Z',\n",
       "    'local': '2024-10-08 07:25+02:00'},\n",
       "   'terminal': '1',\n",
       "   'gate': 'A02',\n",
       "   'baggageBelt': 'A1',\n",
       "   'quality': ['Basic', 'Live']},\n",
       "  'number': 'OS 221',\n",
       "  'callSign': 'AUA221W',\n",
       "  'status': 'Arrived',\n",
       "  'codeshareStatus': 'IsOperator',\n",
       "  'isCargo': False,\n",
       "  'aircraft': {'reg': 'OE-LZE',\n",
       "   'modeS': '440604',\n",
       "   'model': 'Airbus A320 (Sharklets)'},\n",
       "  'airline': {'name': 'Austrian', 'iata': 'OS', 'icao': 'AUA'}},\n",
       " {'departure': {'airport': {'icao': 'EDDL',\n",
       "    'iata': 'DUS',\n",
       "    'name': 'Düsseldorf',\n",
       "    'timeZone': 'Europe/Berlin'},\n",
       "   'scheduledTime': {'utc': '2024-10-08 04:35Z',\n",
       "    'local': '2024-10-08 06:35+02:00'},\n",
       "   'revisedTime': {'utc': '2024-10-08 04:34Z',\n",
       "    'local': '2024-10-08 06:34+02:00'},\n",
       "   'runwayTime': {'utc': '2024-10-08 04:43Z',\n",
       "    'local': '2024-10-08 06:43+02:00'},\n",
       "   'terminal': 'B',\n",
       "   'checkInDesk': '151,170',\n",
       "   'gate': 'A25',\n",
       "   'quality': ['Basic', 'Live']},\n",
       "  'arrival': {'scheduledTime': {'utc': '2024-10-08 05:45Z',\n",
       "    'local': '2024-10-08 07:45+02:00'},\n",
       "   'revisedTime': {'utc': '2024-10-08 05:28Z',\n",
       "    'local': '2024-10-08 07:28+02:00'},\n",
       "   'terminal': '1',\n",
       "   'gate': 'A37',\n",
       "   'baggageBelt': 'A1',\n",
       "   'quality': ['Basic', 'Live']},\n",
       "  'number': 'EW 9048',\n",
       "  'callSign': 'GWI52FP',\n",
       "  'status': 'Arrived',\n",
       "  'codeshareStatus': 'IsOperator',\n",
       "  'isCargo': False,\n",
       "  'aircraft': {'reg': '9H-EUV', 'modeS': '4D240D', 'model': 'Airbus A320'},\n",
       "  'airline': {'name': 'Eurowings', 'iata': 'EW', 'icao': 'EWG'}},\n",
       " {'departure': {'airport': {'icao': 'KJFK',\n",
       "    'iata': 'JFK',\n",
       "    'name': 'New York',\n",
       "    'timeZone': 'America/New_York'},\n",
       "   'scheduledTime': {'utc': '2024-10-07 21:35Z',\n",
       "    'local': '2024-10-07 17:35-04:00'},\n",
       "   'revisedTime': {'utc': '2024-10-07 21:51Z',\n",
       "    'local': '2024-10-07 17:51-04:00'},\n",
       "   'runwayTime': {'utc': '2024-10-07 21:51Z',\n",
       "    'local': '2024-10-07 17:51-04:00'},\n",
       "   'terminal': '4',\n",
       "   'runway': '31L',\n",
       "   'quality': ['Basic', 'Live']},\n",
       "  'arrival': {'scheduledTime': {'utc': '2024-10-08 05:50Z',\n",
       "    'local': '2024-10-08 07:50+02:00'},\n",
       "   'revisedTime': {'utc': '2024-10-08 05:30Z',\n",
       "    'local': '2024-10-08 07:30+02:00'},\n",
       "   'runwayTime': {'utc': '2024-10-08 05:31Z',\n",
       "    'local': '2024-10-08 07:31+02:00'},\n",
       "   'terminal': '1',\n",
       "   'gate': 'Y02',\n",
       "   'baggageBelt': 'B3',\n",
       "   'runway': '07R',\n",
       "   'quality': ['Basic', 'Live']},\n",
       "  'number': 'DL 92',\n",
       "  'callSign': 'DAL92',\n",
       "  'status': 'Arrived',\n",
       "  'codeshareStatus': 'IsOperator',\n",
       "  'isCargo': False,\n",
       "  'aircraft': {'reg': 'N194DN', 'modeS': 'A1775F', 'model': 'Boeing 767-300'},\n",
       "  'airline': {'name': 'Delta Air Lines', 'iata': 'DL', 'icao': 'DAL'}},\n",
       " {'departure': {'airport': {'icao': 'EDDL',\n",
       "    'iata': 'DUS',\n",
       "    'name': 'Düsseldorf',\n",
       "    'timeZone': 'Europe/Berlin'},\n",
       "   'scheduledTime': {'utc': '2024-10-08 04:45Z',\n",
       "    'local': '2024-10-08 06:45+02:00'},\n",
       "   'revisedTime': {'utc': '2024-10-08 04:45Z',\n",
       "    'local': '2024-10-08 06:45+02:00'},\n",
       "   'runwayTime': {'utc': '2024-10-08 04:45Z',\n",
       "    'local': '2024-10-08 06:45+02:00'},\n",
       "   'runway': '23L',\n",
       "   'quality': ['Basic', 'Live']},\n",
       "  'arrival': {'scheduledTime': {'utc': '2024-10-08 05:31Z',\n",
       "    'local': '2024-10-08 07:31+02:00'},\n",
       "   'revisedTime': {'utc': '2024-10-08 05:31Z',\n",
       "    'local': '2024-10-08 07:31+02:00'},\n",
       "   'quality': ['Basic', 'Live']},\n",
       "  'number': '4U 52FP',\n",
       "  'callSign': 'GWI9XL',\n",
       "  'status': 'Approaching',\n",
       "  'codeshareStatus': 'IsOperator',\n",
       "  'isCargo': False,\n",
       "  'aircraft': {'reg': 'D-AKNT', 'modeS': '3C6DD4', 'model': 'Airbus A319'},\n",
       "  'airline': {'name': 'Germanwings', 'iata': '4U', 'icao': 'GWI'}},\n",
       " {'departure': {'airport': {'icao': 'LYBE',\n",
       "    'iata': 'BEG',\n",
       "    'name': 'Belgrade',\n",
       "    'timeZone': 'Europe/Belgrade'},\n",
       "   'scheduledTime': {'utc': '2024-10-08 04:10Z',\n",
       "    'local': '2024-10-08 06:10+02:00'},\n",
       "   'terminal': '2',\n",
       "   'quality': ['Basic']},\n",
       "  'arrival': {'scheduledTime': {'utc': '2024-10-08 06:05Z',\n",
       "    'local': '2024-10-08 08:05+02:00'},\n",
       "   'revisedTime': {'utc': '2024-10-08 05:36Z',\n",
       "    'local': '2024-10-08 07:36+02:00'},\n",
       "   'terminal': '2',\n",
       "   'gate': 'Z40',\n",
       "   'baggageBelt': 'C2',\n",
       "   'quality': ['Basic', 'Live']},\n",
       "  'number': 'W6 4009',\n",
       "  'callSign': 'WZZ2RS',\n",
       "  'status': 'Arrived',\n",
       "  'codeshareStatus': 'IsOperator',\n",
       "  'isCargo': False,\n",
       "  'aircraft': {'reg': 'HA-LYL', 'modeS': '471F87', 'model': 'Airbus A320'},\n",
       "  'airline': {'name': 'Wizz Air', 'iata': 'W6', 'icao': 'WZZ'}},\n",
       " {'departure': {'airport': {'icao': 'LTAI',\n",
       "    'iata': 'AYT',\n",
       "    'name': 'Antalya',\n",
       "    'timeZone': 'Europe/Istanbul'},\n",
       "   'scheduledTime': {'utc': '2024-10-08 01:55Z',\n",
       "    'local': '2024-10-08 04:55+03:00'},\n",
       "   'revisedTime': {'utc': '2024-10-08 02:35Z',\n",
       "    'local': '2024-10-08 05:35+03:00'},\n",
       "   'terminal': '1',\n",
       "   'checkInDesk': '123-125',\n",
       "   'quality': ['Basic', 'Live']},\n",
       "  'arrival': {'scheduledTime': {'utc': '2024-10-08 05:30Z',\n",
       "    'local': '2024-10-08 07:30+02:00'},\n",
       "   'revisedTime': {'utc': '2024-10-08 05:39Z',\n",
       "    'local': '2024-10-08 07:39+02:00'},\n",
       "   'terminal': '1',\n",
       "   'gate': 'X01',\n",
       "   'baggageBelt': 'A4',\n",
       "   'quality': ['Basic', 'Live']},\n",
       "  'number': 'XQ 668',\n",
       "  'callSign': 'SXS1MT',\n",
       "  'status': 'Arrived',\n",
       "  'codeshareStatus': 'IsOperator',\n",
       "  'isCargo': False,\n",
       "  'aircraft': {'reg': 'TC-SEZ', 'modeS': '4BCCBA', 'model': 'Boeing 737-800'},\n",
       "  'airline': {'name': 'Sun Express', 'iata': 'XQ', 'icao': 'SXS'}},\n",
       " {'departure': {'airport': {'icao': 'LIPQ',\n",
       "    'iata': 'TRS',\n",
       "    'name': 'Trieste',\n",
       "    'timeZone': 'Europe/Rome'},\n",
       "   'scheduledTime': {'utc': '2024-10-08 04:20Z',\n",
       "    'local': '2024-10-08 06:20+02:00'},\n",
       "   'revisedTime': {'utc': '2024-10-08 04:37Z',\n",
       "    'local': '2024-10-08 06:37+02:00'},\n",
       "   'runwayTime': {'utc': '2024-10-08 04:37Z',\n",
       "    'local': '2024-10-08 06:37+02:00'},\n",
       "   'quality': ['Basic', 'Live']},\n",
       "  'arrival': {'scheduledTime': {'utc': '2024-10-08 05:55Z',\n",
       "    'local': '2024-10-08 07:55+02:00'},\n",
       "   'revisedTime': {'utc': '2024-10-08 05:41Z',\n",
       "    'local': '2024-10-08 07:41+02:00'},\n",
       "   'terminal': '2',\n",
       "   'gate': 'Z36',\n",
       "   'baggageBelt': 'C3',\n",
       "   'quality': ['Basic', 'Live']},\n",
       "  'number': 'FR 6781',\n",
       "  'callSign': 'RYR6781',\n",
       "  'status': 'Arrived',\n",
       "  'codeshareStatus': 'IsOperator',\n",
       "  'isCargo': False,\n",
       "  'aircraft': {'reg': '9H-QDM', 'modeS': '4D227D', 'model': 'Boeing 737-800'},\n",
       "  'airline': {'name': 'Ryanair', 'iata': 'FR', 'icao': 'RYR'}},\n",
       " {'departure': {'airport': {'icao': 'EVRA',\n",
       "    'iata': 'RIX',\n",
       "    'name': 'Riga',\n",
       "    'timeZone': 'Europe/Riga'},\n",
       "   'scheduledTime': {'utc': '2024-10-08 04:00Z',\n",
       "    'local': '2024-10-08 07:00+03:00'},\n",
       "   'revisedTime': {'utc': '2024-10-08 04:00Z',\n",
       "    'local': '2024-10-08 07:00+03:00'},\n",
       "   'terminal': 'B',\n",
       "   'gate': 'B19',\n",
       "   'quality': ['Basic', 'Live']},\n",
       "  'arrival': {'scheduledTime': {'utc': '2024-10-08 05:40Z',\n",
       "    'local': '2024-10-08 07:40+02:00'},\n",
       "   'revisedTime': {'utc': '2024-10-08 05:43Z',\n",
       "    'local': '2024-10-08 07:43+02:00'},\n",
       "   'terminal': '1',\n",
       "   'gate': 'A31',\n",
       "   'baggageBelt': 'B1',\n",
       "   'quality': ['Basic', 'Live']},\n",
       "  'number': 'JU 7659',\n",
       "  'status': 'Arrived',\n",
       "  'codeshareStatus': 'IsCodeshared',\n",
       "  'isCargo': False,\n",
       "  'aircraft': {'reg': 'YR-ABA', 'modeS': '4A0441', 'model': 'Airbus A319'},\n",
       "  'airline': {'name': 'JU'}},\n",
       " {'departure': {'airport': {'icao': 'EVRA',\n",
       "    'iata': 'RIX',\n",
       "    'name': 'Riga',\n",
       "    'timeZone': 'Europe/Riga'},\n",
       "   'scheduledTime': {'utc': '2024-10-08 04:00Z',\n",
       "    'local': '2024-10-08 07:00+03:00'},\n",
       "   'revisedTime': {'utc': '2024-10-08 04:00Z',\n",
       "    'local': '2024-10-08 07:00+03:00'},\n",
       "   'terminal': 'B',\n",
       "   'gate': 'B19',\n",
       "   'quality': ['Basic', 'Live']},\n",
       "  'arrival': {'scheduledTime': {'utc': '2024-10-08 05:40Z',\n",
       "    'local': '2024-10-08 07:40+02:00'},\n",
       "   'revisedTime': {'utc': '2024-10-08 05:43Z',\n",
       "    'local': '2024-10-08 07:43+02:00'},\n",
       "   'terminal': '1',\n",
       "   'gate': 'A31',\n",
       "   'baggageBelt': 'B1',\n",
       "   'quality': ['Basic', 'Live']},\n",
       "  'number': 'KM 2813',\n",
       "  'status': 'Arrived',\n",
       "  'codeshareStatus': 'IsCodeshared',\n",
       "  'isCargo': False,\n",
       "  'aircraft': {'reg': 'YR-ABA', 'modeS': '4A0441', 'model': 'Airbus A319'},\n",
       "  'airline': {'name': 'KM Malta', 'iata': 'KM', 'icao': 'KMM'}},\n",
       " {'departure': {'airport': {'icao': 'EVRA',\n",
       "    'iata': 'RIX',\n",
       "    'name': 'Riga',\n",
       "    'timeZone': 'Europe/Riga'},\n",
       "   'scheduledTime': {'utc': '2024-10-08 04:00Z',\n",
       "    'local': '2024-10-08 07:00+03:00'},\n",
       "   'revisedTime': {'utc': '2024-10-08 04:00Z',\n",
       "    'local': '2024-10-08 07:00+03:00'},\n",
       "   'terminal': 'B',\n",
       "   'gate': 'B19',\n",
       "   'quality': ['Basic', 'Live']},\n",
       "  'arrival': {'scheduledTime': {'utc': '2024-10-08 05:40Z',\n",
       "    'local': '2024-10-08 07:40+02:00'},\n",
       "   'revisedTime': {'utc': '2024-10-08 05:43Z',\n",
       "    'local': '2024-10-08 07:43+02:00'},\n",
       "   'terminal': '1',\n",
       "   'gate': 'A31',\n",
       "   'baggageBelt': 'B1',\n",
       "   'quality': ['Basic', 'Live']},\n",
       "  'number': 'A3 3219',\n",
       "  'status': 'Arrived',\n",
       "  'codeshareStatus': 'IsCodeshared',\n",
       "  'isCargo': False,\n",
       "  'aircraft': {'reg': 'YR-ABA', 'modeS': '4A0441', 'model': 'Airbus A319'},\n",
       "  'airline': {'name': 'Aegean', 'iata': 'A3', 'icao': 'AEE'}},\n",
       " {'departure': {'airport': {'icao': 'EVRA',\n",
       "    'iata': 'RIX',\n",
       "    'name': 'Riga',\n",
       "    'timeZone': 'Europe/Riga'},\n",
       "   'scheduledTime': {'utc': '2024-10-08 04:00Z',\n",
       "    'local': '2024-10-08 07:00+03:00'},\n",
       "   'revisedTime': {'utc': '2024-10-08 04:00Z',\n",
       "    'local': '2024-10-08 07:00+03:00'},\n",
       "   'terminal': 'B',\n",
       "   'gate': 'B19',\n",
       "   'quality': ['Basic', 'Live']},\n",
       "  'arrival': {'scheduledTime': {'utc': '2024-10-08 05:40Z',\n",
       "    'local': '2024-10-08 07:40+02:00'},\n",
       "   'revisedTime': {'utc': '2024-10-08 05:43Z',\n",
       "    'local': '2024-10-08 07:43+02:00'},\n",
       "   'terminal': '1',\n",
       "   'gate': 'A31',\n",
       "   'baggageBelt': 'B1',\n",
       "   'quality': ['Basic', 'Live']},\n",
       "  'number': 'BT 211',\n",
       "  'callSign': 'BTI74A',\n",
       "  'status': 'Arrived',\n",
       "  'codeshareStatus': 'IsOperator',\n",
       "  'isCargo': False,\n",
       "  'aircraft': {'reg': 'YR-ABA', 'modeS': '4A0441', 'model': 'Airbus A319'},\n",
       "  'airline': {'name': 'airBaltic', 'iata': 'BT', 'icao': 'BTI'}},\n",
       " {'departure': {'airport': {'icao': 'LTAI',\n",
       "    'iata': 'AYT',\n",
       "    'name': 'Antalya',\n",
       "    'timeZone': 'Europe/Istanbul'},\n",
       "   'scheduledTime': {'utc': '2024-10-08 02:15Z',\n",
       "    'local': '2024-10-08 05:15+03:00'},\n",
       "   'revisedTime': {'utc': '2024-10-08 02:15Z',\n",
       "    'local': '2024-10-08 05:15+03:00'},\n",
       "   'terminal': '1',\n",
       "   'checkInDesk': '120-131',\n",
       "   'quality': ['Basic', 'Live']},\n",
       "  'arrival': {'scheduledTime': {'utc': '2024-10-08 05:50Z',\n",
       "    'local': '2024-10-08 07:50+02:00'},\n",
       "   'revisedTime': {'utc': '2024-10-08 05:49Z',\n",
       "    'local': '2024-10-08 07:49+02:00'},\n",
       "   'terminal': '1',\n",
       "   'gate': 'X03',\n",
       "   'baggageBelt': 'B2',\n",
       "   'quality': ['Basic', 'Live']},\n",
       "  'number': 'XQ 676',\n",
       "  'callSign': 'SXS676',\n",
       "  'status': 'Arrived',\n",
       "  'codeshareStatus': 'IsOperator',\n",
       "  'isCargo': False,\n",
       "  'aircraft': {'reg': 'TC-SNV', 'modeS': '4BCDD6', 'model': 'Boeing 737-800'},\n",
       "  'airline': {'name': 'Sun Express', 'iata': 'XQ', 'icao': 'SXS'}},\n",
       " {'departure': {'airport': {'icao': 'OTHH',\n",
       "    'iata': 'DOH',\n",
       "    'name': 'Doha',\n",
       "    'timeZone': 'Asia/Qatar'},\n",
       "   'scheduledTime': {'utc': '2024-10-07 23:10Z',\n",
       "    'local': '2024-10-08 02:10+03:00'},\n",
       "   'revisedTime': {'utc': '2024-10-07 23:36Z',\n",
       "    'local': '2024-10-08 02:36+03:00'},\n",
       "   'runwayTime': {'utc': '2024-10-07 23:51Z',\n",
       "    'local': '2024-10-08 02:51+03:00'},\n",
       "   'gate': 'C54',\n",
       "   'quality': ['Basic', 'Live']},\n",
       "  'arrival': {'scheduledTime': {'utc': '2024-10-08 05:20Z',\n",
       "    'local': '2024-10-08 07:20+02:00'},\n",
       "   'revisedTime': {'utc': '2024-10-08 05:51Z',\n",
       "    'local': '2024-10-08 07:51+02:00'},\n",
       "   'terminal': '1',\n",
       "   'gate': 'X07',\n",
       "   'baggageBelt': 'A3',\n",
       "   'quality': ['Basic', 'Live']},\n",
       "  'number': 'QR 79',\n",
       "  'status': 'Arrived',\n",
       "  'codeshareStatus': 'IsOperator',\n",
       "  'isCargo': False,\n",
       "  'aircraft': {'reg': 'A7-BHI', 'modeS': '06A2EC', 'model': 'Boeing 787-9'},\n",
       "  'airline': {'name': 'Qatar Airways', 'iata': 'QR', 'icao': 'QTR'}},\n",
       " {'departure': {'airport': {'icao': 'ELLX',\n",
       "    'iata': 'LUX',\n",
       "    'name': 'Luxembourg',\n",
       "    'timeZone': 'Europe/Luxembourg'},\n",
       "   'scheduledTime': {'utc': '2024-10-08 04:35Z',\n",
       "    'local': '2024-10-08 06:35+02:00'},\n",
       "   'revisedTime': {'utc': '2024-10-08 04:31Z',\n",
       "    'local': '2024-10-08 06:31+02:00'},\n",
       "   'runwayTime': {'utc': '2024-10-08 04:41Z',\n",
       "    'local': '2024-10-08 06:41+02:00'},\n",
       "   'terminal': 'A',\n",
       "   'gate': 'A20',\n",
       "   'quality': ['Basic', 'Live']},\n",
       "  'arrival': {'scheduledTime': {'utc': '2024-10-08 06:05Z',\n",
       "    'local': '2024-10-08 08:05+02:00'},\n",
       "   'revisedTime': {'utc': '2024-10-08 05:54Z',\n",
       "    'local': '2024-10-08 07:54+02:00'},\n",
       "   'terminal': '1',\n",
       "   'gate': 'S01',\n",
       "   'baggageBelt': 'B4',\n",
       "   'quality': ['Basic', 'Live']},\n",
       "  'number': 'LG 9471',\n",
       "  'callSign': 'LGL91B',\n",
       "  'status': 'Arrived',\n",
       "  'codeshareStatus': 'IsOperator',\n",
       "  'isCargo': False,\n",
       "  'aircraft': {'reg': 'LX-LGN',\n",
       "   'modeS': '4D00D4',\n",
       "   'model': 'De Havilland Canada DHC-8-400 Dash 8Q'},\n",
       "  'airline': {'name': 'Luxair', 'iata': 'LG', 'icao': 'LGL'}},\n",
       " {'departure': {'airport': {'icao': 'ESSA',\n",
       "    'iata': 'ARN',\n",
       "    'name': 'Stockholm',\n",
       "    'timeZone': 'Europe/Stockholm'},\n",
       "   'scheduledTime': {'utc': '2024-10-08 04:20Z',\n",
       "    'local': '2024-10-08 06:20+02:00'},\n",
       "   'revisedTime': {'utc': '2024-10-08 04:18Z',\n",
       "    'local': '2024-10-08 06:18+02:00'},\n",
       "   'runwayTime': {'utc': '2024-10-08 04:33Z',\n",
       "    'local': '2024-10-08 06:33+02:00'},\n",
       "   'terminal': '5',\n",
       "   'checkInDesk': '22-24',\n",
       "   'gate': 'C34',\n",
       "   'runway': '19R',\n",
       "   'quality': ['Basic', 'Live']},\n",
       "  'arrival': {'scheduledTime': {'utc': '2024-10-08 05:55Z',\n",
       "    'local': '2024-10-08 07:55+02:00'},\n",
       "   'revisedTime': {'utc': '2024-10-08 05:55Z',\n",
       "    'local': '2024-10-08 07:55+02:00'},\n",
       "   'terminal': '1',\n",
       "   'gate': 'A17',\n",
       "   'baggageBelt': 'A1',\n",
       "   'quality': ['Basic', 'Live']},\n",
       "  'number': 'EW 4600',\n",
       "  'callSign': 'EWG4600',\n",
       "  'status': 'Arrived',\n",
       "  'codeshareStatus': 'IsOperator',\n",
       "  'isCargo': False,\n",
       "  'aircraft': {'reg': '9H-EWE', 'modeS': '4D2417', 'model': 'Airbus A320'},\n",
       "  'airline': {'name': 'Eurowings', 'iata': 'EW', 'icao': 'EWG'}},\n",
       " {'departure': {'airport': {'icao': 'ESSA',\n",
       "    'iata': 'ARN',\n",
       "    'name': 'Stockholm',\n",
       "    'timeZone': 'Europe/Stockholm'},\n",
       "   'scheduledTime': {'utc': '2024-10-08 04:20Z',\n",
       "    'local': '2024-10-08 06:20+02:00'},\n",
       "   'revisedTime': {'utc': '2024-10-08 04:18Z',\n",
       "    'local': '2024-10-08 06:18+02:00'},\n",
       "   'runwayTime': {'utc': '2024-10-08 04:33Z',\n",
       "    'local': '2024-10-08 06:33+02:00'},\n",
       "   'terminal': '5',\n",
       "   'checkInDesk': '22-24',\n",
       "   'gate': 'C34',\n",
       "   'runway': '19R',\n",
       "   'quality': ['Basic', 'Live']},\n",
       "  'arrival': {'scheduledTime': {'utc': '2024-10-08 05:55Z',\n",
       "    'local': '2024-10-08 07:55+02:00'},\n",
       "   'revisedTime': {'utc': '2024-10-08 05:55Z',\n",
       "    'local': '2024-10-08 07:55+02:00'},\n",
       "   'terminal': '1',\n",
       "   'gate': 'A17',\n",
       "   'baggageBelt': 'A1',\n",
       "   'quality': ['Basic', 'Live']},\n",
       "  'number': 'LH 5344',\n",
       "  'callSign': 'EWG4600',\n",
       "  'status': 'Arrived',\n",
       "  'codeshareStatus': 'IsCodeshared',\n",
       "  'isCargo': False,\n",
       "  'aircraft': {'reg': '9H-EWE', 'modeS': '4D2417', 'model': 'Airbus A320'},\n",
       "  'airline': {'name': 'Lufthansa', 'iata': 'LH', 'icao': 'DLH'}},\n",
       " {'departure': {'airport': {'icao': 'EDDR',\n",
       "    'iata': 'SCN',\n",
       "    'name': 'Saarbrücken',\n",
       "    'timeZone': 'Europe/Berlin'},\n",
       "   'scheduledTime': {'utc': '2024-10-08 04:30Z',\n",
       "    'local': '2024-10-08 06:30+02:00'},\n",
       "   'quality': ['Basic']},\n",
       "  'arrival': {'scheduledTime': {'utc': '2024-10-08 06:05Z',\n",
       "    'local': '2024-10-08 08:05+02:00'},\n",
       "   'revisedTime': {'utc': '2024-10-08 05:57Z',\n",
       "    'local': '2024-10-08 07:57+02:00'},\n",
       "   'terminal': '2',\n",
       "   'gate': 'Z29',\n",
       "   'baggageBelt': 'C1',\n",
       "   'quality': ['Basic', 'Live']},\n",
       "  'number': 'DX 121',\n",
       "  'status': 'Arrived',\n",
       "  'codeshareStatus': 'IsOperator',\n",
       "  'isCargo': False,\n",
       "  'aircraft': {'reg': 'OY-JRJ', 'modeS': '45AA4A', 'model': 'ATR 42-300'},\n",
       "  'airline': {'name': 'Danish Air', 'iata': 'DX', 'icao': 'DTR'}},\n",
       " {'departure': {'airport': {'icao': 'EDDM',\n",
       "    'iata': 'MUC',\n",
       "    'name': 'Munich',\n",
       "    'timeZone': 'Europe/Berlin'},\n",
       "   'scheduledTime': {'utc': '2024-10-08 05:00Z',\n",
       "    'local': '2024-10-08 07:00+02:00'},\n",
       "   'revisedTime': {'utc': '2024-10-08 05:00Z',\n",
       "    'local': '2024-10-08 07:00+02:00'},\n",
       "   'terminal': '2',\n",
       "   'quality': ['Basic', 'Live']},\n",
       "  'arrival': {'scheduledTime': {'utc': '2024-10-08 06:05Z',\n",
       "    'local': '2024-10-08 08:05+02:00'},\n",
       "   'revisedTime': {'utc': '2024-10-08 05:58Z',\n",
       "    'local': '2024-10-08 07:58+02:00'},\n",
       "   'runwayTime': {'utc': '2024-10-08 06:02Z',\n",
       "    'local': '2024-10-08 08:02+02:00'},\n",
       "   'terminal': '1',\n",
       "   'gate': 'B06',\n",
       "   'baggageBelt': 'B4',\n",
       "   'quality': ['Basic', 'Live']},\n",
       "  'number': 'LH 1928',\n",
       "  'callSign': 'DLH7N',\n",
       "  'status': 'Arrived',\n",
       "  'codeshareStatus': 'IsOperator',\n",
       "  'isCargo': False,\n",
       "  'aircraft': {'reg': 'D-AIRF', 'modeS': '3C6646', 'model': 'Airbus A321'},\n",
       "  'airline': {'name': 'Lufthansa', 'iata': 'LH', 'icao': 'DLH'}},\n",
       " {'departure': {'airport': {'icao': 'EFHK',\n",
       "    'iata': 'HEL',\n",
       "    'name': 'Helsinki',\n",
       "    'timeZone': 'Europe/Helsinki'},\n",
       "   'scheduledTime': {'utc': '2024-10-08 04:05Z',\n",
       "    'local': '2024-10-08 07:05+03:00'},\n",
       "   'revisedTime': {'utc': '2024-10-08 04:03Z',\n",
       "    'local': '2024-10-08 07:03+03:00'},\n",
       "   'runwayTime': {'utc': '2024-10-08 04:10Z',\n",
       "    'local': '2024-10-08 07:10+03:00'},\n",
       "   'terminal': '2',\n",
       "   'checkInDesk': '211',\n",
       "   'gate': '34A',\n",
       "   'quality': ['Basic', 'Live']},\n",
       "  'arrival': {'scheduledTime': {'utc': '2024-10-08 06:05Z',\n",
       "    'local': '2024-10-08 08:05+02:00'},\n",
       "   'revisedTime': {'utc': '2024-10-08 05:59Z',\n",
       "    'local': '2024-10-08 07:59+02:00'},\n",
       "   'runwayTime': {'utc': '2024-10-08 06:05Z',\n",
       "    'local': '2024-10-08 08:05+02:00'},\n",
       "   'terminal': '1',\n",
       "   'gate': 'A33',\n",
       "   'baggageBelt': 'A4',\n",
       "   'quality': ['Basic', 'Live']},\n",
       "  'number': 'AY 1431',\n",
       "  'callSign': 'FIN3AW',\n",
       "  'status': 'Arrived',\n",
       "  'codeshareStatus': 'IsOperator',\n",
       "  'isCargo': False,\n",
       "  'aircraft': {'reg': 'OH-LXK', 'modeS': '461F6C', 'model': 'Airbus A320'},\n",
       "  'airline': {'name': 'Finnair', 'iata': 'AY', 'icao': 'FIN'}},\n",
       " {'departure': {'airport': {'icao': 'LOWW',\n",
       "    'iata': 'VIE',\n",
       "    'name': 'Vienna',\n",
       "    'timeZone': 'Europe/Vienna'},\n",
       "   'scheduledTime': {'utc': '2024-10-08 05:00Z',\n",
       "    'local': '2024-10-08 07:00+02:00'},\n",
       "   'revisedTime': {'utc': '2024-10-08 05:12Z',\n",
       "    'local': '2024-10-08 07:12+02:00'},\n",
       "   'runwayTime': {'utc': '2024-10-08 05:13Z',\n",
       "    'local': '2024-10-08 07:13+02:00'},\n",
       "   'terminal': '3',\n",
       "   'checkInDesk': '351-372',\n",
       "   'gate': 'F24',\n",
       "   'runway': '29',\n",
       "   'quality': ['Basic', 'Live']},\n",
       "  'arrival': {'scheduledTime': {'utc': '2024-10-08 06:10Z',\n",
       "    'local': '2024-10-08 08:10+02:00'},\n",
       "   'revisedTime': {'utc': '2024-10-08 06:00Z',\n",
       "    'local': '2024-10-08 08:00+02:00'},\n",
       "   'runwayTime': {'utc': '2024-10-08 06:06Z',\n",
       "    'local': '2024-10-08 08:06+02:00'},\n",
       "   'terminal': '1',\n",
       "   'gate': 'B03',\n",
       "   'baggageBelt': 'B4',\n",
       "   'quality': ['Basic', 'Live']},\n",
       "  'number': 'OS 223',\n",
       "  'callSign': 'AUA223',\n",
       "  'status': 'Arrived',\n",
       "  'codeshareStatus': 'IsOperator',\n",
       "  'isCargo': False,\n",
       "  'aircraft': {'reg': 'OE-LBD', 'modeS': '440039', 'model': 'Airbus A321'},\n",
       "  'airline': {'name': 'Austrian', 'iata': 'OS', 'icao': 'AUA'}},\n",
       " {'departure': {'airport': {'icao': 'LICJ',\n",
       "    'iata': 'PMO',\n",
       "    'name': 'Palermo',\n",
       "    'timeZone': 'Europe/Rome'},\n",
       "   'scheduledTime': {'utc': '2024-10-08 03:45Z',\n",
       "    'local': '2024-10-08 05:45+02:00'},\n",
       "   'quality': ['Basic']},\n",
       "  'arrival': {'scheduledTime': {'utc': '2024-10-08 06:15Z',\n",
       "    'local': '2024-10-08 08:15+02:00'},\n",
       "   'revisedTime': {'utc': '2024-10-08 06:07Z',\n",
       "    'local': '2024-10-08 08:07+02:00'},\n",
       "   'runwayTime': {'utc': '2024-10-08 06:07Z',\n",
       "    'local': '2024-10-08 08:07+02:00'},\n",
       "   'terminal': '2',\n",
       "   'gate': 'Z34',\n",
       "   'baggageBelt': 'C3',\n",
       "   'runway': '25R',\n",
       "   'quality': ['Basic', 'Live']},\n",
       "  'number': 'FR 3361',\n",
       "  'callSign': 'RYR6TB',\n",
       "  'status': 'Arrived',\n",
       "  'codeshareStatus': 'IsOperator',\n",
       "  'isCargo': False,\n",
       "  'aircraft': {'reg': '9H-VUE', 'modeS': '4D2303', 'model': 'Boeing 737-800'},\n",
       "  'airline': {'name': 'Ryanair', 'iata': 'FR', 'icao': 'RYR'}},\n",
       " {'departure': {'airport': {'icao': 'LIML',\n",
       "    'iata': 'LIN',\n",
       "    'name': 'Milan',\n",
       "    'timeZone': 'Europe/Rome'},\n",
       "   'scheduledTime': {'utc': '2024-10-08 04:55Z',\n",
       "    'local': '2024-10-08 06:55+02:00'},\n",
       "   'quality': ['Basic']},\n",
       "  'arrival': {'scheduledTime': {'utc': '2024-10-08 06:35Z',\n",
       "    'local': '2024-10-08 08:35+02:00'},\n",
       "   'revisedTime': {'utc': '2024-10-08 06:18Z',\n",
       "    'local': '2024-10-08 08:18+02:00'},\n",
       "   'terminal': '1',\n",
       "   'gate': 'S01',\n",
       "   'baggageBelt': 'B2',\n",
       "   'quality': ['Basic', 'Live']},\n",
       "  'number': 'U2 5068',\n",
       "  'callSign': 'EZY5068',\n",
       "  'status': 'Arrived',\n",
       "  'codeshareStatus': 'IsOperator',\n",
       "  'isCargo': False,\n",
       "  'aircraft': {'reg': 'OE-IDT', 'modeS': '4400DC', 'model': 'Airbus A320'},\n",
       "  'airline': {'name': 'easyJet', 'iata': 'U2', 'icao': 'EZY'}},\n",
       " {'departure': {'airport': {'icao': 'LIML',\n",
       "    'iata': 'LIN',\n",
       "    'name': 'Milan',\n",
       "    'timeZone': 'Europe/Rome'},\n",
       "   'scheduledTime': {'utc': '2024-10-08 04:55Z',\n",
       "    'local': '2024-10-08 06:55+02:00'},\n",
       "   'quality': ['Basic']},\n",
       "  'arrival': {'scheduledTime': {'utc': '2024-10-08 06:35Z',\n",
       "    'local': '2024-10-08 08:35+02:00'},\n",
       "   'revisedTime': {'utc': '2024-10-08 06:18Z',\n",
       "    'local': '2024-10-08 08:18+02:00'},\n",
       "   'terminal': '1',\n",
       "   'gate': 'S01',\n",
       "   'baggageBelt': 'B2',\n",
       "   'quality': ['Basic', 'Live']},\n",
       "  'number': 'EC 5068',\n",
       "  'callSign': 'EJU5068',\n",
       "  'status': 'Arrived',\n",
       "  'codeshareStatus': 'IsCodeshared',\n",
       "  'isCargo': False,\n",
       "  'aircraft': {'reg': 'OE-IDT', 'modeS': '4400DC', 'model': 'Airbus A320'},\n",
       "  'airline': {'name': 'EasyJet Europe', 'iata': 'EC', 'icao': 'EJU'}},\n",
       " {'departure': {'airport': {'icao': 'LIME',\n",
       "    'iata': 'BGY',\n",
       "    'name': 'Bergamo',\n",
       "    'timeZone': 'Europe/Rome'},\n",
       "   'scheduledTime': {'utc': '2024-10-08 04:40Z',\n",
       "    'local': '2024-10-08 06:40+02:00'},\n",
       "   'revisedTime': {'utc': '2024-10-08 05:11Z',\n",
       "    'local': '2024-10-08 07:11+02:00'},\n",
       "   'runwayTime': {'utc': '2024-10-08 05:11Z',\n",
       "    'local': '2024-10-08 07:11+02:00'},\n",
       "   'quality': ['Basic', 'Live']},\n",
       "  'arrival': {'scheduledTime': {'utc': '2024-10-08 06:20Z',\n",
       "    'local': '2024-10-08 08:20+02:00'},\n",
       "   'revisedTime': {'utc': '2024-10-08 06:24Z',\n",
       "    'local': '2024-10-08 08:24+02:00'},\n",
       "   'terminal': '2',\n",
       "   'gate': 'Z36',\n",
       "   'baggageBelt': 'C2',\n",
       "   'quality': ['Basic', 'Live']},\n",
       "  'number': 'FR 3312',\n",
       "  'callSign': 'RYR7KH',\n",
       "  'status': 'Arrived',\n",
       "  'codeshareStatus': 'IsOperator',\n",
       "  'isCargo': False,\n",
       "  'aircraft': {'reg': '9H-VUI', 'modeS': '4D2348', 'model': 'Boeing 737-800'},\n",
       "  'airline': {'name': 'Ryanair', 'iata': 'FR', 'icao': 'RYR'}},\n",
       " {'departure': {'airport': {'name': 'Unknown'}, 'quality': []},\n",
       "  'arrival': {'scheduledTime': {'utc': '2024-10-08 06:44Z',\n",
       "    'local': '2024-10-08 08:44+02:00'},\n",
       "   'revisedTime': {'utc': '2024-10-08 06:44Z',\n",
       "    'local': '2024-10-08 08:44+02:00'},\n",
       "   'runwayTime': {'utc': '2024-10-08 06:44Z',\n",
       "    'local': '2024-10-08 08:44+02:00'},\n",
       "   'runway': '25R',\n",
       "   'quality': ['Basic', 'Live']},\n",
       "  'number': 'OEFLL',\n",
       "  'callSign': 'OEFLL',\n",
       "  'status': 'Arrived',\n",
       "  'codeshareStatus': 'IsOperator',\n",
       "  'isCargo': False,\n",
       "  'aircraft': {'reg': 'OE-XOH',\n",
       "   'modeS': '44015B',\n",
       "   'model': 'Eurocopter AS350'},\n",
       "  'airline': {'name': 'OEFLL'}},\n",
       " {'departure': {'airport': {'icao': 'LSZH',\n",
       "    'iata': 'ZRH',\n",
       "    'name': 'Zurich',\n",
       "    'timeZone': 'Europe/Zurich'},\n",
       "   'scheduledTime': {'utc': '2024-10-08 05:20Z',\n",
       "    'local': '2024-10-08 07:20+02:00'},\n",
       "   'revisedTime': {'utc': '2024-10-08 05:25Z',\n",
       "    'local': '2024-10-08 07:25+02:00'},\n",
       "   'runwayTime': {'utc': '2024-10-08 05:47Z',\n",
       "    'local': '2024-10-08 07:47+02:00'},\n",
       "   'checkInDesk': '1',\n",
       "   'gate': 'B08',\n",
       "   'runway': '28',\n",
       "   'quality': ['Basic', 'Live']},\n",
       "  'arrival': {'scheduledTime': {'utc': '2024-10-08 06:45Z',\n",
       "    'local': '2024-10-08 08:45+02:00'},\n",
       "   'revisedTime': {'utc': '2024-10-08 06:46Z',\n",
       "    'local': '2024-10-08 08:46+02:00'},\n",
       "   'terminal': '1',\n",
       "   'gate': 'B07',\n",
       "   'baggageBelt': 'B4',\n",
       "   'quality': ['Basic', 'Live']},\n",
       "  'number': 'LX 974',\n",
       "  'callSign': 'SWR97Y',\n",
       "  'status': 'Arrived',\n",
       "  'codeshareStatus': 'IsOperator',\n",
       "  'isCargo': False,\n",
       "  'aircraft': {'reg': 'YL-ABA', 'modeS': '502D3F', 'model': 'Airbus A220-300'},\n",
       "  'airline': {'name': 'SWISS', 'iata': 'LX', 'icao': 'SWR'}},\n",
       " {'departure': {'airport': {'icao': 'LFPO',\n",
       "    'iata': 'ORY',\n",
       "    'name': 'Paris',\n",
       "    'timeZone': 'Europe/Paris'},\n",
       "   'scheduledTime': {'utc': '2024-10-08 05:10Z',\n",
       "    'local': '2024-10-08 07:10+02:00'},\n",
       "   'revisedTime': {'utc': '2024-10-08 05:33Z',\n",
       "    'local': '2024-10-08 07:33+02:00'},\n",
       "   'runwayTime': {'utc': '2024-10-08 05:33Z',\n",
       "    'local': '2024-10-08 07:33+02:00'},\n",
       "   'terminal': '1',\n",
       "   'quality': ['Basic', 'Live']},\n",
       "  'arrival': {'scheduledTime': {'utc': '2024-10-08 06:50Z',\n",
       "    'local': '2024-10-08 08:50+02:00'},\n",
       "   'revisedTime': {'utc': '2024-10-08 06:49Z',\n",
       "    'local': '2024-10-08 08:49+02:00'},\n",
       "   'runwayTime': {'utc': '2024-10-08 06:50Z',\n",
       "    'local': '2024-10-08 08:50+02:00'},\n",
       "   'terminal': '1',\n",
       "   'gate': 'A35',\n",
       "   'baggageBelt': 'A4',\n",
       "   'runway': '25L',\n",
       "   'quality': ['Basic', 'Live']},\n",
       "  'number': 'U2 4897',\n",
       "  'callSign': 'EJU42RU',\n",
       "  'status': 'Arrived',\n",
       "  'codeshareStatus': 'IsOperator',\n",
       "  'isCargo': False,\n",
       "  'aircraft': {'reg': 'OE-IVJ', 'modeS': '440088', 'model': 'Airbus A320'},\n",
       "  'airline': {'name': 'easyJet', 'iata': 'U2', 'icao': 'EZY'}},\n",
       " {'departure': {'airport': {'icao': 'LFPO',\n",
       "    'iata': 'ORY',\n",
       "    'name': 'Paris',\n",
       "    'timeZone': 'Europe/Paris'},\n",
       "   'scheduledTime': {'utc': '2024-10-08 05:10Z',\n",
       "    'local': '2024-10-08 07:10+02:00'},\n",
       "   'revisedTime': {'utc': '2024-10-08 05:33Z',\n",
       "    'local': '2024-10-08 07:33+02:00'},\n",
       "   'runwayTime': {'utc': '2024-10-08 05:33Z',\n",
       "    'local': '2024-10-08 07:33+02:00'},\n",
       "   'terminal': '1',\n",
       "   'quality': ['Basic', 'Live']},\n",
       "  'arrival': {'scheduledTime': {'utc': '2024-10-08 06:50Z',\n",
       "    'local': '2024-10-08 08:50+02:00'},\n",
       "   'revisedTime': {'utc': '2024-10-08 06:49Z',\n",
       "    'local': '2024-10-08 08:49+02:00'},\n",
       "   'runwayTime': {'utc': '2024-10-08 06:50Z',\n",
       "    'local': '2024-10-08 08:50+02:00'},\n",
       "   'terminal': '1',\n",
       "   'gate': 'A35',\n",
       "   'baggageBelt': 'A4',\n",
       "   'runway': '25L',\n",
       "   'quality': ['Basic', 'Live']},\n",
       "  'number': 'EC 4897',\n",
       "  'callSign': 'EJU42RU',\n",
       "  'status': 'Arrived',\n",
       "  'codeshareStatus': 'IsCodeshared',\n",
       "  'isCargo': False,\n",
       "  'aircraft': {'reg': 'OE-IVJ', 'modeS': '440088', 'model': 'Airbus A320'},\n",
       "  'airline': {'name': 'EasyJet Europe', 'iata': 'EC', 'icao': 'EJU'}},\n",
       " {'departure': {'airport': {'icao': 'EDDF',\n",
       "    'iata': 'FRA',\n",
       "    'name': 'Frankfurt-am-Main',\n",
       "    'timeZone': 'Europe/Berlin'},\n",
       "   'scheduledTime': {'utc': '2024-10-08 05:45Z',\n",
       "    'local': '2024-10-08 07:45+02:00'},\n",
       "   'revisedTime': {'utc': '2024-10-08 05:45Z',\n",
       "    'local': '2024-10-08 07:45+02:00'},\n",
       "   'runwayTime': {'utc': '2024-10-08 06:05Z',\n",
       "    'local': '2024-10-08 08:05+02:00'},\n",
       "   'terminal': '1',\n",
       "   'checkInDesk': '259-335',\n",
       "   'gate': 'A16',\n",
       "   'runway': '18',\n",
       "   'quality': ['Basic', 'Live']},\n",
       "  'arrival': {'scheduledTime': {'utc': '2024-10-08 06:55Z',\n",
       "    'local': '2024-10-08 08:55+02:00'},\n",
       "   'revisedTime': {'utc': '2024-10-08 06:52Z',\n",
       "    'local': '2024-10-08 08:52+02:00'},\n",
       "   'terminal': '1',\n",
       "   'gate': 'A02',\n",
       "   'baggageBelt': 'A1',\n",
       "   'quality': ['Basic', 'Live']},\n",
       "  'number': 'LH 174',\n",
       "  'callSign': 'DLH4PH',\n",
       "  'status': 'Arrived',\n",
       "  'codeshareStatus': 'IsOperator',\n",
       "  'isCargo': False,\n",
       "  'aircraft': {'reg': 'D-AIDJ', 'modeS': '3C648A', 'model': 'Airbus A321'},\n",
       "  'airline': {'name': 'Lufthansa', 'iata': 'LH', 'icao': 'DLH'}},\n",
       " {'departure': {'airport': {'icao': 'EDDM',\n",
       "    'iata': 'MUC',\n",
       "    'name': 'Munich',\n",
       "    'timeZone': 'Europe/Berlin'},\n",
       "   'scheduledTime': {'utc': '2024-10-08 06:00Z',\n",
       "    'local': '2024-10-08 08:00+02:00'},\n",
       "   'revisedTime': {'utc': '2024-10-08 06:00Z',\n",
       "    'local': '2024-10-08 08:00+02:00'},\n",
       "   'runwayTime': {'utc': '2024-10-08 06:11Z',\n",
       "    'local': '2024-10-08 08:11+02:00'},\n",
       "   'terminal': '2',\n",
       "   'runway': '08L',\n",
       "   'quality': ['Basic', 'Live']},\n",
       "  'arrival': {'scheduledTime': {'utc': '2024-10-08 07:05Z',\n",
       "    'local': '2024-10-08 09:05+02:00'},\n",
       "   'revisedTime': {'utc': '2024-10-08 06:53Z',\n",
       "    'local': '2024-10-08 08:53+02:00'},\n",
       "   'terminal': '1',\n",
       "   'gate': 'B06',\n",
       "   'baggageBelt': 'B4',\n",
       "   'quality': ['Basic', 'Live']},\n",
       "  'number': 'LH 1930',\n",
       "  'callSign': 'DLH2X',\n",
       "  'status': 'Arrived',\n",
       "  'codeshareStatus': 'IsOperator',\n",
       "  'isCargo': False,\n",
       "  'aircraft': {'reg': 'D-AIUG',\n",
       "   'modeS': '3C66A7',\n",
       "   'model': 'Airbus A320 (Sharklets)'},\n",
       "  'airline': {'name': 'Lufthansa', 'iata': 'LH', 'icao': 'DLH'}},\n",
       " {'departure': {'airport': {'icao': 'LTFM',\n",
       "    'iata': 'IST',\n",
       "    'name': 'Istanbul',\n",
       "    'timeZone': 'Europe/Istanbul'},\n",
       "   'scheduledTime': {'utc': '2024-10-08 04:30Z',\n",
       "    'local': '2024-10-08 07:30+03:00'},\n",
       "   'revisedTime': {'utc': '2024-10-08 04:30Z',\n",
       "    'local': '2024-10-08 07:30+03:00'},\n",
       "   'checkInDesk': 'E-F',\n",
       "   'gate': 'F15',\n",
       "   'quality': ['Basic', 'Live']},\n",
       "  'arrival': {'scheduledTime': {'utc': '2024-10-08 07:20Z',\n",
       "    'local': '2024-10-08 09:20+02:00'},\n",
       "   'revisedTime': {'utc': '2024-10-08 06:55Z',\n",
       "    'local': '2024-10-08 08:55+02:00'},\n",
       "   'terminal': '1',\n",
       "   'gate': 'X03',\n",
       "   'baggageBelt': 'A3',\n",
       "   'quality': ['Basic', 'Live']},\n",
       "  'number': 'TK 1721',\n",
       "  'callSign': 'THY3CS',\n",
       "  'status': 'Arrived',\n",
       "  'codeshareStatus': 'IsOperator',\n",
       "  'isCargo': False,\n",
       "  'aircraft': {'reg': 'TC-JOB', 'modeS': '4BA9E2', 'model': 'Airbus A330-300'},\n",
       "  'airline': {'name': 'Turkish', 'iata': 'TK', 'icao': 'THY'}},\n",
       " {'departure': {'airport': {'icao': 'LYBE',\n",
       "    'iata': 'BEG',\n",
       "    'name': 'Belgrade',\n",
       "    'timeZone': 'Europe/Belgrade'},\n",
       "   'quality': []},\n",
       "  'arrival': {'scheduledTime': {'utc': '2024-10-08 07:10Z',\n",
       "    'local': '2024-10-08 09:10+02:00'},\n",
       "   'revisedTime': {'utc': '2024-10-08 06:58Z',\n",
       "    'local': '2024-10-08 08:58+02:00'},\n",
       "   'terminal': '1',\n",
       "   'gate': 'N01',\n",
       "   'baggageBelt': 'B4',\n",
       "   'quality': ['Basic', 'Live']},\n",
       "  'number': 'JA 354',\n",
       "  'status': 'Arrived',\n",
       "  'codeshareStatus': 'IsOperator',\n",
       "  'isCargo': False,\n",
       "  'aircraft': {'reg': 'YU-APB', 'modeS': '4C01E1', 'model': 'Airbus A319'},\n",
       "  'airline': {'name': 'JetSMART', 'iata': 'JA', 'icao': 'JAT'}},\n",
       " {'departure': {'airport': {'icao': 'ENGM',\n",
       "    'iata': 'OSL',\n",
       "    'name': 'Oslo',\n",
       "    'timeZone': 'Europe/Oslo'},\n",
       "   'scheduledTime': {'utc': '2024-10-08 05:30Z',\n",
       "    'local': '2024-10-08 07:30+02:00'},\n",
       "   'revisedTime': {'utc': '2024-10-08 05:24Z',\n",
       "    'local': '2024-10-08 07:24+02:00'},\n",
       "   'runwayTime': {'utc': '2024-10-08 05:41Z',\n",
       "    'local': '2024-10-08 07:41+02:00'},\n",
       "   'checkInDesk': '123',\n",
       "   'gate': 'D4',\n",
       "   'quality': ['Basic', 'Live']},\n",
       "  'arrival': {'scheduledTime': {'utc': '2024-10-08 07:05Z',\n",
       "    'local': '2024-10-08 09:05+02:00'},\n",
       "   'revisedTime': {'utc': '2024-10-08 07:01Z',\n",
       "    'local': '2024-10-08 09:01+02:00'},\n",
       "   'terminal': '2',\n",
       "   'gate': 'Z30',\n",
       "   'baggageBelt': 'C1',\n",
       "   'quality': ['Basic', 'Live']},\n",
       "  'number': 'DY 1102',\n",
       "  'callSign': 'NOZ2XM',\n",
       "  'status': 'Arrived',\n",
       "  'codeshareStatus': 'IsOperator',\n",
       "  'isCargo': False,\n",
       "  'aircraft': {'reg': 'LN-ENV', 'modeS': '47A05E', 'model': 'Boeing 737-800'},\n",
       "  'airline': {'name': 'Norwegian Air Shuttle', 'iata': 'DY', 'icao': 'NOZ'}},\n",
       " {'departure': {'airport': {'icao': 'EDDL',\n",
       "    'iata': 'DUS',\n",
       "    'name': 'Düsseldorf',\n",
       "    'timeZone': 'Europe/Berlin'},\n",
       "   'scheduledTime': {'utc': '2024-10-08 06:00Z',\n",
       "    'local': '2024-10-08 08:00+02:00'},\n",
       "   'revisedTime': {'utc': '2024-10-08 06:00Z',\n",
       "    'local': '2024-10-08 08:00+02:00'},\n",
       "   'runwayTime': {'utc': '2024-10-08 06:09Z',\n",
       "    'local': '2024-10-08 08:09+02:00'},\n",
       "   'terminal': 'B',\n",
       "   'checkInDesk': '151,170',\n",
       "   'gate': 'A63',\n",
       "   'quality': ['Basic', 'Live']},\n",
       "  'arrival': {'scheduledTime': {'utc': '2024-10-08 07:10Z',\n",
       "    'local': '2024-10-08 09:10+02:00'},\n",
       "   'revisedTime': {'utc': '2024-10-08 07:03Z',\n",
       "    'local': '2024-10-08 09:03+02:00'},\n",
       "   'terminal': '1',\n",
       "   'gate': 'A34',\n",
       "   'baggageBelt': 'A1',\n",
       "   'quality': ['Basic', 'Live']},\n",
       "  'number': 'EW 8041',\n",
       "  'callSign': 'GWI9XL',\n",
       "  'status': 'Arrived',\n",
       "  'codeshareStatus': 'IsOperator',\n",
       "  'isCargo': False,\n",
       "  'aircraft': {'reg': 'D-AKNT', 'modeS': '3C6DD4', 'model': 'Airbus A319'},\n",
       "  'airline': {'name': 'Eurowings', 'iata': 'EW', 'icao': 'EWG'}},\n",
       " {'departure': {'airport': {'icao': 'EBBR',\n",
       "    'iata': 'BRU',\n",
       "    'name': 'Brussels',\n",
       "    'timeZone': 'Europe/Brussels'},\n",
       "   'scheduledTime': {'utc': '2024-10-08 05:50Z',\n",
       "    'local': '2024-10-08 07:50+02:00'},\n",
       "   'revisedTime': {'utc': '2024-10-08 06:04Z',\n",
       "    'local': '2024-10-08 08:04+02:00'},\n",
       "   'runwayTime': {'utc': '2024-10-08 06:05Z',\n",
       "    'local': '2024-10-08 08:05+02:00'},\n",
       "   'checkInDesk': '08',\n",
       "   'runway': '25R',\n",
       "   'quality': ['Basic', 'Live']},\n",
       "  'arrival': {'scheduledTime': {'utc': '2024-10-08 07:15Z',\n",
       "    'local': '2024-10-08 09:15+02:00'},\n",
       "   'revisedTime': {'utc': '2024-10-08 07:04Z',\n",
       "    'local': '2024-10-08 09:04+02:00'},\n",
       "   'terminal': '2',\n",
       "   'gate': 'Z33',\n",
       "   'baggageBelt': 'C2',\n",
       "   'quality': ['Basic', 'Live']},\n",
       "  'number': 'FR 163',\n",
       "  'callSign': 'RYR4TT',\n",
       "  'status': 'Arrived',\n",
       "  'codeshareStatus': 'IsOperator',\n",
       "  'isCargo': False,\n",
       "  'aircraft': {'reg': '9H-QDH', 'modeS': '4D2272', 'model': 'Boeing 737-800'},\n",
       "  'airline': {'name': 'Ryanair', 'iata': 'FR', 'icao': 'RYR'}},\n",
       " {'departure': {'airport': {'icao': 'LTBJ',\n",
       "    'iata': 'ADB',\n",
       "    'name': 'İzmir',\n",
       "    'timeZone': 'Europe/Istanbul'},\n",
       "   'scheduledTime': {'utc': '2024-10-08 04:30Z',\n",
       "    'local': '2024-10-08 07:30+03:00'},\n",
       "   'revisedTime': {'utc': '2024-10-08 04:29Z',\n",
       "    'local': '2024-10-08 07:29+03:00'},\n",
       "   'runwayTime': {'utc': '2024-10-08 04:30Z',\n",
       "    'local': '2024-10-08 07:30+03:00'},\n",
       "   'terminal': 'D',\n",
       "   'checkInDesk': '32',\n",
       "   'gate': '32',\n",
       "   'quality': ['Basic', 'Live']},\n",
       "  'arrival': {'scheduledTime': {'utc': '2024-10-08 07:30Z',\n",
       "    'local': '2024-10-08 09:30+02:00'},\n",
       "   'revisedTime': {'utc': '2024-10-08 07:06Z',\n",
       "    'local': '2024-10-08 09:06+02:00'},\n",
       "   'terminal': '1',\n",
       "   'gate': 'N01',\n",
       "   'baggageBelt': 'B3',\n",
       "   'quality': ['Basic', 'Live']},\n",
       "  'number': 'PC 5303',\n",
       "  'callSign': 'PGT26PP',\n",
       "  'status': 'Arrived',\n",
       "  'codeshareStatus': 'IsOperator',\n",
       "  'isCargo': False,\n",
       "  'aircraft': {'reg': 'TC-NCO', 'modeS': '4BB86F', 'model': 'Airbus A320 NEO'},\n",
       "  'airline': {'name': 'Pegasus', 'iata': 'PC', 'icao': 'PGT'}},\n",
       " {'departure': {'airport': {'icao': 'LEPA',\n",
       "    'iata': 'PMI',\n",
       "    'name': 'Palma De Mallorca',\n",
       "    'timeZone': 'Europe/Madrid'},\n",
       "   'scheduledTime': {'utc': '2024-10-08 04:45Z',\n",
       "    'local': '2024-10-08 06:45+02:00'},\n",
       "   'revisedTime': {'utc': '2024-10-08 04:47Z',\n",
       "    'local': '2024-10-08 06:47+02:00'},\n",
       "   'runwayTime': {'utc': '2024-10-08 05:07Z',\n",
       "    'local': '2024-10-08 07:07+02:00'},\n",
       "   'terminal': 'N',\n",
       "   'checkInDesk': '002-017',\n",
       "   'gate': 'C56',\n",
       "   'quality': ['Basic', 'Live']},\n",
       "  'arrival': {'scheduledTime': {'utc': '2024-10-08 07:30Z',\n",
       "    'local': '2024-10-08 09:30+02:00'},\n",
       "   'revisedTime': {'utc': '2024-10-08 07:08Z',\n",
       "    'local': '2024-10-08 09:08+02:00'},\n",
       "   'terminal': '2',\n",
       "   'gate': 'Z36',\n",
       "   'baggageBelt': 'C3',\n",
       "   'quality': ['Basic', 'Live']},\n",
       "  'number': 'FR 111',\n",
       "  'callSign': 'RYR2CG',\n",
       "  'status': 'Arrived',\n",
       "  'codeshareStatus': 'IsOperator',\n",
       "  'isCargo': False,\n",
       "  'aircraft': {'reg': 'EI-EVI', 'modeS': '4CA9D1', 'model': 'Boeing 737-800'},\n",
       "  'airline': {'name': 'Ryanair', 'iata': 'FR', 'icao': 'RYR'}},\n",
       " {'departure': {'airport': {'icao': 'EKCH',\n",
       "    'iata': 'CPH',\n",
       "    'name': 'Copenhagen',\n",
       "    'timeZone': 'Europe/Copenhagen'},\n",
       "   'scheduledTime': {'utc': '2024-10-08 06:40Z',\n",
       "    'local': '2024-10-08 08:40+02:00'},\n",
       "   'revisedTime': {'utc': '2024-10-08 06:40Z',\n",
       "    'local': '2024-10-08 08:40+02:00'},\n",
       "   'terminal': 'erminal2',\n",
       "   'gate': 'F7',\n",
       "   'quality': ['Basic', 'Live']},\n",
       "  'arrival': {'scheduledTime': {'utc': '2024-10-08 07:45Z',\n",
       "    'local': '2024-10-08 09:45+02:00'},\n",
       "   'revisedTime': {'utc': '2024-10-08 07:25Z',\n",
       "    'local': '2024-10-08 09:25+02:00'},\n",
       "   'terminal': '1',\n",
       "   'gate': 'A33',\n",
       "   'baggageBelt': 'A4',\n",
       "   'quality': ['Basic', 'Live']},\n",
       "  'number': 'U2 5262',\n",
       "  'callSign': 'EJU48QZ',\n",
       "  'status': 'Arrived',\n",
       "  'codeshareStatus': 'IsOperator',\n",
       "  'isCargo': False,\n",
       "  'aircraft': {'reg': 'OE-IWW', 'modeS': '440B1E', 'model': 'Airbus A320'},\n",
       "  'airline': {'name': 'easyJet', 'iata': 'U2', 'icao': 'EZY'}},\n",
       " {'departure': {'airport': {'icao': 'EKCH',\n",
       "    'iata': 'CPH',\n",
       "    'name': 'Copenhagen',\n",
       "    'timeZone': 'Europe/Copenhagen'},\n",
       "   'scheduledTime': {'utc': '2024-10-08 06:40Z',\n",
       "    'local': '2024-10-08 08:40+02:00'},\n",
       "   'revisedTime': {'utc': '2024-10-08 06:40Z',\n",
       "    'local': '2024-10-08 08:40+02:00'},\n",
       "   'terminal': 'erminal2',\n",
       "   'gate': 'F7',\n",
       "   'quality': ['Basic', 'Live']},\n",
       "  'arrival': {'scheduledTime': {'utc': '2024-10-08 07:45Z',\n",
       "    'local': '2024-10-08 09:45+02:00'},\n",
       "   'revisedTime': {'utc': '2024-10-08 07:25Z',\n",
       "    'local': '2024-10-08 09:25+02:00'},\n",
       "   'terminal': '1',\n",
       "   'gate': 'A33',\n",
       "   'baggageBelt': 'A4',\n",
       "   'quality': ['Basic', 'Live']},\n",
       "  'number': 'EC 5262',\n",
       "  'callSign': 'EJU48QZ',\n",
       "  'status': 'Arrived',\n",
       "  'codeshareStatus': 'IsCodeshared',\n",
       "  'isCargo': False,\n",
       "  'aircraft': {'reg': 'OE-IWW', 'modeS': '440B1E', 'model': 'Airbus A320'},\n",
       "  'airline': {'name': 'EasyJet Europe', 'iata': 'EC', 'icao': 'EJU'}},\n",
       " {'departure': {'airport': {'icao': 'EGKK',\n",
       "    'iata': 'LGW',\n",
       "    'name': 'London',\n",
       "    'timeZone': 'Europe/London'},\n",
       "   'scheduledTime': {'utc': '2024-10-08 05:40Z',\n",
       "    'local': '2024-10-08 06:40+01:00'},\n",
       "   'revisedTime': {'utc': '2024-10-08 06:02Z',\n",
       "    'local': '2024-10-08 07:02+01:00'},\n",
       "   'runwayTime': {'utc': '2024-10-08 06:03Z',\n",
       "    'local': '2024-10-08 07:03+01:00'},\n",
       "   'terminal': 'N',\n",
       "   'runway': '26L',\n",
       "   'quality': ['Basic', 'Live']},\n",
       "  'arrival': {'scheduledTime': {'utc': '2024-10-08 07:35Z',\n",
       "    'local': '2024-10-08 09:35+02:00'},\n",
       "   'revisedTime': {'utc': '2024-10-08 07:27Z',\n",
       "    'local': '2024-10-08 09:27+02:00'},\n",
       "   'terminal': '1',\n",
       "   'gate': 'X17',\n",
       "   'baggageBelt': 'A4',\n",
       "   'runway': '25L',\n",
       "   'quality': ['Basic', 'Live']},\n",
       "  'number': 'U2 8629',\n",
       "  'callSign': 'EZY19TC',\n",
       "  'status': 'Arrived',\n",
       "  'codeshareStatus': 'IsOperator',\n",
       "  'isCargo': False,\n",
       "  'aircraft': {'reg': 'G-EZDA', 'modeS': '405631', 'model': 'Airbus A319'},\n",
       "  'airline': {'name': 'easyJet', 'iata': 'U2', 'icao': 'EZY'}},\n",
       " {'departure': {'airport': {'icao': 'EIDW',\n",
       "    'iata': 'DUB',\n",
       "    'name': 'Dublin',\n",
       "    'timeZone': 'Europe/Dublin'},\n",
       "   'scheduledTime': {'utc': '2024-10-08 05:25Z',\n",
       "    'local': '2024-10-08 06:25+01:00'},\n",
       "   'revisedTime': {'utc': '2024-10-08 05:25Z',\n",
       "    'local': '2024-10-08 06:25+01:00'},\n",
       "   'runwayTime': {'utc': '2024-10-08 05:41Z',\n",
       "    'local': '2024-10-08 06:41+01:00'},\n",
       "   'terminal': '1',\n",
       "   'checkInDesk': '1204-1319',\n",
       "   'gate': '118',\n",
       "   'quality': ['Basic', 'Live']},\n",
       "  'arrival': {'scheduledTime': {'utc': '2024-10-08 07:40Z',\n",
       "    'local': '2024-10-08 09:40+02:00'},\n",
       "   'revisedTime': {'utc': '2024-10-08 07:28Z',\n",
       "    'local': '2024-10-08 09:28+02:00'},\n",
       "   'terminal': '2',\n",
       "   'gate': 'Z42',\n",
       "   'baggageBelt': 'C2',\n",
       "   'quality': ['Basic', 'Live']},\n",
       "  'number': 'FR 3669',\n",
       "  'callSign': 'RYR3TF',\n",
       "  'status': 'Arrived',\n",
       "  'codeshareStatus': 'IsOperator',\n",
       "  'isCargo': False,\n",
       "  'aircraft': {'reg': 'EI-DHA', 'modeS': '4CA256', 'model': 'Boeing 737-800'},\n",
       "  'airline': {'name': 'Ryanair', 'iata': 'FR', 'icao': 'RYR'}},\n",
       " {'departure': {'airport': {'icao': 'LFPG',\n",
       "    'iata': 'CDG',\n",
       "    'name': 'Paris',\n",
       "    'timeZone': 'Europe/Paris'},\n",
       "   'scheduledTime': {'utc': '2024-10-08 05:15Z',\n",
       "    'local': '2024-10-08 07:15+02:00'},\n",
       "   'revisedTime': {'utc': '2024-10-08 06:16Z',\n",
       "    'local': '2024-10-08 08:16+02:00'},\n",
       "   'runwayTime': {'utc': '2024-10-08 06:16Z',\n",
       "    'local': '2024-10-08 08:16+02:00'},\n",
       "   'terminal': '2F',\n",
       "   'quality': ['Basic', 'Live']},\n",
       "  'arrival': {'scheduledTime': {'utc': '2024-10-08 06:55Z',\n",
       "    'local': '2024-10-08 08:55+02:00'},\n",
       "   'revisedTime': {'utc': '2024-10-08 07:30Z',\n",
       "    'local': '2024-10-08 09:30+02:00'},\n",
       "   'terminal': '1',\n",
       "   'gate': 'A31',\n",
       "   'baggageBelt': 'A2',\n",
       "   'quality': ['Basic', 'Live']},\n",
       "  'number': 'AF 1434',\n",
       "  'callSign': 'AFR95ZE',\n",
       "  'status': 'Arrived',\n",
       "  'codeshareStatus': 'IsOperator',\n",
       "  'isCargo': False,\n",
       "  'aircraft': {'reg': 'F-HDRF', 'modeS': '398E25', 'model': 'Airbus A320'},\n",
       "  'airline': {'name': 'Air France', 'iata': 'AF', 'icao': 'AFR'}},\n",
       " {'departure': {'airport': {'icao': 'EGGW',\n",
       "    'iata': 'LTN',\n",
       "    'name': 'London',\n",
       "    'timeZone': 'Europe/London'},\n",
       "   'scheduledTime': {'utc': '2024-10-08 06:00Z',\n",
       "    'local': '2024-10-08 07:00+01:00'},\n",
       "   'revisedTime': {'utc': '2024-10-08 06:00Z',\n",
       "    'local': '2024-10-08 07:00+01:00'},\n",
       "   'runwayTime': {'utc': '2024-10-08 06:07Z',\n",
       "    'local': '2024-10-08 07:07+01:00'},\n",
       "   'checkInDesk': '44-61',\n",
       "   'runway': '26',\n",
       "   'quality': ['Basic', 'Live']},\n",
       "  'arrival': {'scheduledTime': {'utc': '2024-10-08 07:50Z',\n",
       "    'local': '2024-10-08 09:50+02:00'},\n",
       "   'revisedTime': {'utc': '2024-10-08 07:32Z',\n",
       "    'local': '2024-10-08 09:32+02:00'},\n",
       "   'terminal': '1',\n",
       "   'gate': 'N01',\n",
       "   'baggageBelt': 'B2',\n",
       "   'quality': ['Basic', 'Live']},\n",
       "  'number': 'U2 2601',\n",
       "  'callSign': 'EZY21KF',\n",
       "  'status': 'Arrived',\n",
       "  'codeshareStatus': 'IsOperator',\n",
       "  'isCargo': False,\n",
       "  'aircraft': {'reg': 'G-EZBJ', 'modeS': '400FDB', 'model': 'Airbus A319'},\n",
       "  'airline': {'name': 'easyJet', 'iata': 'U2', 'icao': 'EZY'}},\n",
       " {'departure': {'airport': {'icao': 'LFSB',\n",
       "    'iata': 'BSL',\n",
       "    'name': 'Bâle/Mulhouse',\n",
       "    'timeZone': 'Europe/Paris'},\n",
       "   'scheduledTime': {'utc': '2024-10-08 06:10Z',\n",
       "    'local': '2024-10-08 08:10+02:00'},\n",
       "   'revisedTime': {'utc': '2024-10-08 06:31Z',\n",
       "    'local': '2024-10-08 08:31+02:00'},\n",
       "   'runwayTime': {'utc': '2024-10-08 06:32Z',\n",
       "    'local': '2024-10-08 08:32+02:00'},\n",
       "   'checkInDesk': '42-50',\n",
       "   'gate': '86',\n",
       "   'quality': ['Basic', 'Live']},\n",
       "  'arrival': {'scheduledTime': {'utc': '2024-10-08 07:40Z',\n",
       "    'local': '2024-10-08 09:40+02:00'},\n",
       "   'revisedTime': {'utc': '2024-10-08 07:34Z',\n",
       "    'local': '2024-10-08 09:34+02:00'},\n",
       "   'terminal': '1',\n",
       "   'gate': 'A38',\n",
       "   'baggageBelt': 'A4',\n",
       "   'quality': ['Basic', 'Live']},\n",
       "  'number': 'U2 5186',\n",
       "  'callSign': 'EJU63EN',\n",
       "  'status': 'Arrived',\n",
       "  'codeshareStatus': 'IsOperator',\n",
       "  'isCargo': False,\n",
       "  'aircraft': {'reg': 'OE-IBF', 'modeS': '440CF8', 'model': 'Airbus A320'},\n",
       "  'airline': {'name': 'easyJet', 'iata': 'U2', 'icao': 'EZY'}},\n",
       " {'departure': {'airport': {'icao': 'LFSB',\n",
       "    'iata': 'BSL',\n",
       "    'name': 'Bâle/Mulhouse',\n",
       "    'timeZone': 'Europe/Paris'},\n",
       "   'scheduledTime': {'utc': '2024-10-08 06:10Z',\n",
       "    'local': '2024-10-08 08:10+02:00'},\n",
       "   'revisedTime': {'utc': '2024-10-08 06:31Z',\n",
       "    'local': '2024-10-08 08:31+02:00'},\n",
       "   'runwayTime': {'utc': '2024-10-08 06:32Z',\n",
       "    'local': '2024-10-08 08:32+02:00'},\n",
       "   'checkInDesk': '42-50',\n",
       "   'gate': '86',\n",
       "   'quality': ['Basic', 'Live']},\n",
       "  'arrival': {'scheduledTime': {'utc': '2024-10-08 07:40Z',\n",
       "    'local': '2024-10-08 09:40+02:00'},\n",
       "   'revisedTime': {'utc': '2024-10-08 07:34Z',\n",
       "    'local': '2024-10-08 09:34+02:00'},\n",
       "   'terminal': '1',\n",
       "   'gate': 'A38',\n",
       "   'baggageBelt': 'A4',\n",
       "   'quality': ['Basic', 'Live']},\n",
       "  'number': 'EC 5186',\n",
       "  'callSign': 'EJU63EN',\n",
       "  'status': 'Arrived',\n",
       "  'codeshareStatus': 'IsCodeshared',\n",
       "  'isCargo': False,\n",
       "  'aircraft': {'reg': 'OE-IBF', 'modeS': '440CF8', 'model': 'Airbus A320'},\n",
       "  'airline': {'name': 'EasyJet Europe', 'iata': 'EC', 'icao': 'EJU'}},\n",
       " {'departure': {'airport': {'icao': 'LMML',\n",
       "    'iata': 'MLA',\n",
       "    'name': 'Luqa',\n",
       "    'timeZone': 'Europe/Malta'},\n",
       "   'scheduledTime': {'utc': '2024-10-08 05:00Z',\n",
       "    'local': '2024-10-08 07:00+02:00'},\n",
       "   'quality': ['Basic']},\n",
       "  'arrival': {'scheduledTime': {'utc': '2024-10-08 07:55Z',\n",
       "    'local': '2024-10-08 09:55+02:00'},\n",
       "   'revisedTime': {'utc': '2024-10-08 07:38Z',\n",
       "    'local': '2024-10-08 09:38+02:00'},\n",
       "   'terminal': '1',\n",
       "   'gate': 'A37',\n",
       "   'baggageBelt': 'A3',\n",
       "   'quality': ['Basic', 'Live']},\n",
       "  'number': 'KM 376',\n",
       "  'callSign': 'KMM376',\n",
       "  'status': 'Arrived',\n",
       "  'codeshareStatus': 'IsOperator',\n",
       "  'isCargo': False,\n",
       "  'aircraft': {'reg': '9H-AEP', 'modeS': '4D2026', 'model': 'Airbus A320'},\n",
       "  'airline': {'name': 'KM Malta', 'iata': 'KM', 'icao': 'KMM'}},\n",
       " {'departure': {'airport': {'icao': 'EGLL',\n",
       "    'iata': 'LHR',\n",
       "    'name': 'London',\n",
       "    'timeZone': 'Europe/London'},\n",
       "   'scheduledTime': {'utc': '2024-10-08 06:20Z',\n",
       "    'local': '2024-10-08 07:20+01:00'},\n",
       "   'revisedTime': {'utc': '2024-10-08 06:30Z',\n",
       "    'local': '2024-10-08 07:30+01:00'},\n",
       "   'runwayTime': {'utc': '2024-10-08 06:31Z',\n",
       "    'local': '2024-10-08 07:31+01:00'},\n",
       "   'terminal': '5',\n",
       "   'checkInDesk': 'D',\n",
       "   'quality': ['Basic', 'Live']},\n",
       "  'arrival': {'scheduledTime': {'utc': '2024-10-08 08:10Z',\n",
       "    'local': '2024-10-08 10:10+02:00'},\n",
       "   'revisedTime': {'utc': '2024-10-08 07:49Z',\n",
       "    'local': '2024-10-08 09:49+02:00'},\n",
       "   'runwayTime': {'utc': '2024-10-08 07:56Z',\n",
       "    'local': '2024-10-08 09:56+02:00'},\n",
       "   'terminal': '1',\n",
       "   'gate': 'X01',\n",
       "   'baggageBelt': 'A3',\n",
       "   'quality': ['Basic', 'Live']},\n",
       "  'number': 'BA 990',\n",
       "  'callSign': 'BAW990G',\n",
       "  'status': 'Arrived',\n",
       "  'codeshareStatus': 'IsOperator',\n",
       "  'isCargo': False,\n",
       "  'aircraft': {'reg': 'G-TTNM', 'modeS': '407930', 'model': 'Airbus A320 NEO'},\n",
       "  'airline': {'name': 'British Airways', 'iata': 'BA', 'icao': 'BAW'}},\n",
       " {'departure': {'airport': {'icao': 'EHAM',\n",
       "    'iata': 'AMS',\n",
       "    'name': 'Amsterdam',\n",
       "    'timeZone': 'Europe/Amsterdam'},\n",
       "   'scheduledTime': {'utc': '2024-10-08 06:45Z',\n",
       "    'local': '2024-10-08 08:45+02:00'},\n",
       "   'revisedTime': {'utc': '2024-10-08 06:46Z',\n",
       "    'local': '2024-10-08 08:46+02:00'},\n",
       "   'runwayTime': {'utc': '2024-10-08 06:56Z',\n",
       "    'local': '2024-10-08 08:56+02:00'},\n",
       "   'terminal': '1',\n",
       "   'checkInDesk': '6-8',\n",
       "   'gate': 'B6',\n",
       "   'quality': ['Basic', 'Live']},\n",
       "  'arrival': {'scheduledTime': {'utc': '2024-10-08 08:05Z',\n",
       "    'local': '2024-10-08 10:05+02:00'},\n",
       "   'revisedTime': {'utc': '2024-10-08 07:54Z',\n",
       "    'local': '2024-10-08 09:54+02:00'},\n",
       "   'runwayTime': {'utc': '2024-10-08 07:59Z',\n",
       "    'local': '2024-10-08 09:59+02:00'},\n",
       "   'terminal': '1',\n",
       "   'gate': 'A30',\n",
       "   'baggageBelt': 'A2',\n",
       "   'quality': ['Basic', 'Live']},\n",
       "  'number': 'KL 1773',\n",
       "  'callSign': 'KLM31X',\n",
       "  'status': 'Arrived',\n",
       "  'codeshareStatus': 'IsOperator',\n",
       "  'isCargo': False,\n",
       "  'aircraft': {'reg': 'D-AJHW', 'modeS': '3C6917', 'model': 'Embraer 190'},\n",
       "  'airline': {'name': 'KLM', 'iata': 'KL', 'icao': 'KLM'}},\n",
       " {'departure': {'airport': {'icao': 'EIDW',\n",
       "    'iata': 'DUB',\n",
       "    'name': 'Dublin',\n",
       "    'timeZone': 'Europe/Dublin'},\n",
       "   'scheduledTime': {'utc': '2024-10-08 05:40Z',\n",
       "    'local': '2024-10-08 06:40+01:00'},\n",
       "   'revisedTime': {'utc': '2024-10-08 05:40Z',\n",
       "    'local': '2024-10-08 06:40+01:00'},\n",
       "   'runwayTime': {'utc': '2024-10-08 06:10Z',\n",
       "    'local': '2024-10-08 07:10+01:00'},\n",
       "   'terminal': '2',\n",
       "   'checkInDesk': '29-56',\n",
       "   'gate': '417',\n",
       "   'runway': '10',\n",
       "   'quality': ['Basic', 'Live']},\n",
       "  'arrival': {'scheduledTime': {'utc': '2024-10-08 08:00Z',\n",
       "    'local': '2024-10-08 10:00+02:00'},\n",
       "   'revisedTime': {'utc': '2024-10-08 07:57Z',\n",
       "    'local': '2024-10-08 09:57+02:00'},\n",
       "   'terminal': '1',\n",
       "   'gate': 'X02',\n",
       "   'baggageBelt': 'A4',\n",
       "   'quality': ['Basic', 'Live']},\n",
       "  'number': 'EI 332',\n",
       "  'callSign': 'EIN3JE',\n",
       "  'status': 'Arrived',\n",
       "  'codeshareStatus': 'IsOperator',\n",
       "  'isCargo': False,\n",
       "  'aircraft': {'reg': 'EI-DEI', 'modeS': '4CA281', 'model': 'Airbus A320'},\n",
       "  'airline': {'name': 'Aer Lingus', 'iata': 'EI', 'icao': 'EIN'}},\n",
       " {'departure': {'airport': {'icao': 'LSZH',\n",
       "    'iata': 'ZRH',\n",
       "    'name': 'Zurich',\n",
       "    'timeZone': 'Europe/Zurich'},\n",
       "   'scheduledTime': {'utc': '2024-10-08 06:40Z',\n",
       "    'local': '2024-10-08 08:40+02:00'},\n",
       "   'revisedTime': {'utc': '2024-10-08 06:40Z',\n",
       "    'local': '2024-10-08 08:40+02:00'},\n",
       "   'runwayTime': {'utc': '2024-10-08 06:55Z',\n",
       "    'local': '2024-10-08 08:55+02:00'},\n",
       "   'checkInDesk': '1',\n",
       "   'gate': 'A56',\n",
       "   'quality': ['Basic', 'Live']},\n",
       "  'arrival': {'scheduledTime': {'utc': '2024-10-08 08:05Z',\n",
       "    'local': '2024-10-08 10:05+02:00'},\n",
       "   'revisedTime': {'utc': '2024-10-08 07:59Z',\n",
       "    'local': '2024-10-08 09:59+02:00'},\n",
       "   'terminal': '1',\n",
       "   'gate': 'B06',\n",
       "   'baggageBelt': 'B4',\n",
       "   'quality': ['Basic', 'Live']},\n",
       "  'number': 'LX 976',\n",
       "  'callSign': 'SWR2HD',\n",
       "  'status': 'Arrived',\n",
       "  'codeshareStatus': 'IsOperator',\n",
       "  'isCargo': False,\n",
       "  'aircraft': {'reg': 'HB-JCB', 'modeS': '4B17F9', 'model': 'Airbus A220-300'},\n",
       "  'airline': {'name': 'SWISS', 'iata': 'LX', 'icao': 'SWR'}},\n",
       " {'departure': {'airport': {'icao': 'EDDM',\n",
       "    'iata': 'MUC',\n",
       "    'name': 'Munich',\n",
       "    'timeZone': 'Europe/Berlin'},\n",
       "   'scheduledTime': {'utc': '2024-10-08 07:00Z',\n",
       "    'local': '2024-10-08 09:00+02:00'},\n",
       "   'revisedTime': {'utc': '2024-10-08 07:00Z',\n",
       "    'local': '2024-10-08 09:00+02:00'},\n",
       "   'terminal': '2',\n",
       "   'quality': ['Basic', 'Live']},\n",
       "  'arrival': {'scheduledTime': {'utc': '2024-10-08 08:05Z',\n",
       "    'local': '2024-10-08 10:05+02:00'},\n",
       "   'revisedTime': {'utc': '2024-10-08 08:01Z',\n",
       "    'local': '2024-10-08 10:01+02:00'},\n",
       "   'terminal': '1',\n",
       "   'gate': 'B10',\n",
       "   'baggageBelt': 'B1',\n",
       "   'quality': ['Basic', 'Live']},\n",
       "  'number': 'LH 1934',\n",
       "  'callSign': 'DLH5T',\n",
       "  'status': 'Arrived',\n",
       "  'codeshareStatus': 'IsOperator',\n",
       "  'isCargo': False,\n",
       "  'aircraft': {'reg': 'D-AIBE', 'modeS': '3C6445', 'model': 'Airbus A319'},\n",
       "  'airline': {'name': 'Lufthansa', 'iata': 'LH', 'icao': 'DLH'}},\n",
       " {'departure': {'airport': {'icao': 'LEMD',\n",
       "    'iata': 'MAD',\n",
       "    'name': 'Madrid',\n",
       "    'timeZone': 'Europe/Madrid'},\n",
       "   'scheduledTime': {'utc': '2024-10-08 05:30Z',\n",
       "    'local': '2024-10-08 07:30+02:00'},\n",
       "   'revisedTime': {'utc': '2024-10-08 05:32Z',\n",
       "    'local': '2024-10-08 07:32+02:00'},\n",
       "   'runwayTime': {'utc': '2024-10-08 05:50Z',\n",
       "    'local': '2024-10-08 07:50+02:00'},\n",
       "   'terminal': '4',\n",
       "   'checkInDesk': '850-859',\n",
       "   'gate': 'K73',\n",
       "   'runway': '14L',\n",
       "   'quality': ['Basic', 'Live']},\n",
       "  'arrival': {'scheduledTime': {'utc': '2024-10-08 08:35Z',\n",
       "    'local': '2024-10-08 10:35+02:00'},\n",
       "   'revisedTime': {'utc': '2024-10-08 08:09Z',\n",
       "    'local': '2024-10-08 10:09+02:00'},\n",
       "   'terminal': '1',\n",
       "   'gate': 'A34',\n",
       "   'baggageBelt': 'A4',\n",
       "   'quality': ['Basic', 'Live']},\n",
       "  'number': 'I2 3676',\n",
       "  'callSign': 'IBS36YR',\n",
       "  'status': 'Arrived',\n",
       "  'codeshareStatus': 'IsOperator',\n",
       "  'isCargo': False,\n",
       "  'aircraft': {'reg': 'EC-OBY', 'modeS': '34754C', 'model': 'Airbus A321 NEO'},\n",
       "  'airline': {'name': 'Iberia Express', 'iata': 'I2', 'icao': 'IBS'}},\n",
       " {'departure': {'airport': {'icao': 'EDDS',\n",
       "    'iata': 'STR',\n",
       "    'name': 'Stuttgart',\n",
       "    'timeZone': 'Europe/Berlin'},\n",
       "   'scheduledTime': {'utc': '2024-10-08 07:00Z',\n",
       "    'local': '2024-10-08 09:00+02:00'},\n",
       "   'revisedTime': {'utc': '2024-10-08 07:00Z',\n",
       "    'local': '2024-10-08 09:00+02:00'},\n",
       "   'terminal': '3',\n",
       "   'gate': '140',\n",
       "   'quality': ['Basic', 'Live']},\n",
       "  'arrival': {'scheduledTime': {'utc': '2024-10-08 08:10Z',\n",
       "    'local': '2024-10-08 10:10+02:00'},\n",
       "   'revisedTime': {'utc': '2024-10-08 08:12Z',\n",
       "    'local': '2024-10-08 10:12+02:00'},\n",
       "   'terminal': '1',\n",
       "   'gate': 'A35',\n",
       "   'baggageBelt': 'A1',\n",
       "   'quality': ['Basic', 'Live']},\n",
       "  'number': 'EW 8001',\n",
       "  'status': 'Arrived',\n",
       "  'codeshareStatus': 'IsOperator',\n",
       "  'isCargo': False,\n",
       "  'aircraft': {'reg': 'D-ABGN', 'modeS': '3C48EE', 'model': 'Airbus A319'},\n",
       "  'airline': {'name': 'Eurowings', 'iata': 'EW', 'icao': 'EWG'}},\n",
       " {'departure': {'airport': {'icao': 'EDDS',\n",
       "    'iata': 'STR',\n",
       "    'name': 'Stuttgart',\n",
       "    'timeZone': 'Europe/Berlin'},\n",
       "   'scheduledTime': {'utc': '2024-10-08 07:00Z',\n",
       "    'local': '2024-10-08 09:00+02:00'},\n",
       "   'revisedTime': {'utc': '2024-10-08 07:00Z',\n",
       "    'local': '2024-10-08 09:00+02:00'},\n",
       "   'terminal': '3',\n",
       "   'gate': '140',\n",
       "   'quality': ['Basic', 'Live']},\n",
       "  'arrival': {'scheduledTime': {'utc': '2024-10-08 08:10Z',\n",
       "    'local': '2024-10-08 10:10+02:00'},\n",
       "   'revisedTime': {'utc': '2024-10-08 08:12Z',\n",
       "    'local': '2024-10-08 10:12+02:00'},\n",
       "   'terminal': '1',\n",
       "   'gate': 'A35',\n",
       "   'baggageBelt': 'A1',\n",
       "   'quality': ['Basic', 'Live']},\n",
       "  'number': 'LH 5392',\n",
       "  'status': 'Arrived',\n",
       "  'codeshareStatus': 'IsCodeshared',\n",
       "  'isCargo': False,\n",
       "  'aircraft': {'reg': 'D-ABGN', 'modeS': '3C48EE', 'model': 'Airbus A319'},\n",
       "  'airline': {'name': 'Lufthansa', 'iata': 'LH', 'icao': 'DLH'}},\n",
       " {'departure': {'airport': {'icao': 'EDDF',\n",
       "    'iata': 'FRA',\n",
       "    'name': 'Frankfurt-am-Main',\n",
       "    'timeZone': 'Europe/Berlin'},\n",
       "   'scheduledTime': {'utc': '2024-10-08 06:45Z',\n",
       "    'local': '2024-10-08 08:45+02:00'},\n",
       "   'revisedTime': {'utc': '2024-10-08 07:00Z',\n",
       "    'local': '2024-10-08 09:00+02:00'},\n",
       "   'runwayTime': {'utc': '2024-10-08 07:30Z',\n",
       "    'local': '2024-10-08 09:30+02:00'},\n",
       "   'terminal': '1',\n",
       "   'checkInDesk': '259-335',\n",
       "   'gate': 'A17',\n",
       "   'runway': '18',\n",
       "   'quality': ['Basic', 'Live']},\n",
       "  'arrival': {'scheduledTime': {'utc': '2024-10-08 07:55Z',\n",
       "    'local': '2024-10-08 09:55+02:00'},\n",
       "   'revisedTime': {'utc': '2024-10-08 08:13Z',\n",
       "    'local': '2024-10-08 10:13+02:00'},\n",
       "   'terminal': '1',\n",
       "   'gate': 'B07',\n",
       "   'baggageBelt': 'B4',\n",
       "   'quality': ['Basic', 'Live']},\n",
       "  'number': 'LH 176',\n",
       "  'callSign': 'DLH7PK',\n",
       "  'status': 'Arrived',\n",
       "  'codeshareStatus': 'IsOperator',\n",
       "  'isCargo': False,\n",
       "  'aircraft': {'reg': 'D-AISL', 'modeS': '3C666C', 'model': 'Airbus A321'},\n",
       "  'airline': {'name': 'Lufthansa', 'iata': 'LH', 'icao': 'DLH'}},\n",
       " {'departure': {'airport': {'icao': 'LOWW',\n",
       "    'iata': 'VIE',\n",
       "    'name': 'Vienna',\n",
       "    'timeZone': 'Europe/Vienna'},\n",
       "   'scheduledTime': {'utc': '2024-10-08 07:15Z',\n",
       "    'local': '2024-10-08 09:15+02:00'},\n",
       "   'revisedTime': {'utc': '2024-10-08 07:24Z',\n",
       "    'local': '2024-10-08 09:24+02:00'},\n",
       "   'runwayTime': {'utc': '2024-10-08 07:25Z',\n",
       "    'local': '2024-10-08 09:25+02:00'},\n",
       "   'terminal': '3',\n",
       "   'checkInDesk': '351-372',\n",
       "   'gate': 'F17',\n",
       "   'runway': '29',\n",
       "   'quality': ['Basic', 'Live']},\n",
       "  'arrival': {'scheduledTime': {'utc': '2024-10-08 08:25Z',\n",
       "    'local': '2024-10-08 10:25+02:00'},\n",
       "   'revisedTime': {'utc': '2024-10-08 08:15Z',\n",
       "    'local': '2024-10-08 10:15+02:00'},\n",
       "   'terminal': '1',\n",
       "   'gate': 'B17',\n",
       "   'baggageBelt': 'B4',\n",
       "   'quality': ['Basic', 'Live']},\n",
       "  'number': 'OS 225',\n",
       "  'callSign': 'AUA225S',\n",
       "  'status': 'Arrived',\n",
       "  'codeshareStatus': 'IsOperator',\n",
       "  'isCargo': False,\n",
       "  'aircraft': {'reg': 'OE-LWN', 'modeS': '44082A', 'model': 'Embraer 195'},\n",
       "  'airline': {'name': 'Austrian', 'iata': 'OS', 'icao': 'AUA'}},\n",
       " {'departure': {'airport': {'icao': 'EHAM',\n",
       "    'iata': 'AMS',\n",
       "    'name': 'Amsterdam',\n",
       "    'timeZone': 'Europe/Amsterdam'},\n",
       "   'scheduledTime': {'utc': '2024-10-08 07:05Z',\n",
       "    'local': '2024-10-08 09:05+02:00'},\n",
       "   'revisedTime': {'utc': '2024-10-08 07:09Z',\n",
       "    'local': '2024-10-08 09:09+02:00'},\n",
       "   'runwayTime': {'utc': '2024-10-08 07:19Z',\n",
       "    'local': '2024-10-08 09:19+02:00'},\n",
       "   'terminal': '3',\n",
       "   'checkInDesk': '26',\n",
       "   'gate': 'M4',\n",
       "   'runway': '18L',\n",
       "   'quality': ['Basic', 'Live']},\n",
       "  'arrival': {'scheduledTime': {'utc': '2024-10-08 08:30Z',\n",
       "    'local': '2024-10-08 10:30+02:00'},\n",
       "   'revisedTime': {'utc': '2024-10-08 08:18Z',\n",
       "    'local': '2024-10-08 10:18+02:00'},\n",
       "   'runwayTime': {'utc': '2024-10-08 08:33Z',\n",
       "    'local': '2024-10-08 10:33+02:00'},\n",
       "   'terminal': '1',\n",
       "   'gate': 'S01',\n",
       "   'baggageBelt': 'B2',\n",
       "   'quality': ['Basic', 'Live']},\n",
       "  'number': 'U2 5282',\n",
       "  'callSign': 'EJU42KM',\n",
       "  'status': 'Arrived',\n",
       "  'codeshareStatus': 'IsOperator',\n",
       "  'isCargo': False,\n",
       "  'aircraft': {'reg': 'OE-IBS', 'modeS': '440D10', 'model': 'Airbus A320'},\n",
       "  'airline': {'name': 'easyJet', 'iata': 'U2', 'icao': 'EZY'}},\n",
       " {'departure': {'airport': {'icao': 'EHAM',\n",
       "    'iata': 'AMS',\n",
       "    'name': 'Amsterdam',\n",
       "    'timeZone': 'Europe/Amsterdam'},\n",
       "   'scheduledTime': {'utc': '2024-10-08 07:05Z',\n",
       "    'local': '2024-10-08 09:05+02:00'},\n",
       "   'revisedTime': {'utc': '2024-10-08 07:09Z',\n",
       "    'local': '2024-10-08 09:09+02:00'},\n",
       "   'runwayTime': {'utc': '2024-10-08 07:19Z',\n",
       "    'local': '2024-10-08 09:19+02:00'},\n",
       "   'terminal': '3',\n",
       "   'checkInDesk': '26',\n",
       "   'gate': 'M4',\n",
       "   'runway': '18L',\n",
       "   'quality': ['Basic', 'Live']},\n",
       "  'arrival': {'scheduledTime': {'utc': '2024-10-08 08:30Z',\n",
       "    'local': '2024-10-08 10:30+02:00'},\n",
       "   'revisedTime': {'utc': '2024-10-08 08:18Z',\n",
       "    'local': '2024-10-08 10:18+02:00'},\n",
       "   'runwayTime': {'utc': '2024-10-08 08:33Z',\n",
       "    'local': '2024-10-08 10:33+02:00'},\n",
       "   'terminal': '1',\n",
       "   'gate': 'S01',\n",
       "   'baggageBelt': 'B2',\n",
       "   'quality': ['Basic', 'Live']},\n",
       "  'number': 'EC 5282',\n",
       "  'callSign': 'EJU42KM',\n",
       "  'status': 'Arrived',\n",
       "  'codeshareStatus': 'IsCodeshared',\n",
       "  'isCargo': False,\n",
       "  'aircraft': {'reg': 'OE-IBS', 'modeS': '440D10', 'model': 'Airbus A320'},\n",
       "  'airline': {'name': 'EasyJet Europe', 'iata': 'EC', 'icao': 'EJU'}},\n",
       " {'departure': {'airport': {'icao': 'EVRA',\n",
       "    'iata': 'RIX',\n",
       "    'name': 'Riga',\n",
       "    'timeZone': 'Europe/Riga'},\n",
       "   'scheduledTime': {'utc': '2024-10-08 06:05Z',\n",
       "    'local': '2024-10-08 09:05+03:00'},\n",
       "   'revisedTime': {'utc': '2024-10-08 06:05Z',\n",
       "    'local': '2024-10-08 09:05+03:00'},\n",
       "   'terminal': 'B',\n",
       "   'gate': 'B4',\n",
       "   'quality': ['Basic', 'Live']},\n",
       "  'arrival': {'scheduledTime': {'utc': '2024-10-08 07:50Z',\n",
       "    'local': '2024-10-08 09:50+02:00'},\n",
       "   'revisedTime': {'utc': '2024-10-08 08:19Z',\n",
       "    'local': '2024-10-08 10:19+02:00'},\n",
       "   'terminal': '2',\n",
       "   'gate': 'Z34',\n",
       "   'baggageBelt': 'C1',\n",
       "   'quality': ['Basic', 'Live']},\n",
       "  'number': 'FR 2600',\n",
       "  'callSign': 'RYR2600',\n",
       "  'status': 'Arrived',\n",
       "  'codeshareStatus': 'IsOperator',\n",
       "  'isCargo': False,\n",
       "  'aircraft': {'reg': 'EI-IGK',\n",
       "   'modeS': '4CADBD',\n",
       "   'model': 'Boeing 737 MAX 8'},\n",
       "  'airline': {'name': 'Ryanair', 'iata': 'FR', 'icao': 'RYR'}},\n",
       " {'departure': {'airport': {'icao': 'UBBB',\n",
       "    'iata': 'GYD',\n",
       "    'name': 'Baku',\n",
       "    'timeZone': 'Asia/Baku'},\n",
       "   'scheduledTime': {'utc': '2024-10-08 03:30Z',\n",
       "    'local': '2024-10-08 07:30+04:00'},\n",
       "   'terminal': '1',\n",
       "   'quality': ['Basic']},\n",
       "  'arrival': {'scheduledTime': {'utc': '2024-10-08 08:35Z',\n",
       "    'local': '2024-10-08 10:35+02:00'},\n",
       "   'revisedTime': {'utc': '2024-10-08 08:27Z',\n",
       "    'local': '2024-10-08 10:27+02:00'},\n",
       "   'runwayTime': {'utc': '2024-10-08 08:36Z',\n",
       "    'local': '2024-10-08 10:36+02:00'},\n",
       "   'terminal': '1',\n",
       "   'gate': 'N01',\n",
       "   'baggageBelt': 'B3',\n",
       "   'quality': ['Basic', 'Live']},\n",
       "  'number': 'J2 63',\n",
       "  'callSign': 'AHY063',\n",
       "  'status': 'Arrived',\n",
       "  'codeshareStatus': 'IsOperator',\n",
       "  'isCargo': False,\n",
       "  'aircraft': {'reg': 'LY-JAM', 'modeS': '503D79', 'model': 'Airbus A320'},\n",
       "  'airline': {'name': 'AZAL Azerbaijan', 'iata': 'J2', 'icao': 'AHY'}},\n",
       " {'departure': {'airport': {'icao': 'LLBG',\n",
       "    'iata': 'TLV',\n",
       "    'name': 'Tel Aviv Yafo',\n",
       "    'timeZone': 'Asia/Jerusalem'},\n",
       "   'scheduledTime': {'utc': '2024-10-08 03:20Z',\n",
       "    'local': '2024-10-08 06:20+03:00'},\n",
       "   'terminal': '3',\n",
       "   'quality': ['Basic']},\n",
       "  'arrival': {'scheduledTime': {'utc': '2024-10-08 07:40Z',\n",
       "    'local': '2024-10-08 09:40+02:00'},\n",
       "   'revisedTime': {'utc': '2024-10-08 08:29Z',\n",
       "    'local': '2024-10-08 10:29+02:00'},\n",
       "   'runwayTime': {'utc': '2024-10-08 08:37Z',\n",
       "    'local': '2024-10-08 10:37+02:00'},\n",
       "   'terminal': '1',\n",
       "   'gate': 'X19',\n",
       "   'baggageBelt': 'A3',\n",
       "   'quality': ['Basic', 'Live']},\n",
       "  'number': 'LY 2371',\n",
       "  'callSign': 'ELY2371',\n",
       "  'status': 'Arrived',\n",
       "  'codeshareStatus': 'IsOperator',\n",
       "  'isCargo': False,\n",
       "  'aircraft': {'reg': '4X-EHB', 'modeS': '738051', 'model': 'Boeing 737'},\n",
       "  'airline': {'name': 'El Al', 'iata': 'LY', 'icao': 'ELY'}},\n",
       " {'departure': {'airport': {'icao': 'LTAI',\n",
       "    'iata': 'AYT',\n",
       "    'name': 'Antalya',\n",
       "    'timeZone': 'Europe/Istanbul'},\n",
       "   'scheduledTime': {'utc': '2024-10-08 04:40Z',\n",
       "    'local': '2024-10-08 07:40+03:00'},\n",
       "   'revisedTime': {'utc': '2024-10-08 04:40Z',\n",
       "    'local': '2024-10-08 07:40+03:00'},\n",
       "   'terminal': '1',\n",
       "   'checkInDesk': '107-109',\n",
       "   'quality': ['Basic', 'Live']},\n",
       "  'arrival': {'scheduledTime': {'utc': '2024-10-08 08:10Z',\n",
       "    'local': '2024-10-08 10:10+02:00'},\n",
       "   'revisedTime': {'utc': '2024-10-08 08:33Z',\n",
       "    'local': '2024-10-08 10:33+02:00'},\n",
       "   'runwayTime': {'utc': '2024-10-08 08:40Z',\n",
       "    'local': '2024-10-08 10:40+02:00'},\n",
       "   'terminal': '1',\n",
       "   'gate': 'N01',\n",
       "   'baggageBelt': 'B3',\n",
       "   'quality': ['Basic', 'Live']},\n",
       "  'number': 'PC 5067',\n",
       "  'callSign': 'PGT4WR',\n",
       "  'status': 'Arrived',\n",
       "  'codeshareStatus': 'IsOperator',\n",
       "  'isCargo': False,\n",
       "  'aircraft': {'reg': 'TC-NBP',\n",
       "   'modeS': '4BB850',\n",
       "   'model': 'Airbus A321 (Sharklets)'},\n",
       "  'airline': {'name': 'Pegasus', 'iata': 'PC', 'icao': 'PGT'}},\n",
       " {'departure': {'airport': {'icao': 'LROP',\n",
       "    'iata': 'OTP',\n",
       "    'name': 'Bucharest',\n",
       "    'timeZone': 'Europe/Bucharest'},\n",
       "   'scheduledTime': {'utc': '2024-10-08 06:35Z',\n",
       "    'local': '2024-10-08 09:35+03:00'},\n",
       "   'revisedTime': {'utc': '2024-10-08 06:43Z',\n",
       "    'local': '2024-10-08 09:43+03:00'},\n",
       "   'runwayTime': {'utc': '2024-10-08 06:45Z',\n",
       "    'local': '2024-10-08 09:45+03:00'},\n",
       "   'quality': ['Basic', 'Live']},\n",
       "  'arrival': {'scheduledTime': {'utc': '2024-10-08 08:50Z',\n",
       "    'local': '2024-10-08 10:50+02:00'},\n",
       "   'revisedTime': {'utc': '2024-10-08 08:35Z',\n",
       "    'local': '2024-10-08 10:35+02:00'},\n",
       "   'runwayTime': {'utc': '2024-10-08 08:37Z',\n",
       "    'local': '2024-10-08 10:37+02:00'},\n",
       "   'terminal': '2',\n",
       "   'gate': 'Z36',\n",
       "   'baggageBelt': 'C2',\n",
       "   'quality': ['Basic', 'Live']},\n",
       "  'number': 'FR 315',\n",
       "  'callSign': 'RYR2D',\n",
       "  'status': 'Arrived',\n",
       "  'codeshareStatus': 'IsOperator',\n",
       "  'isCargo': False,\n",
       "  'aircraft': {'reg': '9H-QED', 'modeS': '4D224F', 'model': 'Boeing 737-800'},\n",
       "  'airline': {'name': 'Ryanair', 'iata': 'FR', 'icao': 'RYR'}},\n",
       " {'departure': {'airport': {'icao': 'LPFR',\n",
       "    'iata': 'FAO',\n",
       "    'name': 'Faro',\n",
       "    'timeZone': 'Europe/Lisbon'},\n",
       "   'scheduledTime': {'utc': '2024-10-08 05:20Z',\n",
       "    'local': '2024-10-08 06:20+01:00'},\n",
       "   'revisedTime': {'utc': '2024-10-08 05:31Z',\n",
       "    'local': '2024-10-08 06:31+01:00'},\n",
       "   'runwayTime': {'utc': '2024-10-08 05:35Z',\n",
       "    'local': '2024-10-08 06:35+01:00'},\n",
       "   'terminal': '1',\n",
       "   'quality': ['Basic', 'Live']},\n",
       "  'arrival': {'scheduledTime': {'utc': '2024-10-08 08:50Z',\n",
       "    'local': '2024-10-08 10:50+02:00'},\n",
       "   'revisedTime': {'utc': '2024-10-08 08:37Z',\n",
       "    'local': '2024-10-08 10:37+02:00'},\n",
       "   'runwayTime': {'utc': '2024-10-08 08:37Z',\n",
       "    'local': '2024-10-08 10:37+02:00'},\n",
       "   'terminal': '2',\n",
       "   'gate': 'Z30',\n",
       "   'baggageBelt': 'C3',\n",
       "   'runway': '25R',\n",
       "   'quality': ['Basic', 'Live']},\n",
       "  'number': 'FR 254',\n",
       "  'callSign': 'RYR17NM',\n",
       "  'status': 'Arrived',\n",
       "  'codeshareStatus': 'IsOperator',\n",
       "  'isCargo': False,\n",
       "  'aircraft': {'reg': 'EI-IHM',\n",
       "   'modeS': '4CADF7',\n",
       "   'model': 'Boeing 737 MAX 8'},\n",
       "  'airline': {'name': 'Ryanair', 'iata': 'FR', 'icao': 'RYR'}},\n",
       " {'departure': {'airport': {'icao': 'DTMB',\n",
       "    'iata': 'MIR',\n",
       "    'name': 'Monastir',\n",
       "    'timeZone': 'Africa/Tunis'},\n",
       "   'scheduledTime': {'utc': '2024-10-08 06:00Z',\n",
       "    'local': '2024-10-08 07:00+01:00'},\n",
       "   'revisedTime': {'utc': '2024-10-08 06:11Z',\n",
       "    'local': '2024-10-08 07:11+01:00'},\n",
       "   'checkInDesk': '39',\n",
       "   'gate': '10',\n",
       "   'quality': ['Basic', 'Live']},\n",
       "  'arrival': {'scheduledTime': {'utc': '2024-10-08 09:00Z',\n",
       "    'local': '2024-10-08 11:00+02:00'},\n",
       "   'revisedTime': {'utc': '2024-10-08 08:38Z',\n",
       "    'local': '2024-10-08 10:38+02:00'},\n",
       "   'terminal': '1',\n",
       "   'gate': 'X07',\n",
       "   'baggageBelt': 'A4',\n",
       "   'quality': ['Basic', 'Live']},\n",
       "  'number': 'BJ 248',\n",
       "  'callSign': 'LBT248',\n",
       "  'status': 'Arrived',\n",
       "  'codeshareStatus': 'IsOperator',\n",
       "  'isCargo': False,\n",
       "  'aircraft': {'reg': 'TS-INC', 'modeS': '02A1A2', 'model': 'Airbus A320'},\n",
       "  'airline': {'name': 'Nouvelair Tunisie', 'iata': 'BJ', 'icao': 'LBT'}},\n",
       " {'departure': {'airport': {'name': 'Unknown'}, 'quality': []},\n",
       "  'arrival': {'scheduledTime': {'utc': '2024-10-08 08:42Z',\n",
       "    'local': '2024-10-08 10:42+02:00'},\n",
       "   'revisedTime': {'utc': '2024-10-08 08:42Z',\n",
       "    'local': '2024-10-08 10:42+02:00'},\n",
       "   'runway': '25R',\n",
       "   'quality': ['Basic', 'Live']},\n",
       "  'number': 'SSR 89PB',\n",
       "  'callSign': 'SSR89PB',\n",
       "  'status': 'Approaching',\n",
       "  'codeshareStatus': 'IsOperator',\n",
       "  'isCargo': False,\n",
       "  'aircraft': {'reg': 'I-CNDG',\n",
       "   'modeS': '3003D0',\n",
       "   'model': 'Cessna 560 Citation Excel'},\n",
       "  'airline': {'name': 'SSR'}},\n",
       " {'departure': {'airport': {'icao': 'EPWA',\n",
       "    'iata': 'WAW',\n",
       "    'name': 'Warsaw',\n",
       "    'timeZone': 'Europe/Warsaw'},\n",
       "   'scheduledTime': {'utc': '2024-10-08 07:15Z',\n",
       "    'local': '2024-10-08 09:15+02:00'},\n",
       "   'revisedTime': {'utc': '2024-10-08 07:47Z',\n",
       "    'local': '2024-10-08 09:47+02:00'},\n",
       "   'runwayTime': {'utc': '2024-10-08 07:47Z',\n",
       "    'local': '2024-10-08 09:47+02:00'},\n",
       "   'runway': '15',\n",
       "   'quality': ['Basic', 'Live']},\n",
       "  'arrival': {'scheduledTime': {'utc': '2024-10-08 08:30Z',\n",
       "    'local': '2024-10-08 10:30+02:00'},\n",
       "   'revisedTime': {'utc': '2024-10-08 08:43Z',\n",
       "    'local': '2024-10-08 10:43+02:00'},\n",
       "   'terminal': '1',\n",
       "   'gate': 'A36',\n",
       "   'baggageBelt': 'A2',\n",
       "   'quality': ['Basic', 'Live']},\n",
       "  'number': 'LO 387',\n",
       "  'callSign': 'LOT7AE',\n",
       "  'status': 'Arrived',\n",
       "  'codeshareStatus': 'IsOperator',\n",
       "  'isCargo': False,\n",
       "  'aircraft': {'reg': 'SP-LNC', 'modeS': '48ADA2', 'model': 'Embraer 195'},\n",
       "  'airline': {'name': 'LOT - Polish', 'iata': 'LO', 'icao': 'LOT'}},\n",
       " {'departure': {'airport': {'icao': 'LGAV',\n",
       "    'iata': 'ATH',\n",
       "    'name': 'Athens',\n",
       "    'timeZone': 'Europe/Athens'},\n",
       "   'scheduledTime': {'utc': '2024-10-08 05:45Z',\n",
       "    'local': '2024-10-08 08:45+03:00'},\n",
       "   'revisedTime': {'utc': '2024-10-08 06:16Z',\n",
       "    'local': '2024-10-08 09:16+03:00'},\n",
       "   'runwayTime': {'utc': '2024-10-08 06:17Z',\n",
       "    'local': '2024-10-08 09:17+03:00'},\n",
       "   'terminal': 'D',\n",
       "   'checkInDesk': '148--153',\n",
       "   'gate': 'B27',\n",
       "   'runway': '03R',\n",
       "   'quality': ['Basic', 'Live']},\n",
       "  'arrival': {'scheduledTime': {'utc': '2024-10-08 08:40Z',\n",
       "    'local': '2024-10-08 10:40+02:00'},\n",
       "   'revisedTime': {'utc': '2024-10-08 08:46Z',\n",
       "    'local': '2024-10-08 10:46+02:00'},\n",
       "   'terminal': '1',\n",
       "   'gate': 'A33',\n",
       "   'baggageBelt': 'A1',\n",
       "   'quality': ['Basic', 'Live']},\n",
       "  'number': 'A3 820',\n",
       "  'callSign': 'AEE8RB',\n",
       "  'status': 'Arrived',\n",
       "  'codeshareStatus': 'IsOperator',\n",
       "  'isCargo': False,\n",
       "  'aircraft': {'reg': 'SX-NAB', 'modeS': '46B822', 'model': 'Airbus A321 NEO'},\n",
       "  'airline': {'name': 'Aegean', 'iata': 'A3', 'icao': 'AEE'}},\n",
       " {'departure': {'airport': {'icao': 'EBBR',\n",
       "    'iata': 'BRU',\n",
       "    'name': 'Brussels',\n",
       "    'timeZone': 'Europe/Brussels'},\n",
       "   'scheduledTime': {'utc': '2024-10-08 07:25Z',\n",
       "    'local': '2024-10-08 09:25+02:00'},\n",
       "   'revisedTime': {'utc': '2024-10-08 07:47Z',\n",
       "    'local': '2024-10-08 09:47+02:00'},\n",
       "   'runwayTime': {'utc': '2024-10-08 07:47Z',\n",
       "    'local': '2024-10-08 09:47+02:00'},\n",
       "   'checkInDesk': '05',\n",
       "   'runway': '25R',\n",
       "   'quality': ['Basic', 'Live']},\n",
       "  'arrival': {'scheduledTime': {'utc': '2024-10-08 08:50Z',\n",
       "    'local': '2024-10-08 10:50+02:00'},\n",
       "   'revisedTime': {'utc': '2024-10-08 08:50Z',\n",
       "    'local': '2024-10-08 10:50+02:00'},\n",
       "   'terminal': '1',\n",
       "   'gate': 'B02',\n",
       "   'baggageBelt': 'B1',\n",
       "   'quality': ['Basic', 'Live']},\n",
       "  'number': 'SN 2581',\n",
       "  'callSign': 'BEL8CE',\n",
       "  'status': 'Arrived',\n",
       "  'codeshareStatus': 'IsOperator',\n",
       "  'isCargo': False,\n",
       "  'aircraft': {'reg': 'OO-SNI', 'modeS': '44CDC9', 'model': 'Airbus A320-200'},\n",
       "  'airline': {'name': 'Brussels', 'iata': 'SN', 'icao': 'BEL'}},\n",
       " {'departure': {'airport': {'icao': 'LTAI',\n",
       "    'iata': 'AYT',\n",
       "    'name': 'Antalya',\n",
       "    'timeZone': 'Europe/Istanbul'},\n",
       "   'scheduledTime': {'utc': '2024-10-08 05:00Z',\n",
       "    'local': '2024-10-08 08:00+03:00'},\n",
       "   'revisedTime': {'utc': '2024-10-08 05:00Z',\n",
       "    'local': '2024-10-08 08:00+03:00'},\n",
       "   'terminal': '2',\n",
       "   'checkInDesk': '249-251',\n",
       "   'quality': ['Basic', 'Live']},\n",
       "  'arrival': {'scheduledTime': {'utc': '2024-10-08 08:35Z',\n",
       "    'local': '2024-10-08 10:35+02:00'},\n",
       "   'revisedTime': {'utc': '2024-10-08 08:54Z',\n",
       "    'local': '2024-10-08 10:54+02:00'},\n",
       "   'terminal': '1',\n",
       "   'gate': 'N01',\n",
       "   'baggageBelt': 'B2',\n",
       "   'quality': ['Basic', 'Live']},\n",
       "  'number': 'TI 7951',\n",
       "  'callSign': 'TWI7951',\n",
       "  'status': 'Arrived',\n",
       "  'codeshareStatus': 'IsOperator',\n",
       "  'isCargo': False,\n",
       "  'aircraft': {'reg': 'TC-TLE', 'modeS': '4BD185', 'model': 'Boeing 737'},\n",
       "  'airline': {'name': 'Tailwind', 'iata': 'TI', 'icao': 'TWI'}},\n",
       " {'departure': {'airport': {'icao': 'LFML',\n",
       "    'iata': 'MRS',\n",
       "    'name': 'Marseille',\n",
       "    'timeZone': 'Europe/Paris'},\n",
       "   'scheduledTime': {'utc': '2024-10-08 06:45Z',\n",
       "    'local': '2024-10-08 08:45+02:00'},\n",
       "   'revisedTime': {'utc': '2024-10-08 07:18Z',\n",
       "    'local': '2024-10-08 09:18+02:00'},\n",
       "   'runwayTime': {'utc': '2024-10-08 07:18Z',\n",
       "    'local': '2024-10-08 09:18+02:00'},\n",
       "   'terminal': '2',\n",
       "   'runway': '13L',\n",
       "   'quality': ['Basic', 'Live']},\n",
       "  'arrival': {'scheduledTime': {'utc': '2024-10-08 08:50Z',\n",
       "    'local': '2024-10-08 10:50+02:00'},\n",
       "   'revisedTime': {'utc': '2024-10-08 08:56Z',\n",
       "    'local': '2024-10-08 10:56+02:00'},\n",
       "   'terminal': '2',\n",
       "   'gate': 'Z36',\n",
       "   'baggageBelt': 'C1',\n",
       "   'quality': ['Basic', 'Live']},\n",
       "  'number': 'FR 3389',\n",
       "  'callSign': 'RYR2AK',\n",
       "  'status': 'Arrived',\n",
       "  'codeshareStatus': 'IsOperator',\n",
       "  'isCargo': False,\n",
       "  'aircraft': {'reg': '9H-VVO',\n",
       "   'modeS': '4D2501',\n",
       "   'model': 'Boeing 737 MAX 8 '},\n",
       "  'airline': {'name': 'Ryanair', 'iata': 'FR', 'icao': 'RYR'}},\n",
       " {'departure': {'airport': {'icao': 'EDDF',\n",
       "    'iata': 'FRA',\n",
       "    'name': 'Frankfurt-am-Main',\n",
       "    'timeZone': 'Europe/Berlin'},\n",
       "   'scheduledTime': {'utc': '2024-10-08 07:45Z',\n",
       "    'local': '2024-10-08 09:45+02:00'},\n",
       "   'revisedTime': {'utc': '2024-10-08 07:45Z',\n",
       "    'local': '2024-10-08 09:45+02:00'},\n",
       "   'runwayTime': {'utc': '2024-10-08 08:11Z',\n",
       "    'local': '2024-10-08 10:11+02:00'},\n",
       "   'terminal': '1',\n",
       "   'checkInDesk': '259-335',\n",
       "   'gate': 'A14',\n",
       "   'quality': ['Basic', 'Live']},\n",
       "  'arrival': {'scheduledTime': {'utc': '2024-10-08 08:55Z',\n",
       "    'local': '2024-10-08 10:55+02:00'},\n",
       "   'revisedTime': {'utc': '2024-10-08 08:58Z',\n",
       "    'local': '2024-10-08 10:58+02:00'},\n",
       "   'terminal': '1',\n",
       "   'gate': 'A10',\n",
       "   'baggageBelt': 'A2',\n",
       "   'quality': ['Basic', 'Live']},\n",
       "  'number': 'LH 178',\n",
       "  'callSign': 'DLH178',\n",
       "  'status': 'Arrived',\n",
       "  'codeshareStatus': 'IsOperator',\n",
       "  'isCargo': False,\n",
       "  'aircraft': {'reg': 'D-AISU', 'modeS': '3C6675', 'model': 'Airbus A321'},\n",
       "  'airline': {'name': 'Lufthansa', 'iata': 'LH', 'icao': 'DLH'}},\n",
       " {'departure': {'airport': {'icao': 'LTAI',\n",
       "    'iata': 'AYT',\n",
       "    'name': 'Antalya',\n",
       "    'timeZone': 'Europe/Istanbul'},\n",
       "   'scheduledTime': {'utc': '2024-10-08 05:20Z',\n",
       "    'local': '2024-10-08 08:20+03:00'},\n",
       "   'revisedTime': {'utc': '2024-10-08 05:20Z',\n",
       "    'local': '2024-10-08 08:20+03:00'},\n",
       "   'terminal': '2',\n",
       "   'checkInDesk': '252-254',\n",
       "   'quality': ['Basic', 'Live']},\n",
       "  'arrival': {'scheduledTime': {'utc': '2024-10-08 08:40Z',\n",
       "    'local': '2024-10-08 10:40+02:00'},\n",
       "   'revisedTime': {'utc': '2024-10-08 09:01Z',\n",
       "    'local': '2024-10-08 11:01+02:00'},\n",
       "   'terminal': '1',\n",
       "   'gate': 'X06',\n",
       "   'baggageBelt': 'A4',\n",
       "   'quality': ['Basic', 'Live']},\n",
       "  'number': 'FH 1281',\n",
       "  'callSign': 'FHY1281',\n",
       "  'status': 'Arrived',\n",
       "  'codeshareStatus': 'IsOperator',\n",
       "  'isCargo': False,\n",
       "  'aircraft': {'reg': 'TC-FBO', 'modeS': '4B984F', 'model': 'Airbus A320'},\n",
       "  'airline': {'name': 'Freebird', 'iata': 'FH', 'icao': 'FHY'}},\n",
       " {'departure': {'airport': {'icao': 'LTFJ',\n",
       "    'iata': 'SAW',\n",
       "    'name': 'Istanbul',\n",
       "    'timeZone': 'Europe/Istanbul'},\n",
       "   'scheduledTime': {'utc': '2024-10-08 06:25Z',\n",
       "    'local': '2024-10-08 09:25+03:00'},\n",
       "   'quality': ['Basic']},\n",
       "  'arrival': {'scheduledTime': {'utc': '2024-10-08 09:20Z',\n",
       "    'local': '2024-10-08 11:20+02:00'},\n",
       "   'revisedTime': {'utc': '2024-10-08 09:05Z',\n",
       "    'local': '2024-10-08 11:05+02:00'},\n",
       "   'terminal': '1',\n",
       "   'gate': 'Y10',\n",
       "   'baggageBelt': 'B3',\n",
       "   'quality': ['Basic', 'Live']},\n",
       "  'number': 'VF 57',\n",
       "  'status': 'Arrived',\n",
       "  'codeshareStatus': 'IsOperator',\n",
       "  'isCargo': False,\n",
       "  'aircraft': {'reg': '9H-SLG', 'modeS': '4D2312', 'model': 'Airbus A321'},\n",
       "  'airline': {'name': 'Ajet', 'iata': 'VF', 'icao': 'VLU'}},\n",
       " {'departure': {'airport': {'icao': 'EGPH',\n",
       "    'iata': 'EDI',\n",
       "    'name': 'Edinburgh',\n",
       "    'timeZone': 'Europe/London'},\n",
       "   'scheduledTime': {'utc': '2024-10-08 06:40Z',\n",
       "    'local': '2024-10-08 07:40+01:00'},\n",
       "   'revisedTime': {'utc': '2024-10-08 07:17Z',\n",
       "    'local': '2024-10-08 08:17+01:00'},\n",
       "   'runwayTime': {'utc': '2024-10-08 07:18Z',\n",
       "    'local': '2024-10-08 08:18+01:00'},\n",
       "   'runway': '06',\n",
       "   'quality': ['Basic', 'Live']},\n",
       "  'arrival': {'scheduledTime': {'utc': '2024-10-08 08:40Z',\n",
       "    'local': '2024-10-08 10:40+02:00'},\n",
       "   'revisedTime': {'utc': '2024-10-08 09:08Z',\n",
       "    'local': '2024-10-08 11:08+02:00'},\n",
       "   'runwayTime': {'utc': '2024-10-08 09:08Z',\n",
       "    'local': '2024-10-08 11:08+02:00'},\n",
       "   'terminal': '2',\n",
       "   'gate': 'Z42',\n",
       "   'baggageBelt': 'C2',\n",
       "   'runway': '25R',\n",
       "   'quality': ['Basic', 'Live']},\n",
       "  'number': 'FR 2376',\n",
       "  'callSign': 'RYR2376',\n",
       "  'status': 'Arrived',\n",
       "  'codeshareStatus': 'IsOperator',\n",
       "  'isCargo': False,\n",
       "  'aircraft': {'reg': '9H-QBP', 'modeS': '4D220C', 'model': 'Boeing 737-800'},\n",
       "  'airline': {'name': 'Ryanair', 'iata': 'FR', 'icao': 'RYR'}},\n",
       " {'departure': {'airport': {'icao': 'LTFJ',\n",
       "    'iata': 'SAW',\n",
       "    'name': 'Istanbul',\n",
       "    'timeZone': 'Europe/Istanbul'},\n",
       "   'quality': []},\n",
       "  'arrival': {'scheduledTime': {'utc': '2024-10-08 09:10Z',\n",
       "    'local': '2024-10-08 11:10+02:00'},\n",
       "   'revisedTime': {'utc': '2024-10-08 09:10Z',\n",
       "    'local': '2024-10-08 11:10+02:00'},\n",
       "   'runwayTime': {'utc': '2024-10-08 09:10Z',\n",
       "    'local': '2024-10-08 11:10+02:00'},\n",
       "   'quality': ['Basic', 'Live']},\n",
       "  'number': 'TKJ 86N',\n",
       "  'callSign': 'TKJ86N',\n",
       "  'status': 'Arrived',\n",
       "  'codeshareStatus': 'IsOperator',\n",
       "  'isCargo': False,\n",
       "  'aircraft': {'reg': '9H-SLG', 'modeS': '4D2312', 'model': 'Airbus A321'},\n",
       "  'airline': {'name': 'TKJ'}},\n",
       " {'departure': {'airport': {'icao': 'EGLC',\n",
       "    'iata': 'LCY',\n",
       "    'name': 'London',\n",
       "    'timeZone': 'Europe/London'},\n",
       "   'scheduledTime': {'utc': '2024-10-08 07:25Z',\n",
       "    'local': '2024-10-08 08:25+01:00'},\n",
       "   'revisedTime': {'utc': '2024-10-08 07:44Z',\n",
       "    'local': '2024-10-08 08:44+01:00'},\n",
       "   'runwayTime': {'utc': '2024-10-08 07:53Z',\n",
       "    'local': '2024-10-08 08:53+01:00'},\n",
       "   'gate': '7',\n",
       "   'runway': '27',\n",
       "   'quality': ['Basic', 'Live']},\n",
       "  'arrival': {'scheduledTime': {'utc': '2024-10-08 09:10Z',\n",
       "    'local': '2024-10-08 11:10+02:00'},\n",
       "   'revisedTime': {'utc': '2024-10-08 09:10Z',\n",
       "    'local': '2024-10-08 11:10+02:00'},\n",
       "   'terminal': '1',\n",
       "   'gate': 'X03',\n",
       "   'baggageBelt': 'A3',\n",
       "   'quality': ['Basic', 'Live']},\n",
       "  'number': 'BA 8491',\n",
       "  'callSign': 'CFE76JZ',\n",
       "  'status': 'Arrived',\n",
       "  'codeshareStatus': 'IsOperator',\n",
       "  'isCargo': False,\n",
       "  'aircraft': {'reg': 'G-LCAH', 'modeS': '4079D3', 'model': 'Embraer 190'},\n",
       "  'airline': {'name': 'British Airways', 'iata': 'BA', 'icao': 'BAW'}},\n",
       " {'departure': {'airport': {'icao': 'EDDS',\n",
       "    'iata': 'STR',\n",
       "    'name': 'Stuttgart',\n",
       "    'timeZone': 'Europe/Berlin'},\n",
       "   'scheduledTime': {'utc': '2024-10-08 08:00Z',\n",
       "    'local': '2024-10-08 10:00+02:00'},\n",
       "   'revisedTime': {'utc': '2024-10-08 08:00Z',\n",
       "    'local': '2024-10-08 10:00+02:00'},\n",
       "   'terminal': '3',\n",
       "   'gate': '325',\n",
       "   'quality': ['Basic', 'Live']},\n",
       "  'arrival': {'scheduledTime': {'utc': '2024-10-08 09:10Z',\n",
       "    'local': '2024-10-08 11:10+02:00'},\n",
       "   'revisedTime': {'utc': '2024-10-08 09:14Z',\n",
       "    'local': '2024-10-08 11:14+02:00'},\n",
       "   'terminal': '1',\n",
       "   'gate': 'A37',\n",
       "   'baggageBelt': 'A2',\n",
       "   'quality': ['Basic', 'Live']},\n",
       "  'number': 'LH 5389',\n",
       "  'status': 'Arrived',\n",
       "  'codeshareStatus': 'IsCodeshared',\n",
       "  'isCargo': False,\n",
       "  'aircraft': {'reg': 'D-AGWD', 'modeS': '3C5EE4', 'model': 'Airbus A319'},\n",
       "  'airline': {'name': 'Lufthansa', 'iata': 'LH', 'icao': 'DLH'}},\n",
       " {'departure': {'airport': {'icao': 'EDDS',\n",
       "    'iata': 'STR',\n",
       "    'name': 'Stuttgart',\n",
       "    'timeZone': 'Europe/Berlin'},\n",
       "   'scheduledTime': {'utc': '2024-10-08 08:00Z',\n",
       "    'local': '2024-10-08 10:00+02:00'},\n",
       "   'revisedTime': {'utc': '2024-10-08 08:00Z',\n",
       "    'local': '2024-10-08 10:00+02:00'},\n",
       "   'terminal': '3',\n",
       "   'gate': '325',\n",
       "   'quality': ['Basic', 'Live']},\n",
       "  'arrival': {'scheduledTime': {'utc': '2024-10-08 09:10Z',\n",
       "    'local': '2024-10-08 11:10+02:00'},\n",
       "   'revisedTime': {'utc': '2024-10-08 09:14Z',\n",
       "    'local': '2024-10-08 11:14+02:00'},\n",
       "   'terminal': '1',\n",
       "   'gate': 'A37',\n",
       "   'baggageBelt': 'A2',\n",
       "   'quality': ['Basic', 'Live']},\n",
       "  'number': 'EW 2010',\n",
       "  'status': 'Arrived',\n",
       "  'codeshareStatus': 'IsOperator',\n",
       "  'isCargo': False,\n",
       "  'aircraft': {'reg': 'D-AGWD', 'modeS': '3C5EE4', 'model': 'Airbus A319'},\n",
       "  'airline': {'name': 'Eurowings', 'iata': 'EW', 'icao': 'EWG'}},\n",
       " {'departure': {'airport': {'icao': 'EGLL',\n",
       "    'iata': 'LHR',\n",
       "    'name': 'London',\n",
       "    'timeZone': 'Europe/London'},\n",
       "   'scheduledTime': {'utc': '2024-10-08 07:25Z',\n",
       "    'local': '2024-10-08 08:25+01:00'},\n",
       "   'revisedTime': {'utc': '2024-10-08 07:53Z',\n",
       "    'local': '2024-10-08 08:53+01:00'},\n",
       "   'runwayTime': {'utc': '2024-10-08 07:53Z',\n",
       "    'local': '2024-10-08 08:53+01:00'},\n",
       "   'terminal': '5',\n",
       "   'checkInDesk': 'D',\n",
       "   'runway': '27L',\n",
       "   'quality': ['Basic', 'Live']},\n",
       "  'arrival': {'scheduledTime': {'utc': '2024-10-08 09:15Z',\n",
       "    'local': '2024-10-08 11:15+02:00'},\n",
       "   'revisedTime': {'utc': '2024-10-08 09:15Z',\n",
       "    'local': '2024-10-08 11:15+02:00'},\n",
       "   'terminal': '1',\n",
       "   'gate': 'X02',\n",
       "   'baggageBelt': 'A3',\n",
       "   'quality': ['Basic', 'Live']},\n",
       "  'number': 'BA 982',\n",
       "  'callSign': 'BAW982G',\n",
       "  'status': 'Arrived',\n",
       "  'codeshareStatus': 'IsOperator',\n",
       "  'isCargo': False,\n",
       "  'aircraft': {'reg': 'G-EUPW', 'modeS': '4008F1', 'model': 'Airbus A319'},\n",
       "  'airline': {'name': 'British Airways', 'iata': 'BA', 'icao': 'BAW'}},\n",
       " {'departure': {'airport': {'icao': 'EDDS',\n",
       "    'iata': 'STR',\n",
       "    'name': 'Stuttgart',\n",
       "    'timeZone': 'Europe/Berlin'},\n",
       "   'scheduledTime': {'utc': '2024-10-08 08:13Z',\n",
       "    'local': '2024-10-08 10:13+02:00'},\n",
       "   'revisedTime': {'utc': '2024-10-08 08:13Z',\n",
       "    'local': '2024-10-08 10:13+02:00'},\n",
       "   'runwayTime': {'utc': '2024-10-08 08:22Z',\n",
       "    'local': '2024-10-08 10:22+02:00'},\n",
       "   'runway': '25',\n",
       "   'quality': ['Basic', 'Live']},\n",
       "  'arrival': {'scheduledTime': {'utc': '2024-10-08 09:16Z',\n",
       "    'local': '2024-10-08 11:16+02:00'},\n",
       "   'revisedTime': {'utc': '2024-10-08 09:16Z',\n",
       "    'local': '2024-10-08 11:16+02:00'},\n",
       "   'runwayTime': {'utc': '2024-10-08 09:16Z',\n",
       "    'local': '2024-10-08 11:16+02:00'},\n",
       "   'quality': ['Basic', 'Live']},\n",
       "  'number': '4U 71VC',\n",
       "  'callSign': 'GWI71VC',\n",
       "  'status': 'Arrived',\n",
       "  'codeshareStatus': 'IsOperator',\n",
       "  'isCargo': False,\n",
       "  'aircraft': {'reg': 'D-AGWD', 'modeS': '3C5EE4', 'model': 'Airbus A319'},\n",
       "  'airline': {'name': 'Germanwings', 'iata': '4U', 'icao': 'GWI'}},\n",
       " {'departure': {'airport': {'icao': 'LSZH',\n",
       "    'iata': 'ZRH',\n",
       "    'name': 'Zurich',\n",
       "    'timeZone': 'Europe/Zurich'},\n",
       "   'scheduledTime': {'utc': '2024-10-08 07:50Z',\n",
       "    'local': '2024-10-08 09:50+02:00'},\n",
       "   'revisedTime': {'utc': '2024-10-08 07:50Z',\n",
       "    'local': '2024-10-08 09:50+02:00'},\n",
       "   'runwayTime': {'utc': '2024-10-08 08:15Z',\n",
       "    'local': '2024-10-08 10:15+02:00'},\n",
       "   'checkInDesk': '2(5)',\n",
       "   'gate': 'A81',\n",
       "   'runway': '28',\n",
       "   'quality': ['Basic', 'Live']},\n",
       "  'arrival': {'scheduledTime': {'utc': '2024-10-08 09:30Z',\n",
       "    'local': '2024-10-08 11:30+02:00'},\n",
       "   'revisedTime': {'utc': '2024-10-08 09:18Z',\n",
       "    'local': '2024-10-08 11:18+02:00'},\n",
       "   'terminal': '1',\n",
       "   'gate': 'S01',\n",
       "   'baggageBelt': 'B1',\n",
       "   'quality': ['Basic', 'Live']},\n",
       "  'number': 'LX 4406',\n",
       "  'callSign': 'EWG2BA',\n",
       "  'status': 'Arrived',\n",
       "  'codeshareStatus': 'IsCodeshared',\n",
       "  'isCargo': False,\n",
       "  'aircraft': {'reg': 'D-AGWO', 'modeS': '3C5EEF', 'model': 'Airbus A319'},\n",
       "  'airline': {'name': 'SWISS', 'iata': 'LX', 'icao': 'SWR'}},\n",
       " {'departure': {'airport': {'icao': 'LSZH',\n",
       "    'iata': 'ZRH',\n",
       "    'name': 'Zurich',\n",
       "    'timeZone': 'Europe/Zurich'},\n",
       "   'scheduledTime': {'utc': '2024-10-08 07:50Z',\n",
       "    'local': '2024-10-08 09:50+02:00'},\n",
       "   'revisedTime': {'utc': '2024-10-08 07:50Z',\n",
       "    'local': '2024-10-08 09:50+02:00'},\n",
       "   'runwayTime': {'utc': '2024-10-08 08:15Z',\n",
       "    'local': '2024-10-08 10:15+02:00'},\n",
       "   'checkInDesk': '2(5)',\n",
       "   'gate': 'A81',\n",
       "   'runway': '28',\n",
       "   'quality': ['Basic', 'Live']},\n",
       "  'arrival': {'scheduledTime': {'utc': '2024-10-08 09:30Z',\n",
       "    'local': '2024-10-08 11:30+02:00'},\n",
       "   'revisedTime': {'utc': '2024-10-08 09:18Z',\n",
       "    'local': '2024-10-08 11:18+02:00'},\n",
       "   'runwayTime': {'utc': '2024-10-08 09:17Z',\n",
       "    'local': '2024-10-08 11:17+02:00'},\n",
       "   'terminal': '1',\n",
       "   'gate': 'S01',\n",
       "   'baggageBelt': 'B1',\n",
       "   'runway': '25L',\n",
       "   'quality': ['Basic', 'Live']},\n",
       "  'number': 'EW 8761',\n",
       "  'callSign': 'EWG2BA',\n",
       "  'status': 'Arrived',\n",
       "  'codeshareStatus': 'IsOperator',\n",
       "  'isCargo': False,\n",
       "  'aircraft': {'reg': 'D-AGWO', 'modeS': '3C5EEF', 'model': 'Airbus A319'},\n",
       "  'airline': {'name': 'Eurowings', 'iata': 'EW', 'icao': 'EWG'}},\n",
       " {'departure': {'airport': {'icao': 'ESSA',\n",
       "    'iata': 'ARN',\n",
       "    'name': 'Stockholm',\n",
       "    'timeZone': 'Europe/Stockholm'},\n",
       "   'scheduledTime': {'utc': '2024-10-08 08:00Z',\n",
       "    'local': '2024-10-08 10:00+02:00'},\n",
       "   'revisedTime': {'utc': '2024-10-08 07:54Z',\n",
       "    'local': '2024-10-08 09:54+02:00'},\n",
       "   'runwayTime': {'utc': '2024-10-08 08:07Z',\n",
       "    'local': '2024-10-08 10:07+02:00'},\n",
       "   'terminal': '5',\n",
       "   'checkInDesk': '18-0',\n",
       "   'gate': 'D11',\n",
       "   'runway': '19R',\n",
       "   'quality': ['Basic', 'Live']},\n",
       "  'arrival': {'scheduledTime': {'utc': '2024-10-08 09:35Z',\n",
       "    'local': '2024-10-08 11:35+02:00'},\n",
       "   'revisedTime': {'utc': '2024-10-08 09:27Z',\n",
       "    'local': '2024-10-08 11:27+02:00'},\n",
       "   'terminal': '2',\n",
       "   'gate': 'Z32',\n",
       "   'baggageBelt': 'C1',\n",
       "   'quality': ['Basic', 'Live']},\n",
       "  'number': 'DY 886',\n",
       "  'callSign': 'NOZ886',\n",
       "  'status': 'Arrived',\n",
       "  'codeshareStatus': 'IsOperator',\n",
       "  'isCargo': False,\n",
       "  'aircraft': {'reg': 'SE-RPR', 'modeS': '4ACA12', 'model': 'Boeing 737-800'},\n",
       "  'airline': {'name': 'Norwegian Air Shuttle', 'iata': 'DY', 'icao': 'NOZ'}},\n",
       " {'departure': {'airport': {'icao': 'EHAM',\n",
       "    'iata': 'AMS',\n",
       "    'name': 'Amsterdam',\n",
       "    'timeZone': 'Europe/Amsterdam'},\n",
       "   'scheduledTime': {'utc': '2024-10-08 08:15Z',\n",
       "    'local': '2024-10-08 10:15+02:00'},\n",
       "   'revisedTime': {'utc': '2024-10-08 08:21Z',\n",
       "    'local': '2024-10-08 10:21+02:00'},\n",
       "   'runwayTime': {'utc': '2024-10-08 08:36Z',\n",
       "    'local': '2024-10-08 10:36+02:00'},\n",
       "   'terminal': '1',\n",
       "   'checkInDesk': '6-8',\n",
       "   'gate': 'D68',\n",
       "   'runway': '18L',\n",
       "   'quality': ['Basic', 'Live']},\n",
       "  'arrival': {'scheduledTime': {'utc': '2024-10-08 09:30Z',\n",
       "    'local': '2024-10-08 11:30+02:00'},\n",
       "   'revisedTime': {'utc': '2024-10-08 09:29Z',\n",
       "    'local': '2024-10-08 11:29+02:00'},\n",
       "   'runwayTime': {'utc': '2024-10-08 09:45Z',\n",
       "    'local': '2024-10-08 11:45+02:00'},\n",
       "   'terminal': '1',\n",
       "   'gate': 'A30',\n",
       "   'baggageBelt': 'B2',\n",
       "   'quality': ['Basic', 'Live']},\n",
       "  'number': 'KL 1775',\n",
       "  'callSign': 'KLM1775',\n",
       "  'status': 'Arrived',\n",
       "  'codeshareStatus': 'IsOperator',\n",
       "  'isCargo': False,\n",
       "  'aircraft': {'reg': 'PH-BCD', 'modeS': '484FDE', 'model': 'Boeing 737-800'},\n",
       "  'airline': {'name': 'KLM', 'iata': 'KL', 'icao': 'KLM'}},\n",
       " {'departure': {'airport': {'icao': 'LFPG',\n",
       "    'iata': 'CDG',\n",
       "    'name': 'Paris',\n",
       "    'timeZone': 'Europe/Paris'},\n",
       "   'scheduledTime': {'utc': '2024-10-08 07:30Z',\n",
       "    'local': '2024-10-08 09:30+02:00'},\n",
       "   'revisedTime': {'utc': '2024-10-08 08:17Z',\n",
       "    'local': '2024-10-08 10:17+02:00'},\n",
       "   'runwayTime': {'utc': '2024-10-08 08:17Z',\n",
       "    'local': '2024-10-08 10:17+02:00'},\n",
       "   'terminal': '2F',\n",
       "   'runway': '26R',\n",
       "   'quality': ['Basic', 'Live']},\n",
       "  'arrival': {'scheduledTime': {'utc': '2024-10-08 09:15Z',\n",
       "    'local': '2024-10-08 11:15+02:00'},\n",
       "   'revisedTime': {'utc': '2024-10-08 09:31Z',\n",
       "    'local': '2024-10-08 11:31+02:00'},\n",
       "   'terminal': '1',\n",
       "   'gate': 'A35',\n",
       "   'baggageBelt': 'A3',\n",
       "   'quality': ['Basic', 'Live']},\n",
       "  'number': 'AF 1734',\n",
       "  'callSign': 'AFR57NH',\n",
       "  'status': 'Arrived',\n",
       "  'codeshareStatus': 'IsOperator',\n",
       "  'isCargo': False,\n",
       "  'aircraft': {'reg': 'F-HZUZ', 'modeS': '39E699', 'model': 'Airbus A220-300'},\n",
       "  'airline': {'name': 'Air France', 'iata': 'AF', 'icao': 'AFR'}},\n",
       " {'departure': {'airport': {'icao': 'ENGM',\n",
       "    'iata': 'OSL',\n",
       "    'name': 'Oslo',\n",
       "    'timeZone': 'Europe/Oslo'},\n",
       "   'scheduledTime': {'utc': '2024-10-08 08:00Z',\n",
       "    'local': '2024-10-08 10:00+02:00'},\n",
       "   'revisedTime': {'utc': '2024-10-08 07:55Z',\n",
       "    'local': '2024-10-08 09:55+02:00'},\n",
       "   'runwayTime': {'utc': '2024-10-08 08:05Z',\n",
       "    'local': '2024-10-08 10:05+02:00'},\n",
       "   'checkInDesk': '567',\n",
       "   'gate': 'D7',\n",
       "   'runway': '19L',\n",
       "   'quality': ['Basic', 'Live']},\n",
       "  'arrival': {'scheduledTime': {'utc': '2024-10-08 09:40Z',\n",
       "    'local': '2024-10-08 11:40+02:00'},\n",
       "   'revisedTime': {'utc': '2024-10-08 09:32Z',\n",
       "    'local': '2024-10-08 11:32+02:00'},\n",
       "   'terminal': '1',\n",
       "   'gate': 'B17',\n",
       "   'baggageBelt': 'B4',\n",
       "   'quality': ['Basic', 'Live']},\n",
       "  'number': 'SK 4723',\n",
       "  'callSign': 'SAS62T',\n",
       "  'status': 'Arrived',\n",
       "  'codeshareStatus': 'IsOperator',\n",
       "  'isCargo': False,\n",
       "  'aircraft': {'reg': 'SE-RZY', 'modeS': '4ACB59', 'model': 'Airbus A320 NEO'},\n",
       "  'airline': {'name': 'SAS', 'iata': 'SK', 'icao': 'SAS'}},\n",
       " {'departure': {'airport': {'icao': 'LIRF',\n",
       "    'iata': 'FCO',\n",
       "    'name': 'Rome',\n",
       "    'timeZone': 'Europe/Rome'},\n",
       "   'scheduledTime': {'utc': '2024-10-08 07:35Z',\n",
       "    'local': '2024-10-08 09:35+02:00'},\n",
       "   'revisedTime': {'utc': '2024-10-08 07:55Z',\n",
       "    'local': '2024-10-08 09:55+02:00'},\n",
       "   'runwayTime': {'utc': '2024-10-08 07:55Z',\n",
       "    'local': '2024-10-08 09:55+02:00'},\n",
       "   'terminal': '1',\n",
       "   'quality': ['Basic', 'Live']},\n",
       "  'arrival': {'scheduledTime': {'utc': '2024-10-08 09:50Z',\n",
       "    'local': '2024-10-08 11:50+02:00'},\n",
       "   'revisedTime': {'utc': '2024-10-08 09:34Z',\n",
       "    'local': '2024-10-08 11:34+02:00'},\n",
       "   'terminal': '1',\n",
       "   'gate': 'A38',\n",
       "   'baggageBelt': 'A4',\n",
       "   'quality': ['Basic', 'Live']},\n",
       "  'number': 'EC 5080',\n",
       "  'callSign': 'EJU62RN',\n",
       "  'status': 'Arrived',\n",
       "  'codeshareStatus': 'IsCodeshared',\n",
       "  'isCargo': False,\n",
       "  'aircraft': {'reg': 'OE-IJY', 'modeS': '4402AC', 'model': 'Airbus A320'},\n",
       "  'airline': {'name': 'EasyJet Europe', 'iata': 'EC', 'icao': 'EJU'}},\n",
       " {'departure': {'airport': {'icao': 'LIRF',\n",
       "    'iata': 'FCO',\n",
       "    'name': 'Rome',\n",
       "    'timeZone': 'Europe/Rome'},\n",
       "   'scheduledTime': {'utc': '2024-10-08 07:35Z',\n",
       "    'local': '2024-10-08 09:35+02:00'},\n",
       "   'revisedTime': {'utc': '2024-10-08 07:55Z',\n",
       "    'local': '2024-10-08 09:55+02:00'},\n",
       "   'runwayTime': {'utc': '2024-10-08 07:55Z',\n",
       "    'local': '2024-10-08 09:55+02:00'},\n",
       "   'terminal': '1',\n",
       "   'quality': ['Basic', 'Live']},\n",
       "  'arrival': {'scheduledTime': {'utc': '2024-10-08 09:50Z',\n",
       "    'local': '2024-10-08 11:50+02:00'},\n",
       "   'revisedTime': {'utc': '2024-10-08 09:34Z',\n",
       "    'local': '2024-10-08 11:34+02:00'},\n",
       "   'terminal': '1',\n",
       "   'gate': 'A38',\n",
       "   'baggageBelt': 'A4',\n",
       "   'quality': ['Basic', 'Live']},\n",
       "  'number': 'U2 5080',\n",
       "  'callSign': 'EJU62RN',\n",
       "  'status': 'Arrived',\n",
       "  'codeshareStatus': 'IsOperator',\n",
       "  'isCargo': False,\n",
       "  'aircraft': {'reg': 'OE-IJY', 'modeS': '4402AC', 'model': 'Airbus A320'},\n",
       "  'airline': {'name': 'easyJet', 'iata': 'U2', 'icao': 'EZY'}},\n",
       " {'departure': {'airport': {'icao': 'ESSA',\n",
       "    'iata': 'ARN',\n",
       "    'name': 'Stockholm',\n",
       "    'timeZone': 'Europe/Stockholm'},\n",
       "   'scheduledTime': {'utc': '2024-10-08 08:05Z',\n",
       "    'local': '2024-10-08 10:05+02:00'},\n",
       "   'revisedTime': {'utc': '2024-10-08 08:03Z',\n",
       "    'local': '2024-10-08 10:03+02:00'},\n",
       "   'runwayTime': {'utc': '2024-10-08 08:14Z',\n",
       "    'local': '2024-10-08 10:14+02:00'},\n",
       "   'terminal': '5',\n",
       "   'checkInDesk': '71-80',\n",
       "   'gate': 'E3',\n",
       "   'quality': ['Basic', 'Live']},\n",
       "  'arrival': {'scheduledTime': {'utc': '2024-10-08 09:40Z',\n",
       "    'local': '2024-10-08 11:40+02:00'},\n",
       "   'revisedTime': {'utc': '2024-10-08 09:36Z',\n",
       "    'local': '2024-10-08 11:36+02:00'},\n",
       "   'terminal': '1',\n",
       "   'gate': 'A31',\n",
       "   'baggageBelt': 'A2',\n",
       "   'quality': ['Basic', 'Live']},\n",
       "  'number': 'SK 2677',\n",
       "  'callSign': 'SAS2677',\n",
       "  'status': 'Arrived',\n",
       "  'codeshareStatus': 'IsOperator',\n",
       "  'isCargo': False,\n",
       "  'aircraft': {'reg': 'SE-ROT', 'modeS': '4AC9F4', 'model': 'Airbus A320'},\n",
       "  'airline': {'name': 'SAS', 'iata': 'SK', 'icao': 'SAS'}},\n",
       " {'departure': {'airport': {'icao': 'LTAI',\n",
       "    'iata': 'AYT',\n",
       "    'name': 'Antalya',\n",
       "    'timeZone': 'Europe/Istanbul'},\n",
       "   'scheduledTime': {'utc': '2024-10-08 06:00Z',\n",
       "    'local': '2024-10-08 09:00+03:00'},\n",
       "   'revisedTime': {'utc': '2024-10-08 06:00Z',\n",
       "    'local': '2024-10-08 09:00+03:00'},\n",
       "   'terminal': '1',\n",
       "   'checkInDesk': '126-128',\n",
       "   'quality': ['Basic', 'Live']},\n",
       "  'arrival': {'scheduledTime': {'utc': '2024-10-08 09:35Z',\n",
       "    'local': '2024-10-08 11:35+02:00'},\n",
       "   'revisedTime': {'utc': '2024-10-08 09:44Z',\n",
       "    'local': '2024-10-08 11:44+02:00'},\n",
       "   'runwayTime': {'utc': '2024-10-08 09:50Z',\n",
       "    'local': '2024-10-08 11:50+02:00'},\n",
       "   'terminal': '1',\n",
       "   'gate': 'X01',\n",
       "   'baggageBelt': 'A1',\n",
       "   'quality': ['Basic', 'Live']},\n",
       "  'number': 'XQ 160',\n",
       "  'callSign': 'SXS2SR',\n",
       "  'status': 'Arrived',\n",
       "  'codeshareStatus': 'IsOperator',\n",
       "  'isCargo': False,\n",
       "  'aircraft': {'reg': 'TC-SMD', 'modeS': '4BCDA4', 'model': 'Boeing 737-800'},\n",
       "  'airline': {'name': 'Sun Express', 'iata': 'XQ', 'icao': 'SXS'}},\n",
       " {'departure': {'airport': {'icao': 'LEPA',\n",
       "    'iata': 'PMI',\n",
       "    'name': 'Palma De Mallorca',\n",
       "    'timeZone': 'Europe/Madrid'},\n",
       "   'scheduledTime': {'utc': '2024-10-08 07:10Z',\n",
       "    'local': '2024-10-08 09:10+02:00'},\n",
       "   'revisedTime': {'utc': '2024-10-08 07:27Z',\n",
       "    'local': '2024-10-08 09:27+02:00'},\n",
       "   'runwayTime': {'utc': '2024-10-08 07:41Z',\n",
       "    'local': '2024-10-08 09:41+02:00'},\n",
       "   'terminal': 'N',\n",
       "   'checkInDesk': '070-075',\n",
       "   'gate': 'C55',\n",
       "   'quality': ['Basic', 'Live']},\n",
       "  'arrival': {'scheduledTime': {'utc': '2024-10-08 09:55Z',\n",
       "    'local': '2024-10-08 11:55+02:00'},\n",
       "   'revisedTime': {'utc': '2024-10-08 09:47Z',\n",
       "    'local': '2024-10-08 11:47+02:00'},\n",
       "   'runwayTime': {'utc': '2024-10-08 09:52Z',\n",
       "    'local': '2024-10-08 11:52+02:00'},\n",
       "   'terminal': '1',\n",
       "   'gate': 'S01',\n",
       "   'baggageBelt': 'B3',\n",
       "   'quality': ['Basic', 'Live']},\n",
       "  'number': 'SR 2097',\n",
       "  'callSign': 'SDR29HC',\n",
       "  'status': 'Arrived',\n",
       "  'codeshareStatus': 'IsOperator',\n",
       "  'isCargo': False,\n",
       "  'aircraft': {'reg': 'D-ASMR', 'modeS': '3C0936', 'model': 'Airbus A320'},\n",
       "  'airline': {'name': 'SundAir', 'iata': 'SR', 'icao': 'SDR'}},\n",
       " {'departure': {'airport': {'icao': 'LLBG',\n",
       "    'iata': 'TLV',\n",
       "    'name': 'Tel Aviv Yafo',\n",
       "    'timeZone': 'Asia/Jerusalem'},\n",
       "   'quality': []},\n",
       "  'arrival': {'scheduledTime': {'utc': '2024-10-08 10:00Z',\n",
       "    'local': '2024-10-08 12:00+02:00'},\n",
       "   'revisedTime': {'utc': '2024-10-08 09:48Z',\n",
       "    'local': '2024-10-08 11:48+02:00'},\n",
       "   'terminal': '1',\n",
       "   'gate': 'X17',\n",
       "   'baggageBelt': 'A3',\n",
       "   'quality': ['Basic', 'Live']},\n",
       "  'number': '6H 253',\n",
       "  'callSign': 'ISR253',\n",
       "  'status': 'Arrived',\n",
       "  'codeshareStatus': 'IsOperator',\n",
       "  'isCargo': False,\n",
       "  'aircraft': {'reg': 'YR-BMR', 'modeS': '4A09B2', 'model': 'Boeing 737-700'},\n",
       "  'airline': {'name': 'Israir', 'iata': '6H', 'icao': 'ISR'}},\n",
       " {'departure': {'airport': {'icao': 'GCTS',\n",
       "    'iata': 'TFS',\n",
       "    'name': 'Tenerife Island',\n",
       "    'timeZone': 'Atlantic/Canary'},\n",
       "   'scheduledTime': {'utc': '2024-10-08 05:00Z',\n",
       "    'local': '2024-10-08 06:00+01:00'},\n",
       "   'revisedTime': {'utc': '2024-10-08 05:03Z',\n",
       "    'local': '2024-10-08 06:03+01:00'},\n",
       "   'terminal': 'C',\n",
       "   'checkInDesk': '202-210',\n",
       "   'gate': 'B14,B12',\n",
       "   'quality': ['Basic', 'Live']},\n",
       "  'arrival': {'scheduledTime': {'utc': '2024-10-08 10:00Z',\n",
       "    'local': '2024-10-08 12:00+02:00'},\n",
       "   'revisedTime': {'utc': '2024-10-08 09:52Z',\n",
       "    'local': '2024-10-08 11:52+02:00'},\n",
       "   'runwayTime': {'utc': '2024-10-08 09:52Z',\n",
       "    'local': '2024-10-08 11:52+02:00'},\n",
       "   'terminal': '2',\n",
       "   'gate': 'Z36',\n",
       "   'baggageBelt': 'C3',\n",
       "   'runway': '25R',\n",
       "   'quality': ['Basic', 'Live']},\n",
       "  'number': 'FR 2419',\n",
       "  'callSign': 'RYR2419',\n",
       "  'status': 'Arrived',\n",
       "  'codeshareStatus': 'IsOperator',\n",
       "  'isCargo': False,\n",
       "  'aircraft': {'reg': 'EI-HEZ', 'modeS': '4CAC1F', 'model': 'Boeing 737-800'},\n",
       "  'airline': {'name': 'Ryanair', 'iata': 'FR', 'icao': 'RYR'}},\n",
       " {'departure': {'airport': {'icao': 'ENBR',\n",
       "    'iata': 'BGO',\n",
       "    'name': 'Bergen',\n",
       "    'timeZone': 'Europe/Oslo'},\n",
       "   'scheduledTime': {'utc': '2024-10-08 08:25Z',\n",
       "    'local': '2024-10-08 10:25+02:00'},\n",
       "   'revisedTime': {'utc': '2024-10-08 08:16Z',\n",
       "    'local': '2024-10-08 10:16+02:00'},\n",
       "   'runwayTime': {'utc': '2024-10-08 08:26Z',\n",
       "    'local': '2024-10-08 10:26+02:00'},\n",
       "   'gate': 'E29',\n",
       "   'quality': ['Basic', 'Live']},\n",
       "  'arrival': {'scheduledTime': {'utc': '2024-10-08 10:05Z',\n",
       "    'local': '2024-10-08 12:05+02:00'},\n",
       "   'revisedTime': {'utc': '2024-10-08 09:54Z',\n",
       "    'local': '2024-10-08 11:54+02:00'},\n",
       "   'runwayTime': {'utc': '2024-10-08 09:54Z',\n",
       "    'local': '2024-10-08 11:54+02:00'},\n",
       "   'terminal': '2',\n",
       "   'gate': 'Z36',\n",
       "   'baggageBelt': 'C1',\n",
       "   'runway': '25R',\n",
       "   'quality': ['Basic', 'Live']},\n",
       "  'number': 'DY 1122',\n",
       "  'callSign': 'NOZ8BE',\n",
       "  'status': 'Arrived',\n",
       "  'codeshareStatus': 'IsOperator',\n",
       "  'isCargo': False,\n",
       "  'aircraft': {'reg': 'LN-ENP', 'modeS': '47A31A', 'model': 'Boeing 737-800'},\n",
       "  'airline': {'name': 'Norwegian Air Shuttle', 'iata': 'DY', 'icao': 'NOZ'}}]"
      ]
     },
     "execution_count": 15,
     "metadata": {},
     "output_type": "execute_result"
    }
   ],
   "source": [
    "flights_json[\"arrivals\"]"
   ]
  },
  {
   "cell_type": "markdown",
   "metadata": {
    "id": "Mlw4Ncm8dckg"
   },
   "source": [
    "The square brackets at the beginning of `flights_json` indicate that it represents a list-like structure. Since we're dealing with a list, we can iterate through its elements to access and process the data. Let's start by examining the first element in the list."
   ]
  },
  {
   "cell_type": "code",
   "execution_count": null,
   "metadata": {
    "colab": {
     "base_uri": "https://localhost:8080/"
    },
    "id": "PiknWIC3dYkm",
    "outputId": "c7015cab-1e4d-4b1f-afeb-3b3da80f3772",
    "tags": []
   },
   "outputs": [
    {
     "data": {
      "text/plain": [
       "{'departure': {'airport': {'icao': 'LFPG',\n",
       "   'iata': 'CDG',\n",
       "   'name': 'Paris',\n",
       "   'timeZone': 'Europe/Paris'},\n",
       "  'quality': []},\n",
       " 'arrival': {'scheduledTime': {'utc': '2024-10-08 03:40Z',\n",
       "   'local': '2024-10-08 05:40+02:00'},\n",
       "  'revisedTime': {'utc': '2024-10-08 03:40Z',\n",
       "   'local': '2024-10-08 05:40+02:00'},\n",
       "  'runway': '25R',\n",
       "  'quality': ['Basic', 'Live']},\n",
       " 'number': '5O 5DN',\n",
       " 'callSign': 'FPO5DN',\n",
       " 'status': 'Approaching',\n",
       " 'codeshareStatus': 'IsOperator',\n",
       " 'isCargo': False,\n",
       " 'aircraft': {'reg': 'F-HIQI', 'modeS': '39A208', 'model': 'Boeing 737-800'},\n",
       " 'airline': {'name': 'ASL Airlines France', 'iata': '5O', 'icao': 'FPO'}}"
      ]
     },
     "execution_count": 38,
     "metadata": {},
     "output_type": "execute_result"
    }
   ],
   "source": [
    "flights_json[\"arrivals\"][0]"
   ]
  },
  {
   "cell_type": "code",
   "execution_count": null,
   "metadata": {
    "colab": {
     "base_uri": "https://localhost:8080/"
    },
    "id": "CZxqYn-ud34n",
    "outputId": "8c9aeac4-c434-42d7-b32b-009e20334c49"
   },
   "outputs": [
    {
     "data": {
      "text/plain": [
       "dict_keys(['departure', 'arrival', 'number', 'callSign', 'status', 'codeshareStatus', 'isCargo', 'aircraft', 'airline'])"
      ]
     },
     "execution_count": 31,
     "metadata": {},
     "output_type": "execute_result"
    }
   ],
   "source": [
    "flights_json[\"arrivals\"][0].keys()"
   ]
  },
  {
   "cell_type": "markdown",
   "metadata": {
    "id": "CwyzulVFesWv"
   },
   "source": [
    "Looking at the first element of the json and the available keys, we can select the information we think would be important for our dataframe.\n",
    "- Departure airport icao\n",
    "- scheduled arrival time, local\n",
    "- flight number"
   ]
  },
  {
   "cell_type": "code",
   "execution_count": null,
   "metadata": {
    "id": "4TOx12-vtMSS",
    "outputId": "abf2e6a5-26aa-4641-d803-2206a0d940c3"
   },
   "outputs": [
    {
     "data": {
      "text/plain": [
       "'Paris'"
      ]
     },
     "execution_count": 41,
     "metadata": {},
     "output_type": "execute_result"
    }
   ],
   "source": [
    "flights_json[\"arrivals\"][0][\"departure\"]['airport'][\"name\"]"
   ]
  },
  {
   "cell_type": "code",
   "execution_count": null,
   "metadata": {
    "id": "6hPzc3QWtMSS",
    "outputId": "5d38629d-3664-43d8-a6d9-0999fda01557"
   },
   "outputs": [
    {
     "data": {
      "text/plain": [
       "'2024-10-08 05:40+02:00'"
      ]
     },
     "execution_count": 33,
     "metadata": {},
     "output_type": "execute_result"
    }
   ],
   "source": [
    "flights_json[\"arrivals\"][0][\"arrival\"][\"scheduledTime\"][\"local\"]"
   ]
  },
  {
   "cell_type": "code",
   "execution_count": null,
   "metadata": {
    "id": "ds5maa9FtMSS",
    "outputId": "28210ae2-fa6b-498a-f13c-91fbe801bd42"
   },
   "outputs": [
    {
     "data": {
      "text/plain": [
       "'5O 5DN'"
      ]
     },
     "execution_count": 34,
     "metadata": {},
     "output_type": "execute_result"
    }
   ],
   "source": [
    "flights_json[\"arrivals\"][0][\"number\"]"
   ]
  },
  {
   "cell_type": "code",
   "execution_count": 31,
   "metadata": {
    "id": "-CDGTVqPtMSS",
    "outputId": "682d9918-d711-4520-a936-be82d475e203",
    "scrolled": true,
    "tags": []
   },
   "outputs": [
    {
     "name": "stdout",
     "output_type": "stream",
     "text": [
      "Paris\n",
      "2024-10-08 05:40+02:00\n",
      "İzmir\n",
      "2024-10-08 06:30+02:00\n",
      "Newark\n",
      "2024-10-08 07:15+02:00\n",
      "Frankfurt-am-Main\n",
      "2024-10-08 07:25+02:00\n",
      "Diyarbakır\n",
      "2024-10-08 06:45+02:00\n",
      "Stuttgart\n",
      "2024-10-08 07:25+02:00\n",
      "Stuttgart\n",
      "2024-10-08 07:25+02:00\n",
      "Cologne\n",
      "2024-10-08 07:40+02:00\n",
      "Vienna\n",
      "2024-10-08 07:30+02:00\n",
      "Düsseldorf\n",
      "2024-10-08 07:45+02:00\n",
      "New York\n",
      "2024-10-08 07:50+02:00\n",
      "Düsseldorf\n",
      "2024-10-08 07:31+02:00\n",
      "Belgrade\n",
      "2024-10-08 08:05+02:00\n",
      "Antalya\n",
      "2024-10-08 07:30+02:00\n",
      "Trieste\n",
      "2024-10-08 07:55+02:00\n",
      "Riga\n",
      "2024-10-08 07:40+02:00\n",
      "Riga\n",
      "2024-10-08 07:40+02:00\n",
      "Riga\n",
      "2024-10-08 07:40+02:00\n",
      "Riga\n",
      "2024-10-08 07:40+02:00\n",
      "Antalya\n",
      "2024-10-08 07:50+02:00\n",
      "Doha\n",
      "2024-10-08 07:20+02:00\n",
      "Luxembourg\n",
      "2024-10-08 08:05+02:00\n",
      "Stockholm\n",
      "2024-10-08 07:55+02:00\n",
      "Stockholm\n",
      "2024-10-08 07:55+02:00\n",
      "Saarbrücken\n",
      "2024-10-08 08:05+02:00\n",
      "Munich\n",
      "2024-10-08 08:05+02:00\n",
      "Helsinki\n",
      "2024-10-08 08:05+02:00\n",
      "Vienna\n",
      "2024-10-08 08:10+02:00\n",
      "Palermo\n",
      "2024-10-08 08:15+02:00\n",
      "Milan\n",
      "2024-10-08 08:35+02:00\n",
      "Milan\n",
      "2024-10-08 08:35+02:00\n",
      "Bergamo\n",
      "2024-10-08 08:20+02:00\n",
      "Unknown\n",
      "2024-10-08 08:44+02:00\n",
      "Zurich\n",
      "2024-10-08 08:45+02:00\n",
      "Paris\n",
      "2024-10-08 08:50+02:00\n",
      "Paris\n",
      "2024-10-08 08:50+02:00\n",
      "Frankfurt-am-Main\n",
      "2024-10-08 08:55+02:00\n",
      "Munich\n",
      "2024-10-08 09:05+02:00\n",
      "Istanbul\n",
      "2024-10-08 09:20+02:00\n",
      "Belgrade\n",
      "2024-10-08 09:10+02:00\n",
      "Oslo\n",
      "2024-10-08 09:05+02:00\n",
      "Düsseldorf\n",
      "2024-10-08 09:10+02:00\n",
      "Brussels\n",
      "2024-10-08 09:15+02:00\n",
      "İzmir\n",
      "2024-10-08 09:30+02:00\n",
      "Palma De Mallorca\n",
      "2024-10-08 09:30+02:00\n",
      "Copenhagen\n",
      "2024-10-08 09:45+02:00\n",
      "Copenhagen\n",
      "2024-10-08 09:45+02:00\n",
      "London\n",
      "2024-10-08 09:35+02:00\n",
      "Dublin\n",
      "2024-10-08 09:40+02:00\n",
      "Paris\n",
      "2024-10-08 08:55+02:00\n",
      "London\n",
      "2024-10-08 09:50+02:00\n",
      "Bâle/Mulhouse\n",
      "2024-10-08 09:40+02:00\n",
      "Bâle/Mulhouse\n",
      "2024-10-08 09:40+02:00\n",
      "Luqa\n",
      "2024-10-08 09:55+02:00\n",
      "London\n",
      "2024-10-08 10:10+02:00\n",
      "Amsterdam\n",
      "2024-10-08 10:05+02:00\n",
      "Dublin\n",
      "2024-10-08 10:00+02:00\n",
      "Zurich\n",
      "2024-10-08 10:05+02:00\n",
      "Munich\n",
      "2024-10-08 10:05+02:00\n",
      "Madrid\n",
      "2024-10-08 10:35+02:00\n",
      "Stuttgart\n",
      "2024-10-08 10:10+02:00\n",
      "Stuttgart\n",
      "2024-10-08 10:10+02:00\n",
      "Frankfurt-am-Main\n",
      "2024-10-08 09:55+02:00\n",
      "Vienna\n",
      "2024-10-08 10:25+02:00\n",
      "Amsterdam\n",
      "2024-10-08 10:30+02:00\n",
      "Amsterdam\n",
      "2024-10-08 10:30+02:00\n",
      "Riga\n",
      "2024-10-08 09:50+02:00\n",
      "Baku\n",
      "2024-10-08 10:35+02:00\n",
      "Tel Aviv Yafo\n",
      "2024-10-08 09:40+02:00\n",
      "Antalya\n",
      "2024-10-08 10:10+02:00\n",
      "Bucharest\n",
      "2024-10-08 10:50+02:00\n",
      "Faro\n",
      "2024-10-08 10:50+02:00\n",
      "Monastir\n",
      "2024-10-08 11:00+02:00\n",
      "Unknown\n",
      "2024-10-08 10:42+02:00\n",
      "Warsaw\n",
      "2024-10-08 10:30+02:00\n",
      "Athens\n",
      "2024-10-08 10:40+02:00\n",
      "Brussels\n",
      "2024-10-08 10:50+02:00\n",
      "Antalya\n",
      "2024-10-08 10:35+02:00\n",
      "Marseille\n",
      "2024-10-08 10:50+02:00\n",
      "Frankfurt-am-Main\n",
      "2024-10-08 10:55+02:00\n",
      "Antalya\n",
      "2024-10-08 10:40+02:00\n",
      "Istanbul\n",
      "2024-10-08 11:20+02:00\n",
      "Edinburgh\n",
      "2024-10-08 10:40+02:00\n",
      "Istanbul\n",
      "2024-10-08 11:10+02:00\n",
      "London\n",
      "2024-10-08 11:10+02:00\n",
      "Stuttgart\n",
      "2024-10-08 11:10+02:00\n",
      "Stuttgart\n",
      "2024-10-08 11:10+02:00\n",
      "London\n",
      "2024-10-08 11:15+02:00\n",
      "Stuttgart\n",
      "2024-10-08 11:16+02:00\n",
      "Zurich\n",
      "2024-10-08 11:30+02:00\n",
      "Zurich\n",
      "2024-10-08 11:30+02:00\n",
      "Stockholm\n",
      "2024-10-08 11:35+02:00\n",
      "Amsterdam\n",
      "2024-10-08 11:30+02:00\n",
      "Paris\n",
      "2024-10-08 11:15+02:00\n",
      "Oslo\n",
      "2024-10-08 11:40+02:00\n",
      "Rome\n",
      "2024-10-08 11:50+02:00\n",
      "Rome\n",
      "2024-10-08 11:50+02:00\n",
      "Stockholm\n",
      "2024-10-08 11:40+02:00\n",
      "Antalya\n",
      "2024-10-08 11:35+02:00\n",
      "Palma De Mallorca\n",
      "2024-10-08 11:55+02:00\n",
      "Tel Aviv Yafo\n",
      "2024-10-08 12:00+02:00\n",
      "Tenerife Island\n",
      "2024-10-08 12:00+02:00\n",
      "Bergen\n",
      "2024-10-08 12:05+02:00\n"
     ]
    }
   ],
   "source": [
    "for item in flights_json[\"arrivals\"]:\n",
    "    print(item[\"departure\"]['airport'][\"name\"])\n",
    "    print(item[\"arrival\"][\"scheduledTime\"][\"local\"])"
   ]
  },
  {
   "cell_type": "markdown",
   "metadata": {
    "id": "NPyE0MImfsZ2"
   },
   "source": [
    "# Making the DataFrame"
   ]
  },
  {
   "cell_type": "code",
   "execution_count": 17,
   "metadata": {
    "colab": {
     "base_uri": "https://localhost:8080/",
     "height": 206
    },
    "id": "veIZIB--d7IO",
    "outputId": "2d63d810-b102-47e0-d1c6-08e4bdb48f6d",
    "tags": []
   },
   "outputs": [
    {
     "data": {
      "text/html": [
       "<div>\n",
       "<style scoped>\n",
       "    .dataframe tbody tr th:only-of-type {\n",
       "        vertical-align: middle;\n",
       "    }\n",
       "\n",
       "    .dataframe tbody tr th {\n",
       "        vertical-align: top;\n",
       "    }\n",
       "\n",
       "    .dataframe thead th {\n",
       "        text-align: right;\n",
       "    }\n",
       "</style>\n",
       "<table border=\"1\" class=\"dataframe\">\n",
       "  <thead>\n",
       "    <tr style=\"text-align: right;\">\n",
       "      <th></th>\n",
       "      <th>arrival_airport_icao</th>\n",
       "      <th>departure_airport_icao</th>\n",
       "      <th>departure_airport_name</th>\n",
       "      <th>scheduled_arrival_time</th>\n",
       "      <th>flight_number</th>\n",
       "    </tr>\n",
       "  </thead>\n",
       "  <tbody>\n",
       "    <tr>\n",
       "      <th>0</th>\n",
       "      <td>EDDB</td>\n",
       "      <td>LFPG</td>\n",
       "      <td>Paris</td>\n",
       "      <td>2024-10-08 05:40+02:00</td>\n",
       "      <td>5O 5DN</td>\n",
       "    </tr>\n",
       "    <tr>\n",
       "      <th>1</th>\n",
       "      <td>EDDB</td>\n",
       "      <td>LTBJ</td>\n",
       "      <td>İzmir</td>\n",
       "      <td>2024-10-08 06:30+02:00</td>\n",
       "      <td>XQ 966</td>\n",
       "    </tr>\n",
       "    <tr>\n",
       "      <th>2</th>\n",
       "      <td>EDDB</td>\n",
       "      <td>KEWR</td>\n",
       "      <td>Newark</td>\n",
       "      <td>2024-10-08 07:15+02:00</td>\n",
       "      <td>UA 962</td>\n",
       "    </tr>\n",
       "    <tr>\n",
       "      <th>3</th>\n",
       "      <td>EDDB</td>\n",
       "      <td>EDDF</td>\n",
       "      <td>Frankfurt-am-Main</td>\n",
       "      <td>2024-10-08 07:25+02:00</td>\n",
       "      <td>LH 172</td>\n",
       "    </tr>\n",
       "    <tr>\n",
       "      <th>4</th>\n",
       "      <td>EDDB</td>\n",
       "      <td>LTCC</td>\n",
       "      <td>Diyarbakır</td>\n",
       "      <td>2024-10-08 06:45+02:00</td>\n",
       "      <td>XQ 1700</td>\n",
       "    </tr>\n",
       "  </tbody>\n",
       "</table>\n",
       "</div>"
      ],
      "text/plain": [
       "  arrival_airport_icao departure_airport_icao departure_airport_name  \\\n",
       "0                 EDDB                   LFPG                  Paris   \n",
       "1                 EDDB                   LTBJ                  İzmir   \n",
       "2                 EDDB                   KEWR                 Newark   \n",
       "3                 EDDB                   EDDF      Frankfurt-am-Main   \n",
       "4                 EDDB                   LTCC             Diyarbakır   \n",
       "\n",
       "   scheduled_arrival_time flight_number  \n",
       "0  2024-10-08 05:40+02:00        5O 5DN  \n",
       "1  2024-10-08 06:30+02:00        XQ 966  \n",
       "2  2024-10-08 07:15+02:00        UA 962  \n",
       "3  2024-10-08 07:25+02:00        LH 172  \n",
       "4  2024-10-08 06:45+02:00       XQ 1700  "
      ]
     },
     "execution_count": 17,
     "metadata": {},
     "output_type": "execute_result"
    }
   ],
   "source": [
    "flight_items = []\n",
    "\n",
    "for item in flights_json[\"arrivals\"]:\n",
    "\n",
    "    flight_item = {\n",
    "        \"arrival_airport_icao\": icao,\n",
    "        \"departure_airport_icao\": item[\"departure\"][\"airport\"].get(\"icao\", None),\n",
    "        \"departure_airport_name\": item[\"departure\"][\"airport\"].get(\"name\", None),\n",
    "        \"scheduled_arrival_time\": item[\"arrival\"][\"scheduledTime\"].get(\"local\", None),\n",
    "        \"flight_number\": item.get(\"number\", None)\n",
    "    }\n",
    "\n",
    "    flight_items.append(flight_item)\n",
    "\n",
    "flights_df = pd.DataFrame(flight_items)\n",
    "\n",
    "flights_df.head()"
   ]
  },
  {
   "cell_type": "markdown",
   "metadata": {
    "id": "cQkkCxjA1bhc"
   },
   "source": [
    "Let's get rid of the `+02:00` from `scheduled_arrival_time`."
   ]
  },
  {
   "cell_type": "code",
   "execution_count": 19,
   "metadata": {
    "colab": {
     "base_uri": "https://localhost:8080/",
     "height": 206
    },
    "id": "JAI9dFH-1Stj",
    "outputId": "61224dd8-66a4-4f82-f0a7-2ba5adc35c27",
    "tags": []
   },
   "outputs": [
    {
     "data": {
      "text/html": [
       "<div>\n",
       "<style scoped>\n",
       "    .dataframe tbody tr th:only-of-type {\n",
       "        vertical-align: middle;\n",
       "    }\n",
       "\n",
       "    .dataframe tbody tr th {\n",
       "        vertical-align: top;\n",
       "    }\n",
       "\n",
       "    .dataframe thead th {\n",
       "        text-align: right;\n",
       "    }\n",
       "</style>\n",
       "<table border=\"1\" class=\"dataframe\">\n",
       "  <thead>\n",
       "    <tr style=\"text-align: right;\">\n",
       "      <th></th>\n",
       "      <th>arrival_airport_icao</th>\n",
       "      <th>departure_airport_icao</th>\n",
       "      <th>departure_airport_name</th>\n",
       "      <th>scheduled_arrival_time</th>\n",
       "      <th>flight_number</th>\n",
       "    </tr>\n",
       "  </thead>\n",
       "  <tbody>\n",
       "    <tr>\n",
       "      <th>0</th>\n",
       "      <td>EDDB</td>\n",
       "      <td>LFPG</td>\n",
       "      <td>Paris</td>\n",
       "      <td>2024-10-08 05:40</td>\n",
       "      <td>5O 5DN</td>\n",
       "    </tr>\n",
       "    <tr>\n",
       "      <th>1</th>\n",
       "      <td>EDDB</td>\n",
       "      <td>LTBJ</td>\n",
       "      <td>İzmir</td>\n",
       "      <td>2024-10-08 06:30</td>\n",
       "      <td>XQ 966</td>\n",
       "    </tr>\n",
       "    <tr>\n",
       "      <th>2</th>\n",
       "      <td>EDDB</td>\n",
       "      <td>KEWR</td>\n",
       "      <td>Newark</td>\n",
       "      <td>2024-10-08 07:15</td>\n",
       "      <td>UA 962</td>\n",
       "    </tr>\n",
       "    <tr>\n",
       "      <th>3</th>\n",
       "      <td>EDDB</td>\n",
       "      <td>EDDF</td>\n",
       "      <td>Frankfurt-am-Main</td>\n",
       "      <td>2024-10-08 07:25</td>\n",
       "      <td>LH 172</td>\n",
       "    </tr>\n",
       "    <tr>\n",
       "      <th>4</th>\n",
       "      <td>EDDB</td>\n",
       "      <td>LTCC</td>\n",
       "      <td>Diyarbakır</td>\n",
       "      <td>2024-10-08 06:45</td>\n",
       "      <td>XQ 1700</td>\n",
       "    </tr>\n",
       "  </tbody>\n",
       "</table>\n",
       "</div>"
      ],
      "text/plain": [
       "  arrival_airport_icao departure_airport_icao departure_airport_name  \\\n",
       "0                 EDDB                   LFPG                  Paris   \n",
       "1                 EDDB                   LTBJ                  İzmir   \n",
       "2                 EDDB                   KEWR                 Newark   \n",
       "3                 EDDB                   EDDF      Frankfurt-am-Main   \n",
       "4                 EDDB                   LTCC             Diyarbakır   \n",
       "\n",
       "  scheduled_arrival_time flight_number  \n",
       "0       2024-10-08 05:40        5O 5DN  \n",
       "1       2024-10-08 06:30        XQ 966  \n",
       "2       2024-10-08 07:15        UA 962  \n",
       "3       2024-10-08 07:25        LH 172  \n",
       "4       2024-10-08 06:45       XQ 1700  "
      ]
     },
     "execution_count": 19,
     "metadata": {},
     "output_type": "execute_result"
    }
   ],
   "source": [
    "flights_df[\"scheduled_arrival_time\"] = flights_df[\"scheduled_arrival_time\"].str[:-6]\n",
    "flights_df.head()"
   ]
  },
  {
   "cell_type": "code",
   "execution_count": 37,
   "metadata": {},
   "outputs": [],
   "source": [
    "import re"
   ]
  },
  {
   "cell_type": "code",
   "execution_count": 45,
   "metadata": {},
   "outputs": [
    {
     "data": {
      "text/html": [
       "<div>\n",
       "<style scoped>\n",
       "    .dataframe tbody tr th:only-of-type {\n",
       "        vertical-align: middle;\n",
       "    }\n",
       "\n",
       "    .dataframe tbody tr th {\n",
       "        vertical-align: top;\n",
       "    }\n",
       "\n",
       "    .dataframe thead th {\n",
       "        text-align: right;\n",
       "    }\n",
       "</style>\n",
       "<table border=\"1\" class=\"dataframe\">\n",
       "  <thead>\n",
       "    <tr style=\"text-align: right;\">\n",
       "      <th></th>\n",
       "      <th>arrival_airport_icao</th>\n",
       "      <th>departure_airport_icao</th>\n",
       "      <th>departure_airport_name</th>\n",
       "      <th>scheduled_arrival_time</th>\n",
       "      <th>flight_number</th>\n",
       "    </tr>\n",
       "  </thead>\n",
       "  <tbody>\n",
       "    <tr>\n",
       "      <th>0</th>\n",
       "      <td>EDDB</td>\n",
       "      <td>LFPG</td>\n",
       "      <td>Paris</td>\n",
       "      <td>2024-10-08 05:40</td>\n",
       "      <td>5O 5DN</td>\n",
       "    </tr>\n",
       "    <tr>\n",
       "      <th>1</th>\n",
       "      <td>EDDB</td>\n",
       "      <td>LTBJ</td>\n",
       "      <td>İzmir</td>\n",
       "      <td>2024-10-08 06:30</td>\n",
       "      <td>XQ 966</td>\n",
       "    </tr>\n",
       "    <tr>\n",
       "      <th>2</th>\n",
       "      <td>EDDB</td>\n",
       "      <td>KEWR</td>\n",
       "      <td>Newark</td>\n",
       "      <td>2024-10-08 07:15</td>\n",
       "      <td>UA 962</td>\n",
       "    </tr>\n",
       "    <tr>\n",
       "      <th>3</th>\n",
       "      <td>EDDB</td>\n",
       "      <td>EDDF</td>\n",
       "      <td>Frankfurt-am-Main</td>\n",
       "      <td>2024-10-08 07:25</td>\n",
       "      <td>LH 172</td>\n",
       "    </tr>\n",
       "    <tr>\n",
       "      <th>4</th>\n",
       "      <td>EDDB</td>\n",
       "      <td>LTCC</td>\n",
       "      <td>Diyarbakır</td>\n",
       "      <td>2024-10-08 06:45</td>\n",
       "      <td>XQ 1700</td>\n",
       "    </tr>\n",
       "    <tr>\n",
       "      <th>...</th>\n",
       "      <td>...</td>\n",
       "      <td>...</td>\n",
       "      <td>...</td>\n",
       "      <td>...</td>\n",
       "      <td>...</td>\n",
       "    </tr>\n",
       "    <tr>\n",
       "      <th>98</th>\n",
       "      <td>EDDB</td>\n",
       "      <td>LTAI</td>\n",
       "      <td>Antalya</td>\n",
       "      <td>2024-10-08 11:35</td>\n",
       "      <td>XQ 160</td>\n",
       "    </tr>\n",
       "    <tr>\n",
       "      <th>99</th>\n",
       "      <td>EDDB</td>\n",
       "      <td>LEPA</td>\n",
       "      <td>Palma De Mallorca</td>\n",
       "      <td>2024-10-08 11:55</td>\n",
       "      <td>SR 2097</td>\n",
       "    </tr>\n",
       "    <tr>\n",
       "      <th>100</th>\n",
       "      <td>EDDB</td>\n",
       "      <td>LLBG</td>\n",
       "      <td>Tel Aviv Yafo</td>\n",
       "      <td>2024-10-08 12:00</td>\n",
       "      <td>6H 253</td>\n",
       "    </tr>\n",
       "    <tr>\n",
       "      <th>101</th>\n",
       "      <td>EDDB</td>\n",
       "      <td>GCTS</td>\n",
       "      <td>Tenerife Island</td>\n",
       "      <td>2024-10-08 12:00</td>\n",
       "      <td>FR 2419</td>\n",
       "    </tr>\n",
       "    <tr>\n",
       "      <th>102</th>\n",
       "      <td>EDDB</td>\n",
       "      <td>ENBR</td>\n",
       "      <td>Bergen</td>\n",
       "      <td>2024-10-08 12:05</td>\n",
       "      <td>DY 1122</td>\n",
       "    </tr>\n",
       "  </tbody>\n",
       "</table>\n",
       "<p>103 rows × 5 columns</p>\n",
       "</div>"
      ],
      "text/plain": [
       "    arrival_airport_icao departure_airport_icao departure_airport_name  \\\n",
       "0                   EDDB                   LFPG                  Paris   \n",
       "1                   EDDB                   LTBJ                  İzmir   \n",
       "2                   EDDB                   KEWR                 Newark   \n",
       "3                   EDDB                   EDDF      Frankfurt-am-Main   \n",
       "4                   EDDB                   LTCC             Diyarbakır   \n",
       "..                   ...                    ...                    ...   \n",
       "98                  EDDB                   LTAI                Antalya   \n",
       "99                  EDDB                   LEPA      Palma De Mallorca   \n",
       "100                 EDDB                   LLBG          Tel Aviv Yafo   \n",
       "101                 EDDB                   GCTS        Tenerife Island   \n",
       "102                 EDDB                   ENBR                 Bergen   \n",
       "\n",
       "    scheduled_arrival_time flight_number  \n",
       "0         2024-10-08 05:40        5O 5DN  \n",
       "1         2024-10-08 06:30        XQ 966  \n",
       "2         2024-10-08 07:15        UA 962  \n",
       "3         2024-10-08 07:25        LH 172  \n",
       "4         2024-10-08 06:45       XQ 1700  \n",
       "..                     ...           ...  \n",
       "98        2024-10-08 11:35        XQ 160  \n",
       "99        2024-10-08 11:55       SR 2097  \n",
       "100       2024-10-08 12:00        6H 253  \n",
       "101       2024-10-08 12:00       FR 2419  \n",
       "102       2024-10-08 12:05       DY 1122  \n",
       "\n",
       "[103 rows x 5 columns]"
      ]
     },
     "execution_count": 45,
     "metadata": {},
     "output_type": "execute_result"
    }
   ],
   "source": [
    "flights_df[\"scheduled_arrival_time\"] = flights_df[\"scheduled_arrival_time\"].apply(lambda x: re.sub(r'\\+02:00', '', x))\n",
    "\n",
    "flights_df"
   ]
  },
  {
   "cell_type": "markdown",
   "metadata": {
    "id": "H2Wpy5Bz2f0V"
   },
   "source": [
    "While string slicing provides a quick solution to correcting the `scheduled_arrival_time` column, it's not the most robust approach. This is because it assumes that every cell in the column has the `+01:00` time zone offset. If there are cells without this offset, slicing would remove part of the time value, leading to inaccurate results.\n",
    "\n",
    "A more robust solution would involve using the `re.sub()` function from the re module. Feel free to look into this if you have extra time and are curious."
   ]
  },
  {
   "cell_type": "code",
   "execution_count": null,
   "metadata": {
    "id": "0XT24rrutMSS"
   },
   "outputs": [],
   "source": []
  },
  {
   "cell_type": "markdown",
   "metadata": {
    "id": "5wmsgtvz4ZtV"
   },
   "source": [
    "# Creating a function for multiple airports"
   ]
  },
  {
   "cell_type": "code",
   "execution_count": 21,
   "metadata": {
    "id": "nB1vN9jutMSS",
    "outputId": "d5652f09-829e-4c24-9220-bffe71222f1f"
   },
   "outputs": [
    {
     "data": {
      "text/plain": [
       "datetime.date(2024, 10, 8)"
      ]
     },
     "execution_count": 21,
     "metadata": {},
     "output_type": "execute_result"
    }
   ],
   "source": [
    "berlin_timezone = timezone('Europe/Berlin')\n",
    "today = datetime.now(berlin_timezone).date()\n",
    "today"
   ]
  },
  {
   "cell_type": "code",
   "execution_count": 53,
   "metadata": {
    "id": "lOh5hEpQtMST",
    "outputId": "b5ff514f-ff40-4c7e-add3-8c02882b9b8c"
   },
   "outputs": [
    {
     "data": {
      "text/plain": [
       "datetime.date(2024, 10, 9)"
      ]
     },
     "execution_count": 53,
     "metadata": {},
     "output_type": "execute_result"
    }
   ],
   "source": [
    "tomorrow = (today + timedelta(days=1))\n",
    "tomorrow"
   ]
  },
  {
   "cell_type": "code",
   "execution_count": null,
   "metadata": {
    "id": "lpNVRa-MtMST"
   },
   "outputs": [],
   "source": []
  },
  {
   "cell_type": "code",
   "execution_count": 25,
   "metadata": {
    "id": "NEhQE2FctMST",
    "outputId": "4b2a001e-bc46-43a4-fc81-c6163864cd3f",
    "tags": []
   },
   "outputs": [
    {
     "name": "stdout",
     "output_type": "stream",
     "text": [
      "00:00\n",
      "11:59\n",
      "12:00\n",
      "23:59\n"
     ]
    }
   ],
   "source": [
    "times = [[\"00:00\",\"11:59\"],\n",
    "        [\"12:00\",\"23:59\"]]\n",
    "\n",
    "for time in times:\n",
    "    print(time[0])\n",
    "    print(time[1])"
   ]
  },
  {
   "cell_type": "code",
   "execution_count": 27,
   "metadata": {
    "id": "npHV7mUo2QF8",
    "tags": []
   },
   "outputs": [],
   "source": [
    "import pandas as pd\n",
    "from datetime import datetime, timedelta\n",
    "import requests\n",
    "from pytz import timezone\n",
    "from keys import AeroDatabox\n",
    "\n",
    "def get_flight_data(icao_list):\n",
    "\n",
    "\n",
    "    api_key = AeroDatabox\n",
    "\n",
    "    berlin_timezone = timezone('Europe/Berlin')\n",
    "    today = datetime.now(berlin_timezone).date()\n",
    "    tomorrow = (today + timedelta(days=1))\n",
    "\n",
    "    flight_items = []\n",
    "\n",
    "    for icao in icao_list:\n",
    "        # the api can only make 12 hour calls, therefore, 2 12 hour calls make a full day\n",
    "        # using the nested lists below we can make a morning call and extract the data\n",
    "        # then make an afternoon call and extract the data\n",
    "        times = [[\"00:00\",\"11:59\"],\n",
    "                 [\"12:00\",\"23:59\"]]\n",
    "\n",
    "        for time in times:\n",
    "\n",
    "            url = f\"https://aerodatabox.p.rapidapi.com/flights/airports/icao/{icao}/{tomorrow}T{time[0]}/{tomorrow}T{time[1]}\"\n",
    "\n",
    "            querystring = {\"withLeg\":\"true\",\n",
    "                        \"direction\":\"Arrival\",\n",
    "                        \"withCancelled\":\"false\",\n",
    "                        \"withCodeshared\":\"true\",\n",
    "                        \"withCargo\":\"false\",\n",
    "                        \"withPrivate\":\"false\"}\n",
    "\n",
    "            headers = {\n",
    "              'x-rapidapi-host': \"aerodatabox.p.rapidapi.com\",\n",
    "              'x-rapidapi-key': api_key\n",
    "              }\n",
    "\n",
    "            response = requests.get(url, headers=headers, params=querystring)\n",
    "\n",
    "            flights_json = response.json()\n",
    "\n",
    "            retrieval_time = datetime.now(berlin_timezone).strftime(\"%Y-%m-%d %H:%M:%S\")\n",
    "\n",
    "            for item in flights_json[\"arrivals\"]:\n",
    "                flight_item = {\n",
    "                    \"arrival_airport_icao\": icao,\n",
    "                    \"departure_airport_icao\": item[\"departure\"][\"airport\"].get(\"icao\", None),\n",
    "                    \"departure_airport_name\": item[\"departure\"][\"airport\"].get(\"name\", None),\n",
    "                    \"scheduled_arrival_time\": item[\"arrival\"][\"scheduledTime\"].get(\"local\", None),\n",
    "                    \"flight_number\": item.get(\"number\", None),\n",
    "                    \"data_retrieved_at\": retrieval_time\n",
    "                }\n",
    "\n",
    "                flight_items.append(flight_item)\n",
    "\n",
    "    flights_df = pd.DataFrame(flight_items)\n",
    "    flights_df[\"scheduled_arrival_time\"] = flights_df[\"scheduled_arrival_time\"].str[:-6]\n",
    "    flights_df[\"scheduled_arrival_time\"] = pd.to_datetime(flights_df[\"scheduled_arrival_time\"])\n",
    "    flights_df[\"data_retrieved_at\"] = pd.to_datetime(flights_df[\"data_retrieved_at\"])\n",
    "\n",
    "    return flights_df"
   ]
  },
  {
   "cell_type": "code",
   "execution_count": 29,
   "metadata": {
    "colab": {
     "base_uri": "https://localhost:8080/",
     "height": 424
    },
    "id": "Mof8YsGM79gx",
    "outputId": "e4ad9526-ffc7-491a-df62-19ed1e5edf7c",
    "tags": []
   },
   "outputs": [
    {
     "data": {
      "text/html": [
       "<div>\n",
       "<style scoped>\n",
       "    .dataframe tbody tr th:only-of-type {\n",
       "        vertical-align: middle;\n",
       "    }\n",
       "\n",
       "    .dataframe tbody tr th {\n",
       "        vertical-align: top;\n",
       "    }\n",
       "\n",
       "    .dataframe thead th {\n",
       "        text-align: right;\n",
       "    }\n",
       "</style>\n",
       "<table border=\"1\" class=\"dataframe\">\n",
       "  <thead>\n",
       "    <tr style=\"text-align: right;\">\n",
       "      <th></th>\n",
       "      <th>arrival_airport_icao</th>\n",
       "      <th>departure_airport_icao</th>\n",
       "      <th>departure_airport_name</th>\n",
       "      <th>scheduled_arrival_time</th>\n",
       "      <th>flight_number</th>\n",
       "      <th>data_retrieved_at</th>\n",
       "    </tr>\n",
       "  </thead>\n",
       "  <tbody>\n",
       "    <tr>\n",
       "      <th>0</th>\n",
       "      <td>EDDB</td>\n",
       "      <td>LTBJ</td>\n",
       "      <td>İzmir</td>\n",
       "      <td>2024-10-09 06:30:00</td>\n",
       "      <td>XQ 966</td>\n",
       "      <td>2024-10-08 17:23:51</td>\n",
       "    </tr>\n",
       "    <tr>\n",
       "      <th>1</th>\n",
       "      <td>EDDB</td>\n",
       "      <td>LTFH</td>\n",
       "      <td>Samsun</td>\n",
       "      <td>2024-10-09 06:45:00</td>\n",
       "      <td>XQ 1768</td>\n",
       "      <td>2024-10-08 17:23:51</td>\n",
       "    </tr>\n",
       "    <tr>\n",
       "      <th>2</th>\n",
       "      <td>EDDB</td>\n",
       "      <td>ZBAA</td>\n",
       "      <td>Beijing</td>\n",
       "      <td>2024-10-09 06:45:00</td>\n",
       "      <td>HU 489</td>\n",
       "      <td>2024-10-08 17:23:51</td>\n",
       "    </tr>\n",
       "    <tr>\n",
       "      <th>3</th>\n",
       "      <td>EDDB</td>\n",
       "      <td>HEGN</td>\n",
       "      <td>Hurghada</td>\n",
       "      <td>2024-10-09 07:00:00</td>\n",
       "      <td>NE 3130</td>\n",
       "      <td>2024-10-08 17:23:51</td>\n",
       "    </tr>\n",
       "    <tr>\n",
       "      <th>4</th>\n",
       "      <td>EDDB</td>\n",
       "      <td>KEWR</td>\n",
       "      <td>Newark</td>\n",
       "      <td>2024-10-09 07:15:00</td>\n",
       "      <td>UA 962</td>\n",
       "      <td>2024-10-08 17:23:51</td>\n",
       "    </tr>\n",
       "    <tr>\n",
       "      <th>...</th>\n",
       "      <td>...</td>\n",
       "      <td>...</td>\n",
       "      <td>...</td>\n",
       "      <td>...</td>\n",
       "      <td>...</td>\n",
       "      <td>...</td>\n",
       "    </tr>\n",
       "    <tr>\n",
       "      <th>519</th>\n",
       "      <td>EDDH</td>\n",
       "      <td>GCTS</td>\n",
       "      <td>Tenerife Island</td>\n",
       "      <td>2024-10-09 22:30:00</td>\n",
       "      <td>DE 1449</td>\n",
       "      <td>2024-10-08 17:23:52</td>\n",
       "    </tr>\n",
       "    <tr>\n",
       "      <th>520</th>\n",
       "      <td>EDDH</td>\n",
       "      <td>LFPG</td>\n",
       "      <td>Paris</td>\n",
       "      <td>2024-10-09 22:30:00</td>\n",
       "      <td>AF 1610</td>\n",
       "      <td>2024-10-08 17:23:52</td>\n",
       "    </tr>\n",
       "    <tr>\n",
       "      <th>521</th>\n",
       "      <td>EDDH</td>\n",
       "      <td>LPFR</td>\n",
       "      <td>Faro</td>\n",
       "      <td>2024-10-09 22:35:00</td>\n",
       "      <td>EW 7641</td>\n",
       "      <td>2024-10-08 17:23:52</td>\n",
       "    </tr>\n",
       "    <tr>\n",
       "      <th>522</th>\n",
       "      <td>EDDH</td>\n",
       "      <td>LGIR</td>\n",
       "      <td>Heraklion</td>\n",
       "      <td>2024-10-09 22:35:00</td>\n",
       "      <td>DI 6835</td>\n",
       "      <td>2024-10-08 17:23:52</td>\n",
       "    </tr>\n",
       "    <tr>\n",
       "      <th>523</th>\n",
       "      <td>EDDH</td>\n",
       "      <td>LEMD</td>\n",
       "      <td>Madrid</td>\n",
       "      <td>2024-10-09 22:40:00</td>\n",
       "      <td>IB 3272</td>\n",
       "      <td>2024-10-08 17:23:52</td>\n",
       "    </tr>\n",
       "  </tbody>\n",
       "</table>\n",
       "<p>524 rows × 6 columns</p>\n",
       "</div>"
      ],
      "text/plain": [
       "    arrival_airport_icao departure_airport_icao departure_airport_name  \\\n",
       "0                   EDDB                   LTBJ                  İzmir   \n",
       "1                   EDDB                   LTFH                 Samsun   \n",
       "2                   EDDB                   ZBAA                Beijing   \n",
       "3                   EDDB                   HEGN               Hurghada   \n",
       "4                   EDDB                   KEWR                 Newark   \n",
       "..                   ...                    ...                    ...   \n",
       "519                 EDDH                   GCTS        Tenerife Island   \n",
       "520                 EDDH                   LFPG                  Paris   \n",
       "521                 EDDH                   LPFR                   Faro   \n",
       "522                 EDDH                   LGIR              Heraklion   \n",
       "523                 EDDH                   LEMD                 Madrid   \n",
       "\n",
       "    scheduled_arrival_time flight_number   data_retrieved_at  \n",
       "0      2024-10-09 06:30:00        XQ 966 2024-10-08 17:23:51  \n",
       "1      2024-10-09 06:45:00       XQ 1768 2024-10-08 17:23:51  \n",
       "2      2024-10-09 06:45:00        HU 489 2024-10-08 17:23:51  \n",
       "3      2024-10-09 07:00:00       NE 3130 2024-10-08 17:23:51  \n",
       "4      2024-10-09 07:15:00        UA 962 2024-10-08 17:23:51  \n",
       "..                     ...           ...                 ...  \n",
       "519    2024-10-09 22:30:00       DE 1449 2024-10-08 17:23:52  \n",
       "520    2024-10-09 22:30:00       AF 1610 2024-10-08 17:23:52  \n",
       "521    2024-10-09 22:35:00       EW 7641 2024-10-08 17:23:52  \n",
       "522    2024-10-09 22:35:00       DI 6835 2024-10-08 17:23:52  \n",
       "523    2024-10-09 22:40:00       IB 3272 2024-10-08 17:23:52  \n",
       "\n",
       "[524 rows x 6 columns]"
      ]
     },
     "execution_count": 29,
     "metadata": {},
     "output_type": "execute_result"
    }
   ],
   "source": [
    "icao_list = [\"EDDB\", \"EDDH\"]\n",
    "\n",
    "flights_to_db = get_flight_data(icao_list)\n",
    "flights_to_db"
   ]
  },
  {
   "cell_type": "code",
   "execution_count": null,
   "metadata": {
    "id": "haOtNzgStMST"
   },
   "outputs": [],
   "source": []
  }
 ],
 "metadata": {
  "colab": {
   "provenance": []
  },
  "kernelspec": {
   "display_name": "Python 3 (ipykernel)",
   "language": "python",
   "name": "python3"
  },
  "language_info": {
   "codemirror_mode": {
    "name": "ipython",
    "version": 3
   },
   "file_extension": ".py",
   "mimetype": "text/x-python",
   "name": "python",
   "nbconvert_exporter": "python",
   "pygments_lexer": "ipython3",
   "version": "3.12.4"
  }
 },
 "nbformat": 4,
 "nbformat_minor": 4
}
